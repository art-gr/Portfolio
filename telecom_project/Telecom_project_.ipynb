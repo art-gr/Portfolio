{
  "nbformat": 4,
  "nbformat_minor": 0,
  "metadata": {
    "colab": {
      "name": "Telecom_project_git.ipynb",
      "provenance": [],
      "collapsed_sections": [
        "oK8XLIO_GAdH",
        "fvm08hZyISz4",
        "VxpgbOZGaKJy",
        "CYyheqQWWjKZ",
        "So4p0wLUhJfI"
      ],
      "toc_visible": true
    },
    "kernelspec": {
      "display_name": "Python 3",
      "language": "python",
      "name": "python3"
    },
    "language_info": {
      "codemirror_mode": {
        "name": "ipython",
        "version": 3
      },
      "file_extension": ".py",
      "mimetype": "text/x-python",
      "name": "python",
      "nbconvert_exporter": "python",
      "pygments_lexer": "ipython3",
      "version": "3.7.9"
    }
  },
  "cells": [
    {
      "cell_type": "markdown",
      "metadata": {
        "id": "cCAwKQrfWjKV"
      },
      "source": [
        "# Description of the data\n",
        "\n",
        "The datasets contain data on the use of the virtual telephony service CallMeMaybe. Its clients are organizations that need to distribute large numbers of incoming calls among various operators or make outgoing calls through their operators. Operators can also make internal calls to communicate with one another. These calls go through CallMeMaybe's network.<p>\n",
        "dataset `telecom_dataset_us.csv` contains the following columns:\n",
        "\n",
        "- `user_id` — client account ID\n",
        "- `date` — date the statistics were retrieved\n",
        "- `direction` — call direction (`out` for outgoing, `in` for incoming)\n",
        "- `internal` — whether the call was internal (between a client's operators)\n",
        "- `operator_id` — operator identifier\n",
        "- `is_missed_call` — whether the call was missed\n",
        "- `calls_count` — number of calls\n",
        "- `call_duration` — call duration (excluding waiting time)\n",
        "- `total_call_duration` — call duration (including waiting time)\n",
        "\n",
        " \n",
        "\n",
        "The dataset `telecom_clients_us.csv` has the following columns:\n",
        "\n",
        "- `user_id`\n",
        "- `tariff_plan` — client's current plan\n",
        "- `date_start` — client's registration date\n",
        "    \n",
        "    \n",
        "__Table of Content__<p> <a class=\"anchor\" id=\"content1\"></a>\n",
        "\n",
        "* [Step 1. study general information about calls in CallMeMaybe's network](#step1)\n",
        "* [Step 2. Data preprocessing](#step2)\n",
        "* [Step 3. Exploratory Data Analysis (EDA)](#step3)\n",
        "* [Step 4. Determine ineffective operators](#step4)\n",
        "* [Step 5. Test hypotheses](#step5)\n",
        "* [Step 6. Conclusions](#step6)\n",
        "* [Step 7. Resources](#step7)    \n",
        "* [Step 8. Visualization using Tableu](#step8)\n"
      ]
    },
    {
      "cell_type": "markdown",
      "metadata": {
        "id": "ApZksDQGhJqm"
      },
      "source": [
        "# Step 1: study general information about calls in CallMeMaybe's network <a class=\"anchor\" id=\"step1\"></a>\n",
        "- quick look at number of rows and type of columns\n",
        "- for for existing NaN values"
      ]
    },
    {
      "cell_type": "code",
      "metadata": {
        "id": "rBPGDFV-p_Fm"
      },
      "source": [
        "# imports:\n",
        "import pandas as pd\n",
        "import numpy as np\n",
        "import matplotlib.pyplot as plt\n",
        "import matplotlib\n",
        "import matplotlib.ticker as ticker\n",
        "import matplotlib.dates as mdates\n",
        "import pylab\n",
        "import seaborn as sns\n",
        "from plotly import graph_objects as go\n",
        "from scipy import stats\n",
        "import datetime\n",
        "from datetime import datetime\n",
        "from scipy import stats as st\n",
        "import math\n",
        "import math as mth\n",
        "import sys\n",
        "from IPython.display import display\n",
        "import warnings\n",
        "if not sys.warnoptions:\n",
        "       warnings.simplefilter(\"ignore\")\n",
        "import warnings\n",
        "warnings.filterwarnings('ignore')\n"
      ],
      "execution_count": 1,
      "outputs": []
    },
    {
      "cell_type": "code",
      "metadata": {
        "id": "ThaEeM12rEN_"
      },
      "source": [
        "# local\n",
        "df_clients = pd.read_csv('/content/telecom_clients_us.csv',\n",
        "                         parse_dates=['date_start'],\n",
        "                         dtype={'tariff_plan':'category'})\n",
        "\n",
        "df_data = pd.read_csv('/content/telecom_dataset_us.csv',\n",
        "                      parse_dates=['date'],\n",
        "                      dtype={'direction':'category','operator_id':'object'})"
      ],
      "execution_count": 2,
      "outputs": []
    },
    {
      "cell_type": "code",
      "metadata": {
        "colab": {
          "base_uri": "https://localhost:8080/",
          "height": 195
        },
        "id": "lTuHFT3sBbH-",
        "outputId": "58fa356b-935d-4fc3-aa66-1fe4df59c525"
      },
      "source": [
        "df_data.head()"
      ],
      "execution_count": 3,
      "outputs": [
        {
          "output_type": "execute_result",
          "data": {
            "text/html": [
              "<div>\n",
              "<style scoped>\n",
              "    .dataframe tbody tr th:only-of-type {\n",
              "        vertical-align: middle;\n",
              "    }\n",
              "\n",
              "    .dataframe tbody tr th {\n",
              "        vertical-align: top;\n",
              "    }\n",
              "\n",
              "    .dataframe thead th {\n",
              "        text-align: right;\n",
              "    }\n",
              "</style>\n",
              "<table border=\"1\" class=\"dataframe\">\n",
              "  <thead>\n",
              "    <tr style=\"text-align: right;\">\n",
              "      <th></th>\n",
              "      <th>user_id</th>\n",
              "      <th>date</th>\n",
              "      <th>direction</th>\n",
              "      <th>internal</th>\n",
              "      <th>operator_id</th>\n",
              "      <th>is_missed_call</th>\n",
              "      <th>calls_count</th>\n",
              "      <th>call_duration</th>\n",
              "      <th>total_call_duration</th>\n",
              "    </tr>\n",
              "  </thead>\n",
              "  <tbody>\n",
              "    <tr>\n",
              "      <th>0</th>\n",
              "      <td>166377</td>\n",
              "      <td>2019-08-04 00:00:00+03:00</td>\n",
              "      <td>in</td>\n",
              "      <td>False</td>\n",
              "      <td>NaN</td>\n",
              "      <td>True</td>\n",
              "      <td>2</td>\n",
              "      <td>0</td>\n",
              "      <td>4</td>\n",
              "    </tr>\n",
              "    <tr>\n",
              "      <th>1</th>\n",
              "      <td>166377</td>\n",
              "      <td>2019-08-05 00:00:00+03:00</td>\n",
              "      <td>out</td>\n",
              "      <td>True</td>\n",
              "      <td>880022</td>\n",
              "      <td>True</td>\n",
              "      <td>3</td>\n",
              "      <td>0</td>\n",
              "      <td>5</td>\n",
              "    </tr>\n",
              "    <tr>\n",
              "      <th>2</th>\n",
              "      <td>166377</td>\n",
              "      <td>2019-08-05 00:00:00+03:00</td>\n",
              "      <td>out</td>\n",
              "      <td>True</td>\n",
              "      <td>880020</td>\n",
              "      <td>True</td>\n",
              "      <td>1</td>\n",
              "      <td>0</td>\n",
              "      <td>1</td>\n",
              "    </tr>\n",
              "    <tr>\n",
              "      <th>3</th>\n",
              "      <td>166377</td>\n",
              "      <td>2019-08-05 00:00:00+03:00</td>\n",
              "      <td>out</td>\n",
              "      <td>True</td>\n",
              "      <td>880020</td>\n",
              "      <td>False</td>\n",
              "      <td>1</td>\n",
              "      <td>10</td>\n",
              "      <td>18</td>\n",
              "    </tr>\n",
              "    <tr>\n",
              "      <th>4</th>\n",
              "      <td>166377</td>\n",
              "      <td>2019-08-05 00:00:00+03:00</td>\n",
              "      <td>out</td>\n",
              "      <td>False</td>\n",
              "      <td>880022</td>\n",
              "      <td>True</td>\n",
              "      <td>3</td>\n",
              "      <td>0</td>\n",
              "      <td>25</td>\n",
              "    </tr>\n",
              "  </tbody>\n",
              "</table>\n",
              "</div>"
            ],
            "text/plain": [
              "   user_id                      date  ... call_duration total_call_duration\n",
              "0   166377 2019-08-04 00:00:00+03:00  ...             0                   4\n",
              "1   166377 2019-08-05 00:00:00+03:00  ...             0                   5\n",
              "2   166377 2019-08-05 00:00:00+03:00  ...             0                   1\n",
              "3   166377 2019-08-05 00:00:00+03:00  ...            10                  18\n",
              "4   166377 2019-08-05 00:00:00+03:00  ...             0                  25\n",
              "\n",
              "[5 rows x 9 columns]"
            ]
          },
          "metadata": {
            "tags": []
          },
          "execution_count": 3
        }
      ]
    },
    {
      "cell_type": "markdown",
      "metadata": {
        "id": "Ajlxndvfr90S"
      },
      "source": [
        "_clients_"
      ]
    },
    {
      "cell_type": "code",
      "metadata": {
        "colab": {
          "base_uri": "https://localhost:8080/",
          "height": 106
        },
        "id": "wYBGfIEhrELD",
        "outputId": "e797f9a4-2131-4b9b-843e-b19dce8a36ba"
      },
      "source": [
        "df_clients.head(2)"
      ],
      "execution_count": 4,
      "outputs": [
        {
          "output_type": "execute_result",
          "data": {
            "text/html": [
              "<div>\n",
              "<style scoped>\n",
              "    .dataframe tbody tr th:only-of-type {\n",
              "        vertical-align: middle;\n",
              "    }\n",
              "\n",
              "    .dataframe tbody tr th {\n",
              "        vertical-align: top;\n",
              "    }\n",
              "\n",
              "    .dataframe thead th {\n",
              "        text-align: right;\n",
              "    }\n",
              "</style>\n",
              "<table border=\"1\" class=\"dataframe\">\n",
              "  <thead>\n",
              "    <tr style=\"text-align: right;\">\n",
              "      <th></th>\n",
              "      <th>user_id</th>\n",
              "      <th>tariff_plan</th>\n",
              "      <th>date_start</th>\n",
              "    </tr>\n",
              "  </thead>\n",
              "  <tbody>\n",
              "    <tr>\n",
              "      <th>0</th>\n",
              "      <td>166713</td>\n",
              "      <td>A</td>\n",
              "      <td>2019-08-15</td>\n",
              "    </tr>\n",
              "    <tr>\n",
              "      <th>1</th>\n",
              "      <td>166901</td>\n",
              "      <td>A</td>\n",
              "      <td>2019-08-23</td>\n",
              "    </tr>\n",
              "  </tbody>\n",
              "</table>\n",
              "</div>"
            ],
            "text/plain": [
              "   user_id tariff_plan date_start\n",
              "0   166713           A 2019-08-15\n",
              "1   166901           A 2019-08-23"
            ]
          },
          "metadata": {
            "tags": []
          },
          "execution_count": 4
        }
      ]
    },
    {
      "cell_type": "code",
      "metadata": {
        "colab": {
          "base_uri": "https://localhost:8080/"
        },
        "id": "LVcwKFforEH3",
        "outputId": "630984f8-554f-4468-f175-ed047b339056"
      },
      "source": [
        "df_clients.info()"
      ],
      "execution_count": 5,
      "outputs": [
        {
          "output_type": "stream",
          "text": [
            "<class 'pandas.core.frame.DataFrame'>\n",
            "RangeIndex: 732 entries, 0 to 731\n",
            "Data columns (total 3 columns):\n",
            " #   Column       Non-Null Count  Dtype         \n",
            "---  ------       --------------  -----         \n",
            " 0   user_id      732 non-null    int64         \n",
            " 1   tariff_plan  732 non-null    category      \n",
            " 2   date_start   732 non-null    datetime64[ns]\n",
            "dtypes: category(1), datetime64[ns](1), int64(1)\n",
            "memory usage: 12.4 KB\n"
          ],
          "name": "stdout"
        }
      ]
    },
    {
      "cell_type": "code",
      "metadata": {
        "colab": {
          "base_uri": "https://localhost:8080/",
          "height": 432
        },
        "id": "m6R34gGct6gQ",
        "outputId": "d37ca0c0-3656-436b-dd4f-071e67eccb5b"
      },
      "source": [
        "df_clients.describe(include='all')"
      ],
      "execution_count": 6,
      "outputs": [
        {
          "output_type": "execute_result",
          "data": {
            "text/html": [
              "<div>\n",
              "<style scoped>\n",
              "    .dataframe tbody tr th:only-of-type {\n",
              "        vertical-align: middle;\n",
              "    }\n",
              "\n",
              "    .dataframe tbody tr th {\n",
              "        vertical-align: top;\n",
              "    }\n",
              "\n",
              "    .dataframe thead th {\n",
              "        text-align: right;\n",
              "    }\n",
              "</style>\n",
              "<table border=\"1\" class=\"dataframe\">\n",
              "  <thead>\n",
              "    <tr style=\"text-align: right;\">\n",
              "      <th></th>\n",
              "      <th>user_id</th>\n",
              "      <th>tariff_plan</th>\n",
              "      <th>date_start</th>\n",
              "    </tr>\n",
              "  </thead>\n",
              "  <tbody>\n",
              "    <tr>\n",
              "      <th>count</th>\n",
              "      <td>732.000000</td>\n",
              "      <td>732</td>\n",
              "      <td>732</td>\n",
              "    </tr>\n",
              "    <tr>\n",
              "      <th>unique</th>\n",
              "      <td>NaN</td>\n",
              "      <td>3</td>\n",
              "      <td>73</td>\n",
              "    </tr>\n",
              "    <tr>\n",
              "      <th>top</th>\n",
              "      <td>NaN</td>\n",
              "      <td>C</td>\n",
              "      <td>2019-09-24 00:00:00</td>\n",
              "    </tr>\n",
              "    <tr>\n",
              "      <th>freq</th>\n",
              "      <td>NaN</td>\n",
              "      <td>395</td>\n",
              "      <td>24</td>\n",
              "    </tr>\n",
              "    <tr>\n",
              "      <th>first</th>\n",
              "      <td>NaN</td>\n",
              "      <td>NaN</td>\n",
              "      <td>2019-08-01 00:00:00</td>\n",
              "    </tr>\n",
              "    <tr>\n",
              "      <th>last</th>\n",
              "      <td>NaN</td>\n",
              "      <td>NaN</td>\n",
              "      <td>2019-10-31 00:00:00</td>\n",
              "    </tr>\n",
              "    <tr>\n",
              "      <th>mean</th>\n",
              "      <td>167431.927596</td>\n",
              "      <td>NaN</td>\n",
              "      <td>NaN</td>\n",
              "    </tr>\n",
              "    <tr>\n",
              "      <th>std</th>\n",
              "      <td>633.810383</td>\n",
              "      <td>NaN</td>\n",
              "      <td>NaN</td>\n",
              "    </tr>\n",
              "    <tr>\n",
              "      <th>min</th>\n",
              "      <td>166373.000000</td>\n",
              "      <td>NaN</td>\n",
              "      <td>NaN</td>\n",
              "    </tr>\n",
              "    <tr>\n",
              "      <th>25%</th>\n",
              "      <td>166900.750000</td>\n",
              "      <td>NaN</td>\n",
              "      <td>NaN</td>\n",
              "    </tr>\n",
              "    <tr>\n",
              "      <th>50%</th>\n",
              "      <td>167432.000000</td>\n",
              "      <td>NaN</td>\n",
              "      <td>NaN</td>\n",
              "    </tr>\n",
              "    <tr>\n",
              "      <th>75%</th>\n",
              "      <td>167973.000000</td>\n",
              "      <td>NaN</td>\n",
              "      <td>NaN</td>\n",
              "    </tr>\n",
              "    <tr>\n",
              "      <th>max</th>\n",
              "      <td>168606.000000</td>\n",
              "      <td>NaN</td>\n",
              "      <td>NaN</td>\n",
              "    </tr>\n",
              "  </tbody>\n",
              "</table>\n",
              "</div>"
            ],
            "text/plain": [
              "              user_id tariff_plan           date_start\n",
              "count      732.000000         732                  732\n",
              "unique            NaN           3                   73\n",
              "top               NaN           C  2019-09-24 00:00:00\n",
              "freq              NaN         395                   24\n",
              "first             NaN         NaN  2019-08-01 00:00:00\n",
              "last              NaN         NaN  2019-10-31 00:00:00\n",
              "mean    167431.927596         NaN                  NaN\n",
              "std        633.810383         NaN                  NaN\n",
              "min     166373.000000         NaN                  NaN\n",
              "25%     166900.750000         NaN                  NaN\n",
              "50%     167432.000000         NaN                  NaN\n",
              "75%     167973.000000         NaN                  NaN\n",
              "max     168606.000000         NaN                  NaN"
            ]
          },
          "metadata": {
            "tags": []
          },
          "execution_count": 6
        }
      ]
    },
    {
      "cell_type": "code",
      "metadata": {
        "colab": {
          "base_uri": "https://localhost:8080/",
          "height": 592
        },
        "id": "0O7LCw3qrEES",
        "outputId": "1a40aa7f-9e88-46aa-fa60-6aed846d61a8"
      },
      "source": [
        "for col in df_clients.columns:\n",
        "  display(df_clients[col].value_counts())\n",
        "  display('number of Nan {}'.format(df_clients[col].isna().sum()))\n",
        "  print()"
      ],
      "execution_count": 7,
      "outputs": [
        {
          "output_type": "display_data",
          "data": {
            "text/plain": [
              "166926    1\n",
              "168227    1\n",
              "166377    1\n",
              "168284    1\n",
              "168281    1\n",
              "         ..\n",
              "167580    1\n",
              "166555    1\n",
              "167981    1\n",
              "168601    1\n",
              "167936    1\n",
              "Name: user_id, Length: 732, dtype: int64"
            ]
          },
          "metadata": {
            "tags": []
          }
        },
        {
          "output_type": "display_data",
          "data": {
            "application/vnd.google.colaboratory.intrinsic+json": {
              "type": "string"
            },
            "text/plain": [
              "'number of Nan 0'"
            ]
          },
          "metadata": {
            "tags": []
          }
        },
        {
          "output_type": "stream",
          "text": [
            "\n"
          ],
          "name": "stdout"
        },
        {
          "output_type": "display_data",
          "data": {
            "text/plain": [
              "C    395\n",
              "B    261\n",
              "A     76\n",
              "Name: tariff_plan, dtype: int64"
            ]
          },
          "metadata": {
            "tags": []
          }
        },
        {
          "output_type": "display_data",
          "data": {
            "application/vnd.google.colaboratory.intrinsic+json": {
              "type": "string"
            },
            "text/plain": [
              "'number of Nan 0'"
            ]
          },
          "metadata": {
            "tags": []
          }
        },
        {
          "output_type": "stream",
          "text": [
            "\n"
          ],
          "name": "stdout"
        },
        {
          "output_type": "display_data",
          "data": {
            "text/plain": [
              "2019-09-24    24\n",
              "2019-10-09    20\n",
              "2019-10-07    19\n",
              "2019-08-29    18\n",
              "2019-09-18    18\n",
              "              ..\n",
              "2019-10-26     1\n",
              "2019-09-21     1\n",
              "2019-09-01     1\n",
              "2019-10-20     1\n",
              "2019-10-19     1\n",
              "Name: date_start, Length: 73, dtype: int64"
            ]
          },
          "metadata": {
            "tags": []
          }
        },
        {
          "output_type": "display_data",
          "data": {
            "application/vnd.google.colaboratory.intrinsic+json": {
              "type": "string"
            },
            "text/plain": [
              "'number of Nan 0'"
            ]
          },
          "metadata": {
            "tags": []
          }
        },
        {
          "output_type": "stream",
          "text": [
            "\n"
          ],
          "name": "stdout"
        }
      ]
    },
    {
      "cell_type": "markdown",
      "metadata": {
        "id": "MfBRTUw3tXQu"
      },
      "source": [
        "- total of 3 groups within tariffs plan\n",
        "- every user appear only one time which means all the clients are unqie with no dupps to be considered\n",
        "- dates are from Aug 1st till end of October"
      ]
    },
    {
      "cell_type": "markdown",
      "metadata": {
        "id": "f41x3743ubI0"
      },
      "source": [
        "_dataset_"
      ]
    },
    {
      "cell_type": "code",
      "metadata": {
        "colab": {
          "base_uri": "https://localhost:8080/",
          "height": 106
        },
        "id": "UvQPGH5XrEA3",
        "outputId": "cee794a6-cc29-4140-b701-3d75f4115be9"
      },
      "source": [
        "df_data.tail(2)"
      ],
      "execution_count": 8,
      "outputs": [
        {
          "output_type": "execute_result",
          "data": {
            "text/html": [
              "<div>\n",
              "<style scoped>\n",
              "    .dataframe tbody tr th:only-of-type {\n",
              "        vertical-align: middle;\n",
              "    }\n",
              "\n",
              "    .dataframe tbody tr th {\n",
              "        vertical-align: top;\n",
              "    }\n",
              "\n",
              "    .dataframe thead th {\n",
              "        text-align: right;\n",
              "    }\n",
              "</style>\n",
              "<table border=\"1\" class=\"dataframe\">\n",
              "  <thead>\n",
              "    <tr style=\"text-align: right;\">\n",
              "      <th></th>\n",
              "      <th>user_id</th>\n",
              "      <th>date</th>\n",
              "      <th>direction</th>\n",
              "      <th>internal</th>\n",
              "      <th>operator_id</th>\n",
              "      <th>is_missed_call</th>\n",
              "      <th>calls_count</th>\n",
              "      <th>call_duration</th>\n",
              "      <th>total_call_duration</th>\n",
              "    </tr>\n",
              "  </thead>\n",
              "  <tbody>\n",
              "    <tr>\n",
              "      <th>53900</th>\n",
              "      <td>168606</td>\n",
              "      <td>2019-11-15 00:00:00+03:00</td>\n",
              "      <td>out</td>\n",
              "      <td>True</td>\n",
              "      <td>957922</td>\n",
              "      <td>False</td>\n",
              "      <td>4</td>\n",
              "      <td>3130</td>\n",
              "      <td>3190</td>\n",
              "    </tr>\n",
              "    <tr>\n",
              "      <th>53901</th>\n",
              "      <td>168606</td>\n",
              "      <td>2019-11-19 00:00:00+03:00</td>\n",
              "      <td>in</td>\n",
              "      <td>False</td>\n",
              "      <td>NaN</td>\n",
              "      <td>True</td>\n",
              "      <td>2</td>\n",
              "      <td>0</td>\n",
              "      <td>64</td>\n",
              "    </tr>\n",
              "  </tbody>\n",
              "</table>\n",
              "</div>"
            ],
            "text/plain": [
              "       user_id                      date  ... call_duration total_call_duration\n",
              "53900   168606 2019-11-15 00:00:00+03:00  ...          3130                3190\n",
              "53901   168606 2019-11-19 00:00:00+03:00  ...             0                  64\n",
              "\n",
              "[2 rows x 9 columns]"
            ]
          },
          "metadata": {
            "tags": []
          },
          "execution_count": 8
        }
      ]
    },
    {
      "cell_type": "code",
      "metadata": {
        "colab": {
          "base_uri": "https://localhost:8080/"
        },
        "id": "P01CAaLkAzIm",
        "outputId": "4b4fd914-6e60-4c23-e6cb-ce017221531d"
      },
      "source": [
        "df_data.info()\n",
        "# will deal with NaN values an dtype correcetion in the next block\n",
        "# at the moment we only looking at the df"
      ],
      "execution_count": 9,
      "outputs": [
        {
          "output_type": "stream",
          "text": [
            "<class 'pandas.core.frame.DataFrame'>\n",
            "RangeIndex: 53902 entries, 0 to 53901\n",
            "Data columns (total 9 columns):\n",
            " #   Column               Non-Null Count  Dtype                                \n",
            "---  ------               --------------  -----                                \n",
            " 0   user_id              53902 non-null  int64                                \n",
            " 1   date                 53902 non-null  datetime64[ns, pytz.FixedOffset(180)]\n",
            " 2   direction            53902 non-null  category                             \n",
            " 3   internal             53785 non-null  object                               \n",
            " 4   operator_id          45730 non-null  object                               \n",
            " 5   is_missed_call       53902 non-null  bool                                 \n",
            " 6   calls_count          53902 non-null  int64                                \n",
            " 7   call_duration        53902 non-null  int64                                \n",
            " 8   total_call_duration  53902 non-null  int64                                \n",
            "dtypes: bool(1), category(1), datetime64[ns, pytz.FixedOffset(180)](1), int64(4), object(2)\n",
            "memory usage: 3.0+ MB\n"
          ],
          "name": "stdout"
        }
      ]
    },
    {
      "cell_type": "code",
      "metadata": {
        "colab": {
          "base_uri": "https://localhost:8080/",
          "height": 284
        },
        "id": "3cdZvcIs-Lv0",
        "outputId": "4b16ae51-07f0-4403-d79f-87efe260f8dc"
      },
      "source": [
        "df_data.describe()"
      ],
      "execution_count": 10,
      "outputs": [
        {
          "output_type": "execute_result",
          "data": {
            "text/html": [
              "<div>\n",
              "<style scoped>\n",
              "    .dataframe tbody tr th:only-of-type {\n",
              "        vertical-align: middle;\n",
              "    }\n",
              "\n",
              "    .dataframe tbody tr th {\n",
              "        vertical-align: top;\n",
              "    }\n",
              "\n",
              "    .dataframe thead th {\n",
              "        text-align: right;\n",
              "    }\n",
              "</style>\n",
              "<table border=\"1\" class=\"dataframe\">\n",
              "  <thead>\n",
              "    <tr style=\"text-align: right;\">\n",
              "      <th></th>\n",
              "      <th>user_id</th>\n",
              "      <th>calls_count</th>\n",
              "      <th>call_duration</th>\n",
              "      <th>total_call_duration</th>\n",
              "    </tr>\n",
              "  </thead>\n",
              "  <tbody>\n",
              "    <tr>\n",
              "      <th>count</th>\n",
              "      <td>53902.000000</td>\n",
              "      <td>53902.000000</td>\n",
              "      <td>53902.000000</td>\n",
              "      <td>53902.000000</td>\n",
              "    </tr>\n",
              "    <tr>\n",
              "      <th>mean</th>\n",
              "      <td>167295.344477</td>\n",
              "      <td>16.451245</td>\n",
              "      <td>866.684427</td>\n",
              "      <td>1157.133297</td>\n",
              "    </tr>\n",
              "    <tr>\n",
              "      <th>std</th>\n",
              "      <td>598.883775</td>\n",
              "      <td>62.917170</td>\n",
              "      <td>3731.791202</td>\n",
              "      <td>4403.468763</td>\n",
              "    </tr>\n",
              "    <tr>\n",
              "      <th>min</th>\n",
              "      <td>166377.000000</td>\n",
              "      <td>1.000000</td>\n",
              "      <td>0.000000</td>\n",
              "      <td>0.000000</td>\n",
              "    </tr>\n",
              "    <tr>\n",
              "      <th>25%</th>\n",
              "      <td>166782.000000</td>\n",
              "      <td>1.000000</td>\n",
              "      <td>0.000000</td>\n",
              "      <td>47.000000</td>\n",
              "    </tr>\n",
              "    <tr>\n",
              "      <th>50%</th>\n",
              "      <td>167162.000000</td>\n",
              "      <td>4.000000</td>\n",
              "      <td>38.000000</td>\n",
              "      <td>210.000000</td>\n",
              "    </tr>\n",
              "    <tr>\n",
              "      <th>75%</th>\n",
              "      <td>167819.000000</td>\n",
              "      <td>12.000000</td>\n",
              "      <td>572.000000</td>\n",
              "      <td>902.000000</td>\n",
              "    </tr>\n",
              "    <tr>\n",
              "      <th>max</th>\n",
              "      <td>168606.000000</td>\n",
              "      <td>4817.000000</td>\n",
              "      <td>144395.000000</td>\n",
              "      <td>166155.000000</td>\n",
              "    </tr>\n",
              "  </tbody>\n",
              "</table>\n",
              "</div>"
            ],
            "text/plain": [
              "             user_id   calls_count  call_duration  total_call_duration\n",
              "count   53902.000000  53902.000000   53902.000000         53902.000000\n",
              "mean   167295.344477     16.451245     866.684427          1157.133297\n",
              "std       598.883775     62.917170    3731.791202          4403.468763\n",
              "min    166377.000000      1.000000       0.000000             0.000000\n",
              "25%    166782.000000      1.000000       0.000000            47.000000\n",
              "50%    167162.000000      4.000000      38.000000           210.000000\n",
              "75%    167819.000000     12.000000     572.000000           902.000000\n",
              "max    168606.000000   4817.000000  144395.000000        166155.000000"
            ]
          },
          "metadata": {
            "tags": []
          },
          "execution_count": 10
        }
      ]
    },
    {
      "cell_type": "markdown",
      "metadata": {
        "id": "Gqj9JWfR-idB"
      },
      "source": [
        "- outliers noted by looking at max values of duration & count columns \n",
        "- later we will take care of missing values"
      ]
    },
    {
      "cell_type": "markdown",
      "metadata": {
        "id": "QyrHUP8JVquG"
      },
      "source": [
        "[Back to ToC](#content1)"
      ]
    },
    {
      "cell_type": "markdown",
      "metadata": {
        "id": "n5rpxknphJnP"
      },
      "source": [
        "# Step 2: Data preprocessing: <a class=\"anchor\" id=\"step2\"></a>\n"
      ]
    },
    {
      "cell_type": "markdown",
      "metadata": {
        "id": "GC6En8jWET1b"
      },
      "source": [
        "- ## Deal with missing values:\n",
        "first we make segregation between categorical and quantitative data whereas unintentional and intentional missing values<p>\n",
        "only at the end we replace nulls with:\n",
        "  - Calculated values\n",
        "  - Default values\n",
        "  - Representative values\n",
        "- ## Transform data from one type to another (into datetime, int, float and e.g)\n",
        "- ## Make all data into overall look: lowercase to identify duplicate data:\n",
        "  - remove dupps from the data frame"
      ]
    },
    {
      "cell_type": "code",
      "metadata": {
        "colab": {
          "base_uri": "https://localhost:8080/"
        },
        "id": "Fjw5c0Hj5-wI",
        "outputId": "eee3088d-acd4-47c0-a10c-31ad0e558467"
      },
      "source": [
        "# in order to set 'internal' col as bool we need to \"fix\" the null values:\n",
        "df_data[df_data['internal'].isna()].count()\n",
        "# it leads us to 117 rows overall which are below 1% of total data"
      ],
      "execution_count": 11,
      "outputs": [
        {
          "output_type": "execute_result",
          "data": {
            "text/plain": [
              "user_id                117\n",
              "date                   117\n",
              "direction              117\n",
              "internal                 0\n",
              "operator_id             60\n",
              "is_missed_call         117\n",
              "calls_count            117\n",
              "call_duration          117\n",
              "total_call_duration    117\n",
              "dtype: int64"
            ]
          },
          "metadata": {
            "tags": []
          },
          "execution_count": 11
        }
      ]
    },
    {
      "cell_type": "code",
      "metadata": {
        "colab": {
          "base_uri": "https://localhost:8080/",
          "height": 136
        },
        "id": "73gBGubu6vpC",
        "outputId": "cabeceb4-848d-4b86-e8ba-78724e8267bc"
      },
      "source": [
        "# lets drop these rows:\n",
        "df_data = df_data[~df_data['internal'].isna()]\n",
        "df_data.head(3)"
      ],
      "execution_count": 12,
      "outputs": [
        {
          "output_type": "execute_result",
          "data": {
            "text/html": [
              "<div>\n",
              "<style scoped>\n",
              "    .dataframe tbody tr th:only-of-type {\n",
              "        vertical-align: middle;\n",
              "    }\n",
              "\n",
              "    .dataframe tbody tr th {\n",
              "        vertical-align: top;\n",
              "    }\n",
              "\n",
              "    .dataframe thead th {\n",
              "        text-align: right;\n",
              "    }\n",
              "</style>\n",
              "<table border=\"1\" class=\"dataframe\">\n",
              "  <thead>\n",
              "    <tr style=\"text-align: right;\">\n",
              "      <th></th>\n",
              "      <th>user_id</th>\n",
              "      <th>date</th>\n",
              "      <th>direction</th>\n",
              "      <th>internal</th>\n",
              "      <th>operator_id</th>\n",
              "      <th>is_missed_call</th>\n",
              "      <th>calls_count</th>\n",
              "      <th>call_duration</th>\n",
              "      <th>total_call_duration</th>\n",
              "    </tr>\n",
              "  </thead>\n",
              "  <tbody>\n",
              "    <tr>\n",
              "      <th>0</th>\n",
              "      <td>166377</td>\n",
              "      <td>2019-08-04 00:00:00+03:00</td>\n",
              "      <td>in</td>\n",
              "      <td>False</td>\n",
              "      <td>NaN</td>\n",
              "      <td>True</td>\n",
              "      <td>2</td>\n",
              "      <td>0</td>\n",
              "      <td>4</td>\n",
              "    </tr>\n",
              "    <tr>\n",
              "      <th>1</th>\n",
              "      <td>166377</td>\n",
              "      <td>2019-08-05 00:00:00+03:00</td>\n",
              "      <td>out</td>\n",
              "      <td>True</td>\n",
              "      <td>880022</td>\n",
              "      <td>True</td>\n",
              "      <td>3</td>\n",
              "      <td>0</td>\n",
              "      <td>5</td>\n",
              "    </tr>\n",
              "    <tr>\n",
              "      <th>2</th>\n",
              "      <td>166377</td>\n",
              "      <td>2019-08-05 00:00:00+03:00</td>\n",
              "      <td>out</td>\n",
              "      <td>True</td>\n",
              "      <td>880020</td>\n",
              "      <td>True</td>\n",
              "      <td>1</td>\n",
              "      <td>0</td>\n",
              "      <td>1</td>\n",
              "    </tr>\n",
              "  </tbody>\n",
              "</table>\n",
              "</div>"
            ],
            "text/plain": [
              "   user_id                      date  ... call_duration total_call_duration\n",
              "0   166377 2019-08-04 00:00:00+03:00  ...             0                   4\n",
              "1   166377 2019-08-05 00:00:00+03:00  ...             0                   5\n",
              "2   166377 2019-08-05 00:00:00+03:00  ...             0                   1\n",
              "\n",
              "[3 rows x 9 columns]"
            ]
          },
          "metadata": {
            "tags": []
          },
          "execution_count": 12
        }
      ]
    },
    {
      "cell_type": "code",
      "metadata": {
        "colab": {
          "base_uri": "https://localhost:8080/"
        },
        "id": "82hlq_PQ7NaY",
        "outputId": "f8f9ef54-a6dd-4afe-b611-b066ed38acd3"
      },
      "source": [
        "# now define internal as bool + date as datetime64[ns]:\n",
        "df_data['internal'] = df_data['internal'].astype('bool')\n",
        "df_data['date'] = df_data['date'].astype('datetime64[ns]')\n",
        "df_data.info()"
      ],
      "execution_count": 13,
      "outputs": [
        {
          "output_type": "stream",
          "text": [
            "<class 'pandas.core.frame.DataFrame'>\n",
            "Int64Index: 53785 entries, 0 to 53901\n",
            "Data columns (total 9 columns):\n",
            " #   Column               Non-Null Count  Dtype         \n",
            "---  ------               --------------  -----         \n",
            " 0   user_id              53785 non-null  int64         \n",
            " 1   date                 53785 non-null  datetime64[ns]\n",
            " 2   direction            53785 non-null  category      \n",
            " 3   internal             53785 non-null  bool          \n",
            " 4   operator_id          45670 non-null  object        \n",
            " 5   is_missed_call       53785 non-null  bool          \n",
            " 6   calls_count          53785 non-null  int64         \n",
            " 7   call_duration        53785 non-null  int64         \n",
            " 8   total_call_duration  53785 non-null  int64         \n",
            "dtypes: bool(2), category(1), datetime64[ns](1), int64(4), object(1)\n",
            "memory usage: 3.0+ MB\n"
          ],
          "name": "stdout"
        }
      ]
    },
    {
      "cell_type": "markdown",
      "metadata": {
        "id": "ChvRi1PeGbBm"
      },
      "source": [
        "we got nan values in operator_id that we must check"
      ]
    },
    {
      "cell_type": "code",
      "metadata": {
        "colab": {
          "base_uri": "https://localhost:8080/",
          "height": 402
        },
        "id": "J0VWa5tLEwgd",
        "outputId": "c5f87da0-cf29-4b8a-e15d-a16ed0eae52b"
      },
      "source": [
        "# start with drop dupps first: \n",
        "df_data.drop_duplicates(inplace=True)\n",
        "df_data"
      ],
      "execution_count": 14,
      "outputs": [
        {
          "output_type": "execute_result",
          "data": {
            "text/html": [
              "<div>\n",
              "<style scoped>\n",
              "    .dataframe tbody tr th:only-of-type {\n",
              "        vertical-align: middle;\n",
              "    }\n",
              "\n",
              "    .dataframe tbody tr th {\n",
              "        vertical-align: top;\n",
              "    }\n",
              "\n",
              "    .dataframe thead th {\n",
              "        text-align: right;\n",
              "    }\n",
              "</style>\n",
              "<table border=\"1\" class=\"dataframe\">\n",
              "  <thead>\n",
              "    <tr style=\"text-align: right;\">\n",
              "      <th></th>\n",
              "      <th>user_id</th>\n",
              "      <th>date</th>\n",
              "      <th>direction</th>\n",
              "      <th>internal</th>\n",
              "      <th>operator_id</th>\n",
              "      <th>is_missed_call</th>\n",
              "      <th>calls_count</th>\n",
              "      <th>call_duration</th>\n",
              "      <th>total_call_duration</th>\n",
              "    </tr>\n",
              "  </thead>\n",
              "  <tbody>\n",
              "    <tr>\n",
              "      <th>0</th>\n",
              "      <td>166377</td>\n",
              "      <td>2019-08-03 21:00:00</td>\n",
              "      <td>in</td>\n",
              "      <td>False</td>\n",
              "      <td>NaN</td>\n",
              "      <td>True</td>\n",
              "      <td>2</td>\n",
              "      <td>0</td>\n",
              "      <td>4</td>\n",
              "    </tr>\n",
              "    <tr>\n",
              "      <th>1</th>\n",
              "      <td>166377</td>\n",
              "      <td>2019-08-04 21:00:00</td>\n",
              "      <td>out</td>\n",
              "      <td>True</td>\n",
              "      <td>880022</td>\n",
              "      <td>True</td>\n",
              "      <td>3</td>\n",
              "      <td>0</td>\n",
              "      <td>5</td>\n",
              "    </tr>\n",
              "    <tr>\n",
              "      <th>2</th>\n",
              "      <td>166377</td>\n",
              "      <td>2019-08-04 21:00:00</td>\n",
              "      <td>out</td>\n",
              "      <td>True</td>\n",
              "      <td>880020</td>\n",
              "      <td>True</td>\n",
              "      <td>1</td>\n",
              "      <td>0</td>\n",
              "      <td>1</td>\n",
              "    </tr>\n",
              "    <tr>\n",
              "      <th>3</th>\n",
              "      <td>166377</td>\n",
              "      <td>2019-08-04 21:00:00</td>\n",
              "      <td>out</td>\n",
              "      <td>True</td>\n",
              "      <td>880020</td>\n",
              "      <td>False</td>\n",
              "      <td>1</td>\n",
              "      <td>10</td>\n",
              "      <td>18</td>\n",
              "    </tr>\n",
              "    <tr>\n",
              "      <th>4</th>\n",
              "      <td>166377</td>\n",
              "      <td>2019-08-04 21:00:00</td>\n",
              "      <td>out</td>\n",
              "      <td>False</td>\n",
              "      <td>880022</td>\n",
              "      <td>True</td>\n",
              "      <td>3</td>\n",
              "      <td>0</td>\n",
              "      <td>25</td>\n",
              "    </tr>\n",
              "    <tr>\n",
              "      <th>...</th>\n",
              "      <td>...</td>\n",
              "      <td>...</td>\n",
              "      <td>...</td>\n",
              "      <td>...</td>\n",
              "      <td>...</td>\n",
              "      <td>...</td>\n",
              "      <td>...</td>\n",
              "      <td>...</td>\n",
              "      <td>...</td>\n",
              "    </tr>\n",
              "    <tr>\n",
              "      <th>53896</th>\n",
              "      <td>168606</td>\n",
              "      <td>2019-11-09 21:00:00</td>\n",
              "      <td>out</td>\n",
              "      <td>True</td>\n",
              "      <td>957922</td>\n",
              "      <td>False</td>\n",
              "      <td>1</td>\n",
              "      <td>0</td>\n",
              "      <td>25</td>\n",
              "    </tr>\n",
              "    <tr>\n",
              "      <th>53897</th>\n",
              "      <td>168606</td>\n",
              "      <td>2019-11-09 21:00:00</td>\n",
              "      <td>out</td>\n",
              "      <td>True</td>\n",
              "      <td>957922</td>\n",
              "      <td>True</td>\n",
              "      <td>1</td>\n",
              "      <td>0</td>\n",
              "      <td>38</td>\n",
              "    </tr>\n",
              "    <tr>\n",
              "      <th>53898</th>\n",
              "      <td>168606</td>\n",
              "      <td>2019-11-10 21:00:00</td>\n",
              "      <td>out</td>\n",
              "      <td>True</td>\n",
              "      <td>957922</td>\n",
              "      <td>False</td>\n",
              "      <td>2</td>\n",
              "      <td>479</td>\n",
              "      <td>501</td>\n",
              "    </tr>\n",
              "    <tr>\n",
              "      <th>53899</th>\n",
              "      <td>168606</td>\n",
              "      <td>2019-11-14 21:00:00</td>\n",
              "      <td>out</td>\n",
              "      <td>True</td>\n",
              "      <td>957922</td>\n",
              "      <td>False</td>\n",
              "      <td>4</td>\n",
              "      <td>3130</td>\n",
              "      <td>3190</td>\n",
              "    </tr>\n",
              "    <tr>\n",
              "      <th>53901</th>\n",
              "      <td>168606</td>\n",
              "      <td>2019-11-18 21:00:00</td>\n",
              "      <td>in</td>\n",
              "      <td>False</td>\n",
              "      <td>NaN</td>\n",
              "      <td>True</td>\n",
              "      <td>2</td>\n",
              "      <td>0</td>\n",
              "      <td>64</td>\n",
              "    </tr>\n",
              "  </tbody>\n",
              "</table>\n",
              "<p>48892 rows × 9 columns</p>\n",
              "</div>"
            ],
            "text/plain": [
              "       user_id                date  ... call_duration  total_call_duration\n",
              "0       166377 2019-08-03 21:00:00  ...             0                    4\n",
              "1       166377 2019-08-04 21:00:00  ...             0                    5\n",
              "2       166377 2019-08-04 21:00:00  ...             0                    1\n",
              "3       166377 2019-08-04 21:00:00  ...            10                   18\n",
              "4       166377 2019-08-04 21:00:00  ...             0                   25\n",
              "...        ...                 ...  ...           ...                  ...\n",
              "53896   168606 2019-11-09 21:00:00  ...             0                   25\n",
              "53897   168606 2019-11-09 21:00:00  ...             0                   38\n",
              "53898   168606 2019-11-10 21:00:00  ...           479                  501\n",
              "53899   168606 2019-11-14 21:00:00  ...          3130                 3190\n",
              "53901   168606 2019-11-18 21:00:00  ...             0                   64\n",
              "\n",
              "[48892 rows x 9 columns]"
            ]
          },
          "metadata": {
            "tags": []
          },
          "execution_count": 14
        }
      ]
    },
    {
      "cell_type": "code",
      "metadata": {
        "colab": {
          "base_uri": "https://localhost:8080/"
        },
        "id": "Ud8lj81tGtJ6",
        "outputId": "77c4a5e8-19c1-4951-9f6d-24ebf1dbac30"
      },
      "source": [
        "df_data.info()\n",
        "# many dupp values that is now removed\n",
        "# still left handle null values - operator_id"
      ],
      "execution_count": 15,
      "outputs": [
        {
          "output_type": "stream",
          "text": [
            "<class 'pandas.core.frame.DataFrame'>\n",
            "Int64Index: 48892 entries, 0 to 53901\n",
            "Data columns (total 9 columns):\n",
            " #   Column               Non-Null Count  Dtype         \n",
            "---  ------               --------------  -----         \n",
            " 0   user_id              48892 non-null  int64         \n",
            " 1   date                 48892 non-null  datetime64[ns]\n",
            " 2   direction            48892 non-null  category      \n",
            " 3   internal             48892 non-null  bool          \n",
            " 4   operator_id          41491 non-null  object        \n",
            " 5   is_missed_call       48892 non-null  bool          \n",
            " 6   calls_count          48892 non-null  int64         \n",
            " 7   call_duration        48892 non-null  int64         \n",
            " 8   total_call_duration  48892 non-null  int64         \n",
            "dtypes: bool(2), category(1), datetime64[ns](1), int64(4), object(1)\n",
            "memory usage: 2.8+ MB\n"
          ],
          "name": "stdout"
        }
      ]
    },
    {
      "cell_type": "markdown",
      "metadata": {
        "id": "fuRKpGJJJ5Yk"
      },
      "source": [
        "__I will continue running some logic tests (preproccesing) on data to find typos__"
      ]
    },
    {
      "cell_type": "markdown",
      "metadata": {
        "id": "PQy6fPdMKGb-"
      },
      "source": [
        "1.   drop when: is_missed_call = True & call_duration >0"
      ]
    },
    {
      "cell_type": "code",
      "metadata": {
        "colab": {
          "base_uri": "https://localhost:8080/",
          "height": 35
        },
        "id": "KKSfBXfvLFzm",
        "outputId": "ad33b748-7117-4669-800a-8254603175d9"
      },
      "source": [
        "'total rows dropped: {}'.format(df_data.query('(is_missed_call == True and call_duration >0)').shape[0])"
      ],
      "execution_count": 16,
      "outputs": [
        {
          "output_type": "execute_result",
          "data": {
            "application/vnd.google.colaboratory.intrinsic+json": {
              "type": "string"
            },
            "text/plain": [
              "'total rows dropped: 295'"
            ]
          },
          "metadata": {
            "tags": []
          },
          "execution_count": 16
        }
      ]
    },
    {
      "cell_type": "code",
      "metadata": {
        "id": "Q08BdhtyH4BU"
      },
      "source": [
        "df_data = df_data.query('~(is_missed_call == True and call_duration >0)')"
      ],
      "execution_count": 17,
      "outputs": []
    },
    {
      "cell_type": "markdown",
      "metadata": {
        "id": "z_GuHe0HNNSQ"
      },
      "source": [
        "\n",
        "2.   drop when: call_duration > total_call_duration"
      ]
    },
    {
      "cell_type": "code",
      "metadata": {
        "colab": {
          "base_uri": "https://localhost:8080/",
          "height": 47
        },
        "id": "XJQYsWBOFCdX",
        "outputId": "f1c92a95-fff4-4ea7-e9ed-779323eec144"
      },
      "source": [
        "df_data.query('(call_duration > total_call_duration)')\n",
        "# ok here"
      ],
      "execution_count": 18,
      "outputs": [
        {
          "output_type": "execute_result",
          "data": {
            "text/html": [
              "<div>\n",
              "<style scoped>\n",
              "    .dataframe tbody tr th:only-of-type {\n",
              "        vertical-align: middle;\n",
              "    }\n",
              "\n",
              "    .dataframe tbody tr th {\n",
              "        vertical-align: top;\n",
              "    }\n",
              "\n",
              "    .dataframe thead th {\n",
              "        text-align: right;\n",
              "    }\n",
              "</style>\n",
              "<table border=\"1\" class=\"dataframe\">\n",
              "  <thead>\n",
              "    <tr style=\"text-align: right;\">\n",
              "      <th></th>\n",
              "      <th>user_id</th>\n",
              "      <th>date</th>\n",
              "      <th>direction</th>\n",
              "      <th>internal</th>\n",
              "      <th>operator_id</th>\n",
              "      <th>is_missed_call</th>\n",
              "      <th>calls_count</th>\n",
              "      <th>call_duration</th>\n",
              "      <th>total_call_duration</th>\n",
              "    </tr>\n",
              "  </thead>\n",
              "  <tbody>\n",
              "  </tbody>\n",
              "</table>\n",
              "</div>"
            ],
            "text/plain": [
              "Empty DataFrame\n",
              "Columns: [user_id, date, direction, internal, operator_id, is_missed_call, calls_count, call_duration, total_call_duration]\n",
              "Index: []"
            ]
          },
          "metadata": {
            "tags": []
          },
          "execution_count": 18
        }
      ]
    },
    {
      "cell_type": "markdown",
      "metadata": {
        "id": "NIHCQZthOjMk"
      },
      "source": [
        "\n",
        "3.   drop when: is_missed_call == False and call_duration ==0"
      ]
    },
    {
      "cell_type": "code",
      "metadata": {
        "colab": {
          "base_uri": "https://localhost:8080/",
          "height": 35
        },
        "id": "BjLHjQWvMLJD",
        "outputId": "3ac891b3-2423-4c03-fbb2-509223a32469"
      },
      "source": [
        "'total rows dropped: {}'.format(df_data.query('(is_missed_call == False and call_duration ==0)').shape[0])"
      ],
      "execution_count": 19,
      "outputs": [
        {
          "output_type": "execute_result",
          "data": {
            "application/vnd.google.colaboratory.intrinsic+json": {
              "type": "string"
            },
            "text/plain": [
              "'total rows dropped: 17'"
            ]
          },
          "metadata": {
            "tags": []
          },
          "execution_count": 19
        }
      ]
    },
    {
      "cell_type": "code",
      "metadata": {
        "id": "T_Y0oK0PFCU9"
      },
      "source": [
        "df_data = df_data.query('~(is_missed_call == False and call_duration ==0)')"
      ],
      "execution_count": 20,
      "outputs": []
    },
    {
      "cell_type": "markdown",
      "metadata": {
        "id": "Oh-iSbJFteEc"
      },
      "source": [
        "__complete missing values @ operator_id__"
      ]
    },
    {
      "cell_type": "code",
      "metadata": {
        "colab": {
          "base_uri": "https://localhost:8080/"
        },
        "id": "xJk3VuVezSh2",
        "outputId": "fef363e4-118e-45a5-b4e1-14cb2c98ae41"
      },
      "source": [
        "# reminder at total amount of null operator_id:\n",
        "df_data['operator_id'].isna().sum()"
      ],
      "execution_count": 21,
      "outputs": [
        {
          "output_type": "execute_result",
          "data": {
            "text/plain": [
              "7401"
            ]
          },
          "metadata": {
            "tags": []
          },
          "execution_count": 21
        }
      ]
    },
    {
      "cell_type": "code",
      "metadata": {
        "id": "nawG3HeL_xc0"
      },
      "source": [
        "# drop missing operator cells\n",
        "df_data = df_data[~df_data['operator_id'].isna()]"
      ],
      "execution_count": 22,
      "outputs": []
    },
    {
      "cell_type": "code",
      "metadata": {
        "colab": {
          "base_uri": "https://localhost:8080/",
          "height": 284
        },
        "id": "7FQzQhn6MT0h",
        "outputId": "88b9418a-d245-48db-ed84-887979d6f7a9"
      },
      "source": [
        "df_data.describe()"
      ],
      "execution_count": 23,
      "outputs": [
        {
          "output_type": "execute_result",
          "data": {
            "text/html": [
              "<div>\n",
              "<style scoped>\n",
              "    .dataframe tbody tr th:only-of-type {\n",
              "        vertical-align: middle;\n",
              "    }\n",
              "\n",
              "    .dataframe tbody tr th {\n",
              "        vertical-align: top;\n",
              "    }\n",
              "\n",
              "    .dataframe thead th {\n",
              "        text-align: right;\n",
              "    }\n",
              "</style>\n",
              "<table border=\"1\" class=\"dataframe\">\n",
              "  <thead>\n",
              "    <tr style=\"text-align: right;\">\n",
              "      <th></th>\n",
              "      <th>user_id</th>\n",
              "      <th>calls_count</th>\n",
              "      <th>call_duration</th>\n",
              "      <th>total_call_duration</th>\n",
              "    </tr>\n",
              "  </thead>\n",
              "  <tbody>\n",
              "    <tr>\n",
              "      <th>count</th>\n",
              "      <td>41179.000000</td>\n",
              "      <td>41179.000000</td>\n",
              "      <td>41179.000000</td>\n",
              "      <td>41179.000000</td>\n",
              "    </tr>\n",
              "    <tr>\n",
              "      <th>mean</th>\n",
              "      <td>167300.071444</td>\n",
              "      <td>17.037568</td>\n",
              "      <td>1018.024624</td>\n",
              "      <td>1332.424658</td>\n",
              "    </tr>\n",
              "    <tr>\n",
              "      <th>std</th>\n",
              "      <td>600.114249</td>\n",
              "      <td>59.997203</td>\n",
              "      <td>4081.210906</td>\n",
              "      <td>4805.859124</td>\n",
              "    </tr>\n",
              "    <tr>\n",
              "      <th>min</th>\n",
              "      <td>166377.000000</td>\n",
              "      <td>1.000000</td>\n",
              "      <td>0.000000</td>\n",
              "      <td>0.000000</td>\n",
              "    </tr>\n",
              "    <tr>\n",
              "      <th>25%</th>\n",
              "      <td>166782.000000</td>\n",
              "      <td>2.000000</td>\n",
              "      <td>0.000000</td>\n",
              "      <td>68.000000</td>\n",
              "    </tr>\n",
              "    <tr>\n",
              "      <th>50%</th>\n",
              "      <td>167175.000000</td>\n",
              "      <td>4.000000</td>\n",
              "      <td>108.000000</td>\n",
              "      <td>294.000000</td>\n",
              "    </tr>\n",
              "    <tr>\n",
              "      <th>75%</th>\n",
              "      <td>167827.000000</td>\n",
              "      <td>14.000000</td>\n",
              "      <td>784.000000</td>\n",
              "      <td>1119.000000</td>\n",
              "    </tr>\n",
              "    <tr>\n",
              "      <th>max</th>\n",
              "      <td>168606.000000</td>\n",
              "      <td>4817.000000</td>\n",
              "      <td>144395.000000</td>\n",
              "      <td>166155.000000</td>\n",
              "    </tr>\n",
              "  </tbody>\n",
              "</table>\n",
              "</div>"
            ],
            "text/plain": [
              "             user_id   calls_count  call_duration  total_call_duration\n",
              "count   41179.000000  41179.000000   41179.000000         41179.000000\n",
              "mean   167300.071444     17.037568    1018.024624          1332.424658\n",
              "std       600.114249     59.997203    4081.210906          4805.859124\n",
              "min    166377.000000      1.000000       0.000000             0.000000\n",
              "25%    166782.000000      2.000000       0.000000            68.000000\n",
              "50%    167175.000000      4.000000     108.000000           294.000000\n",
              "75%    167827.000000     14.000000     784.000000          1119.000000\n",
              "max    168606.000000   4817.000000  144395.000000        166155.000000"
            ]
          },
          "metadata": {
            "tags": []
          },
          "execution_count": 23
        }
      ]
    },
    {
      "cell_type": "code",
      "metadata": {
        "colab": {
          "base_uri": "https://localhost:8080/"
        },
        "id": "8euPW1b9U-01",
        "outputId": "a0585c9f-2ff7-4b11-c3d4-156d35a9d4c3"
      },
      "source": [
        "df_data.info()\n",
        "# we may start working now with the data"
      ],
      "execution_count": 24,
      "outputs": [
        {
          "output_type": "stream",
          "text": [
            "<class 'pandas.core.frame.DataFrame'>\n",
            "Int64Index: 41179 entries, 1 to 53899\n",
            "Data columns (total 9 columns):\n",
            " #   Column               Non-Null Count  Dtype         \n",
            "---  ------               --------------  -----         \n",
            " 0   user_id              41179 non-null  int64         \n",
            " 1   date                 41179 non-null  datetime64[ns]\n",
            " 2   direction            41179 non-null  category      \n",
            " 3   internal             41179 non-null  bool          \n",
            " 4   operator_id          41179 non-null  object        \n",
            " 5   is_missed_call       41179 non-null  bool          \n",
            " 6   calls_count          41179 non-null  int64         \n",
            " 7   call_duration        41179 non-null  int64         \n",
            " 8   total_call_duration  41179 non-null  int64         \n",
            "dtypes: bool(2), category(1), datetime64[ns](1), int64(4), object(1)\n",
            "memory usage: 2.3+ MB\n"
          ],
          "name": "stdout"
        }
      ]
    },
    {
      "cell_type": "markdown",
      "metadata": {
        "id": "oK8XLIO_GAdH"
      },
      "source": [
        "- ## Deal with outliers"
      ]
    },
    {
      "cell_type": "code",
      "metadata": {
        "colab": {
          "base_uri": "https://localhost:8080/"
        },
        "id": "L62ghpf5XB_X",
        "outputId": "6e1a516a-1e61-45c0-fa47-901c01eb7614"
      },
      "source": [
        "# lets look how date is created\n",
        "df_data['date'].unique()"
      ],
      "execution_count": 25,
      "outputs": [
        {
          "output_type": "execute_result",
          "data": {
            "text/plain": [
              "array(['2019-08-04T21:00:00.000000000', '2019-08-05T21:00:00.000000000',\n",
              "       '2019-08-06T21:00:00.000000000', '2019-08-07T21:00:00.000000000',\n",
              "       '2019-08-08T21:00:00.000000000', '2019-08-11T21:00:00.000000000',\n",
              "       '2019-08-12T21:00:00.000000000', '2019-08-13T21:00:00.000000000',\n",
              "       '2019-08-14T21:00:00.000000000', '2019-08-15T21:00:00.000000000',\n",
              "       '2019-08-18T21:00:00.000000000', '2019-08-19T21:00:00.000000000',\n",
              "       '2019-08-20T21:00:00.000000000', '2019-08-21T21:00:00.000000000',\n",
              "       '2019-08-22T21:00:00.000000000', '2019-08-25T21:00:00.000000000',\n",
              "       '2019-08-26T21:00:00.000000000', '2019-08-27T21:00:00.000000000',\n",
              "       '2019-08-28T21:00:00.000000000', '2019-08-29T21:00:00.000000000',\n",
              "       '2019-09-01T21:00:00.000000000', '2019-09-02T21:00:00.000000000',\n",
              "       '2019-09-03T21:00:00.000000000', '2019-09-04T21:00:00.000000000',\n",
              "       '2019-09-05T21:00:00.000000000', '2019-09-08T21:00:00.000000000',\n",
              "       '2019-09-09T21:00:00.000000000', '2019-09-10T21:00:00.000000000',\n",
              "       '2019-09-11T21:00:00.000000000', '2019-09-12T21:00:00.000000000',\n",
              "       '2019-09-15T21:00:00.000000000', '2019-09-16T21:00:00.000000000',\n",
              "       '2019-09-17T21:00:00.000000000', '2019-09-18T21:00:00.000000000',\n",
              "       '2019-09-19T21:00:00.000000000', '2019-09-22T21:00:00.000000000',\n",
              "       '2019-09-23T21:00:00.000000000', '2019-09-24T21:00:00.000000000',\n",
              "       '2019-09-25T21:00:00.000000000', '2019-09-26T21:00:00.000000000',\n",
              "       '2019-09-29T21:00:00.000000000', '2019-09-30T21:00:00.000000000',\n",
              "       '2019-10-01T21:00:00.000000000', '2019-10-02T21:00:00.000000000',\n",
              "       '2019-10-03T21:00:00.000000000', '2019-10-06T21:00:00.000000000',\n",
              "       '2019-10-07T21:00:00.000000000', '2019-10-08T21:00:00.000000000',\n",
              "       '2019-10-09T21:00:00.000000000', '2019-10-10T21:00:00.000000000',\n",
              "       '2019-10-13T21:00:00.000000000', '2019-10-14T21:00:00.000000000',\n",
              "       '2019-10-15T21:00:00.000000000', '2019-10-16T21:00:00.000000000',\n",
              "       '2019-10-17T21:00:00.000000000', '2019-10-20T21:00:00.000000000',\n",
              "       '2019-10-21T21:00:00.000000000', '2019-10-22T21:00:00.000000000',\n",
              "       '2019-10-23T21:00:00.000000000', '2019-10-24T21:00:00.000000000',\n",
              "       '2019-10-27T21:00:00.000000000', '2019-10-28T21:00:00.000000000',\n",
              "       '2019-10-29T21:00:00.000000000', '2019-10-30T21:00:00.000000000',\n",
              "       '2019-10-31T21:00:00.000000000', '2019-11-04T21:00:00.000000000',\n",
              "       '2019-11-05T21:00:00.000000000', '2019-11-06T21:00:00.000000000',\n",
              "       '2019-11-07T21:00:00.000000000', '2019-11-10T21:00:00.000000000',\n",
              "       '2019-11-11T21:00:00.000000000', '2019-11-12T21:00:00.000000000',\n",
              "       '2019-11-13T21:00:00.000000000', '2019-11-14T21:00:00.000000000',\n",
              "       '2019-11-17T21:00:00.000000000', '2019-11-18T21:00:00.000000000',\n",
              "       '2019-11-19T21:00:00.000000000', '2019-11-20T21:00:00.000000000',\n",
              "       '2019-11-21T21:00:00.000000000', '2019-11-24T21:00:00.000000000',\n",
              "       '2019-11-25T21:00:00.000000000', '2019-11-26T21:00:00.000000000',\n",
              "       '2019-11-27T21:00:00.000000000', '2019-08-16T21:00:00.000000000',\n",
              "       '2019-08-17T21:00:00.000000000', '2019-08-23T21:00:00.000000000',\n",
              "       '2019-08-24T21:00:00.000000000', '2019-08-30T21:00:00.000000000',\n",
              "       '2019-08-31T21:00:00.000000000', '2019-09-06T21:00:00.000000000',\n",
              "       '2019-09-07T21:00:00.000000000', '2019-09-13T21:00:00.000000000',\n",
              "       '2019-09-14T21:00:00.000000000', '2019-09-20T21:00:00.000000000',\n",
              "       '2019-09-21T21:00:00.000000000', '2019-09-27T21:00:00.000000000',\n",
              "       '2019-10-04T21:00:00.000000000', '2019-10-26T21:00:00.000000000',\n",
              "       '2019-11-03T21:00:00.000000000', '2019-11-08T21:00:00.000000000',\n",
              "       '2019-11-09T21:00:00.000000000', '2019-11-15T21:00:00.000000000',\n",
              "       '2019-11-22T21:00:00.000000000', '2019-11-23T21:00:00.000000000',\n",
              "       '2019-08-01T21:00:00.000000000', '2019-08-02T21:00:00.000000000',\n",
              "       '2019-08-03T21:00:00.000000000', '2019-08-09T21:00:00.000000000',\n",
              "       '2019-10-05T21:00:00.000000000', '2019-10-18T21:00:00.000000000',\n",
              "       '2019-10-19T21:00:00.000000000', '2019-10-11T21:00:00.000000000',\n",
              "       '2019-11-01T21:00:00.000000000', '2019-11-16T21:00:00.000000000',\n",
              "       '2019-10-12T21:00:00.000000000', '2019-10-25T21:00:00.000000000',\n",
              "       '2019-11-02T21:00:00.000000000', '2019-09-28T21:00:00.000000000'],\n",
              "      dtype='datetime64[ns]')"
            ]
          },
          "metadata": {
            "tags": []
          },
          "execution_count": 25
        }
      ]
    },
    {
      "cell_type": "code",
      "metadata": {
        "id": "IIsRcYG7Xwuu"
      },
      "source": [
        "# we have only date - so we will remove the irrelevant time and adjust format to date only:\n",
        "df_data['date'] = df_data['date'].dt.date.astype('datetime64[ns]')"
      ],
      "execution_count": 26,
      "outputs": []
    },
    {
      "cell_type": "markdown",
      "metadata": {
        "id": "NO4a8pNkaBxq"
      },
      "source": [
        "we can't categorize data by age group as suggested as there is no exact hours/minutes time but only dates"
      ]
    },
    {
      "cell_type": "code",
      "metadata": {
        "colab": {
          "base_uri": "https://localhost:8080/",
          "height": 0
        },
        "id": "hHd-JzqnaW_e",
        "outputId": "8c3ca116-1ebf-4024-ca73-f2fedea557cf"
      },
      "source": [
        "df_data.head()"
      ],
      "execution_count": 27,
      "outputs": [
        {
          "output_type": "execute_result",
          "data": {
            "text/html": [
              "<div>\n",
              "<style scoped>\n",
              "    .dataframe tbody tr th:only-of-type {\n",
              "        vertical-align: middle;\n",
              "    }\n",
              "\n",
              "    .dataframe tbody tr th {\n",
              "        vertical-align: top;\n",
              "    }\n",
              "\n",
              "    .dataframe thead th {\n",
              "        text-align: right;\n",
              "    }\n",
              "</style>\n",
              "<table border=\"1\" class=\"dataframe\">\n",
              "  <thead>\n",
              "    <tr style=\"text-align: right;\">\n",
              "      <th></th>\n",
              "      <th>user_id</th>\n",
              "      <th>date</th>\n",
              "      <th>direction</th>\n",
              "      <th>internal</th>\n",
              "      <th>operator_id</th>\n",
              "      <th>is_missed_call</th>\n",
              "      <th>calls_count</th>\n",
              "      <th>call_duration</th>\n",
              "      <th>total_call_duration</th>\n",
              "    </tr>\n",
              "  </thead>\n",
              "  <tbody>\n",
              "    <tr>\n",
              "      <th>1</th>\n",
              "      <td>166377</td>\n",
              "      <td>2019-08-04</td>\n",
              "      <td>out</td>\n",
              "      <td>True</td>\n",
              "      <td>880022</td>\n",
              "      <td>True</td>\n",
              "      <td>3</td>\n",
              "      <td>0</td>\n",
              "      <td>5</td>\n",
              "    </tr>\n",
              "    <tr>\n",
              "      <th>2</th>\n",
              "      <td>166377</td>\n",
              "      <td>2019-08-04</td>\n",
              "      <td>out</td>\n",
              "      <td>True</td>\n",
              "      <td>880020</td>\n",
              "      <td>True</td>\n",
              "      <td>1</td>\n",
              "      <td>0</td>\n",
              "      <td>1</td>\n",
              "    </tr>\n",
              "    <tr>\n",
              "      <th>3</th>\n",
              "      <td>166377</td>\n",
              "      <td>2019-08-04</td>\n",
              "      <td>out</td>\n",
              "      <td>True</td>\n",
              "      <td>880020</td>\n",
              "      <td>False</td>\n",
              "      <td>1</td>\n",
              "      <td>10</td>\n",
              "      <td>18</td>\n",
              "    </tr>\n",
              "    <tr>\n",
              "      <th>4</th>\n",
              "      <td>166377</td>\n",
              "      <td>2019-08-04</td>\n",
              "      <td>out</td>\n",
              "      <td>False</td>\n",
              "      <td>880022</td>\n",
              "      <td>True</td>\n",
              "      <td>3</td>\n",
              "      <td>0</td>\n",
              "      <td>25</td>\n",
              "    </tr>\n",
              "    <tr>\n",
              "      <th>5</th>\n",
              "      <td>166377</td>\n",
              "      <td>2019-08-04</td>\n",
              "      <td>out</td>\n",
              "      <td>False</td>\n",
              "      <td>880020</td>\n",
              "      <td>False</td>\n",
              "      <td>2</td>\n",
              "      <td>3</td>\n",
              "      <td>29</td>\n",
              "    </tr>\n",
              "  </tbody>\n",
              "</table>\n",
              "</div>"
            ],
            "text/plain": [
              "   user_id       date  ... call_duration  total_call_duration\n",
              "1   166377 2019-08-04  ...             0                    5\n",
              "2   166377 2019-08-04  ...             0                    1\n",
              "3   166377 2019-08-04  ...            10                   18\n",
              "4   166377 2019-08-04  ...             0                   25\n",
              "5   166377 2019-08-04  ...             3                   29\n",
              "\n",
              "[5 rows x 9 columns]"
            ]
          },
          "metadata": {
            "tags": []
          },
          "execution_count": 27
        }
      ]
    },
    {
      "cell_type": "code",
      "metadata": {
        "colab": {
          "base_uri": "https://localhost:8080/"
        },
        "id": "JmXupmTZaf-R",
        "outputId": "b45bcc33-ca30-4dbe-ab27-7af4c9b780a5"
      },
      "source": [
        "# continue check to direction col\n",
        "df_data['direction'].value_counts()\n",
        "# ok"
      ],
      "execution_count": 28,
      "outputs": [
        {
          "output_type": "execute_result",
          "data": {
            "text/plain": [
              "out    28775\n",
              "in     12404\n",
              "Name: direction, dtype: int64"
            ]
          },
          "metadata": {
            "tags": []
          },
          "execution_count": 28
        }
      ]
    },
    {
      "cell_type": "markdown",
      "metadata": {
        "id": "543oAl_cbC2w"
      },
      "source": [
        "_'call_duration'_ column"
      ]
    },
    {
      "cell_type": "code",
      "metadata": {
        "colab": {
          "base_uri": "https://localhost:8080/"
        },
        "id": "X0Oby-kUZ9sB",
        "outputId": "1f6ffc86-35de-4a07-d9f3-322051aa701e"
      },
      "source": [
        "# df_data[df_data['call_duration']<=0].value_counts().sum()\n",
        "df_data[df_data['call_duration']<=0]['call_duration'].value_counts().sum()"
      ],
      "execution_count": 29,
      "outputs": [
        {
          "output_type": "execute_result",
          "data": {
            "text/plain": [
              "13814"
            ]
          },
          "metadata": {
            "tags": []
          },
          "execution_count": 29
        }
      ]
    },
    {
      "cell_type": "markdown",
      "metadata": {
        "id": "NLtVhC_ibyHK"
      },
      "source": [
        "- we can see that many call was not even really measured (duration =0)\n",
        "- this may indicate that many of calls came initial as typo with null values or it also can be counted as unanswered call\n",
        "- since we already cleared the data with previous limitation - we will refer to this calls as unanswered calls "
      ]
    },
    {
      "cell_type": "code",
      "metadata": {
        "colab": {
          "base_uri": "https://localhost:8080/"
        },
        "id": "iPe7MKr3bilz",
        "outputId": "0e61f745-ec8a-4b16-fb6c-78749a3d7606"
      },
      "source": [
        "df_data[df_data['call_duration']<30]['call_duration'].value_counts().sum()"
      ],
      "execution_count": 30,
      "outputs": [
        {
          "output_type": "execute_result",
          "data": {
            "text/plain": [
              "16413"
            ]
          },
          "metadata": {
            "tags": []
          },
          "execution_count": 30
        }
      ]
    },
    {
      "cell_type": "markdown",
      "metadata": {
        "id": "cnvYAwtkr_tr"
      },
      "source": [
        "assumption is that a call less than about 30 seconds might be an outlier when it leads us to another assupmtion that a very long call is an outlier as well."
      ]
    },
    {
      "cell_type": "markdown",
      "metadata": {
        "id": "J_xJqgiis_kf"
      },
      "source": [
        "_'calls_count'_ col (number of ringings for a single call)"
      ]
    },
    {
      "cell_type": "code",
      "metadata": {
        "colab": {
          "base_uri": "https://localhost:8080/",
          "height": 0
        },
        "id": "BJYKjMW2r-pg",
        "outputId": "075c35d8-b891-48f1-fa51-89554bdc1814"
      },
      "source": [
        "df_data[df_data['calls_count']<=0]\n",
        "# ok here. no 0's ringings"
      ],
      "execution_count": 31,
      "outputs": [
        {
          "output_type": "execute_result",
          "data": {
            "text/html": [
              "<div>\n",
              "<style scoped>\n",
              "    .dataframe tbody tr th:only-of-type {\n",
              "        vertical-align: middle;\n",
              "    }\n",
              "\n",
              "    .dataframe tbody tr th {\n",
              "        vertical-align: top;\n",
              "    }\n",
              "\n",
              "    .dataframe thead th {\n",
              "        text-align: right;\n",
              "    }\n",
              "</style>\n",
              "<table border=\"1\" class=\"dataframe\">\n",
              "  <thead>\n",
              "    <tr style=\"text-align: right;\">\n",
              "      <th></th>\n",
              "      <th>user_id</th>\n",
              "      <th>date</th>\n",
              "      <th>direction</th>\n",
              "      <th>internal</th>\n",
              "      <th>operator_id</th>\n",
              "      <th>is_missed_call</th>\n",
              "      <th>calls_count</th>\n",
              "      <th>call_duration</th>\n",
              "      <th>total_call_duration</th>\n",
              "    </tr>\n",
              "  </thead>\n",
              "  <tbody>\n",
              "  </tbody>\n",
              "</table>\n",
              "</div>"
            ],
            "text/plain": [
              "Empty DataFrame\n",
              "Columns: [user_id, date, direction, internal, operator_id, is_missed_call, calls_count, call_duration, total_call_duration]\n",
              "Index: []"
            ]
          },
          "metadata": {
            "tags": []
          },
          "execution_count": 31
        }
      ]
    },
    {
      "cell_type": "code",
      "metadata": {
        "colab": {
          "base_uri": "https://localhost:8080/"
        },
        "id": "5e1fuAwr_xc7",
        "outputId": "182cf812-965b-495b-bd22-68a4b5ce95df"
      },
      "source": [
        "df_data.info()"
      ],
      "execution_count": 32,
      "outputs": [
        {
          "output_type": "stream",
          "text": [
            "<class 'pandas.core.frame.DataFrame'>\n",
            "Int64Index: 41179 entries, 1 to 53899\n",
            "Data columns (total 9 columns):\n",
            " #   Column               Non-Null Count  Dtype         \n",
            "---  ------               --------------  -----         \n",
            " 0   user_id              41179 non-null  int64         \n",
            " 1   date                 41179 non-null  datetime64[ns]\n",
            " 2   direction            41179 non-null  category      \n",
            " 3   internal             41179 non-null  bool          \n",
            " 4   operator_id          41179 non-null  object        \n",
            " 5   is_missed_call       41179 non-null  bool          \n",
            " 6   calls_count          41179 non-null  int64         \n",
            " 7   call_duration        41179 non-null  int64         \n",
            " 8   total_call_duration  41179 non-null  int64         \n",
            "dtypes: bool(2), category(1), datetime64[ns](1), int64(4), object(1)\n",
            "memory usage: 2.3+ MB\n"
          ],
          "name": "stdout"
        }
      ]
    },
    {
      "cell_type": "code",
      "metadata": {
        "colab": {
          "base_uri": "https://localhost:8080/",
          "height": 0
        },
        "id": "U146DbRu0bWF",
        "outputId": "3a08e666-9e72-42a3-c159-26bb7ae4f90c"
      },
      "source": [
        "df_data.astype({'operator_id': 'int64'}).plot.scatter(x='operator_id',y='call_duration',figsize=(18,8))\n",
        "plt.title('Call durations distribution',fontdict={'fontsize':22})\n",
        "plt.xlabel('operator_id',fontdict={'fontsize':16})\n",
        "plt.ylabel('Call duration in seconds',fontdict={'fontsize':16})\n",
        "plt.show()\n",
        "\n",
        "# a alook into distribution of call duration"
      ],
      "execution_count": 33,
      "outputs": [
        {
          "output_type": "display_data",
          "data": {
            "image/png": "[encoded data removed]",
            "text/plain": [
              "<Figure size 1296x576 with 1 Axes>"
            ]
          },
          "metadata": {
            "tags": [],
            "needs_background": "light"
          }
        }
      ]
    },
    {
      "cell_type": "markdown",
      "metadata": {
        "id": "aUNc3GnG3LRg"
      },
      "source": [
        "easy to notice for an outliers<p>\n",
        "a single call can't be 20,000 seconds for example (about 14 hours)"
      ]
    },
    {
      "cell_type": "markdown",
      "metadata": {
        "id": "IHuQWZxa3eKO"
      },
      "source": [
        "lets define an acceptable call duration<p>\n",
        "I assume in the most difficult cases of operator a call shouldn't be more than 1.5 hours<p>\n",
        "__we that been said we will need to remove call durations with more than 5400 seconds__"
      ]
    },
    {
      "cell_type": "code",
      "metadata": {
        "colab": {
          "base_uri": "https://localhost:8080/"
        },
        "id": "EQ5eucXm4ijL",
        "outputId": "a8deff9e-cea3-432f-fc52-54e9a97b2480"
      },
      "source": [
        "df_data[df_data['call_duration'] > 5400]['call_duration'].value_counts().sum()\n",
        "# we will removed this amount of rows\n",
        "# it stands with a correct number of rows compared to dataset and not exceeding high percent of all dataset"
      ],
      "execution_count": 34,
      "outputs": [
        {
          "output_type": "execute_result",
          "data": {
            "text/plain": [
              "1422"
            ]
          },
          "metadata": {
            "tags": []
          },
          "execution_count": 34
        }
      ]
    },
    {
      "cell_type": "code",
      "metadata": {
        "colab": {
          "base_uri": "https://localhost:8080/",
          "height": 0
        },
        "id": "XMMOlNYg2bOe",
        "outputId": "9d894565-54c8-483e-b1e4-bce8c2afa03a"
      },
      "source": [
        "# lets slice data :\n",
        "df_data = df_data[df_data['call_duration'] <= 5400]\n",
        "df_data.sample(4)"
      ],
      "execution_count": 35,
      "outputs": [
        {
          "output_type": "execute_result",
          "data": {
            "text/html": [
              "<div>\n",
              "<style scoped>\n",
              "    .dataframe tbody tr th:only-of-type {\n",
              "        vertical-align: middle;\n",
              "    }\n",
              "\n",
              "    .dataframe tbody tr th {\n",
              "        vertical-align: top;\n",
              "    }\n",
              "\n",
              "    .dataframe thead th {\n",
              "        text-align: right;\n",
              "    }\n",
              "</style>\n",
              "<table border=\"1\" class=\"dataframe\">\n",
              "  <thead>\n",
              "    <tr style=\"text-align: right;\">\n",
              "      <th></th>\n",
              "      <th>user_id</th>\n",
              "      <th>date</th>\n",
              "      <th>direction</th>\n",
              "      <th>internal</th>\n",
              "      <th>operator_id</th>\n",
              "      <th>is_missed_call</th>\n",
              "      <th>calls_count</th>\n",
              "      <th>call_duration</th>\n",
              "      <th>total_call_duration</th>\n",
              "    </tr>\n",
              "  </thead>\n",
              "  <tbody>\n",
              "    <tr>\n",
              "      <th>21678</th>\n",
              "      <td>167035</td>\n",
              "      <td>2019-11-11</td>\n",
              "      <td>in</td>\n",
              "      <td>False</td>\n",
              "      <td>923528</td>\n",
              "      <td>False</td>\n",
              "      <td>3</td>\n",
              "      <td>123</td>\n",
              "      <td>212</td>\n",
              "    </tr>\n",
              "    <tr>\n",
              "      <th>47963</th>\n",
              "      <td>168187</td>\n",
              "      <td>2019-10-30</td>\n",
              "      <td>out</td>\n",
              "      <td>False</td>\n",
              "      <td>937988</td>\n",
              "      <td>True</td>\n",
              "      <td>7</td>\n",
              "      <td>0</td>\n",
              "      <td>235</td>\n",
              "    </tr>\n",
              "    <tr>\n",
              "      <th>37605</th>\n",
              "      <td>167630</td>\n",
              "      <td>2019-10-02</td>\n",
              "      <td>in</td>\n",
              "      <td>False</td>\n",
              "      <td>920666</td>\n",
              "      <td>False</td>\n",
              "      <td>2</td>\n",
              "      <td>521</td>\n",
              "      <td>539</td>\n",
              "    </tr>\n",
              "    <tr>\n",
              "      <th>5620</th>\n",
              "      <td>166520</td>\n",
              "      <td>2019-11-22</td>\n",
              "      <td>out</td>\n",
              "      <td>False</td>\n",
              "      <td>910902</td>\n",
              "      <td>False</td>\n",
              "      <td>2</td>\n",
              "      <td>632</td>\n",
              "      <td>655</td>\n",
              "    </tr>\n",
              "  </tbody>\n",
              "</table>\n",
              "</div>"
            ],
            "text/plain": [
              "       user_id       date  ... call_duration  total_call_duration\n",
              "21678   167035 2019-11-11  ...           123                  212\n",
              "47963   168187 2019-10-30  ...             0                  235\n",
              "37605   167630 2019-10-02  ...           521                  539\n",
              "5620    166520 2019-11-22  ...           632                  655\n",
              "\n",
              "[4 rows x 9 columns]"
            ]
          },
          "metadata": {
            "tags": []
          },
          "execution_count": 35
        }
      ]
    },
    {
      "cell_type": "code",
      "metadata": {
        "colab": {
          "base_uri": "https://localhost:8080/",
          "height": 0
        },
        "id": "n3b_CJY54aKn",
        "outputId": "e7a3d882-4be3-409c-c1d3-d487c69c39b0"
      },
      "source": [
        "df_data.astype({'operator_id': 'int64'}).plot.scatter(x='operator_id',y='call_duration',figsize=(18,8))\n",
        "plt.title('Call durations distribution',fontdict={'fontsize':22})\n",
        "plt.xlabel('operator_id',fontdict={'fontsize':16})\n",
        "plt.ylabel('Call duration in seconds',fontdict={'fontsize':16})\n",
        "plt.show()\n",
        "\n",
        "# a alook into distribution now"
      ],
      "execution_count": 36,
      "outputs": [
        {
          "output_type": "display_data",
          "data": {
            "image/png": "[encoded data removed]",
            "text/plain": [
              "<Figure size 1296x576 with 1 Axes>"
            ]
          },
          "metadata": {
            "tags": [],
            "needs_background": "light"
          }
        }
      ]
    },
    {
      "cell_type": "code",
      "metadata": {
        "colab": {
          "base_uri": "https://localhost:8080/"
        },
        "id": "7ic09J_Q5da9",
        "outputId": "ee89cfc5-b0ec-4c32-9454-b3dfd376ff19"
      },
      "source": [
        "# number of call that user was waiting more than 30 minutes (1800 seconds):\n",
        "df_data[df_data['total_call_duration'] > 7200]['total_call_duration'].value_counts().sum()"
      ],
      "execution_count": 37,
      "outputs": [
        {
          "output_type": "execute_result",
          "data": {
            "text/plain": [
              "146"
            ]
          },
          "metadata": {
            "tags": []
          },
          "execution_count": 37
        }
      ]
    },
    {
      "cell_type": "markdown",
      "metadata": {
        "id": "8W1wWmSU62I3"
      },
      "source": [
        "lets consider these as outliers as well<p>\n",
        "a user would probably wont wait more than half an hour <p>\n",
        "lets assume that in this soecific place there is a law that inforce companys not wait that long :)"
      ]
    },
    {
      "cell_type": "code",
      "metadata": {
        "id": "Zj5tSr2660OB"
      },
      "source": [
        "# will remove outliers:\n",
        "df_data = df_data[df_data['total_call_duration'] <= 7200]"
      ],
      "execution_count": 38,
      "outputs": []
    },
    {
      "cell_type": "code",
      "metadata": {
        "colab": {
          "base_uri": "https://localhost:8080/",
          "height": 0
        },
        "id": "pjKPqAmi5SiJ",
        "outputId": "dad2dbef-4749-450b-be20-ccb5e9ae5bc9"
      },
      "source": [
        "df_data.astype({'operator_id': 'int64'}).plot.scatter(x='operator_id',y='total_call_duration',figsize=(18,8))\n",
        "plt.title('Call durations distribution',fontdict={'fontsize':22})\n",
        "plt.xlabel('operator_id',fontdict={'fontsize':16})\n",
        "plt.ylabel('Call duration in seconds',fontdict={'fontsize':16})\n",
        "plt.show()\n",
        "\n",
        "# a alook into distribution with total_call_duration - look ok"
      ],
      "execution_count": 39,
      "outputs": [
        {
          "output_type": "display_data",
          "data": {
            "image/png": "[encoded data removed]",
            "text/plain": [
              "<Figure size 1296x576 with 1 Axes>"
            ]
          },
          "metadata": {
            "tags": [],
            "needs_background": "light"
          }
        }
      ]
    },
    {
      "cell_type": "markdown",
      "metadata": {
        "id": "9cxreIO6NSpY"
      },
      "source": [
        "_'calls_count'_ columns have his outliers as well"
      ]
    },
    {
      "cell_type": "code",
      "metadata": {
        "colab": {
          "base_uri": "https://localhost:8080/",
          "height": 0
        },
        "id": "NpDNjJNqNqdv",
        "outputId": "0d7f33a8-2d06-4f8e-f2ef-2dbba5e2792d"
      },
      "source": [
        "df_data.astype({'operator_id': 'int64'}).plot.scatter(x='operator_id',y='calls_count',figsize=(18,8))\n",
        "plt.title('Call durations distribution',fontdict={'fontsize':22})\n",
        "plt.xlabel('operator_id',fontdict={'fontsize':16})\n",
        "plt.ylabel('Calls count',fontdict={'fontsize':16})\n",
        "plt.show()\n",
        "\n",
        "# a alook into distribution with total_call_duration - look ok"
      ],
      "execution_count": 40,
      "outputs": [
        {
          "output_type": "display_data",
          "data": {
            "image/png": "[encoded data removed]",
            "text/plain": [
              "<Figure size 1296x576 with 1 Axes>"
            ]
          },
          "metadata": {
            "tags": [],
            "needs_background": "light"
          }
        }
      ]
    },
    {
      "cell_type": "markdown",
      "metadata": {
        "id": "8ye1j2b6Ocys"
      },
      "source": [
        "looking in stats and graph above we can say in confidance that more than 60 calls is an outlier <p>\n",
        "as well this figure of 60 allow us to drop a legit amount of rows"
      ]
    },
    {
      "cell_type": "code",
      "metadata": {
        "colab": {
          "base_uri": "https://localhost:8080/",
          "height": 0
        },
        "id": "ESyH4a2fOsLT",
        "outputId": "6b9a00b7-b988-47f5-a29f-64c1235f8a84"
      },
      "source": [
        "'total rows dropped: {}'.format(df_data.query('(calls_count  > 60)').shape[0])"
      ],
      "execution_count": 41,
      "outputs": [
        {
          "output_type": "execute_result",
          "data": {
            "application/vnd.google.colaboratory.intrinsic+json": {
              "type": "string"
            },
            "text/plain": [
              "'total rows dropped: 1220'"
            ]
          },
          "metadata": {
            "tags": []
          },
          "execution_count": 41
        }
      ]
    },
    {
      "cell_type": "code",
      "metadata": {
        "id": "vZUVwFzzPGDh"
      },
      "source": [
        "df_data = df_data.query('~(calls_count  > 60)')"
      ],
      "execution_count": 42,
      "outputs": []
    },
    {
      "cell_type": "markdown",
      "metadata": {
        "id": "qAhqu_S4x4RK"
      },
      "source": [
        "Conclusions:\n",
        "- with our preprocessing we able to find that clients data has more \"clean\" data with no necessary adjustments to be done\n",
        "- on the contarary in our dataset we had to make more adjustments where we remove a big set of dupplicates. removed more rows with NaN values (internal col) and replaced NaNs at operator_id column with the id of the rows above\n",
        "- outliers removed with call ongoing more than 1.5 hours long\n",
        "- outliers removed with calls waiting more than 30 minutes for operator to answer\n",
        "- outlier number of calls count dropped as well when I decide to go with more than 60 calls as an outlier since it allow us to remove standard number of rows without damage our data and also remain with an ouliers that might give as some information further in the analysis"
      ]
    },
    {
      "cell_type": "markdown",
      "metadata": {
        "id": "1u4GhehWVqup"
      },
      "source": [
        "[Back to ToC](#content1)"
      ]
    },
    {
      "cell_type": "markdown",
      "metadata": {
        "id": "M22trVmHhJkl"
      },
      "source": [
        "# Step 3: Exploratory Data Analysis (EDA): <a class=\"anchor\" id=\"step3\"></a>\n"
      ]
    },
    {
      "cell_type": "code",
      "metadata": {
        "colab": {
          "base_uri": "https://localhost:8080/",
          "height": 94
        },
        "id": "7masWrpAIzmS",
        "outputId": "df90ae66-612d-4a86-8e72-397a210f871c"
      },
      "source": [
        "# lets merge tables into 1 df\n",
        "df_merged = pd.merge(df_data,df_clients,on='user_id')\n",
        "df_merged.head(1)"
      ],
      "execution_count": 43,
      "outputs": [
        {
          "output_type": "execute_result",
          "data": {
            "text/html": [
              "<div>\n",
              "<style scoped>\n",
              "    .dataframe tbody tr th:only-of-type {\n",
              "        vertical-align: middle;\n",
              "    }\n",
              "\n",
              "    .dataframe tbody tr th {\n",
              "        vertical-align: top;\n",
              "    }\n",
              "\n",
              "    .dataframe thead th {\n",
              "        text-align: right;\n",
              "    }\n",
              "</style>\n",
              "<table border=\"1\" class=\"dataframe\">\n",
              "  <thead>\n",
              "    <tr style=\"text-align: right;\">\n",
              "      <th></th>\n",
              "      <th>user_id</th>\n",
              "      <th>date</th>\n",
              "      <th>direction</th>\n",
              "      <th>internal</th>\n",
              "      <th>operator_id</th>\n",
              "      <th>is_missed_call</th>\n",
              "      <th>calls_count</th>\n",
              "      <th>call_duration</th>\n",
              "      <th>total_call_duration</th>\n",
              "      <th>tariff_plan</th>\n",
              "      <th>date_start</th>\n",
              "    </tr>\n",
              "  </thead>\n",
              "  <tbody>\n",
              "    <tr>\n",
              "      <th>0</th>\n",
              "      <td>166377</td>\n",
              "      <td>2019-08-04</td>\n",
              "      <td>out</td>\n",
              "      <td>True</td>\n",
              "      <td>880022</td>\n",
              "      <td>True</td>\n",
              "      <td>3</td>\n",
              "      <td>0</td>\n",
              "      <td>5</td>\n",
              "      <td>B</td>\n",
              "      <td>2019-08-01</td>\n",
              "    </tr>\n",
              "  </tbody>\n",
              "</table>\n",
              "</div>"
            ],
            "text/plain": [
              "   user_id       date direction  ...  total_call_duration tariff_plan  date_start\n",
              "0   166377 2019-08-04       out  ...                    5           B  2019-08-01\n",
              "\n",
              "[1 rows x 11 columns]"
            ]
          },
          "metadata": {
            "tags": []
          },
          "execution_count": 43
        }
      ]
    },
    {
      "cell_type": "code",
      "metadata": {
        "id": "tcho_SSWJryC"
      },
      "source": [
        "check = df_merged[df_merged['date']<df_merged['date_start']]"
      ],
      "execution_count": 44,
      "outputs": []
    },
    {
      "cell_type": "code",
      "metadata": {
        "colab": {
          "base_uri": "https://localhost:8080/"
        },
        "id": "7qJww4sfKKOE",
        "outputId": "880f8862-64fa-4c67-fb07-c21a955bd1c2"
      },
      "source": [
        "# lets look at the differences with dates:\n",
        "(check['date'] - check['date_start']).value_counts()"
      ],
      "execution_count": 45,
      "outputs": [
        {
          "output_type": "execute_result",
          "data": {
            "text/plain": [
              "-1 days    103\n",
              "dtype: int64"
            ]
          },
          "metadata": {
            "tags": []
          },
          "execution_count": 45
        }
      ]
    },
    {
      "cell_type": "markdown",
      "metadata": {
        "id": "kVhaglk0K6kr"
      },
      "source": [
        "with our check we able to find that it is only 1 day difference between the user call an date_start.<p>\n",
        "this may happen of a delay update in the system. so lets assume -1 days differences is like 0 days difference"
      ]
    },
    {
      "cell_type": "code",
      "metadata": {
        "colab": {
          "base_uri": "https://localhost:8080/",
          "height": 94
        },
        "id": "W8gLXCf_L4N6",
        "outputId": "feaac76d-d4ae-4e53-a5bb-4fb94340f4ab"
      },
      "source": [
        "# lets fix the original dataset\n",
        "df_merged['date_start'] = df_merged.apply(lambda x: x['date_start'] if x['date'] >= x['date_start'] else x['date'], axis=1)\n",
        "df_merged.head(1)"
      ],
      "execution_count": 46,
      "outputs": [
        {
          "output_type": "execute_result",
          "data": {
            "text/html": [
              "<div>\n",
              "<style scoped>\n",
              "    .dataframe tbody tr th:only-of-type {\n",
              "        vertical-align: middle;\n",
              "    }\n",
              "\n",
              "    .dataframe tbody tr th {\n",
              "        vertical-align: top;\n",
              "    }\n",
              "\n",
              "    .dataframe thead th {\n",
              "        text-align: right;\n",
              "    }\n",
              "</style>\n",
              "<table border=\"1\" class=\"dataframe\">\n",
              "  <thead>\n",
              "    <tr style=\"text-align: right;\">\n",
              "      <th></th>\n",
              "      <th>user_id</th>\n",
              "      <th>date</th>\n",
              "      <th>direction</th>\n",
              "      <th>internal</th>\n",
              "      <th>operator_id</th>\n",
              "      <th>is_missed_call</th>\n",
              "      <th>calls_count</th>\n",
              "      <th>call_duration</th>\n",
              "      <th>total_call_duration</th>\n",
              "      <th>tariff_plan</th>\n",
              "      <th>date_start</th>\n",
              "    </tr>\n",
              "  </thead>\n",
              "  <tbody>\n",
              "    <tr>\n",
              "      <th>0</th>\n",
              "      <td>166377</td>\n",
              "      <td>2019-08-04</td>\n",
              "      <td>out</td>\n",
              "      <td>True</td>\n",
              "      <td>880022</td>\n",
              "      <td>True</td>\n",
              "      <td>3</td>\n",
              "      <td>0</td>\n",
              "      <td>5</td>\n",
              "      <td>B</td>\n",
              "      <td>2019-08-01</td>\n",
              "    </tr>\n",
              "  </tbody>\n",
              "</table>\n",
              "</div>"
            ],
            "text/plain": [
              "   user_id       date direction  ...  total_call_duration tariff_plan  date_start\n",
              "0   166377 2019-08-04       out  ...                    5           B  2019-08-01\n",
              "\n",
              "[1 rows x 11 columns]"
            ]
          },
          "metadata": {
            "tags": []
          },
          "execution_count": 46
        }
      ]
    },
    {
      "cell_type": "code",
      "metadata": {
        "colab": {
          "base_uri": "https://localhost:8080/",
          "height": 47
        },
        "id": "LIawEurrK1LZ",
        "outputId": "c55b4936-0f81-4bdf-d3e2-afb5786952a1"
      },
      "source": [
        "# just to be sure:\n",
        "df_merged[df_merged['date']<df_merged['date_start']]\n",
        "# look ok"
      ],
      "execution_count": 47,
      "outputs": [
        {
          "output_type": "execute_result",
          "data": {
            "text/html": [
              "<div>\n",
              "<style scoped>\n",
              "    .dataframe tbody tr th:only-of-type {\n",
              "        vertical-align: middle;\n",
              "    }\n",
              "\n",
              "    .dataframe tbody tr th {\n",
              "        vertical-align: top;\n",
              "    }\n",
              "\n",
              "    .dataframe thead th {\n",
              "        text-align: right;\n",
              "    }\n",
              "</style>\n",
              "<table border=\"1\" class=\"dataframe\">\n",
              "  <thead>\n",
              "    <tr style=\"text-align: right;\">\n",
              "      <th></th>\n",
              "      <th>user_id</th>\n",
              "      <th>date</th>\n",
              "      <th>direction</th>\n",
              "      <th>internal</th>\n",
              "      <th>operator_id</th>\n",
              "      <th>is_missed_call</th>\n",
              "      <th>calls_count</th>\n",
              "      <th>call_duration</th>\n",
              "      <th>total_call_duration</th>\n",
              "      <th>tariff_plan</th>\n",
              "      <th>date_start</th>\n",
              "    </tr>\n",
              "  </thead>\n",
              "  <tbody>\n",
              "  </tbody>\n",
              "</table>\n",
              "</div>"
            ],
            "text/plain": [
              "Empty DataFrame\n",
              "Columns: [user_id, date, direction, internal, operator_id, is_missed_call, calls_count, call_duration, total_call_duration, tariff_plan, date_start]\n",
              "Index: []"
            ]
          },
          "metadata": {
            "tags": []
          },
          "execution_count": 47
        }
      ]
    },
    {
      "cell_type": "markdown",
      "metadata": {
        "id": "ZmYYS6z9Bb25"
      },
      "source": [
        "distributions of 'internal' , 'is_missed_call' , 'direction' columns"
      ]
    },
    {
      "cell_type": "code",
      "metadata": {
        "colab": {
          "base_uri": "https://localhost:8080/",
          "height": 1000
        },
        "id": "2q1c9cZYCtRh",
        "scrolled": false,
        "outputId": "bf6821ec-8c91-4e30-fd70-c513c5efc9e0"
      },
      "source": [
        "cols = ['internal','is_missed_call','direction','tariff_plan']\n",
        "for col in cols:\n",
        "  graph = df_merged[col].value_counts(normalize=True).reset_index()\n",
        "  graph.columns = [col,'proportion']\n",
        "  graph['proportion'] = graph['proportion'] * 100\n",
        "  # plot:\n",
        "  graph.set_index(col).plot.pie(y='proportion',autopct=\"%.2f%%\",figsize=(17,9))\n",
        "  plt.title('Distribution of '+col,fontdict={'fontsize':22})\n",
        "  pylab.ylabel('')\n",
        "  pylab.xlabel('')\n",
        "  plt.show()"
      ],
      "execution_count": 48,
      "outputs": [
        {
          "output_type": "display_data",
          "data": {
            "image/png": "[encoded data removed]",
            "text/plain": [
              "<Figure size 1224x648 with 1 Axes>"
            ]
          },
          "metadata": {
            "tags": []
          }
        },
        {
          "output_type": "display_data",
          "data": {
            "image/png": "[encoded data removed]",
            "text/plain": [
              "<Figure size 1224x648 with 1 Axes>"
            ]
          },
          "metadata": {
            "tags": []
          }
        },
        {
          "output_type": "display_data",
          "data": {
            "image/png": "[encoded data removed]",
            "text/plain": [
              "<Figure size 1224x648 with 1 Axes>"
            ]
          },
          "metadata": {
            "tags": []
          }
        },
        {
          "output_type": "display_data",
          "data": {
            "image/png": "[encoded data removed]",
            "text/plain": [
              "<Figure size 1224x648 with 1 Axes>"
            ]
          },
          "metadata": {
            "tags": []
          }
        }
      ]
    },
    {
      "cell_type": "markdown",
      "metadata": {
        "id": "xOABEYq2Gv35"
      },
      "source": [
        "- almost 90% calls are internal\n",
        "- about every 2nd call is a missed call\n",
        "- 40% of call are incoming calls\n",
        "- all 3 tariff groups are divided about the same except grouo A with only 26%"
      ]
    },
    {
      "cell_type": "markdown",
      "metadata": {
        "id": "fvm08hZyISz4"
      },
      "source": [
        "- ## Slice data :\n",
        "- ### top 50 number of daily  missed calls for an operator\n",
        "  "
      ]
    },
    {
      "cell_type": "code",
      "metadata": {
        "colab": {
          "base_uri": "https://localhost:8080/"
        },
        "id": "dOMDZZeJYH3W",
        "outputId": "aa50fb9e-2d65-4806-a780-b245737d2abf"
      },
      "source": [
        "# first see how many operators are they:\n",
        "df_merged['operator_id'].nunique()"
      ],
      "execution_count": 49,
      "outputs": [
        {
          "output_type": "execute_result",
          "data": {
            "text/plain": [
              "1092"
            ]
          },
          "metadata": {
            "tags": []
          },
          "execution_count": 49
        }
      ]
    },
    {
      "cell_type": "code",
      "metadata": {
        "colab": {
          "base_uri": "https://localhost:8080/",
          "height": 0
        },
        "id": "R-2hkCNxT_7J",
        "outputId": "8d82aa3e-fefe-4f27-f2ca-48c3f76d646e"
      },
      "source": [
        "# make query:\n",
        "operator_missed = df_merged.query('is_missed_call == True').groupby('operator_id')['is_missed_call'].count().reset_index().sort_values(by='is_missed_call',ascending=False)\n",
        "operator_missed.head(10)"
      ],
      "execution_count": 50,
      "outputs": [
        {
          "output_type": "execute_result",
          "data": {
            "text/html": [
              "<div>\n",
              "<style scoped>\n",
              "    .dataframe tbody tr th:only-of-type {\n",
              "        vertical-align: middle;\n",
              "    }\n",
              "\n",
              "    .dataframe tbody tr th {\n",
              "        vertical-align: top;\n",
              "    }\n",
              "\n",
              "    .dataframe thead th {\n",
              "        text-align: right;\n",
              "    }\n",
              "</style>\n",
              "<table border=\"1\" class=\"dataframe\">\n",
              "  <thead>\n",
              "    <tr style=\"text-align: right;\">\n",
              "      <th></th>\n",
              "      <th>operator_id</th>\n",
              "      <th>is_missed_call</th>\n",
              "    </tr>\n",
              "  </thead>\n",
              "  <tbody>\n",
              "    <tr>\n",
              "      <th>63</th>\n",
              "      <td>891410</td>\n",
              "      <td>118</td>\n",
              "    </tr>\n",
              "    <tr>\n",
              "      <th>64</th>\n",
              "      <td>891414</td>\n",
              "      <td>113</td>\n",
              "    </tr>\n",
              "    <tr>\n",
              "      <th>165</th>\n",
              "      <td>901880</td>\n",
              "      <td>110</td>\n",
              "    </tr>\n",
              "    <tr>\n",
              "      <th>89</th>\n",
              "      <td>893804</td>\n",
              "      <td>106</td>\n",
              "    </tr>\n",
              "    <tr>\n",
              "      <th>166</th>\n",
              "      <td>901884</td>\n",
              "      <td>103</td>\n",
              "    </tr>\n",
              "    <tr>\n",
              "      <th>204</th>\n",
              "      <td>905538</td>\n",
              "      <td>91</td>\n",
              "    </tr>\n",
              "    <tr>\n",
              "      <th>27</th>\n",
              "      <td>887276</td>\n",
              "      <td>89</td>\n",
              "    </tr>\n",
              "    <tr>\n",
              "      <th>4</th>\n",
              "      <td>880026</td>\n",
              "      <td>87</td>\n",
              "    </tr>\n",
              "    <tr>\n",
              "      <th>1</th>\n",
              "      <td>879898</td>\n",
              "      <td>86</td>\n",
              "    </tr>\n",
              "    <tr>\n",
              "      <th>65</th>\n",
              "      <td>891416</td>\n",
              "      <td>83</td>\n",
              "    </tr>\n",
              "  </tbody>\n",
              "</table>\n",
              "</div>"
            ],
            "text/plain": [
              "    operator_id  is_missed_call\n",
              "63       891410             118\n",
              "64       891414             113\n",
              "165      901880             110\n",
              "89       893804             106\n",
              "166      901884             103\n",
              "204      905538              91\n",
              "27       887276              89\n",
              "4        880026              87\n",
              "1        879898              86\n",
              "65       891416              83"
            ]
          },
          "metadata": {
            "tags": []
          },
          "execution_count": 50
        }
      ]
    },
    {
      "cell_type": "code",
      "metadata": {
        "colab": {
          "base_uri": "https://localhost:8080/"
        },
        "id": "r5x2IgLKXv_Y",
        "outputId": "ce632a2d-ec9b-4a64-9fb5-fba10ca31b11"
      },
      "source": [
        "# lets have mean as an indicator to number of missed calls (whole group):\n",
        "operator_missed['is_missed_call'].mean()"
      ],
      "execution_count": 51,
      "outputs": [
        {
          "output_type": "execute_result",
          "data": {
            "text/plain": [
              "14.85351787773933"
            ]
          },
          "metadata": {
            "tags": []
          },
          "execution_count": 51
        }
      ]
    },
    {
      "cell_type": "code",
      "metadata": {
        "colab": {
          "base_uri": "https://localhost:8080/"
        },
        "id": "2UkCPrzoZZO5",
        "outputId": "aa2924ab-0b19-497e-cd25-542683d856c5"
      },
      "source": [
        "# good to have the median as well\n",
        "operator_missed['is_missed_call'].median()"
      ],
      "execution_count": 52,
      "outputs": [
        {
          "output_type": "execute_result",
          "data": {
            "text/plain": [
              "7.0"
            ]
          },
          "metadata": {
            "tags": []
          },
          "execution_count": 52
        }
      ]
    },
    {
      "cell_type": "code",
      "metadata": {
        "id": "1DDwSgyHYmgF"
      },
      "source": [
        "# have top 50:\n",
        "operator_missed = operator_missed[:50]"
      ],
      "execution_count": 53,
      "outputs": []
    },
    {
      "cell_type": "code",
      "metadata": {
        "colab": {
          "base_uri": "https://localhost:8080/",
          "height": 0
        },
        "id": "uRTTspHxWS8Q",
        "outputId": "8f1673e5-d639-489e-cf6e-f9dd3887213e"
      },
      "source": [
        "# plot:\n",
        "fig, ax = plt.subplots(figsize=(17,10))\n",
        "ax.vlines(x=operator_missed['operator_id'],ymin=0,ymax=operator_missed['is_missed_call'],alpha=0.8,linewidth = 3)\n",
        "ax.scatter(x=operator_missed['operator_id'],y=operator_missed['is_missed_call'])\n",
        "ax.set_title('Number of missed calls - top 50 operators')\n",
        "ax.set_ylabel('Number of missed calls')\n",
        "ax.set_xticks(operator_missed['operator_id'])\n",
        "ax.set_xticklabels(operator_missed['operator_id'],rotation= 90)\n",
        "plt.show()"
      ],
      "execution_count": 54,
      "outputs": [
        {
          "output_type": "display_data",
          "data": {
            "image/png": "[encoded data removed]",
            "text/plain": [
              "<Figure size 1224x720 with 1 Axes>"
            ]
          },
          "metadata": {
            "tags": [],
            "needs_background": "light"
          }
        }
      ]
    },
    {
      "cell_type": "markdown",
      "metadata": {
        "id": "PtoNSDAdYzbk"
      },
      "source": [
        "- within number of missed calls we will probably accept number of no more than 20 calls unanswered\n",
        "- looking at top 50 operators with most missed calls we able to see that they all over the mean figure\n",
        "- we initialy looked at the meadian as well so skewness was noted when it is easy to see where is the impact on the mean value comes from only by looking on the top 50 \n",
        "- lots of operators are with small number of missed calls while the ones with highest amount of missed calls make the balance to there side making skew results"
      ]
    },
    {
      "cell_type": "markdown",
      "metadata": {
        "id": "VxpgbOZGaKJy"
      },
      "source": [
        "- ### Most pending time calls "
      ]
    },
    {
      "cell_type": "code",
      "metadata": {
        "colab": {
          "base_uri": "https://localhost:8080/",
          "height": 0
        },
        "id": "Kk5i5f5JfJoz",
        "outputId": "c9a1684f-6b02-4fc3-d706-a515884489c0"
      },
      "source": [
        "df_merged.head(1)"
      ],
      "execution_count": 55,
      "outputs": [
        {
          "output_type": "execute_result",
          "data": {
            "text/html": [
              "<div>\n",
              "<style scoped>\n",
              "    .dataframe tbody tr th:only-of-type {\n",
              "        vertical-align: middle;\n",
              "    }\n",
              "\n",
              "    .dataframe tbody tr th {\n",
              "        vertical-align: top;\n",
              "    }\n",
              "\n",
              "    .dataframe thead th {\n",
              "        text-align: right;\n",
              "    }\n",
              "</style>\n",
              "<table border=\"1\" class=\"dataframe\">\n",
              "  <thead>\n",
              "    <tr style=\"text-align: right;\">\n",
              "      <th></th>\n",
              "      <th>user_id</th>\n",
              "      <th>date</th>\n",
              "      <th>direction</th>\n",
              "      <th>internal</th>\n",
              "      <th>operator_id</th>\n",
              "      <th>is_missed_call</th>\n",
              "      <th>calls_count</th>\n",
              "      <th>call_duration</th>\n",
              "      <th>total_call_duration</th>\n",
              "      <th>tariff_plan</th>\n",
              "      <th>date_start</th>\n",
              "    </tr>\n",
              "  </thead>\n",
              "  <tbody>\n",
              "    <tr>\n",
              "      <th>0</th>\n",
              "      <td>166377</td>\n",
              "      <td>2019-08-04</td>\n",
              "      <td>out</td>\n",
              "      <td>True</td>\n",
              "      <td>880022</td>\n",
              "      <td>True</td>\n",
              "      <td>3</td>\n",
              "      <td>0</td>\n",
              "      <td>5</td>\n",
              "      <td>B</td>\n",
              "      <td>2019-08-01</td>\n",
              "    </tr>\n",
              "  </tbody>\n",
              "</table>\n",
              "</div>"
            ],
            "text/plain": [
              "   user_id       date direction  ...  total_call_duration tariff_plan  date_start\n",
              "0   166377 2019-08-04       out  ...                    5           B  2019-08-01\n",
              "\n",
              "[1 rows x 11 columns]"
            ]
          },
          "metadata": {
            "tags": []
          },
          "execution_count": 55
        }
      ]
    },
    {
      "cell_type": "code",
      "metadata": {
        "id": "dBv_-zz5fLEM"
      },
      "source": [
        "# lets add new col with seconds waiting:\n",
        "df_merged['pending_time'] = df_merged['total_call_duration'] - df_merged['call_duration']"
      ],
      "execution_count": 56,
      "outputs": []
    },
    {
      "cell_type": "code",
      "metadata": {
        "id": "Jon3TsgxfhzA"
      },
      "source": [
        "# lets have data from all the 3 relevant columns\n",
        "call_dur = df_merged.groupby('date').mean()['call_duration'].sort_values(ascending=False).reset_index()\n",
        "total_dur = df_merged.groupby('date').mean()['total_call_duration'].sort_values(ascending=False).reset_index()\n",
        "pending_dur = df_merged.groupby('date').mean()['pending_time'].sort_values(ascending=False).reset_index()"
      ],
      "execution_count": 57,
      "outputs": []
    },
    {
      "cell_type": "code",
      "metadata": {
        "colab": {
          "base_uri": "https://localhost:8080/",
          "height": 0
        },
        "id": "WwFB-ss2hLv4",
        "outputId": "40f3e7ef-8d83-4e32-be0d-57217b11dc1e"
      },
      "source": [
        "total = pd.concat([call_dur,total_dur,pending_dur]).fillna(0).reset_index().drop(columns='index').groupby('date').sum().reset_index()\n",
        "total"
      ],
      "execution_count": 58,
      "outputs": [
        {
          "output_type": "execute_result",
          "data": {
            "text/html": [
              "<div>\n",
              "<style scoped>\n",
              "    .dataframe tbody tr th:only-of-type {\n",
              "        vertical-align: middle;\n",
              "    }\n",
              "\n",
              "    .dataframe tbody tr th {\n",
              "        vertical-align: top;\n",
              "    }\n",
              "\n",
              "    .dataframe thead th {\n",
              "        text-align: right;\n",
              "    }\n",
              "</style>\n",
              "<table border=\"1\" class=\"dataframe\">\n",
              "  <thead>\n",
              "    <tr style=\"text-align: right;\">\n",
              "      <th></th>\n",
              "      <th>date</th>\n",
              "      <th>call_duration</th>\n",
              "      <th>total_call_duration</th>\n",
              "      <th>pending_time</th>\n",
              "    </tr>\n",
              "  </thead>\n",
              "  <tbody>\n",
              "    <tr>\n",
              "      <th>0</th>\n",
              "      <td>2019-08-01</td>\n",
              "      <td>27.166667</td>\n",
              "      <td>81.166667</td>\n",
              "      <td>54.000000</td>\n",
              "    </tr>\n",
              "    <tr>\n",
              "      <th>1</th>\n",
              "      <td>2019-08-02</td>\n",
              "      <td>160.333333</td>\n",
              "      <td>237.333333</td>\n",
              "      <td>77.000000</td>\n",
              "    </tr>\n",
              "    <tr>\n",
              "      <th>2</th>\n",
              "      <td>2019-08-03</td>\n",
              "      <td>38.000000</td>\n",
              "      <td>49.666667</td>\n",
              "      <td>11.666667</td>\n",
              "    </tr>\n",
              "    <tr>\n",
              "      <th>3</th>\n",
              "      <td>2019-08-04</td>\n",
              "      <td>175.250000</td>\n",
              "      <td>274.500000</td>\n",
              "      <td>99.250000</td>\n",
              "    </tr>\n",
              "    <tr>\n",
              "      <th>4</th>\n",
              "      <td>2019-08-05</td>\n",
              "      <td>463.357143</td>\n",
              "      <td>555.285714</td>\n",
              "      <td>91.928571</td>\n",
              "    </tr>\n",
              "    <tr>\n",
              "      <th>...</th>\n",
              "      <td>...</td>\n",
              "      <td>...</td>\n",
              "      <td>...</td>\n",
              "      <td>...</td>\n",
              "    </tr>\n",
              "    <tr>\n",
              "      <th>113</th>\n",
              "      <td>2019-11-23</td>\n",
              "      <td>453.839378</td>\n",
              "      <td>640.787565</td>\n",
              "      <td>186.948187</td>\n",
              "    </tr>\n",
              "    <tr>\n",
              "      <th>114</th>\n",
              "      <td>2019-11-24</td>\n",
              "      <td>562.431522</td>\n",
              "      <td>710.134783</td>\n",
              "      <td>147.703261</td>\n",
              "    </tr>\n",
              "    <tr>\n",
              "      <th>115</th>\n",
              "      <td>2019-11-25</td>\n",
              "      <td>588.980070</td>\n",
              "      <td>749.038687</td>\n",
              "      <td>160.058617</td>\n",
              "    </tr>\n",
              "    <tr>\n",
              "      <th>116</th>\n",
              "      <td>2019-11-26</td>\n",
              "      <td>569.658378</td>\n",
              "      <td>723.658378</td>\n",
              "      <td>154.000000</td>\n",
              "    </tr>\n",
              "    <tr>\n",
              "      <th>117</th>\n",
              "      <td>2019-11-27</td>\n",
              "      <td>563.377462</td>\n",
              "      <td>719.155361</td>\n",
              "      <td>155.777899</td>\n",
              "    </tr>\n",
              "  </tbody>\n",
              "</table>\n",
              "<p>118 rows × 4 columns</p>\n",
              "</div>"
            ],
            "text/plain": [
              "          date  call_duration  total_call_duration  pending_time\n",
              "0   2019-08-01      27.166667            81.166667     54.000000\n",
              "1   2019-08-02     160.333333           237.333333     77.000000\n",
              "2   2019-08-03      38.000000            49.666667     11.666667\n",
              "3   2019-08-04     175.250000           274.500000     99.250000\n",
              "4   2019-08-05     463.357143           555.285714     91.928571\n",
              "..         ...            ...                  ...           ...\n",
              "113 2019-11-23     453.839378           640.787565    186.948187\n",
              "114 2019-11-24     562.431522           710.134783    147.703261\n",
              "115 2019-11-25     588.980070           749.038687    160.058617\n",
              "116 2019-11-26     569.658378           723.658378    154.000000\n",
              "117 2019-11-27     563.377462           719.155361    155.777899\n",
              "\n",
              "[118 rows x 4 columns]"
            ]
          },
          "metadata": {
            "tags": []
          },
          "execution_count": 58
        }
      ]
    },
    {
      "cell_type": "code",
      "metadata": {
        "colab": {
          "base_uri": "https://localhost:8080/",
          "height": 0
        },
        "id": "gR7FeJDfiUkD",
        "outputId": "7b5dfae2-5d5d-4672-b80b-676218b3eba8"
      },
      "source": [
        "# define variable\n",
        "date = total.iloc[:,0]\n",
        "call_duration = total.iloc[:,1]\n",
        "total_call_duration = total.iloc[:,2]\n",
        "pending_time = total.iloc[:,3]\n",
        "x = np.arange(len(total))\n",
        "\n",
        "# plotting stacked bars:\n",
        "plt.figure(figsize=(30,9),facecolor='white')\n",
        "graph_call_duration = plt.bar(x=x, height=call_duration,width=0.4,label='call_duration')\n",
        "graph_total_call_duration = plt.bar(x=x, height=total_call_duration,width=0.4,bottom=call_duration,label='total_call_duration')\n",
        "graph_pending_time = plt.bar(x=x, height=pending_time,width=0.4,bottom=total_call_duration+call_duration,label='pending_time')\n",
        "# labels + legend\n",
        "plt.xlabel('date')\n",
        "plt.ylabel('seconds')\n",
        "plt.xticks(x,date,rotation= 90)\n",
        "plt.title('distribution of time within a call')\n",
        "plt.legend(loc='upper left',prop={'size':'15'})\n",
        "plt.show()\n"
      ],
      "execution_count": 59,
      "outputs": [
        {
          "output_type": "display_data",
          "data": {
            "image/png": "[encoded data removed]",
            "text/plain": [
              "<Figure size 2160x648 with 1 Axes>"
            ]
          },
          "metadata": {
            "tags": []
          }
        }
      ]
    },
    {
      "cell_type": "markdown",
      "metadata": {
        "id": "ir3lceu_Zem-"
      },
      "source": [
        "- most of the time periods total seconds distribution is aoubt the same where we do have few days samples as an outliers (2019-08-10 with a very low measures)\n",
        "- Ideal assumption for our operators would probably lead us to a graph where pending+call=total but it is not the case since we have a lot of missed calls\n",
        "- proportions remain the same about the whole period where total_call is the most dominant in terms of time"
      ]
    },
    {
      "cell_type": "markdown",
      "metadata": {
        "id": "Y4jZZeh3Vquy"
      },
      "source": [
        "[Back to ToC](#content1)"
      ]
    },
    {
      "cell_type": "markdown",
      "metadata": {
        "id": "CYyheqQWWjKZ"
      },
      "source": [
        "# Step 4: Determine ineffective operators <a class=\"anchor\" id=\"step4\"></a>\n"
      ]
    },
    {
      "cell_type": "markdown",
      "metadata": {
        "id": "8-uMYkfDWjKZ"
      },
      "source": [
        "**Definition** - Operators with long pending_time (Over 60 sconds in average) and long call_duration (over 300 seconds in average) I will consider as an ineffective operators.<p>\n",
        "With effevtive operator we will take only the operators that did not missed their call"
      ]
    },
    {
      "cell_type": "code",
      "metadata": {
        "id": "6f5cLVsh_xdN"
      },
      "source": [
        "# definition\n",
        "\n",
        "missed = df_merged.query('direction == \"in\"').groupby('operator_id').agg({'is_missed_call':'sum','pending_time':'mean'}).reset_index()\\\n",
        ".rename(columns={'is_missed_call':'missed_calls'})\n",
        "\n",
        "out_calls = df_merged.query('direction == \"out\"').groupby('operator_id').agg({'calls_count':'count'}).reset_index()\\\n",
        ".rename(columns={'calls_count':'out_calls'})"
      ],
      "execution_count": 60,
      "outputs": []
    },
    {
      "cell_type": "code",
      "metadata": {
        "colab": {
          "base_uri": "https://localhost:8080/",
          "height": 0
        },
        "id": "6T1esIIU_xdO",
        "outputId": "c123eb00-31b7-4c54-aac5-a95422844a2e"
      },
      "source": [
        "out_calls[out_calls['out_calls'] == 0]\n",
        "# no zero here - here we have all the operators that can make out calls"
      ],
      "execution_count": 61,
      "outputs": [
        {
          "output_type": "execute_result",
          "data": {
            "text/html": [
              "<div>\n",
              "<style scoped>\n",
              "    .dataframe tbody tr th:only-of-type {\n",
              "        vertical-align: middle;\n",
              "    }\n",
              "\n",
              "    .dataframe tbody tr th {\n",
              "        vertical-align: top;\n",
              "    }\n",
              "\n",
              "    .dataframe thead th {\n",
              "        text-align: right;\n",
              "    }\n",
              "</style>\n",
              "<table border=\"1\" class=\"dataframe\">\n",
              "  <thead>\n",
              "    <tr style=\"text-align: right;\">\n",
              "      <th></th>\n",
              "      <th>operator_id</th>\n",
              "      <th>out_calls</th>\n",
              "    </tr>\n",
              "  </thead>\n",
              "  <tbody>\n",
              "  </tbody>\n",
              "</table>\n",
              "</div>"
            ],
            "text/plain": [
              "Empty DataFrame\n",
              "Columns: [operator_id, out_calls]\n",
              "Index: []"
            ]
          },
          "metadata": {
            "tags": []
          },
          "execution_count": 61
        }
      ]
    },
    {
      "cell_type": "code",
      "metadata": {
        "id": "960x6jP7_xdO"
      },
      "source": [
        "# lets merge tables into 1 df\n",
        "general = missed.set_index('operator_id').join(out_calls.set_index('operator_id')).reset_index().fillna(0)"
      ],
      "execution_count": 62,
      "outputs": []
    },
    {
      "cell_type": "code",
      "metadata": {
        "colab": {
          "base_uri": "https://localhost:8080/",
          "height": 0
        },
        "id": "NAxwfnwQ_xdO",
        "outputId": "03224c63-e6b8-463b-98f5-44654e8523b6"
      },
      "source": [
        "general.describe()\n",
        "# a look into stats"
      ],
      "execution_count": 63,
      "outputs": [
        {
          "output_type": "execute_result",
          "data": {
            "text/html": [
              "<div>\n",
              "<style scoped>\n",
              "    .dataframe tbody tr th:only-of-type {\n",
              "        vertical-align: middle;\n",
              "    }\n",
              "\n",
              "    .dataframe tbody tr th {\n",
              "        vertical-align: top;\n",
              "    }\n",
              "\n",
              "    .dataframe thead th {\n",
              "        text-align: right;\n",
              "    }\n",
              "</style>\n",
              "<table border=\"1\" class=\"dataframe\">\n",
              "  <thead>\n",
              "    <tr style=\"text-align: right;\">\n",
              "      <th></th>\n",
              "      <th>missed_calls</th>\n",
              "      <th>pending_time</th>\n",
              "      <th>out_calls</th>\n",
              "    </tr>\n",
              "  </thead>\n",
              "  <tbody>\n",
              "    <tr>\n",
              "      <th>count</th>\n",
              "      <td>753.000000</td>\n",
              "      <td>753.000000</td>\n",
              "      <td>753.000000</td>\n",
              "    </tr>\n",
              "    <tr>\n",
              "      <th>mean</th>\n",
              "      <td>0.544489</td>\n",
              "      <td>53.596529</td>\n",
              "      <td>27.037185</td>\n",
              "    </tr>\n",
              "    <tr>\n",
              "      <th>std</th>\n",
              "      <td>1.631945</td>\n",
              "      <td>80.753917</td>\n",
              "      <td>39.228514</td>\n",
              "    </tr>\n",
              "    <tr>\n",
              "      <th>min</th>\n",
              "      <td>0.000000</td>\n",
              "      <td>1.000000</td>\n",
              "      <td>0.000000</td>\n",
              "    </tr>\n",
              "    <tr>\n",
              "      <th>25%</th>\n",
              "      <td>0.000000</td>\n",
              "      <td>17.500000</td>\n",
              "      <td>0.000000</td>\n",
              "    </tr>\n",
              "    <tr>\n",
              "      <th>50%</th>\n",
              "      <td>0.000000</td>\n",
              "      <td>30.800000</td>\n",
              "      <td>9.000000</td>\n",
              "    </tr>\n",
              "    <tr>\n",
              "      <th>75%</th>\n",
              "      <td>0.000000</td>\n",
              "      <td>57.125000</td>\n",
              "      <td>40.000000</td>\n",
              "    </tr>\n",
              "    <tr>\n",
              "      <th>max</th>\n",
              "      <td>16.000000</td>\n",
              "      <td>991.322581</td>\n",
              "      <td>226.000000</td>\n",
              "    </tr>\n",
              "  </tbody>\n",
              "</table>\n",
              "</div>"
            ],
            "text/plain": [
              "       missed_calls  pending_time   out_calls\n",
              "count    753.000000    753.000000  753.000000\n",
              "mean       0.544489     53.596529   27.037185\n",
              "std        1.631945     80.753917   39.228514\n",
              "min        0.000000      1.000000    0.000000\n",
              "25%        0.000000     17.500000    0.000000\n",
              "50%        0.000000     30.800000    9.000000\n",
              "75%        0.000000     57.125000   40.000000\n",
              "max       16.000000    991.322581  226.000000"
            ]
          },
          "metadata": {
            "tags": []
          },
          "execution_count": 63
        }
      ]
    },
    {
      "cell_type": "code",
      "metadata": {
        "id": "FUOgALEL_xdO"
      },
      "source": [
        "# having stats above we can segregate groups as below with the mean figures from general table above\n",
        "ineffective = general.query('((pending_time > 30) or (missed_calls > 0) or (1 <= out_calls < 9))')\n",
        "effective = general.query('((pending_time <= 30) and (missed_calls == 0) and (out_calls >= 9))')"
      ],
      "execution_count": 64,
      "outputs": []
    },
    {
      "cell_type": "code",
      "metadata": {
        "colab": {
          "base_uri": "https://localhost:8080/",
          "height": 0
        },
        "id": "eA7-8KD1_xdO",
        "outputId": "3f695b18-f5dd-4212-8a3f-b07870843fa9"
      },
      "source": [
        "ineffective.describe()"
      ],
      "execution_count": 65,
      "outputs": [
        {
          "output_type": "execute_result",
          "data": {
            "text/html": [
              "<div>\n",
              "<style scoped>\n",
              "    .dataframe tbody tr th:only-of-type {\n",
              "        vertical-align: middle;\n",
              "    }\n",
              "\n",
              "    .dataframe tbody tr th {\n",
              "        vertical-align: top;\n",
              "    }\n",
              "\n",
              "    .dataframe thead th {\n",
              "        text-align: right;\n",
              "    }\n",
              "</style>\n",
              "<table border=\"1\" class=\"dataframe\">\n",
              "  <thead>\n",
              "    <tr style=\"text-align: right;\">\n",
              "      <th></th>\n",
              "      <th>missed_calls</th>\n",
              "      <th>pending_time</th>\n",
              "      <th>out_calls</th>\n",
              "    </tr>\n",
              "  </thead>\n",
              "  <tbody>\n",
              "    <tr>\n",
              "      <th>count</th>\n",
              "      <td>516.000000</td>\n",
              "      <td>516.000000</td>\n",
              "      <td>516.000000</td>\n",
              "    </tr>\n",
              "    <tr>\n",
              "      <th>mean</th>\n",
              "      <td>0.794574</td>\n",
              "      <td>70.301895</td>\n",
              "      <td>29.405039</td>\n",
              "    </tr>\n",
              "    <tr>\n",
              "      <th>std</th>\n",
              "      <td>1.920874</td>\n",
              "      <td>92.784662</td>\n",
              "      <td>42.163306</td>\n",
              "    </tr>\n",
              "    <tr>\n",
              "      <th>min</th>\n",
              "      <td>0.000000</td>\n",
              "      <td>1.000000</td>\n",
              "      <td>0.000000</td>\n",
              "    </tr>\n",
              "    <tr>\n",
              "      <th>25%</th>\n",
              "      <td>0.000000</td>\n",
              "      <td>30.193750</td>\n",
              "      <td>1.000000</td>\n",
              "    </tr>\n",
              "    <tr>\n",
              "      <th>50%</th>\n",
              "      <td>0.000000</td>\n",
              "      <td>45.078947</td>\n",
              "      <td>8.000000</td>\n",
              "    </tr>\n",
              "    <tr>\n",
              "      <th>75%</th>\n",
              "      <td>1.000000</td>\n",
              "      <td>75.006944</td>\n",
              "      <td>42.000000</td>\n",
              "    </tr>\n",
              "    <tr>\n",
              "      <th>max</th>\n",
              "      <td>16.000000</td>\n",
              "      <td>991.322581</td>\n",
              "      <td>226.000000</td>\n",
              "    </tr>\n",
              "  </tbody>\n",
              "</table>\n",
              "</div>"
            ],
            "text/plain": [
              "       missed_calls  pending_time   out_calls\n",
              "count    516.000000    516.000000  516.000000\n",
              "mean       0.794574     70.301895   29.405039\n",
              "std        1.920874     92.784662   42.163306\n",
              "min        0.000000      1.000000    0.000000\n",
              "25%        0.000000     30.193750    1.000000\n",
              "50%        0.000000     45.078947    8.000000\n",
              "75%        1.000000     75.006944   42.000000\n",
              "max       16.000000    991.322581  226.000000"
            ]
          },
          "metadata": {
            "tags": []
          },
          "execution_count": 65
        }
      ]
    },
    {
      "cell_type": "code",
      "metadata": {
        "colab": {
          "base_uri": "https://localhost:8080/",
          "height": 0
        },
        "id": "fTrTScUL_xdP",
        "outputId": "ddf673c1-1f40-41de-eb2f-268c18c74ec2"
      },
      "source": [
        "effective.describe()"
      ],
      "execution_count": 66,
      "outputs": [
        {
          "output_type": "execute_result",
          "data": {
            "text/html": [
              "<div>\n",
              "<style scoped>\n",
              "    .dataframe tbody tr th:only-of-type {\n",
              "        vertical-align: middle;\n",
              "    }\n",
              "\n",
              "    .dataframe tbody tr th {\n",
              "        vertical-align: top;\n",
              "    }\n",
              "\n",
              "    .dataframe thead th {\n",
              "        text-align: right;\n",
              "    }\n",
              "</style>\n",
              "<table border=\"1\" class=\"dataframe\">\n",
              "  <thead>\n",
              "    <tr style=\"text-align: right;\">\n",
              "      <th></th>\n",
              "      <th>missed_calls</th>\n",
              "      <th>pending_time</th>\n",
              "      <th>out_calls</th>\n",
              "    </tr>\n",
              "  </thead>\n",
              "  <tbody>\n",
              "    <tr>\n",
              "      <th>count</th>\n",
              "      <td>131.0</td>\n",
              "      <td>131.000000</td>\n",
              "      <td>131.000000</td>\n",
              "    </tr>\n",
              "    <tr>\n",
              "      <th>mean</th>\n",
              "      <td>0.0</td>\n",
              "      <td>18.013329</td>\n",
              "      <td>39.587786</td>\n",
              "    </tr>\n",
              "    <tr>\n",
              "      <th>std</th>\n",
              "      <td>0.0</td>\n",
              "      <td>7.112321</td>\n",
              "      <td>32.896310</td>\n",
              "    </tr>\n",
              "    <tr>\n",
              "      <th>min</th>\n",
              "      <td>0.0</td>\n",
              "      <td>2.000000</td>\n",
              "      <td>9.000000</td>\n",
              "    </tr>\n",
              "    <tr>\n",
              "      <th>25%</th>\n",
              "      <td>0.0</td>\n",
              "      <td>13.166667</td>\n",
              "      <td>14.000000</td>\n",
              "    </tr>\n",
              "    <tr>\n",
              "      <th>50%</th>\n",
              "      <td>0.0</td>\n",
              "      <td>18.250000</td>\n",
              "      <td>29.000000</td>\n",
              "    </tr>\n",
              "    <tr>\n",
              "      <th>75%</th>\n",
              "      <td>0.0</td>\n",
              "      <td>23.645833</td>\n",
              "      <td>55.500000</td>\n",
              "    </tr>\n",
              "    <tr>\n",
              "      <th>max</th>\n",
              "      <td>0.0</td>\n",
              "      <td>30.000000</td>\n",
              "      <td>164.000000</td>\n",
              "    </tr>\n",
              "  </tbody>\n",
              "</table>\n",
              "</div>"
            ],
            "text/plain": [
              "       missed_calls  pending_time   out_calls\n",
              "count         131.0    131.000000  131.000000\n",
              "mean            0.0     18.013329   39.587786\n",
              "std             0.0      7.112321   32.896310\n",
              "min             0.0      2.000000    9.000000\n",
              "25%             0.0     13.166667   14.000000\n",
              "50%             0.0     18.250000   29.000000\n",
              "75%             0.0     23.645833   55.500000\n",
              "max             0.0     30.000000  164.000000"
            ]
          },
          "metadata": {
            "tags": []
          },
          "execution_count": 66
        }
      ]
    },
    {
      "cell_type": "markdown",
      "metadata": {
        "id": "R7C7eDJ9Vqu1"
      },
      "source": [
        "[Back to ToC](#content1)"
      ]
    },
    {
      "cell_type": "markdown",
      "metadata": {
        "id": "So4p0wLUhJfI"
      },
      "source": [
        "# Step 5: Test hypotheses <a class=\"anchor\" id=\"step5\"></a>\n",
        "\n",
        "- define alpha as 0.05\n",
        "- H0 & H1 statements for each test\n",
        "- correlation check"
      ]
    },
    {
      "cell_type": "code",
      "metadata": {
        "colab": {
          "base_uri": "https://localhost:8080/",
          "height": 0
        },
        "id": "VRju0qz9_xdQ",
        "outputId": "8a6f3641-c63b-4854-e61b-1b1b36dc9740"
      },
      "source": [
        "ineffective.corr()"
      ],
      "execution_count": 67,
      "outputs": [
        {
          "output_type": "execute_result",
          "data": {
            "text/html": [
              "<div>\n",
              "<style scoped>\n",
              "    .dataframe tbody tr th:only-of-type {\n",
              "        vertical-align: middle;\n",
              "    }\n",
              "\n",
              "    .dataframe tbody tr th {\n",
              "        vertical-align: top;\n",
              "    }\n",
              "\n",
              "    .dataframe thead th {\n",
              "        text-align: right;\n",
              "    }\n",
              "</style>\n",
              "<table border=\"1\" class=\"dataframe\">\n",
              "  <thead>\n",
              "    <tr style=\"text-align: right;\">\n",
              "      <th></th>\n",
              "      <th>missed_calls</th>\n",
              "      <th>pending_time</th>\n",
              "      <th>out_calls</th>\n",
              "    </tr>\n",
              "  </thead>\n",
              "  <tbody>\n",
              "    <tr>\n",
              "      <th>missed_calls</th>\n",
              "      <td>1.00000</td>\n",
              "      <td>0.20667</td>\n",
              "      <td>0.21364</td>\n",
              "    </tr>\n",
              "    <tr>\n",
              "      <th>pending_time</th>\n",
              "      <td>0.20667</td>\n",
              "      <td>1.00000</td>\n",
              "      <td>0.17217</td>\n",
              "    </tr>\n",
              "    <tr>\n",
              "      <th>out_calls</th>\n",
              "      <td>0.21364</td>\n",
              "      <td>0.17217</td>\n",
              "      <td>1.00000</td>\n",
              "    </tr>\n",
              "  </tbody>\n",
              "</table>\n",
              "</div>"
            ],
            "text/plain": [
              "              missed_calls  pending_time  out_calls\n",
              "missed_calls       1.00000       0.20667    0.21364\n",
              "pending_time       0.20667       1.00000    0.17217\n",
              "out_calls          0.21364       0.17217    1.00000"
            ]
          },
          "metadata": {
            "tags": []
          },
          "execution_count": 67
        }
      ]
    },
    {
      "cell_type": "code",
      "metadata": {
        "colab": {
          "base_uri": "https://localhost:8080/",
          "height": 0
        },
        "id": "W-RPge8E_xdQ",
        "outputId": "8551c77b-0359-44fa-e813-3230fb788b57"
      },
      "source": [
        "effective.corr()"
      ],
      "execution_count": 68,
      "outputs": [
        {
          "output_type": "execute_result",
          "data": {
            "text/html": [
              "<div>\n",
              "<style scoped>\n",
              "    .dataframe tbody tr th:only-of-type {\n",
              "        vertical-align: middle;\n",
              "    }\n",
              "\n",
              "    .dataframe tbody tr th {\n",
              "        vertical-align: top;\n",
              "    }\n",
              "\n",
              "    .dataframe thead th {\n",
              "        text-align: right;\n",
              "    }\n",
              "</style>\n",
              "<table border=\"1\" class=\"dataframe\">\n",
              "  <thead>\n",
              "    <tr style=\"text-align: right;\">\n",
              "      <th></th>\n",
              "      <th>missed_calls</th>\n",
              "      <th>pending_time</th>\n",
              "      <th>out_calls</th>\n",
              "    </tr>\n",
              "  </thead>\n",
              "  <tbody>\n",
              "    <tr>\n",
              "      <th>missed_calls</th>\n",
              "      <td>NaN</td>\n",
              "      <td>NaN</td>\n",
              "      <td>NaN</td>\n",
              "    </tr>\n",
              "    <tr>\n",
              "      <th>pending_time</th>\n",
              "      <td>NaN</td>\n",
              "      <td>1.000000</td>\n",
              "      <td>0.048792</td>\n",
              "    </tr>\n",
              "    <tr>\n",
              "      <th>out_calls</th>\n",
              "      <td>NaN</td>\n",
              "      <td>0.048792</td>\n",
              "      <td>1.000000</td>\n",
              "    </tr>\n",
              "  </tbody>\n",
              "</table>\n",
              "</div>"
            ],
            "text/plain": [
              "              missed_calls  pending_time  out_calls\n",
              "missed_calls           NaN           NaN        NaN\n",
              "pending_time           NaN      1.000000   0.048792\n",
              "out_calls              NaN      0.048792   1.000000"
            ]
          },
          "metadata": {
            "tags": []
          },
          "execution_count": 68
        }
      ]
    },
    {
      "cell_type": "markdown",
      "metadata": {
        "id": "s1Db2jM0_xdQ"
      },
      "source": [
        "- Number are not correlated highly with each other - no sign of multicollinearity\n",
        "- missed_calls with only zero "
      ]
    },
    {
      "cell_type": "code",
      "metadata": {
        "colab": {
          "base_uri": "https://localhost:8080/"
        },
        "id": "FUnl-PC5_xdQ",
        "outputId": "b8f50103-c050-4847-8b2e-ea0c11ffc74d"
      },
      "source": [
        "effective['missed_calls'].isna().sum()"
      ],
      "execution_count": 69,
      "outputs": [
        {
          "output_type": "execute_result",
          "data": {
            "text/plain": [
              "0"
            ]
          },
          "metadata": {
            "tags": []
          },
          "execution_count": 69
        }
      ]
    },
    {
      "cell_type": "code",
      "metadata": {
        "id": "HBwXC7Ttkv7S"
      },
      "source": [
        "alpha = 0.01"
      ],
      "execution_count": 70,
      "outputs": []
    },
    {
      "cell_type": "markdown",
      "metadata": {
        "id": "4Oop-17_Zi8j"
      },
      "source": [
        "__if p-value is less than alpha we reject hypothesis__"
      ]
    },
    {
      "cell_type": "code",
      "metadata": {
        "colab": {
          "base_uri": "https://localhost:8080/"
        },
        "id": "E_wI1ij_kl7g",
        "outputId": "190f1175-dae7-48c0-c33a-454c42e2a144"
      },
      "source": [
        "cols = ['missed_calls','pending_time','out_calls']\n",
        "for col in cols:\n",
        "  result = st.ttest_ind(ineffective[col], effective[col])\n",
        "  print(\"H0: μ0 = μ1 \\ mean \" +col+\" of ineffective operators is equal to mean of effective operators\")\n",
        "  print(\"H1: μ0 ≠ μ1 \\ mean \"+col+\" of ineffective operators is not equal to mean of effective operators\")\n",
        "  \n",
        "  if result.pvalue < alpha:\n",
        "      print('Reject H0 hypothesis')\n",
        "  else:\n",
        "      print('Can\\'t reject H0 hypothesis')\n",
        "\n",
        "  print('p-value: {}'.format(result.pvalue))\n",
        "  print()"
      ],
      "execution_count": 71,
      "outputs": [
        {
          "output_type": "stream",
          "text": [
            "H0: μ0 = μ1 \\ mean missed_calls of ineffective operators is equal to mean of effective operators\n",
            "H1: μ0 ≠ μ1 \\ mean missed_calls of ineffective operators is not equal to mean of effective operators\n",
            "Reject H0 hypothesis\n",
            "p-value: 2.737278452563595e-06\n",
            "\n",
            "H0: μ0 = μ1 \\ mean pending_time of ineffective operators is equal to mean of effective operators\n",
            "H1: μ0 ≠ μ1 \\ mean pending_time of ineffective operators is not equal to mean of effective operators\n",
            "Reject H0 hypothesis\n",
            "p-value: 2.3124708265796615e-10\n",
            "\n",
            "H0: μ0 = μ1 \\ mean out_calls of ineffective operators is equal to mean of effective operators\n",
            "H1: μ0 ≠ μ1 \\ mean out_calls of ineffective operators is not equal to mean of effective operators\n",
            "Can't reject H0 hypothesis\n",
            "p-value: 0.010333117266722393\n",
            "\n"
          ],
          "name": "stdout"
        }
      ]
    },
    {
      "cell_type": "markdown",
      "metadata": {
        "id": "BBynM70f_xdS"
      },
      "source": [
        "- 2 out 3 test we can't reject the h0 meaning which leads us to a conclusion that when using a sgnificance level it is hard to say that there is a differences between the effective and ineffective groups when testing missed_calls  & pending_time \n",
        "- When looking at number of out_calls we were able to reject h0 and probably indicate that μ0 ≠ μ1"
      ]
    },
    {
      "cell_type": "markdown",
      "metadata": {
        "id": "THu_4aZjVqu3"
      },
      "source": [
        "[Back to Toc](#content1)"
      ]
    },
    {
      "cell_type": "markdown",
      "metadata": {
        "id": "qtZO8oJHWjKZ"
      },
      "source": [
        "# Step 6: Conclusions <a class=\"anchor\" id=\"step6\"></a>\n",
        "\n",
        "- when first looking at the data and preprocessing it we found a solid number of outliers that skew the data and may impact badly to our conclusion. Decided to remove the ones that was match our guidlines an explanations for doing that.some of them probably was a typo records that should have been reverted back to the BI team to further investigate the figures we got\n",
        "- also raw data was filled with a lot of duplicates that was removed in the same point.\n",
        "- Operators that have empty values ​​we assumed that it was a typo also and was replaced with the above value assuming the records of the operator have a big change to come each other\n",
        "- impact of 0 was noticed within call_duration column that was also referred as unanswered call\n",
        "- operator considered ineffective if they have a large number of missed incoming calls (internal and external), long waiting time for incoming calls and small outgoing calls. here I created 2 data frames and than joined them togther. next I definced ineffective & effevtive operators using mean as standard values\n",
        "- hypothesis check - we couldn't rejecet 2 out of 3 hypothesis which means there are not difference between the 2 groups in terms of missed_calls  & pending_time  (waiting) time.\n",
        "- H0 rejected only with number of out_calls - there are differences between effective and ineffective groups by their number of missed calls. alpha = 0.01"
      ]
    },
    {
      "cell_type": "markdown",
      "metadata": {
        "id": "Ib6vDSBSVqu4"
      },
      "source": [
        "[Back to ToC](#content1)"
      ]
    },
    {
      "cell_type": "markdown",
      "metadata": {
        "id": "MXTPibXT_xdT"
      },
      "source": [
        "# Step 7: Resources<p><a class=\"anchor\" id=\"step7\"></a>\n",
        "\n",
        "https://www.isixsigma.com/tools-templates/hypothesis-testing/making-sense-two-sample-t-test/<p> Two sample test  helps to answer questions like whether the average success rate is higher after implementing a new method than the one before \n",
        "\n",
        "https://www.quora.com/What-is-the-difference-between-A-B-testing-and-a-t-test <p>here we have the differences between a/b tests and t-test \n",
        "\n",
        "https://www.jmp.com/en_ch/statistics-knowledge-portal/t-test/t-distribution.html <p>explainations about assumptions while using t-tests. gave me a clearer understanding using ttest\n",
        "\n",
        "https://www.statisticshowto.com/probability-and-statistics/non-normal-distributions/ <p>some clarifications to cases where the data is not normally distributed. Eventhough this is an advanced techniques it helped me to be aware of cases like this and how should we deal with the in the future\n",
        "\n",
        "https://www.statisticshowto.com/probability-and-statistics/hypothesis-testing/t-score-vs-z-score/\n",
        "\n",
        "https://www.youtube.com/watch?v=I_hXQ1vatV0&feature=emb_title <p>\n",
        "differences between z-score and t-score. helped to understand how should we run hypothesis tests on our case. Eventhough the variation is known between our groups of test it is ok to use t-test as we did here and explained in the video\n",
        "\n",
        "https://en.wikipedia.org/wiki/Multiple_comparisons_problem <p>\n",
        "Multi testing - to avoid multiple comparisons problem"
      ]
    },
    {
      "cell_type": "code",
      "metadata": {
        "colab": {
          "base_uri": "https://localhost:8080/",
          "height": 17
        },
        "id": "I3fN1f9c_xdT",
        "scrolled": false,
        "outputId": "4d02b3b2-dcee-4bf7-9810-8c3b80481e75"
      },
      "source": [
        "# Generate new proccesed data csv file  \n",
        "from google.colab import files\n",
        "df_merged.to_csv('df.csv')\n",
        "files.download('df.csv')"
      ],
      "execution_count": 72,
      "outputs": [
        {
          "output_type": "display_data",
          "data": {
            "application/javascript": [
              "\n",
              "    async function download(id, filename, size) {\n",
              "      if (!google.colab.kernel.accessAllowed) {\n",
              "        return;\n",
              "      }\n",
              "      const div = document.createElement('div');\n",
              "      const label = document.createElement('label');\n",
              "      label.textContent = `Downloading \"${filename}\": `;\n",
              "      div.appendChild(label);\n",
              "      const progress = document.createElement('progress');\n",
              "      progress.max = size;\n",
              "      div.appendChild(progress);\n",
              "      document.body.appendChild(div);\n",
              "\n",
              "      const buffers = [];\n",
              "      let downloaded = 0;\n",
              "\n",
              "      const channel = await google.colab.kernel.comms.open(id);\n",
              "      // Send a message to notify the kernel that we're ready.\n",
              "      channel.send({})\n",
              "\n",
              "      for await (const message of channel.messages) {\n",
              "        // Send a message to notify the kernel that we're ready.\n",
              "        channel.send({})\n",
              "        if (message.buffers) {\n",
              "          for (const buffer of message.buffers) {\n",
              "            buffers.push(buffer);\n",
              "            downloaded += buffer.byteLength;\n",
              "            progress.value = downloaded;\n",
              "          }\n",
              "        }\n",
              "      }\n",
              "      const blob = new Blob(buffers, {type: 'application/binary'});\n",
              "      const a = document.createElement('a');\n",
              "      a.href = window.URL.createObjectURL(blob);\n",
              "      a.download = filename;\n",
              "      div.appendChild(a);\n",
              "      a.click();\n",
              "      div.remove();\n",
              "    }\n",
              "  "
            ],
            "text/plain": [
              "<IPython.core.display.Javascript object>"
            ]
          },
          "metadata": {
            "tags": []
          }
        },
        {
          "output_type": "display_data",
          "data": {
            "application/javascript": [
              "download(\"download_3f3a864c-7832-4b93-af7c-2dde63d157dc\", \"df.csv\", 2747798)"
            ],
            "text/plain": [
              "<IPython.core.display.Javascript object>"
            ]
          },
          "metadata": {
            "tags": []
          }
        }
      ]
    },
    {
      "cell_type": "markdown",
      "metadata": {
        "id": "4Rdo0oEdN6bd"
      },
      "source": [
        "# Step 8: Visualization using Tableu<p><a class=\"anchor\" id=\"step8\"></a>\n",
        "\n",
        "Simple Tableu visualization [here](https://public.tableau.com/profile/art7498#!/vizhome/Telecom_16105685451880/Dashboard1?publish=yes) <a class=\"anchor\" id=\"step8\"></a>\n"
      ]
    },
    {
      "cell_type": "markdown",
      "metadata": {
        "id": "FmGqv9UfVqu5"
      },
      "source": [
        "[Back to ToC](#content1)"
      ]
    }
  ]
}