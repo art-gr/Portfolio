{
  "nbformat": 4,
  "nbformat_minor": 0,
  "metadata": {
    "colab": {
      "name": "Integrated__2-reviewLast.ipynb",
      "provenance": [],
      "collapsed_sections": [],
      "toc_visible": true
    },
    "kernelspec": {
      "display_name": "Python 3",
      "language": "python",
      "name": "python3"
    },
    "language_info": {
      "codemirror_mode": {
        "name": "ipython",
        "version": 3
      },
      "file_extension": ".py",
      "mimetype": "text/x-python",
      "name": "python",
      "nbconvert_exporter": "python",
      "pygments_lexer": "ipython3",
      "version": "3.7.6"
    }
  },
  "cells": [
    {
      "cell_type": "markdown",
      "metadata": {
        "id": "53501ZcPzoVf"
      },
      "source": [
        "# Project Description\n",
        "You work at a startup that sells food products. You need to investigate user behavior for the company's app.\n",
        "First study the sales funnel. Find out how users reach the purchase stage. How many users actually make it to this stage? How many get stuck at previous stages? Which stages in particular?\n",
        "Then look at the results of an A/A/B test. (Read on for more information about A/A/B testing.) The designers would like to change the fonts for the entire app, but the managers are afraid the users might find the new design intimidating. They decide to make a decision based on the results of an A/A/B test.\n",
        "The users are split into three groups: two control groups get the old fonts and one test group gets the new ones. Find out which set of fonts produces better results.\n",
        "Creating two A groups has certain advantages. We can make it a principle that we will only be confident in the accuracy of our testing when the two control groups are similar. If there are significant differences between the A groups, this can help us uncover factors that may be distorting the results. Comparing control groups also tells us how much time and data we'll need when running further tests.\n",
        "You'll be using the same dataset for general analytics and for A/A/B analysis. In real projects, experiments are constantly being conducted. Analysts study the quality of an app using general data, without paying attention to whether users are participating in experiments.\n"
      ]
    },
    {
      "cell_type": "markdown",
      "metadata": {
        "id": "vDhSODpc0xrk"
      },
      "source": [
        "# Step 1. Open the data file and read the general information\n",
        "---\n",
        "# Step 2. Prepare the data for analysis\n",
        "---\n",
        "\n"
      ]
    },
    {
      "cell_type": "markdown",
      "metadata": {
        "id": "nNPdNBAe3BtC"
      },
      "source": [
        "first import liabraries"
      ]
    },
    {
      "cell_type": "code",
      "metadata": {
        "id": "rIm5JrYI1Dyi"
      },
      "source": [
        "import pandas as pd\n",
        "import numpy as np\n",
        "import matplotlib.pyplot as plt\n",
        "import seaborn as sns\n",
        "import math \n",
        "from scipy import stats\n",
        "import datetime\n",
        "from datetime import datetime"
      ],
      "execution_count": 1,
      "outputs": []
    },
    {
      "cell_type": "markdown",
      "metadata": {
        "id": "KAMr85Q-3IYo"
      },
      "source": [
        "import logs file using read_csv"
      ]
    },
    {
      "cell_type": "code",
      "metadata": {
        "id": "LvmrzLGYyENP"
      },
      "source": [
        "# path = '/datasets/logs_exp_us.csv' # Yandex platform\n",
        "path = '/content/logs_exp_us.csv' # local\n",
        "logs = pd.read_csv(path,sep='\\t',\n",
        "                   dtype={'EventName':'category','ExpId':'category'}\n",
        "                   )"
      ],
      "execution_count": 2,
      "outputs": []
    },
    {
      "cell_type": "code",
      "metadata": {
        "colab": {
          "base_uri": "https://localhost:8080/",
          "height": 196
        },
        "id": "BQyndH3A2e-i",
        "outputId": "e01b4f9b-a7f7-4756-857a-6ad9c4d28d4b"
      },
      "source": [
        "# first look\n",
        "logs.head(5)"
      ],
      "execution_count": 3,
      "outputs": [
        {
          "output_type": "execute_result",
          "data": {
            "text/html": [
              "<div>\n",
              "<style scoped>\n",
              "    .dataframe tbody tr th:only-of-type {\n",
              "        vertical-align: middle;\n",
              "    }\n",
              "\n",
              "    .dataframe tbody tr th {\n",
              "        vertical-align: top;\n",
              "    }\n",
              "\n",
              "    .dataframe thead th {\n",
              "        text-align: right;\n",
              "    }\n",
              "</style>\n",
              "<table border=\"1\" class=\"dataframe\">\n",
              "  <thead>\n",
              "    <tr style=\"text-align: right;\">\n",
              "      <th></th>\n",
              "      <th>EventName</th>\n",
              "      <th>DeviceIDHash</th>\n",
              "      <th>EventTimestamp</th>\n",
              "      <th>ExpId</th>\n",
              "    </tr>\n",
              "  </thead>\n",
              "  <tbody>\n",
              "    <tr>\n",
              "      <th>0</th>\n",
              "      <td>MainScreenAppear</td>\n",
              "      <td>4575588528974610257</td>\n",
              "      <td>1564029816</td>\n",
              "      <td>246</td>\n",
              "    </tr>\n",
              "    <tr>\n",
              "      <th>1</th>\n",
              "      <td>MainScreenAppear</td>\n",
              "      <td>7416695313311560658</td>\n",
              "      <td>1564053102</td>\n",
              "      <td>246</td>\n",
              "    </tr>\n",
              "    <tr>\n",
              "      <th>2</th>\n",
              "      <td>PaymentScreenSuccessful</td>\n",
              "      <td>3518123091307005509</td>\n",
              "      <td>1564054127</td>\n",
              "      <td>248</td>\n",
              "    </tr>\n",
              "    <tr>\n",
              "      <th>3</th>\n",
              "      <td>CartScreenAppear</td>\n",
              "      <td>3518123091307005509</td>\n",
              "      <td>1564054127</td>\n",
              "      <td>248</td>\n",
              "    </tr>\n",
              "    <tr>\n",
              "      <th>4</th>\n",
              "      <td>PaymentScreenSuccessful</td>\n",
              "      <td>6217807653094995999</td>\n",
              "      <td>1564055322</td>\n",
              "      <td>248</td>\n",
              "    </tr>\n",
              "  </tbody>\n",
              "</table>\n",
              "</div>"
            ],
            "text/plain": [
              "                 EventName         DeviceIDHash  EventTimestamp ExpId\n",
              "0         MainScreenAppear  4575588528974610257      1564029816   246\n",
              "1         MainScreenAppear  7416695313311560658      1564053102   246\n",
              "2  PaymentScreenSuccessful  3518123091307005509      1564054127   248\n",
              "3         CartScreenAppear  3518123091307005509      1564054127   248\n",
              "4  PaymentScreenSuccessful  6217807653094995999      1564055322   248"
            ]
          },
          "metadata": {
            "tags": []
          },
          "execution_count": 3
        }
      ]
    },
    {
      "cell_type": "code",
      "metadata": {
        "colab": {
          "base_uri": "https://localhost:8080/"
        },
        "id": "bpSAjWPr5qaX",
        "outputId": "bd9a4951-f096-471b-f54c-9eba2dd58931"
      },
      "source": [
        "logs.info()"
      ],
      "execution_count": 4,
      "outputs": [
        {
          "output_type": "stream",
          "text": [
            "<class 'pandas.core.frame.DataFrame'>\n",
            "RangeIndex: 244126 entries, 0 to 244125\n",
            "Data columns (total 4 columns):\n",
            " #   Column          Non-Null Count   Dtype   \n",
            "---  ------          --------------   -----   \n",
            " 0   EventName       244126 non-null  category\n",
            " 1   DeviceIDHash    244126 non-null  int64   \n",
            " 2   EventTimestamp  244126 non-null  int64   \n",
            " 3   ExpId           244126 non-null  category\n",
            "dtypes: category(2), int64(2)\n",
            "memory usage: 4.2 MB\n"
          ],
          "name": "stdout"
        }
      ]
    },
    {
      "cell_type": "markdown",
      "metadata": {
        "id": "9LdaLcv4-Dhw"
      },
      "source": [
        "•\tNext I will define new columns names and convert dates into datetime dtype \n",
        "\n",
        "•\tAdd seperate columns with dates"
      ]
    },
    {
      "cell_type": "code",
      "metadata": {
        "id": "1StZ8o_P-B1s"
      },
      "source": [
        "# cols rename:\n",
        "logs.columns = ['event_name','device_id','timestamp','experiment_id']"
      ],
      "execution_count": 5,
      "outputs": []
    },
    {
      "cell_type": "code",
      "metadata": {
        "colab": {
          "base_uri": "https://localhost:8080/",
          "height": 77
        },
        "id": "L5Cp61vK0N3t",
        "outputId": "974c3af2-5720-41b4-81f3-5c895b193806"
      },
      "source": [
        "logs.tail(1)"
      ],
      "execution_count": 6,
      "outputs": [
        {
          "output_type": "execute_result",
          "data": {
            "text/html": [
              "<div>\n",
              "<style scoped>\n",
              "    .dataframe tbody tr th:only-of-type {\n",
              "        vertical-align: middle;\n",
              "    }\n",
              "\n",
              "    .dataframe tbody tr th {\n",
              "        vertical-align: top;\n",
              "    }\n",
              "\n",
              "    .dataframe thead th {\n",
              "        text-align: right;\n",
              "    }\n",
              "</style>\n",
              "<table border=\"1\" class=\"dataframe\">\n",
              "  <thead>\n",
              "    <tr style=\"text-align: right;\">\n",
              "      <th></th>\n",
              "      <th>event_name</th>\n",
              "      <th>device_id</th>\n",
              "      <th>timestamp</th>\n",
              "      <th>experiment_id</th>\n",
              "    </tr>\n",
              "  </thead>\n",
              "  <tbody>\n",
              "    <tr>\n",
              "      <th>244125</th>\n",
              "      <td>OffersScreenAppear</td>\n",
              "      <td>5746969938801999050</td>\n",
              "      <td>1565212517</td>\n",
              "      <td>246</td>\n",
              "    </tr>\n",
              "  </tbody>\n",
              "</table>\n",
              "</div>"
            ],
            "text/plain": [
              "                event_name            device_id   timestamp experiment_id\n",
              "244125  OffersScreenAppear  5746969938801999050  1565212517           246"
            ]
          },
          "metadata": {
            "tags": []
          },
          "execution_count": 6
        }
      ]
    },
    {
      "cell_type": "code",
      "metadata": {
        "id": "6qJkZ0hE0YLf"
      },
      "source": [
        "# remove last row\r\n",
        "logs = logs.iloc[:-1]"
      ],
      "execution_count": 7,
      "outputs": []
    },
    {
      "cell_type": "code",
      "metadata": {
        "id": "XZiImVNj_Ns-"
      },
      "source": [
        "# timestamp into datetime dtype:\n",
        "logs['timestamp'] = logs['timestamp'].apply(lambda x: datetime.fromtimestamp(x))"
      ],
      "execution_count": 8,
      "outputs": []
    },
    {
      "cell_type": "markdown",
      "metadata": {
        "id": "7qRK1RJOHIty"
      },
      "source": [
        "Add seperate columns with dates"
      ]
    },
    {
      "cell_type": "code",
      "metadata": {
        "id": "HjK31qDWHNAl"
      },
      "source": [
        "# Add seperate columns with dates\n",
        "logs['session_date'] = logs['timestamp'].dt.date.astype('datetime64[ns]')"
      ],
      "execution_count": 9,
      "outputs": []
    },
    {
      "cell_type": "code",
      "metadata": {
        "id": "RPHB63GBGmb_",
        "colab": {
          "base_uri": "https://localhost:8080/",
          "height": 196
        },
        "outputId": "b94e6879-2e07-425d-9a50-60d6c79b3b56"
      },
      "source": [
        "logs.head(5)"
      ],
      "execution_count": 10,
      "outputs": [
        {
          "output_type": "execute_result",
          "data": {
            "text/html": [
              "<div>\n",
              "<style scoped>\n",
              "    .dataframe tbody tr th:only-of-type {\n",
              "        vertical-align: middle;\n",
              "    }\n",
              "\n",
              "    .dataframe tbody tr th {\n",
              "        vertical-align: top;\n",
              "    }\n",
              "\n",
              "    .dataframe thead th {\n",
              "        text-align: right;\n",
              "    }\n",
              "</style>\n",
              "<table border=\"1\" class=\"dataframe\">\n",
              "  <thead>\n",
              "    <tr style=\"text-align: right;\">\n",
              "      <th></th>\n",
              "      <th>event_name</th>\n",
              "      <th>device_id</th>\n",
              "      <th>timestamp</th>\n",
              "      <th>experiment_id</th>\n",
              "      <th>session_date</th>\n",
              "    </tr>\n",
              "  </thead>\n",
              "  <tbody>\n",
              "    <tr>\n",
              "      <th>0</th>\n",
              "      <td>MainScreenAppear</td>\n",
              "      <td>4575588528974610257</td>\n",
              "      <td>2019-07-25 04:43:36</td>\n",
              "      <td>246</td>\n",
              "      <td>2019-07-25</td>\n",
              "    </tr>\n",
              "    <tr>\n",
              "      <th>1</th>\n",
              "      <td>MainScreenAppear</td>\n",
              "      <td>7416695313311560658</td>\n",
              "      <td>2019-07-25 11:11:42</td>\n",
              "      <td>246</td>\n",
              "      <td>2019-07-25</td>\n",
              "    </tr>\n",
              "    <tr>\n",
              "      <th>2</th>\n",
              "      <td>PaymentScreenSuccessful</td>\n",
              "      <td>3518123091307005509</td>\n",
              "      <td>2019-07-25 11:28:47</td>\n",
              "      <td>248</td>\n",
              "      <td>2019-07-25</td>\n",
              "    </tr>\n",
              "    <tr>\n",
              "      <th>3</th>\n",
              "      <td>CartScreenAppear</td>\n",
              "      <td>3518123091307005509</td>\n",
              "      <td>2019-07-25 11:28:47</td>\n",
              "      <td>248</td>\n",
              "      <td>2019-07-25</td>\n",
              "    </tr>\n",
              "    <tr>\n",
              "      <th>4</th>\n",
              "      <td>PaymentScreenSuccessful</td>\n",
              "      <td>6217807653094995999</td>\n",
              "      <td>2019-07-25 11:48:42</td>\n",
              "      <td>248</td>\n",
              "      <td>2019-07-25</td>\n",
              "    </tr>\n",
              "  </tbody>\n",
              "</table>\n",
              "</div>"
            ],
            "text/plain": [
              "                event_name            device_id  ... experiment_id session_date\n",
              "0         MainScreenAppear  4575588528974610257  ...           246   2019-07-25\n",
              "1         MainScreenAppear  7416695313311560658  ...           246   2019-07-25\n",
              "2  PaymentScreenSuccessful  3518123091307005509  ...           248   2019-07-25\n",
              "3         CartScreenAppear  3518123091307005509  ...           248   2019-07-25\n",
              "4  PaymentScreenSuccessful  6217807653094995999  ...           248   2019-07-25\n",
              "\n",
              "[5 rows x 5 columns]"
            ]
          },
          "metadata": {
            "tags": []
          },
          "execution_count": 10
        }
      ]
    },
    {
      "cell_type": "code",
      "metadata": {
        "id": "W400ULdI_eQz",
        "colab": {
          "base_uri": "https://localhost:8080/"
        },
        "outputId": "10ce290d-6069-41ee-d9ce-49e647979091"
      },
      "source": [
        "logs.info()"
      ],
      "execution_count": 11,
      "outputs": [
        {
          "output_type": "stream",
          "text": [
            "<class 'pandas.core.frame.DataFrame'>\n",
            "RangeIndex: 244125 entries, 0 to 244124\n",
            "Data columns (total 5 columns):\n",
            " #   Column         Non-Null Count   Dtype         \n",
            "---  ------         --------------   -----         \n",
            " 0   event_name     244125 non-null  category      \n",
            " 1   device_id      244125 non-null  int64         \n",
            " 2   timestamp      244125 non-null  datetime64[ns]\n",
            " 3   experiment_id  244125 non-null  category      \n",
            " 4   session_date   244125 non-null  datetime64[ns]\n",
            "dtypes: category(2), datetime64[ns](2), int64(1)\n",
            "memory usage: 6.1 MB\n"
          ],
          "name": "stdout"
        }
      ]
    },
    {
      "cell_type": "markdown",
      "metadata": {
        "id": "gPOL_9zbGKu9"
      },
      "source": [
        "•\t Check for missing values"
      ]
    },
    {
      "cell_type": "code",
      "metadata": {
        "id": "x6AmZE0mIYJo",
        "colab": {
          "base_uri": "https://localhost:8080/"
        },
        "outputId": "99fa9911-07e0-4cb3-e515-519e8540d56c"
      },
      "source": [
        "# have a look into the timespan:\n",
        "min_date = logs['timestamp'].min()\n",
        "max_date = logs['timestamp'].max()\n",
        "print(\"start date:                   {}\".format(min_date))\n",
        "print(\"end date:                     {}\".format(max_date))\n",
        "print('period time covered by dates: {} days'.format(abs(max_date - min_date).days + 1))"
      ],
      "execution_count": 12,
      "outputs": [
        {
          "output_type": "stream",
          "text": [
            "start date:                   2019-07-25 04:43:36\n",
            "end date:                     2019-08-07 21:14:58\n",
            "period time covered by dates: 14 days\n"
          ],
          "name": "stdout"
        }
      ]
    },
    {
      "cell_type": "code",
      "metadata": {
        "id": "4J29qjQ0LtMR",
        "colab": {
          "base_uri": "https://localhost:8080/"
        },
        "outputId": "c9654e0c-ca48-4869-a588-fae96ec5f1c1"
      },
      "source": [
        "# when looking into info method we see that are no nan values\n",
        "logs.info()"
      ],
      "execution_count": 13,
      "outputs": [
        {
          "output_type": "stream",
          "text": [
            "<class 'pandas.core.frame.DataFrame'>\n",
            "RangeIndex: 244125 entries, 0 to 244124\n",
            "Data columns (total 5 columns):\n",
            " #   Column         Non-Null Count   Dtype         \n",
            "---  ------         --------------   -----         \n",
            " 0   event_name     244125 non-null  category      \n",
            " 1   device_id      244125 non-null  int64         \n",
            " 2   timestamp      244125 non-null  datetime64[ns]\n",
            " 3   experiment_id  244125 non-null  category      \n",
            " 4   session_date   244125 non-null  datetime64[ns]\n",
            "dtypes: category(2), datetime64[ns](2), int64(1)\n",
            "memory usage: 6.1 MB\n"
          ],
          "name": "stdout"
        }
      ]
    },
    {
      "cell_type": "code",
      "metadata": {
        "id": "dJKUOnnUMEi7",
        "colab": {
          "base_uri": "https://localhost:8080/"
        },
        "outputId": "33494ebe-ad4c-4b17-fc02-cdb01789cef3"
      },
      "source": [
        "# a look into exp_id col:\n",
        "logs['experiment_id'].value_counts() # looks ok"
      ],
      "execution_count": 14,
      "outputs": [
        {
          "output_type": "execute_result",
          "data": {
            "text/plain": [
              "248    85747\n",
              "246    80303\n",
              "247    78075\n",
              "Name: experiment_id, dtype: int64"
            ]
          },
          "metadata": {
            "tags": []
          },
          "execution_count": 14
        }
      ]
    },
    {
      "cell_type": "code",
      "metadata": {
        "id": "71LpJ6lJMSlF",
        "colab": {
          "base_uri": "https://localhost:8080/"
        },
        "outputId": "905c8f40-f927-4d16-9a87-39f7ffc1aa8e"
      },
      "source": [
        "# into event col:\n",
        "logs['event_name'].value_counts() # looks fine here as well"
      ],
      "execution_count": 15,
      "outputs": [
        {
          "output_type": "execute_result",
          "data": {
            "text/plain": [
              "MainScreenAppear           119205\n",
              "OffersScreenAppear          46824\n",
              "CartScreenAppear            42731\n",
              "PaymentScreenSuccessful     34313\n",
              "Tutorial                     1052\n",
              "Name: event_name, dtype: int64"
            ]
          },
          "metadata": {
            "tags": []
          },
          "execution_count": 15
        }
      ]
    },
    {
      "cell_type": "code",
      "metadata": {
        "id": "ZwUTMlZzMgDd",
        "colab": {
          "base_uri": "https://localhost:8080/"
        },
        "outputId": "a3119a0a-ef6a-4eab-950e-25bab58cf3e4"
      },
      "source": [
        "# a look into device columns:\n",
        "logs['device_id'].value_counts()"
      ],
      "execution_count": 16,
      "outputs": [
        {
          "output_type": "execute_result",
          "data": {
            "text/plain": [
              "6304868067479728361    2308\n",
              "197027893265565660     2003\n",
              "4623191541214045580    1771\n",
              "6932517045703054087    1448\n",
              "1754140665440434215    1222\n",
              "                       ... \n",
              "7724520246123323531       1\n",
              "2760145394827990211       1\n",
              "2086627244641656064       1\n",
              "8164821368561674670       1\n",
              "1083512226259476085       1\n",
              "Name: device_id, Length: 7551, dtype: int64"
            ]
          },
          "metadata": {
            "tags": []
          },
          "execution_count": 16
        }
      ]
    },
    {
      "cell_type": "code",
      "metadata": {
        "id": "hcHw6pf7Sz2M",
        "colab": {
          "base_uri": "https://localhost:8080/"
        },
        "outputId": "45ae8b62-7dbd-4ec7-a7cd-69a34aba3e52"
      },
      "source": [
        "# no zeros here as well\n",
        "logs['device_id'].min()"
      ],
      "execution_count": 17,
      "outputs": [
        {
          "output_type": "execute_result",
          "data": {
            "text/plain": [
              "6888746892508752"
            ]
          },
          "metadata": {
            "tags": []
          },
          "execution_count": 17
        }
      ]
    },
    {
      "cell_type": "code",
      "metadata": {
        "id": "MBmfQCMcOgbf",
        "colab": {
          "base_uri": "https://localhost:8080/"
        },
        "outputId": "c938c46b-049b-4949-b2f7-60bfeaf322c5"
      },
      "source": [
        "# final additional look:\n",
        "logs.isnull().values.any()"
      ],
      "execution_count": 18,
      "outputs": [
        {
          "output_type": "execute_result",
          "data": {
            "text/plain": [
              "False"
            ]
          },
          "metadata": {
            "tags": []
          },
          "execution_count": 18
        }
      ]
    },
    {
      "cell_type": "markdown",
      "metadata": {
        "id": "Xn1QCBMyTLws"
      },
      "source": [
        "No missing values found or no relevant zeros instaed"
      ]
    },
    {
      "cell_type": "markdown",
      "metadata": {
        "id": "dZiOKer1zoVs"
      },
      "source": [
        "<span style=\"color:blue\">duplicates and conclusions:</span>"
      ]
    },
    {
      "cell_type": "code",
      "metadata": {
        "id": "M84nL8lQzoVs",
        "colab": {
          "base_uri": "https://localhost:8080/"
        },
        "outputId": "cf4c33ec-5046-4499-f33d-85f2ee634cd4"
      },
      "source": [
        "print('number of total duplicates rows deleted: {}'.format(len(logs) - len(logs.drop_duplicates())))"
      ],
      "execution_count": 19,
      "outputs": [
        {
          "output_type": "stream",
          "text": [
            "number of total duplicates rows deleted: 413\n"
          ],
          "name": "stdout"
        }
      ]
    },
    {
      "cell_type": "code",
      "metadata": {
        "id": "OgtnVBb7zoVs"
      },
      "source": [
        "# remove dupps:\n",
        "logs.drop_duplicates(inplace=True)"
      ],
      "execution_count": 20,
      "outputs": []
    },
    {
      "cell_type": "code",
      "metadata": {
        "id": "us9qkr5hzoVs",
        "colab": {
          "base_uri": "https://localhost:8080/"
        },
        "outputId": "6406efe9-5e76-4463-d35b-18b6dac6420a"
      },
      "source": [
        "logs.info()"
      ],
      "execution_count": 21,
      "outputs": [
        {
          "output_type": "stream",
          "text": [
            "<class 'pandas.core.frame.DataFrame'>\n",
            "Int64Index: 243712 entries, 0 to 244124\n",
            "Data columns (total 5 columns):\n",
            " #   Column         Non-Null Count   Dtype         \n",
            "---  ------         --------------   -----         \n",
            " 0   event_name     243712 non-null  category      \n",
            " 1   device_id      243712 non-null  int64         \n",
            " 2   timestamp      243712 non-null  datetime64[ns]\n",
            " 3   experiment_id  243712 non-null  category      \n",
            " 4   session_date   243712 non-null  datetime64[ns]\n",
            "dtypes: category(2), datetime64[ns](2), int64(1)\n",
            "memory usage: 7.9 MB\n"
          ],
          "name": "stdout"
        }
      ]
    },
    {
      "cell_type": "code",
      "metadata": {
        "id": "wAPwLyvxzoVt",
        "colab": {
          "base_uri": "https://localhost:8080/"
        },
        "outputId": "02fdf701-c19c-420e-a6d3-871dafebfc4d"
      },
      "source": [
        "logs['timestamp'].describe()"
      ],
      "execution_count": 22,
      "outputs": [
        {
          "output_type": "stream",
          "text": [
            "/usr/local/lib/python3.6/dist-packages/ipykernel_launcher.py:1: FutureWarning: Treating datetime data as categorical rather than numeric in `.describe` is deprecated and will be removed in a future version of pandas. Specify `datetime_is_numeric=True` to silence this warning and adopt the future behavior now.\n",
            "  \"\"\"Entry point for launching an IPython kernel.\n"
          ],
          "name": "stderr"
        },
        {
          "output_type": "execute_result",
          "data": {
            "text/plain": [
              "count                  243712\n",
              "unique                 176653\n",
              "top       2019-08-04 16:23:19\n",
              "freq                        9\n",
              "first     2019-07-25 04:43:36\n",
              "last      2019-08-07 21:14:58\n",
              "Name: timestamp, dtype: object"
            ]
          },
          "metadata": {
            "tags": []
          },
          "execution_count": 22
        }
      ]
    },
    {
      "cell_type": "code",
      "metadata": {
        "id": "nNJkK_6ozoVt",
        "colab": {
          "base_uri": "https://localhost:8080/"
        },
        "outputId": "38516376-f72c-467f-c7c5-3ec730ceed93"
      },
      "source": [
        "logs['device_id'].nunique()"
      ],
      "execution_count": 23,
      "outputs": [
        {
          "output_type": "execute_result",
          "data": {
            "text/plain": [
              "7551"
            ]
          },
          "metadata": {
            "tags": []
          },
          "execution_count": 23
        }
      ]
    },
    {
      "cell_type": "markdown",
      "metadata": {
        "id": "muBhWl0VzoVt"
      },
      "source": [
        "conclusions:\n",
        "- total number of unique logs is 243713 by 7551 unique users\n",
        "- first log was on July 25th and the last on Aug 7th\n",
        "- dtypes: category(2), datetime64\\[ns\\](2), int64(1)"
      ]
    },
    {
      "cell_type": "markdown",
      "metadata": {
        "id": "2H8Nk021TmmI"
      },
      "source": [
        "# Step 3. Study and check the data\n",
        "---"
      ]
    },
    {
      "cell_type": "markdown",
      "metadata": {
        "id": "IE6AoxFtvF9O"
      },
      "source": [
        "•\tHow many events are in the logs?\n"
      ]
    },
    {
      "cell_type": "code",
      "metadata": {
        "id": "E-bpWz6vvUi6",
        "colab": {
          "base_uri": "https://localhost:8080/"
        },
        "outputId": "ee5a1735-f41a-47f8-d8f4-f02fc20bd2d6"
      },
      "source": [
        "# types and number of events:\n",
        "print(print('Types of events           events\\n\\n{}'.format(logs['event_name'].value_counts()))) # for each type\n",
        "total_events = logs['event_name'].count()\n",
        "print('\\n\\nTotal number of events: {}'.format(total_events))"
      ],
      "execution_count": 24,
      "outputs": [
        {
          "output_type": "stream",
          "text": [
            "Types of events           events\n",
            "\n",
            "MainScreenAppear           119101\n",
            "OffersScreenAppear          46807\n",
            "CartScreenAppear            42668\n",
            "PaymentScreenSuccessful     34118\n",
            "Tutorial                     1018\n",
            "Name: event_name, dtype: int64\n",
            "None\n",
            "\n",
            "\n",
            "Total number of events: 243712\n"
          ],
          "name": "stdout"
        }
      ]
    },
    {
      "cell_type": "markdown",
      "metadata": {
        "id": "oRNeAc0zvLea"
      },
      "source": [
        "•\tHow many users are in the logs?\n"
      ]
    },
    {
      "cell_type": "code",
      "metadata": {
        "id": "-cHgq9IUwvyx",
        "colab": {
          "base_uri": "https://localhost:8080/"
        },
        "outputId": "6de0e813-a5d3-46bf-bc7d-7e981329f2d3"
      },
      "source": [
        "users_in_logs = logs['device_id'].nunique()\n",
        "print('Number of unique users: {}'.format(users_in_logs))"
      ],
      "execution_count": 25,
      "outputs": [
        {
          "output_type": "stream",
          "text": [
            "Number of unique users: 7551\n"
          ],
          "name": "stdout"
        }
      ]
    },
    {
      "cell_type": "markdown",
      "metadata": {
        "id": "Db1hgiqdvMH6"
      },
      "source": [
        "•\tWhat's the average number of events per user?\n"
      ]
    },
    {
      "cell_type": "code",
      "metadata": {
        "id": "QhEq_QUeTlyt",
        "colab": {
          "base_uri": "https://localhost:8080/"
        },
        "outputId": "6e278b11-94c3-4297-afc3-6d11c29875a7"
      },
      "source": [
        "total_events / users_in_logs"
      ],
      "execution_count": 26,
      "outputs": [
        {
          "output_type": "execute_result",
          "data": {
            "text/plain": [
              "32.275460203946494"
            ]
          },
          "metadata": {
            "tags": []
          },
          "execution_count": 26
        }
      ]
    },
    {
      "cell_type": "markdown",
      "metadata": {
        "id": "En7gOICnx4I7"
      },
      "source": [
        "<mark> •\tWhat period of time does the data cover? </mark>\n",
        "\n",
        "<mark>Find the maximum and the minimum date. </mark>\n",
        "\n",
        "Plot a histogram by date and time. \n",
        "\n",
        "Can you be sure that you have equally complete data for the entire period? \n",
        "\n",
        "Older events could end up in some users' logs for technical reasons, and this could skew the overall picture. \n",
        "\n",
        "Find the moment at which the data starts to be complete and ignore the earlier section. \n",
        "\n",
        "What period does the data actually represent?\n"
      ]
    },
    {
      "cell_type": "markdown",
      "metadata": {
        "id": "YFK4s7Mme8q4"
      },
      "source": [
        "<mark>done already before</mark>"
      ]
    },
    {
      "cell_type": "markdown",
      "metadata": {
        "id": "fRhwh9qsfX6j"
      },
      "source": [
        "Plot a histogram by date and time. \n"
      ]
    },
    {
      "cell_type": "code",
      "metadata": {
        "id": "-KRZMod7zoVw"
      },
      "source": [
        "import sys\n",
        "import warnings\n",
        "if not sys.warnoptions:\n",
        "       warnings.simplefilter(\"ignore\")"
      ],
      "execution_count": 27,
      "outputs": []
    },
    {
      "cell_type": "code",
      "metadata": {
        "id": "gx9qkWoYx8hj",
        "colab": {
          "base_uri": "https://localhost:8080/",
          "height": 567
        },
        "outputId": "ef0f1a5a-0fc6-4449-a5b3-5006f130d77a"
      },
      "source": [
        "# logs['session_date'].hist()\n",
        "plt.figure(figsize=(16,9),facecolor='white')\n",
        "plt.hist(x=logs['session_date'],bins=30)\n",
        "plt.title('dates distribution within the logs data frame')\n",
        "plt.xlabel('dates')\n",
        "plt.ylabel('counter')\n",
        "plt.show()"
      ],
      "execution_count": 28,
      "outputs": [
        {
          "output_type": "display_data",
          "data": {
            "image/png": "[encoded data removed]",
            "text/plain": [
              "<Figure size 1152x648 with 1 Axes>"
            ]
          },
          "metadata": {
            "tags": []
          }
        }
      ]
    },
    {
      "cell_type": "markdown",
      "metadata": {
        "id": "fTSmy11KjQm2"
      },
      "source": [
        "- date logs actually starts from Aug 1st. and not as was shown before looking into hist of dates columns\r\n",
        "- possible reason of a small number of events in logs before August 1.?\r\n",
        "    - there might be a number of reasons for that\r\n",
        "once of the assumptions can be because the official release of the app/test was on Aug 1st where the earlier logs were testers or beta version users. However, it also can be due to marketing campany or something like this.\r\n"
      ]
    },
    {
      "cell_type": "markdown",
      "metadata": {
        "id": "FpQWCP24jz8s"
      },
      "source": [
        "users (device_id) before Aug 1st:"
      ]
    },
    {
      "cell_type": "code",
      "metadata": {
        "id": "wXCVIQETjy6h"
      },
      "source": [
        "# totla number of logs:\n",
        "before_aug = logs[logs['session_date'] < '08-01-2019']['device_id'].reset_index() # logs before Aug 1st\n",
        "after_aug = logs[logs['session_date'] >= '08-01-2019']['device_id'].reset_index() # logs after Aug 1st"
      ],
      "execution_count": 29,
      "outputs": []
    },
    {
      "cell_type": "code",
      "metadata": {
        "id": "p2SXpZe9kOh9",
        "colab": {
          "base_uri": "https://localhost:8080/"
        },
        "outputId": "7bff8be1-3a53-4cf8-e9a3-acb0ed715bdc"
      },
      "source": [
        "# total unique users before Aug 1st:\n",
        "before_aug['device_id'].nunique()"
      ],
      "execution_count": 30,
      "outputs": [
        {
          "output_type": "execute_result",
          "data": {
            "text/plain": [
              "1451"
            ]
          },
          "metadata": {
            "tags": []
          },
          "execution_count": 30
        }
      ]
    },
    {
      "cell_type": "code",
      "metadata": {
        "id": "VhrZ4qfFodJZ",
        "colab": {
          "base_uri": "https://localhost:8080/"
        },
        "outputId": "82bc3cc7-2293-420a-f7c5-4a09d47f25ce"
      },
      "source": [
        "# total unique users after Aug 1st:\n",
        "after_aug['device_id'].nunique()"
      ],
      "execution_count": 31,
      "outputs": [
        {
          "output_type": "execute_result",
          "data": {
            "text/plain": [
              "7534"
            ]
          },
          "metadata": {
            "tags": []
          },
          "execution_count": 31
        }
      ]
    },
    {
      "cell_type": "code",
      "metadata": {
        "id": "TGhppPM5x816"
      },
      "source": [
        "# all unique users before Aug 1st:\n",
        "before_aug = before_aug.drop('index',axis=1).drop_duplicates()\n",
        "after_aug = after_aug.drop('index',axis=1).drop_duplicates()"
      ],
      "execution_count": 32,
      "outputs": []
    },
    {
      "cell_type": "code",
      "metadata": {
        "id": "AsvPaxv7mxSb",
        "colab": {
          "base_uri": "https://localhost:8080/"
        },
        "outputId": "50f4b74a-c10e-4f9e-db0b-3c48b8347ffa"
      },
      "source": [
        "# looking at both tables and output only id that in both before and after tables\n",
        "before_aug.merge(after_aug,on='device_id',how='inner').count()"
      ],
      "execution_count": 33,
      "outputs": [
        {
          "output_type": "execute_result",
          "data": {
            "text/plain": [
              "device_id    1434\n",
              "dtype: int64"
            ]
          },
          "metadata": {
            "tags": []
          },
          "execution_count": 33
        }
      ]
    },
    {
      "cell_type": "markdown",
      "metadata": {
        "id": "snddkVMZqFR9"
      },
      "source": [
        "- 1434 users logs before Aug. 1st are also appears in the logs that after that date\n",
        "- means that only 17 users are unique in before Aug 1st data\n",
        "- after this being confirmed we may delete the logs until the 1st of Aug knowing that only 17 unique users logs are dropped "
      ]
    },
    {
      "cell_type": "markdown",
      "metadata": {
        "id": "rdUI5ny5sDeK"
      },
      "source": [
        "rows to be dropped:"
      ]
    },
    {
      "cell_type": "code",
      "metadata": {
        "id": "9qV9t96zsGet",
        "colab": {
          "base_uri": "https://localhost:8080/"
        },
        "outputId": "be7f5049-b76b-43cc-a0c3-c82e0dec56b7"
      },
      "source": [
        "# logs['device_id'].count() / \n",
        "# total number of rows to be dropped:\n",
        "logs[logs['session_date'] < '08-01-2019']['device_id'].count()"
      ],
      "execution_count": 34,
      "outputs": [
        {
          "output_type": "execute_result",
          "data": {
            "text/plain": [
              "2826"
            ]
          },
          "metadata": {
            "tags": []
          },
          "execution_count": 34
        }
      ]
    },
    {
      "cell_type": "code",
      "metadata": {
        "id": "1xx7y1gJtulo"
      },
      "source": [
        "# in percentages:\n",
        "percent_logs_dropped = logs[logs['session_date'] < '08-01-2019']['device_id'].count() / logs['device_id'].count() *100"
      ],
      "execution_count": 35,
      "outputs": []
    },
    {
      "cell_type": "code",
      "metadata": {
        "id": "4aiPSDv4uBmY",
        "colab": {
          "base_uri": "https://localhost:8080/"
        },
        "outputId": "ef833aad-0b79-41ee-f8f1-c857598cdba8"
      },
      "source": [
        "print('Total percent of dropped logs is: {:.2f}%'.format(percent_logs_dropped))"
      ],
      "execution_count": 36,
      "outputs": [
        {
          "output_type": "stream",
          "text": [
            "Total percent of dropped logs is: 1.16%\n"
          ],
          "name": "stdout"
        }
      ]
    },
    {
      "cell_type": "code",
      "metadata": {
        "id": "fh84Ko5MzqeM"
      },
      "source": [
        "# save the original logs just in case to new variable\n",
        "original_logs = logs"
      ],
      "execution_count": 37,
      "outputs": []
    },
    {
      "cell_type": "markdown",
      "metadata": {
        "id": "qekQBaq8q-Af"
      },
      "source": [
        "next: drop logs before Aug. 1st"
      ]
    },
    {
      "cell_type": "code",
      "metadata": {
        "id": "aOg5EYpzqA8S"
      },
      "source": [
        "logs = logs[logs['session_date'] >= '08-01-2019']"
      ],
      "execution_count": 38,
      "outputs": []
    },
    {
      "cell_type": "code",
      "metadata": {
        "id": "vwvXF0gfrl3n",
        "colab": {
          "base_uri": "https://localhost:8080/"
        },
        "outputId": "01da06fc-ff05-4d23-a88b-2c5386bea726"
      },
      "source": [
        "# make sure all 3 experimental groups in logs data:\n",
        "logs['experiment_id'].value_counts()"
      ],
      "execution_count": 39,
      "outputs": [
        {
          "output_type": "execute_result",
          "data": {
            "text/plain": [
              "248    84563\n",
              "246    79301\n",
              "247    77022\n",
              "Name: experiment_id, dtype: int64"
            ]
          },
          "metadata": {
            "tags": []
          },
          "execution_count": 39
        }
      ]
    },
    {
      "cell_type": "markdown",
      "metadata": {
        "id": "5Ah8yojSw-9L"
      },
      "source": [
        "New time periods for the logs data frame are:"
      ]
    },
    {
      "cell_type": "code",
      "metadata": {
        "id": "866slKA4xIqV"
      },
      "source": [
        "new_max_date = logs['session_date'].max()\n",
        "new_min_date = logs['session_date'].min()"
      ],
      "execution_count": 40,
      "outputs": []
    },
    {
      "cell_type": "code",
      "metadata": {
        "id": "3V1NmkIMyFHd",
        "colab": {
          "base_uri": "https://localhost:8080/"
        },
        "outputId": "a42d5313-6bf9-4d9a-839e-31ca88737252"
      },
      "source": [
        "print(\"current start date:                   {}\".format(new_min_date))\n",
        "print(\"current end date:                     {}\".format(new_max_date))\n",
        "print('current period time covered by dates: {} days'.format(abs(new_max_date - new_min_date).days +1))"
      ],
      "execution_count": 41,
      "outputs": [
        {
          "output_type": "stream",
          "text": [
            "current start date:                   2019-08-01 00:00:00\n",
            "current end date:                     2019-08-07 00:00:00\n",
            "current period time covered by dates: 7 days\n"
          ],
          "name": "stdout"
        }
      ]
    },
    {
      "cell_type": "markdown",
      "metadata": {
        "id": "VLCMc_97yfNx"
      },
      "source": [
        "**summary for this section**:\n",
        "- discovered that the actual time span for the logs data frame is 7 days and not 13 days as was shown at the beginning\n",
        "- original data logs was from mid July till mid Aug but after cheking the histogram of the dates a new picture showed\n",
        "- discovered that logs till Aug 1st was not a good logs with no good distribution\n",
        "- total logs deleted  is 2828\n",
        "- total unique device_id deleted after filtering is 17 users"
      ]
    },
    {
      "cell_type": "markdown",
      "metadata": {
        "id": "vfmZzvdmz97-"
      },
      "source": [
        "# Step 4. Study the event funnel\n",
        "---"
      ]
    },
    {
      "cell_type": "markdown",
      "metadata": {
        "id": "0wsCeP5i0Dua"
      },
      "source": [
        "•\tSee what events are in the logs and their frequency of occurrence. Sort them by frequency.\n"
      ]
    },
    {
      "cell_type": "code",
      "metadata": {
        "id": "-FFSsQpL0KKu",
        "colab": {
          "base_uri": "https://localhost:8080/"
        },
        "outputId": "8bce0897-29e9-43fc-8b3e-c6a2115e132e"
      },
      "source": [
        "logs['event_name'].value_counts(normalize=True) * 100"
      ],
      "execution_count": 42,
      "outputs": [
        {
          "output_type": "execute_result",
          "data": {
            "text/plain": [
              "MainScreenAppear           48.706857\n",
              "OffersScreenAppear         19.233995\n",
              "CartScreenAppear           17.561419\n",
              "PaymentScreenSuccessful    14.080519\n",
              "Tutorial                    0.417210\n",
              "Name: event_name, dtype: float64"
            ]
          },
          "metadata": {
            "tags": []
          },
          "execution_count": 42
        }
      ]
    },
    {
      "cell_type": "markdown",
      "metadata": {
        "id": "7az_IYUvHQKq"
      },
      "source": [
        "- almost half is the 'MainScreenAppear' event shown in the logs\n",
        "- Tutorial is with almost 0.5% frequency occurrence"
      ]
    },
    {
      "cell_type": "markdown",
      "metadata": {
        "id": "IeM7-nq50FTU"
      },
      "source": [
        "•\tFind the number of users who performed each of these actions. Sort the events by the number of users. Calculate the proportion of users who performed the action at least once.\n"
      ]
    },
    {
      "cell_type": "code",
      "metadata": {
        "id": "Ub0OVPVj0SlA",
        "colab": {
          "base_uri": "https://localhost:8080/",
          "height": 196
        },
        "outputId": "b5cf4d8d-e93b-4b02-92a3-478b55229c88"
      },
      "source": [
        "device_number = logs.groupby('event_name')['device_id'].nunique().reset_index().rename(columns={'device_id':'users_counter'})\n",
        "device_number"
      ],
      "execution_count": 43,
      "outputs": [
        {
          "output_type": "execute_result",
          "data": {
            "text/html": [
              "<div>\n",
              "<style scoped>\n",
              "    .dataframe tbody tr th:only-of-type {\n",
              "        vertical-align: middle;\n",
              "    }\n",
              "\n",
              "    .dataframe tbody tr th {\n",
              "        vertical-align: top;\n",
              "    }\n",
              "\n",
              "    .dataframe thead th {\n",
              "        text-align: right;\n",
              "    }\n",
              "</style>\n",
              "<table border=\"1\" class=\"dataframe\">\n",
              "  <thead>\n",
              "    <tr style=\"text-align: right;\">\n",
              "      <th></th>\n",
              "      <th>event_name</th>\n",
              "      <th>users_counter</th>\n",
              "    </tr>\n",
              "  </thead>\n",
              "  <tbody>\n",
              "    <tr>\n",
              "      <th>0</th>\n",
              "      <td>CartScreenAppear</td>\n",
              "      <td>3734</td>\n",
              "    </tr>\n",
              "    <tr>\n",
              "      <th>1</th>\n",
              "      <td>MainScreenAppear</td>\n",
              "      <td>7419</td>\n",
              "    </tr>\n",
              "    <tr>\n",
              "      <th>2</th>\n",
              "      <td>OffersScreenAppear</td>\n",
              "      <td>4593</td>\n",
              "    </tr>\n",
              "    <tr>\n",
              "      <th>3</th>\n",
              "      <td>PaymentScreenSuccessful</td>\n",
              "      <td>3539</td>\n",
              "    </tr>\n",
              "    <tr>\n",
              "      <th>4</th>\n",
              "      <td>Tutorial</td>\n",
              "      <td>840</td>\n",
              "    </tr>\n",
              "  </tbody>\n",
              "</table>\n",
              "</div>"
            ],
            "text/plain": [
              "                event_name  users_counter\n",
              "0         CartScreenAppear           3734\n",
              "1         MainScreenAppear           7419\n",
              "2       OffersScreenAppear           4593\n",
              "3  PaymentScreenSuccessful           3539\n",
              "4                 Tutorial            840"
            ]
          },
          "metadata": {
            "tags": []
          },
          "execution_count": 43
        }
      ]
    },
    {
      "cell_type": "code",
      "metadata": {
        "id": "E0kFnxnS0S1_"
      },
      "source": [
        "device_number['proportions'] = device_number['users_counter'] / device_number['users_counter'].sum() * 100"
      ],
      "execution_count": 44,
      "outputs": []
    },
    {
      "cell_type": "code",
      "metadata": {
        "id": "NPuIKvFV0S09",
        "colab": {
          "base_uri": "https://localhost:8080/",
          "height": 196
        },
        "outputId": "481f89b8-ab6e-4ed7-cb33-228cb0794cd0"
      },
      "source": [
        "# users counter and proportions also sorted in ascending order by users counter\n",
        "device_number.sort_values(by='users_counter',ascending=False)"
      ],
      "execution_count": 45,
      "outputs": [
        {
          "output_type": "execute_result",
          "data": {
            "text/html": [
              "<div>\n",
              "<style scoped>\n",
              "    .dataframe tbody tr th:only-of-type {\n",
              "        vertical-align: middle;\n",
              "    }\n",
              "\n",
              "    .dataframe tbody tr th {\n",
              "        vertical-align: top;\n",
              "    }\n",
              "\n",
              "    .dataframe thead th {\n",
              "        text-align: right;\n",
              "    }\n",
              "</style>\n",
              "<table border=\"1\" class=\"dataframe\">\n",
              "  <thead>\n",
              "    <tr style=\"text-align: right;\">\n",
              "      <th></th>\n",
              "      <th>event_name</th>\n",
              "      <th>users_counter</th>\n",
              "      <th>proportions</th>\n",
              "    </tr>\n",
              "  </thead>\n",
              "  <tbody>\n",
              "    <tr>\n",
              "      <th>1</th>\n",
              "      <td>MainScreenAppear</td>\n",
              "      <td>7419</td>\n",
              "      <td>36.864596</td>\n",
              "    </tr>\n",
              "    <tr>\n",
              "      <th>2</th>\n",
              "      <td>OffersScreenAppear</td>\n",
              "      <td>4593</td>\n",
              "      <td>22.822360</td>\n",
              "    </tr>\n",
              "    <tr>\n",
              "      <th>0</th>\n",
              "      <td>CartScreenAppear</td>\n",
              "      <td>3734</td>\n",
              "      <td>18.554037</td>\n",
              "    </tr>\n",
              "    <tr>\n",
              "      <th>3</th>\n",
              "      <td>PaymentScreenSuccessful</td>\n",
              "      <td>3539</td>\n",
              "      <td>17.585093</td>\n",
              "    </tr>\n",
              "    <tr>\n",
              "      <th>4</th>\n",
              "      <td>Tutorial</td>\n",
              "      <td>840</td>\n",
              "      <td>4.173913</td>\n",
              "    </tr>\n",
              "  </tbody>\n",
              "</table>\n",
              "</div>"
            ],
            "text/plain": [
              "                event_name  users_counter  proportions\n",
              "1         MainScreenAppear           7419    36.864596\n",
              "2       OffersScreenAppear           4593    22.822360\n",
              "0         CartScreenAppear           3734    18.554037\n",
              "3  PaymentScreenSuccessful           3539    17.585093\n",
              "4                 Tutorial            840     4.173913"
            ]
          },
          "metadata": {
            "tags": []
          },
          "execution_count": 45
        }
      ]
    },
    {
      "cell_type": "markdown",
      "metadata": {
        "id": "OCZJO86lNBvg"
      },
      "source": [
        "- number on unique users main screen is about 37%\n",
        "- payments screen is 17.5% unique users which about half of the unique users in the main screen\n",
        "- tutorial is 4% between the unique users"
      ]
    },
    {
      "cell_type": "markdown",
      "metadata": {
        "id": "5PTNM7As0Gfb"
      },
      "source": [
        "•\tIn what order do you think the actions took place. Are all of them part of a single sequence? You don't need to take them into account when calculating the funnel.\n"
      ]
    },
    {
      "cell_type": "markdown",
      "metadata": {
        "id": "tVVyrVcGOof8"
      },
      "source": [
        "__ANSWER:__<br>\n",
        "The sequence of a single event is:<br>\n",
        "Main Screen > Cart Screen > Payment Successful<br>\n",
        "Tutorial and is not obligatory in the proccess from the enterance point till the payment made<br>\n",
        "`*Main Screen*` - the user enter the app<br>\n",
        "`*Cart Screen*` - user confirms order <br>\n",
        "`*Payment Successful*` - settled order<br><br>\n",
        "`*Offers Screen*` - user click on the offers screen before to find other products<br>\n",
        "`*Tutorial*` - Optional part and not obligatory in the purchase<br><br>\n",
        "*Alternative sequence can be with Offers screen in it:<br>\n",
        "Main Screen > Offers Screen >Cart Screen > Payment Successful\n"
      ]
    },
    {
      "cell_type": "markdown",
      "metadata": {
        "id": "w8h_emhw0HSU"
      },
      "source": [
        "•\tUse the event funnel to find the share of users that proceed from each stage to the next. (For instance, for the sequence of events A → B → C, calculate the ratio of users at stage B to the number of users at stage A and the ratio of users at stage C to the number at stage B.)\n"
      ]
    },
    {
      "cell_type": "markdown",
      "metadata": {
        "id": "FBWAzQy4bABv"
      },
      "source": [
        "*We will take the A>B>C event calculations*"
      ]
    },
    {
      "cell_type": "code",
      "metadata": {
        "id": "m0fmIaIN0O7c"
      },
      "source": [
        "# first lets save with the correct order as a default:\n",
        "device_number = device_number.sort_values(by='users_counter',ascending=False)"
      ],
      "execution_count": 46,
      "outputs": []
    },
    {
      "cell_type": "code",
      "metadata": {
        "id": "ztKPaWtU0O-t"
      },
      "source": [
        "# now remove the rows that are not in our event and save to a new frame:\n",
        "device_number_event = device_number.reset_index().drop('index',axis=1).drop([1,4]).reset_index().drop('index',axis=1)"
      ],
      "execution_count": 47,
      "outputs": []
    },
    {
      "cell_type": "code",
      "metadata": {
        "id": "IC4Mr9DK0PCd",
        "colab": {
          "base_uri": "https://localhost:8080/",
          "height": 137
        },
        "outputId": "60cea786-bf4e-49e6-8155-42069ce453f3"
      },
      "source": [
        "# lets add sequence for each event:\n",
        "device_number_event['sequence'] = ['A','B','C']\n",
        "device_number_event"
      ],
      "execution_count": 48,
      "outputs": [
        {
          "output_type": "execute_result",
          "data": {
            "text/html": [
              "<div>\n",
              "<style scoped>\n",
              "    .dataframe tbody tr th:only-of-type {\n",
              "        vertical-align: middle;\n",
              "    }\n",
              "\n",
              "    .dataframe tbody tr th {\n",
              "        vertical-align: top;\n",
              "    }\n",
              "\n",
              "    .dataframe thead th {\n",
              "        text-align: right;\n",
              "    }\n",
              "</style>\n",
              "<table border=\"1\" class=\"dataframe\">\n",
              "  <thead>\n",
              "    <tr style=\"text-align: right;\">\n",
              "      <th></th>\n",
              "      <th>event_name</th>\n",
              "      <th>users_counter</th>\n",
              "      <th>proportions</th>\n",
              "      <th>sequence</th>\n",
              "    </tr>\n",
              "  </thead>\n",
              "  <tbody>\n",
              "    <tr>\n",
              "      <th>0</th>\n",
              "      <td>MainScreenAppear</td>\n",
              "      <td>7419</td>\n",
              "      <td>36.864596</td>\n",
              "      <td>A</td>\n",
              "    </tr>\n",
              "    <tr>\n",
              "      <th>1</th>\n",
              "      <td>CartScreenAppear</td>\n",
              "      <td>3734</td>\n",
              "      <td>18.554037</td>\n",
              "      <td>B</td>\n",
              "    </tr>\n",
              "    <tr>\n",
              "      <th>2</th>\n",
              "      <td>PaymentScreenSuccessful</td>\n",
              "      <td>3539</td>\n",
              "      <td>17.585093</td>\n",
              "      <td>C</td>\n",
              "    </tr>\n",
              "  </tbody>\n",
              "</table>\n",
              "</div>"
            ],
            "text/plain": [
              "                event_name  users_counter  proportions sequence\n",
              "0         MainScreenAppear           7419    36.864596        A\n",
              "1         CartScreenAppear           3734    18.554037        B\n",
              "2  PaymentScreenSuccessful           3539    17.585093        C"
            ]
          },
          "metadata": {
            "tags": []
          },
          "execution_count": 48
        }
      ]
    },
    {
      "cell_type": "code",
      "metadata": {
        "id": "C-dAUn6S0PIh"
      },
      "source": [
        "# calculation of ratio sequce using the shift method to a new columns:\n",
        "device_number_event['ratio_sequence'] = \\\n",
        "(device_number_event['users_counter'] / device_number_event['users_counter'].shift(1)).fillna(1).apply('{:.2%}'.format)"
      ],
      "execution_count": 49,
      "outputs": []
    },
    {
      "cell_type": "code",
      "metadata": {
        "id": "rGfsTIeN0PMM",
        "colab": {
          "base_uri": "https://localhost:8080/",
          "height": 137
        },
        "outputId": "bcc4bbea-af9b-4ac5-bfe9-ddac78647780"
      },
      "source": [
        "device_number_event"
      ],
      "execution_count": 50,
      "outputs": [
        {
          "output_type": "execute_result",
          "data": {
            "text/html": [
              "<div>\n",
              "<style scoped>\n",
              "    .dataframe tbody tr th:only-of-type {\n",
              "        vertical-align: middle;\n",
              "    }\n",
              "\n",
              "    .dataframe tbody tr th {\n",
              "        vertical-align: top;\n",
              "    }\n",
              "\n",
              "    .dataframe thead th {\n",
              "        text-align: right;\n",
              "    }\n",
              "</style>\n",
              "<table border=\"1\" class=\"dataframe\">\n",
              "  <thead>\n",
              "    <tr style=\"text-align: right;\">\n",
              "      <th></th>\n",
              "      <th>event_name</th>\n",
              "      <th>users_counter</th>\n",
              "      <th>proportions</th>\n",
              "      <th>sequence</th>\n",
              "      <th>ratio_sequence</th>\n",
              "    </tr>\n",
              "  </thead>\n",
              "  <tbody>\n",
              "    <tr>\n",
              "      <th>0</th>\n",
              "      <td>MainScreenAppear</td>\n",
              "      <td>7419</td>\n",
              "      <td>36.864596</td>\n",
              "      <td>A</td>\n",
              "      <td>100.00%</td>\n",
              "    </tr>\n",
              "    <tr>\n",
              "      <th>1</th>\n",
              "      <td>CartScreenAppear</td>\n",
              "      <td>3734</td>\n",
              "      <td>18.554037</td>\n",
              "      <td>B</td>\n",
              "      <td>50.33%</td>\n",
              "    </tr>\n",
              "    <tr>\n",
              "      <th>2</th>\n",
              "      <td>PaymentScreenSuccessful</td>\n",
              "      <td>3539</td>\n",
              "      <td>17.585093</td>\n",
              "      <td>C</td>\n",
              "      <td>94.78%</td>\n",
              "    </tr>\n",
              "  </tbody>\n",
              "</table>\n",
              "</div>"
            ],
            "text/plain": [
              "                event_name  users_counter  proportions sequence ratio_sequence\n",
              "0         MainScreenAppear           7419    36.864596        A        100.00%\n",
              "1         CartScreenAppear           3734    18.554037        B         50.33%\n",
              "2  PaymentScreenSuccessful           3539    17.585093        C         94.78%"
            ]
          },
          "metadata": {
            "tags": []
          },
          "execution_count": 50
        }
      ]
    },
    {
      "cell_type": "markdown",
      "metadata": {
        "id": "7gaSkZnz0IHG"
      },
      "source": [
        "•\tAt what stage do you lose the most users?\n"
      ]
    },
    {
      "cell_type": "markdown",
      "metadata": {
        "id": "sgWvqUv3foCh"
      },
      "source": [
        "__ANSWER:__<br>\n",
        "At stage between A > B <br>\n",
        "half of the users to not get to the Cart screen from their Main Screen<br>\n",
        "although a pritty good rate noted fron B to C with high percent success means that once the user is in the Cart screen section he will probably make the order"
      ]
    },
    {
      "cell_type": "markdown",
      "metadata": {
        "id": "G1zbgYLp0I8M"
      },
      "source": [
        "•\tWhat share of users make the entire journey from their first event to payment?\n"
      ]
    },
    {
      "cell_type": "code",
      "metadata": {
        "id": "UsjBNKV40NMB"
      },
      "source": [
        "a_to_c = (device_number_event['users_counter'] / device_number_event['users_counter'].shift(2)).dropna().apply('{:.2%}'.format)"
      ],
      "execution_count": 51,
      "outputs": []
    },
    {
      "cell_type": "code",
      "metadata": {
        "id": "WeUwnV930NLV",
        "colab": {
          "base_uri": "https://localhost:8080/"
        },
        "outputId": "caa4a5b8-d579-4413-9183-980a19b5c296"
      },
      "source": [
        "print('share of users make the entire sequence from A to C is: {}'.format(a_to_c.iloc[0]))"
      ],
      "execution_count": 52,
      "outputs": [
        {
          "output_type": "stream",
          "text": [
            "share of users make the entire sequence from A to C is: 47.70%\n"
          ],
          "name": "stdout"
        }
      ]
    },
    {
      "cell_type": "markdown",
      "metadata": {
        "id": "_W0dEyRpzoV7"
      },
      "source": [
        "<span style=\"color:blue\">conclusions:\n",
        "- Users reach the cart stage (stage before settlement) has great conversion going to the last occasion and make the payment with  almost 95% of successs\n",
        "- only half of the users going from their main screen to the cart section when this is stage is critical and we lose a lot users in our funnel proccess. following that our total conversion reate depriciated to below 50% (from A [first] to C [last])\n",
        "- We may increase the conversion service by making the payment with no cart method and using a flash payment or another methodology to prevent from users drop from B to C\n",
        "- to improve percentages from A to B we maybe can add an additional step to make an engagment between users or offer them an additional product within step A to increase engagements successes\n",
        "</span>"
      ]
    },
    {
      "cell_type": "markdown",
      "metadata": {
        "id": "eEh3AMRqgnG1"
      },
      "source": [
        "# Step 5. Study the results of the experiment\n",
        "---"
      ]
    },
    {
      "cell_type": "markdown",
      "metadata": {
        "id": "y2rLjfbwsFea"
      },
      "source": [
        "*Before start lets check if the same device appears in more than one experiment group*"
      ]
    },
    {
      "cell_type": "code",
      "metadata": {
        "id": "kW1FHKLmmjgm"
      },
      "source": [
        "# create pivot with counter for each group and device_id \n",
        "dupp_check = pd.pivot_table(logs,values='timestamp',index='device_id',columns='experiment_id',aggfunc='count')"
      ],
      "execution_count": 53,
      "outputs": []
    },
    {
      "cell_type": "code",
      "metadata": {
        "id": "6gFCFIZrqtpK",
        "colab": {
          "base_uri": "https://localhost:8080/"
        },
        "outputId": "370e4cc3-7e74-4e54-9cc7-b3e7e92cf9e2"
      },
      "source": [
        "# test if a device is more than in one experiment group:\n",
        "print(dupp_check.drop(['246'],axis=1).dropna())\n",
        "print(dupp_check.drop(['247'],axis=1).dropna())\n",
        "print(dupp_check.drop(['248'],axis=1).dropna())\n",
        "print(dupp_check.dropna())"
      ],
      "execution_count": 54,
      "outputs": [
        {
          "output_type": "stream",
          "text": [
            "Empty DataFrame\n",
            "Columns: [247, 248]\n",
            "Index: []\n",
            "Empty DataFrame\n",
            "Columns: [246, 248]\n",
            "Index: []\n",
            "Empty DataFrame\n",
            "Columns: [246, 247]\n",
            "Index: []\n",
            "Empty DataFrame\n",
            "Columns: [246, 247, 248]\n",
            "Index: []\n"
          ],
          "name": "stdout"
        }
      ]
    },
    {
      "cell_type": "markdown",
      "metadata": {
        "id": "p8ZOPXCYuMPb"
      },
      "source": [
        "no dupps found in any case so we now discard the possability of a device id in more than one group and can proceed"
      ]
    },
    {
      "cell_type": "markdown",
      "metadata": {
        "id": "AbBP0Ad6jLdr"
      },
      "source": [
        "•\tHow many users are there in each group?"
      ]
    },
    {
      "cell_type": "code",
      "metadata": {
        "id": "1stJwyzpjNqG",
        "colab": {
          "base_uri": "https://localhost:8080/",
          "height": 137
        },
        "outputId": "b85ca195-1864-453b-9845-3409888aee4a"
      },
      "source": [
        "table_exp = logs.groupby('experiment_id')['device_id'].nunique().reset_index().rename(columns={'device_id':'users'})\n",
        "table_exp"
      ],
      "execution_count": 55,
      "outputs": [
        {
          "output_type": "execute_result",
          "data": {
            "text/html": [
              "<div>\n",
              "<style scoped>\n",
              "    .dataframe tbody tr th:only-of-type {\n",
              "        vertical-align: middle;\n",
              "    }\n",
              "\n",
              "    .dataframe tbody tr th {\n",
              "        vertical-align: top;\n",
              "    }\n",
              "\n",
              "    .dataframe thead th {\n",
              "        text-align: right;\n",
              "    }\n",
              "</style>\n",
              "<table border=\"1\" class=\"dataframe\">\n",
              "  <thead>\n",
              "    <tr style=\"text-align: right;\">\n",
              "      <th></th>\n",
              "      <th>experiment_id</th>\n",
              "      <th>users</th>\n",
              "    </tr>\n",
              "  </thead>\n",
              "  <tbody>\n",
              "    <tr>\n",
              "      <th>0</th>\n",
              "      <td>246</td>\n",
              "      <td>2484</td>\n",
              "    </tr>\n",
              "    <tr>\n",
              "      <th>1</th>\n",
              "      <td>247</td>\n",
              "      <td>2513</td>\n",
              "    </tr>\n",
              "    <tr>\n",
              "      <th>2</th>\n",
              "      <td>248</td>\n",
              "      <td>2537</td>\n",
              "    </tr>\n",
              "  </tbody>\n",
              "</table>\n",
              "</div>"
            ],
            "text/plain": [
              "  experiment_id  users\n",
              "0           246   2484\n",
              "1           247   2513\n",
              "2           248   2537"
            ]
          },
          "metadata": {
            "tags": []
          },
          "execution_count": 55
        }
      ]
    },
    {
      "cell_type": "markdown",
      "metadata": {
        "id": "XiyKlRs2u-LF"
      },
      "source": [
        "*number of unique users for each group is shown in table above*"
      ]
    },
    {
      "cell_type": "code",
      "metadata": {
        "id": "ZX5JCluwzoV9",
        "colab": {
          "base_uri": "https://localhost:8080/",
          "height": 137
        },
        "outputId": "084c19ef-ded2-4d49-ff1f-d3470f415abf"
      },
      "source": [
        "table_exp['percent'] = (table_exp['users'] / table_exp['users'].sum()).apply('{:.2%}'.format)\n",
        "table_exp"
      ],
      "execution_count": 56,
      "outputs": [
        {
          "output_type": "execute_result",
          "data": {
            "text/html": [
              "<div>\n",
              "<style scoped>\n",
              "    .dataframe tbody tr th:only-of-type {\n",
              "        vertical-align: middle;\n",
              "    }\n",
              "\n",
              "    .dataframe tbody tr th {\n",
              "        vertical-align: top;\n",
              "    }\n",
              "\n",
              "    .dataframe thead th {\n",
              "        text-align: right;\n",
              "    }\n",
              "</style>\n",
              "<table border=\"1\" class=\"dataframe\">\n",
              "  <thead>\n",
              "    <tr style=\"text-align: right;\">\n",
              "      <th></th>\n",
              "      <th>experiment_id</th>\n",
              "      <th>users</th>\n",
              "      <th>percent</th>\n",
              "    </tr>\n",
              "  </thead>\n",
              "  <tbody>\n",
              "    <tr>\n",
              "      <th>0</th>\n",
              "      <td>246</td>\n",
              "      <td>2484</td>\n",
              "      <td>32.97%</td>\n",
              "    </tr>\n",
              "    <tr>\n",
              "      <th>1</th>\n",
              "      <td>247</td>\n",
              "      <td>2513</td>\n",
              "      <td>33.36%</td>\n",
              "    </tr>\n",
              "    <tr>\n",
              "      <th>2</th>\n",
              "      <td>248</td>\n",
              "      <td>2537</td>\n",
              "      <td>33.67%</td>\n",
              "    </tr>\n",
              "  </tbody>\n",
              "</table>\n",
              "</div>"
            ],
            "text/plain": [
              "  experiment_id  users percent\n",
              "0           246   2484  32.97%\n",
              "1           247   2513  33.36%\n",
              "2           248   2537  33.67%"
            ]
          },
          "metadata": {
            "tags": []
          },
          "execution_count": 56
        }
      ]
    },
    {
      "cell_type": "markdown",
      "metadata": {
        "id": "XaFjMyYAmATg"
      },
      "source": [
        "\n",
        "•\tWe have two control groups in the A/A test, where we check our mechanisms and calculations. See if there is a statistically significant difference between samples 246 and 247.<br>\n",
        "•\tSelect the most popular event. In each of the control groups, find the number of users who performed this action. Find their share. Check whether the difference between the groups is statistically significant. Repeat the procedure for all other events (it will save time if you create a special function for this test). Can you confirm that the groups were split properly?\n",
        "\n"
      ]
    },
    {
      "cell_type": "code",
      "metadata": {
        "id": "vuPBmqY_mTPH"
      },
      "source": [
        "# lets define the group separately - reminder: experiment_id columns defined as a category in my case:\n",
        "test_246 = logs[logs['experiment_id'] == '246']['device_id'].unique()\n",
        "test_247 = logs[logs['experiment_id'] == '247']['device_id'].unique()\n",
        "control = logs[logs['experiment_id'] == '248']['device_id'].unique()"
      ],
      "execution_count": 57,
      "outputs": []
    },
    {
      "cell_type": "code",
      "metadata": {
        "id": "C7xPSxtz8Mfb",
        "colab": {
          "base_uri": "https://localhost:8080/"
        },
        "outputId": "b51dfff5-981b-4531-b9c7-8fc25aa80380"
      },
      "source": [
        "len(np.concatenate((test_246,test_247)))"
      ],
      "execution_count": 58,
      "outputs": [
        {
          "output_type": "execute_result",
          "data": {
            "text/plain": [
              "4997"
            ]
          },
          "metadata": {
            "tags": []
          },
          "execution_count": 58
        }
      ]
    },
    {
      "cell_type": "code",
      "metadata": {
        "id": "InN0aQbxkgkc",
        "colab": {
          "base_uri": "https://localhost:8080/",
          "height": 226
        },
        "outputId": "69045c6e-5daf-4258-c81b-eda7755faa21"
      },
      "source": [
        "event_exp = logs.pivot_table(index='event_name', values='device_id', columns='experiment_id', aggfunc=lambda x: x.nunique())\n",
        "event_exp"
      ],
      "execution_count": 59,
      "outputs": [
        {
          "output_type": "execute_result",
          "data": {
            "text/html": [
              "<div>\n",
              "<style scoped>\n",
              "    .dataframe tbody tr th:only-of-type {\n",
              "        vertical-align: middle;\n",
              "    }\n",
              "\n",
              "    .dataframe tbody tr th {\n",
              "        vertical-align: top;\n",
              "    }\n",
              "\n",
              "    .dataframe thead th {\n",
              "        text-align: right;\n",
              "    }\n",
              "</style>\n",
              "<table border=\"1\" class=\"dataframe\">\n",
              "  <thead>\n",
              "    <tr style=\"text-align: right;\">\n",
              "      <th>experiment_id</th>\n",
              "      <th>246</th>\n",
              "      <th>247</th>\n",
              "      <th>248</th>\n",
              "    </tr>\n",
              "    <tr>\n",
              "      <th>event_name</th>\n",
              "      <th></th>\n",
              "      <th></th>\n",
              "      <th></th>\n",
              "    </tr>\n",
              "  </thead>\n",
              "  <tbody>\n",
              "    <tr>\n",
              "      <th>CartScreenAppear</th>\n",
              "      <td>1266</td>\n",
              "      <td>1238</td>\n",
              "      <td>1230</td>\n",
              "    </tr>\n",
              "    <tr>\n",
              "      <th>MainScreenAppear</th>\n",
              "      <td>2450</td>\n",
              "      <td>2476</td>\n",
              "      <td>2493</td>\n",
              "    </tr>\n",
              "    <tr>\n",
              "      <th>OffersScreenAppear</th>\n",
              "      <td>1542</td>\n",
              "      <td>1520</td>\n",
              "      <td>1531</td>\n",
              "    </tr>\n",
              "    <tr>\n",
              "      <th>PaymentScreenSuccessful</th>\n",
              "      <td>1200</td>\n",
              "      <td>1158</td>\n",
              "      <td>1181</td>\n",
              "    </tr>\n",
              "    <tr>\n",
              "      <th>Tutorial</th>\n",
              "      <td>278</td>\n",
              "      <td>283</td>\n",
              "      <td>279</td>\n",
              "    </tr>\n",
              "  </tbody>\n",
              "</table>\n",
              "</div>"
            ],
            "text/plain": [
              "experiment_id             246   247   248\n",
              "event_name                               \n",
              "CartScreenAppear         1266  1238  1230\n",
              "MainScreenAppear         2450  2476  2493\n",
              "OffersScreenAppear       1542  1520  1531\n",
              "PaymentScreenSuccessful  1200  1158  1181\n",
              "Tutorial                  278   283   279"
            ]
          },
          "metadata": {
            "tags": []
          },
          "execution_count": 59
        }
      ]
    },
    {
      "cell_type": "code",
      "metadata": {
        "id": "HsS5ncn-mSoz"
      },
      "source": [
        "# handle CategoricalIndex issue:\n",
        "event_exp.columns = pd.Index(list(event_exp.columns))"
      ],
      "execution_count": 60,
      "outputs": []
    },
    {
      "cell_type": "code",
      "metadata": {
        "id": "6sjQ7qqtmSy1"
      },
      "source": [
        "# now reset_index:\n",
        "event_exp.reset_index(inplace=True)"
      ],
      "execution_count": 61,
      "outputs": []
    },
    {
      "cell_type": "code",
      "metadata": {
        "id": "3VBZTZbXmSxO",
        "colab": {
          "base_uri": "https://localhost:8080/",
          "height": 196
        },
        "outputId": "75ea2e92-4137-4e44-dd5b-c38270cae62a"
      },
      "source": [
        "event_exp"
      ],
      "execution_count": 62,
      "outputs": [
        {
          "output_type": "execute_result",
          "data": {
            "text/html": [
              "<div>\n",
              "<style scoped>\n",
              "    .dataframe tbody tr th:only-of-type {\n",
              "        vertical-align: middle;\n",
              "    }\n",
              "\n",
              "    .dataframe tbody tr th {\n",
              "        vertical-align: top;\n",
              "    }\n",
              "\n",
              "    .dataframe thead th {\n",
              "        text-align: right;\n",
              "    }\n",
              "</style>\n",
              "<table border=\"1\" class=\"dataframe\">\n",
              "  <thead>\n",
              "    <tr style=\"text-align: right;\">\n",
              "      <th></th>\n",
              "      <th>event_name</th>\n",
              "      <th>246</th>\n",
              "      <th>247</th>\n",
              "      <th>248</th>\n",
              "    </tr>\n",
              "  </thead>\n",
              "  <tbody>\n",
              "    <tr>\n",
              "      <th>0</th>\n",
              "      <td>CartScreenAppear</td>\n",
              "      <td>1266</td>\n",
              "      <td>1238</td>\n",
              "      <td>1230</td>\n",
              "    </tr>\n",
              "    <tr>\n",
              "      <th>1</th>\n",
              "      <td>MainScreenAppear</td>\n",
              "      <td>2450</td>\n",
              "      <td>2476</td>\n",
              "      <td>2493</td>\n",
              "    </tr>\n",
              "    <tr>\n",
              "      <th>2</th>\n",
              "      <td>OffersScreenAppear</td>\n",
              "      <td>1542</td>\n",
              "      <td>1520</td>\n",
              "      <td>1531</td>\n",
              "    </tr>\n",
              "    <tr>\n",
              "      <th>3</th>\n",
              "      <td>PaymentScreenSuccessful</td>\n",
              "      <td>1200</td>\n",
              "      <td>1158</td>\n",
              "      <td>1181</td>\n",
              "    </tr>\n",
              "    <tr>\n",
              "      <th>4</th>\n",
              "      <td>Tutorial</td>\n",
              "      <td>278</td>\n",
              "      <td>283</td>\n",
              "      <td>279</td>\n",
              "    </tr>\n",
              "  </tbody>\n",
              "</table>\n",
              "</div>"
            ],
            "text/plain": [
              "                event_name   246   247   248\n",
              "0         CartScreenAppear  1266  1238  1230\n",
              "1         MainScreenAppear  2450  2476  2493\n",
              "2       OffersScreenAppear  1542  1520  1531\n",
              "3  PaymentScreenSuccessful  1200  1158  1181\n",
              "4                 Tutorial   278   283   279"
            ]
          },
          "metadata": {
            "tags": []
          },
          "execution_count": 62
        }
      ]
    },
    {
      "cell_type": "markdown",
      "metadata": {
        "id": "2ao_NbKKZqHZ"
      },
      "source": [
        "- most popular event - MainScreenAppear\n",
        "- for each group found the number of unique users"
      ]
    },
    {
      "cell_type": "markdown",
      "metadata": {
        "id": "RIZuv-sEZVw9"
      },
      "source": [
        "check whether there is a statistical difference in conversion aka proportion - \"Is the share of users (from all users in the test) that had \"MainScreenAppear\" of one test group is statistically different from another?\""
      ]
    },
    {
      "cell_type": "markdown",
      "metadata": {
        "id": "_v1iwdjaZ2Wx"
      },
      "source": [
        "*now  we use the test of proportions - z-score on the \"MainScreenAppear\" event*<br>\n",
        "*create a function to repeat the same test for all the events*"
      ]
    },
    {
      "cell_type": "code",
      "metadata": {
        "id": "Yf0UPNI1mSlZ"
      },
      "source": [
        "def hypo_check(group1,group2, event, alpha=0.05):\n",
        "    # let's start with successes, using \n",
        "    successes1=event_exp[event_exp['event_name']==event][group1].iloc[0]\n",
        "    successes2=event_exp[event_exp['event_name']==event][group2].iloc[0]\n",
        "    \n",
        "    # for trials we can go back to  logs\n",
        "    trials1=logs[logs['experiment_id']==group1]['device_id'].nunique()\n",
        "    trials2=logs[logs['experiment_id']==group2]['device_id'].nunique()\n",
        "    \n",
        "    # proportion for success in the first group\n",
        "    p1 = successes1/trials1\n",
        "\n",
        "    # proportion for success in the second group\n",
        "    p2 = successes2/trials2\n",
        "\n",
        "    # proportion in a combined dataset\n",
        "    p_combined = (successes1 + successes2) / (trials1 + trials2)\n",
        "\n",
        "  \n",
        "    difference = p1 - p2\n",
        "    \n",
        "    # z score:\n",
        "    z_score = difference / math.sqrt(p_combined * (1 - p_combined) * (1/trials1 + 1/trials2))\n",
        "\n",
        "  \n",
        "    distr = stats.norm(0, 1) \n",
        "\n",
        "\n",
        "    p_value = (1 - distr.cdf(abs(z_score))) * 2\n",
        "\n",
        "    \n",
        "    print('H0: μ0 = μ1 \\ mean of event', event ,'logs in group',group1,'is equal to mean of group',group2)\n",
        "\n",
        "    print('H1: μ0 ≠ μ1 \\ mean of event', event ,'logs in group',group1,'is not equal to mean of group',group2)\n",
        "    print('p-value: ', p_value)\n",
        "\n",
        "    if (p_value < alpha):\n",
        "        print('Reject H0 hypothesis')\n",
        "        print('Reject H0 hypothesis means that we can reject the possibility of means between these groups are not different in the ',event,' event.\\n\\n')\n",
        "    else:\n",
        "        print('Can\\'t reject H0 hypothesis')\n",
        "        print('Can\\'t reject H0 hypothesis means that we can\\'t reject the possibility of  means between these groups are different in the ',event,' event.\\n\\n')\n"
      ],
      "execution_count": 63,
      "outputs": []
    },
    {
      "cell_type": "code",
      "metadata": {
        "id": "t-ykDOZ-mT_T",
        "colab": {
          "base_uri": "https://localhost:8080/"
        },
        "outputId": "ee8ce087-2e8a-46c5-cd7b-43b436a76b77"
      },
      "source": [
        "# hypothesis check. p-value is 5% as defined in the hypo_check func:\n",
        "hypo_check('246','247','MainScreenAppear')"
      ],
      "execution_count": 64,
      "outputs": [
        {
          "output_type": "stream",
          "text": [
            "H0: μ0 = μ1 \\ mean of event MainScreenAppear logs in group 246 is equal to mean of group 247\n",
            "H1: μ0 ≠ μ1 \\ mean of event MainScreenAppear logs in group 246 is not equal to mean of group 247\n",
            "p-value:  0.7570597232046099\n",
            "Can't reject H0 hypothesis\n",
            "Can't reject H0 hypothesis means that we can't reject the possibility of  means between these groups are different in the  MainScreenAppear  event.\n",
            "\n",
            "\n"
          ],
          "name": "stdout"
        }
      ]
    },
    {
      "cell_type": "code",
      "metadata": {
        "id": "tkaelaJEmUWz",
        "colab": {
          "base_uri": "https://localhost:8080/"
        },
        "outputId": "336a1d1a-7f1e-48ef-c4f3-3fda4c4025b6"
      },
      "source": [
        "# iterate for all the events:\n",
        "for i in event_exp['event_name']:\n",
        "  hypo_check('246','247',i)"
      ],
      "execution_count": 65,
      "outputs": [
        {
          "output_type": "stream",
          "text": [
            "H0: μ0 = μ1 \\ mean of event CartScreenAppear logs in group 246 is equal to mean of group 247\n",
            "H1: μ0 ≠ μ1 \\ mean of event CartScreenAppear logs in group 246 is not equal to mean of group 247\n",
            "p-value:  0.22883372237997213\n",
            "Can't reject H0 hypothesis\n",
            "Can't reject H0 hypothesis means that we can't reject the possibility of  means between these groups are different in the  CartScreenAppear  event.\n",
            "\n",
            "\n",
            "H0: μ0 = μ1 \\ mean of event MainScreenAppear logs in group 246 is equal to mean of group 247\n",
            "H1: μ0 ≠ μ1 \\ mean of event MainScreenAppear logs in group 246 is not equal to mean of group 247\n",
            "p-value:  0.7570597232046099\n",
            "Can't reject H0 hypothesis\n",
            "Can't reject H0 hypothesis means that we can't reject the possibility of  means between these groups are different in the  MainScreenAppear  event.\n",
            "\n",
            "\n",
            "H0: μ0 = μ1 \\ mean of event OffersScreenAppear logs in group 246 is equal to mean of group 247\n",
            "H1: μ0 ≠ μ1 \\ mean of event OffersScreenAppear logs in group 246 is not equal to mean of group 247\n",
            "p-value:  0.2480954578522181\n",
            "Can't reject H0 hypothesis\n",
            "Can't reject H0 hypothesis means that we can't reject the possibility of  means between these groups are different in the  OffersScreenAppear  event.\n",
            "\n",
            "\n",
            "H0: μ0 = μ1 \\ mean of event PaymentScreenSuccessful logs in group 246 is equal to mean of group 247\n",
            "H1: μ0 ≠ μ1 \\ mean of event PaymentScreenSuccessful logs in group 246 is not equal to mean of group 247\n",
            "p-value:  0.11456679313141849\n",
            "Can't reject H0 hypothesis\n",
            "Can't reject H0 hypothesis means that we can't reject the possibility of  means between these groups are different in the  PaymentScreenSuccessful  event.\n",
            "\n",
            "\n",
            "H0: μ0 = μ1 \\ mean of event Tutorial logs in group 246 is equal to mean of group 247\n",
            "H1: μ0 ≠ μ1 \\ mean of event Tutorial logs in group 246 is not equal to mean of group 247\n",
            "p-value:  0.9376996189257114\n",
            "Can't reject H0 hypothesis\n",
            "Can't reject H0 hypothesis means that we can't reject the possibility of  means between these groups are different in the  Tutorial  event.\n",
            "\n",
            "\n"
          ],
          "name": "stdout"
        }
      ]
    },
    {
      "cell_type": "markdown",
      "metadata": {
        "id": "KHQSbOGTj0JG"
      },
      "source": [
        "- Failed to reject between groups 246 & 247 in every event seperatley \n",
        "- groups are statistically differs in A/A test means groups distributed differently"
      ]
    },
    {
      "cell_type": "markdown",
      "metadata": {
        "id": "ZAFrK5rxmQVl"
      },
      "source": [
        "•\tDo the same thing for the group with altered fonts. Compare the results with those of each of the control groups for each event in isolation. Compare the results with the combined results for the control groups. What conclusions can you draw from the experiment?\n"
      ]
    },
    {
      "cell_type": "markdown",
      "metadata": {
        "id": "LMShbBfhyhd8"
      },
      "source": [
        "*compare 247 & 248*"
      ]
    },
    {
      "cell_type": "code",
      "metadata": {
        "id": "gUZ6Zyq8mUHw",
        "colab": {
          "base_uri": "https://localhost:8080/"
        },
        "outputId": "13753341-55ad-4ccb-c93d-6a46b5844c94"
      },
      "source": [
        "for i in event_exp['event_name']:\n",
        "  hypo_check('247','248',i)"
      ],
      "execution_count": 66,
      "outputs": [
        {
          "output_type": "stream",
          "text": [
            "H0: μ0 = μ1 \\ mean of event CartScreenAppear logs in group 247 is equal to mean of group 248\n",
            "H1: μ0 ≠ μ1 \\ mean of event CartScreenAppear logs in group 247 is not equal to mean of group 248\n",
            "p-value:  0.5786197879539783\n",
            "Can't reject H0 hypothesis\n",
            "Can't reject H0 hypothesis means that we can't reject the possibility of  means between these groups are different in the  CartScreenAppear  event.\n",
            "\n",
            "\n",
            "H0: μ0 = μ1 \\ mean of event MainScreenAppear logs in group 247 is equal to mean of group 248\n",
            "H1: μ0 ≠ μ1 \\ mean of event MainScreenAppear logs in group 247 is not equal to mean of group 248\n",
            "p-value:  0.4587053616621515\n",
            "Can't reject H0 hypothesis\n",
            "Can't reject H0 hypothesis means that we can't reject the possibility of  means between these groups are different in the  MainScreenAppear  event.\n",
            "\n",
            "\n",
            "H0: μ0 = μ1 \\ mean of event OffersScreenAppear logs in group 247 is equal to mean of group 248\n",
            "H1: μ0 ≠ μ1 \\ mean of event OffersScreenAppear logs in group 247 is not equal to mean of group 248\n",
            "p-value:  0.9197817830592261\n",
            "Can't reject H0 hypothesis\n",
            "Can't reject H0 hypothesis means that we can't reject the possibility of  means between these groups are different in the  OffersScreenAppear  event.\n",
            "\n",
            "\n",
            "H0: μ0 = μ1 \\ mean of event PaymentScreenSuccessful logs in group 247 is equal to mean of group 248\n",
            "H1: μ0 ≠ μ1 \\ mean of event PaymentScreenSuccessful logs in group 247 is not equal to mean of group 248\n",
            "p-value:  0.7373415053803964\n",
            "Can't reject H0 hypothesis\n",
            "Can't reject H0 hypothesis means that we can't reject the possibility of  means between these groups are different in the  PaymentScreenSuccessful  event.\n",
            "\n",
            "\n",
            "H0: μ0 = μ1 \\ mean of event Tutorial logs in group 247 is equal to mean of group 248\n",
            "H1: μ0 ≠ μ1 \\ mean of event Tutorial logs in group 247 is not equal to mean of group 248\n",
            "p-value:  0.765323922474501\n",
            "Can't reject H0 hypothesis\n",
            "Can't reject H0 hypothesis means that we can't reject the possibility of  means between these groups are different in the  Tutorial  event.\n",
            "\n",
            "\n"
          ],
          "name": "stdout"
        }
      ]
    },
    {
      "cell_type": "markdown",
      "metadata": {
        "id": "dpVdftmDy-Mo"
      },
      "source": [
        "- Failed to reject h0 in every event in groups 247 and 248\n",
        "- When reject null hypothesis mean that that using our z score the groups are <span style=\"color:blue\">not different</span>\n"
      ]
    },
    {
      "cell_type": "markdown",
      "metadata": {
        "id": "qaC654lOzoWC"
      },
      "source": [
        "<span style=\"color:blue\">Sorry about that and I would like to clarify myself here. <br>\n",
        "when H0 can't be rejected that it means that we accept null hypothesis of μ0 = μ1 so groups of course are NOT differ each other<br>\n",
        "please take my sencere appologie for this confussion (late our work) and take it as a general note to all that mentioned<br>\n",
        "adjusments were done</span>"
      ]
    },
    {
      "cell_type": "markdown",
      "metadata": {
        "id": "GA-II6oAzMnu"
      },
      "source": [
        "*compare 246 & 248*"
      ]
    },
    {
      "cell_type": "code",
      "metadata": {
        "id": "HFRLBmqlmUGp",
        "colab": {
          "base_uri": "https://localhost:8080/"
        },
        "outputId": "9e170e29-6ca6-455a-9e93-534507e2ddf8"
      },
      "source": [
        "for i in event_exp['event_name']:\n",
        "  hypo_check('246','248',i)"
      ],
      "execution_count": 67,
      "outputs": [
        {
          "output_type": "stream",
          "text": [
            "H0: μ0 = μ1 \\ mean of event CartScreenAppear logs in group 246 is equal to mean of group 248\n",
            "H1: μ0 ≠ μ1 \\ mean of event CartScreenAppear logs in group 246 is not equal to mean of group 248\n",
            "p-value:  0.07842923237520116\n",
            "Can't reject H0 hypothesis\n",
            "Can't reject H0 hypothesis means that we can't reject the possibility of  means between these groups are different in the  CartScreenAppear  event.\n",
            "\n",
            "\n",
            "H0: μ0 = μ1 \\ mean of event MainScreenAppear logs in group 246 is equal to mean of group 248\n",
            "H1: μ0 ≠ μ1 \\ mean of event MainScreenAppear logs in group 246 is not equal to mean of group 248\n",
            "p-value:  0.2949721933554552\n",
            "Can't reject H0 hypothesis\n",
            "Can't reject H0 hypothesis means that we can't reject the possibility of  means between these groups are different in the  MainScreenAppear  event.\n",
            "\n",
            "\n",
            "H0: μ0 = μ1 \\ mean of event OffersScreenAppear logs in group 246 is equal to mean of group 248\n",
            "H1: μ0 ≠ μ1 \\ mean of event OffersScreenAppear logs in group 246 is not equal to mean of group 248\n",
            "p-value:  0.20836205402738917\n",
            "Can't reject H0 hypothesis\n",
            "Can't reject H0 hypothesis means that we can't reject the possibility of  means between these groups are different in the  OffersScreenAppear  event.\n",
            "\n",
            "\n",
            "H0: μ0 = μ1 \\ mean of event PaymentScreenSuccessful logs in group 246 is equal to mean of group 248\n",
            "H1: μ0 ≠ μ1 \\ mean of event PaymentScreenSuccessful logs in group 246 is not equal to mean of group 248\n",
            "p-value:  0.2122553275697796\n",
            "Can't reject H0 hypothesis\n",
            "Can't reject H0 hypothesis means that we can't reject the possibility of  means between these groups are different in the  PaymentScreenSuccessful  event.\n",
            "\n",
            "\n",
            "H0: μ0 = μ1 \\ mean of event Tutorial logs in group 246 is equal to mean of group 248\n",
            "H1: μ0 ≠ μ1 \\ mean of event Tutorial logs in group 246 is not equal to mean of group 248\n",
            "p-value:  0.8264294010087645\n",
            "Can't reject H0 hypothesis\n",
            "Can't reject H0 hypothesis means that we can't reject the possibility of  means between these groups are different in the  Tutorial  event.\n",
            "\n",
            "\n"
          ],
          "name": "stdout"
        }
      ]
    },
    {
      "cell_type": "markdown",
      "metadata": {
        "id": "3WwKf6ROzUve"
      },
      "source": [
        "- Failed to reject h0 in every event in groups 246 and 248\n",
        "- When reject null hypothesis mean that that using our z score the groups are  not the same"
      ]
    },
    {
      "cell_type": "markdown",
      "metadata": {
        "id": "8IPTeitlzw7-"
      },
      "source": [
        "*compare 246+247 & 248*"
      ]
    },
    {
      "cell_type": "code",
      "metadata": {
        "id": "SJx5QrrAzXlU",
        "colab": {
          "base_uri": "https://localhost:8080/"
        },
        "outputId": "62b04b8a-7731-4d65-ad5a-847ff8220813"
      },
      "source": [
        "# to maketo combine both 246+247  I will create new columns with only 2 groups: \n",
        "logs['experiment_id_']= logs['experiment_id'].apply(lambda x: '248' if x=='248' else '246+247')"
      ],
      "execution_count": 68,
      "outputs": [
        {
          "output_type": "stream",
          "text": [
            "/usr/local/lib/python3.6/dist-packages/ipykernel_launcher.py:2: SettingWithCopyWarning: \n",
            "A value is trying to be set on a copy of a slice from a DataFrame.\n",
            "Try using .loc[row_indexer,col_indexer] = value instead\n",
            "\n",
            "See the caveats in the documentation: https://pandas.pydata.org/pandas-docs/stable/user_guide/indexing.html#returning-a-view-versus-a-copy\n",
            "  \n"
          ],
          "name": "stderr"
        }
      ]
    },
    {
      "cell_type": "code",
      "metadata": {
        "id": "FM-4ekV67xCP",
        "colab": {
          "base_uri": "https://localhost:8080/",
          "height": 226
        },
        "outputId": "447d0330-af5d-40db-c1ea-d750d8b4130d"
      },
      "source": [
        "event_exp_ = logs.pivot_table(index='event_name', values='device_id', columns='experiment_id_', aggfunc=lambda x: x.nunique())\n",
        "event_exp_"
      ],
      "execution_count": 69,
      "outputs": [
        {
          "output_type": "execute_result",
          "data": {
            "text/html": [
              "<div>\n",
              "<style scoped>\n",
              "    .dataframe tbody tr th:only-of-type {\n",
              "        vertical-align: middle;\n",
              "    }\n",
              "\n",
              "    .dataframe tbody tr th {\n",
              "        vertical-align: top;\n",
              "    }\n",
              "\n",
              "    .dataframe thead th {\n",
              "        text-align: right;\n",
              "    }\n",
              "</style>\n",
              "<table border=\"1\" class=\"dataframe\">\n",
              "  <thead>\n",
              "    <tr style=\"text-align: right;\">\n",
              "      <th>experiment_id_</th>\n",
              "      <th>246+247</th>\n",
              "      <th>248</th>\n",
              "    </tr>\n",
              "    <tr>\n",
              "      <th>event_name</th>\n",
              "      <th></th>\n",
              "      <th></th>\n",
              "    </tr>\n",
              "  </thead>\n",
              "  <tbody>\n",
              "    <tr>\n",
              "      <th>CartScreenAppear</th>\n",
              "      <td>2504</td>\n",
              "      <td>1230</td>\n",
              "    </tr>\n",
              "    <tr>\n",
              "      <th>MainScreenAppear</th>\n",
              "      <td>4926</td>\n",
              "      <td>2493</td>\n",
              "    </tr>\n",
              "    <tr>\n",
              "      <th>OffersScreenAppear</th>\n",
              "      <td>3062</td>\n",
              "      <td>1531</td>\n",
              "    </tr>\n",
              "    <tr>\n",
              "      <th>PaymentScreenSuccessful</th>\n",
              "      <td>2358</td>\n",
              "      <td>1181</td>\n",
              "    </tr>\n",
              "    <tr>\n",
              "      <th>Tutorial</th>\n",
              "      <td>561</td>\n",
              "      <td>279</td>\n",
              "    </tr>\n",
              "  </tbody>\n",
              "</table>\n",
              "</div>"
            ],
            "text/plain": [
              "experiment_id_           246+247   248\n",
              "event_name                            \n",
              "CartScreenAppear            2504  1230\n",
              "MainScreenAppear            4926  2493\n",
              "OffersScreenAppear          3062  1531\n",
              "PaymentScreenSuccessful     2358  1181\n",
              "Tutorial                     561   279"
            ]
          },
          "metadata": {
            "tags": []
          },
          "execution_count": 69
        }
      ]
    },
    {
      "cell_type": "code",
      "metadata": {
        "id": "5Oin6NfDCC6M"
      },
      "source": [
        "# handle CategoricalIndex issue:\n",
        "event_exp_.columns = pd.Index(list(event_exp_.columns))"
      ],
      "execution_count": 70,
      "outputs": []
    },
    {
      "cell_type": "code",
      "metadata": {
        "id": "ogMRTxuaCC6U"
      },
      "source": [
        "# now reset_index:\n",
        "event_exp_.reset_index(inplace=True)"
      ],
      "execution_count": 71,
      "outputs": []
    },
    {
      "cell_type": "code",
      "metadata": {
        "id": "oL5xDbWFmT70",
        "colab": {
          "base_uri": "https://localhost:8080/",
          "height": 196
        },
        "outputId": "0e7ef869-d084-4001-e101-21f008982770"
      },
      "source": [
        "event_exp_"
      ],
      "execution_count": 72,
      "outputs": [
        {
          "output_type": "execute_result",
          "data": {
            "text/html": [
              "<div>\n",
              "<style scoped>\n",
              "    .dataframe tbody tr th:only-of-type {\n",
              "        vertical-align: middle;\n",
              "    }\n",
              "\n",
              "    .dataframe tbody tr th {\n",
              "        vertical-align: top;\n",
              "    }\n",
              "\n",
              "    .dataframe thead th {\n",
              "        text-align: right;\n",
              "    }\n",
              "</style>\n",
              "<table border=\"1\" class=\"dataframe\">\n",
              "  <thead>\n",
              "    <tr style=\"text-align: right;\">\n",
              "      <th></th>\n",
              "      <th>event_name</th>\n",
              "      <th>246+247</th>\n",
              "      <th>248</th>\n",
              "    </tr>\n",
              "  </thead>\n",
              "  <tbody>\n",
              "    <tr>\n",
              "      <th>0</th>\n",
              "      <td>CartScreenAppear</td>\n",
              "      <td>2504</td>\n",
              "      <td>1230</td>\n",
              "    </tr>\n",
              "    <tr>\n",
              "      <th>1</th>\n",
              "      <td>MainScreenAppear</td>\n",
              "      <td>4926</td>\n",
              "      <td>2493</td>\n",
              "    </tr>\n",
              "    <tr>\n",
              "      <th>2</th>\n",
              "      <td>OffersScreenAppear</td>\n",
              "      <td>3062</td>\n",
              "      <td>1531</td>\n",
              "    </tr>\n",
              "    <tr>\n",
              "      <th>3</th>\n",
              "      <td>PaymentScreenSuccessful</td>\n",
              "      <td>2358</td>\n",
              "      <td>1181</td>\n",
              "    </tr>\n",
              "    <tr>\n",
              "      <th>4</th>\n",
              "      <td>Tutorial</td>\n",
              "      <td>561</td>\n",
              "      <td>279</td>\n",
              "    </tr>\n",
              "  </tbody>\n",
              "</table>\n",
              "</div>"
            ],
            "text/plain": [
              "                event_name  246+247   248\n",
              "0         CartScreenAppear     2504  1230\n",
              "1         MainScreenAppear     4926  2493\n",
              "2       OffersScreenAppear     3062  1531\n",
              "3  PaymentScreenSuccessful     2358  1181\n",
              "4                 Tutorial      561   279"
            ]
          },
          "metadata": {
            "tags": []
          },
          "execution_count": 72
        }
      ]
    },
    {
      "cell_type": "code",
      "metadata": {
        "id": "pZihdCLFmVKs"
      },
      "source": [
        "# define another def check:\n",
        "def hypo_check_a_b(group1,group2, event, alpha=0.05):\n",
        "    # let's start with successes, using \n",
        "    successes1=event_exp_[event_exp_['event_name']==event][group1].iloc[0]\n",
        "    successes2=event_exp_[event_exp_['event_name']==event][group2].iloc[0]\n",
        "    \n",
        "    # for trials we can go back to  logs\n",
        "    trials1=logs[logs['experiment_id_']==group1]['device_id'].nunique()\n",
        "    trials2=logs[logs['experiment_id_']==group2]['device_id'].nunique()\n",
        "    \n",
        "    \n",
        "    p1 = successes1/trials1 # proportion for success in the first group\n",
        "    p2 = successes2/trials2 # proportion for success in the second group\n",
        "    p_combined = (successes1 + successes2) / (trials1 + trials2) # proportion in a combined dataset\n",
        "    difference = p1 - p2\n",
        "    z_score = difference / math.sqrt(p_combined * (1 - p_combined) * (1/trials1 + 1/trials2)) # z score\n",
        "    distr = stats.norm(0, 1) \n",
        "    p_value = (1 - distr.cdf(abs(z_score))) * 2\n",
        "        \n",
        "    print('H0: μ0 = μ1 \\ mean of event', event ,'logs in group',group1,'is equal to mean of group',group2)\n",
        "\n",
        "    print('H1: μ0 ≠ μ1 \\ mean of event', event ,'logs in group',group1,'is not equal to mean of group',group2)\n",
        "    print('p-value: ', p_value)\n",
        "        \n",
        "    if (p_value < alpha):\n",
        "        print('Reject H0 hypothesis')\n",
        "        print('Reject H0 hypothesis means that we can reject the possibility of means between these groups are not different in the ',event,' event.\\n\\n')\n",
        "\n",
        "    else:\n",
        "        print('Can\\'t reject H0 hypothesis')\n",
        "        print('Can\\'t reject H0 hypothesis means that we can\\'t reject the possibility of means between these groups are different in the ',event,' event.\\n\\n')"
      ],
      "execution_count": 73,
      "outputs": []
    },
    {
      "cell_type": "code",
      "metadata": {
        "id": "c-nECBsHmVdE",
        "colab": {
          "base_uri": "https://localhost:8080/"
        },
        "outputId": "2776cfe3-2fe8-4f09-ba08-58c484ad65e7"
      },
      "source": [
        "for i in event_exp_['event_name']:\n",
        "  hypo_check_a_b('246+247','248',i)"
      ],
      "execution_count": 74,
      "outputs": [
        {
          "output_type": "stream",
          "text": [
            "H0: μ0 = μ1 \\ mean of event CartScreenAppear logs in group 246+247 is equal to mean of group 248\n",
            "H1: μ0 ≠ μ1 \\ mean of event CartScreenAppear logs in group 246+247 is not equal to mean of group 248\n",
            "p-value:  0.18175875284404386\n",
            "Can't reject H0 hypothesis\n",
            "Can't reject H0 hypothesis means that we can't reject the possibility of means between these groups are different in the  CartScreenAppear  event.\n",
            "\n",
            "\n",
            "H0: μ0 = μ1 \\ mean of event MainScreenAppear logs in group 246+247 is equal to mean of group 248\n",
            "H1: μ0 ≠ μ1 \\ mean of event MainScreenAppear logs in group 246+247 is not equal to mean of group 248\n",
            "p-value:  0.29424526837179577\n",
            "Can't reject H0 hypothesis\n",
            "Can't reject H0 hypothesis means that we can't reject the possibility of means between these groups are different in the  MainScreenAppear  event.\n",
            "\n",
            "\n",
            "H0: μ0 = μ1 \\ mean of event OffersScreenAppear logs in group 246+247 is equal to mean of group 248\n",
            "H1: μ0 ≠ μ1 \\ mean of event OffersScreenAppear logs in group 246+247 is not equal to mean of group 248\n",
            "p-value:  0.43425549655188256\n",
            "Can't reject H0 hypothesis\n",
            "Can't reject H0 hypothesis means that we can't reject the possibility of means between these groups are different in the  OffersScreenAppear  event.\n",
            "\n",
            "\n",
            "H0: μ0 = μ1 \\ mean of event PaymentScreenSuccessful logs in group 246+247 is equal to mean of group 248\n",
            "H1: μ0 ≠ μ1 \\ mean of event PaymentScreenSuccessful logs in group 246+247 is not equal to mean of group 248\n",
            "p-value:  0.6004294282308704\n",
            "Can't reject H0 hypothesis\n",
            "Can't reject H0 hypothesis means that we can't reject the possibility of means between these groups are different in the  PaymentScreenSuccessful  event.\n",
            "\n",
            "\n",
            "H0: μ0 = μ1 \\ mean of event Tutorial logs in group 246+247 is equal to mean of group 248\n",
            "H1: μ0 ≠ μ1 \\ mean of event Tutorial logs in group 246+247 is not equal to mean of group 248\n",
            "p-value:  0.764862472531507\n",
            "Can't reject H0 hypothesis\n",
            "Can't reject H0 hypothesis means that we can't reject the possibility of means between these groups are different in the  Tutorial  event.\n",
            "\n",
            "\n"
          ],
          "name": "stdout"
        }
      ]
    },
    {
      "cell_type": "markdown",
      "metadata": {
        "id": "9T4MuElcEAtS"
      },
      "source": [
        "- Failed to reject null hypothesis in each event with with the groups\n",
        "- the meaning is that the test groups combined are <span style=\"color:blue\">not</span> different from control group as well"
      ]
    },
    {
      "cell_type": "markdown",
      "metadata": {
        "id": "F1AjyernmRMM"
      },
      "source": [
        "•\tWhat significance level have you set to test the statistical hypotheses mentioned above? Calculate how many statistical hypothesis tests you carried out. With a statistical significance level of 0.1, one in 10 results could be false. What should the significance level be? If you want to change it, run through the previous steps again and check your conclusions.\n"
      ]
    },
    {
      "cell_type": "markdown",
      "metadata": {
        "id": "Ha7rTLdYRFw0"
      },
      "source": [
        "__Answer:__<br>\n",
        "The significanec level in our tests was used with a=5% whereas the number of total tests ran (excluding last part when combining the tests group) was 15 tests at total wihch is lead us to a multiple comparison issue<br>\n",
        "When using a big number of test on the data we may receive an type one error of false positive mean that we reject the nul hyopthesis by error<br>\n",
        "The probability of making at least one mistake in the course of k comparisons will be:<br>\n",
        "1-(1-a)^k<br> \n",
        "*k - number of testes<br>\n",
        "in our private case the possibility of this error to happen is:<br>\n",
        "1-(1-0.05)^15 = 53%<br><br><br>\n",
        "The Bonferroni procedure (the Bonferroni correction):\n",
        "Common correction of the required significance level in this cases used with Bonferroni correction, whereas,  the significance level ɑ is divided by the number of hypotheses which in our case wil lead us to a significance level of a=0.3% which a extremely low level of significance\n",
        "\n",
        "Maybe this link will be interesting for you: https://www.analyticsvidhya.com/blog/2019/09/everything-know-about-p-value-from-scratch-data-science/"
      ]
    },
    {
      "cell_type": "markdown",
      "metadata": {
        "id": "p-vQlBJkUp6B"
      },
      "source": [
        "In our case of the project if we change the alpha using Bonferroni correction the results won't change and remain the same"
      ]
    },
    {
      "cell_type": "markdown",
      "metadata": {
        "id": "Q8tur6GCzoWP"
      },
      "source": [
        "# <span style=\"color:blue\">General Conclusion:</span>\n",
        "in preproccessing point we acknowledged that the the actual datetime of the users logs was from the start of Aug 1st whereas the  test probably started<br>\n",
        "- our main goal was to check the A/A/B tests included in the data to have our statistical significance for each test to point if the differences between test group 246 & 247 are <span style=\"color:blue\">not</span> differ from the control 248 group in a seperate way or combined\n",
        "- after running more than 15 test we got the assumptions that in our cinclusions of reject H0 we may incounter for another dilema which is type 1 error (false positive) which may lead us to some other significant misleading results\n",
        "- using a Bonferroni correction won't provide us with a solution since getting our alpha even smaller than was tested won't change the initial results. another important thing to rememmber is when using Bonferroni correction we increase error type 2 which we didn't had in mind before but  it is important to know that adjustments like this not always be helpful or significally change our results and avoid error in general. so it may not always be a good solution\n",
        "- when reffering to the tests we had with our Pvalue of 5% we didn't succeeded to reject H0 in any of the events using the z score test which mean that H<span style=\"color:blue\">0</span> is the hypothesis applies where the means are <span style=\"color:blue\">not</span>  different between the events with test group to control group"
      ]
    }
  ]
}