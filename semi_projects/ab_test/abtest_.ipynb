{
  "nbformat": 4,
  "nbformat_minor": 0,
  "metadata": {
    "colab": {
      "name": "abtest_.ipynb",
      "provenance": [],
      "toc_visible": true
    },
    "kernelspec": {
      "display_name": "Python 3",
      "language": "python",
      "name": "python3"
    },
    "language_info": {
      "codemirror_mode": {
        "name": "ipython",
        "version": 3
      },
      "file_extension": ".py",
      "mimetype": "text/x-python",
      "name": "python",
      "nbconvert_exporter": "python",
      "pygments_lexer": "ipython3",
      "version": "3.7.9"
    }
  },
  "cells": [
    {
      "cell_type": "markdown",
      "metadata": {
        "id": "VChUN3tpyYSo"
      },
      "source": [
        "# A/B Testing"
      ]
    },
    {
      "cell_type": "markdown",
      "metadata": {
        "id": "O3WZR9SOUQVd"
      },
      "source": [
        "A/B Testing Project\n",
        "Task\n",
        "You've received an analytical task from an international online store. Your predecessor failed to complete it: they launched an A/B test and then quit (to start a watermelon farm in Brazil). They left only the technical specifications and the test results.<p>\n",
        "Technical description<p>\n",
        "-\tTest name: recommender_system_test\n",
        "-\tGroups: А (control), B (new payment funnel)\n",
        "-\tLaunch date: 2020-12-07\n",
        "-\tDate when they stopped taking up new users: 2020-12-21\n",
        "-\tEnd date: 2021-01-01\n",
        "-\tAudience: 15% of the new users from the EU region\n",
        "-\tPurpose of the test: testing changes related to the introduction of an improved recommendation system\n",
        "-\tExpected result: within 14 days of signing up, users will show better conversion into product page views (the product_page event), instances of adding items to the shopping cart (product_cart), and purchases (purchase). At each stage of the funnel product_page → product_cart → purchase, there will be at least a 10% increase.\n",
        "-\tExpected number of test participants: 6000,<p>\n",
        "Download the test data, see whether it was carried out correctly, and analyze the results.\n"
      ]
    },
    {
      "cell_type": "markdown",
      "metadata": {
        "id": "6Qfm9cIeVCbB"
      },
      "source": [
        "-\t`ab_project_marketing_events_us.csv` — the calendar of marketing events for 2020\n",
        "-\t`final_ab_new_users_us.csv` — all users who signed up in the online store from December 7 to 21, 2020\n",
        "-\t`final_ab_events_us.csv` — all events of the new users within the period from December 7, 2020 through January 1, 2021\n",
        "-\t`final_ab_participants_us.csv` — table containing test participants\n",
        "\n"
      ]
    },
    {
      "cell_type": "markdown",
      "metadata": {
        "id": "kk_oYhoGjFTg"
      },
      "source": [
        "__Table of Content__<p> <a class=\"anchor\" id=\"content1\"></a>\n",
        "\n",
        "* [Step 1. Describe the goals of the study](#step1)\n",
        "* [Step 2. Data Explore](#step2)\n",
        "* [Step 3. Exploratory Data Analysis (EDA)](#step3)\n",
        "* [Step 4. Evaluate the A/B test results](#step4)\n",
        "* [Step 5. Conclusions of EDA stage and the A/B test results](#step5)\n"
      ]
    },
    {
      "cell_type": "markdown",
      "metadata": {
        "id": "xAPD9MdPVV4Y"
      },
      "source": [
        "# Step 1 - Describe the goals of the study <a class=\"anchor\" id=\"step1\"></a>\n",
        "---"
      ]
    },
    {
      "cell_type": "markdown",
      "metadata": {
        "id": "w5GnIWG1jIu0"
      },
      "source": [
        "- Purpose of the test: testing changes related to the introduction of an improved recommendation system\n",
        "- Expected result: within 14 days of signing up, users will show better conversion into product page views (the `product_page` event), product card views (`product_card`) and purchases (`purchase`). At each of the stage of the funnel `product_page → product_card → purchase`, there will be at least a 10% increase."
      ]
    },
    {
      "cell_type": "code",
      "metadata": {
        "id": "V7SrXfz7S9EV"
      },
      "source": [
        "# import:\n",
        "import pandas as pd\n",
        "import numpy as np\n",
        "import matplotlib.pyplot as plt\n",
        "import matplotlib\n",
        "import matplotlib.ticker as ticker\n",
        "import matplotlib.dates as mdates\n",
        "import seaborn as sns\n",
        "from plotly import graph_objects as go\n",
        "from scipy import stats\n",
        "import datetime\n",
        "from datetime import datetime\n",
        "from scipy import stats as st\n",
        "import math\n",
        "import math as mth\n",
        "import sys\n",
        "import warnings\n",
        "if not sys.warnoptions:\n",
        "       warnings.simplefilter(\"ignore\")"
      ],
      "execution_count": 1,
      "outputs": []
    },
    {
      "cell_type": "code",
      "metadata": {
        "id": "VyBmdVCBTTLB"
      },
      "source": [
        "# df from csv files:\n",
        "# local\n",
        "\n",
        "marketing_events = pd.read_csv('/content/ab_project_marketing_events_us.csv',\n",
        "                               parse_dates=['start_dt','finish_dt'])\n",
        "\n",
        "events = pd.read_csv('/content/final_ab_events_us.csv',\n",
        "                     parse_dates=['event_dt'],\n",
        "                     dtype={'event_name':'category'})\n",
        "users = pd.read_csv('/content/final_ab_new_users_us.csv',\n",
        "                    parse_dates=['first_date'],\n",
        "                    dtype={'region':'category','device':'category'})\n",
        "\n",
        "participants = pd.read_csv('/content/final_ab_participants_us.csv',\n",
        "                           dtype={'group':'category','ab_test':'category'})"
      ],
      "execution_count": 2,
      "outputs": []
    },
    {
      "cell_type": "markdown",
      "metadata": {
        "id": "JcsTEkTRjFTj"
      },
      "source": [
        "[Back to ToC](#content1)"
      ]
    },
    {
      "cell_type": "markdown",
      "metadata": {
        "id": "hSAm6Qb6iURz"
      },
      "source": [
        "# Step 2 - Data Explore <p> <a class=\"anchor\" id=\"step2\"></a>\n",
        "---  "
      ]
    },
    {
      "cell_type": "markdown",
      "metadata": {
        "id": "yD7mE8LGjgSx"
      },
      "source": [
        "-\tDo types need to be converted?\n",
        "-\tAre there any missing or duplicate values? If so, how would you characterize them?\n"
      ]
    },
    {
      "cell_type": "markdown",
      "metadata": {
        "id": "UlLI-YAQlZ19"
      },
      "source": [
        "## _marketing_events_us_"
      ]
    },
    {
      "cell_type": "code",
      "metadata": {
        "colab": {
          "base_uri": "https://localhost:8080/"
        },
        "id": "aKanzif5lPkm",
        "outputId": "f91465ac-e247-4153-ea75-9f5b7443bd1e"
      },
      "source": [
        "marketing_events.info()\n",
        "# datetime types - adjusted within the read_csv "
      ],
      "execution_count": 3,
      "outputs": [
        {
          "output_type": "stream",
          "text": [
            "<class 'pandas.core.frame.DataFrame'>\n",
            "RangeIndex: 14 entries, 0 to 13\n",
            "Data columns (total 4 columns):\n",
            " #   Column     Non-Null Count  Dtype         \n",
            "---  ------     --------------  -----         \n",
            " 0   name       14 non-null     object        \n",
            " 1   regions    14 non-null     object        \n",
            " 2   start_dt   14 non-null     datetime64[ns]\n",
            " 3   finish_dt  14 non-null     datetime64[ns]\n",
            "dtypes: datetime64[ns](2), object(2)\n",
            "memory usage: 576.0+ bytes\n"
          ],
          "name": "stdout"
        }
      ]
    },
    {
      "cell_type": "code",
      "metadata": {
        "colab": {
          "base_uri": "https://localhost:8080/",
          "height": 462
        },
        "id": "CJUP5NYgmCDE",
        "outputId": "594de90d-0c8b-4f75-9b80-c903a632cd0b"
      },
      "source": [
        "# quick glance into data\n",
        "marketing_events"
      ],
      "execution_count": 4,
      "outputs": [
        {
          "output_type": "execute_result",
          "data": {
            "text/html": [
              "<div>\n",
              "<style scoped>\n",
              "    .dataframe tbody tr th:only-of-type {\n",
              "        vertical-align: middle;\n",
              "    }\n",
              "\n",
              "    .dataframe tbody tr th {\n",
              "        vertical-align: top;\n",
              "    }\n",
              "\n",
              "    .dataframe thead th {\n",
              "        text-align: right;\n",
              "    }\n",
              "</style>\n",
              "<table border=\"1\" class=\"dataframe\">\n",
              "  <thead>\n",
              "    <tr style=\"text-align: right;\">\n",
              "      <th></th>\n",
              "      <th>name</th>\n",
              "      <th>regions</th>\n",
              "      <th>start_dt</th>\n",
              "      <th>finish_dt</th>\n",
              "    </tr>\n",
              "  </thead>\n",
              "  <tbody>\n",
              "    <tr>\n",
              "      <th>0</th>\n",
              "      <td>Christmas&amp;New Year Promo</td>\n",
              "      <td>EU, N.America</td>\n",
              "      <td>2020-12-25</td>\n",
              "      <td>2021-01-03</td>\n",
              "    </tr>\n",
              "    <tr>\n",
              "      <th>1</th>\n",
              "      <td>St. Valentine's Day Giveaway</td>\n",
              "      <td>EU, CIS, APAC, N.America</td>\n",
              "      <td>2020-02-14</td>\n",
              "      <td>2020-02-16</td>\n",
              "    </tr>\n",
              "    <tr>\n",
              "      <th>2</th>\n",
              "      <td>St. Patric's Day Promo</td>\n",
              "      <td>EU, N.America</td>\n",
              "      <td>2020-03-17</td>\n",
              "      <td>2020-03-19</td>\n",
              "    </tr>\n",
              "    <tr>\n",
              "      <th>3</th>\n",
              "      <td>Easter Promo</td>\n",
              "      <td>EU, CIS, APAC, N.America</td>\n",
              "      <td>2020-04-12</td>\n",
              "      <td>2020-04-19</td>\n",
              "    </tr>\n",
              "    <tr>\n",
              "      <th>4</th>\n",
              "      <td>4th of July Promo</td>\n",
              "      <td>N.America</td>\n",
              "      <td>2020-07-04</td>\n",
              "      <td>2020-07-11</td>\n",
              "    </tr>\n",
              "    <tr>\n",
              "      <th>5</th>\n",
              "      <td>Black Friday Ads Campaign</td>\n",
              "      <td>EU, CIS, APAC, N.America</td>\n",
              "      <td>2020-11-26</td>\n",
              "      <td>2020-12-01</td>\n",
              "    </tr>\n",
              "    <tr>\n",
              "      <th>6</th>\n",
              "      <td>Chinese New Year Promo</td>\n",
              "      <td>APAC</td>\n",
              "      <td>2020-01-25</td>\n",
              "      <td>2020-02-07</td>\n",
              "    </tr>\n",
              "    <tr>\n",
              "      <th>7</th>\n",
              "      <td>Labor day (May 1st) Ads Campaign</td>\n",
              "      <td>EU, CIS, APAC</td>\n",
              "      <td>2020-05-01</td>\n",
              "      <td>2020-05-03</td>\n",
              "    </tr>\n",
              "    <tr>\n",
              "      <th>8</th>\n",
              "      <td>International Women's Day Promo</td>\n",
              "      <td>EU, CIS, APAC</td>\n",
              "      <td>2020-03-08</td>\n",
              "      <td>2020-03-10</td>\n",
              "    </tr>\n",
              "    <tr>\n",
              "      <th>9</th>\n",
              "      <td>Victory Day CIS (May 9th) Event</td>\n",
              "      <td>CIS</td>\n",
              "      <td>2020-05-09</td>\n",
              "      <td>2020-05-11</td>\n",
              "    </tr>\n",
              "    <tr>\n",
              "      <th>10</th>\n",
              "      <td>CIS New Year Gift Lottery</td>\n",
              "      <td>CIS</td>\n",
              "      <td>2020-12-30</td>\n",
              "      <td>2021-01-07</td>\n",
              "    </tr>\n",
              "    <tr>\n",
              "      <th>11</th>\n",
              "      <td>Dragon Boat Festival Giveaway</td>\n",
              "      <td>APAC</td>\n",
              "      <td>2020-06-25</td>\n",
              "      <td>2020-07-01</td>\n",
              "    </tr>\n",
              "    <tr>\n",
              "      <th>12</th>\n",
              "      <td>Single's Day Gift Promo</td>\n",
              "      <td>APAC</td>\n",
              "      <td>2020-11-11</td>\n",
              "      <td>2020-11-12</td>\n",
              "    </tr>\n",
              "    <tr>\n",
              "      <th>13</th>\n",
              "      <td>Chinese Moon Festival</td>\n",
              "      <td>APAC</td>\n",
              "      <td>2020-10-01</td>\n",
              "      <td>2020-10-07</td>\n",
              "    </tr>\n",
              "  </tbody>\n",
              "</table>\n",
              "</div>"
            ],
            "text/plain": [
              "                                name  ...  finish_dt\n",
              "0           Christmas&New Year Promo  ... 2021-01-03\n",
              "1       St. Valentine's Day Giveaway  ... 2020-02-16\n",
              "2             St. Patric's Day Promo  ... 2020-03-19\n",
              "3                       Easter Promo  ... 2020-04-19\n",
              "4                  4th of July Promo  ... 2020-07-11\n",
              "5          Black Friday Ads Campaign  ... 2020-12-01\n",
              "6             Chinese New Year Promo  ... 2020-02-07\n",
              "7   Labor day (May 1st) Ads Campaign  ... 2020-05-03\n",
              "8    International Women's Day Promo  ... 2020-03-10\n",
              "9    Victory Day CIS (May 9th) Event  ... 2020-05-11\n",
              "10         CIS New Year Gift Lottery  ... 2021-01-07\n",
              "11     Dragon Boat Festival Giveaway  ... 2020-07-01\n",
              "12           Single's Day Gift Promo  ... 2020-11-12\n",
              "13             Chinese Moon Festival  ... 2020-10-07\n",
              "\n",
              "[14 rows x 4 columns]"
            ]
          },
          "metadata": {
            "tags": []
          },
          "execution_count": 4
        }
      ]
    },
    {
      "cell_type": "code",
      "metadata": {
        "id": "AyMG17WVlPe-"
      },
      "source": [
        "# remove dupps\n",
        "marketing_events.drop_duplicates(inplace=True)"
      ],
      "execution_count": 5,
      "outputs": []
    },
    {
      "cell_type": "code",
      "metadata": {
        "colab": {
          "base_uri": "https://localhost:8080/",
          "height": 47
        },
        "id": "V7hDWIO5oMRJ",
        "outputId": "ad7079ec-33f0-4618-e968-39666acacb01"
      },
      "source": [
        "# query to check the no finish date < start date\n",
        "marketing_events.query('start_dt > finish_dt')\n",
        "# no outpout - good result"
      ],
      "execution_count": 6,
      "outputs": [
        {
          "output_type": "execute_result",
          "data": {
            "text/html": [
              "<div>\n",
              "<style scoped>\n",
              "    .dataframe tbody tr th:only-of-type {\n",
              "        vertical-align: middle;\n",
              "    }\n",
              "\n",
              "    .dataframe tbody tr th {\n",
              "        vertical-align: top;\n",
              "    }\n",
              "\n",
              "    .dataframe thead th {\n",
              "        text-align: right;\n",
              "    }\n",
              "</style>\n",
              "<table border=\"1\" class=\"dataframe\">\n",
              "  <thead>\n",
              "    <tr style=\"text-align: right;\">\n",
              "      <th></th>\n",
              "      <th>name</th>\n",
              "      <th>regions</th>\n",
              "      <th>start_dt</th>\n",
              "      <th>finish_dt</th>\n",
              "    </tr>\n",
              "  </thead>\n",
              "  <tbody>\n",
              "  </tbody>\n",
              "</table>\n",
              "</div>"
            ],
            "text/plain": [
              "Empty DataFrame\n",
              "Columns: [name, regions, start_dt, finish_dt]\n",
              "Index: []"
            ]
          },
          "metadata": {
            "tags": []
          },
          "execution_count": 6
        }
      ]
    },
    {
      "cell_type": "code",
      "metadata": {
        "colab": {
          "base_uri": "https://localhost:8080/"
        },
        "id": "GmEZSrY0oEov",
        "outputId": "555d2c7e-d3f4-48d0-e56f-28b5dc8a1ec1"
      },
      "source": [
        "marketing_events.info()\n",
        "# no change at total amount"
      ],
      "execution_count": 7,
      "outputs": [
        {
          "output_type": "stream",
          "text": [
            "<class 'pandas.core.frame.DataFrame'>\n",
            "Int64Index: 14 entries, 0 to 13\n",
            "Data columns (total 4 columns):\n",
            " #   Column     Non-Null Count  Dtype         \n",
            "---  ------     --------------  -----         \n",
            " 0   name       14 non-null     object        \n",
            " 1   regions    14 non-null     object        \n",
            " 2   start_dt   14 non-null     datetime64[ns]\n",
            " 3   finish_dt  14 non-null     datetime64[ns]\n",
            "dtypes: datetime64[ns](2), object(2)\n",
            "memory usage: 560.0+ bytes\n"
          ],
          "name": "stdout"
        }
      ]
    },
    {
      "cell_type": "markdown",
      "metadata": {
        "id": "ZwoJ1egao1ov"
      },
      "source": [
        "summary: \n",
        "- we made adjusmtment to the dates columns and converted them to datetime types\n",
        "- no dupps or NaN values inside the df in the first place"
      ]
    },
    {
      "cell_type": "markdown",
      "metadata": {
        "id": "D8eaSg-gpUff"
      },
      "source": [
        "## _events_us_"
      ]
    },
    {
      "cell_type": "code",
      "metadata": {
        "colab": {
          "base_uri": "https://localhost:8080/"
        },
        "id": "IeZQqdu5pXKl",
        "outputId": "da72f722-4892-4453-9c5f-3c30bc8bbf00"
      },
      "source": [
        "events.info()\n",
        "# ok now - dtype adjustments made in the read_csv section"
      ],
      "execution_count": 8,
      "outputs": [
        {
          "output_type": "stream",
          "text": [
            "<class 'pandas.core.frame.DataFrame'>\n",
            "RangeIndex: 440317 entries, 0 to 440316\n",
            "Data columns (total 4 columns):\n",
            " #   Column      Non-Null Count   Dtype         \n",
            "---  ------      --------------   -----         \n",
            " 0   user_id     440317 non-null  object        \n",
            " 1   event_dt    440317 non-null  datetime64[ns]\n",
            " 2   event_name  440317 non-null  category      \n",
            " 3   details     62740 non-null   float64       \n",
            "dtypes: category(1), datetime64[ns](1), float64(1), object(1)\n",
            "memory usage: 10.5+ MB\n"
          ],
          "name": "stdout"
        }
      ]
    },
    {
      "cell_type": "code",
      "metadata": {
        "colab": {
          "base_uri": "https://localhost:8080/",
          "height": 0
        },
        "id": "we9LOpt5pXG-",
        "outputId": "f7d7022f-7c38-41f2-e66f-8bdc1f2aa5ef"
      },
      "source": [
        "events.head(1)"
      ],
      "execution_count": 9,
      "outputs": [
        {
          "output_type": "execute_result",
          "data": {
            "text/html": [
              "<div>\n",
              "<style scoped>\n",
              "    .dataframe tbody tr th:only-of-type {\n",
              "        vertical-align: middle;\n",
              "    }\n",
              "\n",
              "    .dataframe tbody tr th {\n",
              "        vertical-align: top;\n",
              "    }\n",
              "\n",
              "    .dataframe thead th {\n",
              "        text-align: right;\n",
              "    }\n",
              "</style>\n",
              "<table border=\"1\" class=\"dataframe\">\n",
              "  <thead>\n",
              "    <tr style=\"text-align: right;\">\n",
              "      <th></th>\n",
              "      <th>user_id</th>\n",
              "      <th>event_dt</th>\n",
              "      <th>event_name</th>\n",
              "      <th>details</th>\n",
              "    </tr>\n",
              "  </thead>\n",
              "  <tbody>\n",
              "    <tr>\n",
              "      <th>0</th>\n",
              "      <td>E1BDDCE0DAFA2679</td>\n",
              "      <td>2020-12-07 20:22:03</td>\n",
              "      <td>purchase</td>\n",
              "      <td>99.99</td>\n",
              "    </tr>\n",
              "  </tbody>\n",
              "</table>\n",
              "</div>"
            ],
            "text/plain": [
              "            user_id            event_dt event_name  details\n",
              "0  E1BDDCE0DAFA2679 2020-12-07 20:22:03   purchase    99.99"
            ]
          },
          "metadata": {
            "tags": []
          },
          "execution_count": 9
        }
      ]
    },
    {
      "cell_type": "code",
      "metadata": {
        "colab": {
          "base_uri": "https://localhost:8080/",
          "height": 0
        },
        "id": "XXrLa83ipXEJ",
        "outputId": "3ec903f3-216f-4098-c9ff-4424cba230c2"
      },
      "source": [
        "events.tail(1)"
      ],
      "execution_count": 10,
      "outputs": [
        {
          "output_type": "execute_result",
          "data": {
            "text/html": [
              "<div>\n",
              "<style scoped>\n",
              "    .dataframe tbody tr th:only-of-type {\n",
              "        vertical-align: middle;\n",
              "    }\n",
              "\n",
              "    .dataframe tbody tr th {\n",
              "        vertical-align: top;\n",
              "    }\n",
              "\n",
              "    .dataframe thead th {\n",
              "        text-align: right;\n",
              "    }\n",
              "</style>\n",
              "<table border=\"1\" class=\"dataframe\">\n",
              "  <thead>\n",
              "    <tr style=\"text-align: right;\">\n",
              "      <th></th>\n",
              "      <th>user_id</th>\n",
              "      <th>event_dt</th>\n",
              "      <th>event_name</th>\n",
              "      <th>details</th>\n",
              "    </tr>\n",
              "  </thead>\n",
              "  <tbody>\n",
              "    <tr>\n",
              "      <th>440316</th>\n",
              "      <td>7AEC61159B672CC5</td>\n",
              "      <td>2020-12-30 11:36:13</td>\n",
              "      <td>login</td>\n",
              "      <td>NaN</td>\n",
              "    </tr>\n",
              "  </tbody>\n",
              "</table>\n",
              "</div>"
            ],
            "text/plain": [
              "                 user_id            event_dt event_name  details\n",
              "440316  7AEC61159B672CC5 2020-12-30 11:36:13      login      NaN"
            ]
          },
          "metadata": {
            "tags": []
          },
          "execution_count": 10
        }
      ]
    },
    {
      "cell_type": "markdown",
      "metadata": {
        "id": "cisD_YbXq1GZ"
      },
      "source": [
        "within details columns we receive the purchase price only if the event_name is purchase so for the other events it makes sence that the value is missing"
      ]
    },
    {
      "cell_type": "markdown",
      "metadata": {
        "id": "QaBZ5PlbtvWb"
      },
      "source": [
        "we will start by checking if the NaN values are correct for the correspoding event name<p>\n",
        "if correct - we can replace NaN with zero (0) or stay with NaN as indicator to no purchase made"
      ]
    },
    {
      "cell_type": "code",
      "metadata": {
        "colab": {
          "base_uri": "https://localhost:8080/"
        },
        "id": "_hsusBmaFTaR",
        "outputId": "bdc1656b-64dd-4f71-c311-24a145ded281"
      },
      "source": [
        "events['user_id'].value_counts()\n",
        "# user_id shown multiple time since there are different time fames and event that a single user can be"
      ],
      "execution_count": 11,
      "outputs": [
        {
          "output_type": "execute_result",
          "data": {
            "text/plain": [
              "A3917F81482141F2    36\n",
              "590DACD07A839BC3    32\n",
              "D6477068EF132236    32\n",
              "426330B820B8711A    32\n",
              "BA87FD8D70D63CC6    32\n",
              "                    ..\n",
              "947ADA57D42BFBD0     1\n",
              "0CC00C37DE364A84     1\n",
              "ACA4A1557127F2B8     1\n",
              "912BBD0EA35F51A9     1\n",
              "70EEA8BDDC26C220     1\n",
              "Name: user_id, Length: 58703, dtype: int64"
            ]
          },
          "metadata": {
            "tags": []
          },
          "execution_count": 11
        }
      ]
    },
    {
      "cell_type": "code",
      "metadata": {
        "colab": {
          "base_uri": "https://localhost:8080/"
        },
        "id": "CwaQfn7mqb0f",
        "outputId": "3f8b1b0f-c3f2-47cf-c818-ca432dc1adf6"
      },
      "source": [
        "# a glance into types of events\n",
        "events['event_name'].value_counts()"
      ],
      "execution_count": 12,
      "outputs": [
        {
          "output_type": "execute_result",
          "data": {
            "text/plain": [
              "login           189552\n",
              "product_page    125563\n",
              "purchase         62740\n",
              "product_cart     62462\n",
              "Name: event_name, dtype: int64"
            ]
          },
          "metadata": {
            "tags": []
          },
          "execution_count": 12
        }
      ]
    },
    {
      "cell_type": "code",
      "metadata": {
        "colab": {
          "base_uri": "https://localhost:8080/"
        },
        "id": "B5IFzjAUwtuc",
        "outputId": "f79f525d-789a-4622-fa81-a634c9a19e72"
      },
      "source": [
        "# total number of values in the purchase event match total non-null rows we got in the .info() section\n",
        "events['event_name'].value_counts()[[2]]"
      ],
      "execution_count": 13,
      "outputs": [
        {
          "output_type": "execute_result",
          "data": {
            "text/plain": [
              "purchase    62740\n",
              "Name: event_name, dtype: int64"
            ]
          },
          "metadata": {
            "tags": []
          },
          "execution_count": 13
        }
      ]
    },
    {
      "cell_type": "code",
      "metadata": {
        "colab": {
          "base_uri": "https://localhost:8080/"
        },
        "id": "INhvSQSLqbs5",
        "outputId": "066ae7c6-cda6-4090-ba96-7415eb01cd6e"
      },
      "source": [
        "# NaN in within details columns that are not purchase event\n",
        "events.query('event_name != \"purchase\"')['details'].isnull().sum()"
      ],
      "execution_count": 14,
      "outputs": [
        {
          "output_type": "execute_result",
          "data": {
            "text/plain": [
              "377577"
            ]
          },
          "metadata": {
            "tags": []
          },
          "execution_count": 14
        }
      ]
    },
    {
      "cell_type": "code",
      "metadata": {
        "colab": {
          "base_uri": "https://localhost:8080/"
        },
        "id": "KDoxUbhCqbj9",
        "outputId": "b87e3cd0-8355-4844-fb28-17df22b38142"
      },
      "source": [
        "# NaN in within details columns that are purchase event\n",
        "events.query('event_name == \"purchase\"')['details'].isnull().sum()"
      ],
      "execution_count": 15,
      "outputs": [
        {
          "output_type": "execute_result",
          "data": {
            "text/plain": [
              "0"
            ]
          },
          "metadata": {
            "tags": []
          },
          "execution_count": 15
        }
      ]
    },
    {
      "cell_type": "code",
      "metadata": {
        "id": "mZPs2hCRwFV3"
      },
      "source": [
        "# remove dupps if any:\n",
        "events.drop_duplicates(inplace=True)"
      ],
      "execution_count": 16,
      "outputs": []
    },
    {
      "cell_type": "markdown",
      "metadata": {
        "id": "EqkMhtZTwHic"
      },
      "source": [
        "summary:\n",
        "- managed to confirm that all the NaN values are related to non-purchase event so with that being said the NaN values are in good order and we stay with them as an indicator to \"no-purchase\" while a float number is a \"purchase\" sign\n",
        "- all dtypes defined correctly"
      ]
    },
    {
      "cell_type": "markdown",
      "metadata": {
        "id": "yZU1MZFTxH8g"
      },
      "source": [
        "## _new_users_us_"
      ]
    },
    {
      "cell_type": "code",
      "metadata": {
        "colab": {
          "base_uri": "https://localhost:8080/",
          "height": 0
        },
        "id": "4B1oKnncwFR2",
        "outputId": "4e95faeb-db23-4730-f7b3-76653689f32e"
      },
      "source": [
        "users.head(5)"
      ],
      "execution_count": 17,
      "outputs": [
        {
          "output_type": "execute_result",
          "data": {
            "text/html": [
              "<div>\n",
              "<style scoped>\n",
              "    .dataframe tbody tr th:only-of-type {\n",
              "        vertical-align: middle;\n",
              "    }\n",
              "\n",
              "    .dataframe tbody tr th {\n",
              "        vertical-align: top;\n",
              "    }\n",
              "\n",
              "    .dataframe thead th {\n",
              "        text-align: right;\n",
              "    }\n",
              "</style>\n",
              "<table border=\"1\" class=\"dataframe\">\n",
              "  <thead>\n",
              "    <tr style=\"text-align: right;\">\n",
              "      <th></th>\n",
              "      <th>user_id</th>\n",
              "      <th>first_date</th>\n",
              "      <th>region</th>\n",
              "      <th>device</th>\n",
              "    </tr>\n",
              "  </thead>\n",
              "  <tbody>\n",
              "    <tr>\n",
              "      <th>0</th>\n",
              "      <td>D72A72121175D8BE</td>\n",
              "      <td>2020-12-07</td>\n",
              "      <td>EU</td>\n",
              "      <td>PC</td>\n",
              "    </tr>\n",
              "    <tr>\n",
              "      <th>1</th>\n",
              "      <td>F1C668619DFE6E65</td>\n",
              "      <td>2020-12-07</td>\n",
              "      <td>N.America</td>\n",
              "      <td>Android</td>\n",
              "    </tr>\n",
              "    <tr>\n",
              "      <th>2</th>\n",
              "      <td>2E1BF1D4C37EA01F</td>\n",
              "      <td>2020-12-07</td>\n",
              "      <td>EU</td>\n",
              "      <td>PC</td>\n",
              "    </tr>\n",
              "    <tr>\n",
              "      <th>3</th>\n",
              "      <td>50734A22C0C63768</td>\n",
              "      <td>2020-12-07</td>\n",
              "      <td>EU</td>\n",
              "      <td>iPhone</td>\n",
              "    </tr>\n",
              "    <tr>\n",
              "      <th>4</th>\n",
              "      <td>E1BDDCE0DAFA2679</td>\n",
              "      <td>2020-12-07</td>\n",
              "      <td>N.America</td>\n",
              "      <td>iPhone</td>\n",
              "    </tr>\n",
              "  </tbody>\n",
              "</table>\n",
              "</div>"
            ],
            "text/plain": [
              "            user_id first_date     region   device\n",
              "0  D72A72121175D8BE 2020-12-07         EU       PC\n",
              "1  F1C668619DFE6E65 2020-12-07  N.America  Android\n",
              "2  2E1BF1D4C37EA01F 2020-12-07         EU       PC\n",
              "3  50734A22C0C63768 2020-12-07         EU   iPhone\n",
              "4  E1BDDCE0DAFA2679 2020-12-07  N.America   iPhone"
            ]
          },
          "metadata": {
            "tags": []
          },
          "execution_count": 17
        }
      ]
    },
    {
      "cell_type": "code",
      "metadata": {
        "colab": {
          "base_uri": "https://localhost:8080/"
        },
        "id": "wB86rYkRwFOs",
        "outputId": "4babfe09-8ac0-491e-9658-8c46c5496ca8"
      },
      "source": [
        "users.info()\n",
        "# no NaN values + dtypes adjusted in the read_csv section"
      ],
      "execution_count": 18,
      "outputs": [
        {
          "output_type": "stream",
          "text": [
            "<class 'pandas.core.frame.DataFrame'>\n",
            "RangeIndex: 61733 entries, 0 to 61732\n",
            "Data columns (total 4 columns):\n",
            " #   Column      Non-Null Count  Dtype         \n",
            "---  ------      --------------  -----         \n",
            " 0   user_id     61733 non-null  object        \n",
            " 1   first_date  61733 non-null  datetime64[ns]\n",
            " 2   region      61733 non-null  category      \n",
            " 3   device      61733 non-null  category      \n",
            "dtypes: category(2), datetime64[ns](1), object(1)\n",
            "memory usage: 1.1+ MB\n"
          ],
          "name": "stdout"
        }
      ]
    },
    {
      "cell_type": "code",
      "metadata": {
        "colab": {
          "base_uri": "https://localhost:8080/"
        },
        "id": "Y9flKfwTxb_7",
        "outputId": "de4296fc-bc77-45b9-d052-84182eee818d"
      },
      "source": [
        "# quick check if region has dups that comes from lower/upper writing\n",
        "users['region'].value_counts()\n",
        "# ok here"
      ],
      "execution_count": 19,
      "outputs": [
        {
          "output_type": "execute_result",
          "data": {
            "text/plain": [
              "EU           46270\n",
              "N.America     9155\n",
              "CIS           3155\n",
              "APAC          3153\n",
              "Name: region, dtype: int64"
            ]
          },
          "metadata": {
            "tags": []
          },
          "execution_count": 19
        }
      ]
    },
    {
      "cell_type": "code",
      "metadata": {
        "colab": {
          "base_uri": "https://localhost:8080/"
        },
        "id": "oYozqwT-xb-R",
        "outputId": "b49c1543-bcb2-48d7-c840-b6c3a7218b9e"
      },
      "source": [
        "# quick check if device has dups that comes from lower/upper writing\n",
        "users['device'].value_counts()"
      ],
      "execution_count": 20,
      "outputs": [
        {
          "output_type": "execute_result",
          "data": {
            "text/plain": [
              "Android    27520\n",
              "PC         15599\n",
              "iPhone     12530\n",
              "Mac         6084\n",
              "Name: device, dtype: int64"
            ]
          },
          "metadata": {
            "tags": []
          },
          "execution_count": 20
        }
      ]
    },
    {
      "cell_type": "code",
      "metadata": {
        "colab": {
          "base_uri": "https://localhost:8080/"
        },
        "id": "35mQBnHVzRPD",
        "outputId": "0536b6ce-5aa3-4bae-fa5c-8bb0b20847ba"
      },
      "source": [
        "users['user_id'].value_counts()\n",
        "# everyr user appear only 1 time - a good confirmation for not having error in the data that may come from BI team\n",
        "# by this we can also say that no dupps are in the data"
      ],
      "execution_count": 21,
      "outputs": [
        {
          "output_type": "execute_result",
          "data": {
            "text/plain": [
              "C0B2B6226B5701E1    1\n",
              "6E76C34C694FA0BE    1\n",
              "55099832703E2009    1\n",
              "C771D3F6428B854B    1\n",
              "0D24D56EF42D5F36    1\n",
              "                   ..\n",
              "825F0FC19A07E5FF    1\n",
              "DCCD1762C1C4D097    1\n",
              "724D8F18B7345DE6    1\n",
              "C63DEA62897E69E5    1\n",
              "590EAAF83BC777D7    1\n",
              "Name: user_id, Length: 61733, dtype: int64"
            ]
          },
          "metadata": {
            "tags": []
          },
          "execution_count": 21
        }
      ]
    },
    {
      "cell_type": "markdown",
      "metadata": {
        "id": "d4SOUz4JzC38"
      },
      "source": [
        "summary:\n",
        "- adjustments made in dtype definitions\n",
        "- no NaN values detected\n",
        "- drop dupps applied "
      ]
    },
    {
      "cell_type": "markdown",
      "metadata": {
        "id": "sIyFYQeWybLy"
      },
      "source": [
        "## _participants_us_"
      ]
    },
    {
      "cell_type": "code",
      "metadata": {
        "colab": {
          "base_uri": "https://localhost:8080/",
          "height": 0
        },
        "id": "gJzA44xyyaZw",
        "outputId": "f394d4a2-b2e8-47d7-aee1-81d19b55296c"
      },
      "source": [
        "# quick look\n",
        "participants.tail(5)"
      ],
      "execution_count": 22,
      "outputs": [
        {
          "output_type": "execute_result",
          "data": {
            "text/html": [
              "<div>\n",
              "<style scoped>\n",
              "    .dataframe tbody tr th:only-of-type {\n",
              "        vertical-align: middle;\n",
              "    }\n",
              "\n",
              "    .dataframe tbody tr th {\n",
              "        vertical-align: top;\n",
              "    }\n",
              "\n",
              "    .dataframe thead th {\n",
              "        text-align: right;\n",
              "    }\n",
              "</style>\n",
              "<table border=\"1\" class=\"dataframe\">\n",
              "  <thead>\n",
              "    <tr style=\"text-align: right;\">\n",
              "      <th></th>\n",
              "      <th>user_id</th>\n",
              "      <th>group</th>\n",
              "      <th>ab_test</th>\n",
              "    </tr>\n",
              "  </thead>\n",
              "  <tbody>\n",
              "    <tr>\n",
              "      <th>18263</th>\n",
              "      <td>1D302F8688B91781</td>\n",
              "      <td>B</td>\n",
              "      <td>interface_eu_test</td>\n",
              "    </tr>\n",
              "    <tr>\n",
              "      <th>18264</th>\n",
              "      <td>3DE51B726983B657</td>\n",
              "      <td>A</td>\n",
              "      <td>interface_eu_test</td>\n",
              "    </tr>\n",
              "    <tr>\n",
              "      <th>18265</th>\n",
              "      <td>F501F79D332BE86C</td>\n",
              "      <td>A</td>\n",
              "      <td>interface_eu_test</td>\n",
              "    </tr>\n",
              "    <tr>\n",
              "      <th>18266</th>\n",
              "      <td>63FBE257B05F2245</td>\n",
              "      <td>A</td>\n",
              "      <td>interface_eu_test</td>\n",
              "    </tr>\n",
              "    <tr>\n",
              "      <th>18267</th>\n",
              "      <td>79F9ABFB029CF724</td>\n",
              "      <td>B</td>\n",
              "      <td>interface_eu_test</td>\n",
              "    </tr>\n",
              "  </tbody>\n",
              "</table>\n",
              "</div>"
            ],
            "text/plain": [
              "                user_id group            ab_test\n",
              "18263  1D302F8688B91781     B  interface_eu_test\n",
              "18264  3DE51B726983B657     A  interface_eu_test\n",
              "18265  F501F79D332BE86C     A  interface_eu_test\n",
              "18266  63FBE257B05F2245     A  interface_eu_test\n",
              "18267  79F9ABFB029CF724     B  interface_eu_test"
            ]
          },
          "metadata": {
            "tags": []
          },
          "execution_count": 22
        }
      ]
    },
    {
      "cell_type": "code",
      "metadata": {
        "colab": {
          "base_uri": "https://localhost:8080/"
        },
        "id": "nbRVYAb70J_8",
        "outputId": "cabe8cc7-5a13-4b18-ab07-eef7f533dd31"
      },
      "source": [
        "participants.info()\n",
        "# no NaN value + dtype adjuested "
      ],
      "execution_count": 23,
      "outputs": [
        {
          "output_type": "stream",
          "text": [
            "<class 'pandas.core.frame.DataFrame'>\n",
            "RangeIndex: 18268 entries, 0 to 18267\n",
            "Data columns (total 3 columns):\n",
            " #   Column   Non-Null Count  Dtype   \n",
            "---  ------   --------------  -----   \n",
            " 0   user_id  18268 non-null  object  \n",
            " 1   group    18268 non-null  category\n",
            " 2   ab_test  18268 non-null  category\n",
            "dtypes: category(2), object(1)\n",
            "memory usage: 178.6+ KB\n"
          ],
          "name": "stdout"
        }
      ]
    },
    {
      "cell_type": "code",
      "metadata": {
        "colab": {
          "base_uri": "https://localhost:8080/"
        },
        "id": "NtwKxEUn0J-I",
        "outputId": "b4f14b1b-d602-4038-bdad-4701be2e3bf6"
      },
      "source": [
        "for col in participants.columns:\n",
        "  print(participants[col].value_counts(),'\\n')\n",
        "\n",
        "# the same user_id appears more than once\n",
        "# we need to disapprove that the same user is on the same test with different groups"
      ],
      "execution_count": 24,
      "outputs": [
        {
          "output_type": "stream",
          "text": [
            "7DF21AEB1AA231F9    2\n",
            "6A59682D3C59519A    2\n",
            "82F72EC6CDC1BA8F    2\n",
            "2812C91B1E29180A    2\n",
            "6B26B1B4BF1C3C2C    2\n",
            "                   ..\n",
            "172E77DF594D281C    1\n",
            "AEF3BB32F4D0775E    1\n",
            "8AFB3E6EA8574516    1\n",
            "3D6EB94C6C2A7804    1\n",
            "0A5150E6F59CCD35    1\n",
            "Name: user_id, Length: 16666, dtype: int64 \n",
            "\n",
            "A    9655\n",
            "B    8613\n",
            "Name: group, dtype: int64 \n",
            "\n",
            "interface_eu_test          11567\n",
            "recommender_system_test     6701\n",
            "Name: ab_test, dtype: int64 \n",
            "\n"
          ],
          "name": "stdout"
        }
      ]
    },
    {
      "cell_type": "code",
      "metadata": {
        "colab": {
          "base_uri": "https://localhost:8080/"
        },
        "id": "JE6DqOeX0J5V",
        "outputId": "863a8421-ebe3-4127-b9f3-7bedd0672f8f"
      },
      "source": [
        "# interface_eu_test\n",
        "participants.query('ab_test == \"interface_eu_test\"')['user_id'].value_counts()\n",
        "# dissaproved within this test"
      ],
      "execution_count": 25,
      "outputs": [
        {
          "output_type": "execute_result",
          "data": {
            "text/plain": [
              "55AEBB4BAAC70BD4    1\n",
              "3945F4BE0D410B2F    1\n",
              "9B255865EFB0D54E    1\n",
              "7411A85E26DC5D1F    1\n",
              "C0ED8DB8F8906BC9    1\n",
              "                   ..\n",
              "F2BE35774F63059B    1\n",
              "AF9E37A23D7301B3    1\n",
              "E347837A1EBB2E91    1\n",
              "E4013600BF689DB7    1\n",
              "C40DDE88F1919245    1\n",
              "Name: user_id, Length: 11567, dtype: int64"
            ]
          },
          "metadata": {
            "tags": []
          },
          "execution_count": 25
        }
      ]
    },
    {
      "cell_type": "code",
      "metadata": {
        "colab": {
          "base_uri": "https://localhost:8080/"
        },
        "id": "35nIh69k_UV-",
        "outputId": "cb4a43da-e44d-44b9-83f6-589ffdbd2fda"
      },
      "source": [
        "# recommender_system_test\n",
        "participants.query('ab_test == \"recommender_system_test\"')['user_id'].value_counts()\n",
        "# dissaproved within this test as well"
      ],
      "execution_count": 26,
      "outputs": [
        {
          "output_type": "execute_result",
          "data": {
            "text/plain": [
              "FBD8DEBEFD517D1F    1\n",
              "FC47C747FEE7DB98    1\n",
              "E4111A6C304075D8    1\n",
              "90AC003E691D70D4    1\n",
              "1544489D5476AD59    1\n",
              "                   ..\n",
              "A354B804BD270C75    1\n",
              "49117FDB7FCCFA5A    1\n",
              "BA5675493270C848    1\n",
              "934F4410153B7733    1\n",
              "1FD8662A41621AAF    1\n",
              "Name: user_id, Length: 6701, dtype: int64"
            ]
          },
          "metadata": {
            "tags": []
          },
          "execution_count": 26
        }
      ]
    },
    {
      "cell_type": "markdown",
      "metadata": {
        "id": "YheQdu5C_zGt"
      },
      "source": [
        "summary:\n",
        "- we approved that each test contains unique user_id so we have no typo issue from this area where each A/B group consists of different users\n",
        "- dtype adjusted"
      ]
    },
    {
      "cell_type": "markdown",
      "metadata": {
        "id": "gTLQFYwjjFT1"
      },
      "source": [
        "\n",
        "In row codes above [24-26] I'm trying to show that for each ab test (interface_eu_test & recommender_system_test) we have gor each user_id only once ergo we can say about it that every the same user can not be in both A and B group at the same ab test<p>\n",
        "Now if we disregard the ab test column and looking in group at general we might found same user more than once and I was dealing with this issue in the z_score and ab test blocks<p>\n",
        "Basically, we can add another query with AND function for each grop or a query to only group to found if there are unique users which is done later (ab test / aa test) in the tests part<p>\n"
      ]
    },
    {
      "cell_type": "markdown",
      "metadata": {
        "id": "ObbBzPwwjFT1"
      },
      "source": [
        "[Back to ToC](#content1)"
      ]
    },
    {
      "cell_type": "markdown",
      "metadata": {
        "id": "23XY8ADPjMwS"
      },
      "source": [
        "# Step 3 - Exploratory Data Analysis (EDA) <a class=\"anchor\" id=\"step3\"></a>\n",
        "---"
      ]
    },
    {
      "cell_type": "markdown",
      "metadata": {
        "id": "Emp21ibUA2tf"
      },
      "source": [
        "- ## Study conversion at different stages of the funnel.\n"
      ]
    },
    {
      "cell_type": "code",
      "metadata": {
        "colab": {
          "base_uri": "https://localhost:8080/",
          "height": 0
        },
        "id": "bLkEM0IOAuR5",
        "outputId": "c2232332-541e-4c0a-b926-7d81d0a44a19"
      },
      "source": [
        "# find the number of unique users for each stage\n",
        "conver_user = events.groupby('event_name').agg({'user_id': 'nunique'})\n",
        "conver_user = conver_user.sort_values(by = 'user_id', ascending=False).reset_index()\n",
        "conver_user"
      ],
      "execution_count": 27,
      "outputs": [
        {
          "output_type": "execute_result",
          "data": {
            "text/html": [
              "<div>\n",
              "<style scoped>\n",
              "    .dataframe tbody tr th:only-of-type {\n",
              "        vertical-align: middle;\n",
              "    }\n",
              "\n",
              "    .dataframe tbody tr th {\n",
              "        vertical-align: top;\n",
              "    }\n",
              "\n",
              "    .dataframe thead th {\n",
              "        text-align: right;\n",
              "    }\n",
              "</style>\n",
              "<table border=\"1\" class=\"dataframe\">\n",
              "  <thead>\n",
              "    <tr style=\"text-align: right;\">\n",
              "      <th></th>\n",
              "      <th>event_name</th>\n",
              "      <th>user_id</th>\n",
              "    </tr>\n",
              "  </thead>\n",
              "  <tbody>\n",
              "    <tr>\n",
              "      <th>0</th>\n",
              "      <td>login</td>\n",
              "      <td>58697</td>\n",
              "    </tr>\n",
              "    <tr>\n",
              "      <th>1</th>\n",
              "      <td>product_page</td>\n",
              "      <td>38929</td>\n",
              "    </tr>\n",
              "    <tr>\n",
              "      <th>2</th>\n",
              "      <td>purchase</td>\n",
              "      <td>19569</td>\n",
              "    </tr>\n",
              "    <tr>\n",
              "      <th>3</th>\n",
              "      <td>product_cart</td>\n",
              "      <td>19284</td>\n",
              "    </tr>\n",
              "  </tbody>\n",
              "</table>\n",
              "</div>"
            ],
            "text/plain": [
              "     event_name  user_id\n",
              "0         login    58697\n",
              "1  product_page    38929\n",
              "2      purchase    19569\n",
              "3  product_cart    19284"
            ]
          },
          "metadata": {
            "tags": []
          },
          "execution_count": 27
        }
      ]
    },
    {
      "cell_type": "markdown",
      "metadata": {
        "id": "g4ZSHEgEgQHo"
      },
      "source": [
        "_purchase_cart will NOT be a part of the funnel<p>\n",
        "Explanation: This can be because users may have a 'quick purchase' option and the can make purchase without reach product_cart stage_ <p>"
      ]
    },
    {
      "cell_type": "code",
      "metadata": {
        "colab": {
          "base_uri": "https://localhost:8080/",
          "height": 0
        },
        "id": "KZEbUnQaAuME",
        "outputId": "6bd7b0f1-ec54-4c58-f87c-ce43c7c5810f"
      },
      "source": [
        "# converstion to last stage\n",
        "conver_user['conversion_last_stage'] = (conver_user['user_id'] / conver_user['user_id'].shift(1)).fillna(1).apply('{:.2%}'.format)\n",
        "conver_user"
      ],
      "execution_count": 28,
      "outputs": [
        {
          "output_type": "execute_result",
          "data": {
            "text/html": [
              "<div>\n",
              "<style scoped>\n",
              "    .dataframe tbody tr th:only-of-type {\n",
              "        vertical-align: middle;\n",
              "    }\n",
              "\n",
              "    .dataframe tbody tr th {\n",
              "        vertical-align: top;\n",
              "    }\n",
              "\n",
              "    .dataframe thead th {\n",
              "        text-align: right;\n",
              "    }\n",
              "</style>\n",
              "<table border=\"1\" class=\"dataframe\">\n",
              "  <thead>\n",
              "    <tr style=\"text-align: right;\">\n",
              "      <th></th>\n",
              "      <th>event_name</th>\n",
              "      <th>user_id</th>\n",
              "      <th>conversion_last_stage</th>\n",
              "    </tr>\n",
              "  </thead>\n",
              "  <tbody>\n",
              "    <tr>\n",
              "      <th>0</th>\n",
              "      <td>login</td>\n",
              "      <td>58697</td>\n",
              "      <td>100.00%</td>\n",
              "    </tr>\n",
              "    <tr>\n",
              "      <th>1</th>\n",
              "      <td>product_page</td>\n",
              "      <td>38929</td>\n",
              "      <td>66.32%</td>\n",
              "    </tr>\n",
              "    <tr>\n",
              "      <th>2</th>\n",
              "      <td>purchase</td>\n",
              "      <td>19569</td>\n",
              "      <td>50.27%</td>\n",
              "    </tr>\n",
              "    <tr>\n",
              "      <th>3</th>\n",
              "      <td>product_cart</td>\n",
              "      <td>19284</td>\n",
              "      <td>98.54%</td>\n",
              "    </tr>\n",
              "  </tbody>\n",
              "</table>\n",
              "</div>"
            ],
            "text/plain": [
              "     event_name  user_id conversion_last_stage\n",
              "0         login    58697               100.00%\n",
              "1  product_page    38929                66.32%\n",
              "2      purchase    19569                50.27%\n",
              "3  product_cart    19284                98.54%"
            ]
          },
          "metadata": {
            "tags": []
          },
          "execution_count": 28
        }
      ]
    },
    {
      "cell_type": "code",
      "metadata": {
        "colab": {
          "base_uri": "https://localhost:8080/",
          "height": 0
        },
        "id": "3w32V8_4jy-D",
        "outputId": "2d057f63-8f9d-4555-dc80-0ca0f2be1d24"
      },
      "source": [
        "# total conversinon:\n",
        "conver_user['total_conversion'] = (conver_user['user_id'] / conver_user.iloc[0,1]).apply('{:.2%}'.format)\n",
        "conver_user"
      ],
      "execution_count": 29,
      "outputs": [
        {
          "output_type": "execute_result",
          "data": {
            "text/html": [
              "<div>\n",
              "<style scoped>\n",
              "    .dataframe tbody tr th:only-of-type {\n",
              "        vertical-align: middle;\n",
              "    }\n",
              "\n",
              "    .dataframe tbody tr th {\n",
              "        vertical-align: top;\n",
              "    }\n",
              "\n",
              "    .dataframe thead th {\n",
              "        text-align: right;\n",
              "    }\n",
              "</style>\n",
              "<table border=\"1\" class=\"dataframe\">\n",
              "  <thead>\n",
              "    <tr style=\"text-align: right;\">\n",
              "      <th></th>\n",
              "      <th>event_name</th>\n",
              "      <th>user_id</th>\n",
              "      <th>conversion_last_stage</th>\n",
              "      <th>total_conversion</th>\n",
              "    </tr>\n",
              "  </thead>\n",
              "  <tbody>\n",
              "    <tr>\n",
              "      <th>0</th>\n",
              "      <td>login</td>\n",
              "      <td>58697</td>\n",
              "      <td>100.00%</td>\n",
              "      <td>100.00%</td>\n",
              "    </tr>\n",
              "    <tr>\n",
              "      <th>1</th>\n",
              "      <td>product_page</td>\n",
              "      <td>38929</td>\n",
              "      <td>66.32%</td>\n",
              "      <td>66.32%</td>\n",
              "    </tr>\n",
              "    <tr>\n",
              "      <th>2</th>\n",
              "      <td>purchase</td>\n",
              "      <td>19569</td>\n",
              "      <td>50.27%</td>\n",
              "      <td>33.34%</td>\n",
              "    </tr>\n",
              "    <tr>\n",
              "      <th>3</th>\n",
              "      <td>product_cart</td>\n",
              "      <td>19284</td>\n",
              "      <td>98.54%</td>\n",
              "      <td>32.85%</td>\n",
              "    </tr>\n",
              "  </tbody>\n",
              "</table>\n",
              "</div>"
            ],
            "text/plain": [
              "     event_name  user_id conversion_last_stage total_conversion\n",
              "0         login    58697               100.00%          100.00%\n",
              "1  product_page    38929                66.32%           66.32%\n",
              "2      purchase    19569                50.27%           33.34%\n",
              "3  product_cart    19284                98.54%           32.85%"
            ]
          },
          "metadata": {
            "tags": []
          },
          "execution_count": 29
        }
      ]
    },
    {
      "cell_type": "code",
      "metadata": {
        "colab": {
          "base_uri": "https://localhost:8080/",
          "height": 0
        },
        "id": "IQxQD30vmlqV",
        "outputId": "149af42d-c92c-42e5-985e-274c5864bec3"
      },
      "source": [
        "# funnel graph with plotly\n",
        "y = conver_user['event_name']\n",
        "x = conver_user['user_id']\n",
        "fig = go.Figure(go.Funnel(\n",
        "    y = y,\n",
        "    x = x,\n",
        "    textinfo = \"value+percent initial\",))\n",
        "fig.update_layout(title_x=0.5,\n",
        "    height=800,\n",
        "    title_text='Conversion at different stages of the funnel')\n",
        "\n",
        "fig.show()"
      ],
      "execution_count": 30,
      "outputs": [
        {
          "output_type": "display_data",
          "data": {
            "text/html": [
              "<html>\n",
              "<head><meta charset=\"utf-8\" /></head>\n",
              "<body>\n",
              "    <div>\n",
              "            <script src=\"https://cdnjs.cloudflare.com/ajax/libs/mathjax/2.7.5/MathJax.js?config=TeX-AMS-MML_SVG\"></script><script type=\"text/javascript\">if (window.MathJax) {MathJax.Hub.Config({SVG: {font: \"STIX-Web\"}});}</script>\n",
              "                <script type=\"text/javascript\">window.PlotlyConfig = {MathJaxConfig: 'local'};</script>\n",
              "        <script src=\"https://cdn.plot.ly/plotly-latest.min.js\"></script>    \n",
              "            <div id=\"d5c1c5be-5866-483d-81fc-313fea11a597\" class=\"plotly-graph-div\" style=\"height:800px; width:100%;\"></div>\n",
              "            <script type=\"text/javascript\">\n",
              "                \n",
              "                    window.PLOTLYENV=window.PLOTLYENV || {};\n",
              "                    \n",
              "                if (document.getElementById(\"d5c1c5be-5866-483d-81fc-313fea11a597\")) {\n",
              "                    Plotly.newPlot(\n",
              "                        'd5c1c5be-5866-483d-81fc-313fea11a597',\n",
              "                        [{\"textinfo\": \"value+percent initial\", \"type\": \"funnel\", \"x\": [58697, 38929, 19569, 19284], \"y\": [\"login\", \"product_page\", \"purchase\", \"product_cart\"]}],\n",
              "                        {\"height\": 800, \"template\": {\"data\": {\"bar\": [{\"error_x\": {\"color\": \"#2a3f5f\"}, \"error_y\": {\"color\": \"#2a3f5f\"}, \"marker\": {\"line\": {\"color\": \"#E5ECF6\", \"width\": 0.5}}, \"type\": \"bar\"}], \"barpolar\": [{\"marker\": {\"line\": {\"color\": \"#E5ECF6\", \"width\": 0.5}}, \"type\": \"barpolar\"}], \"carpet\": [{\"aaxis\": {\"endlinecolor\": \"#2a3f5f\", \"gridcolor\": \"white\", \"linecolor\": \"white\", \"minorgridcolor\": \"white\", \"startlinecolor\": \"#2a3f5f\"}, \"baxis\": {\"endlinecolor\": \"#2a3f5f\", \"gridcolor\": \"white\", \"linecolor\": \"white\", \"minorgridcolor\": \"white\", \"startlinecolor\": \"#2a3f5f\"}, \"type\": \"carpet\"}], \"choropleth\": [{\"colorbar\": {\"outlinewidth\": 0, \"ticks\": \"\"}, \"type\": \"choropleth\"}], \"contour\": [{\"colorbar\": {\"outlinewidth\": 0, \"ticks\": \"\"}, \"colorscale\": [[0.0, \"#0d0887\"], [0.1111111111111111, \"#46039f\"], [0.2222222222222222, \"#7201a8\"], [0.3333333333333333, \"#9c179e\"], [0.4444444444444444, \"#bd3786\"], [0.5555555555555556, \"#d8576b\"], [0.6666666666666666, \"#ed7953\"], [0.7777777777777778, \"#fb9f3a\"], [0.8888888888888888, \"#fdca26\"], [1.0, \"#f0f921\"]], \"type\": \"contour\"}], \"contourcarpet\": [{\"colorbar\": {\"outlinewidth\": 0, \"ticks\": \"\"}, \"type\": \"contourcarpet\"}], \"heatmap\": [{\"colorbar\": {\"outlinewidth\": 0, \"ticks\": \"\"}, \"colorscale\": [[0.0, \"#0d0887\"], [0.1111111111111111, \"#46039f\"], [0.2222222222222222, \"#7201a8\"], [0.3333333333333333, \"#9c179e\"], [0.4444444444444444, \"#bd3786\"], [0.5555555555555556, \"#d8576b\"], [0.6666666666666666, \"#ed7953\"], [0.7777777777777778, \"#fb9f3a\"], [0.8888888888888888, \"#fdca26\"], [1.0, \"#f0f921\"]], \"type\": \"heatmap\"}], \"heatmapgl\": [{\"colorbar\": {\"outlinewidth\": 0, \"ticks\": \"\"}, \"colorscale\": [[0.0, \"#0d0887\"], [0.1111111111111111, \"#46039f\"], [0.2222222222222222, \"#7201a8\"], [0.3333333333333333, \"#9c179e\"], [0.4444444444444444, \"#bd3786\"], [0.5555555555555556, \"#d8576b\"], [0.6666666666666666, \"#ed7953\"], [0.7777777777777778, \"#fb9f3a\"], [0.8888888888888888, \"#fdca26\"], [1.0, \"#f0f921\"]], \"type\": \"heatmapgl\"}], \"histogram\": [{\"marker\": {\"colorbar\": {\"outlinewidth\": 0, \"ticks\": \"\"}}, \"type\": \"histogram\"}], \"histogram2d\": [{\"colorbar\": {\"outlinewidth\": 0, \"ticks\": \"\"}, \"colorscale\": [[0.0, \"#0d0887\"], [0.1111111111111111, \"#46039f\"], [0.2222222222222222, \"#7201a8\"], [0.3333333333333333, \"#9c179e\"], [0.4444444444444444, \"#bd3786\"], [0.5555555555555556, \"#d8576b\"], [0.6666666666666666, \"#ed7953\"], [0.7777777777777778, \"#fb9f3a\"], [0.8888888888888888, \"#fdca26\"], [1.0, \"#f0f921\"]], \"type\": \"histogram2d\"}], \"histogram2dcontour\": [{\"colorbar\": {\"outlinewidth\": 0, \"ticks\": \"\"}, \"colorscale\": [[0.0, \"#0d0887\"], [0.1111111111111111, \"#46039f\"], [0.2222222222222222, \"#7201a8\"], [0.3333333333333333, \"#9c179e\"], [0.4444444444444444, \"#bd3786\"], [0.5555555555555556, \"#d8576b\"], [0.6666666666666666, \"#ed7953\"], [0.7777777777777778, \"#fb9f3a\"], [0.8888888888888888, \"#fdca26\"], [1.0, \"#f0f921\"]], \"type\": \"histogram2dcontour\"}], \"mesh3d\": [{\"colorbar\": {\"outlinewidth\": 0, \"ticks\": \"\"}, \"type\": \"mesh3d\"}], \"parcoords\": [{\"line\": {\"colorbar\": {\"outlinewidth\": 0, \"ticks\": \"\"}}, \"type\": \"parcoords\"}], \"pie\": [{\"automargin\": true, \"type\": \"pie\"}], \"scatter\": [{\"marker\": {\"colorbar\": {\"outlinewidth\": 0, \"ticks\": \"\"}}, \"type\": \"scatter\"}], \"scatter3d\": [{\"line\": {\"colorbar\": {\"outlinewidth\": 0, \"ticks\": \"\"}}, \"marker\": {\"colorbar\": {\"outlinewidth\": 0, \"ticks\": \"\"}}, \"type\": \"scatter3d\"}], \"scattercarpet\": [{\"marker\": {\"colorbar\": {\"outlinewidth\": 0, \"ticks\": \"\"}}, \"type\": \"scattercarpet\"}], \"scattergeo\": [{\"marker\": {\"colorbar\": {\"outlinewidth\": 0, \"ticks\": \"\"}}, \"type\": \"scattergeo\"}], \"scattergl\": [{\"marker\": {\"colorbar\": {\"outlinewidth\": 0, \"ticks\": \"\"}}, \"type\": \"scattergl\"}], \"scattermapbox\": [{\"marker\": {\"colorbar\": {\"outlinewidth\": 0, \"ticks\": \"\"}}, \"type\": \"scattermapbox\"}], \"scatterpolar\": [{\"marker\": {\"colorbar\": {\"outlinewidth\": 0, \"ticks\": \"\"}}, \"type\": \"scatterpolar\"}], \"scatterpolargl\": [{\"marker\": {\"colorbar\": {\"outlinewidth\": 0, \"ticks\": \"\"}}, \"type\": \"scatterpolargl\"}], \"scatterternary\": [{\"marker\": {\"colorbar\": {\"outlinewidth\": 0, \"ticks\": \"\"}}, \"type\": \"scatterternary\"}], \"surface\": [{\"colorbar\": {\"outlinewidth\": 0, \"ticks\": \"\"}, \"colorscale\": [[0.0, \"#0d0887\"], [0.1111111111111111, \"#46039f\"], [0.2222222222222222, \"#7201a8\"], [0.3333333333333333, \"#9c179e\"], [0.4444444444444444, \"#bd3786\"], [0.5555555555555556, \"#d8576b\"], [0.6666666666666666, \"#ed7953\"], [0.7777777777777778, \"#fb9f3a\"], [0.8888888888888888, \"#fdca26\"], [1.0, \"#f0f921\"]], \"type\": \"surface\"}], \"table\": [{\"cells\": {\"fill\": {\"color\": \"#EBF0F8\"}, \"line\": {\"color\": \"white\"}}, \"header\": {\"fill\": {\"color\": \"#C8D4E3\"}, \"line\": {\"color\": \"white\"}}, \"type\": \"table\"}]}, \"layout\": {\"annotationdefaults\": {\"arrowcolor\": \"#2a3f5f\", \"arrowhead\": 0, \"arrowwidth\": 1}, \"coloraxis\": {\"colorbar\": {\"outlinewidth\": 0, \"ticks\": \"\"}}, \"colorscale\": {\"diverging\": [[0, \"#8e0152\"], [0.1, \"#c51b7d\"], [0.2, \"#de77ae\"], [0.3, \"#f1b6da\"], [0.4, \"#fde0ef\"], [0.5, \"#f7f7f7\"], [0.6, \"#e6f5d0\"], [0.7, \"#b8e186\"], [0.8, \"#7fbc41\"], [0.9, \"#4d9221\"], [1, \"#276419\"]], \"sequential\": [[0.0, \"#0d0887\"], [0.1111111111111111, \"#46039f\"], [0.2222222222222222, \"#7201a8\"], [0.3333333333333333, \"#9c179e\"], [0.4444444444444444, \"#bd3786\"], [0.5555555555555556, \"#d8576b\"], [0.6666666666666666, \"#ed7953\"], [0.7777777777777778, \"#fb9f3a\"], [0.8888888888888888, \"#fdca26\"], [1.0, \"#f0f921\"]], \"sequentialminus\": [[0.0, \"#0d0887\"], [0.1111111111111111, \"#46039f\"], [0.2222222222222222, \"#7201a8\"], [0.3333333333333333, \"#9c179e\"], [0.4444444444444444, \"#bd3786\"], [0.5555555555555556, \"#d8576b\"], [0.6666666666666666, \"#ed7953\"], [0.7777777777777778, \"#fb9f3a\"], [0.8888888888888888, \"#fdca26\"], [1.0, \"#f0f921\"]]}, \"colorway\": [\"#636efa\", \"#EF553B\", \"#00cc96\", \"#ab63fa\", \"#FFA15A\", \"#19d3f3\", \"#FF6692\", \"#B6E880\", \"#FF97FF\", \"#FECB52\"], \"font\": {\"color\": \"#2a3f5f\"}, \"geo\": {\"bgcolor\": \"white\", \"lakecolor\": \"white\", \"landcolor\": \"#E5ECF6\", \"showlakes\": true, \"showland\": true, \"subunitcolor\": \"white\"}, \"hoverlabel\": {\"align\": \"left\"}, \"hovermode\": \"closest\", \"mapbox\": {\"style\": \"light\"}, \"paper_bgcolor\": \"white\", \"plot_bgcolor\": \"#E5ECF6\", \"polar\": {\"angularaxis\": {\"gridcolor\": \"white\", \"linecolor\": \"white\", \"ticks\": \"\"}, \"bgcolor\": \"#E5ECF6\", \"radialaxis\": {\"gridcolor\": \"white\", \"linecolor\": \"white\", \"ticks\": \"\"}}, \"scene\": {\"xaxis\": {\"backgroundcolor\": \"#E5ECF6\", \"gridcolor\": \"white\", \"gridwidth\": 2, \"linecolor\": \"white\", \"showbackground\": true, \"ticks\": \"\", \"zerolinecolor\": \"white\"}, \"yaxis\": {\"backgroundcolor\": \"#E5ECF6\", \"gridcolor\": \"white\", \"gridwidth\": 2, \"linecolor\": \"white\", \"showbackground\": true, \"ticks\": \"\", \"zerolinecolor\": \"white\"}, \"zaxis\": {\"backgroundcolor\": \"#E5ECF6\", \"gridcolor\": \"white\", \"gridwidth\": 2, \"linecolor\": \"white\", \"showbackground\": true, \"ticks\": \"\", \"zerolinecolor\": \"white\"}}, \"shapedefaults\": {\"line\": {\"color\": \"#2a3f5f\"}}, \"ternary\": {\"aaxis\": {\"gridcolor\": \"white\", \"linecolor\": \"white\", \"ticks\": \"\"}, \"baxis\": {\"gridcolor\": \"white\", \"linecolor\": \"white\", \"ticks\": \"\"}, \"bgcolor\": \"#E5ECF6\", \"caxis\": {\"gridcolor\": \"white\", \"linecolor\": \"white\", \"ticks\": \"\"}}, \"title\": {\"x\": 0.05}, \"xaxis\": {\"automargin\": true, \"gridcolor\": \"white\", \"linecolor\": \"white\", \"ticks\": \"\", \"title\": {\"standoff\": 15}, \"zerolinecolor\": \"white\", \"zerolinewidth\": 2}, \"yaxis\": {\"automargin\": true, \"gridcolor\": \"white\", \"linecolor\": \"white\", \"ticks\": \"\", \"title\": {\"standoff\": 15}, \"zerolinecolor\": \"white\", \"zerolinewidth\": 2}}}, \"title\": {\"text\": \"Conversion at different stages of the funnel\", \"x\": 0.5}},\n",
              "                        {\"responsive\": true}\n",
              "                    ).then(function(){\n",
              "                            \n",
              "var gd = document.getElementById('d5c1c5be-5866-483d-81fc-313fea11a597');\n",
              "var x = new MutationObserver(function (mutations, observer) {{\n",
              "        var display = window.getComputedStyle(gd).display;\n",
              "        if (!display || display === 'none') {{\n",
              "            console.log([gd, 'removed!']);\n",
              "            Plotly.purge(gd);\n",
              "            observer.disconnect();\n",
              "        }}\n",
              "}});\n",
              "\n",
              "// Listen for the removal of the full notebook cells\n",
              "var notebookContainer = gd.closest('#notebook-container');\n",
              "if (notebookContainer) {{\n",
              "    x.observe(notebookContainer, {childList: true});\n",
              "}}\n",
              "\n",
              "// Listen for the clearing of the current output cell\n",
              "var outputEl = gd.closest('.output');\n",
              "if (outputEl) {{\n",
              "    x.observe(outputEl, {childList: true});\n",
              "}}\n",
              "\n",
              "                        })\n",
              "                };\n",
              "                \n",
              "            </script>\n",
              "        </div>\n",
              "</body>\n",
              "</html>"
            ]
          },
          "metadata": {
            "tags": []
          }
        }
      ]
    },
    {
      "cell_type": "markdown",
      "metadata": {
        "id": "2NV82iNVpFTu"
      },
      "source": [
        "summary:\n",
        "- from the moment user login a third  user will make a purchase\n",
        "- 33% of users won't reach product page which is high figures and have space to improvements that can lead to higher conversion rates possible"
      ]
    },
    {
      "cell_type": "markdown",
      "metadata": {
        "id": "F2vL9POtA7iM"
      },
      "source": [
        "- ## Is the number of events per user distributed equally among the samples?\n"
      ]
    },
    {
      "cell_type": "code",
      "metadata": {
        "colab": {
          "base_uri": "https://localhost:8080/"
        },
        "id": "xMtnwkJ3OT30",
        "outputId": "5ef8fa93-f657-43f5-9903-4a96af6d6993"
      },
      "source": [
        "# we refer to participants of \"interface_eu_test\" and how they are split in groups\n",
        "dist_eu = participants.query('ab_test == \"interface_eu_test\"')['group'].value_counts()\n",
        "dist_eu "
      ],
      "execution_count": 31,
      "outputs": [
        {
          "output_type": "execute_result",
          "data": {
            "text/plain": [
              "A    5831\n",
              "B    5736\n",
              "Name: group, dtype: int64"
            ]
          },
          "metadata": {
            "tags": []
          },
          "execution_count": 31
        }
      ]
    },
    {
      "cell_type": "code",
      "metadata": {
        "colab": {
          "base_uri": "https://localhost:8080/",
          "height": 0
        },
        "id": "welzhwImOT14",
        "outputId": "cd9dbc31-624c-47e6-9ee8-2f089b032f30"
      },
      "source": [
        "dist_eu.plot.pie(autopct=\"%.2f%%\",title=' Number of \"interface_eu_test\" events distributed among samples');\n",
        "#  equal groups - checked"
      ],
      "execution_count": 32,
      "outputs": [
        {
          "output_type": "display_data",
          "data": {
            "image/png": "[encoded data removed]",
            "text/plain": [
              "<Figure size 432x288 with 1 Axes>"
            ]
          },
          "metadata": {
            "tags": []
          }
        }
      ]
    },
    {
      "cell_type": "markdown",
      "metadata": {
        "id": "nGfcuowVjFT9"
      },
      "source": [
        "summary:<p>\n",
        "- A/B groups distributed  equally with uni"
      ]
    },
    {
      "cell_type": "markdown",
      "metadata": {
        "id": "EItd59s5OSz4"
      },
      "source": [
        "- ## Are there users who are present in both samples?\n"
      ]
    },
    {
      "cell_type": "code",
      "metadata": {
        "colab": {
          "base_uri": "https://localhost:8080/"
        },
        "id": "16xs1lSdTnfE",
        "outputId": "1251d596-acdc-42db-a457-29aa9fcdb015"
      },
      "source": [
        "participants.query('ab_test == \"interface_eu_test\"')['user_id'].value_counts().sort_values(ascending=False)"
      ],
      "execution_count": 33,
      "outputs": [
        {
          "output_type": "execute_result",
          "data": {
            "text/plain": [
              "C40DDE88F1919245    1\n",
              "884DB9E76DDF3D86    1\n",
              "BA3CFFC9A1EEDAF2    1\n",
              "6C5EDC95CDCE6635    1\n",
              "638877CEA94E8DC0    1\n",
              "                   ..\n",
              "C5274B8DF35C9218    1\n",
              "DCB427AEBB338793    1\n",
              "CF69DD8CA5F0E5C9    1\n",
              "B2E2B7C6032F8B9D    1\n",
              "55AEBB4BAAC70BD4    1\n",
              "Name: user_id, Length: 11567, dtype: int64"
            ]
          },
          "metadata": {
            "tags": []
          },
          "execution_count": 33
        }
      ]
    },
    {
      "cell_type": "markdown",
      "metadata": {
        "id": "pjkenGvjUFsS"
      },
      "source": [
        "_as was shown in the exploring section we do not have users present in both sample since we have each user only once in the whole \"interface_eu_test\"_"
      ]
    },
    {
      "cell_type": "markdown",
      "metadata": {
        "id": "_u9emX3BTdav"
      },
      "source": [
        "- ## How is the number of events distributed among days?\n"
      ]
    },
    {
      "cell_type": "code",
      "metadata": {
        "id": "v1_FR1ZrUno-"
      },
      "source": [
        "# first I will copy the original df \n",
        "events_ = events"
      ],
      "execution_count": 34,
      "outputs": []
    },
    {
      "cell_type": "code",
      "metadata": {
        "colab": {
          "base_uri": "https://localhost:8080/",
          "height": 0
        },
        "id": "jv_U8rNRVXsD",
        "outputId": "846cdeb2-5f25-4f83-e858-5bb5e6dd2259"
      },
      "source": [
        "# create date columns\n",
        "events_['date'] = events_['event_dt'].dt.date.astype('datetime64[ns]')\n",
        "events_.head(4)"
      ],
      "execution_count": 35,
      "outputs": [
        {
          "output_type": "execute_result",
          "data": {
            "text/html": [
              "<div>\n",
              "<style scoped>\n",
              "    .dataframe tbody tr th:only-of-type {\n",
              "        vertical-align: middle;\n",
              "    }\n",
              "\n",
              "    .dataframe tbody tr th {\n",
              "        vertical-align: top;\n",
              "    }\n",
              "\n",
              "    .dataframe thead th {\n",
              "        text-align: right;\n",
              "    }\n",
              "</style>\n",
              "<table border=\"1\" class=\"dataframe\">\n",
              "  <thead>\n",
              "    <tr style=\"text-align: right;\">\n",
              "      <th></th>\n",
              "      <th>user_id</th>\n",
              "      <th>event_dt</th>\n",
              "      <th>event_name</th>\n",
              "      <th>details</th>\n",
              "      <th>date</th>\n",
              "    </tr>\n",
              "  </thead>\n",
              "  <tbody>\n",
              "    <tr>\n",
              "      <th>0</th>\n",
              "      <td>E1BDDCE0DAFA2679</td>\n",
              "      <td>2020-12-07 20:22:03</td>\n",
              "      <td>purchase</td>\n",
              "      <td>99.99</td>\n",
              "      <td>2020-12-07</td>\n",
              "    </tr>\n",
              "    <tr>\n",
              "      <th>1</th>\n",
              "      <td>7B6452F081F49504</td>\n",
              "      <td>2020-12-07 09:22:53</td>\n",
              "      <td>purchase</td>\n",
              "      <td>9.99</td>\n",
              "      <td>2020-12-07</td>\n",
              "    </tr>\n",
              "    <tr>\n",
              "      <th>2</th>\n",
              "      <td>9CD9F34546DF254C</td>\n",
              "      <td>2020-12-07 12:59:29</td>\n",
              "      <td>purchase</td>\n",
              "      <td>4.99</td>\n",
              "      <td>2020-12-07</td>\n",
              "    </tr>\n",
              "    <tr>\n",
              "      <th>3</th>\n",
              "      <td>96F27A054B191457</td>\n",
              "      <td>2020-12-07 04:02:40</td>\n",
              "      <td>purchase</td>\n",
              "      <td>4.99</td>\n",
              "      <td>2020-12-07</td>\n",
              "    </tr>\n",
              "  </tbody>\n",
              "</table>\n",
              "</div>"
            ],
            "text/plain": [
              "            user_id            event_dt event_name  details       date\n",
              "0  E1BDDCE0DAFA2679 2020-12-07 20:22:03   purchase    99.99 2020-12-07\n",
              "1  7B6452F081F49504 2020-12-07 09:22:53   purchase     9.99 2020-12-07\n",
              "2  9CD9F34546DF254C 2020-12-07 12:59:29   purchase     4.99 2020-12-07\n",
              "3  96F27A054B191457 2020-12-07 04:02:40   purchase     4.99 2020-12-07"
            ]
          },
          "metadata": {
            "tags": []
          },
          "execution_count": 35
        }
      ]
    },
    {
      "cell_type": "code",
      "metadata": {
        "colab": {
          "base_uri": "https://localhost:8080/",
          "height": 0
        },
        "id": "5pGIhka2UnZ0",
        "outputId": "0d9d9259-0fe7-459d-ee77-ca926eda9cb2"
      },
      "source": [
        "dist_days = pd.pivot_table(events_,index='date',columns='event_name',values='user_id',aggfunc=lambda x: x.nunique())\n",
        "dist_days.head(4)"
      ],
      "execution_count": 36,
      "outputs": [
        {
          "output_type": "execute_result",
          "data": {
            "text/html": [
              "<div>\n",
              "<style scoped>\n",
              "    .dataframe tbody tr th:only-of-type {\n",
              "        vertical-align: middle;\n",
              "    }\n",
              "\n",
              "    .dataframe tbody tr th {\n",
              "        vertical-align: top;\n",
              "    }\n",
              "\n",
              "    .dataframe thead th {\n",
              "        text-align: right;\n",
              "    }\n",
              "</style>\n",
              "<table border=\"1\" class=\"dataframe\">\n",
              "  <thead>\n",
              "    <tr style=\"text-align: right;\">\n",
              "      <th>event_name</th>\n",
              "      <th>product_cart</th>\n",
              "      <th>product_page</th>\n",
              "      <th>purchase</th>\n",
              "      <th>login</th>\n",
              "    </tr>\n",
              "    <tr>\n",
              "      <th>date</th>\n",
              "      <th></th>\n",
              "      <th></th>\n",
              "      <th></th>\n",
              "      <th></th>\n",
              "    </tr>\n",
              "  </thead>\n",
              "  <tbody>\n",
              "    <tr>\n",
              "      <th>2020-12-07</th>\n",
              "      <td>1582</td>\n",
              "      <td>3240</td>\n",
              "      <td>1650</td>\n",
              "      <td>4913</td>\n",
              "    </tr>\n",
              "    <tr>\n",
              "      <th>2020-12-08</th>\n",
              "      <td>1744</td>\n",
              "      <td>3627</td>\n",
              "      <td>1729</td>\n",
              "      <td>5447</td>\n",
              "    </tr>\n",
              "    <tr>\n",
              "      <th>2020-12-09</th>\n",
              "      <td>1704</td>\n",
              "      <td>3498</td>\n",
              "      <td>1693</td>\n",
              "      <td>5227</td>\n",
              "    </tr>\n",
              "    <tr>\n",
              "      <th>2020-12-10</th>\n",
              "      <td>1998</td>\n",
              "      <td>4022</td>\n",
              "      <td>2012</td>\n",
              "      <td>6045</td>\n",
              "    </tr>\n",
              "  </tbody>\n",
              "</table>\n",
              "</div>"
            ],
            "text/plain": [
              "event_name  product_cart  product_page  purchase  login\n",
              "date                                                   \n",
              "2020-12-07          1582          3240      1650   4913\n",
              "2020-12-08          1744          3627      1729   5447\n",
              "2020-12-09          1704          3498      1693   5227\n",
              "2020-12-10          1998          4022      2012   6045"
            ]
          },
          "metadata": {
            "tags": []
          },
          "execution_count": 36
        }
      ]
    },
    {
      "cell_type": "code",
      "metadata": {
        "colab": {
          "base_uri": "https://localhost:8080/",
          "height": 0
        },
        "id": "VBlngXxrbzKQ",
        "outputId": "2aed29f1-61ad-4e63-a7c5-7b07bcef4e38"
      },
      "source": [
        "# now visualize via chart\n",
        "# date show visualization improvement\n",
        "ticklabels = ['']*len(dist_days.index)\n",
        "ticklabels = [item.strftime('%m-%d') for item in dist_days.index]\n",
        "# plot:\n",
        "fig, ax = plt.subplots(figsize=(16,10))\n",
        "dist_days.plot(kind='bar', stacked=True,ax=ax)\n",
        "ax.set_xticklabels(ax.get_xticklabels(),rotation=30)\n",
        "ax.xaxis.set_major_formatter(ticker.FixedFormatter(ticklabels))\n",
        "ax.set_title('number of events distributed among days')\n",
        "ax.set_xlabel('date')\n",
        "ax.set_ylabel('unique users')\n",
        "plt.show()"
      ],
      "execution_count": 37,
      "outputs": [
        {
          "output_type": "display_data",
          "data": {
            "image/png": "[encoded data removed]",
            "text/plain": [
              "<Figure size 1152x720 with 1 Axes>"
            ]
          },
          "metadata": {
            "tags": [],
            "needs_background": "light"
          }
        }
      ]
    },
    {
      "cell_type": "markdown",
      "metadata": {
        "id": "aBn1X_9KjRTp"
      },
      "source": [
        "summary:\n",
        "- a traffic growth till the 12-21 which is 14 days from the start and that is where data stopped taking new users. from this point number of users decrease. at 12-30 a very small group of users that are bearly seen\n",
        "- distribution growth between groups with same proportions where no anomalies noted inside groups for a single day\n"
      ]
    },
    {
      "cell_type": "markdown",
      "metadata": {
        "id": "Lfwil2msUjsQ"
      },
      "source": [
        "- ## Are there any peculiarities in the data that you have to take into account before starting the A/B test?\n"
      ]
    },
    {
      "cell_type": "markdown",
      "metadata": {
        "id": "IDwz-zfhm4Ok"
      },
      "source": [
        "Before starting an A/B test, we run an A/A test to make sure that:<p>\n",
        "- The results are not affected by anomalies or outliers in the statistical population\n",
        "- The tool for splitting traffic works correctly\n",
        "- Data is sent to analytical systems correctly\n"
      ]
    },
    {
      "cell_type": "code",
      "metadata": {
        "colab": {
          "base_uri": "https://localhost:8080/",
          "height": 0
        },
        "id": "2EvtNV_yf7Yw",
        "outputId": "eae1c9b7-ca09-4b64-b10f-96c51e14e80b"
      },
      "source": [
        "# create participants new df for A/A test\n",
        "participants_aa = participants.query('group ==\"A\"').drop('group',axis=1).reset_index().drop('index',axis=1)\n",
        "participants_aa"
      ],
      "execution_count": 38,
      "outputs": [
        {
          "output_type": "execute_result",
          "data": {
            "text/html": [
              "<div>\n",
              "<style scoped>\n",
              "    .dataframe tbody tr th:only-of-type {\n",
              "        vertical-align: middle;\n",
              "    }\n",
              "\n",
              "    .dataframe tbody tr th {\n",
              "        vertical-align: top;\n",
              "    }\n",
              "\n",
              "    .dataframe thead th {\n",
              "        text-align: right;\n",
              "    }\n",
              "</style>\n",
              "<table border=\"1\" class=\"dataframe\">\n",
              "  <thead>\n",
              "    <tr style=\"text-align: right;\">\n",
              "      <th></th>\n",
              "      <th>user_id</th>\n",
              "      <th>ab_test</th>\n",
              "    </tr>\n",
              "  </thead>\n",
              "  <tbody>\n",
              "    <tr>\n",
              "      <th>0</th>\n",
              "      <td>D1ABA3E2887B6A73</td>\n",
              "      <td>recommender_system_test</td>\n",
              "    </tr>\n",
              "    <tr>\n",
              "      <th>1</th>\n",
              "      <td>A7A3664BD6242119</td>\n",
              "      <td>recommender_system_test</td>\n",
              "    </tr>\n",
              "    <tr>\n",
              "      <th>2</th>\n",
              "      <td>DABC14FDDFADD29E</td>\n",
              "      <td>recommender_system_test</td>\n",
              "    </tr>\n",
              "    <tr>\n",
              "      <th>3</th>\n",
              "      <td>04988C5DF189632E</td>\n",
              "      <td>recommender_system_test</td>\n",
              "    </tr>\n",
              "    <tr>\n",
              "      <th>4</th>\n",
              "      <td>4FF2998A348C484F</td>\n",
              "      <td>recommender_system_test</td>\n",
              "    </tr>\n",
              "    <tr>\n",
              "      <th>...</th>\n",
              "      <td>...</td>\n",
              "      <td>...</td>\n",
              "    </tr>\n",
              "    <tr>\n",
              "      <th>9650</th>\n",
              "      <td>96304D5B53694096</td>\n",
              "      <td>interface_eu_test</td>\n",
              "    </tr>\n",
              "    <tr>\n",
              "      <th>9651</th>\n",
              "      <td>A1281767A2983E4D</td>\n",
              "      <td>interface_eu_test</td>\n",
              "    </tr>\n",
              "    <tr>\n",
              "      <th>9652</th>\n",
              "      <td>3DE51B726983B657</td>\n",
              "      <td>interface_eu_test</td>\n",
              "    </tr>\n",
              "    <tr>\n",
              "      <th>9653</th>\n",
              "      <td>F501F79D332BE86C</td>\n",
              "      <td>interface_eu_test</td>\n",
              "    </tr>\n",
              "    <tr>\n",
              "      <th>9654</th>\n",
              "      <td>63FBE257B05F2245</td>\n",
              "      <td>interface_eu_test</td>\n",
              "    </tr>\n",
              "  </tbody>\n",
              "</table>\n",
              "<p>9655 rows × 2 columns</p>\n",
              "</div>"
            ],
            "text/plain": [
              "               user_id                  ab_test\n",
              "0     D1ABA3E2887B6A73  recommender_system_test\n",
              "1     A7A3664BD6242119  recommender_system_test\n",
              "2     DABC14FDDFADD29E  recommender_system_test\n",
              "3     04988C5DF189632E  recommender_system_test\n",
              "4     4FF2998A348C484F  recommender_system_test\n",
              "...                ...                      ...\n",
              "9650  96304D5B53694096        interface_eu_test\n",
              "9651  A1281767A2983E4D        interface_eu_test\n",
              "9652  3DE51B726983B657        interface_eu_test\n",
              "9653  F501F79D332BE86C        interface_eu_test\n",
              "9654  63FBE257B05F2245        interface_eu_test\n",
              "\n",
              "[9655 rows x 2 columns]"
            ]
          },
          "metadata": {
            "tags": []
          },
          "execution_count": 38
        }
      ]
    },
    {
      "cell_type": "code",
      "metadata": {
        "id": "CVuiFNrOgPmv"
      },
      "source": [
        "# copy events df dor a/a test\n",
        "events_aa = events"
      ],
      "execution_count": 39,
      "outputs": []
    },
    {
      "cell_type": "code",
      "metadata": {
        "colab": {
          "base_uri": "https://localhost:8080/",
          "height": 0
        },
        "id": "uP-MJOwqgag_",
        "outputId": "6d91a9db-bffb-4a2a-ec0e-01139375ef92"
      },
      "source": [
        "# add group to events_aa\n",
        "events_aa = events_aa.merge(participants_aa,on='user_id',how='inner')\n",
        "events_aa.head()"
      ],
      "execution_count": 40,
      "outputs": [
        {
          "output_type": "execute_result",
          "data": {
            "text/html": [
              "<div>\n",
              "<style scoped>\n",
              "    .dataframe tbody tr th:only-of-type {\n",
              "        vertical-align: middle;\n",
              "    }\n",
              "\n",
              "    .dataframe tbody tr th {\n",
              "        vertical-align: top;\n",
              "    }\n",
              "\n",
              "    .dataframe thead th {\n",
              "        text-align: right;\n",
              "    }\n",
              "</style>\n",
              "<table border=\"1\" class=\"dataframe\">\n",
              "  <thead>\n",
              "    <tr style=\"text-align: right;\">\n",
              "      <th></th>\n",
              "      <th>user_id</th>\n",
              "      <th>event_dt</th>\n",
              "      <th>event_name</th>\n",
              "      <th>details</th>\n",
              "      <th>date</th>\n",
              "      <th>ab_test</th>\n",
              "    </tr>\n",
              "  </thead>\n",
              "  <tbody>\n",
              "    <tr>\n",
              "      <th>0</th>\n",
              "      <td>831887FE7F2D6CBA</td>\n",
              "      <td>2020-12-07 06:50:29</td>\n",
              "      <td>purchase</td>\n",
              "      <td>4.99</td>\n",
              "      <td>2020-12-07</td>\n",
              "      <td>recommender_system_test</td>\n",
              "    </tr>\n",
              "    <tr>\n",
              "      <th>1</th>\n",
              "      <td>831887FE7F2D6CBA</td>\n",
              "      <td>2020-12-09 02:19:17</td>\n",
              "      <td>purchase</td>\n",
              "      <td>99.99</td>\n",
              "      <td>2020-12-09</td>\n",
              "      <td>recommender_system_test</td>\n",
              "    </tr>\n",
              "    <tr>\n",
              "      <th>2</th>\n",
              "      <td>831887FE7F2D6CBA</td>\n",
              "      <td>2020-12-07 06:50:30</td>\n",
              "      <td>product_cart</td>\n",
              "      <td>NaN</td>\n",
              "      <td>2020-12-07</td>\n",
              "      <td>recommender_system_test</td>\n",
              "    </tr>\n",
              "    <tr>\n",
              "      <th>3</th>\n",
              "      <td>831887FE7F2D6CBA</td>\n",
              "      <td>2020-12-08 10:52:27</td>\n",
              "      <td>product_cart</td>\n",
              "      <td>NaN</td>\n",
              "      <td>2020-12-08</td>\n",
              "      <td>recommender_system_test</td>\n",
              "    </tr>\n",
              "    <tr>\n",
              "      <th>4</th>\n",
              "      <td>831887FE7F2D6CBA</td>\n",
              "      <td>2020-12-09 02:19:17</td>\n",
              "      <td>product_cart</td>\n",
              "      <td>NaN</td>\n",
              "      <td>2020-12-09</td>\n",
              "      <td>recommender_system_test</td>\n",
              "    </tr>\n",
              "  </tbody>\n",
              "</table>\n",
              "</div>"
            ],
            "text/plain": [
              "            user_id            event_dt  ...       date                  ab_test\n",
              "0  831887FE7F2D6CBA 2020-12-07 06:50:29  ... 2020-12-07  recommender_system_test\n",
              "1  831887FE7F2D6CBA 2020-12-09 02:19:17  ... 2020-12-09  recommender_system_test\n",
              "2  831887FE7F2D6CBA 2020-12-07 06:50:30  ... 2020-12-07  recommender_system_test\n",
              "3  831887FE7F2D6CBA 2020-12-08 10:52:27  ... 2020-12-08  recommender_system_test\n",
              "4  831887FE7F2D6CBA 2020-12-09 02:19:17  ... 2020-12-09  recommender_system_test\n",
              "\n",
              "[5 rows x 6 columns]"
            ]
          },
          "metadata": {
            "tags": []
          },
          "execution_count": 40
        }
      ]
    },
    {
      "cell_type": "code",
      "metadata": {
        "colab": {
          "base_uri": "https://localhost:8080/"
        },
        "id": "w-jT14rOhQN5",
        "outputId": "dcea8453-8e96-417e-ff58-0029a7c9b033"
      },
      "source": [
        "# no NaN check:\n",
        "events_aa['ab_test'].isna().sum()"
      ],
      "execution_count": 41,
      "outputs": [
        {
          "output_type": "execute_result",
          "data": {
            "text/plain": [
              "0"
            ]
          },
          "metadata": {
            "tags": []
          },
          "execution_count": 41
        }
      ]
    },
    {
      "cell_type": "code",
      "metadata": {
        "id": "Shw82jrth3zK"
      },
      "source": [
        "# rename. both groups are A groups\n",
        "events_aa = events_aa.rename(columns={'ab_test':'group'})"
      ],
      "execution_count": 42,
      "outputs": []
    },
    {
      "cell_type": "code",
      "metadata": {
        "id": "WGXMY7r2hZaZ"
      },
      "source": [
        "# create pivot with all events for each group\n",
        "pivot_aa = events_aa.pivot_table(index='event_name', values='user_id', columns='group', aggfunc=lambda x: x.nunique())"
      ],
      "execution_count": 43,
      "outputs": []
    },
    {
      "cell_type": "code",
      "metadata": {
        "id": "ebN6q0Hqhqls"
      },
      "source": [
        "# handle CategoricalIndex issue:\n",
        "pivot_aa.columns = pd.Index(list(pivot_aa.columns))"
      ],
      "execution_count": 44,
      "outputs": []
    },
    {
      "cell_type": "code",
      "metadata": {
        "id": "vHmuGkxFhqhv"
      },
      "source": [
        "# now reset_index:\n",
        "pivot_aa.reset_index(inplace=True)"
      ],
      "execution_count": 45,
      "outputs": []
    },
    {
      "cell_type": "code",
      "metadata": {
        "colab": {
          "base_uri": "https://localhost:8080/",
          "height": 0
        },
        "id": "F7K3qV7yi1en",
        "outputId": "f37b7e13-a0d3-4e50-f60d-893ca7038674"
      },
      "source": [
        "pivot_aa"
      ],
      "execution_count": 46,
      "outputs": [
        {
          "output_type": "execute_result",
          "data": {
            "text/html": [
              "<div>\n",
              "<style scoped>\n",
              "    .dataframe tbody tr th:only-of-type {\n",
              "        vertical-align: middle;\n",
              "    }\n",
              "\n",
              "    .dataframe tbody tr th {\n",
              "        vertical-align: top;\n",
              "    }\n",
              "\n",
              "    .dataframe thead th {\n",
              "        text-align: right;\n",
              "    }\n",
              "</style>\n",
              "<table border=\"1\" class=\"dataframe\">\n",
              "  <thead>\n",
              "    <tr style=\"text-align: right;\">\n",
              "      <th></th>\n",
              "      <th>event_name</th>\n",
              "      <th>interface_eu_test</th>\n",
              "      <th>recommender_system_test</th>\n",
              "    </tr>\n",
              "  </thead>\n",
              "  <tbody>\n",
              "    <tr>\n",
              "      <th>0</th>\n",
              "      <td>product_cart</td>\n",
              "      <td>1756</td>\n",
              "      <td>824</td>\n",
              "    </tr>\n",
              "    <tr>\n",
              "      <th>1</th>\n",
              "      <td>product_page</td>\n",
              "      <td>3639</td>\n",
              "      <td>1780</td>\n",
              "    </tr>\n",
              "    <tr>\n",
              "      <th>2</th>\n",
              "      <td>purchase</td>\n",
              "      <td>1931</td>\n",
              "      <td>872</td>\n",
              "    </tr>\n",
              "    <tr>\n",
              "      <th>3</th>\n",
              "      <td>login</td>\n",
              "      <td>5466</td>\n",
              "      <td>2747</td>\n",
              "    </tr>\n",
              "  </tbody>\n",
              "</table>\n",
              "</div>"
            ],
            "text/plain": [
              "     event_name  interface_eu_test  recommender_system_test\n",
              "0  product_cart               1756                      824\n",
              "1  product_page               3639                     1780\n",
              "2      purchase               1931                      872\n",
              "3         login               5466                     2747"
            ]
          },
          "metadata": {
            "tags": []
          },
          "execution_count": 46
        }
      ]
    },
    {
      "cell_type": "code",
      "metadata": {
        "id": "F5xgi2-8ilNp"
      },
      "source": [
        "# make function to use z_score test:\n",
        "def hypo_check_aa(group1,group2, event, alpha=0.05):\n",
        "    # let's start with successes, using \n",
        "    successes1=pivot_aa[pivot_aa['event_name']==event][group1].iloc[0]\n",
        "    successes2=pivot_aa[pivot_aa['event_name']==event][group2].iloc[0]\n",
        "    \n",
        "    # for trials we can go back to  events_aa\n",
        "    trials1=events_aa[events_aa['group']==group1]['user_id'].nunique()\n",
        "    trials2=events_aa[events_aa['group']==group2]['user_id'].nunique()\n",
        "    \n",
        "    # proportion for success in the first group\n",
        "    p1 = successes1/trials1\n",
        "\n",
        "    # proportion for success in the second group\n",
        "    p2 = successes2/trials2\n",
        "\n",
        "    # proportion in a combined dataset\n",
        "    p_combined = (successes1 + successes2) / (trials1 + trials2)\n",
        "\n",
        "  \n",
        "    difference = p1 - p2\n",
        "    \n",
        "    # z score:\n",
        "    z_score = difference / math.sqrt(p_combined * (1 - p_combined) * (1/trials1 + 1/trials2))\n",
        "\n",
        "  \n",
        "    distr = stats.norm(0, 1) \n",
        "\n",
        "\n",
        "    p_value = (1 - distr.cdf(abs(z_score))) * 2\n",
        "\n",
        "    \n",
        "    print('H0: μ0 = μ1 \\ mean of event', event ,' in group',group1,' equal to mean of group',group2)\n",
        "\n",
        "    print('H1: μ0 ≠ μ1 \\ mean of event', event ,' in group',group1,' not equal to mean of group',group2)\n",
        "    print('p-value: ', p_value)\n",
        "\n",
        "    if (p_value < alpha):\n",
        "        print('Reject H0 hypothesis')\n",
        "        print('Reject H0 hypothesis means that we can reject the possibility of means between these groups are not different in the ',event,' event.\\n\\n')\n",
        "    else:\n",
        "        print('Can\\'t reject H0 hypothesis')\n",
        "        print('Can\\'t reject H0 hypothesis means that we can\\'t reject the possibility of  means between these groups are different in the ',event,' event.\\n\\n')\n"
      ],
      "execution_count": 47,
      "outputs": []
    },
    {
      "cell_type": "code",
      "metadata": {
        "colab": {
          "base_uri": "https://localhost:8080/"
        },
        "id": "TiMGamCmi7At",
        "outputId": "762c6be3-b3c4-4c97-ddad-c7f2172c7dd5"
      },
      "source": [
        "for i in pivot_aa.event_name.unique():\n",
        "    hypo_check_aa('interface_eu_test','recommender_system_test', i, alpha=0.05)"
      ],
      "execution_count": 48,
      "outputs": [
        {
          "output_type": "stream",
          "text": [
            "H0: μ0 = μ1 \\ mean of event product_cart  in group interface_eu_test  equal to mean of group recommender_system_test\n",
            "H1: μ0 ≠ μ1 \\ mean of event product_cart  in group interface_eu_test  not equal to mean of group recommender_system_test\n",
            "p-value:  0.0504261354146327\n",
            "Can't reject H0 hypothesis\n",
            "Can't reject H0 hypothesis means that we can't reject the possibility of  means between these groups are different in the  product_cart  event.\n",
            "\n",
            "\n",
            "H0: μ0 = μ1 \\ mean of event product_page  in group interface_eu_test  equal to mean of group recommender_system_test\n",
            "H1: μ0 ≠ μ1 \\ mean of event product_page  in group interface_eu_test  not equal to mean of group recommender_system_test\n",
            "p-value:  0.11118264110658949\n",
            "Can't reject H0 hypothesis\n",
            "Can't reject H0 hypothesis means that we can't reject the possibility of  means between these groups are different in the  product_page  event.\n",
            "\n",
            "\n",
            "H0: μ0 = μ1 \\ mean of event purchase  in group interface_eu_test  equal to mean of group recommender_system_test\n",
            "H1: μ0 ≠ μ1 \\ mean of event purchase  in group interface_eu_test  not equal to mean of group recommender_system_test\n",
            "p-value:  0.0012546337356975634\n",
            "Reject H0 hypothesis\n",
            "Reject H0 hypothesis means that we can reject the possibility of means between these groups are not different in the  purchase  event.\n",
            "\n",
            "\n",
            "H0: μ0 = μ1 \\ mean of event login  in group interface_eu_test  equal to mean of group recommender_system_test\n",
            "H1: μ0 ≠ μ1 \\ mean of event login  in group interface_eu_test  not equal to mean of group recommender_system_test\n",
            "p-value:  0.4783903295947143\n",
            "Can't reject H0 hypothesis\n",
            "Can't reject H0 hypothesis means that we can't reject the possibility of  means between these groups are different in the  login  event.\n",
            "\n",
            "\n"
          ],
          "name": "stdout"
        }
      ]
    },
    {
      "cell_type": "markdown",
      "metadata": {
        "id": "fsRbc3hckHN7"
      },
      "source": [
        "summary:\n",
        "- purchase test H0 rejected which is a sign of a potential anomalies within the A/A groups that may caused earlier steps before receive the data\n",
        "- assumption is that one of the A groups received more empty cells than the other which caused distrubtion since purchase and detail may be related\n",
        "- other test H0 can't be rejected which is a good thing (if ignore the purchase for a second) that is an indicator for the data being the same with no differences"
      ]
    },
    {
      "cell_type": "markdown",
      "metadata": {
        "id": "H2nYa_VQjFUD"
      },
      "source": [
        "[Back to ToC](#content1)"
      ]
    },
    {
      "cell_type": "markdown",
      "metadata": {
        "id": "qt0G4YhfAi4m"
      },
      "source": [
        "# Step 4 - Evaluate the A/B test results <a class=\"anchor\" id=\"step4\"></a>\n",
        "alpha = 0.05  "
      ]
    },
    {
      "cell_type": "markdown",
      "metadata": {
        "id": "6H7RCWDyoGH4"
      },
      "source": [
        "-\tWhat can you tell about the A/B test results?\n",
        "-\tUse a z-test to check the statistical difference between the proportions.\n"
      ]
    },
    {
      "cell_type": "code",
      "metadata": {
        "colab": {
          "base_uri": "https://localhost:8080/",
          "height": 195
        },
        "id": "3Jlx8qgaHLQO",
        "outputId": "d82e0af9-fef9-4880-b6a5-6785f6abcb66"
      },
      "source": [
        "# add group to events_ df\n",
        "# first we need to remove dupps inside participants df in order to remain we unique user_id:\n",
        "participants_ = participants.query('ab_test==\"interface_eu_test\"').drop('ab_test',axis=1).drop_duplicates().reset_index().drop('index',axis=1)\n",
        "participants_.head()"
      ],
      "execution_count": 49,
      "outputs": [
        {
          "output_type": "execute_result",
          "data": {
            "text/html": [
              "<div>\n",
              "<style scoped>\n",
              "    .dataframe tbody tr th:only-of-type {\n",
              "        vertical-align: middle;\n",
              "    }\n",
              "\n",
              "    .dataframe tbody tr th {\n",
              "        vertical-align: top;\n",
              "    }\n",
              "\n",
              "    .dataframe thead th {\n",
              "        text-align: right;\n",
              "    }\n",
              "</style>\n",
              "<table border=\"1\" class=\"dataframe\">\n",
              "  <thead>\n",
              "    <tr style=\"text-align: right;\">\n",
              "      <th></th>\n",
              "      <th>user_id</th>\n",
              "      <th>group</th>\n",
              "    </tr>\n",
              "  </thead>\n",
              "  <tbody>\n",
              "    <tr>\n",
              "      <th>0</th>\n",
              "      <td>D4E530F6595A05A3</td>\n",
              "      <td>A</td>\n",
              "    </tr>\n",
              "    <tr>\n",
              "      <th>1</th>\n",
              "      <td>773ECB64E45DEBAB</td>\n",
              "      <td>A</td>\n",
              "    </tr>\n",
              "    <tr>\n",
              "      <th>2</th>\n",
              "      <td>6BCB0F33D3BAB8C2</td>\n",
              "      <td>A</td>\n",
              "    </tr>\n",
              "    <tr>\n",
              "      <th>3</th>\n",
              "      <td>AABA4219186465C9</td>\n",
              "      <td>A</td>\n",
              "    </tr>\n",
              "    <tr>\n",
              "      <th>4</th>\n",
              "      <td>2BA8FA8754D1FE50</td>\n",
              "      <td>B</td>\n",
              "    </tr>\n",
              "  </tbody>\n",
              "</table>\n",
              "</div>"
            ],
            "text/plain": [
              "            user_id group\n",
              "0  D4E530F6595A05A3     A\n",
              "1  773ECB64E45DEBAB     A\n",
              "2  6BCB0F33D3BAB8C2     A\n",
              "3  AABA4219186465C9     A\n",
              "4  2BA8FA8754D1FE50     B"
            ]
          },
          "metadata": {
            "tags": []
          },
          "execution_count": 49
        }
      ]
    },
    {
      "cell_type": "code",
      "metadata": {
        "colab": {
          "base_uri": "https://localhost:8080/",
          "height": 195
        },
        "id": "v_1dE3LORCyz",
        "outputId": "a3d255e9-6bf6-4cfc-881e-ae207ea2fa7b"
      },
      "source": [
        "# add group to events_\n",
        "events_ = events_.merge(participants_,on='user_id',how='inner')\n",
        "events_.tail()"
      ],
      "execution_count": 50,
      "outputs": [
        {
          "output_type": "execute_result",
          "data": {
            "text/html": [
              "<div>\n",
              "<style scoped>\n",
              "    .dataframe tbody tr th:only-of-type {\n",
              "        vertical-align: middle;\n",
              "    }\n",
              "\n",
              "    .dataframe tbody tr th {\n",
              "        vertical-align: top;\n",
              "    }\n",
              "\n",
              "    .dataframe thead th {\n",
              "        text-align: right;\n",
              "    }\n",
              "</style>\n",
              "<table border=\"1\" class=\"dataframe\">\n",
              "  <thead>\n",
              "    <tr style=\"text-align: right;\">\n",
              "      <th></th>\n",
              "      <th>user_id</th>\n",
              "      <th>event_dt</th>\n",
              "      <th>event_name</th>\n",
              "      <th>details</th>\n",
              "      <th>date</th>\n",
              "      <th>group</th>\n",
              "    </tr>\n",
              "  </thead>\n",
              "  <tbody>\n",
              "    <tr>\n",
              "      <th>81922</th>\n",
              "      <td>40076B77CFC12421</td>\n",
              "      <td>2020-12-24 04:21:53</td>\n",
              "      <td>login</td>\n",
              "      <td>NaN</td>\n",
              "      <td>2020-12-24</td>\n",
              "      <td>B</td>\n",
              "    </tr>\n",
              "    <tr>\n",
              "      <th>81923</th>\n",
              "      <td>40076B77CFC12421</td>\n",
              "      <td>2020-12-25 15:37:05</td>\n",
              "      <td>login</td>\n",
              "      <td>NaN</td>\n",
              "      <td>2020-12-25</td>\n",
              "      <td>B</td>\n",
              "    </tr>\n",
              "    <tr>\n",
              "      <th>81924</th>\n",
              "      <td>40076B77CFC12421</td>\n",
              "      <td>2020-12-26 03:50:17</td>\n",
              "      <td>login</td>\n",
              "      <td>NaN</td>\n",
              "      <td>2020-12-26</td>\n",
              "      <td>B</td>\n",
              "    </tr>\n",
              "    <tr>\n",
              "      <th>81925</th>\n",
              "      <td>301C602AF78BABAD</td>\n",
              "      <td>2020-12-23 10:39:25</td>\n",
              "      <td>login</td>\n",
              "      <td>NaN</td>\n",
              "      <td>2020-12-23</td>\n",
              "      <td>B</td>\n",
              "    </tr>\n",
              "    <tr>\n",
              "      <th>81926</th>\n",
              "      <td>85500F5DD194ADBA</td>\n",
              "      <td>2020-12-23 09:33:24</td>\n",
              "      <td>login</td>\n",
              "      <td>NaN</td>\n",
              "      <td>2020-12-23</td>\n",
              "      <td>B</td>\n",
              "    </tr>\n",
              "  </tbody>\n",
              "</table>\n",
              "</div>"
            ],
            "text/plain": [
              "                user_id            event_dt  ...       date  group\n",
              "81922  40076B77CFC12421 2020-12-24 04:21:53  ... 2020-12-24      B\n",
              "81923  40076B77CFC12421 2020-12-25 15:37:05  ... 2020-12-25      B\n",
              "81924  40076B77CFC12421 2020-12-26 03:50:17  ... 2020-12-26      B\n",
              "81925  301C602AF78BABAD 2020-12-23 10:39:25  ... 2020-12-23      B\n",
              "81926  85500F5DD194ADBA 2020-12-23 09:33:24  ... 2020-12-23      B\n",
              "\n",
              "[5 rows x 6 columns]"
            ]
          },
          "metadata": {
            "tags": []
          },
          "execution_count": 50
        }
      ]
    },
    {
      "cell_type": "code",
      "metadata": {
        "colab": {
          "base_uri": "https://localhost:8080/"
        },
        "id": "-_G74LLyhj9o",
        "outputId": "b7182b6e-d76b-4362-fca1-7b575986e74d"
      },
      "source": [
        "# no NaN check:\n",
        "events_['group'].isna().sum()"
      ],
      "execution_count": 51,
      "outputs": [
        {
          "output_type": "execute_result",
          "data": {
            "text/plain": [
              "0"
            ]
          },
          "metadata": {
            "tags": []
          },
          "execution_count": 51
        }
      ]
    },
    {
      "cell_type": "code",
      "metadata": {
        "id": "ucpZQEk-VK2U"
      },
      "source": [
        "# create pivot with all events for each group\n",
        "pivot = events_.pivot_table(index='event_name', values='user_id', columns='group', aggfunc=lambda x: x.nunique())"
      ],
      "execution_count": 52,
      "outputs": []
    },
    {
      "cell_type": "code",
      "metadata": {
        "id": "hjhXRkZ0XFyQ"
      },
      "source": [
        "# handle CategoricalIndex issue:\n",
        "pivot.columns = pd.Index(list(pivot.columns))"
      ],
      "execution_count": 53,
      "outputs": []
    },
    {
      "cell_type": "code",
      "metadata": {
        "id": "UR_vw1v_VKr7"
      },
      "source": [
        "# now reset_index:\n",
        "pivot.reset_index(inplace=True)"
      ],
      "execution_count": 54,
      "outputs": []
    },
    {
      "cell_type": "code",
      "metadata": {
        "colab": {
          "base_uri": "https://localhost:8080/",
          "height": 166
        },
        "id": "be6o8KZGXLBx",
        "outputId": "aa5eeac8-7a3d-4201-e3bd-e80759c09a6b"
      },
      "source": [
        "pivot"
      ],
      "execution_count": 55,
      "outputs": [
        {
          "output_type": "execute_result",
          "data": {
            "text/html": [
              "<div>\n",
              "<style scoped>\n",
              "    .dataframe tbody tr th:only-of-type {\n",
              "        vertical-align: middle;\n",
              "    }\n",
              "\n",
              "    .dataframe tbody tr th {\n",
              "        vertical-align: top;\n",
              "    }\n",
              "\n",
              "    .dataframe thead th {\n",
              "        text-align: right;\n",
              "    }\n",
              "</style>\n",
              "<table border=\"1\" class=\"dataframe\">\n",
              "  <thead>\n",
              "    <tr style=\"text-align: right;\">\n",
              "      <th></th>\n",
              "      <th>event_name</th>\n",
              "      <th>A</th>\n",
              "      <th>B</th>\n",
              "    </tr>\n",
              "  </thead>\n",
              "  <tbody>\n",
              "    <tr>\n",
              "      <th>0</th>\n",
              "      <td>product_cart</td>\n",
              "      <td>1756</td>\n",
              "      <td>1812</td>\n",
              "    </tr>\n",
              "    <tr>\n",
              "      <th>1</th>\n",
              "      <td>product_page</td>\n",
              "      <td>3639</td>\n",
              "      <td>3527</td>\n",
              "    </tr>\n",
              "    <tr>\n",
              "      <th>2</th>\n",
              "      <td>purchase</td>\n",
              "      <td>1931</td>\n",
              "      <td>1782</td>\n",
              "    </tr>\n",
              "    <tr>\n",
              "      <th>3</th>\n",
              "      <td>login</td>\n",
              "      <td>5466</td>\n",
              "      <td>5383</td>\n",
              "    </tr>\n",
              "  </tbody>\n",
              "</table>\n",
              "</div>"
            ],
            "text/plain": [
              "     event_name     A     B\n",
              "0  product_cart  1756  1812\n",
              "1  product_page  3639  3527\n",
              "2      purchase  1931  1782\n",
              "3         login  5466  5383"
            ]
          },
          "metadata": {
            "tags": []
          },
          "execution_count": 55
        }
      ]
    },
    {
      "cell_type": "code",
      "metadata": {
        "id": "Y-npp8bkXsgJ"
      },
      "source": [
        "# make function to use z_score test:\n",
        "def hypo_check_ab(group1,group2, event, alpha=0.05):\n",
        "    # let's start with successes, using \n",
        "    successes1=pivot[pivot['event_name']==event][group1].iloc[0]\n",
        "    successes2=pivot[pivot['event_name']==event][group2].iloc[0]\n",
        "    \n",
        "    # for trials we can go back to  events_\n",
        "    trials1=events_[events_['group']==group1]['user_id'].nunique()\n",
        "    trials2=events_[events_['group']==group2]['user_id'].nunique()\n",
        "    \n",
        "    # proportion for success in the first group\n",
        "    p1 = successes1/trials1\n",
        "\n",
        "    # proportion for success in the second group\n",
        "    p2 = successes2/trials2\n",
        "\n",
        "    # proportion in a combined dataset\n",
        "    p_combined = (successes1 + successes2) / (trials1 + trials2)\n",
        "\n",
        "  \n",
        "    difference = p1 - p2\n",
        "    \n",
        "    # z score:\n",
        "    z_score = difference / math.sqrt(p_combined * (1 - p_combined) * (1/trials1 + 1/trials2))\n",
        "\n",
        "  \n",
        "    distr = stats.norm(0, 1) \n",
        "\n",
        "\n",
        "    p_value = (1 - distr.cdf(abs(z_score))) * 2\n",
        "\n",
        "    \n",
        "    print('H0: μ0 = μ1 \\ mean of event', event ,' in group',group1,' equal to mean of group',group2)\n",
        "\n",
        "    print('H1: μ0 ≠ μ1 \\ mean of event', event ,' in group',group1,' not equal to mean of group',group2)\n",
        "    print('p-value: ', p_value)\n",
        "\n",
        "    if (p_value < alpha):\n",
        "        print('Reject H0 hypothesis')\n",
        "        print('Reject H0 hypothesis means that we can reject the possibility of means between these groups are not different in the ',event,' event.\\n\\n')\n",
        "    else:\n",
        "        print('Can\\'t reject H0 hypothesis')\n",
        "        print('Can\\'t reject H0 hypothesis means that we can\\'t reject the possibility of  means between these groups are different in the ',event,' event.\\n\\n')\n"
      ],
      "execution_count": 56,
      "outputs": []
    },
    {
      "cell_type": "code",
      "metadata": {
        "colab": {
          "base_uri": "https://localhost:8080/"
        },
        "id": "dhrcVP4WXsdm",
        "outputId": "46a30b48-1795-4419-950f-d5a1e1747acf"
      },
      "source": [
        "for i in pivot.event_name.unique():\n",
        "    hypo_check_ab('A','B', i, alpha=0.05)"
      ],
      "execution_count": 57,
      "outputs": [
        {
          "output_type": "stream",
          "text": [
            "H0: μ0 = μ1 \\ mean of event product_cart  in group A  equal to mean of group B\n",
            "H1: μ0 ≠ μ1 \\ mean of event product_cart  in group A  not equal to mean of group B\n",
            "p-value:  0.08746918913258162\n",
            "Can't reject H0 hypothesis\n",
            "Can't reject H0 hypothesis means that we can't reject the possibility of  means between these groups are different in the  product_cart  event.\n",
            "\n",
            "\n",
            "H0: μ0 = μ1 \\ mean of event product_page  in group A  equal to mean of group B\n",
            "H1: μ0 ≠ μ1 \\ mean of event product_page  in group A  not equal to mean of group B\n",
            "p-value:  0.2518419682737163\n",
            "Can't reject H0 hypothesis\n",
            "Can't reject H0 hypothesis means that we can't reject the possibility of  means between these groups are different in the  product_page  event.\n",
            "\n",
            "\n",
            "H0: μ0 = μ1 \\ mean of event purchase  in group A  equal to mean of group B\n",
            "H1: μ0 ≠ μ1 \\ mean of event purchase  in group A  not equal to mean of group B\n",
            "p-value:  0.014959088807690257\n",
            "Reject H0 hypothesis\n",
            "Reject H0 hypothesis means that we can reject the possibility of means between these groups are not different in the  purchase  event.\n",
            "\n",
            "\n",
            "H0: μ0 = μ1 \\ mean of event login  in group A  equal to mean of group B\n",
            "H1: μ0 ≠ μ1 \\ mean of event login  in group A  not equal to mean of group B\n",
            "p-value:  0.32103485047255065\n",
            "Can't reject H0 hypothesis\n",
            "Can't reject H0 hypothesis means that we can't reject the possibility of  means between these groups are different in the  login  event.\n",
            "\n",
            "\n"
          ],
          "name": "stdout"
        }
      ]
    },
    {
      "cell_type": "markdown",
      "metadata": {
        "id": "b9xsqME9eZHS"
      },
      "source": [
        "summary<p>\n",
        "The results that come up with z_score test are different between the events:<p>\n",
        "- H0 hypothesis were rejected between groups A and B in product_page & purchase event which mean that the statistical differs from each other which indicate that a change in users behavior has changed\n",
        "- The other test we were unable to reject the H0 hypothesis meaning that no sgnifiacnt change between the events between A and B"
      ]
    },
    {
      "cell_type": "markdown",
      "metadata": {
        "id": "QrEhIMV4jFUG"
      },
      "source": [
        "[Back to ToC](#content1)"
      ]
    },
    {
      "cell_type": "markdown",
      "metadata": {
        "id": "dBVDS4DrmtFP"
      },
      "source": [
        "# Step 5 - Conclusions of EDA stage and the A/B test results <a class=\"anchor\" id=\"step5\"></a>"
      ]
    },
    {
      "cell_type": "markdown",
      "metadata": {
        "id": "xtr_fn2cxzNB"
      },
      "source": [
        "After making first adjustments and cosmetic changes of the data (dtype e.g) we got into EDA process which involves more investigation and conclusions on the data sets. One of the most important things is to figure what is neccesary and prioritize it.<p>\n",
        "First we started with the funnel process that indroduced us to the changes between the stages of the user in the webstie. We aware of steps that a users takes till makes a purchse and somethimes an improvemnts should be done to make better results<p>\n",
        "In this test user segregation was made per each step that means if a user present in both sample they were removed before the A/B | A/A test and not in the EDA process<p>\n",
        "In stacked bars graph we noticed that an improvements of volume of users were made which may increase the conversion following that or at lease we can expect a growth in revenue because of data. So if reffering to first 14 days we undoubtatly saw traffic increased<p>\n",
        "In our A/A|A/B tests we receievd contradicting results in a first sight while a rejected h0 hypothesis of A/A test may imply to a situation where a data were not collected in stage before the analysis<p>\n",
        "if looking at A/B test we had a couple of h0 rejected which mean that the groups are differ from each other on some specific steps or in total and may indicate that test had good change of providing a change to a firms traffic if applied"
      ]
    }
  ]
}