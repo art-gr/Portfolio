{
  "nbformat": 4,
  "nbformat_minor": 0,
  "metadata": {
    "colab": {
      "name": "Business_decision 2nd review.ipynb",
      "provenance": [],
      "collapsed_sections": [],
      "toc_visible": true
    },
    "kernelspec": {
      "display_name": "Python 3",
      "language": "python",
      "name": "python3"
    },
    "language_info": {
      "codemirror_mode": {
        "name": "ipython",
        "version": 3
      },
      "file_extension": ".py",
      "mimetype": "text/x-python",
      "name": "python",
      "nbconvert_exporter": "python",
      "pygments_lexer": "ipython3",
      "version": "3.7.6"
    }
  },
  "cells": [
    {
      "cell_type": "markdown",
      "metadata": {
        "id": "3JiMuJS9R_Fc"
      },
      "source": [
        "# Business Decisions\r\n",
        "General project"
      ]
    },
    {
      "cell_type": "markdown",
      "metadata": {
        "id": "hPHFp4eXx15g"
      },
      "source": [
        "# Import liabraries & create DataFrames to csv files\n"
      ]
    },
    {
      "cell_type": "code",
      "metadata": {
        "id": "VCq_VeN94p4r"
      },
      "source": [
        "import pandas as pd\n",
        "import numpy as np\n",
        "import matplotlib.pyplot as plt\n",
        "import scipy.stats as stats\n",
        "%matplotlib inline"
      ],
      "execution_count": 1,
      "outputs": []
    },
    {
      "cell_type": "code",
      "metadata": {
        "id": "PENWumYO-D5r"
      },
      "source": [
        "hypotheses = pd.read_csv('/content/hypotheses_us.csv',sep=';')\n",
        "# hypotheses = pd.read_csv('/datasets/hypotheses_us.csv',sep=';')\n",
        "\n",
        "orders = pd.read_csv('/content/orders_us.csv',parse_dates=['date'])\n",
        "# orders = pd.read_csv('/datasets/orders_us.csv',parse_dates=['date'])\n",
        "\n",
        "visits = pd.read_csv('/content/visits_us.csv',parse_dates=['date'])\n",
        "# visits = pd.read_csv('/datasets/visits_us.csv',parse_dates=['date'])\n",
        "# pd.set_option('max_colwidth', None)"
      ],
      "execution_count": 2,
      "outputs": []
    },
    {
      "cell_type": "markdown",
      "metadata": {
        "id": "pdet3v_4yVtQ"
      },
      "source": [
        "# Part 1. Prioritizing Hypotheses\n",
        "The file hypotheses_us.csv contains nine hypotheses on boosting an online store's revenue with Reach, Impact, Confidence, and Effort specified for each.\n"
      ]
    },
    {
      "cell_type": "code",
      "metadata": {
        "id": "K-JX-UaPyoDg",
        "colab": {
          "base_uri": "https://localhost:8080/",
          "height": 316
        },
        "outputId": "791fe7c8-8e29-46df-bc12-961cc74032c0"
      },
      "source": [
        "# quick look into hypotheses frame:\n",
        "hypotheses"
      ],
      "execution_count": 3,
      "outputs": [
        {
          "output_type": "execute_result",
          "data": {
            "text/html": [
              "<div>\n",
              "<style scoped>\n",
              "    .dataframe tbody tr th:only-of-type {\n",
              "        vertical-align: middle;\n",
              "    }\n",
              "\n",
              "    .dataframe tbody tr th {\n",
              "        vertical-align: top;\n",
              "    }\n",
              "\n",
              "    .dataframe thead th {\n",
              "        text-align: right;\n",
              "    }\n",
              "</style>\n",
              "<table border=\"1\" class=\"dataframe\">\n",
              "  <thead>\n",
              "    <tr style=\"text-align: right;\">\n",
              "      <th></th>\n",
              "      <th>Hypothesis</th>\n",
              "      <th>Reach</th>\n",
              "      <th>Impact</th>\n",
              "      <th>Confidence</th>\n",
              "      <th>Effort</th>\n",
              "    </tr>\n",
              "  </thead>\n",
              "  <tbody>\n",
              "    <tr>\n",
              "      <th>0</th>\n",
              "      <td>Add two new channels for attracting traffic. T...</td>\n",
              "      <td>3</td>\n",
              "      <td>10</td>\n",
              "      <td>8</td>\n",
              "      <td>6</td>\n",
              "    </tr>\n",
              "    <tr>\n",
              "      <th>1</th>\n",
              "      <td>Launch your own delivery service. This will sh...</td>\n",
              "      <td>2</td>\n",
              "      <td>5</td>\n",
              "      <td>4</td>\n",
              "      <td>10</td>\n",
              "    </tr>\n",
              "    <tr>\n",
              "      <th>2</th>\n",
              "      <td>Add product recommendation blocks to the store...</td>\n",
              "      <td>8</td>\n",
              "      <td>3</td>\n",
              "      <td>7</td>\n",
              "      <td>3</td>\n",
              "    </tr>\n",
              "    <tr>\n",
              "      <th>3</th>\n",
              "      <td>Change the category structure. This will incre...</td>\n",
              "      <td>8</td>\n",
              "      <td>3</td>\n",
              "      <td>3</td>\n",
              "      <td>8</td>\n",
              "    </tr>\n",
              "    <tr>\n",
              "      <th>4</th>\n",
              "      <td>Change the background color on the main page. ...</td>\n",
              "      <td>3</td>\n",
              "      <td>1</td>\n",
              "      <td>1</td>\n",
              "      <td>1</td>\n",
              "    </tr>\n",
              "    <tr>\n",
              "      <th>5</th>\n",
              "      <td>Add a customer review page. This will increase...</td>\n",
              "      <td>3</td>\n",
              "      <td>2</td>\n",
              "      <td>2</td>\n",
              "      <td>3</td>\n",
              "    </tr>\n",
              "    <tr>\n",
              "      <th>6</th>\n",
              "      <td>Show banners with current offers and sales on ...</td>\n",
              "      <td>5</td>\n",
              "      <td>3</td>\n",
              "      <td>8</td>\n",
              "      <td>3</td>\n",
              "    </tr>\n",
              "    <tr>\n",
              "      <th>7</th>\n",
              "      <td>Add a subscription form to all the main pages....</td>\n",
              "      <td>10</td>\n",
              "      <td>7</td>\n",
              "      <td>8</td>\n",
              "      <td>5</td>\n",
              "    </tr>\n",
              "    <tr>\n",
              "      <th>8</th>\n",
              "      <td>Launch a promotion that gives users discounts ...</td>\n",
              "      <td>1</td>\n",
              "      <td>9</td>\n",
              "      <td>9</td>\n",
              "      <td>5</td>\n",
              "    </tr>\n",
              "  </tbody>\n",
              "</table>\n",
              "</div>"
            ],
            "text/plain": [
              "                                          Hypothesis  Reach  ...  Confidence  Effort\n",
              "0  Add two new channels for attracting traffic. T...      3  ...           8       6\n",
              "1  Launch your own delivery service. This will sh...      2  ...           4      10\n",
              "2  Add product recommendation blocks to the store...      8  ...           7       3\n",
              "3  Change the category structure. This will incre...      8  ...           3       8\n",
              "4  Change the background color on the main page. ...      3  ...           1       1\n",
              "5  Add a customer review page. This will increase...      3  ...           2       3\n",
              "6  Show banners with current offers and sales on ...      5  ...           8       3\n",
              "7  Add a subscription form to all the main pages....     10  ...           8       5\n",
              "8  Launch a promotion that gives users discounts ...      1  ...           9       5\n",
              "\n",
              "[9 rows x 5 columns]"
            ]
          },
          "metadata": {
            "tags": []
          },
          "execution_count": 3
        }
      ]
    },
    {
      "cell_type": "markdown",
      "metadata": {
        "id": "TwcsxpYZyewN"
      },
      "source": [
        "__•\tApply the ICE framework to prioritize hypotheses. Sort them in descending order of priority.__"
      ]
    },
    {
      "cell_type": "markdown",
      "metadata": {
        "id": "I2Ien6F8zoo-"
      },
      "source": [
        "reminder to ICE formula:\n",
        "ICE = impact * confidence / efforts"
      ]
    },
    {
      "cell_type": "code",
      "metadata": {
        "id": "FPyhU9ueyki9"
      },
      "source": [
        "# new Ice col:\n",
        "hypotheses['Ice'] = hypotheses['Impact'] * hypotheses['Confidence'] / hypotheses['Effort']"
      ],
      "execution_count": 4,
      "outputs": []
    },
    {
      "cell_type": "code",
      "metadata": {
        "id": "-Gxdn5_F460l",
        "colab": {
          "base_uri": "https://localhost:8080/",
          "height": 316
        },
        "outputId": "5da61dc5-7b06-4898-cdff-89a6820b1975"
      },
      "source": [
        "hypotheses.sort_values(by='Ice',ascending=False)"
      ],
      "execution_count": 5,
      "outputs": [
        {
          "output_type": "execute_result",
          "data": {
            "text/html": [
              "<div>\n",
              "<style scoped>\n",
              "    .dataframe tbody tr th:only-of-type {\n",
              "        vertical-align: middle;\n",
              "    }\n",
              "\n",
              "    .dataframe tbody tr th {\n",
              "        vertical-align: top;\n",
              "    }\n",
              "\n",
              "    .dataframe thead th {\n",
              "        text-align: right;\n",
              "    }\n",
              "</style>\n",
              "<table border=\"1\" class=\"dataframe\">\n",
              "  <thead>\n",
              "    <tr style=\"text-align: right;\">\n",
              "      <th></th>\n",
              "      <th>Hypothesis</th>\n",
              "      <th>Reach</th>\n",
              "      <th>Impact</th>\n",
              "      <th>Confidence</th>\n",
              "      <th>Effort</th>\n",
              "      <th>Ice</th>\n",
              "    </tr>\n",
              "  </thead>\n",
              "  <tbody>\n",
              "    <tr>\n",
              "      <th>8</th>\n",
              "      <td>Launch a promotion that gives users discounts ...</td>\n",
              "      <td>1</td>\n",
              "      <td>9</td>\n",
              "      <td>9</td>\n",
              "      <td>5</td>\n",
              "      <td>16.200000</td>\n",
              "    </tr>\n",
              "    <tr>\n",
              "      <th>0</th>\n",
              "      <td>Add two new channels for attracting traffic. T...</td>\n",
              "      <td>3</td>\n",
              "      <td>10</td>\n",
              "      <td>8</td>\n",
              "      <td>6</td>\n",
              "      <td>13.333333</td>\n",
              "    </tr>\n",
              "    <tr>\n",
              "      <th>7</th>\n",
              "      <td>Add a subscription form to all the main pages....</td>\n",
              "      <td>10</td>\n",
              "      <td>7</td>\n",
              "      <td>8</td>\n",
              "      <td>5</td>\n",
              "      <td>11.200000</td>\n",
              "    </tr>\n",
              "    <tr>\n",
              "      <th>6</th>\n",
              "      <td>Show banners with current offers and sales on ...</td>\n",
              "      <td>5</td>\n",
              "      <td>3</td>\n",
              "      <td>8</td>\n",
              "      <td>3</td>\n",
              "      <td>8.000000</td>\n",
              "    </tr>\n",
              "    <tr>\n",
              "      <th>2</th>\n",
              "      <td>Add product recommendation blocks to the store...</td>\n",
              "      <td>8</td>\n",
              "      <td>3</td>\n",
              "      <td>7</td>\n",
              "      <td>3</td>\n",
              "      <td>7.000000</td>\n",
              "    </tr>\n",
              "    <tr>\n",
              "      <th>1</th>\n",
              "      <td>Launch your own delivery service. This will sh...</td>\n",
              "      <td>2</td>\n",
              "      <td>5</td>\n",
              "      <td>4</td>\n",
              "      <td>10</td>\n",
              "      <td>2.000000</td>\n",
              "    </tr>\n",
              "    <tr>\n",
              "      <th>5</th>\n",
              "      <td>Add a customer review page. This will increase...</td>\n",
              "      <td>3</td>\n",
              "      <td>2</td>\n",
              "      <td>2</td>\n",
              "      <td>3</td>\n",
              "      <td>1.333333</td>\n",
              "    </tr>\n",
              "    <tr>\n",
              "      <th>3</th>\n",
              "      <td>Change the category structure. This will incre...</td>\n",
              "      <td>8</td>\n",
              "      <td>3</td>\n",
              "      <td>3</td>\n",
              "      <td>8</td>\n",
              "      <td>1.125000</td>\n",
              "    </tr>\n",
              "    <tr>\n",
              "      <th>4</th>\n",
              "      <td>Change the background color on the main page. ...</td>\n",
              "      <td>3</td>\n",
              "      <td>1</td>\n",
              "      <td>1</td>\n",
              "      <td>1</td>\n",
              "      <td>1.000000</td>\n",
              "    </tr>\n",
              "  </tbody>\n",
              "</table>\n",
              "</div>"
            ],
            "text/plain": [
              "                                          Hypothesis  Reach  ...  Effort        Ice\n",
              "8  Launch a promotion that gives users discounts ...      1  ...       5  16.200000\n",
              "0  Add two new channels for attracting traffic. T...      3  ...       6  13.333333\n",
              "7  Add a subscription form to all the main pages....     10  ...       5  11.200000\n",
              "6  Show banners with current offers and sales on ...      5  ...       3   8.000000\n",
              "2  Add product recommendation blocks to the store...      8  ...       3   7.000000\n",
              "1  Launch your own delivery service. This will sh...      2  ...      10   2.000000\n",
              "5  Add a customer review page. This will increase...      3  ...       3   1.333333\n",
              "3  Change the category structure. This will incre...      8  ...       8   1.125000\n",
              "4  Change the background color on the main page. ...      3  ...       1   1.000000\n",
              "\n",
              "[9 rows x 6 columns]"
            ]
          },
          "metadata": {
            "tags": []
          },
          "execution_count": 5
        }
      ]
    },
    {
      "cell_type": "markdown",
      "metadata": {
        "id": "F7weApZSyf3j"
      },
      "source": [
        "__•\tApply the RICE framework to prioritize hypotheses. Sort them in descending order of priority.__"
      ]
    },
    {
      "cell_type": "markdown",
      "metadata": {
        "id": "gbuaCTj25Xo6"
      },
      "source": [
        "reminder to RICE formula:\n",
        "RICE = (reach * impact * confidence) / efforts"
      ]
    },
    {
      "cell_type": "code",
      "metadata": {
        "id": "WXtj1Wqr5r5S"
      },
      "source": [
        "# new Rice col:\n",
        "hypotheses['Rice'] = hypotheses['Reach'] * hypotheses['Impact'] * hypotheses['Confidence'] / hypotheses['Effort']"
      ],
      "execution_count": 6,
      "outputs": []
    },
    {
      "cell_type": "code",
      "metadata": {
        "id": "H5JudTfM548X",
        "colab": {
          "base_uri": "https://localhost:8080/",
          "height": 316
        },
        "outputId": "4fc133be-00f5-41e3-8d9c-1896f6e75fbc"
      },
      "source": [
        "hypotheses.sort_values(by='Rice',ascending=False)"
      ],
      "execution_count": 7,
      "outputs": [
        {
          "output_type": "execute_result",
          "data": {
            "text/html": [
              "<div>\n",
              "<style scoped>\n",
              "    .dataframe tbody tr th:only-of-type {\n",
              "        vertical-align: middle;\n",
              "    }\n",
              "\n",
              "    .dataframe tbody tr th {\n",
              "        vertical-align: top;\n",
              "    }\n",
              "\n",
              "    .dataframe thead th {\n",
              "        text-align: right;\n",
              "    }\n",
              "</style>\n",
              "<table border=\"1\" class=\"dataframe\">\n",
              "  <thead>\n",
              "    <tr style=\"text-align: right;\">\n",
              "      <th></th>\n",
              "      <th>Hypothesis</th>\n",
              "      <th>Reach</th>\n",
              "      <th>Impact</th>\n",
              "      <th>Confidence</th>\n",
              "      <th>Effort</th>\n",
              "      <th>Ice</th>\n",
              "      <th>Rice</th>\n",
              "    </tr>\n",
              "  </thead>\n",
              "  <tbody>\n",
              "    <tr>\n",
              "      <th>7</th>\n",
              "      <td>Add a subscription form to all the main pages....</td>\n",
              "      <td>10</td>\n",
              "      <td>7</td>\n",
              "      <td>8</td>\n",
              "      <td>5</td>\n",
              "      <td>11.200000</td>\n",
              "      <td>112.0</td>\n",
              "    </tr>\n",
              "    <tr>\n",
              "      <th>2</th>\n",
              "      <td>Add product recommendation blocks to the store...</td>\n",
              "      <td>8</td>\n",
              "      <td>3</td>\n",
              "      <td>7</td>\n",
              "      <td>3</td>\n",
              "      <td>7.000000</td>\n",
              "      <td>56.0</td>\n",
              "    </tr>\n",
              "    <tr>\n",
              "      <th>0</th>\n",
              "      <td>Add two new channels for attracting traffic. T...</td>\n",
              "      <td>3</td>\n",
              "      <td>10</td>\n",
              "      <td>8</td>\n",
              "      <td>6</td>\n",
              "      <td>13.333333</td>\n",
              "      <td>40.0</td>\n",
              "    </tr>\n",
              "    <tr>\n",
              "      <th>6</th>\n",
              "      <td>Show banners with current offers and sales on ...</td>\n",
              "      <td>5</td>\n",
              "      <td>3</td>\n",
              "      <td>8</td>\n",
              "      <td>3</td>\n",
              "      <td>8.000000</td>\n",
              "      <td>40.0</td>\n",
              "    </tr>\n",
              "    <tr>\n",
              "      <th>8</th>\n",
              "      <td>Launch a promotion that gives users discounts ...</td>\n",
              "      <td>1</td>\n",
              "      <td>9</td>\n",
              "      <td>9</td>\n",
              "      <td>5</td>\n",
              "      <td>16.200000</td>\n",
              "      <td>16.2</td>\n",
              "    </tr>\n",
              "    <tr>\n",
              "      <th>3</th>\n",
              "      <td>Change the category structure. This will incre...</td>\n",
              "      <td>8</td>\n",
              "      <td>3</td>\n",
              "      <td>3</td>\n",
              "      <td>8</td>\n",
              "      <td>1.125000</td>\n",
              "      <td>9.0</td>\n",
              "    </tr>\n",
              "    <tr>\n",
              "      <th>1</th>\n",
              "      <td>Launch your own delivery service. This will sh...</td>\n",
              "      <td>2</td>\n",
              "      <td>5</td>\n",
              "      <td>4</td>\n",
              "      <td>10</td>\n",
              "      <td>2.000000</td>\n",
              "      <td>4.0</td>\n",
              "    </tr>\n",
              "    <tr>\n",
              "      <th>5</th>\n",
              "      <td>Add a customer review page. This will increase...</td>\n",
              "      <td>3</td>\n",
              "      <td>2</td>\n",
              "      <td>2</td>\n",
              "      <td>3</td>\n",
              "      <td>1.333333</td>\n",
              "      <td>4.0</td>\n",
              "    </tr>\n",
              "    <tr>\n",
              "      <th>4</th>\n",
              "      <td>Change the background color on the main page. ...</td>\n",
              "      <td>3</td>\n",
              "      <td>1</td>\n",
              "      <td>1</td>\n",
              "      <td>1</td>\n",
              "      <td>1.000000</td>\n",
              "      <td>3.0</td>\n",
              "    </tr>\n",
              "  </tbody>\n",
              "</table>\n",
              "</div>"
            ],
            "text/plain": [
              "                                          Hypothesis  Reach  ...        Ice   Rice\n",
              "7  Add a subscription form to all the main pages....     10  ...  11.200000  112.0\n",
              "2  Add product recommendation blocks to the store...      8  ...   7.000000   56.0\n",
              "0  Add two new channels for attracting traffic. T...      3  ...  13.333333   40.0\n",
              "6  Show banners with current offers and sales on ...      5  ...   8.000000   40.0\n",
              "8  Launch a promotion that gives users discounts ...      1  ...  16.200000   16.2\n",
              "3  Change the category structure. This will incre...      8  ...   1.125000    9.0\n",
              "1  Launch your own delivery service. This will sh...      2  ...   2.000000    4.0\n",
              "5  Add a customer review page. This will increase...      3  ...   1.333333    4.0\n",
              "4  Change the background color on the main page. ...      3  ...   1.000000    3.0\n",
              "\n",
              "[9 rows x 7 columns]"
            ]
          },
          "metadata": {
            "tags": []
          },
          "execution_count": 7
        }
      ]
    },
    {
      "cell_type": "markdown",
      "metadata": {
        "id": "JcjE5Dbxygnh"
      },
      "source": [
        "__•\tShow how the prioritization of hypotheses changes when you use RICE instead of ICE. Provide an explanation for the changes.__"
      ]
    },
    {
      "cell_type": "code",
      "metadata": {
        "id": "TVM2hH1o9GyT",
        "colab": {
          "base_uri": "https://localhost:8080/",
          "height": 980
        },
        "outputId": "7d64b469-6d4f-490c-cca7-7acd26bb6ca0"
      },
      "source": [
        "fig = plt.figure(figsize=(19,9),facecolor='white')\n",
        "\n",
        "ax = fig.add_subplot(111)\n",
        "ax2 = ax.twinx() \n",
        "\n",
        "width = 0.4\n",
        "hypotheses = hypotheses.sort_values(by='Ice',ascending=False)\n",
        "hypotheses.set_index('Hypothesis').Ice.plot(kind='bar', color='grey', ax=ax, width=width, position=1,label='Ice')\n",
        "hypotheses.set_index('Hypothesis').Rice.plot(kind='bar', color='orange', ax=ax2, width=width, position=0,label='Rice')\n",
        "\n",
        "plt.title('Rice and Ice bar plot hypothesis',fontdict={'size':16})\n",
        "ax.set_ylabel('Ice')\n",
        "ax2.set_ylabel('Rice')\n",
        "ax.legend()\n",
        "ax2.legend(loc=7)\n",
        "plt.show()"
      ],
      "execution_count": 8,
      "outputs": [
        {
          "output_type": "display_data",
          "data": {
            "image/png": "[encoded data removed]",
            "text/plain": [
              "<Figure size 1368x648 with 2 Axes>"
            ]
          },
          "metadata": {
            "tags": []
          }
        }
      ]
    },
    {
      "cell_type": "code",
      "metadata": {
        "colab": {
          "base_uri": "https://localhost:8080/",
          "height": 308
        },
        "id": "r8RE-eCQtzd9",
        "outputId": "f4209cce-ee59-4637-b889-ad019d3355f0"
      },
      "source": [
        "# Create figure and axes for Ice & Rice\n",
        "fig,axt = plt.subplots(1)\n",
        "\n",
        "# Plot Rice on axt\n",
        "hypotheses.set_index('Hypothesis').Rice.plot.barh(color='red',edgecolor='k',align='edge',ax=axt,legend=False,position=0)\n",
        "\n",
        "# # Create twin axes\n",
        "axb = axt.twiny()\n",
        "\n",
        "# Plot ICE on axb\n",
        "hypotheses.set_index('Hypothesis').Ice.plot.barh(color='green',edgecolor='k',align='edge',ax=axb,legend=False,position=1)\n",
        "\n",
        "# Set some sensible axes limits\n",
        "axt.set_xlim(0,120)\n",
        "axb.set_xlim(0,17)\n",
        "\n",
        "# Add some x_axes labels\n",
        "axt.set_xlabel('Rice')\n",
        "axb.set_xlabel('Ice')\n",
        "\n",
        "# Need to manually move axb label to right hand side \n",
        "axb.yaxis.set_label_position('right')\n",
        "# manually move legends:\n",
        "axt.legend()\n",
        "axb.legend(loc=5)\n",
        "plt.show()\n"
      ],
      "execution_count": 9,
      "outputs": [
        {
          "output_type": "display_data",
          "data": {
            "image/png": "[encoded data removed]",
            "text/plain": [
              "<Figure size 432x288 with 2 Axes>"
            ]
          },
          "metadata": {
            "tags": [],
            "needs_background": "light"
          }
        }
      ]
    },
    {
      "cell_type": "markdown",
      "metadata": {
        "id": "ERcnZYtR6RK3"
      },
      "source": [
        "the main impact on the change between Ice / Rice is the fact that another numerator added which makes the evaluation of the hypothesis to deffer. inserting another condition has an impact because another scale of numbers is now having an effect on the final score"
      ]
    },
    {
      "cell_type": "markdown",
      "metadata": {
        "id": "g-393XeXtzeC"
      },
      "source": [
        "\n",
        "going with ICE version we should probably start with 'Launch a promotion that gives users discounts on their birthdays' hypothesis since the score was the highest. ICE importance derives from the impact & confidance in the numirator only.\n",
        "    easy to notice that if we add the Reach coefficient the results are going other way and this specific hypotheses get a different rating. its Reach coefficiant is lower compated to other hypotheses wher e 'Add a subscription form to all the main pages. This will help you compile a mailing list' receive the higest prority if we going with RICE method\n"
      ]
    },
    {
      "cell_type": "markdown",
      "metadata": {
        "id": "vTUBRktLGjki"
      },
      "source": [
        "# Part 2. A/B Test Analysis\n"
      ]
    },
    {
      "cell_type": "markdown",
      "metadata": {
        "id": "5dMCZwWjHsFZ"
      },
      "source": [
        "visits:"
      ]
    },
    {
      "cell_type": "code",
      "metadata": {
        "id": "y_HpYlykHKQj",
        "colab": {
          "base_uri": "https://localhost:8080/",
          "height": 196
        },
        "outputId": "a10c3275-1be2-4a47-9dc6-a3f11b39935d"
      },
      "source": [
        "# quick first look:\n",
        "visits.head(5)"
      ],
      "execution_count": 10,
      "outputs": [
        {
          "output_type": "execute_result",
          "data": {
            "text/html": [
              "<div>\n",
              "<style scoped>\n",
              "    .dataframe tbody tr th:only-of-type {\n",
              "        vertical-align: middle;\n",
              "    }\n",
              "\n",
              "    .dataframe tbody tr th {\n",
              "        vertical-align: top;\n",
              "    }\n",
              "\n",
              "    .dataframe thead th {\n",
              "        text-align: right;\n",
              "    }\n",
              "</style>\n",
              "<table border=\"1\" class=\"dataframe\">\n",
              "  <thead>\n",
              "    <tr style=\"text-align: right;\">\n",
              "      <th></th>\n",
              "      <th>date</th>\n",
              "      <th>group</th>\n",
              "      <th>visits</th>\n",
              "    </tr>\n",
              "  </thead>\n",
              "  <tbody>\n",
              "    <tr>\n",
              "      <th>0</th>\n",
              "      <td>2019-08-01</td>\n",
              "      <td>A</td>\n",
              "      <td>719</td>\n",
              "    </tr>\n",
              "    <tr>\n",
              "      <th>1</th>\n",
              "      <td>2019-08-02</td>\n",
              "      <td>A</td>\n",
              "      <td>619</td>\n",
              "    </tr>\n",
              "    <tr>\n",
              "      <th>2</th>\n",
              "      <td>2019-08-03</td>\n",
              "      <td>A</td>\n",
              "      <td>507</td>\n",
              "    </tr>\n",
              "    <tr>\n",
              "      <th>3</th>\n",
              "      <td>2019-08-04</td>\n",
              "      <td>A</td>\n",
              "      <td>717</td>\n",
              "    </tr>\n",
              "    <tr>\n",
              "      <th>4</th>\n",
              "      <td>2019-08-05</td>\n",
              "      <td>A</td>\n",
              "      <td>756</td>\n",
              "    </tr>\n",
              "  </tbody>\n",
              "</table>\n",
              "</div>"
            ],
            "text/plain": [
              "        date group  visits\n",
              "0 2019-08-01     A     719\n",
              "1 2019-08-02     A     619\n",
              "2 2019-08-03     A     507\n",
              "3 2019-08-04     A     717\n",
              "4 2019-08-05     A     756"
            ]
          },
          "metadata": {
            "tags": []
          },
          "execution_count": 10
        }
      ]
    },
    {
      "cell_type": "code",
      "metadata": {
        "id": "BwIzIZ-6IAQ5",
        "colab": {
          "base_uri": "https://localhost:8080/"
        },
        "outputId": "14115dee-3a8f-4864-d10c-e5920dc3aa06"
      },
      "source": [
        "visits.info()\n",
        "# adjustment done already in the start"
      ],
      "execution_count": 11,
      "outputs": [
        {
          "output_type": "stream",
          "text": [
            "<class 'pandas.core.frame.DataFrame'>\n",
            "RangeIndex: 62 entries, 0 to 61\n",
            "Data columns (total 3 columns):\n",
            " #   Column  Non-Null Count  Dtype         \n",
            "---  ------  --------------  -----         \n",
            " 0   date    62 non-null     datetime64[ns]\n",
            " 1   group   62 non-null     object        \n",
            " 2   visits  62 non-null     int64         \n",
            "dtypes: datetime64[ns](1), int64(1), object(1)\n",
            "memory usage: 1.6+ KB\n"
          ],
          "name": "stdout"
        }
      ]
    },
    {
      "cell_type": "code",
      "metadata": {
        "id": "R5U-GvDCH2IC",
        "colab": {
          "base_uri": "https://localhost:8080/",
          "height": 286
        },
        "outputId": "2bb96419-01ab-43eb-92f2-487a7674342f"
      },
      "source": [
        "visits.describe()\n",
        "# seems no problem till now - ok"
      ],
      "execution_count": 12,
      "outputs": [
        {
          "output_type": "execute_result",
          "data": {
            "text/html": [
              "<div>\n",
              "<style scoped>\n",
              "    .dataframe tbody tr th:only-of-type {\n",
              "        vertical-align: middle;\n",
              "    }\n",
              "\n",
              "    .dataframe tbody tr th {\n",
              "        vertical-align: top;\n",
              "    }\n",
              "\n",
              "    .dataframe thead th {\n",
              "        text-align: right;\n",
              "    }\n",
              "</style>\n",
              "<table border=\"1\" class=\"dataframe\">\n",
              "  <thead>\n",
              "    <tr style=\"text-align: right;\">\n",
              "      <th></th>\n",
              "      <th>visits</th>\n",
              "    </tr>\n",
              "  </thead>\n",
              "  <tbody>\n",
              "    <tr>\n",
              "      <th>count</th>\n",
              "      <td>62.000000</td>\n",
              "    </tr>\n",
              "    <tr>\n",
              "      <th>mean</th>\n",
              "      <td>607.290323</td>\n",
              "    </tr>\n",
              "    <tr>\n",
              "      <th>std</th>\n",
              "      <td>114.400560</td>\n",
              "    </tr>\n",
              "    <tr>\n",
              "      <th>min</th>\n",
              "      <td>361.000000</td>\n",
              "    </tr>\n",
              "    <tr>\n",
              "      <th>25%</th>\n",
              "      <td>534.000000</td>\n",
              "    </tr>\n",
              "    <tr>\n",
              "      <th>50%</th>\n",
              "      <td>624.500000</td>\n",
              "    </tr>\n",
              "    <tr>\n",
              "      <th>75%</th>\n",
              "      <td>710.500000</td>\n",
              "    </tr>\n",
              "    <tr>\n",
              "      <th>max</th>\n",
              "      <td>770.000000</td>\n",
              "    </tr>\n",
              "  </tbody>\n",
              "</table>\n",
              "</div>"
            ],
            "text/plain": [
              "           visits\n",
              "count   62.000000\n",
              "mean   607.290323\n",
              "std    114.400560\n",
              "min    361.000000\n",
              "25%    534.000000\n",
              "50%    624.500000\n",
              "75%    710.500000\n",
              "max    770.000000"
            ]
          },
          "metadata": {
            "tags": []
          },
          "execution_count": 12
        }
      ]
    },
    {
      "cell_type": "code",
      "metadata": {
        "id": "LRwuIWouJD9M",
        "colab": {
          "base_uri": "https://localhost:8080/",
          "height": 280
        },
        "outputId": "45a8d1b3-0b9a-4d6b-cac8-4f478b7589fe"
      },
      "source": [
        "visits.describe(include=['datetime64[ns]','category'])\n",
        "# ok here"
      ],
      "execution_count": 13,
      "outputs": [
        {
          "output_type": "stream",
          "text": [
            "/usr/local/lib/python3.6/dist-packages/ipykernel_launcher.py:1: FutureWarning: Treating datetime data as categorical rather than numeric in `.describe` is deprecated and will be removed in a future version of pandas. Specify `datetime_is_numeric=True` to silence this warning and adopt the future behavior now.\n",
            "  \"\"\"Entry point for launching an IPython kernel.\n"
          ],
          "name": "stderr"
        },
        {
          "output_type": "execute_result",
          "data": {
            "text/html": [
              "<div>\n",
              "<style scoped>\n",
              "    .dataframe tbody tr th:only-of-type {\n",
              "        vertical-align: middle;\n",
              "    }\n",
              "\n",
              "    .dataframe tbody tr th {\n",
              "        vertical-align: top;\n",
              "    }\n",
              "\n",
              "    .dataframe thead th {\n",
              "        text-align: right;\n",
              "    }\n",
              "</style>\n",
              "<table border=\"1\" class=\"dataframe\">\n",
              "  <thead>\n",
              "    <tr style=\"text-align: right;\">\n",
              "      <th></th>\n",
              "      <th>date</th>\n",
              "    </tr>\n",
              "  </thead>\n",
              "  <tbody>\n",
              "    <tr>\n",
              "      <th>count</th>\n",
              "      <td>62</td>\n",
              "    </tr>\n",
              "    <tr>\n",
              "      <th>unique</th>\n",
              "      <td>31</td>\n",
              "    </tr>\n",
              "    <tr>\n",
              "      <th>top</th>\n",
              "      <td>2019-08-02 00:00:00</td>\n",
              "    </tr>\n",
              "    <tr>\n",
              "      <th>freq</th>\n",
              "      <td>2</td>\n",
              "    </tr>\n",
              "    <tr>\n",
              "      <th>first</th>\n",
              "      <td>2019-08-01 00:00:00</td>\n",
              "    </tr>\n",
              "    <tr>\n",
              "      <th>last</th>\n",
              "      <td>2019-08-31 00:00:00</td>\n",
              "    </tr>\n",
              "  </tbody>\n",
              "</table>\n",
              "</div>"
            ],
            "text/plain": [
              "                       date\n",
              "count                    62\n",
              "unique                   31\n",
              "top     2019-08-02 00:00:00\n",
              "freq                      2\n",
              "first   2019-08-01 00:00:00\n",
              "last    2019-08-31 00:00:00"
            ]
          },
          "metadata": {
            "tags": []
          },
          "execution_count": 13
        }
      ]
    },
    {
      "cell_type": "code",
      "metadata": {
        "id": "Vz6Hs9lDIkxS",
        "colab": {
          "base_uri": "https://localhost:8080/"
        },
        "outputId": "bb2928c4-d0fc-4daa-981f-00b1baa3eeb1"
      },
      "source": [
        "visits.isna().sum()\n",
        "# no NaN values"
      ],
      "execution_count": 14,
      "outputs": [
        {
          "output_type": "execute_result",
          "data": {
            "text/plain": [
              "date      0\n",
              "group     0\n",
              "visits    0\n",
              "dtype: int64"
            ]
          },
          "metadata": {
            "tags": []
          },
          "execution_count": 14
        }
      ]
    },
    {
      "cell_type": "code",
      "metadata": {
        "id": "vq2CacE5I3g0"
      },
      "source": [
        "# just in case:\n",
        "visits.drop_duplicates(inplace=True)"
      ],
      "execution_count": 15,
      "outputs": []
    },
    {
      "cell_type": "code",
      "metadata": {
        "id": "z2QB0OaVJ6fD",
        "colab": {
          "base_uri": "https://localhost:8080/",
          "height": 404
        },
        "outputId": "9127b4ed-247d-4285-8233-dc76afe2addb"
      },
      "source": [
        "# one more look here\n",
        "visits.sort_values(by='visits')"
      ],
      "execution_count": 16,
      "outputs": [
        {
          "output_type": "execute_result",
          "data": {
            "text/html": [
              "<div>\n",
              "<style scoped>\n",
              "    .dataframe tbody tr th:only-of-type {\n",
              "        vertical-align: middle;\n",
              "    }\n",
              "\n",
              "    .dataframe tbody tr th {\n",
              "        vertical-align: top;\n",
              "    }\n",
              "\n",
              "    .dataframe thead th {\n",
              "        text-align: right;\n",
              "    }\n",
              "</style>\n",
              "<table border=\"1\" class=\"dataframe\">\n",
              "  <thead>\n",
              "    <tr style=\"text-align: right;\">\n",
              "      <th></th>\n",
              "      <th>date</th>\n",
              "      <th>group</th>\n",
              "      <th>visits</th>\n",
              "    </tr>\n",
              "  </thead>\n",
              "  <tbody>\n",
              "    <tr>\n",
              "      <th>15</th>\n",
              "      <td>2019-08-16</td>\n",
              "      <td>A</td>\n",
              "      <td>361</td>\n",
              "    </tr>\n",
              "    <tr>\n",
              "      <th>40</th>\n",
              "      <td>2019-08-10</td>\n",
              "      <td>B</td>\n",
              "      <td>369</td>\n",
              "    </tr>\n",
              "    <tr>\n",
              "      <th>54</th>\n",
              "      <td>2019-08-24</td>\n",
              "      <td>B</td>\n",
              "      <td>378</td>\n",
              "    </tr>\n",
              "    <tr>\n",
              "      <th>23</th>\n",
              "      <td>2019-08-24</td>\n",
              "      <td>A</td>\n",
              "      <td>395</td>\n",
              "    </tr>\n",
              "    <tr>\n",
              "      <th>9</th>\n",
              "      <td>2019-08-10</td>\n",
              "      <td>A</td>\n",
              "      <td>406</td>\n",
              "    </tr>\n",
              "    <tr>\n",
              "      <th>...</th>\n",
              "      <td>...</td>\n",
              "      <td>...</td>\n",
              "      <td>...</td>\n",
              "    </tr>\n",
              "    <tr>\n",
              "      <th>44</th>\n",
              "      <td>2019-08-14</td>\n",
              "      <td>B</td>\n",
              "      <td>746</td>\n",
              "    </tr>\n",
              "    <tr>\n",
              "      <th>12</th>\n",
              "      <td>2019-08-13</td>\n",
              "      <td>A</td>\n",
              "      <td>748</td>\n",
              "    </tr>\n",
              "    <tr>\n",
              "      <th>4</th>\n",
              "      <td>2019-08-05</td>\n",
              "      <td>A</td>\n",
              "      <td>756</td>\n",
              "    </tr>\n",
              "    <tr>\n",
              "      <th>43</th>\n",
              "      <td>2019-08-13</td>\n",
              "      <td>B</td>\n",
              "      <td>769</td>\n",
              "    </tr>\n",
              "    <tr>\n",
              "      <th>34</th>\n",
              "      <td>2019-08-04</td>\n",
              "      <td>B</td>\n",
              "      <td>770</td>\n",
              "    </tr>\n",
              "  </tbody>\n",
              "</table>\n",
              "<p>62 rows × 3 columns</p>\n",
              "</div>"
            ],
            "text/plain": [
              "         date group  visits\n",
              "15 2019-08-16     A     361\n",
              "40 2019-08-10     B     369\n",
              "54 2019-08-24     B     378\n",
              "23 2019-08-24     A     395\n",
              "9  2019-08-10     A     406\n",
              "..        ...   ...     ...\n",
              "44 2019-08-14     B     746\n",
              "12 2019-08-13     A     748\n",
              "4  2019-08-05     A     756\n",
              "43 2019-08-13     B     769\n",
              "34 2019-08-04     B     770\n",
              "\n",
              "[62 rows x 3 columns]"
            ]
          },
          "metadata": {
            "tags": []
          },
          "execution_count": 16
        }
      ]
    },
    {
      "cell_type": "code",
      "metadata": {
        "colab": {
          "base_uri": "https://localhost:8080/",
          "height": 196
        },
        "id": "WZPHBmjKtzeI",
        "outputId": "77603485-cae3-4630-a072-fa6746a58f7a"
      },
      "source": [
        "visits.head(5)"
      ],
      "execution_count": 17,
      "outputs": [
        {
          "output_type": "execute_result",
          "data": {
            "text/html": [
              "<div>\n",
              "<style scoped>\n",
              "    .dataframe tbody tr th:only-of-type {\n",
              "        vertical-align: middle;\n",
              "    }\n",
              "\n",
              "    .dataframe tbody tr th {\n",
              "        vertical-align: top;\n",
              "    }\n",
              "\n",
              "    .dataframe thead th {\n",
              "        text-align: right;\n",
              "    }\n",
              "</style>\n",
              "<table border=\"1\" class=\"dataframe\">\n",
              "  <thead>\n",
              "    <tr style=\"text-align: right;\">\n",
              "      <th></th>\n",
              "      <th>date</th>\n",
              "      <th>group</th>\n",
              "      <th>visits</th>\n",
              "    </tr>\n",
              "  </thead>\n",
              "  <tbody>\n",
              "    <tr>\n",
              "      <th>0</th>\n",
              "      <td>2019-08-01</td>\n",
              "      <td>A</td>\n",
              "      <td>719</td>\n",
              "    </tr>\n",
              "    <tr>\n",
              "      <th>1</th>\n",
              "      <td>2019-08-02</td>\n",
              "      <td>A</td>\n",
              "      <td>619</td>\n",
              "    </tr>\n",
              "    <tr>\n",
              "      <th>2</th>\n",
              "      <td>2019-08-03</td>\n",
              "      <td>A</td>\n",
              "      <td>507</td>\n",
              "    </tr>\n",
              "    <tr>\n",
              "      <th>3</th>\n",
              "      <td>2019-08-04</td>\n",
              "      <td>A</td>\n",
              "      <td>717</td>\n",
              "    </tr>\n",
              "    <tr>\n",
              "      <th>4</th>\n",
              "      <td>2019-08-05</td>\n",
              "      <td>A</td>\n",
              "      <td>756</td>\n",
              "    </tr>\n",
              "  </tbody>\n",
              "</table>\n",
              "</div>"
            ],
            "text/plain": [
              "        date group  visits\n",
              "0 2019-08-01     A     719\n",
              "1 2019-08-02     A     619\n",
              "2 2019-08-03     A     507\n",
              "3 2019-08-04     A     717\n",
              "4 2019-08-05     A     756"
            ]
          },
          "metadata": {
            "tags": []
          },
          "execution_count": 17
        }
      ]
    },
    {
      "cell_type": "code",
      "metadata": {
        "id": "kAuxeIEaKNzl",
        "colab": {
          "base_uri": "https://localhost:8080/"
        },
        "outputId": "bd217364-59e1-4338-f1b5-9396dd361ebc"
      },
      "source": [
        "# check: if same date is more than 2 times:\n",
        "visits['date'].value_counts()"
      ],
      "execution_count": 18,
      "outputs": [
        {
          "output_type": "execute_result",
          "data": {
            "text/plain": [
              "2019-08-02    2\n",
              "2019-08-05    2\n",
              "2019-08-21    2\n",
              "2019-08-15    2\n",
              "2019-08-09    2\n",
              "2019-08-03    2\n",
              "2019-08-28    2\n",
              "2019-08-22    2\n",
              "2019-08-16    2\n",
              "2019-08-10    2\n",
              "2019-08-04    2\n",
              "2019-08-29    2\n",
              "2019-08-23    2\n",
              "2019-08-17    2\n",
              "2019-08-11    2\n",
              "2019-08-30    2\n",
              "2019-08-08    2\n",
              "2019-08-24    2\n",
              "2019-08-18    2\n",
              "2019-08-12    2\n",
              "2019-08-06    2\n",
              "2019-08-31    2\n",
              "2019-08-25    2\n",
              "2019-08-19    2\n",
              "2019-08-13    2\n",
              "2019-08-07    2\n",
              "2019-08-01    2\n",
              "2019-08-26    2\n",
              "2019-08-20    2\n",
              "2019-08-14    2\n",
              "2019-08-27    2\n",
              "Name: date, dtype: int64"
            ]
          },
          "metadata": {
            "tags": []
          },
          "execution_count": 18
        }
      ]
    },
    {
      "cell_type": "code",
      "metadata": {
        "id": "M2Osghj7LN_5",
        "colab": {
          "base_uri": "https://localhost:8080/",
          "height": 404
        },
        "outputId": "5bece269-2635-439d-8722-21539046d03b"
      },
      "source": [
        "# try to detect dupps: no change in the final rows count - ok here\n",
        "visits.drop('visits',axis=1).drop_duplicates()"
      ],
      "execution_count": 19,
      "outputs": [
        {
          "output_type": "execute_result",
          "data": {
            "text/html": [
              "<div>\n",
              "<style scoped>\n",
              "    .dataframe tbody tr th:only-of-type {\n",
              "        vertical-align: middle;\n",
              "    }\n",
              "\n",
              "    .dataframe tbody tr th {\n",
              "        vertical-align: top;\n",
              "    }\n",
              "\n",
              "    .dataframe thead th {\n",
              "        text-align: right;\n",
              "    }\n",
              "</style>\n",
              "<table border=\"1\" class=\"dataframe\">\n",
              "  <thead>\n",
              "    <tr style=\"text-align: right;\">\n",
              "      <th></th>\n",
              "      <th>date</th>\n",
              "      <th>group</th>\n",
              "    </tr>\n",
              "  </thead>\n",
              "  <tbody>\n",
              "    <tr>\n",
              "      <th>0</th>\n",
              "      <td>2019-08-01</td>\n",
              "      <td>A</td>\n",
              "    </tr>\n",
              "    <tr>\n",
              "      <th>1</th>\n",
              "      <td>2019-08-02</td>\n",
              "      <td>A</td>\n",
              "    </tr>\n",
              "    <tr>\n",
              "      <th>2</th>\n",
              "      <td>2019-08-03</td>\n",
              "      <td>A</td>\n",
              "    </tr>\n",
              "    <tr>\n",
              "      <th>3</th>\n",
              "      <td>2019-08-04</td>\n",
              "      <td>A</td>\n",
              "    </tr>\n",
              "    <tr>\n",
              "      <th>4</th>\n",
              "      <td>2019-08-05</td>\n",
              "      <td>A</td>\n",
              "    </tr>\n",
              "    <tr>\n",
              "      <th>...</th>\n",
              "      <td>...</td>\n",
              "      <td>...</td>\n",
              "    </tr>\n",
              "    <tr>\n",
              "      <th>57</th>\n",
              "      <td>2019-08-27</td>\n",
              "      <td>B</td>\n",
              "    </tr>\n",
              "    <tr>\n",
              "      <th>58</th>\n",
              "      <td>2019-08-28</td>\n",
              "      <td>B</td>\n",
              "    </tr>\n",
              "    <tr>\n",
              "      <th>59</th>\n",
              "      <td>2019-08-29</td>\n",
              "      <td>B</td>\n",
              "    </tr>\n",
              "    <tr>\n",
              "      <th>60</th>\n",
              "      <td>2019-08-30</td>\n",
              "      <td>B</td>\n",
              "    </tr>\n",
              "    <tr>\n",
              "      <th>61</th>\n",
              "      <td>2019-08-31</td>\n",
              "      <td>B</td>\n",
              "    </tr>\n",
              "  </tbody>\n",
              "</table>\n",
              "<p>62 rows × 2 columns</p>\n",
              "</div>"
            ],
            "text/plain": [
              "         date group\n",
              "0  2019-08-01     A\n",
              "1  2019-08-02     A\n",
              "2  2019-08-03     A\n",
              "3  2019-08-04     A\n",
              "4  2019-08-05     A\n",
              "..        ...   ...\n",
              "57 2019-08-27     B\n",
              "58 2019-08-28     B\n",
              "59 2019-08-29     B\n",
              "60 2019-08-30     B\n",
              "61 2019-08-31     B\n",
              "\n",
              "[62 rows x 2 columns]"
            ]
          },
          "metadata": {
            "tags": []
          },
          "execution_count": 19
        }
      ]
    },
    {
      "cell_type": "markdown",
      "metadata": {
        "id": "xmEWx6gbLgKH"
      },
      "source": [
        "_finish prepare the visits table - looks ok_"
      ]
    },
    {
      "cell_type": "markdown",
      "metadata": {
        "id": "VRcNBMDqLnOQ"
      },
      "source": [
        "orders"
      ]
    },
    {
      "cell_type": "code",
      "metadata": {
        "id": "rqlPz5lxLeQe",
        "colab": {
          "base_uri": "https://localhost:8080/",
          "height": 196
        },
        "outputId": "6c795a7c-2ecb-4b6d-91fe-819182480249"
      },
      "source": [
        "orders.head()"
      ],
      "execution_count": 20,
      "outputs": [
        {
          "output_type": "execute_result",
          "data": {
            "text/html": [
              "<div>\n",
              "<style scoped>\n",
              "    .dataframe tbody tr th:only-of-type {\n",
              "        vertical-align: middle;\n",
              "    }\n",
              "\n",
              "    .dataframe tbody tr th {\n",
              "        vertical-align: top;\n",
              "    }\n",
              "\n",
              "    .dataframe thead th {\n",
              "        text-align: right;\n",
              "    }\n",
              "</style>\n",
              "<table border=\"1\" class=\"dataframe\">\n",
              "  <thead>\n",
              "    <tr style=\"text-align: right;\">\n",
              "      <th></th>\n",
              "      <th>transactionId</th>\n",
              "      <th>visitorId</th>\n",
              "      <th>date</th>\n",
              "      <th>revenue</th>\n",
              "      <th>group</th>\n",
              "    </tr>\n",
              "  </thead>\n",
              "  <tbody>\n",
              "    <tr>\n",
              "      <th>0</th>\n",
              "      <td>3667963787</td>\n",
              "      <td>3312258926</td>\n",
              "      <td>2019-08-15</td>\n",
              "      <td>30.4</td>\n",
              "      <td>B</td>\n",
              "    </tr>\n",
              "    <tr>\n",
              "      <th>1</th>\n",
              "      <td>2804400009</td>\n",
              "      <td>3642806036</td>\n",
              "      <td>2019-08-15</td>\n",
              "      <td>15.2</td>\n",
              "      <td>B</td>\n",
              "    </tr>\n",
              "    <tr>\n",
              "      <th>2</th>\n",
              "      <td>2961555356</td>\n",
              "      <td>4069496402</td>\n",
              "      <td>2019-08-15</td>\n",
              "      <td>10.2</td>\n",
              "      <td>A</td>\n",
              "    </tr>\n",
              "    <tr>\n",
              "      <th>3</th>\n",
              "      <td>3797467345</td>\n",
              "      <td>1196621759</td>\n",
              "      <td>2019-08-15</td>\n",
              "      <td>155.1</td>\n",
              "      <td>B</td>\n",
              "    </tr>\n",
              "    <tr>\n",
              "      <th>4</th>\n",
              "      <td>2282983706</td>\n",
              "      <td>2322279887</td>\n",
              "      <td>2019-08-15</td>\n",
              "      <td>40.5</td>\n",
              "      <td>B</td>\n",
              "    </tr>\n",
              "  </tbody>\n",
              "</table>\n",
              "</div>"
            ],
            "text/plain": [
              "   transactionId   visitorId       date  revenue group\n",
              "0     3667963787  3312258926 2019-08-15     30.4     B\n",
              "1     2804400009  3642806036 2019-08-15     15.2     B\n",
              "2     2961555356  4069496402 2019-08-15     10.2     A\n",
              "3     3797467345  1196621759 2019-08-15    155.1     B\n",
              "4     2282983706  2322279887 2019-08-15     40.5     B"
            ]
          },
          "metadata": {
            "tags": []
          },
          "execution_count": 20
        }
      ]
    },
    {
      "cell_type": "code",
      "metadata": {
        "id": "MDmURKJXMLb2",
        "colab": {
          "base_uri": "https://localhost:8080/"
        },
        "outputId": "5fc9b3ad-763b-40b4-fb74-1b6fc22a5776"
      },
      "source": [
        "orders.info()\n",
        "# adjusments made in the start"
      ],
      "execution_count": 21,
      "outputs": [
        {
          "output_type": "stream",
          "text": [
            "<class 'pandas.core.frame.DataFrame'>\n",
            "RangeIndex: 1197 entries, 0 to 1196\n",
            "Data columns (total 5 columns):\n",
            " #   Column         Non-Null Count  Dtype         \n",
            "---  ------         --------------  -----         \n",
            " 0   transactionId  1197 non-null   int64         \n",
            " 1   visitorId      1197 non-null   int64         \n",
            " 2   date           1197 non-null   datetime64[ns]\n",
            " 3   revenue        1197 non-null   float64       \n",
            " 4   group          1197 non-null   object        \n",
            "dtypes: datetime64[ns](1), float64(1), int64(2), object(1)\n",
            "memory usage: 46.9+ KB\n"
          ],
          "name": "stdout"
        }
      ]
    },
    {
      "cell_type": "code",
      "metadata": {
        "id": "ec75a20GMaDX",
        "colab": {
          "base_uri": "https://localhost:8080/",
          "height": 280
        },
        "outputId": "cfc6e4eb-0976-436e-9591-84bc3103e1d7"
      },
      "source": [
        "orders.describe(include=['datetime64[ns]','category'])"
      ],
      "execution_count": 22,
      "outputs": [
        {
          "output_type": "stream",
          "text": [
            "/usr/local/lib/python3.6/dist-packages/ipykernel_launcher.py:1: FutureWarning: Treating datetime data as categorical rather than numeric in `.describe` is deprecated and will be removed in a future version of pandas. Specify `datetime_is_numeric=True` to silence this warning and adopt the future behavior now.\n",
            "  \"\"\"Entry point for launching an IPython kernel.\n"
          ],
          "name": "stderr"
        },
        {
          "output_type": "execute_result",
          "data": {
            "text/html": [
              "<div>\n",
              "<style scoped>\n",
              "    .dataframe tbody tr th:only-of-type {\n",
              "        vertical-align: middle;\n",
              "    }\n",
              "\n",
              "    .dataframe tbody tr th {\n",
              "        vertical-align: top;\n",
              "    }\n",
              "\n",
              "    .dataframe thead th {\n",
              "        text-align: right;\n",
              "    }\n",
              "</style>\n",
              "<table border=\"1\" class=\"dataframe\">\n",
              "  <thead>\n",
              "    <tr style=\"text-align: right;\">\n",
              "      <th></th>\n",
              "      <th>date</th>\n",
              "    </tr>\n",
              "  </thead>\n",
              "  <tbody>\n",
              "    <tr>\n",
              "      <th>count</th>\n",
              "      <td>1197</td>\n",
              "    </tr>\n",
              "    <tr>\n",
              "      <th>unique</th>\n",
              "      <td>31</td>\n",
              "    </tr>\n",
              "    <tr>\n",
              "      <th>top</th>\n",
              "      <td>2019-08-05 00:00:00</td>\n",
              "    </tr>\n",
              "    <tr>\n",
              "      <th>freq</th>\n",
              "      <td>48</td>\n",
              "    </tr>\n",
              "    <tr>\n",
              "      <th>first</th>\n",
              "      <td>2019-08-01 00:00:00</td>\n",
              "    </tr>\n",
              "    <tr>\n",
              "      <th>last</th>\n",
              "      <td>2019-08-31 00:00:00</td>\n",
              "    </tr>\n",
              "  </tbody>\n",
              "</table>\n",
              "</div>"
            ],
            "text/plain": [
              "                       date\n",
              "count                  1197\n",
              "unique                   31\n",
              "top     2019-08-05 00:00:00\n",
              "freq                     48\n",
              "first   2019-08-01 00:00:00\n",
              "last    2019-08-31 00:00:00"
            ]
          },
          "metadata": {
            "tags": []
          },
          "execution_count": 22
        }
      ]
    },
    {
      "cell_type": "code",
      "metadata": {
        "id": "rmxKr6daNKoh",
        "colab": {
          "base_uri": "https://localhost:8080/"
        },
        "outputId": "5145795d-0827-434f-aae9-618915202f83"
      },
      "source": [
        "orders['revenue'].describe()\n",
        "# seems like big outlier 19920. not even close to the median (it will be handled further in the project)"
      ],
      "execution_count": 23,
      "outputs": [
        {
          "output_type": "execute_result",
          "data": {
            "text/plain": [
              "count     1197.000000\n",
              "mean       131.491646\n",
              "std        603.004729\n",
              "min          5.000000\n",
              "25%         20.800000\n",
              "50%         50.200000\n",
              "75%        130.400000\n",
              "max      19920.400000\n",
              "Name: revenue, dtype: float64"
            ]
          },
          "metadata": {
            "tags": []
          },
          "execution_count": 23
        }
      ]
    },
    {
      "cell_type": "markdown",
      "metadata": {
        "id": "__sPWXWltzeM"
      },
      "source": [
        "<div class=\"alert alert-info\"> <b>1st review:</b> check if some visitors got into both groups (start):</div>"
      ]
    },
    {
      "cell_type": "code",
      "metadata": {
        "colab": {
          "base_uri": "https://localhost:8080/"
        },
        "id": "gGw67G4HtzeM",
        "outputId": "84457195-3845-4223-8a51-b455005bd0a8"
      },
      "source": [
        "orders.pivot_table(index='visitorId',columns='group',values='transactionId',aggfunc=['count']).dropna().reset_index().count()\n",
        "# we got 58 visitors in BOTH groups\n",
        "# next I will delete theses specific users from original orders df"
      ],
      "execution_count": 24,
      "outputs": [
        {
          "output_type": "execute_result",
          "data": {
            "text/plain": [
              "           group\n",
              "visitorId           58\n",
              "count      A        58\n",
              "           B        58\n",
              "dtype: int64"
            ]
          },
          "metadata": {
            "tags": []
          },
          "execution_count": 24
        }
      ]
    },
    {
      "cell_type": "code",
      "metadata": {
        "id": "oO1nxirdtzeN"
      },
      "source": [
        "orders_in_ab = orders.pivot_table(index='visitorId',columns='group',values='transactionId',aggfunc=['count']).dropna().reset_index()['visitorId']"
      ],
      "execution_count": 25,
      "outputs": []
    },
    {
      "cell_type": "code",
      "metadata": {
        "id": "W-dov3CLtzeN"
      },
      "source": [
        "# remove visitors who are in both groups:\n",
        "orders = orders.query('visitorId not in @orders_in_ab') \n",
        "# total rows removed = 181"
      ],
      "execution_count": 26,
      "outputs": []
    },
    {
      "cell_type": "markdown",
      "metadata": {
        "id": "ohCrSAZutzeN"
      },
      "source": [
        "conclusions:\n",
        "- form a describe mothed we receive our first notice that the max value might be an outstanding revenue (19920) while in the highest 3/4 the revenue us only 130.\n",
        "- very high max revenue impact our std and mean values (skewness) another good indicator is the fact that: mean > 3/4 quartile.. classic skewness\n",
        "- total of 181 removed which is more than 15% but we didnt have a choice sinced we do need our A/B test to be as"
      ]
    },
    {
      "cell_type": "markdown",
      "metadata": {
        "id": "8JJXe8sVGwM2"
      },
      "source": [
        "## 1.\tGraph cumulative revenue by group. Make conclusions and conjectures."
      ]
    },
    {
      "cell_type": "code",
      "metadata": {
        "id": "q6pMkiCzlO9n",
        "colab": {
          "base_uri": "https://localhost:8080/",
          "height": 77
        },
        "outputId": "e226e1c1-18c3-4df5-8455-0ea6c06631d6"
      },
      "source": [
        "# look in the dataframe:\n",
        "orders.head(1)"
      ],
      "execution_count": 27,
      "outputs": [
        {
          "output_type": "execute_result",
          "data": {
            "text/html": [
              "<div>\n",
              "<style scoped>\n",
              "    .dataframe tbody tr th:only-of-type {\n",
              "        vertical-align: middle;\n",
              "    }\n",
              "\n",
              "    .dataframe tbody tr th {\n",
              "        vertical-align: top;\n",
              "    }\n",
              "\n",
              "    .dataframe thead th {\n",
              "        text-align: right;\n",
              "    }\n",
              "</style>\n",
              "<table border=\"1\" class=\"dataframe\">\n",
              "  <thead>\n",
              "    <tr style=\"text-align: right;\">\n",
              "      <th></th>\n",
              "      <th>transactionId</th>\n",
              "      <th>visitorId</th>\n",
              "      <th>date</th>\n",
              "      <th>revenue</th>\n",
              "      <th>group</th>\n",
              "    </tr>\n",
              "  </thead>\n",
              "  <tbody>\n",
              "    <tr>\n",
              "      <th>0</th>\n",
              "      <td>3667963787</td>\n",
              "      <td>3312258926</td>\n",
              "      <td>2019-08-15</td>\n",
              "      <td>30.4</td>\n",
              "      <td>B</td>\n",
              "    </tr>\n",
              "  </tbody>\n",
              "</table>\n",
              "</div>"
            ],
            "text/plain": [
              "   transactionId   visitorId       date  revenue group\n",
              "0     3667963787  3312258926 2019-08-15     30.4     B"
            ]
          },
          "metadata": {
            "tags": []
          },
          "execution_count": 27
        }
      ]
    },
    {
      "cell_type": "markdown",
      "metadata": {
        "id": "I4nwrSfkQpZu"
      },
      "source": [
        "next we start building cumulative data by groups"
      ]
    },
    {
      "cell_type": "code",
      "metadata": {
        "id": "5vLk5KJ2hf8c"
      },
      "source": [
        "# first we get unique dates for each group and store it to a new variable as a new df\n",
        "dates_groups = orders[['date','group']].drop_duplicates() "
      ],
      "execution_count": 28,
      "outputs": []
    },
    {
      "cell_type": "code",
      "metadata": {
        "id": "AvIEDwOuhgce"
      },
      "source": [
        "# agg cumulative data for orders table using unique dates \n",
        "orders_agg = (dates_groups.apply(lambda x: \n",
        "                               orders[np.logical_and(orders['date'] <= x['date'], \n",
        "                                                     orders['group'] == x['group'])].agg({\n",
        "                                                                                        'date':'max',\n",
        "                                                                                        'group':'max', \n",
        "                                                                                        'transactionId':'nunique', \n",
        "                                                                                        'visitorId':'nunique',\n",
        "                                                                                        'revenue':'sum'\n",
        "                                                                                        }),\n",
        "                                 axis=1).sort_values(by=['date','group']))"
      ],
      "execution_count": 29,
      "outputs": []
    },
    {
      "cell_type": "code",
      "metadata": {
        "id": "RJ6P2NLKhg3O",
        "colab": {
          "base_uri": "https://localhost:8080/",
          "height": 196
        },
        "outputId": "125f16a3-b2b5-43e5-82f0-e627628c4a55"
      },
      "source": [
        "# look at what we got:\n",
        "orders_agg.head(5)"
      ],
      "execution_count": 30,
      "outputs": [
        {
          "output_type": "execute_result",
          "data": {
            "text/html": [
              "<div>\n",
              "<style scoped>\n",
              "    .dataframe tbody tr th:only-of-type {\n",
              "        vertical-align: middle;\n",
              "    }\n",
              "\n",
              "    .dataframe tbody tr th {\n",
              "        vertical-align: top;\n",
              "    }\n",
              "\n",
              "    .dataframe thead th {\n",
              "        text-align: right;\n",
              "    }\n",
              "</style>\n",
              "<table border=\"1\" class=\"dataframe\">\n",
              "  <thead>\n",
              "    <tr style=\"text-align: right;\">\n",
              "      <th></th>\n",
              "      <th>date</th>\n",
              "      <th>group</th>\n",
              "      <th>transactionId</th>\n",
              "      <th>visitorId</th>\n",
              "      <th>revenue</th>\n",
              "    </tr>\n",
              "  </thead>\n",
              "  <tbody>\n",
              "    <tr>\n",
              "      <th>55</th>\n",
              "      <td>2019-08-01</td>\n",
              "      <td>A</td>\n",
              "      <td>23</td>\n",
              "      <td>19</td>\n",
              "      <td>2266.6</td>\n",
              "    </tr>\n",
              "    <tr>\n",
              "      <th>66</th>\n",
              "      <td>2019-08-01</td>\n",
              "      <td>B</td>\n",
              "      <td>17</td>\n",
              "      <td>17</td>\n",
              "      <td>967.2</td>\n",
              "    </tr>\n",
              "    <tr>\n",
              "      <th>175</th>\n",
              "      <td>2019-08-02</td>\n",
              "      <td>A</td>\n",
              "      <td>42</td>\n",
              "      <td>36</td>\n",
              "      <td>3734.9</td>\n",
              "    </tr>\n",
              "    <tr>\n",
              "      <th>173</th>\n",
              "      <td>2019-08-02</td>\n",
              "      <td>B</td>\n",
              "      <td>40</td>\n",
              "      <td>39</td>\n",
              "      <td>3535.3</td>\n",
              "    </tr>\n",
              "    <tr>\n",
              "      <th>291</th>\n",
              "      <td>2019-08-03</td>\n",
              "      <td>A</td>\n",
              "      <td>66</td>\n",
              "      <td>60</td>\n",
              "      <td>5550.1</td>\n",
              "    </tr>\n",
              "  </tbody>\n",
              "</table>\n",
              "</div>"
            ],
            "text/plain": [
              "          date group  transactionId  visitorId  revenue\n",
              "55  2019-08-01     A             23         19   2266.6\n",
              "66  2019-08-01     B             17         17    967.2\n",
              "175 2019-08-02     A             42         36   3734.9\n",
              "173 2019-08-02     B             40         39   3535.3\n",
              "291 2019-08-03     A             66         60   5550.1"
            ]
          },
          "metadata": {
            "tags": []
          },
          "execution_count": 30
        }
      ]
    },
    {
      "cell_type": "code",
      "metadata": {
        "id": "dlF-wGzPhhGd"
      },
      "source": [
        "# the same to visits table:\n",
        "visits_agg = (dates_groups\n",
        "                    .apply(lambda x: visits[np.logical_and(visits['date'] <= x['date'], visits['group'] == x['group'])]\n",
        "                    .agg({'date':'max','group':'max', 'visits':'sum'}), axis=1).sort_values(by=['date','group']))"
      ],
      "execution_count": 31,
      "outputs": []
    },
    {
      "cell_type": "code",
      "metadata": {
        "id": "1EHq9VpwhhEg",
        "colab": {
          "base_uri": "https://localhost:8080/",
          "height": 196
        },
        "outputId": "cd546d0c-7ee5-4f8d-ba60-2ef1381315a7"
      },
      "source": [
        "# quick look:\n",
        "visits_agg.head(5)"
      ],
      "execution_count": 32,
      "outputs": [
        {
          "output_type": "execute_result",
          "data": {
            "text/html": [
              "<div>\n",
              "<style scoped>\n",
              "    .dataframe tbody tr th:only-of-type {\n",
              "        vertical-align: middle;\n",
              "    }\n",
              "\n",
              "    .dataframe tbody tr th {\n",
              "        vertical-align: top;\n",
              "    }\n",
              "\n",
              "    .dataframe thead th {\n",
              "        text-align: right;\n",
              "    }\n",
              "</style>\n",
              "<table border=\"1\" class=\"dataframe\">\n",
              "  <thead>\n",
              "    <tr style=\"text-align: right;\">\n",
              "      <th></th>\n",
              "      <th>date</th>\n",
              "      <th>group</th>\n",
              "      <th>visits</th>\n",
              "    </tr>\n",
              "  </thead>\n",
              "  <tbody>\n",
              "    <tr>\n",
              "      <th>55</th>\n",
              "      <td>2019-08-01</td>\n",
              "      <td>A</td>\n",
              "      <td>719</td>\n",
              "    </tr>\n",
              "    <tr>\n",
              "      <th>66</th>\n",
              "      <td>2019-08-01</td>\n",
              "      <td>B</td>\n",
              "      <td>713</td>\n",
              "    </tr>\n",
              "    <tr>\n",
              "      <th>175</th>\n",
              "      <td>2019-08-02</td>\n",
              "      <td>A</td>\n",
              "      <td>1338</td>\n",
              "    </tr>\n",
              "    <tr>\n",
              "      <th>173</th>\n",
              "      <td>2019-08-02</td>\n",
              "      <td>B</td>\n",
              "      <td>1294</td>\n",
              "    </tr>\n",
              "    <tr>\n",
              "      <th>291</th>\n",
              "      <td>2019-08-03</td>\n",
              "      <td>A</td>\n",
              "      <td>1845</td>\n",
              "    </tr>\n",
              "  </tbody>\n",
              "</table>\n",
              "</div>"
            ],
            "text/plain": [
              "          date group  visits\n",
              "55  2019-08-01     A     719\n",
              "66  2019-08-01     B     713\n",
              "175 2019-08-02     A    1338\n",
              "173 2019-08-02     B    1294\n",
              "291 2019-08-03     A    1845"
            ]
          },
          "metadata": {
            "tags": []
          },
          "execution_count": 32
        }
      ]
    },
    {
      "cell_type": "code",
      "metadata": {
        "id": "bROMeoHhhg8z"
      },
      "source": [
        "# orders_agg + visits_agg into one data frame:\n",
        "orders_visits_agg = orders_agg.merge(visits_agg,on=['date', 'group'])"
      ],
      "execution_count": 33,
      "outputs": []
    },
    {
      "cell_type": "code",
      "metadata": {
        "id": "Kb44km1qWd6g"
      },
      "source": [
        "# rename columns\n",
        "orders_visits_agg.columns = ['date', 'group', 'orders', 'buyers', 'revenue', 'visitors']"
      ],
      "execution_count": 34,
      "outputs": []
    },
    {
      "cell_type": "code",
      "metadata": {
        "id": "MIqzxtUQTQ7u",
        "colab": {
          "base_uri": "https://localhost:8080/",
          "height": 196
        },
        "outputId": "e73dab1c-8e37-42ef-b950-cb2045d4ea95"
      },
      "source": [
        "# a look:\n",
        "orders_visits_agg.tail(5)"
      ],
      "execution_count": 35,
      "outputs": [
        {
          "output_type": "execute_result",
          "data": {
            "text/html": [
              "<div>\n",
              "<style scoped>\n",
              "    .dataframe tbody tr th:only-of-type {\n",
              "        vertical-align: middle;\n",
              "    }\n",
              "\n",
              "    .dataframe tbody tr th {\n",
              "        vertical-align: top;\n",
              "    }\n",
              "\n",
              "    .dataframe thead th {\n",
              "        text-align: right;\n",
              "    }\n",
              "</style>\n",
              "<table border=\"1\" class=\"dataframe\">\n",
              "  <thead>\n",
              "    <tr style=\"text-align: right;\">\n",
              "      <th></th>\n",
              "      <th>date</th>\n",
              "      <th>group</th>\n",
              "      <th>orders</th>\n",
              "      <th>buyers</th>\n",
              "      <th>revenue</th>\n",
              "      <th>visitors</th>\n",
              "    </tr>\n",
              "  </thead>\n",
              "  <tbody>\n",
              "    <tr>\n",
              "      <th>57</th>\n",
              "      <td>2019-08-29</td>\n",
              "      <td>B</td>\n",
              "      <td>510</td>\n",
              "      <td>490</td>\n",
              "      <td>74576.7</td>\n",
              "      <td>17708</td>\n",
              "    </tr>\n",
              "    <tr>\n",
              "      <th>58</th>\n",
              "      <td>2019-08-30</td>\n",
              "      <td>A</td>\n",
              "      <td>460</td>\n",
              "      <td>437</td>\n",
              "      <td>52363.7</td>\n",
              "      <td>18037</td>\n",
              "    </tr>\n",
              "    <tr>\n",
              "      <th>59</th>\n",
              "      <td>2019-08-30</td>\n",
              "      <td>B</td>\n",
              "      <td>531</td>\n",
              "      <td>511</td>\n",
              "      <td>77863.5</td>\n",
              "      <td>18198</td>\n",
              "    </tr>\n",
              "    <tr>\n",
              "      <th>60</th>\n",
              "      <td>2019-08-31</td>\n",
              "      <td>A</td>\n",
              "      <td>468</td>\n",
              "      <td>445</td>\n",
              "      <td>53212.0</td>\n",
              "      <td>18736</td>\n",
              "    </tr>\n",
              "    <tr>\n",
              "      <th>61</th>\n",
              "      <td>2019-08-31</td>\n",
              "      <td>B</td>\n",
              "      <td>548</td>\n",
              "      <td>528</td>\n",
              "      <td>79651.2</td>\n",
              "      <td>18916</td>\n",
              "    </tr>\n",
              "  </tbody>\n",
              "</table>\n",
              "</div>"
            ],
            "text/plain": [
              "         date group  orders  buyers  revenue  visitors\n",
              "57 2019-08-29     B     510     490  74576.7     17708\n",
              "58 2019-08-30     A     460     437  52363.7     18037\n",
              "59 2019-08-30     B     531     511  77863.5     18198\n",
              "60 2019-08-31     A     468     445  53212.0     18736\n",
              "61 2019-08-31     B     548     528  79651.2     18916"
            ]
          },
          "metadata": {
            "tags": []
          },
          "execution_count": 35
        }
      ]
    },
    {
      "cell_type": "code",
      "metadata": {
        "id": "uLspZ8r1TRM3",
        "colab": {
          "base_uri": "https://localhost:8080/",
          "height": 614
        },
        "outputId": "5f25fd45-69a0-4cd3-f28a-fb49c6a314c3"
      },
      "source": [
        "# plot revenue by group:\n",
        "orders_visits_agg.pivot('date','group','revenue').plot(figsize=(12,9))\n",
        "plt.title('Graph cumulative revenue by group',fontsize=18)\n",
        "plt.xlabel('Day',fontsize=18)\n",
        "plt.ylabel('cumulative revenue',fontsize=18)\n",
        "plt.show()"
      ],
      "execution_count": 36,
      "outputs": [
        {
          "output_type": "display_data",
          "data": {
            "image/png": "[encoded data removed]",
            "text/plain": [
              "<Figure size 864x648 with 1 Axes>"
            ]
          },
          "metadata": {
            "tags": [],
            "needs_background": "light"
          }
        }
      ]
    },
    {
      "cell_type": "markdown",
      "metadata": {
        "id": "iZtN1P0MZp1i"
      },
      "source": [
        "results:\n",
        "- in the middle of the test between the groups we can norice for a big jump in group B\n",
        "- stabiity noticed with group A through all the test while group B had one time jump\n",
        "- seems that an outlier caused the difference within group B. without the the 'one time' thing we should probably seen group B and A much more similiar"
      ]
    },
    {
      "cell_type": "markdown",
      "metadata": {
        "id": "o8zF9TYnbX2_"
      },
      "source": [
        "## 2.\tGraph cumulative average order size by group. Make conclusions and conjectures."
      ]
    },
    {
      "cell_type": "code",
      "metadata": {
        "id": "jvSdDltybRUF"
      },
      "source": [
        "# add new col with avg price to orders:\n",
        "orders_visits_agg['avg_purchase'] = orders_visits_agg['revenue'] / orders_visits_agg['orders']"
      ],
      "execution_count": 37,
      "outputs": []
    },
    {
      "cell_type": "code",
      "metadata": {
        "id": "b_-3B1-TiOpW",
        "colab": {
          "base_uri": "https://localhost:8080/",
          "height": 532
        },
        "outputId": "c187ecb0-735e-48c5-b04a-8cc6b655c7b9"
      },
      "source": [
        "# plot on graph:\n",
        "orders_visits_agg.pivot('date','group','avg_purchase').plot(figsize=(19,9))\n",
        "plt.title('Graph cumulative average order size by group',fontsize=18)\n",
        "plt.xlabel('Day')\n",
        "plt.ylabel('Cumulative AVG order')\n",
        "plt.show()"
      ],
      "execution_count": 38,
      "outputs": [
        {
          "output_type": "display_data",
          "data": {
            "image/png": "[encoded data removed]",
            "text/plain": [
              "<Figure size 1368x648 with 1 Axes>"
            ]
          },
          "metadata": {
            "tags": [],
            "needs_background": "light"
          }
        }
      ]
    },
    {
      "cell_type": "markdown",
      "metadata": {
        "id": "V6nMsCaijDtG"
      },
      "source": [
        "result:\n",
        "- start of the test characterized with unconsistancy between the groups and it is noted in the graph.\n",
        "- a big jump in group B is followed here as well which is already was seen in the previous graph\n",
        "- overall, when disregard the big junp in revenue in group B and the start which is known with more variance: group A stabled from the middle on the month and even has a low increase while group B has declination aftfer the big jump\n",
        "- the disregard the outliers, group A would probably lead by more better figures"
      ]
    },
    {
      "cell_type": "markdown",
      "metadata": {
        "id": "ILEa2FN6jJlR"
      },
      "source": [
        "## 3.\tGraph the relative difference in cumulative average order size for group B compared with group A. Make conclusions and conjectures."
      ]
    },
    {
      "cell_type": "code",
      "metadata": {
        "id": "w8L3yAdXi_zk"
      },
      "source": [
        "# making table with orders and revenue as a cloumns for each group\n",
        "# step 1 - new variable using pivot:\n",
        "relat_orders_visits_agg = orders_visits_agg.pivot_table(index='date',columns='group',values=['revenue','orders'],aggfunc='sum').reset_index()"
      ],
      "execution_count": 39,
      "outputs": []
    },
    {
      "cell_type": "code",
      "metadata": {
        "id": "GOMVFb0ml-WE"
      },
      "source": [
        "# step 2 - columns names adjustment:\n",
        "relat_orders_visits_agg.columns = [''.join(col).strip() for col in relat_orders_visits_agg.columns.values]"
      ],
      "execution_count": 40,
      "outputs": []
    },
    {
      "cell_type": "code",
      "metadata": {
        "id": "gBdLCZOdp95R",
        "colab": {
          "base_uri": "https://localhost:8080/",
          "height": 196
        },
        "outputId": "e3c7768a-953c-4703-b6d6-e28cc146ec81"
      },
      "source": [
        "relat_orders_visits_agg.head(5)\n",
        "# ok here"
      ],
      "execution_count": 41,
      "outputs": [
        {
          "output_type": "execute_result",
          "data": {
            "text/html": [
              "<div>\n",
              "<style scoped>\n",
              "    .dataframe tbody tr th:only-of-type {\n",
              "        vertical-align: middle;\n",
              "    }\n",
              "\n",
              "    .dataframe tbody tr th {\n",
              "        vertical-align: top;\n",
              "    }\n",
              "\n",
              "    .dataframe thead th {\n",
              "        text-align: right;\n",
              "    }\n",
              "</style>\n",
              "<table border=\"1\" class=\"dataframe\">\n",
              "  <thead>\n",
              "    <tr style=\"text-align: right;\">\n",
              "      <th></th>\n",
              "      <th>date</th>\n",
              "      <th>ordersA</th>\n",
              "      <th>ordersB</th>\n",
              "      <th>revenueA</th>\n",
              "      <th>revenueB</th>\n",
              "    </tr>\n",
              "  </thead>\n",
              "  <tbody>\n",
              "    <tr>\n",
              "      <th>0</th>\n",
              "      <td>2019-08-01</td>\n",
              "      <td>23</td>\n",
              "      <td>17</td>\n",
              "      <td>2266.6</td>\n",
              "      <td>967.2</td>\n",
              "    </tr>\n",
              "    <tr>\n",
              "      <th>1</th>\n",
              "      <td>2019-08-02</td>\n",
              "      <td>42</td>\n",
              "      <td>40</td>\n",
              "      <td>3734.9</td>\n",
              "      <td>3535.3</td>\n",
              "    </tr>\n",
              "    <tr>\n",
              "      <th>2</th>\n",
              "      <td>2019-08-03</td>\n",
              "      <td>66</td>\n",
              "      <td>54</td>\n",
              "      <td>5550.1</td>\n",
              "      <td>4606.9</td>\n",
              "    </tr>\n",
              "    <tr>\n",
              "      <th>3</th>\n",
              "      <td>2019-08-04</td>\n",
              "      <td>77</td>\n",
              "      <td>68</td>\n",
              "      <td>6225.6</td>\n",
              "      <td>6138.5</td>\n",
              "    </tr>\n",
              "    <tr>\n",
              "      <th>4</th>\n",
              "      <td>2019-08-05</td>\n",
              "      <td>99</td>\n",
              "      <td>89</td>\n",
              "      <td>7623.6</td>\n",
              "      <td>7587.8</td>\n",
              "    </tr>\n",
              "  </tbody>\n",
              "</table>\n",
              "</div>"
            ],
            "text/plain": [
              "        date  ordersA  ordersB  revenueA  revenueB\n",
              "0 2019-08-01       23       17    2266.6     967.2\n",
              "1 2019-08-02       42       40    3734.9    3535.3\n",
              "2 2019-08-03       66       54    5550.1    4606.9\n",
              "3 2019-08-04       77       68    6225.6    6138.5\n",
              "4 2019-08-05       99       89    7623.6    7587.8"
            ]
          },
          "metadata": {
            "tags": []
          },
          "execution_count": 41
        }
      ]
    },
    {
      "cell_type": "code",
      "metadata": {
        "id": "NdQgzbI8i__p",
        "colab": {
          "base_uri": "https://localhost:8080/",
          "height": 527
        },
        "outputId": "da8d1169-c3af-43ff-9bfe-6f720b2ada35"
      },
      "source": [
        "# plotting :\n",
        "plt.figure(figsize=(17,9),facecolor='white')\n",
        "plt.plot(\n",
        "    relat_orders_visits_agg['date'], \n",
        "    (relat_orders_visits_agg['revenueB']/relat_orders_visits_agg['ordersB'])/(relat_orders_visits_agg['revenueA']/relat_orders_visits_agg['ordersA'])-1)\n",
        "\n",
        "# adding the X axis\n",
        "plt.axhline(y=0, color='grey', linestyle='--') \n",
        "plt.ylabel('B/A cumulative average order',fontsize=16)\n",
        "plt.title('Graph the relative difference in cumulative average order size for group B compared with group A',fontsize=16)\n",
        "plt.show()"
      ],
      "execution_count": 42,
      "outputs": [
        {
          "output_type": "display_data",
          "data": {
            "image/png": "[encoded data removed]",
            "text/plain": [
              "<Figure size 1224x648 with 1 Axes>"
            ]
          },
          "metadata": {
            "tags": []
          }
        }
      ]
    },
    {
      "cell_type": "markdown",
      "metadata": {
        "id": "Pz6b5ktErBUJ"
      },
      "source": [
        "results:\n",
        "- graph correlated to the previous graphs and showing the same picture from another point of view\n",
        "- one more indication to existing oulier within group B which impact to average size of B/A"
      ]
    },
    {
      "cell_type": "markdown",
      "metadata": {
        "id": "KRcYe7dzrmNu"
      },
      "source": [
        "## 4.\tCalculate each group's conversion rate as the ratio of orders to the number of visits for each day. Plot the daily conversion rates of the two groups and describe the difference. Draw conclusions and make conjectures."
      ]
    },
    {
      "cell_type": "code",
      "metadata": {
        "id": "nOJnwdVvi_-y"
      },
      "source": [
        "# new conversion col:\n",
        "orders_visits_agg['conversion'] = orders_visits_agg['orders']/orders_visits_agg['visitors']"
      ],
      "execution_count": 43,
      "outputs": []
    },
    {
      "cell_type": "code",
      "metadata": {
        "id": "10Lm1rnptGsM",
        "colab": {
          "base_uri": "https://localhost:8080/",
          "height": 588
        },
        "outputId": "35a85c57-124d-4288-be84-dd1953c89388"
      },
      "source": [
        "# pivot and plot:\n",
        "orders_visits_agg.pivot('date','group','conversion').plot(figsize=(17,9))\n",
        "plt.title('Conversion rate of orders to the number of visits for each day and group',fontsize=18)\n",
        "plt.xlabel('Day',fontsize=18)\n",
        "plt.ylabel('Conversion Rate',fontsize=18)\n",
        "plt.show()"
      ],
      "execution_count": 44,
      "outputs": [
        {
          "output_type": "display_data",
          "data": {
            "image/png": "[encoded data removed]",
            "text/plain": [
              "<Figure size 1224x648 with 1 Axes>"
            ]
          },
          "metadata": {
            "tags": [],
            "needs_background": "light"
          }
        }
      ]
    },
    {
      "cell_type": "markdown",
      "metadata": {
        "id": "hY7uRW1Jtz3z"
      },
      "source": [
        "results:\n",
        "- The start is unstable but trends are shown good after\n",
        "- Group B shows better preformances conversion rates\n",
        "- in this case we can assume that the revenues of B should be higher than A (indicators are in the previous revenue graphs)"
      ]
    },
    {
      "cell_type": "markdown",
      "metadata": {
        "id": "9R8-U_Szt5rG"
      },
      "source": [
        "## 5.\tPlot a scatter chart of the number of orders per user. conclusions and conjectures.\n",
        "## 6.\tCalculate the 95th and 99th percentiles for the number of orders per user. Define the point at which a data point becomes an anomaly."
      ]
    },
    {
      "cell_type": "code",
      "metadata": {
        "id": "q3bJgAAsi_9c"
      },
      "source": [
        "# create unique orders foe user\n",
        "orders_users = orders.drop(['date','revenue','group'],axis=1).groupby('visitorId',as_index=False).agg({'transactionId':'nunique'})"
      ],
      "execution_count": 45,
      "outputs": []
    },
    {
      "cell_type": "code",
      "metadata": {
        "id": "fWWk8gKcHAqg"
      },
      "source": [
        "# col rename:\n",
        "orders_users.columns = ['visitorId','n_orders']"
      ],
      "execution_count": 46,
      "outputs": []
    },
    {
      "cell_type": "code",
      "metadata": {
        "id": "c25hl93oHKa5"
      },
      "source": [
        "orders_users = orders_users.sort_values(by='n_orders',ascending=False)"
      ],
      "execution_count": 47,
      "outputs": []
    },
    {
      "cell_type": "code",
      "metadata": {
        "id": "Oc0Njr0-HX27",
        "colab": {
          "base_uri": "https://localhost:8080/",
          "height": 567
        },
        "outputId": "c2c72965-206f-4992-c254-794cc615652f"
      },
      "source": [
        "### hist:\n",
        "plt.figure(figsize=(12,9),facecolor='white')\n",
        "plt.hist(orders_users['n_orders'],bins=15)\n",
        "plt.title('Number of orders')\n",
        "plt.xlabel('count')\n",
        "plt.ylabel('number of orders')\n",
        "plt.show()\n"
      ],
      "execution_count": 48,
      "outputs": [
        {
          "output_type": "display_data",
          "data": {
            "image/png": "[encoded data removed]",
            "text/plain": [
              "<Figure size 864x648 with 1 Axes>"
            ]
          },
          "metadata": {
            "tags": []
          }
        }
      ]
    },
    {
      "cell_type": "code",
      "metadata": {
        "id": "QJueVFAbG6JO",
        "colab": {
          "base_uri": "https://localhost:8080/",
          "height": 567
        },
        "outputId": "a64b3173-8ed9-4315-97ac-eccc06416e5d"
      },
      "source": [
        "# scatter plot:\n",
        "plt.figure(figsize=(12,9),facecolor='white')\n",
        "plt.scatter(range(0,len(orders_users)),orders_users['n_orders'])\n",
        "plt.ylabel('Number of orders')\n",
        "plt.xlabel('Count')\n",
        "plt.title('number of orders')\n",
        "plt.show()"
      ],
      "execution_count": 49,
      "outputs": [
        {
          "output_type": "display_data",
          "data": {
            "image/png": "[encoded data removed]",
            "text/plain": [
              "<Figure size 864x648 with 1 Axes>"
            ]
          },
          "metadata": {
            "tags": []
          }
        }
      ]
    },
    {
      "cell_type": "markdown",
      "metadata": {
        "id": "E2rGMM57H9Xh"
      },
      "source": [
        "- majority of the visitores place 1 order\n",
        "- small number of users has more than 1 orders (2-3)\n",
        "- from 2-5 orders placed is is about 100 orders in total (THIS RELATES TO PREVIOUS SUBMISION - PLEASE DISREGARD THIS NOTE - WAS WRITTEN BEFORE LATE ADJUSTMENTS HERE)"
      ]
    },
    {
      "cell_type": "code",
      "metadata": {
        "id": "bHGuV3wOCE_s",
        "colab": {
          "base_uri": "https://localhost:8080/"
        },
        "outputId": "130f0e20-074b-4b36-a91b-7d2a04081d20"
      },
      "source": [
        "np.percentile(orders_users['n_orders'],[95,99])"
      ],
      "execution_count": 50,
      "outputs": [
        {
          "output_type": "execute_result",
          "data": {
            "text/plain": [
              "array([1., 2.])"
            ]
          },
          "metadata": {
            "tags": []
          },
          "execution_count": 50
        }
      ]
    },
    {
      "cell_type": "markdown",
      "metadata": {
        "id": "NymCZhulMevw"
      },
      "source": [
        "- Anomaly is in the last percent which is after 4 purchases by user\n",
        "- when looking at the scatter plot above we may take the 5th in count as well and probably disregard the rest of the last percentile"
      ]
    },
    {
      "cell_type": "markdown",
      "metadata": {
        "id": "6cmsamPktzef"
      },
      "source": [
        "\n",
        "<b>conclusion </b>\n",
        "\n",
        "Anomally point is where the data is getting distorted by and impacting the rest of the sample by getting a bias conclusions and graphs.\n",
        "\n",
        "this time (afther the adjustments done earlier in the -users in both groups- section we can notice that the anomally percent is very low this time and more than 99% of the sample seems to be in good order.\n",
        "- as we see in our hist and scatter plot we can easily notice that most of the users are with one purchase \n",
        "- very few has 2 purchases\n",
        "- we can consider 3 purchase as anomally in this case [which is less than 1%]</div>"
      ]
    },
    {
      "cell_type": "markdown",
      "metadata": {
        "id": "WIeFj4nlM9lg"
      },
      "source": [
        "## 7.\tPlot a scatter chart of order prices. Make conclusions and conjectures.\n",
        "## 8.\tCalculate the 95th and 99th percentiles of order prices. Define the point at which a data point becomes an anomaly."
      ]
    },
    {
      "cell_type": "code",
      "metadata": {
        "id": "OecbpIyTCFSC",
        "colab": {
          "base_uri": "https://localhost:8080/",
          "height": 567
        },
        "outputId": "f2eeda35-6898-4746-865d-f9bb99104d1f"
      },
      "source": [
        "plt.figure(figsize=(12,9),facecolor='white')\n",
        "plt.scatter(range(0,len(orders)),orders['revenue'])\n",
        "plt.xlabel('User')\n",
        "plt.xlabel('Revenue')\n",
        "plt.title('Distribution of user\\'s revenue')\n",
        "plt.show()"
      ],
      "execution_count": 51,
      "outputs": [
        {
          "output_type": "display_data",
          "data": {
            "image/png": "[encoded data removed]",
            "text/plain": [
              "<Figure size 864x648 with 1 Axes>"
            ]
          },
          "metadata": {
            "tags": []
          }
        }
      ]
    },
    {
      "cell_type": "code",
      "metadata": {
        "id": "Aot-znzwCFeP",
        "colab": {
          "base_uri": "https://localhost:8080/"
        },
        "outputId": "021037f3-69a5-4180-847d-76012453fc47"
      },
      "source": [
        "# 95 & 99 percentile:\n",
        "np.percentile(orders['revenue'],[95,99])"
      ],
      "execution_count": 52,
      "outputs": [
        {
          "output_type": "execute_result",
          "data": {
            "text/plain": [
              "array([414.275, 830.3  ])"
            ]
          },
          "metadata": {
            "tags": []
          },
          "execution_count": 52
        }
      ]
    },
    {
      "cell_type": "code",
      "metadata": {
        "id": "FjPjcX0yQTRK",
        "colab": {
          "base_uri": "https://localhost:8080/",
          "height": 567
        },
        "outputId": "e7f0ab6f-b76e-40b8-ec11-6b3a5d4dee00"
      },
      "source": [
        "# additional quick look into the distribution into the 95% percentiles:\n",
        "plt.figure(figsize=(12,9),facecolor='white')\n",
        "plt.scatter(range(0,len(orders)),orders['revenue'])\n",
        "plt.xlabel('User')\n",
        "plt.xlabel('Revenue')\n",
        "plt.title('Distribution of user\\'s revenue')\n",
        "plt.ylim([0, 450])\n",
        "plt.show()"
      ],
      "execution_count": 53,
      "outputs": [
        {
          "output_type": "display_data",
          "data": {
            "image/png": "[encoded data removed]",
            "text/plain": [
              "<Figure size 864x648 with 1 Axes>"
            ]
          },
          "metadata": {
            "tags": []
          }
        }
      ]
    },
    {
      "cell_type": "markdown",
      "metadata": {
        "id": "HUEgqT5ENYLJ"
      },
      "source": [
        "- last 5 percntiles in revenue column are probably outliers and impacting the results sighnifically. that is where anomaly starts\n",
        "- the highest figures are the ones that cause a massive skweness to the distribution the revenues and cousing a big distortion\n",
        "- when looking at only the first 95 percentiles the distribution looks better and proportions are looks good\n",
        "- the anomalies probably comes from a glitch in the output of the data or caused by a typo mistakes"
      ]
    },
    {
      "cell_type": "markdown",
      "metadata": {
        "id": "INBO9I-cT5CS"
      },
      "source": [
        "## 9.\tFind the statistical significance of the difference in conversion between the groups using the raw data. Make conclusions and conjectures."
      ]
    },
    {
      "cell_type": "markdown",
      "metadata": {
        "id": "_zulM8jc-05H"
      },
      "source": [
        "_alpha = 0.05_"
      ]
    },
    {
      "cell_type": "markdown",
      "metadata": {
        "id": "Yb6B2lUrtzek"
      },
      "source": [
        "\n",
        "```\n",
        "H0: μ0 = μ1 \\ mean conversion rate of Group A is equal to Group B\n",
        "\n",
        "H1: μ0 ≠ μ1 \\ mean conversion rate of Group A is not equal to Group B\n",
        "```\n",
        "\n",
        "\n",
        "__if p-value is less than alpha we reject hypothesis__"
      ]
    },
    {
      "cell_type": "code",
      "metadata": {
        "id": "e14g3Yh6U5BN"
      },
      "source": [
        "# users for each varaible group with number of orders: \n",
        "ordersByUsersA = orders[orders['group']=='A'].groupby('visitorId', as_index=False).agg({'transactionId':'nunique'})\n",
        "ordersByUsersA.columns = ['visitorId', 'orders']\n",
        "\n",
        "ordersByUsersB = orders[orders['group']=='B'].groupby('visitorId', as_index=False).agg({'transactionId':'nunique'})\n",
        "ordersByUsersB.columns = ['visitorId', 'orders']\n"
      ],
      "execution_count": 54,
      "outputs": []
    },
    {
      "cell_type": "code",
      "metadata": {
        "id": "Ijum-GQ_Xa5s"
      },
      "source": [
        "# concat orders of group A with users without any oders (=0)\n",
        "group_a = pd.concat(\n",
        "    [ordersByUsersA['orders'],\n",
        "     pd.Series(0, index=np.arange(visits[visits['group']=='A']['visits'].sum() - len(ordersByUsersA['orders'])), name='orders')],\n",
        "     axis=0)"
      ],
      "execution_count": 55,
      "outputs": []
    },
    {
      "cell_type": "code",
      "metadata": {
        "id": "rGYUqtRFU5Uc"
      },
      "source": [
        "# the same concat with group B:\n",
        "group_b = pd.concat(\n",
        "    [ordersByUsersB['orders'],\n",
        "     pd.Series(0, index=np.arange(visits[visits['group']=='B']['visits'].sum() - len(ordersByUsersB['orders'])), name='orders')],\n",
        "     axis=0)"
      ],
      "execution_count": 56,
      "outputs": []
    },
    {
      "cell_type": "code",
      "metadata": {
        "id": "MESjDyXqU5gM",
        "colab": {
          "base_uri": "https://localhost:8080/"
        },
        "outputId": "9c544a9e-dd9a-4465-fdf0-3541e3d3858c"
      },
      "source": [
        "print(\"p-value: {0:.3f}\".format(stats.mannwhitneyu(group_a, group_b)[1]))\n",
        "print(\"relative profit/loss of group A/B: {0:.3f}\".format(group_a.mean()/group_b.mean()-1)) "
      ],
      "execution_count": 57,
      "outputs": [
        {
          "output_type": "stream",
          "text": [
            "p-value: 0.006\n",
            "relative profit/loss of group A/B: -0.138\n"
          ],
          "name": "stdout"
        }
      ]
    },
    {
      "cell_type": "markdown",
      "metadata": {
        "id": "6yjgy1Aa9Hs5"
      },
      "source": [
        "\n",
        "results:\n",
        "\n",
        "- p-value = 0.008 which is lower than alpha (= 0.05). So we can reject the null hypothesis that there's  a statistically significant difference in conversion between the groups.\n",
        "- the relative loss of group A is 12.1% \n",
        "- based on the data there is a difference between group A and B"
      ]
    },
    {
      "cell_type": "markdown",
      "metadata": {
        "id": "ZeMaW2cb9Sm8"
      },
      "source": [
        "## 10.\tFind the statistical significance of the difference in average order size between the groups using the raw data. Make conclusions and conjectures."
      ]
    },
    {
      "cell_type": "markdown",
      "metadata": {
        "id": "MiECvWs6tzen"
      },
      "source": [
        "_alpha = 0.05_"
      ]
    },
    {
      "cell_type": "markdown",
      "metadata": {
        "id": "2u_uHf9Rtzen"
      },
      "source": [
        "\n",
        "```\n",
        "H0: μ0 = μ1 \\ mean order size of Group A is equal to Group B\n",
        "\n",
        "H1: μ0 ≠ μ1 \\ mean order size of Group A is not equal to Group B\n",
        "```\n",
        "\n",
        "\n",
        "__if p-value is less than alpha we reject hypothesis__"
      ]
    },
    {
      "cell_type": "code",
      "metadata": {
        "id": "FZ8jSMwOU5Pw",
        "colab": {
          "base_uri": "https://localhost:8080/"
        },
        "outputId": "e2415244-2d63-41e7-d670-2171d0f59f12"
      },
      "source": [
        "print(\"p-value: {0:.3f}\".format(stats.mannwhitneyu(orders[orders['group']=='A']['revenue'], orders[orders['group']=='B']['revenue'])[1]))\n",
        "print(\"ralative avg. size for group B/A: {0:.3f}\".format(orders[orders['group']=='B']['revenue'].mean()/orders[orders['group']=='A']['revenue'].mean()-1))"
      ],
      "execution_count": 58,
      "outputs": [
        {
          "output_type": "stream",
          "text": [
            "p-value: 0.431\n",
            "ralative avg. size for group B/A: 0.278\n"
          ],
          "name": "stdout"
        }
      ]
    },
    {
      "cell_type": "markdown",
      "metadata": {
        "id": "YbEmCeGFAWJn"
      },
      "source": [
        "result:\n",
        "- The p-value is  higher than 0.05 so can't reject the null hypothesis and conclude that average order size differs between the groups.\n",
        "- The average order size for group B isbigger than it is for group A by 27.8%"
      ]
    },
    {
      "cell_type": "markdown",
      "metadata": {
        "id": "jwmmpFnOBbjA"
      },
      "source": [
        "## 11.\tFind the statistical significance of the difference in conversion between the groups using the filtered data. Make conclusions and conjectures."
      ]
    },
    {
      "cell_type": "markdown",
      "metadata": {
        "id": "2cmuccU5tzep"
      },
      "source": [
        "\n",
        "```\n",
        "H0: μ0 = μ1 \\ mean conversion rate of Group A - filtered is equal to Group B - filtered\n",
        "\n",
        "H1: μ0 ≠ μ1 \\ mean conversion rate of Group A - filtered is not equal to Group B - filtered\n",
        "```\n",
        "\n",
        "\n",
        "__if p-value is less than alpha we reject hypothesis__"
      ]
    },
    {
      "cell_type": "code",
      "metadata": {
        "id": "EA8dqq0zDi9M",
        "colab": {
          "base_uri": "https://localhost:8080/"
        },
        "outputId": "0b87b417-b3b3-4ed2-eeb3-6c2e5eb67318"
      },
      "source": [
        "# users with many orders- higher than 4 (last 5 percentiles):\n",
        "usersWithManyOrders = pd.concat([ordersByUsersA[ordersByUsersA['orders'] > 4]['visitorId'], ordersByUsersB[ordersByUsersB['orders'] > 4]['visitorId']], axis = 0)\n",
        "# users with expensive orders - higher than 450 (last 5 percentiles):\n",
        "usersWithExpensiveOrders = orders[orders['revenue'] > 450]['visitorId']\n",
        "# abnormal users - all the users with abnormal figures defined above:\n",
        "abnormalUsers = pd.concat([usersWithManyOrders, usersWithExpensiveOrders], axis = 0).drop_duplicates().sort_values()\n",
        "print('Total number of anomaly rows: {}'.format(abnormalUsers.shape))"
      ],
      "execution_count": 59,
      "outputs": [
        {
          "output_type": "stream",
          "text": [
            "Total number of anomaly rows: (44,)\n"
          ],
          "name": "stdout"
        }
      ]
    },
    {
      "cell_type": "code",
      "metadata": {
        "id": "prPqaerADi7i"
      },
      "source": [
        "# getting filtered samples without the anomalies (only the first 95% of the raw data)\n",
        "sampleAFiltered = pd.concat(\n",
        "    [ordersByUsersA[np.logical_not(ordersByUsersA['visitorId'].isin(abnormalUsers))]['orders'],\n",
        "     pd.Series(0, index=np.arange(visits[visits['group']=='A']['visits'].sum() - len(ordersByUsersA['orders'])),name='orders')],axis=0)\n",
        "\n",
        "sampleBFiltered = pd.concat(\n",
        "    [ordersByUsersB[np.logical_not(ordersByUsersB['visitorId'].isin(abnormalUsers))]['orders'],\n",
        "     pd.Series(0, index=np.arange(visits[visits['group']=='B']['visits'].sum() - len(ordersByUsersB['orders'])),name='orders')],axis=0)\n"
      ],
      "execution_count": 60,
      "outputs": []
    },
    {
      "cell_type": "code",
      "metadata": {
        "id": "ErRgBOlwDi6J",
        "colab": {
          "base_uri": "https://localhost:8080/"
        },
        "outputId": "e9b9d365-b703-4f27-9b68-7e44cd0d5e75"
      },
      "source": [
        "print(\"p-value: {0:.3f}\".format(stats.mannwhitneyu(sampleAFiltered, sampleBFiltered)[1]))\n",
        "print(\"relative profit/loss of group A/B: {0:.3f}\".format(sampleAFiltered.mean()/sampleBFiltered.mean()-1))"
      ],
      "execution_count": 61,
      "outputs": [
        {
          "output_type": "stream",
          "text": [
            "p-value: 0.007\n",
            "relative profit/loss of group A/B: -0.139\n"
          ],
          "name": "stdout"
        }
      ]
    },
    {
      "cell_type": "markdown",
      "metadata": {
        "id": "4ZQwdqHIF1GJ"
      },
      "source": [
        "results:\n",
        "- p-value almost without change so the null hypothesis reject is remain\n",
        "- realative loss of group A without a sgnificant change as well\n",
        "- conclusion remains the same - there is a difference between the groups"
      ]
    },
    {
      "cell_type": "markdown",
      "metadata": {
        "id": "kq24RV2EG2xU"
      },
      "source": [
        "## 12.\tFind the statistical significance of the difference in average order size between the groups using the filtered data. Make conclusions and conjectures."
      ]
    },
    {
      "cell_type": "markdown",
      "metadata": {
        "id": "QYh-oOkVtzer"
      },
      "source": [
        "_alpha = 0.05_"
      ]
    },
    {
      "cell_type": "markdown",
      "metadata": {
        "id": "WZHFGz7rtzer"
      },
      "source": [
        "\n",
        "```\n",
        "H0: μ0 = μ1 \\ mean orders size of Group A - filtered is equal to Group B - filtered\n",
        "\n",
        "H1: μ0 ≠ μ1 \\ mean orders size of Group A - filtered is not equal to Group B - filtered\n",
        "```\n",
        "\n",
        "\n",
        "__if p-value is less than alpha we reject hypothesis__"
      ]
    },
    {
      "cell_type": "code",
      "metadata": {
        "id": "GionTB6fDixu",
        "colab": {
          "base_uri": "https://localhost:8080/"
        },
        "outputId": "fc2d8aec-0a7c-4df5-a411-204420ee09a8"
      },
      "source": [
        "print(\"p-value: {0:.3f}\".format(stats.mannwhitneyu(\n",
        "    orders[np.logical_and(\n",
        "        orders['group']=='A',\n",
        "        np.logical_not(orders['visitorId'].isin(abnormalUsers)))]['revenue'],\n",
        "    orders[np.logical_and(\n",
        "        orders['group']=='B',\n",
        "        np.logical_not(orders['visitorId'].isin(abnormalUsers)))]['revenue'])[1]))\n",
        "\n",
        "print(\"ralative avg. size for group B/A: {0:.3f}\".format(\n",
        "    orders[np.logical_and(orders['group']=='B',np.logical_not(orders['visitorId'].isin(abnormalUsers)))]['revenue'].mean()/\n",
        "    orders[np.logical_and(\n",
        "        orders['group']=='A',\n",
        "        np.logical_not(orders['visitorId'].isin(abnormalUsers)))]['revenue'].mean() - 1))"
      ],
      "execution_count": 62,
      "outputs": [
        {
          "output_type": "stream",
          "text": [
            "p-value: 0.442\n",
            "ralative avg. size for group B/A: -0.029\n"
          ],
          "name": "stdout"
        }
      ]
    },
    {
      "cell_type": "markdown",
      "metadata": {
        "id": "6weQM5G1HnpD"
      },
      "source": [
        "results:\n",
        "- The p-value still more than 0.05 and still we unable toreject the null hypothesis and conclude that average order size differs between the groups.\n",
        "- when droping the outlieres we do notice that in a ralative manners the avg size between the groups are no different anymore (only 2.9% difference) instaed of being more than 20% diffrence before\n"
      ]
    },
    {
      "cell_type": "markdown",
      "metadata": {
        "id": "RjRCH6R4tzes"
      },
      "source": [
        "\n",
        "<b>conclusion [new]: </b>\n",
        "- reagarding the p-value tests in both filtered and raw data we see no change between the tests which may indicate that the anomally has minor effect in this case\n",
        "- noticed B/A test diffrences between the raw and filtered data. gaps were reduced between the groupbs when tests wehere applied to the filtered data"
      ]
    },
    {
      "cell_type": "markdown",
      "metadata": {
        "id": "hb5NvvNgIGSt"
      },
      "source": [
        "## 13.\tMake a decision based on the test results. The possible decisions are: \n",
        "1. Stop the test, consider one of the groups the leader. \n",
        "2. Stop the test, conclude that there is no difference between the groups. \n",
        "3. Continue the test."
      ]
    },
    {
      "cell_type": "markdown",
      "metadata": {
        "id": "eFHsktIKR5XT"
      },
      "source": [
        "__Final conclusion:__\n",
        "\n",
        "seems that the conclusions are with the same motives through all the graphs and tests from the beginning.\n",
        "\n",
        "at the beggining we notices about the revenue of group B (big jump-outlier) which impacted continuous graphs results (orders table) which if we were looking by them only our assumptions probably were not good and satisfying enough\n",
        "\n",
        "after making Wilcoxon-Mann-Whitney p-value test we were able to tell that even when outliers are removed no impact was done on the p-value tests:\n",
        "visits - group B was undoubtedly a better group with higher retentions rates than group A\n",
        "orders - no changes between the groups with raw / filtered data sets so on this part there is no better group\n",
        "\n",
        "after a month of reseach I think the best way is to stop the test and consider group B as a winner if our main goal was getting higer retentions only but when we are take in place revenues as weel here we do not have a concrete result and it is all a matter of time and money investments to decide whether to continue the test a bit more or not\n",
        "\n",
        "\n",
        "with that been said my decision would probably be to continue the test because we did notied for a conversions to get bigger wihch may impact the revenue on the next period of time and not have been procduced in cuurent month in this area which we probably need more time to get our fruits on this side as well with more time our sagnificance would be better on the revenues side if we would continue the tesst for another"
      ]
    }
  ]
}