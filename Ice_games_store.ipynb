{
  "nbformat": 4,
  "nbformat_minor": 0,
  "metadata": {
    "colab": {
      "name": "games_new.ipynb",
      "provenance": [],
      "collapsed_sections": [],
      "toc_visible": true
    },
    "kernelspec": {
      "name": "python3",
      "display_name": "Python 3"
    }
  },
  "cells": [
    {
      "cell_type": "markdown",
      "metadata": {
        "id": "LilZEjwlcy_l"
      },
      "source": [
        "# Project Description\r\n",
        "Online store Ice, which sells video games all over the world. User and expert reviews, genres, platforms (e.g. Xbox or PlayStation), and historical data on game sales are available from open sources. You need to identify patterns that determine whether a game succeeds or not. This will allow you to spot potential big winners and plan advertising campaigns.\r\n",
        "In front of you is data going back to 2016. Let’s imagine that it’s December 2016 and you’re planning a campaign for 2017.\r\n",
        "(The important thing is to get experience working with data. It doesn't really matter whether you're forecasting 2017 sales based on data from 2016 or 2027 sales based on data from 2026.)\r\n",
        "The dataset contains the abbreviation ESRB. The Entertainment Software Rating Board evaluates a game's content and assigns an age rating such as Teen or Mature.\r\n"
      ]
    },
    {
      "cell_type": "markdown",
      "metadata": {
        "id": "FEzRkw0XKu_K"
      },
      "source": [
        "# Step 1. Open the data file and study the general information"
      ]
    },
    {
      "cell_type": "code",
      "metadata": {
        "id": "NV3KTp3sLHM8"
      },
      "source": [
        "import pandas as pd\n",
        "import numpy as np\n",
        "import seaborn as sns\n",
        "import matplotlib.pyplot as plt\n",
        "from scipy import stats\n",
        "from scipy.stats import norm\n",
        "# !pip install squarify\n",
        "# import squarify\n",
        "from scipy import stats as st\n",
        "# import requests #\n",
        "# import bs4\n",
        "# from bs4 import BeautifulSoup\n",
        "# import re\n",
        "# from threading import Thread\n",
        "# import pandas.util.testing as tm\n",
        "%matplotlib inline"
      ],
      "execution_count": 1,
      "outputs": []
    },
    {
      "cell_type": "code",
      "metadata": {
        "id": "guRkq6_aLP_y"
      },
      "source": [
        "# df:\n",
        "games = pd.read_csv('/content/games.csv')"
      ],
      "execution_count": 2,
      "outputs": []
    },
    {
      "cell_type": "code",
      "metadata": {
        "id": "1gqIS4LUlPzp"
      },
      "source": [
        "# drop dupps:\n",
        "games = games.drop_duplicates()"
      ],
      "execution_count": 3,
      "outputs": []
    },
    {
      "cell_type": "code",
      "metadata": {
        "id": "HF8DtRnlLm4_",
        "colab": {
          "base_uri": "https://localhost:8080/"
        },
        "outputId": "1b8040f5-3b10-429a-841a-c6d14c910a85"
      },
      "source": [
        "games.info()"
      ],
      "execution_count": 4,
      "outputs": [
        {
          "output_type": "stream",
          "text": [
            "<class 'pandas.core.frame.DataFrame'>\n",
            "Int64Index: 16715 entries, 0 to 16714\n",
            "Data columns (total 11 columns):\n",
            " #   Column           Non-Null Count  Dtype  \n",
            "---  ------           --------------  -----  \n",
            " 0   Name             16713 non-null  object \n",
            " 1   Platform         16715 non-null  object \n",
            " 2   Year_of_Release  16446 non-null  float64\n",
            " 3   Genre            16713 non-null  object \n",
            " 4   NA_sales         16715 non-null  float64\n",
            " 5   EU_sales         16715 non-null  float64\n",
            " 6   JP_sales         16715 non-null  float64\n",
            " 7   Other_sales      16715 non-null  float64\n",
            " 8   Critic_Score     8137 non-null   float64\n",
            " 9   User_Score       10014 non-null  object \n",
            " 10  Rating           9949 non-null   object \n",
            "dtypes: float64(6), object(5)\n",
            "memory usage: 1.5+ MB\n"
          ],
          "name": "stdout"
        }
      ]
    },
    {
      "cell_type": "markdown",
      "metadata": {
        "id": "t98KisJiMBHw"
      },
      "source": [
        "- from the df above we get total of 16715 rows & 11 columns\n",
        "\n",
        "- missing values noted in last Rating, user score, critic score genere and release year\n",
        "\n",
        "- not noted: in the sales columns we might get zeros \n",
        "\n",
        "- Year_of_Release - will be changed to integer (datetime variable will not be useful and we can trat the year as an integer as well for this data frame)"
      ]
    },
    {
      "cell_type": "code",
      "metadata": {
        "id": "qPVffiwsM4L-",
        "colab": {
          "base_uri": "https://localhost:8080/",
          "height": 286
        },
        "outputId": "3d89f594-5bed-43be-8d3d-d969c4238918"
      },
      "source": [
        "games.describe()"
      ],
      "execution_count": 5,
      "outputs": [
        {
          "output_type": "execute_result",
          "data": {
            "text/html": [
              "<div>\n",
              "<style scoped>\n",
              "    .dataframe tbody tr th:only-of-type {\n",
              "        vertical-align: middle;\n",
              "    }\n",
              "\n",
              "    .dataframe tbody tr th {\n",
              "        vertical-align: top;\n",
              "    }\n",
              "\n",
              "    .dataframe thead th {\n",
              "        text-align: right;\n",
              "    }\n",
              "</style>\n",
              "<table border=\"1\" class=\"dataframe\">\n",
              "  <thead>\n",
              "    <tr style=\"text-align: right;\">\n",
              "      <th></th>\n",
              "      <th>Year_of_Release</th>\n",
              "      <th>NA_sales</th>\n",
              "      <th>EU_sales</th>\n",
              "      <th>JP_sales</th>\n",
              "      <th>Other_sales</th>\n",
              "      <th>Critic_Score</th>\n",
              "    </tr>\n",
              "  </thead>\n",
              "  <tbody>\n",
              "    <tr>\n",
              "      <th>count</th>\n",
              "      <td>16446.000000</td>\n",
              "      <td>16715.000000</td>\n",
              "      <td>16715.000000</td>\n",
              "      <td>16715.000000</td>\n",
              "      <td>16715.000000</td>\n",
              "      <td>8137.000000</td>\n",
              "    </tr>\n",
              "    <tr>\n",
              "      <th>mean</th>\n",
              "      <td>2006.484616</td>\n",
              "      <td>0.263377</td>\n",
              "      <td>0.145060</td>\n",
              "      <td>0.077617</td>\n",
              "      <td>0.047342</td>\n",
              "      <td>68.967679</td>\n",
              "    </tr>\n",
              "    <tr>\n",
              "      <th>std</th>\n",
              "      <td>5.877050</td>\n",
              "      <td>0.813604</td>\n",
              "      <td>0.503339</td>\n",
              "      <td>0.308853</td>\n",
              "      <td>0.186731</td>\n",
              "      <td>13.938165</td>\n",
              "    </tr>\n",
              "    <tr>\n",
              "      <th>min</th>\n",
              "      <td>1980.000000</td>\n",
              "      <td>0.000000</td>\n",
              "      <td>0.000000</td>\n",
              "      <td>0.000000</td>\n",
              "      <td>0.000000</td>\n",
              "      <td>13.000000</td>\n",
              "    </tr>\n",
              "    <tr>\n",
              "      <th>25%</th>\n",
              "      <td>2003.000000</td>\n",
              "      <td>0.000000</td>\n",
              "      <td>0.000000</td>\n",
              "      <td>0.000000</td>\n",
              "      <td>0.000000</td>\n",
              "      <td>60.000000</td>\n",
              "    </tr>\n",
              "    <tr>\n",
              "      <th>50%</th>\n",
              "      <td>2007.000000</td>\n",
              "      <td>0.080000</td>\n",
              "      <td>0.020000</td>\n",
              "      <td>0.000000</td>\n",
              "      <td>0.010000</td>\n",
              "      <td>71.000000</td>\n",
              "    </tr>\n",
              "    <tr>\n",
              "      <th>75%</th>\n",
              "      <td>2010.000000</td>\n",
              "      <td>0.240000</td>\n",
              "      <td>0.110000</td>\n",
              "      <td>0.040000</td>\n",
              "      <td>0.030000</td>\n",
              "      <td>79.000000</td>\n",
              "    </tr>\n",
              "    <tr>\n",
              "      <th>max</th>\n",
              "      <td>2016.000000</td>\n",
              "      <td>41.360000</td>\n",
              "      <td>28.960000</td>\n",
              "      <td>10.220000</td>\n",
              "      <td>10.570000</td>\n",
              "      <td>98.000000</td>\n",
              "    </tr>\n",
              "  </tbody>\n",
              "</table>\n",
              "</div>"
            ],
            "text/plain": [
              "       Year_of_Release      NA_sales  ...   Other_sales  Critic_Score\n",
              "count     16446.000000  16715.000000  ...  16715.000000   8137.000000\n",
              "mean       2006.484616      0.263377  ...      0.047342     68.967679\n",
              "std           5.877050      0.813604  ...      0.186731     13.938165\n",
              "min        1980.000000      0.000000  ...      0.000000     13.000000\n",
              "25%        2003.000000      0.000000  ...      0.000000     60.000000\n",
              "50%        2007.000000      0.080000  ...      0.010000     71.000000\n",
              "75%        2010.000000      0.240000  ...      0.030000     79.000000\n",
              "max        2016.000000     41.360000  ...     10.570000     98.000000\n",
              "\n",
              "[8 rows x 6 columns]"
            ]
          },
          "metadata": {
            "tags": []
          },
          "execution_count": 5
        }
      ]
    },
    {
      "cell_type": "markdown",
      "metadata": {
        "id": "ccX8vi1oMvjB"
      },
      "source": [
        "- as mentioned above - zeros are extremely notable within the data frame\n",
        "\n",
        "- 50% of JP sales are filled with zeros only. we can say the same for NA (0.00) & EU (0.02) sales as well\n"
      ]
    },
    {
      "cell_type": "code",
      "metadata": {
        "id": "7-38b0wgQmbj",
        "colab": {
          "base_uri": "https://localhost:8080/",
          "height": 166
        },
        "outputId": "ac9f6b2b-f5f8-49c3-963b-21093ad13541"
      },
      "source": [
        "# a look to object data types\n",
        "games.describe(include=['object'])"
      ],
      "execution_count": 6,
      "outputs": [
        {
          "output_type": "execute_result",
          "data": {
            "text/html": [
              "<div>\n",
              "<style scoped>\n",
              "    .dataframe tbody tr th:only-of-type {\n",
              "        vertical-align: middle;\n",
              "    }\n",
              "\n",
              "    .dataframe tbody tr th {\n",
              "        vertical-align: top;\n",
              "    }\n",
              "\n",
              "    .dataframe thead th {\n",
              "        text-align: right;\n",
              "    }\n",
              "</style>\n",
              "<table border=\"1\" class=\"dataframe\">\n",
              "  <thead>\n",
              "    <tr style=\"text-align: right;\">\n",
              "      <th></th>\n",
              "      <th>Name</th>\n",
              "      <th>Platform</th>\n",
              "      <th>Genre</th>\n",
              "      <th>User_Score</th>\n",
              "      <th>Rating</th>\n",
              "    </tr>\n",
              "  </thead>\n",
              "  <tbody>\n",
              "    <tr>\n",
              "      <th>count</th>\n",
              "      <td>16713</td>\n",
              "      <td>16715</td>\n",
              "      <td>16713</td>\n",
              "      <td>10014</td>\n",
              "      <td>9949</td>\n",
              "    </tr>\n",
              "    <tr>\n",
              "      <th>unique</th>\n",
              "      <td>11559</td>\n",
              "      <td>31</td>\n",
              "      <td>12</td>\n",
              "      <td>96</td>\n",
              "      <td>8</td>\n",
              "    </tr>\n",
              "    <tr>\n",
              "      <th>top</th>\n",
              "      <td>Need for Speed: Most Wanted</td>\n",
              "      <td>PS2</td>\n",
              "      <td>Action</td>\n",
              "      <td>tbd</td>\n",
              "      <td>E</td>\n",
              "    </tr>\n",
              "    <tr>\n",
              "      <th>freq</th>\n",
              "      <td>12</td>\n",
              "      <td>2161</td>\n",
              "      <td>3369</td>\n",
              "      <td>2424</td>\n",
              "      <td>3990</td>\n",
              "    </tr>\n",
              "  </tbody>\n",
              "</table>\n",
              "</div>"
            ],
            "text/plain": [
              "                               Name Platform   Genre User_Score Rating\n",
              "count                         16713    16715   16713      10014   9949\n",
              "unique                        11559       31      12         96      8\n",
              "top     Need for Speed: Most Wanted      PS2  Action        tbd      E\n",
              "freq                             12     2161    3369       2424   3990"
            ]
          },
          "metadata": {
            "tags": []
          },
          "execution_count": 6
        }
      ]
    },
    {
      "cell_type": "code",
      "metadata": {
        "id": "cnFblLbsShEV",
        "colab": {
          "base_uri": "https://localhost:8080/"
        },
        "outputId": "d226b294-6176-43a9-8fea-58e272be505f"
      },
      "source": [
        "# platform check\n",
        "games['Platform'].value_counts(normalize=True) * 100 # in percents"
      ],
      "execution_count": 7,
      "outputs": [
        {
          "output_type": "execute_result",
          "data": {
            "text/plain": [
              "PS2     12.928507\n",
              "DS      12.868681\n",
              "PS3      7.962908\n",
              "Wii      7.897098\n",
              "X360     7.550105\n",
              "PSP      7.233024\n",
              "PS       7.161232\n",
              "PC       5.827101\n",
              "XB       4.929704\n",
              "GBA      4.917739\n",
              "GC       3.326354\n",
              "3DS      3.110978\n",
              "PSV      2.572540\n",
              "PS4      2.345199\n",
              "N64      1.908465\n",
              "XOne     1.477715\n",
              "SNES     1.429853\n",
              "SAT      1.034999\n",
              "WiiU     0.879450\n",
              "2600     0.795692\n",
              "NES      0.586300\n",
              "GB       0.586300\n",
              "DC       0.311098\n",
              "GEN      0.173497\n",
              "NG       0.071792\n",
              "WS       0.035896\n",
              "SCD      0.035896\n",
              "3DO      0.017948\n",
              "TG16     0.011965\n",
              "PCFX     0.005983\n",
              "GG       0.005983\n",
              "Name: Platform, dtype: float64"
            ]
          },
          "metadata": {
            "tags": []
          },
          "execution_count": 7
        }
      ]
    },
    {
      "cell_type": "code",
      "metadata": {
        "id": "euQ5IXYDV-Ch",
        "colab": {
          "base_uri": "https://localhost:8080/"
        },
        "outputId": "b1999951-5896-44c2-cb6e-9ba583025a7a"
      },
      "source": [
        "# genere check\n",
        "games['Genre'].value_counts()\n",
        "# no strange values here"
      ],
      "execution_count": 8,
      "outputs": [
        {
          "output_type": "execute_result",
          "data": {
            "text/plain": [
              "Action          3369\n",
              "Sports          2348\n",
              "Misc            1750\n",
              "Role-Playing    1498\n",
              "Shooter         1323\n",
              "Adventure       1303\n",
              "Racing          1249\n",
              "Platform         888\n",
              "Simulation       873\n",
              "Fighting         849\n",
              "Strategy         683\n",
              "Puzzle           580\n",
              "Name: Genre, dtype: int64"
            ]
          },
          "metadata": {
            "tags": []
          },
          "execution_count": 8
        }
      ]
    },
    {
      "cell_type": "code",
      "metadata": {
        "id": "j7RsnSGIWVjc",
        "colab": {
          "base_uri": "https://localhost:8080/"
        },
        "outputId": "7fc2ac30-c6f0-445a-fe7b-e2c7d3450822"
      },
      "source": [
        "# user score check\n",
        "games['User_Score'].sort_values().value_counts(normalize=True)"
      ],
      "execution_count": 9,
      "outputs": [
        {
          "output_type": "execute_result",
          "data": {
            "text/plain": [
              "tbd    0.242061\n",
              "7.8    0.032355\n",
              "8      0.028959\n",
              "8.2    0.028161\n",
              "8.3    0.025364\n",
              "         ...   \n",
              "0.6    0.000200\n",
              "1.3    0.000200\n",
              "2.3    0.000200\n",
              "9.7    0.000100\n",
              "0      0.000100\n",
              "Name: User_Score, Length: 96, dtype: float64"
            ]
          },
          "metadata": {
            "tags": []
          },
          "execution_count": 9
        }
      ]
    },
    {
      "cell_type": "code",
      "metadata": {
        "id": "RLi_HOZ8XgJg",
        "colab": {
          "base_uri": "https://localhost:8080/"
        },
        "outputId": "9770494e-0f53-4282-9f1a-2771947b03c9"
      },
      "source": [
        "games[games['User_Score'] == 'tbd'].groupby('Year_of_Release').count()['Name']\n",
        "# there games older than the other with to be determined user score"
      ],
      "execution_count": 10,
      "outputs": [
        {
          "output_type": "execute_result",
          "data": {
            "text/plain": [
              "Year_of_Release\n",
              "1997.0      1\n",
              "1999.0      8\n",
              "2000.0     43\n",
              "2001.0     82\n",
              "2002.0    192\n",
              "2003.0     95\n",
              "2004.0    107\n",
              "2005.0    121\n",
              "2006.0    124\n",
              "2007.0    192\n",
              "2008.0    326\n",
              "2009.0    405\n",
              "2010.0    331\n",
              "2011.0    217\n",
              "2012.0     24\n",
              "2013.0     15\n",
              "2014.0     21\n",
              "2015.0     38\n",
              "2016.0     34\n",
              "Name: Name, dtype: int64"
            ]
          },
          "metadata": {
            "tags": []
          },
          "execution_count": 10
        }
      ]
    },
    {
      "cell_type": "markdown",
      "metadata": {
        "id": "OANv4xURSDz8"
      },
      "source": [
        "- 12  geners in total whereas DS+PS2 is almost 1/4 of the whole data set. 2161 rows of PS2 are about 12%\n",
        "- many small platfo with less than 1% of all data set. might indicate that these are od consoles that no longer in use anymore and belong to the past\n",
        "- almost 1/4 of user scores are 'tbd'whereas zero is not that common amont this col"
      ]
    },
    {
      "cell_type": "code",
      "metadata": {
        "id": "4RjFogmsYgz4",
        "colab": {
          "base_uri": "https://localhost:8080/",
          "height": 107
        },
        "outputId": "87b8f8dc-b65f-41ef-bf97-5e297be7fe1f"
      },
      "source": [
        "# check on the Genre nan values\n",
        "games[games['Genre'].isna()]\n",
        "# noted that these are the same lines for both Genre col and Name col\n",
        "# we do have a lot of data missing which is making it hard to work with\n",
        "# might be a dupp or typo rows\n",
        "# I will delete these rows nevertheless"
      ],
      "execution_count": 11,
      "outputs": [
        {
          "output_type": "execute_result",
          "data": {
            "text/html": [
              "<div>\n",
              "<style scoped>\n",
              "    .dataframe tbody tr th:only-of-type {\n",
              "        vertical-align: middle;\n",
              "    }\n",
              "\n",
              "    .dataframe tbody tr th {\n",
              "        vertical-align: top;\n",
              "    }\n",
              "\n",
              "    .dataframe thead th {\n",
              "        text-align: right;\n",
              "    }\n",
              "</style>\n",
              "<table border=\"1\" class=\"dataframe\">\n",
              "  <thead>\n",
              "    <tr style=\"text-align: right;\">\n",
              "      <th></th>\n",
              "      <th>Name</th>\n",
              "      <th>Platform</th>\n",
              "      <th>Year_of_Release</th>\n",
              "      <th>Genre</th>\n",
              "      <th>NA_sales</th>\n",
              "      <th>EU_sales</th>\n",
              "      <th>JP_sales</th>\n",
              "      <th>Other_sales</th>\n",
              "      <th>Critic_Score</th>\n",
              "      <th>User_Score</th>\n",
              "      <th>Rating</th>\n",
              "    </tr>\n",
              "  </thead>\n",
              "  <tbody>\n",
              "    <tr>\n",
              "      <th>659</th>\n",
              "      <td>NaN</td>\n",
              "      <td>GEN</td>\n",
              "      <td>1993.0</td>\n",
              "      <td>NaN</td>\n",
              "      <td>1.78</td>\n",
              "      <td>0.53</td>\n",
              "      <td>0.00</td>\n",
              "      <td>0.08</td>\n",
              "      <td>NaN</td>\n",
              "      <td>NaN</td>\n",
              "      <td>NaN</td>\n",
              "    </tr>\n",
              "    <tr>\n",
              "      <th>14244</th>\n",
              "      <td>NaN</td>\n",
              "      <td>GEN</td>\n",
              "      <td>1993.0</td>\n",
              "      <td>NaN</td>\n",
              "      <td>0.00</td>\n",
              "      <td>0.00</td>\n",
              "      <td>0.03</td>\n",
              "      <td>0.00</td>\n",
              "      <td>NaN</td>\n",
              "      <td>NaN</td>\n",
              "      <td>NaN</td>\n",
              "    </tr>\n",
              "  </tbody>\n",
              "</table>\n",
              "</div>"
            ],
            "text/plain": [
              "      Name Platform  Year_of_Release  ... Critic_Score  User_Score  Rating\n",
              "659    NaN      GEN           1993.0  ...          NaN         NaN     NaN\n",
              "14244  NaN      GEN           1993.0  ...          NaN         NaN     NaN\n",
              "\n",
              "[2 rows x 11 columns]"
            ]
          },
          "metadata": {
            "tags": []
          },
          "execution_count": 11
        }
      ]
    },
    {
      "cell_type": "code",
      "metadata": {
        "id": "pgwCHtWVZUmN"
      },
      "source": [
        "games = games[~games['Genre'].isna()]"
      ],
      "execution_count": 12,
      "outputs": []
    },
    {
      "cell_type": "code",
      "metadata": {
        "id": "n_L4Ou1EZbnY",
        "colab": {
          "base_uri": "https://localhost:8080/"
        },
        "outputId": "ce3d3202-ba79-41d8-e7a5-9f8399894ad5"
      },
      "source": [
        "games.shape\n",
        "# we are good and down by 2 rows"
      ],
      "execution_count": 13,
      "outputs": [
        {
          "output_type": "execute_result",
          "data": {
            "text/plain": [
              "(16713, 11)"
            ]
          },
          "metadata": {
            "tags": []
          },
          "execution_count": 13
        }
      ]
    },
    {
      "cell_type": "code",
      "metadata": {
        "id": "VDpnka7IZ6Uz",
        "colab": {
          "base_uri": "https://localhost:8080/"
        },
        "outputId": "1950859d-1a54-469b-b100-11de46e93202"
      },
      "source": [
        "# a loot to Rating\n",
        "games['Rating'].unique()"
      ],
      "execution_count": 14,
      "outputs": [
        {
          "output_type": "execute_result",
          "data": {
            "text/plain": [
              "array(['E', nan, 'M', 'T', 'E10+', 'K-A', 'AO', 'EC', 'RP'], dtype=object)"
            ]
          },
          "metadata": {
            "tags": []
          },
          "execution_count": 14
        }
      ]
    },
    {
      "cell_type": "code",
      "metadata": {
        "id": "dhhUh67aaNhK",
        "colab": {
          "base_uri": "https://localhost:8080/"
        },
        "outputId": "e25da6aa-7330-43ef-b39c-4a421b53c74d"
      },
      "source": [
        "games['Rating'].isna().sum() # a lot of Ratings nan values"
      ],
      "execution_count": 15,
      "outputs": [
        {
          "output_type": "execute_result",
          "data": {
            "text/plain": [
              "6764"
            ]
          },
          "metadata": {
            "tags": []
          },
          "execution_count": 15
        }
      ]
    },
    {
      "cell_type": "code",
      "metadata": {
        "id": "a54m-zPHP7gw",
        "colab": {
          "base_uri": "https://localhost:8080/",
          "height": 367
        },
        "outputId": "7eef71bc-eafd-4d12-8251-ea6b3871d493"
      },
      "source": [
        "# first look at the data\n",
        "games.sample(5)"
      ],
      "execution_count": 16,
      "outputs": [
        {
          "output_type": "execute_result",
          "data": {
            "text/html": [
              "<div>\n",
              "<style scoped>\n",
              "    .dataframe tbody tr th:only-of-type {\n",
              "        vertical-align: middle;\n",
              "    }\n",
              "\n",
              "    .dataframe tbody tr th {\n",
              "        vertical-align: top;\n",
              "    }\n",
              "\n",
              "    .dataframe thead th {\n",
              "        text-align: right;\n",
              "    }\n",
              "</style>\n",
              "<table border=\"1\" class=\"dataframe\">\n",
              "  <thead>\n",
              "    <tr style=\"text-align: right;\">\n",
              "      <th></th>\n",
              "      <th>Name</th>\n",
              "      <th>Platform</th>\n",
              "      <th>Year_of_Release</th>\n",
              "      <th>Genre</th>\n",
              "      <th>NA_sales</th>\n",
              "      <th>EU_sales</th>\n",
              "      <th>JP_sales</th>\n",
              "      <th>Other_sales</th>\n",
              "      <th>Critic_Score</th>\n",
              "      <th>User_Score</th>\n",
              "      <th>Rating</th>\n",
              "    </tr>\n",
              "  </thead>\n",
              "  <tbody>\n",
              "    <tr>\n",
              "      <th>8730</th>\n",
              "      <td>Bomberman</td>\n",
              "      <td>PSP</td>\n",
              "      <td>2006.0</td>\n",
              "      <td>Puzzle</td>\n",
              "      <td>0.14</td>\n",
              "      <td>0.00</td>\n",
              "      <td>0.0</td>\n",
              "      <td>0.01</td>\n",
              "      <td>73.0</td>\n",
              "      <td>7</td>\n",
              "      <td>E</td>\n",
              "    </tr>\n",
              "    <tr>\n",
              "      <th>12479</th>\n",
              "      <td>Bubble Bobble: Old &amp; New</td>\n",
              "      <td>GBA</td>\n",
              "      <td>2002.0</td>\n",
              "      <td>Puzzle</td>\n",
              "      <td>0.04</td>\n",
              "      <td>0.02</td>\n",
              "      <td>0.0</td>\n",
              "      <td>0.00</td>\n",
              "      <td>NaN</td>\n",
              "      <td>NaN</td>\n",
              "      <td>NaN</td>\n",
              "    </tr>\n",
              "    <tr>\n",
              "      <th>4431</th>\n",
              "      <td>Grind Session</td>\n",
              "      <td>PS</td>\n",
              "      <td>2000.0</td>\n",
              "      <td>Sports</td>\n",
              "      <td>0.24</td>\n",
              "      <td>0.17</td>\n",
              "      <td>0.0</td>\n",
              "      <td>0.03</td>\n",
              "      <td>NaN</td>\n",
              "      <td>NaN</td>\n",
              "      <td>NaN</td>\n",
              "    </tr>\n",
              "    <tr>\n",
              "      <th>14588</th>\n",
              "      <td>Who Wants to be a Millionaire: 1st Edition</td>\n",
              "      <td>Wii</td>\n",
              "      <td>2007.0</td>\n",
              "      <td>Misc</td>\n",
              "      <td>0.00</td>\n",
              "      <td>0.03</td>\n",
              "      <td>0.0</td>\n",
              "      <td>0.00</td>\n",
              "      <td>NaN</td>\n",
              "      <td>NaN</td>\n",
              "      <td>NaN</td>\n",
              "    </tr>\n",
              "    <tr>\n",
              "      <th>14602</th>\n",
              "      <td>Star Wars: The Force Unleashed II</td>\n",
              "      <td>PC</td>\n",
              "      <td>2010.0</td>\n",
              "      <td>Action</td>\n",
              "      <td>0.03</td>\n",
              "      <td>0.00</td>\n",
              "      <td>0.0</td>\n",
              "      <td>0.00</td>\n",
              "      <td>59.0</td>\n",
              "      <td>5.8</td>\n",
              "      <td>T</td>\n",
              "    </tr>\n",
              "  </tbody>\n",
              "</table>\n",
              "</div>"
            ],
            "text/plain": [
              "                                             Name Platform  ...  User_Score Rating\n",
              "8730                                    Bomberman      PSP  ...           7      E\n",
              "12479                    Bubble Bobble: Old & New      GBA  ...         NaN    NaN\n",
              "4431                                Grind Session       PS  ...         NaN    NaN\n",
              "14588  Who Wants to be a Millionaire: 1st Edition      Wii  ...         NaN    NaN\n",
              "14602           Star Wars: The Force Unleashed II       PC  ...         5.8      T\n",
              "\n",
              "[5 rows x 11 columns]"
            ]
          },
          "metadata": {
            "tags": []
          },
          "execution_count": 16
        }
      ]
    },
    {
      "cell_type": "markdown",
      "metadata": {
        "id": "h60AIGGjN-rL"
      },
      "source": [
        "# Step 2. Prepare the data"
      ]
    },
    {
      "cell_type": "code",
      "metadata": {
        "id": "X-ZX6Yv71pRb",
        "colab": {
          "base_uri": "https://localhost:8080/"
        },
        "outputId": "2e32cb89-c459-450a-c000-00edb1ee501e"
      },
      "source": [
        "games.columns"
      ],
      "execution_count": 17,
      "outputs": [
        {
          "output_type": "execute_result",
          "data": {
            "text/plain": [
              "Index(['Name', 'Platform', 'Year_of_Release', 'Genre', 'NA_sales', 'EU_sales',\n",
              "       'JP_sales', 'Other_sales', 'Critic_Score', 'User_Score', 'Rating'],\n",
              "      dtype='object')"
            ]
          },
          "metadata": {
            "tags": []
          },
          "execution_count": 17
        }
      ]
    },
    {
      "cell_type": "markdown",
      "metadata": {
        "id": "A8Mwi9OKPPjR"
      },
      "source": [
        "## col name + data going lowercase & col variable types **define**"
      ]
    },
    {
      "cell_type": "code",
      "metadata": {
        "id": "Dpxr0uwTP19Y"
      },
      "source": [
        "games.columns = games.columns.str.lower() # lower columns"
      ],
      "execution_count": 18,
      "outputs": []
    },
    {
      "cell_type": "code",
      "metadata": {
        "id": "VbAKNGdNMOBD"
      },
      "source": [
        "games = games.apply(lambda x: x.str.lower() if x.dtypes == 'object' else x) # lower data"
      ],
      "execution_count": 19,
      "outputs": []
    },
    {
      "cell_type": "code",
      "metadata": {
        "id": "8hMrpEfO3QUz",
        "colab": {
          "base_uri": "https://localhost:8080/"
        },
        "outputId": "e51f1145-9704-4114-fe78-a3a5ef242f66"
      },
      "source": [
        "games['name'].value_counts()\n",
        "# I will take a loot into need for speed: most wanted only "
      ],
      "execution_count": 20,
      "outputs": [
        {
          "output_type": "execute_result",
          "data": {
            "text/plain": [
              "need for speed: most wanted               12\n",
              "lego marvel super heroes                   9\n",
              "ratatouille                                9\n",
              "madden nfl 07                              9\n",
              "fifa 14                                    9\n",
              "                                          ..\n",
              "tantei jinguuji saburo: hai to diamond     1\n",
              "blazblue: calamity trigger portable        1\n",
              "godzilla unleashed                         1\n",
              "devil survivor: over clock                 1\n",
              "e.t. the extra-terrestrial                 1\n",
              "Name: name, Length: 11559, dtype: int64"
            ]
          },
          "metadata": {
            "tags": []
          },
          "execution_count": 20
        }
      ]
    },
    {
      "cell_type": "code",
      "metadata": {
        "id": "hxBbKZ074Mwm",
        "colab": {
          "base_uri": "https://localhost:8080/",
          "height": 1000
        },
        "outputId": "c64b703c-27b4-46fd-d24e-3fbf0e60ede3"
      },
      "source": [
        "games[games['name'] == 'need for speed: most wanted']\n",
        "# was intresting to check if we got dupps in rows 1190 & 1591 which seems to be ok\n",
        "# in year 2005 and 2012 the same game was released in many platforms as well\n",
        "# overall should be ok"
      ],
      "execution_count": 21,
      "outputs": [
        {
          "output_type": "execute_result",
          "data": {
            "text/html": [
              "<div>\n",
              "<style scoped>\n",
              "    .dataframe tbody tr th:only-of-type {\n",
              "        vertical-align: middle;\n",
              "    }\n",
              "\n",
              "    .dataframe tbody tr th {\n",
              "        vertical-align: top;\n",
              "    }\n",
              "\n",
              "    .dataframe thead th {\n",
              "        text-align: right;\n",
              "    }\n",
              "</style>\n",
              "<table border=\"1\" class=\"dataframe\">\n",
              "  <thead>\n",
              "    <tr style=\"text-align: right;\">\n",
              "      <th></th>\n",
              "      <th>name</th>\n",
              "      <th>platform</th>\n",
              "      <th>year_of_release</th>\n",
              "      <th>genre</th>\n",
              "      <th>na_sales</th>\n",
              "      <th>eu_sales</th>\n",
              "      <th>jp_sales</th>\n",
              "      <th>other_sales</th>\n",
              "      <th>critic_score</th>\n",
              "      <th>user_score</th>\n",
              "      <th>rating</th>\n",
              "    </tr>\n",
              "  </thead>\n",
              "  <tbody>\n",
              "    <tr>\n",
              "      <th>253</th>\n",
              "      <td>need for speed: most wanted</td>\n",
              "      <td>ps2</td>\n",
              "      <td>2005.0</td>\n",
              "      <td>racing</td>\n",
              "      <td>2.03</td>\n",
              "      <td>1.79</td>\n",
              "      <td>0.08</td>\n",
              "      <td>0.47</td>\n",
              "      <td>82.0</td>\n",
              "      <td>9.1</td>\n",
              "      <td>t</td>\n",
              "    </tr>\n",
              "    <tr>\n",
              "      <th>523</th>\n",
              "      <td>need for speed: most wanted</td>\n",
              "      <td>ps3</td>\n",
              "      <td>2012.0</td>\n",
              "      <td>racing</td>\n",
              "      <td>0.71</td>\n",
              "      <td>1.46</td>\n",
              "      <td>0.06</td>\n",
              "      <td>0.58</td>\n",
              "      <td>NaN</td>\n",
              "      <td>NaN</td>\n",
              "      <td>NaN</td>\n",
              "    </tr>\n",
              "    <tr>\n",
              "      <th>1190</th>\n",
              "      <td>need for speed: most wanted</td>\n",
              "      <td>x360</td>\n",
              "      <td>2012.0</td>\n",
              "      <td>racing</td>\n",
              "      <td>0.62</td>\n",
              "      <td>0.78</td>\n",
              "      <td>0.01</td>\n",
              "      <td>0.15</td>\n",
              "      <td>83.0</td>\n",
              "      <td>8.5</td>\n",
              "      <td>t</td>\n",
              "    </tr>\n",
              "    <tr>\n",
              "      <th>1591</th>\n",
              "      <td>need for speed: most wanted</td>\n",
              "      <td>x360</td>\n",
              "      <td>2005.0</td>\n",
              "      <td>racing</td>\n",
              "      <td>1.00</td>\n",
              "      <td>0.13</td>\n",
              "      <td>0.02</td>\n",
              "      <td>0.10</td>\n",
              "      <td>83.0</td>\n",
              "      <td>8.5</td>\n",
              "      <td>t</td>\n",
              "    </tr>\n",
              "    <tr>\n",
              "      <th>1998</th>\n",
              "      <td>need for speed: most wanted</td>\n",
              "      <td>xb</td>\n",
              "      <td>2005.0</td>\n",
              "      <td>racing</td>\n",
              "      <td>0.53</td>\n",
              "      <td>0.46</td>\n",
              "      <td>0.00</td>\n",
              "      <td>0.05</td>\n",
              "      <td>83.0</td>\n",
              "      <td>8.8</td>\n",
              "      <td>t</td>\n",
              "    </tr>\n",
              "    <tr>\n",
              "      <th>2048</th>\n",
              "      <td>need for speed: most wanted</td>\n",
              "      <td>psv</td>\n",
              "      <td>2012.0</td>\n",
              "      <td>racing</td>\n",
              "      <td>0.33</td>\n",
              "      <td>0.45</td>\n",
              "      <td>0.01</td>\n",
              "      <td>0.22</td>\n",
              "      <td>NaN</td>\n",
              "      <td>NaN</td>\n",
              "      <td>NaN</td>\n",
              "    </tr>\n",
              "    <tr>\n",
              "      <th>3581</th>\n",
              "      <td>need for speed: most wanted</td>\n",
              "      <td>gc</td>\n",
              "      <td>2005.0</td>\n",
              "      <td>racing</td>\n",
              "      <td>0.43</td>\n",
              "      <td>0.11</td>\n",
              "      <td>0.00</td>\n",
              "      <td>0.02</td>\n",
              "      <td>80.0</td>\n",
              "      <td>9.1</td>\n",
              "      <td>t</td>\n",
              "    </tr>\n",
              "    <tr>\n",
              "      <th>5972</th>\n",
              "      <td>need for speed: most wanted</td>\n",
              "      <td>pc</td>\n",
              "      <td>2005.0</td>\n",
              "      <td>racing</td>\n",
              "      <td>0.02</td>\n",
              "      <td>0.23</td>\n",
              "      <td>0.00</td>\n",
              "      <td>0.04</td>\n",
              "      <td>82.0</td>\n",
              "      <td>8.5</td>\n",
              "      <td>t</td>\n",
              "    </tr>\n",
              "    <tr>\n",
              "      <th>6273</th>\n",
              "      <td>need for speed: most wanted</td>\n",
              "      <td>wiiu</td>\n",
              "      <td>2013.0</td>\n",
              "      <td>racing</td>\n",
              "      <td>0.13</td>\n",
              "      <td>0.12</td>\n",
              "      <td>0.00</td>\n",
              "      <td>0.02</td>\n",
              "      <td>NaN</td>\n",
              "      <td>NaN</td>\n",
              "      <td>NaN</td>\n",
              "    </tr>\n",
              "    <tr>\n",
              "      <th>6410</th>\n",
              "      <td>need for speed: most wanted</td>\n",
              "      <td>ds</td>\n",
              "      <td>2005.0</td>\n",
              "      <td>racing</td>\n",
              "      <td>0.24</td>\n",
              "      <td>0.01</td>\n",
              "      <td>0.00</td>\n",
              "      <td>0.02</td>\n",
              "      <td>45.0</td>\n",
              "      <td>6.1</td>\n",
              "      <td>e</td>\n",
              "    </tr>\n",
              "    <tr>\n",
              "      <th>6473</th>\n",
              "      <td>need for speed: most wanted</td>\n",
              "      <td>gba</td>\n",
              "      <td>2005.0</td>\n",
              "      <td>racing</td>\n",
              "      <td>0.19</td>\n",
              "      <td>0.07</td>\n",
              "      <td>0.00</td>\n",
              "      <td>0.00</td>\n",
              "      <td>NaN</td>\n",
              "      <td>8.3</td>\n",
              "      <td>e</td>\n",
              "    </tr>\n",
              "    <tr>\n",
              "      <th>11715</th>\n",
              "      <td>need for speed: most wanted</td>\n",
              "      <td>pc</td>\n",
              "      <td>2012.0</td>\n",
              "      <td>racing</td>\n",
              "      <td>0.00</td>\n",
              "      <td>0.06</td>\n",
              "      <td>0.00</td>\n",
              "      <td>0.02</td>\n",
              "      <td>82.0</td>\n",
              "      <td>8.5</td>\n",
              "      <td>t</td>\n",
              "    </tr>\n",
              "  </tbody>\n",
              "</table>\n",
              "</div>"
            ],
            "text/plain": [
              "                              name platform  ...  user_score rating\n",
              "253    need for speed: most wanted      ps2  ...         9.1      t\n",
              "523    need for speed: most wanted      ps3  ...         NaN    NaN\n",
              "1190   need for speed: most wanted     x360  ...         8.5      t\n",
              "1591   need for speed: most wanted     x360  ...         8.5      t\n",
              "1998   need for speed: most wanted       xb  ...         8.8      t\n",
              "2048   need for speed: most wanted      psv  ...         NaN    NaN\n",
              "3581   need for speed: most wanted       gc  ...         9.1      t\n",
              "5972   need for speed: most wanted       pc  ...         8.5      t\n",
              "6273   need for speed: most wanted     wiiu  ...         NaN    NaN\n",
              "6410   need for speed: most wanted       ds  ...         6.1      e\n",
              "6473   need for speed: most wanted      gba  ...         8.3      e\n",
              "11715  need for speed: most wanted       pc  ...         8.5      t\n",
              "\n",
              "[12 rows x 11 columns]"
            ]
          },
          "metadata": {
            "tags": []
          },
          "execution_count": 21
        }
      ]
    },
    {
      "cell_type": "markdown",
      "metadata": {
        "id": "87gtYgwhrl5A"
      },
      "source": [
        "## year_of_release"
      ]
    },
    {
      "cell_type": "code",
      "metadata": {
        "id": "knm_FpkxcL5D"
      },
      "source": [
        "games['year_of_release'] = pd.to_datetime(games['year_of_release'],format='%Y',errors='coerce').dt.strftime('%Y') # year to integer"
      ],
      "execution_count": 22,
      "outputs": []
    },
    {
      "cell_type": "code",
      "metadata": {
        "id": "qoGC7me8IRvJ",
        "colab": {
          "base_uri": "https://localhost:8080/",
          "height": 642
        },
        "outputId": "342bac5a-a26a-4989-b258-09be17383304"
      },
      "source": [
        "print(games['year_of_release'].isna().sum()) # number of nan rows\n",
        "\n",
        "games[games['year_of_release'].isna()] # a look into the data"
      ],
      "execution_count": 23,
      "outputs": [
        {
          "output_type": "stream",
          "text": [
            "269\n"
          ],
          "name": "stdout"
        },
        {
          "output_type": "execute_result",
          "data": {
            "text/html": [
              "<div>\n",
              "<style scoped>\n",
              "    .dataframe tbody tr th:only-of-type {\n",
              "        vertical-align: middle;\n",
              "    }\n",
              "\n",
              "    .dataframe tbody tr th {\n",
              "        vertical-align: top;\n",
              "    }\n",
              "\n",
              "    .dataframe thead th {\n",
              "        text-align: right;\n",
              "    }\n",
              "</style>\n",
              "<table border=\"1\" class=\"dataframe\">\n",
              "  <thead>\n",
              "    <tr style=\"text-align: right;\">\n",
              "      <th></th>\n",
              "      <th>name</th>\n",
              "      <th>platform</th>\n",
              "      <th>year_of_release</th>\n",
              "      <th>genre</th>\n",
              "      <th>na_sales</th>\n",
              "      <th>eu_sales</th>\n",
              "      <th>jp_sales</th>\n",
              "      <th>other_sales</th>\n",
              "      <th>critic_score</th>\n",
              "      <th>user_score</th>\n",
              "      <th>rating</th>\n",
              "    </tr>\n",
              "  </thead>\n",
              "  <tbody>\n",
              "    <tr>\n",
              "      <th>183</th>\n",
              "      <td>madden nfl 2004</td>\n",
              "      <td>ps2</td>\n",
              "      <td>NaN</td>\n",
              "      <td>sports</td>\n",
              "      <td>4.26</td>\n",
              "      <td>0.26</td>\n",
              "      <td>0.01</td>\n",
              "      <td>0.71</td>\n",
              "      <td>94.0</td>\n",
              "      <td>8.5</td>\n",
              "      <td>e</td>\n",
              "    </tr>\n",
              "    <tr>\n",
              "      <th>377</th>\n",
              "      <td>fifa soccer 2004</td>\n",
              "      <td>ps2</td>\n",
              "      <td>NaN</td>\n",
              "      <td>sports</td>\n",
              "      <td>0.59</td>\n",
              "      <td>2.36</td>\n",
              "      <td>0.04</td>\n",
              "      <td>0.51</td>\n",
              "      <td>84.0</td>\n",
              "      <td>6.4</td>\n",
              "      <td>e</td>\n",
              "    </tr>\n",
              "    <tr>\n",
              "      <th>456</th>\n",
              "      <td>lego batman: the videogame</td>\n",
              "      <td>wii</td>\n",
              "      <td>NaN</td>\n",
              "      <td>action</td>\n",
              "      <td>1.80</td>\n",
              "      <td>0.97</td>\n",
              "      <td>0.00</td>\n",
              "      <td>0.29</td>\n",
              "      <td>74.0</td>\n",
              "      <td>7.9</td>\n",
              "      <td>e10+</td>\n",
              "    </tr>\n",
              "    <tr>\n",
              "      <th>475</th>\n",
              "      <td>wwe smackdown vs. raw 2006</td>\n",
              "      <td>ps2</td>\n",
              "      <td>NaN</td>\n",
              "      <td>fighting</td>\n",
              "      <td>1.57</td>\n",
              "      <td>1.02</td>\n",
              "      <td>0.00</td>\n",
              "      <td>0.41</td>\n",
              "      <td>NaN</td>\n",
              "      <td>NaN</td>\n",
              "      <td>NaN</td>\n",
              "    </tr>\n",
              "    <tr>\n",
              "      <th>609</th>\n",
              "      <td>space invaders</td>\n",
              "      <td>2600</td>\n",
              "      <td>NaN</td>\n",
              "      <td>shooter</td>\n",
              "      <td>2.36</td>\n",
              "      <td>0.14</td>\n",
              "      <td>0.00</td>\n",
              "      <td>0.03</td>\n",
              "      <td>NaN</td>\n",
              "      <td>NaN</td>\n",
              "      <td>NaN</td>\n",
              "    </tr>\n",
              "    <tr>\n",
              "      <th>...</th>\n",
              "      <td>...</td>\n",
              "      <td>...</td>\n",
              "      <td>...</td>\n",
              "      <td>...</td>\n",
              "      <td>...</td>\n",
              "      <td>...</td>\n",
              "      <td>...</td>\n",
              "      <td>...</td>\n",
              "      <td>...</td>\n",
              "      <td>...</td>\n",
              "      <td>...</td>\n",
              "    </tr>\n",
              "    <tr>\n",
              "      <th>16373</th>\n",
              "      <td>pdc world championship darts 2008</td>\n",
              "      <td>psp</td>\n",
              "      <td>NaN</td>\n",
              "      <td>sports</td>\n",
              "      <td>0.01</td>\n",
              "      <td>0.00</td>\n",
              "      <td>0.00</td>\n",
              "      <td>0.00</td>\n",
              "      <td>43.0</td>\n",
              "      <td>tbd</td>\n",
              "      <td>e10+</td>\n",
              "    </tr>\n",
              "    <tr>\n",
              "      <th>16405</th>\n",
              "      <td>freaky flyers</td>\n",
              "      <td>gc</td>\n",
              "      <td>NaN</td>\n",
              "      <td>racing</td>\n",
              "      <td>0.01</td>\n",
              "      <td>0.00</td>\n",
              "      <td>0.00</td>\n",
              "      <td>0.00</td>\n",
              "      <td>69.0</td>\n",
              "      <td>6.5</td>\n",
              "      <td>t</td>\n",
              "    </tr>\n",
              "    <tr>\n",
              "      <th>16448</th>\n",
              "      <td>inversion</td>\n",
              "      <td>pc</td>\n",
              "      <td>NaN</td>\n",
              "      <td>shooter</td>\n",
              "      <td>0.01</td>\n",
              "      <td>0.00</td>\n",
              "      <td>0.00</td>\n",
              "      <td>0.00</td>\n",
              "      <td>59.0</td>\n",
              "      <td>6.7</td>\n",
              "      <td>m</td>\n",
              "    </tr>\n",
              "    <tr>\n",
              "      <th>16458</th>\n",
              "      <td>hakuouki: shinsengumi kitan</td>\n",
              "      <td>ps3</td>\n",
              "      <td>NaN</td>\n",
              "      <td>adventure</td>\n",
              "      <td>0.01</td>\n",
              "      <td>0.00</td>\n",
              "      <td>0.00</td>\n",
              "      <td>0.00</td>\n",
              "      <td>NaN</td>\n",
              "      <td>NaN</td>\n",
              "      <td>NaN</td>\n",
              "    </tr>\n",
              "    <tr>\n",
              "      <th>16522</th>\n",
              "      <td>virtua quest</td>\n",
              "      <td>gc</td>\n",
              "      <td>NaN</td>\n",
              "      <td>role-playing</td>\n",
              "      <td>0.01</td>\n",
              "      <td>0.00</td>\n",
              "      <td>0.00</td>\n",
              "      <td>0.00</td>\n",
              "      <td>55.0</td>\n",
              "      <td>5.5</td>\n",
              "      <td>t</td>\n",
              "    </tr>\n",
              "  </tbody>\n",
              "</table>\n",
              "<p>269 rows × 11 columns</p>\n",
              "</div>"
            ],
            "text/plain": [
              "                                    name platform  ... user_score rating\n",
              "183                      madden nfl 2004      ps2  ...        8.5      e\n",
              "377                     fifa soccer 2004      ps2  ...        6.4      e\n",
              "456           lego batman: the videogame      wii  ...        7.9   e10+\n",
              "475           wwe smackdown vs. raw 2006      ps2  ...        NaN    NaN\n",
              "609                       space invaders     2600  ...        NaN    NaN\n",
              "...                                  ...      ...  ...        ...    ...\n",
              "16373  pdc world championship darts 2008      psp  ...        tbd   e10+\n",
              "16405                      freaky flyers       gc  ...        6.5      t\n",
              "16448                          inversion       pc  ...        6.7      m\n",
              "16458        hakuouki: shinsengumi kitan      ps3  ...        NaN    NaN\n",
              "16522                       virtua quest       gc  ...        5.5      t\n",
              "\n",
              "[269 rows x 11 columns]"
            ]
          },
          "metadata": {
            "tags": []
          },
          "execution_count": 23
        }
      ]
    },
    {
      "cell_type": "code",
      "metadata": {
        "id": "PiAWHXSg-SP3"
      },
      "source": [
        "games['year_of_release'] = games.groupby('name')['year_of_release'].transform('first')"
      ],
      "execution_count": 24,
      "outputs": []
    },
    {
      "cell_type": "code",
      "metadata": {
        "id": "RwQeSK4b-xzK",
        "colab": {
          "base_uri": "https://localhost:8080/"
        },
        "outputId": "e646f56e-c750-4e83-ac41-aa4f6c7034fe"
      },
      "source": [
        "games['year_of_release'].isna().sum()\n",
        "# reduced to 146"
      ],
      "execution_count": 25,
      "outputs": [
        {
          "output_type": "execute_result",
          "data": {
            "text/plain": [
              "146"
            ]
          },
          "metadata": {
            "tags": []
          },
          "execution_count": 25
        }
      ]
    },
    {
      "cell_type": "markdown",
      "metadata": {
        "id": "fIE9vOtHIxis"
      },
      "source": [
        "- there are games which got year as indicater to date release"
      ]
    },
    {
      "cell_type": "code",
      "metadata": {
        "id": "KeHBOqUkMEtG",
        "colab": {
          "base_uri": "https://localhost:8080/"
        },
        "outputId": "8b947d5f-896c-42dd-c425-0d6e7938b63e"
      },
      "source": [
        "# get number from name columns\n",
        "# will use new df variable\n",
        "games_no_year = games[games['year_of_release'].isna()]\n",
        "games_no_year['year_of_release'] = games_no_year.name.str.extract('(\\d+)', expand=False).astype('int',errors='ignore')\n",
        "print(games_no_year['year_of_release'].isna().sum())\n",
        "print(games_no_year['year_of_release'])"
      ],
      "execution_count": 26,
      "outputs": [
        {
          "output_type": "stream",
          "text": [
            "118\n",
            "475      2006\n",
            "627       NaN\n",
            "657       NaN\n",
            "805       NaN\n",
            "1142      NaN\n",
            "         ... \n",
            "16277     NaN\n",
            "16288     NaN\n",
            "16348     NaN\n",
            "16458     NaN\n",
            "16522     NaN\n",
            "Name: year_of_release, Length: 146, dtype: object\n"
          ],
          "name": "stdout"
        },
        {
          "output_type": "stream",
          "text": [
            "/usr/local/lib/python3.6/dist-packages/ipykernel_launcher.py:4: SettingWithCopyWarning: \n",
            "A value is trying to be set on a copy of a slice from a DataFrame.\n",
            "Try using .loc[row_indexer,col_indexer] = value instead\n",
            "\n",
            "See the caveats in the documentation: https://pandas.pydata.org/pandas-docs/stable/user_guide/indexing.html#returning-a-view-versus-a-copy\n",
            "  after removing the cwd from sys.path.\n"
          ],
          "name": "stderr"
        }
      ]
    },
    {
      "cell_type": "markdown",
      "metadata": {
        "id": "Y-eFdln2WSqh"
      },
      "source": [
        "---\n",
        " `OF THE RECORD`\n",
        "- another way dealing missing release year:"
      ]
    },
    {
      "cell_type": "markdown",
      "metadata": {
        "id": "dwG1Cy44X8bN"
      },
      "source": [
        "the below built functions was build in order to get the year release of each game seperatly using web scraping \n"
      ]
    },
    {
      "cell_type": "code",
      "metadata": {
        "id": "8yT8k6p1VQZB"
      },
      "source": [
        "# def missing_year_game(row):\n",
        "#   name = str(row['name']) # games name\n",
        "#   redate = \" release date\" \n",
        "#   plat = str(row['platform']) # platform\n",
        "#   name_redate = name + redate + \" \" + plat # all together\n",
        "#   url = 'https://www.google.com/search?q='+name_redate # building url\n",
        "#   # going to google it using soup liabrary:  \n",
        "#   headers = {\"User-Agent\": \"Mozilla/5.0 (Windows NT 10.0; Win64; x64) AppleWebKit/537.36 (KHTML, like Gecko) Chrome/79.0.3945.117 Safari/537.36\"}\n",
        "#   source_code = requests.get(url, headers=headers)\n",
        "#   soup = BeautifulSoup(source_code.text, \"lxml\")\n",
        "#   googlit = soup.find('div', attrs = {'class': 'Z0LcW XcVN5d'}) \n",
        "#   #print(googlit)\n",
        "#   try:\n",
        "#     # print(1) # use for check\n",
        "#     return (googlit.get_text().split(\" \")[-1])\n",
        "#   except:\n",
        "#     # print(2) # use for check\n",
        "#     return \"\"\n",
        "# games_no_year['year_of_release'] = games_no_year.apply(missing_year_game,axis=1) # applying to column    \n",
        "\n",
        "# # print(googlit.get_text(strip=True, separator='|').split('|')[:3]) # below can be disregarded"
      ],
      "execution_count": 27,
      "outputs": []
    },
    {
      "cell_type": "markdown",
      "metadata": {
        "id": "IEkf9nYDXKR1"
      },
      "source": [
        "the main issue of the above is that for the 259 rows the running time is VERY VERY slow (vary but can take 8-10 minutes) and when using this one we only remain with about 80 rows with no release year\n",
        "\n",
        "---\n",
        "\n"
      ]
    },
    {
      "cell_type": "code",
      "metadata": {
        "id": "AksXZp4bYPfv"
      },
      "source": [
        "games_no_year = games_no_year[~games_no_year['year_of_release'].isna()] # dropping all nan"
      ],
      "execution_count": 28,
      "outputs": []
    },
    {
      "cell_type": "code",
      "metadata": {
        "id": "zqWM1JaYxUa3"
      },
      "source": [
        "games_no_year = games_no_year[games_no_year.year_of_release.str.len() == 4] # all with 4 digit year only"
      ],
      "execution_count": 29,
      "outputs": []
    },
    {
      "cell_type": "code",
      "metadata": {
        "id": "MK8ZgBji2WI9"
      },
      "source": [
        "games_no_year['year_of_release'] = games_no_year['year_of_release'].astype(int) -1 \n",
        "# lower by one year since all remaining are sports only (this rule applies to existing sports games for almost 99%)"
      ],
      "execution_count": 30,
      "outputs": []
    },
    {
      "cell_type": "code",
      "metadata": {
        "id": "cvuSqBsK3-xj",
        "colab": {
          "base_uri": "https://localhost:8080/",
          "height": 384
        },
        "outputId": "831a9797-9ac7-44cd-b1bc-818caeafdb83"
      },
      "source": [
        "games_no_year.head(5) # ok"
      ],
      "execution_count": 31,
      "outputs": [
        {
          "output_type": "execute_result",
          "data": {
            "text/html": [
              "<div>\n",
              "<style scoped>\n",
              "    .dataframe tbody tr th:only-of-type {\n",
              "        vertical-align: middle;\n",
              "    }\n",
              "\n",
              "    .dataframe tbody tr th {\n",
              "        vertical-align: top;\n",
              "    }\n",
              "\n",
              "    .dataframe thead th {\n",
              "        text-align: right;\n",
              "    }\n",
              "</style>\n",
              "<table border=\"1\" class=\"dataframe\">\n",
              "  <thead>\n",
              "    <tr style=\"text-align: right;\">\n",
              "      <th></th>\n",
              "      <th>name</th>\n",
              "      <th>platform</th>\n",
              "      <th>year_of_release</th>\n",
              "      <th>genre</th>\n",
              "      <th>na_sales</th>\n",
              "      <th>eu_sales</th>\n",
              "      <th>jp_sales</th>\n",
              "      <th>other_sales</th>\n",
              "      <th>critic_score</th>\n",
              "      <th>user_score</th>\n",
              "      <th>rating</th>\n",
              "    </tr>\n",
              "  </thead>\n",
              "  <tbody>\n",
              "    <tr>\n",
              "      <th>475</th>\n",
              "      <td>wwe smackdown vs. raw 2006</td>\n",
              "      <td>ps2</td>\n",
              "      <td>2005</td>\n",
              "      <td>fighting</td>\n",
              "      <td>1.57</td>\n",
              "      <td>1.02</td>\n",
              "      <td>0.0</td>\n",
              "      <td>0.41</td>\n",
              "      <td>NaN</td>\n",
              "      <td>NaN</td>\n",
              "      <td>NaN</td>\n",
              "    </tr>\n",
              "    <tr>\n",
              "      <th>4775</th>\n",
              "      <td>nfl gameday 2003</td>\n",
              "      <td>ps2</td>\n",
              "      <td>2002</td>\n",
              "      <td>sports</td>\n",
              "      <td>0.20</td>\n",
              "      <td>0.15</td>\n",
              "      <td>0.0</td>\n",
              "      <td>0.05</td>\n",
              "      <td>60.0</td>\n",
              "      <td>tbd</td>\n",
              "      <td>e</td>\n",
              "    </tr>\n",
              "    <tr>\n",
              "      <th>5655</th>\n",
              "      <td>all-star baseball 2005</td>\n",
              "      <td>ps2</td>\n",
              "      <td>2004</td>\n",
              "      <td>sports</td>\n",
              "      <td>0.16</td>\n",
              "      <td>0.12</td>\n",
              "      <td>0.0</td>\n",
              "      <td>0.04</td>\n",
              "      <td>72.0</td>\n",
              "      <td>8.6</td>\n",
              "      <td>e</td>\n",
              "    </tr>\n",
              "    <tr>\n",
              "      <th>8918</th>\n",
              "      <td>all-star baseball 2005</td>\n",
              "      <td>xb</td>\n",
              "      <td>2004</td>\n",
              "      <td>sports</td>\n",
              "      <td>0.11</td>\n",
              "      <td>0.03</td>\n",
              "      <td>0.0</td>\n",
              "      <td>0.01</td>\n",
              "      <td>75.0</td>\n",
              "      <td>8.8</td>\n",
              "      <td>e</td>\n",
              "    </tr>\n",
              "    <tr>\n",
              "      <th>13195</th>\n",
              "      <td>tour de france 2011</td>\n",
              "      <td>x360</td>\n",
              "      <td>2010</td>\n",
              "      <td>racing</td>\n",
              "      <td>0.00</td>\n",
              "      <td>0.04</td>\n",
              "      <td>0.0</td>\n",
              "      <td>0.01</td>\n",
              "      <td>46.0</td>\n",
              "      <td>7.6</td>\n",
              "      <td>NaN</td>\n",
              "    </tr>\n",
              "  </tbody>\n",
              "</table>\n",
              "</div>"
            ],
            "text/plain": [
              "                             name platform  ...  user_score rating\n",
              "475    wwe smackdown vs. raw 2006      ps2  ...         NaN    NaN\n",
              "4775             nfl gameday 2003      ps2  ...         tbd      e\n",
              "5655       all-star baseball 2005      ps2  ...         8.6      e\n",
              "8918       all-star baseball 2005       xb  ...         8.8      e\n",
              "13195         tour de france 2011     x360  ...         7.6    NaN\n",
              "\n",
              "[5 rows x 11 columns]"
            ]
          },
          "metadata": {
            "tags": []
          },
          "execution_count": 31
        }
      ]
    },
    {
      "cell_type": "markdown",
      "metadata": {
        "id": "ye15VDvX8OWC"
      },
      "source": [
        "combine both data frames:"
      ]
    },
    {
      "cell_type": "code",
      "metadata": {
        "id": "EUJpay6d5dTW"
      },
      "source": [
        "games.dropna(subset=['year_of_release'],inplace=True)"
      ],
      "execution_count": 32,
      "outputs": []
    },
    {
      "cell_type": "code",
      "metadata": {
        "id": "Jb-D5uYC80Kh"
      },
      "source": [
        "games = pd.concat([games,games_no_year]) # concat both data"
      ],
      "execution_count": 33,
      "outputs": []
    },
    {
      "cell_type": "code",
      "metadata": {
        "id": "NuhpksxXBUFW"
      },
      "source": [
        "games['year_of_release'] = games['year_of_release'].astype(int)"
      ],
      "execution_count": 34,
      "outputs": []
    },
    {
      "cell_type": "code",
      "metadata": {
        "id": "ExL5DRvZ-7kA",
        "colab": {
          "base_uri": "https://localhost:8080/"
        },
        "outputId": "8114af7e-ca55-490a-ec71-68a988e77a67"
      },
      "source": [
        "games.info()"
      ],
      "execution_count": 35,
      "outputs": [
        {
          "output_type": "stream",
          "text": [
            "<class 'pandas.core.frame.DataFrame'>\n",
            "Int64Index: 16574 entries, 0 to 16079\n",
            "Data columns (total 11 columns):\n",
            " #   Column           Non-Null Count  Dtype  \n",
            "---  ------           --------------  -----  \n",
            " 0   name             16574 non-null  object \n",
            " 1   platform         16574 non-null  object \n",
            " 2   year_of_release  16574 non-null  int64  \n",
            " 3   genre            16574 non-null  object \n",
            " 4   na_sales         16574 non-null  float64\n",
            " 5   eu_sales         16574 non-null  float64\n",
            " 6   jp_sales         16574 non-null  float64\n",
            " 7   other_sales      16574 non-null  float64\n",
            " 8   critic_score     8079 non-null   float64\n",
            " 9   user_score       9938 non-null   object \n",
            " 10  rating           9871 non-null   object \n",
            "dtypes: float64(5), int64(1), object(5)\n",
            "memory usage: 1.5+ MB\n"
          ],
          "name": "stdout"
        }
      ]
    },
    {
      "cell_type": "code",
      "metadata": {
        "id": "oJ7kpRlKC7iA",
        "colab": {
          "base_uri": "https://localhost:8080/"
        },
        "outputId": "79eaf5cc-a1c4-45e4-df00-b68d4fd4b53b"
      },
      "source": [
        "games['year_of_release'].value_counts() # seems ok"
      ],
      "execution_count": 36,
      "outputs": [
        {
          "output_type": "execute_result",
          "data": {
            "text/plain": [
              "2008    1433\n",
              "2009    1426\n",
              "2010    1265\n",
              "2007    1208\n",
              "2011    1167\n",
              "2006    1017\n",
              "2005     935\n",
              "2002     829\n",
              "2004     785\n",
              "2003     747\n",
              "2012     672\n",
              "2015     581\n",
              "2014     551\n",
              "2013     535\n",
              "2001     526\n",
              "2016     475\n",
              "1998     401\n",
              "2000     353\n",
              "1999     331\n",
              "1997     301\n",
              "1996     275\n",
              "1995     212\n",
              "1994     149\n",
              "1993      61\n",
              "1992      52\n",
              "1991      50\n",
              "1981      44\n",
              "1982      37\n",
              "1986      24\n",
              "1989      21\n",
              "1983      19\n",
              "1985      17\n",
              "1984      16\n",
              "1987      16\n",
              "1990      15\n",
              "1988      14\n",
              "1980      14\n",
              "Name: year_of_release, dtype: int64"
            ]
          },
          "metadata": {
            "tags": []
          },
          "execution_count": 36
        }
      ]
    },
    {
      "cell_type": "markdown",
      "metadata": {
        "id": "B5BcjAL1w8IO"
      },
      "source": [
        "## critic_score"
      ]
    },
    {
      "cell_type": "code",
      "metadata": {
        "id": "HIfaV3BzyB5P",
        "colab": {
          "base_uri": "https://localhost:8080/"
        },
        "outputId": "6c875883-43a1-4f7f-c0a1-d4b1cd293ec3"
      },
      "source": [
        "np.sort(games['critic_score'].unique()) # no more than 100"
      ],
      "execution_count": 37,
      "outputs": [
        {
          "output_type": "execute_result",
          "data": {
            "text/plain": [
              "array([13., 17., 19., 20., 21., 23., 24., 25., 26., 27., 28., 29., 30.,\n",
              "       31., 32., 33., 34., 35., 36., 37., 38., 39., 40., 41., 42., 43.,\n",
              "       44., 45., 46., 47., 48., 49., 50., 51., 52., 53., 54., 55., 56.,\n",
              "       57., 58., 59., 60., 61., 62., 63., 64., 65., 66., 67., 68., 69.,\n",
              "       70., 71., 72., 73., 74., 75., 76., 77., 78., 79., 80., 81., 82.,\n",
              "       83., 84., 85., 86., 87., 88., 89., 90., 91., 92., 93., 94., 95.,\n",
              "       96., 97., 98., nan])"
            ]
          },
          "metadata": {
            "tags": []
          },
          "execution_count": 37
        }
      ]
    },
    {
      "cell_type": "code",
      "metadata": {
        "id": "jaSqghoL_9mB",
        "colab": {
          "base_uri": "https://localhost:8080/"
        },
        "outputId": "f9f4a921-e241-4d55-bae2-165ed02e043e"
      },
      "source": [
        "len(games[games['critic_score'].isna()])"
      ],
      "execution_count": 38,
      "outputs": [
        {
          "output_type": "execute_result",
          "data": {
            "text/plain": [
              "8495"
            ]
          },
          "metadata": {
            "tags": []
          },
          "execution_count": 38
        }
      ]
    },
    {
      "cell_type": "code",
      "metadata": {
        "id": "qMTFJ4gV0enb"
      },
      "source": [
        "games['critic_score'] = games.groupby('name')['critic_score'].transform('first')"
      ],
      "execution_count": 39,
      "outputs": []
    },
    {
      "cell_type": "code",
      "metadata": {
        "id": "xklT1Y130i-x",
        "colab": {
          "base_uri": "https://localhost:8080/"
        },
        "outputId": "8a24e452-db6a-4fc5-9a92-01bc22c97b93"
      },
      "source": [
        "len(games[games['critic_score'].isna()])\n"
      ],
      "execution_count": 40,
      "outputs": [
        {
          "output_type": "execute_result",
          "data": {
            "text/plain": [
              "7535"
            ]
          },
          "metadata": {
            "tags": []
          },
          "execution_count": 40
        }
      ]
    },
    {
      "cell_type": "markdown",
      "metadata": {
        "id": "wECXxXk63UjH"
      },
      "source": [
        "- managed to reduce by using existing scores\n",
        "\n",
        "- for the rest missing values within critic score it is important to mention that it's a subjective parameter for each game per platform"
      ]
    },
    {
      "cell_type": "markdown",
      "metadata": {
        "id": "t5Hj0xoiz56J"
      },
      "source": [
        "## user_score"
      ]
    },
    {
      "cell_type": "code",
      "metadata": {
        "id": "IfipXLPt46AT",
        "colab": {
          "base_uri": "https://localhost:8080/"
        },
        "outputId": "93fec464-2881-4663-a56b-d89df2782f06"
      },
      "source": [
        "games['user_score'].unique()\n",
        "# got nan & 'tbd' in this col"
      ],
      "execution_count": 41,
      "outputs": [
        {
          "output_type": "execute_result",
          "data": {
            "text/plain": [
              "array(['8', nan, '8.3', '8.5', '6.6', '8.4', '8.6', '7.7', '6.3', '7.4',\n",
              "       '8.2', '9', '7.9', '8.1', '8.7', '7.1', '3.4', '5.3', '4.8', '3.2',\n",
              "       '8.9', '6.4', '7.8', '7.5', '2.6', '7.2', '9.2', '7', '7.3', '4.3',\n",
              "       '7.6', '5.7', '5', '9.1', '6.5', 'tbd', '8.8', '6.9', '9.4', '6.8',\n",
              "       '6.1', '6.7', '5.4', '4', '4.9', '4.5', '9.3', '6.2', '4.2', '6',\n",
              "       '3.7', '4.1', '5.8', '5.6', '5.5', '4.4', '4.6', '5.9', '3.9',\n",
              "       '3.1', '2.9', '5.2', '3.3', '4.7', '5.1', '3.5', '2.5', '1.9', '3',\n",
              "       '2.7', '2.2', '2', '9.5', '2.1', '3.6', '2.8', '1.8', '3.8', '0',\n",
              "       '1.6', '9.6', '2.4', '1.7', '1.1', '0.3', '1.5', '0.7', '1.2',\n",
              "       '2.3', '0.5', '1.3', '0.2', '0.6', '1.4', '0.9', '1', '9.7'],\n",
              "      dtype=object)"
            ]
          },
          "metadata": {
            "tags": []
          },
          "execution_count": 41
        }
      ]
    },
    {
      "cell_type": "code",
      "metadata": {
        "id": "0dj8KgMU5qlo",
        "colab": {
          "base_uri": "https://localhost:8080/"
        },
        "outputId": "718b1af5-64b2-4944-936f-30ec65c6e8cd"
      },
      "source": [
        "# will take a look into 'tbd' only to decide how old the games are\n",
        "games.loc[games['user_score'] == 'tbd'].groupby('year_of_release').count()['name']"
      ],
      "execution_count": 42,
      "outputs": [
        {
          "output_type": "execute_result",
          "data": {
            "text/plain": [
              "year_of_release\n",
              "1980      2\n",
              "1982      1\n",
              "1993      1\n",
              "1994      1\n",
              "1997      1\n",
              "1998      2\n",
              "1999     11\n",
              "2000     52\n",
              "2001     95\n",
              "2002    180\n",
              "2003     91\n",
              "2004    111\n",
              "2005    122\n",
              "2006    120\n",
              "2007    198\n",
              "2008    333\n",
              "2009    400\n",
              "2010    327\n",
              "2011    212\n",
              "2012     27\n",
              "2013     15\n",
              "2014     21\n",
              "2015     40\n",
              "2016     32\n",
              "Name: name, dtype: int64"
            ]
          },
          "metadata": {
            "tags": []
          },
          "execution_count": 42
        }
      ]
    },
    {
      "cell_type": "code",
      "metadata": {
        "id": "VNqsXz_69BoQ"
      },
      "source": [
        "games['user_score'] = games['user_score'].replace('tbd',np.NaN) #replace"
      ],
      "execution_count": 43,
      "outputs": []
    },
    {
      "cell_type": "code",
      "metadata": {
        "id": "JX_-rdS89UoL",
        "colab": {
          "base_uri": "https://localhost:8080/"
        },
        "outputId": "3c3e1c4b-4315-4bfa-95ea-3512a0563c6a"
      },
      "source": [
        "games['user_score'] = games['user_score'].astype('float') # make it as float only\n",
        "np.sort(games['user_score'].astype('float').unique()) # no more than 10 - ok"
      ],
      "execution_count": 44,
      "outputs": [
        {
          "output_type": "execute_result",
          "data": {
            "text/plain": [
              "array([0. , 0.2, 0.3, 0.5, 0.6, 0.7, 0.9, 1. , 1.1, 1.2, 1.3, 1.4, 1.5,\n",
              "       1.6, 1.7, 1.8, 1.9, 2. , 2.1, 2.2, 2.3, 2.4, 2.5, 2.6, 2.7, 2.8,\n",
              "       2.9, 3. , 3.1, 3.2, 3.3, 3.4, 3.5, 3.6, 3.7, 3.8, 3.9, 4. , 4.1,\n",
              "       4.2, 4.3, 4.4, 4.5, 4.6, 4.7, 4.8, 4.9, 5. , 5.1, 5.2, 5.3, 5.4,\n",
              "       5.5, 5.6, 5.7, 5.8, 5.9, 6. , 6.1, 6.2, 6.3, 6.4, 6.5, 6.6, 6.7,\n",
              "       6.8, 6.9, 7. , 7.1, 7.2, 7.3, 7.4, 7.5, 7.6, 7.7, 7.8, 7.9, 8. ,\n",
              "       8.1, 8.2, 8.3, 8.4, 8.5, 8.6, 8.7, 8.8, 8.9, 9. , 9.1, 9.2, 9.3,\n",
              "       9.4, 9.5, 9.6, 9.7, nan])"
            ]
          },
          "metadata": {
            "tags": []
          },
          "execution_count": 44
        }
      ]
    },
    {
      "cell_type": "code",
      "metadata": {
        "id": "NghRW3qgAkbx",
        "colab": {
          "base_uri": "https://localhost:8080/"
        },
        "outputId": "110d4a21-8585-4ba1-b651-f00f3dea0128"
      },
      "source": [
        "games['user_score'].isna().sum()"
      ],
      "execution_count": 45,
      "outputs": [
        {
          "output_type": "execute_result",
          "data": {
            "text/plain": [
              "9031"
            ]
          },
          "metadata": {
            "tags": []
          },
          "execution_count": 45
        }
      ]
    },
    {
      "cell_type": "code",
      "metadata": {
        "id": "sPcqrVPUAwMY"
      },
      "source": [
        "games['user_score'] = games.groupby('name')['user_score'].transform('first')"
      ],
      "execution_count": 46,
      "outputs": []
    },
    {
      "cell_type": "code",
      "metadata": {
        "id": "ljvubxRSBAEA",
        "colab": {
          "base_uri": "https://localhost:8080/"
        },
        "outputId": "7c12fe4e-a08c-4da7-a93a-3acd70c0e926"
      },
      "source": [
        "games['user_score'].isna().sum()"
      ],
      "execution_count": 47,
      "outputs": [
        {
          "output_type": "execute_result",
          "data": {
            "text/plain": [
              "7932"
            ]
          },
          "metadata": {
            "tags": []
          },
          "execution_count": 47
        }
      ]
    },
    {
      "cell_type": "markdown",
      "metadata": {
        "id": "BDnkS3Fs8In4"
      },
      "source": [
        "- most of the games are old. for example games from 2010 will probably wont be determined anyway and we clearly can count on this as missing value\n",
        "- for more new games like 2016 and even 2015 it seems the the score yet to be dermined but it is not the majority and being only small portion from all the data set and I think it will be the best to count them as missing and unknown values as well\n",
        "- managed to reduce by 400 by using existing rows user score from other platforms assuming that the games wont change much\n",
        "- regarding other missing value (NaN) will remain as missing values since it is as well as critic score - hard to decide what is correct score because of score being a subjective matter"
      ]
    },
    {
      "cell_type": "markdown",
      "metadata": {
        "id": "SPWtjQy5_Sjt"
      },
      "source": [
        "## rating"
      ]
    },
    {
      "cell_type": "code",
      "metadata": {
        "id": "BO6I3wn__wGd",
        "colab": {
          "base_uri": "https://localhost:8080/"
        },
        "outputId": "1458494e-b4e7-4e37-b366-3c4535e8386d"
      },
      "source": [
        "games['rating'].unique()"
      ],
      "execution_count": 48,
      "outputs": [
        {
          "output_type": "execute_result",
          "data": {
            "text/plain": [
              "array(['e', nan, 'm', 't', 'e10+', 'k-a', 'ao', 'ec', 'rp'], dtype=object)"
            ]
          },
          "metadata": {
            "tags": []
          },
          "execution_count": 48
        }
      ]
    },
    {
      "cell_type": "code",
      "metadata": {
        "id": "BphnQZQTEf5e"
      },
      "source": [
        "pd.set_option('max_colwidth',400)"
      ],
      "execution_count": 49,
      "outputs": []
    },
    {
      "cell_type": "code",
      "metadata": {
        "id": "vclH-LbKCZop",
        "colab": {
          "base_uri": "https://localhost:8080/",
          "height": 540
        },
        "outputId": "bc3a62db-0e39-4dda-f70a-ef174ff3f2d0"
      },
      "source": [
        "# find the meaning of each rate from wikipedia using read_htnml:\n",
        "url = 'https://en.wikipedia.org/wiki/Entertainment_Software_Rating_Board'\n",
        "rate_mean=pd.read_html(url, header=[0],flavor='bs4')[1]\n",
        "rate_mean.drop(columns='Icon',inplace=True)\n",
        "rate_mean"
      ],
      "execution_count": 50,
      "outputs": [
        {
          "output_type": "execute_result",
          "data": {
            "text/html": [
              "<div>\n",
              "<style scoped>\n",
              "    .dataframe tbody tr th:only-of-type {\n",
              "        vertical-align: middle;\n",
              "    }\n",
              "\n",
              "    .dataframe tbody tr th {\n",
              "        vertical-align: top;\n",
              "    }\n",
              "\n",
              "    .dataframe thead th {\n",
              "        text-align: right;\n",
              "    }\n",
              "</style>\n",
              "<table border=\"1\" class=\"dataframe\">\n",
              "  <thead>\n",
              "    <tr style=\"text-align: right;\">\n",
              "      <th></th>\n",
              "      <th>Rating</th>\n",
              "      <th>Years active</th>\n",
              "      <th>Description</th>\n",
              "    </tr>\n",
              "  </thead>\n",
              "  <tbody>\n",
              "    <tr>\n",
              "      <th>0</th>\n",
              "      <td>Rating Pending (RP)</td>\n",
              "      <td>1994–present[18]</td>\n",
              "      <td>This symbol is used in promotional materials for games which have not yet been assigned a final rating by the ESRB.[21][46]</td>\n",
              "    </tr>\n",
              "    <tr>\n",
              "      <th>1</th>\n",
              "      <td>Early Childhood (EC)</td>\n",
              "      <td>1994–2018[18][47]</td>\n",
              "      <td>Games with this rating contain content which is aimed towards a preschool audience. They do not contain content that parents would find objectionable to this audience.[21][46] No longer used as of 2018 due to few titles using this, and all titles with this rating are replaced with the E rating.</td>\n",
              "    </tr>\n",
              "    <tr>\n",
              "      <th>2</th>\n",
              "      <td>Everyone (E)</td>\n",
              "      <td>1994–present[18]</td>\n",
              "      <td>Games with this rating contain content which the ESRB believes is \"generally suitable for all ages\".[46] They can contain content such as infrequent use of \"mild\"/cartoon violence and mild language.[21][46] This rating was known as Kids to Adults (K-A) until 1998, when it was renamed \"Everyone\".[18]</td>\n",
              "    </tr>\n",
              "    <tr>\n",
              "      <th>3</th>\n",
              "      <td>Everyone 10+ (E10+)</td>\n",
              "      <td>2005–present[18]</td>\n",
              "      <td>Games with this rating contain content which the ESRB believes is generally suitable for those aged 10 years and older. They can contain content with an impact higher than the \"Everyone\" rating can accommodate, but still not as high as to warrant a \"Teen\" rating, such as a larger amount of violence, mild language, crude humor, or suggestive content.[21][46]</td>\n",
              "    </tr>\n",
              "    <tr>\n",
              "      <th>4</th>\n",
              "      <td>Teen (T)</td>\n",
              "      <td>1994–present[18]</td>\n",
              "      <td>Games with this rating contain content which the ESRB believes is generally suitable for those aged 13 years and older; they can contain content such as moderate amounts of violence (including small amounts of blood), mild to moderate use of language or suggestive themes, sexual content, partial nudity and crude humor.[21][46]</td>\n",
              "    </tr>\n",
              "    <tr>\n",
              "      <th>5</th>\n",
              "      <td>Mature 17+ (M)</td>\n",
              "      <td>1994–present[18]</td>\n",
              "      <td>Games with this rating contain content which the ESRB believes is generally suitable for those aged 17 years and older; they can contain content with an impact higher than the \"Teen\" rating can accommodate, such as intense and/or realistic portrayals of violence (including blood, gore, mutilation, and depictions of death), strong sexual themes and content, nudity, and more frequent use of stro...</td>\n",
              "    </tr>\n",
              "    <tr>\n",
              "      <th>6</th>\n",
              "      <td>Adults Only 18+ (AO)</td>\n",
              "      <td>1994–present[18]</td>\n",
              "      <td>See also: List of AO-rated video games Games with this rating contain content which the ESRB believes is only suitable for those aged 18 years and older; they contain content with an impact higher than the \"Mature\" rating can accommodate, such as graphic sexual themes and content, extreme portrayals of violence, or unsimulated gambling with real currency. The majority of AO-rated titles are po...</td>\n",
              "    </tr>\n",
              "  </tbody>\n",
              "</table>\n",
              "</div>"
            ],
            "text/plain": [
              "                 Rating  ...                                                                                                                                                                                                                                                                                                                                                                                                      Description\n",
              "0   Rating Pending (RP)  ...                                                                                                                                                                                                                                                                                      This symbol is used in promotional materials for games which have not yet been assigned a final rating by the ESRB.[21][46]\n",
              "1  Early Childhood (EC)  ...                                                                                                          Games with this rating contain content which is aimed towards a preschool audience. They do not contain content that parents would find objectionable to this audience.[21][46] No longer used as of 2018 due to few titles using this, and all titles with this rating are replaced with the E rating.\n",
              "2          Everyone (E)  ...                                                                                                     Games with this rating contain content which the ESRB believes is \"generally suitable for all ages\".[46] They can contain content such as infrequent use of \"mild\"/cartoon violence and mild language.[21][46] This rating was known as Kids to Adults (K-A) until 1998, when it was renamed \"Everyone\".[18]\n",
              "3   Everyone 10+ (E10+)  ...                                          Games with this rating contain content which the ESRB believes is generally suitable for those aged 10 years and older. They can contain content with an impact higher than the \"Everyone\" rating can accommodate, but still not as high as to warrant a \"Teen\" rating, such as a larger amount of violence, mild language, crude humor, or suggestive content.[21][46]\n",
              "4              Teen (T)  ...                                                                         Games with this rating contain content which the ESRB believes is generally suitable for those aged 13 years and older; they can contain content such as moderate amounts of violence (including small amounts of blood), mild to moderate use of language or suggestive themes, sexual content, partial nudity and crude humor.[21][46]\n",
              "5        Mature 17+ (M)  ...  Games with this rating contain content which the ESRB believes is generally suitable for those aged 17 years and older; they can contain content with an impact higher than the \"Teen\" rating can accommodate, such as intense and/or realistic portrayals of violence (including blood, gore, mutilation, and depictions of death), strong sexual themes and content, nudity, and more frequent use of stro...\n",
              "6  Adults Only 18+ (AO)  ...  See also: List of AO-rated video games Games with this rating contain content which the ESRB believes is only suitable for those aged 18 years and older; they contain content with an impact higher than the \"Mature\" rating can accommodate, such as graphic sexual themes and content, extreme portrayals of violence, or unsimulated gambling with real currency. The majority of AO-rated titles are po...\n",
              "\n",
              "[7 rows x 3 columns]"
            ]
          },
          "metadata": {
            "tags": []
          },
          "execution_count": 50
        }
      ]
    },
    {
      "cell_type": "code",
      "metadata": {
        "id": "gs2Exby7LKB5"
      },
      "source": [
        "# since k-a is an old version of e  I will replace the old rating with the new:\n",
        "games['rating'].replace('k-a','e',inplace=True)"
      ],
      "execution_count": 51,
      "outputs": []
    },
    {
      "cell_type": "code",
      "metadata": {
        "id": "UqcYdjKNMaqz"
      },
      "source": [
        "# only 8 ec games which later (in 2018) was changed to e so I will make the same change in our data as:\n",
        "games['rating'].replace('ec','e',inplace=True)"
      ],
      "execution_count": 52,
      "outputs": []
    },
    {
      "cell_type": "code",
      "metadata": {
        "id": "ZY4W9sXRN5EI",
        "colab": {
          "base_uri": "https://localhost:8080/"
        },
        "outputId": "6c757fac-fc2a-4845-9dea-6f26802c34ab"
      },
      "source": [
        "games['rating'].value_counts()"
      ],
      "execution_count": 53,
      "outputs": [
        {
          "output_type": "execute_result",
          "data": {
            "text/plain": [
              "e       3972\n",
              "t       2930\n",
              "m       1554\n",
              "e10+    1412\n",
              "rp         2\n",
              "ao         1\n",
              "Name: rating, dtype: int64"
            ]
          },
          "metadata": {
            "tags": []
          },
          "execution_count": 53
        }
      ]
    },
    {
      "cell_type": "code",
      "metadata": {
        "id": "l7jseEKfPdq0",
        "colab": {
          "base_uri": "https://localhost:8080/",
          "height": 194
        },
        "outputId": "033c35d7-f50b-4063-a1da-b63d609d3bd8"
      },
      "source": [
        "# lets have a look into rp an ao:\n",
        "games.loc[games['rating'] == 'rp']"
      ],
      "execution_count": 54,
      "outputs": [
        {
          "output_type": "execute_result",
          "data": {
            "text/html": [
              "<div>\n",
              "<style scoped>\n",
              "    .dataframe tbody tr th:only-of-type {\n",
              "        vertical-align: middle;\n",
              "    }\n",
              "\n",
              "    .dataframe tbody tr th {\n",
              "        vertical-align: top;\n",
              "    }\n",
              "\n",
              "    .dataframe thead th {\n",
              "        text-align: right;\n",
              "    }\n",
              "</style>\n",
              "<table border=\"1\" class=\"dataframe\">\n",
              "  <thead>\n",
              "    <tr style=\"text-align: right;\">\n",
              "      <th></th>\n",
              "      <th>name</th>\n",
              "      <th>platform</th>\n",
              "      <th>year_of_release</th>\n",
              "      <th>genre</th>\n",
              "      <th>na_sales</th>\n",
              "      <th>eu_sales</th>\n",
              "      <th>jp_sales</th>\n",
              "      <th>other_sales</th>\n",
              "      <th>critic_score</th>\n",
              "      <th>user_score</th>\n",
              "      <th>rating</th>\n",
              "    </tr>\n",
              "  </thead>\n",
              "  <tbody>\n",
              "    <tr>\n",
              "      <th>14270</th>\n",
              "      <td>supreme ruler: cold war</td>\n",
              "      <td>pc</td>\n",
              "      <td>2011</td>\n",
              "      <td>strategy</td>\n",
              "      <td>0.0</td>\n",
              "      <td>0.03</td>\n",
              "      <td>0.0</td>\n",
              "      <td>0.01</td>\n",
              "      <td>63.0</td>\n",
              "      <td>6.8</td>\n",
              "      <td>rp</td>\n",
              "    </tr>\n",
              "    <tr>\n",
              "      <th>16180</th>\n",
              "      <td>wrc: fia world rally championship</td>\n",
              "      <td>pc</td>\n",
              "      <td>2005</td>\n",
              "      <td>racing</td>\n",
              "      <td>0.0</td>\n",
              "      <td>0.01</td>\n",
              "      <td>0.0</td>\n",
              "      <td>0.00</td>\n",
              "      <td>68.0</td>\n",
              "      <td>4.5</td>\n",
              "      <td>rp</td>\n",
              "    </tr>\n",
              "  </tbody>\n",
              "</table>\n",
              "</div>"
            ],
            "text/plain": [
              "                                    name platform  ...  user_score rating\n",
              "14270            supreme ruler: cold war       pc  ...         6.8     rp\n",
              "16180  wrc: fia world rally championship       pc  ...         4.5     rp\n",
              "\n",
              "[2 rows x 11 columns]"
            ]
          },
          "metadata": {
            "tags": []
          },
          "execution_count": 54
        }
      ]
    },
    {
      "cell_type": "code",
      "metadata": {
        "id": "rCUlrdsCQKG_",
        "colab": {
          "base_uri": "https://localhost:8080/",
          "height": 110
        },
        "outputId": "bc0b9c6d-f184-4213-e67a-a27825ba3359"
      },
      "source": [
        "games.loc[games['rating'] == 'ao']"
      ],
      "execution_count": 55,
      "outputs": [
        {
          "output_type": "execute_result",
          "data": {
            "text/html": [
              "<div>\n",
              "<style scoped>\n",
              "    .dataframe tbody tr th:only-of-type {\n",
              "        vertical-align: middle;\n",
              "    }\n",
              "\n",
              "    .dataframe tbody tr th {\n",
              "        vertical-align: top;\n",
              "    }\n",
              "\n",
              "    .dataframe thead th {\n",
              "        text-align: right;\n",
              "    }\n",
              "</style>\n",
              "<table border=\"1\" class=\"dataframe\">\n",
              "  <thead>\n",
              "    <tr style=\"text-align: right;\">\n",
              "      <th></th>\n",
              "      <th>name</th>\n",
              "      <th>platform</th>\n",
              "      <th>year_of_release</th>\n",
              "      <th>genre</th>\n",
              "      <th>na_sales</th>\n",
              "      <th>eu_sales</th>\n",
              "      <th>jp_sales</th>\n",
              "      <th>other_sales</th>\n",
              "      <th>critic_score</th>\n",
              "      <th>user_score</th>\n",
              "      <th>rating</th>\n",
              "    </tr>\n",
              "  </thead>\n",
              "  <tbody>\n",
              "    <tr>\n",
              "      <th>875</th>\n",
              "      <td>grand theft auto: san andreas</td>\n",
              "      <td>xb</td>\n",
              "      <td>2004</td>\n",
              "      <td>action</td>\n",
              "      <td>1.26</td>\n",
              "      <td>0.61</td>\n",
              "      <td>0.0</td>\n",
              "      <td>0.09</td>\n",
              "      <td>95.0</td>\n",
              "      <td>9.0</td>\n",
              "      <td>ao</td>\n",
              "    </tr>\n",
              "  </tbody>\n",
              "</table>\n",
              "</div>"
            ],
            "text/plain": [
              "                              name platform  ...  user_score rating\n",
              "875  grand theft auto: san andreas       xb  ...         9.0     ao\n",
              "\n",
              "[1 rows x 11 columns]"
            ]
          },
          "metadata": {
            "tags": []
          },
          "execution_count": 55
        }
      ]
    },
    {
      "cell_type": "code",
      "metadata": {
        "id": "vjRFv-RI9Irk",
        "colab": {
          "base_uri": "https://localhost:8080/"
        },
        "outputId": "6c59d442-a5fe-47ed-f435-dc75fc9ace1a"
      },
      "source": [
        "games['rating'].isna().sum()"
      ],
      "execution_count": 56,
      "outputs": [
        {
          "output_type": "execute_result",
          "data": {
            "text/plain": [
              "6703"
            ]
          },
          "metadata": {
            "tags": []
          },
          "execution_count": 56
        }
      ]
    },
    {
      "cell_type": "code",
      "metadata": {
        "id": "UU-mldnv1WrW"
      },
      "source": [
        "# will use groupy and transform first to replace nan value in rating col with already exist rating from another platforms\n",
        "games['rating'] = games.groupby('name')['rating'].transform('first')"
      ],
      "execution_count": 57,
      "outputs": []
    },
    {
      "cell_type": "code",
      "metadata": {
        "id": "Me3GTnLo9QTL",
        "colab": {
          "base_uri": "https://localhost:8080/"
        },
        "outputId": "d7640a7a-58eb-45d8-cd22-73a51688523f"
      },
      "source": [
        "games['rating'].isna().sum()\n",
        "# we managed to reduce nan values by 400"
      ],
      "execution_count": 58,
      "outputs": [
        {
          "output_type": "execute_result",
          "data": {
            "text/plain": [
              "6266"
            ]
          },
          "metadata": {
            "tags": []
          },
          "execution_count": 58
        }
      ]
    },
    {
      "cell_type": "markdown",
      "metadata": {
        "id": "I-5LkkZN12Qq"
      },
      "source": [
        "## platform"
      ]
    },
    {
      "cell_type": "code",
      "metadata": {
        "id": "TliSj2eT17tr",
        "colab": {
          "base_uri": "https://localhost:8080/"
        },
        "outputId": "c6c00040-3793-458d-a16a-b6697cfdde95"
      },
      "source": [
        "games['platform'].value_counts()\n",
        "# looks ok. no duplicated platform only different generation: PS2>PS3>PS4 for example"
      ],
      "execution_count": 59,
      "outputs": [
        {
          "output_type": "execute_result",
          "data": {
            "text/plain": [
              "ps2     2144\n",
              "ds      2129\n",
              "ps3     1320\n",
              "wii     1301\n",
              "x360    1252\n",
              "psp     1203\n",
              "ps      1190\n",
              "pc       970\n",
              "xb       818\n",
              "gba      813\n",
              "gc       552\n",
              "3ds      515\n",
              "psv      429\n",
              "ps4      392\n",
              "n64      318\n",
              "xone     247\n",
              "snes     239\n",
              "sat      173\n",
              "wiiu     147\n",
              "2600     117\n",
              "nes       98\n",
              "gb        97\n",
              "dc        52\n",
              "gen       27\n",
              "ng        12\n",
              "scd        6\n",
              "ws         6\n",
              "3do        3\n",
              "tg16       2\n",
              "gg         1\n",
              "pcfx       1\n",
              "Name: platform, dtype: int64"
            ]
          },
          "metadata": {
            "tags": []
          },
          "execution_count": 59
        }
      ]
    },
    {
      "cell_type": "markdown",
      "metadata": {
        "id": "uVdPOaeS3Mqh"
      },
      "source": [
        "## sales"
      ]
    },
    {
      "cell_type": "code",
      "metadata": {
        "id": "ECwik2x2MCiR",
        "colab": {
          "base_uri": "https://localhost:8080/"
        },
        "outputId": "b531e244-45df-4897-ec53-86d783cbf659"
      },
      "source": [
        "# number of zeros in each col check:\n",
        "for i in games.columns:\n",
        "  print(i,len(games[games[i] == 0]))\n",
        "print('total rows: {}'. format(len(games)))"
      ],
      "execution_count": 60,
      "outputs": [
        {
          "output_type": "stream",
          "text": [
            "name 0\n",
            "platform 0\n",
            "year_of_release 0\n",
            "genre 0\n",
            "na_sales 4471\n",
            "eu_sales 5801\n",
            "jp_sales 10413\n",
            "other_sales 6529\n",
            "critic_score 0\n",
            "user_score 1\n",
            "rating 0\n",
            "total rows: 16574\n"
          ],
          "name": "stdout"
        }
      ]
    },
    {
      "cell_type": "code",
      "metadata": {
        "id": "905AJIjSKWq_",
        "colab": {
          "base_uri": "https://localhost:8080/",
          "height": 792
        },
        "outputId": "0e4b92ad-ec3d-42c1-e1a9-66d30d42e44f"
      },
      "source": [
        "# take a look into data which the number of sales in all sale columns below 1:\n",
        "games.query('na_sales <= 1 and eu_sales <= 1 and jp_sales <= 1 and other_sales <= 1')\n",
        "# overall this is most of the data which may indicate zeros are just zeros and not missing values"
      ],
      "execution_count": 61,
      "outputs": [
        {
          "output_type": "execute_result",
          "data": {
            "text/html": [
              "<div>\n",
              "<style scoped>\n",
              "    .dataframe tbody tr th:only-of-type {\n",
              "        vertical-align: middle;\n",
              "    }\n",
              "\n",
              "    .dataframe tbody tr th {\n",
              "        vertical-align: top;\n",
              "    }\n",
              "\n",
              "    .dataframe thead th {\n",
              "        text-align: right;\n",
              "    }\n",
              "</style>\n",
              "<table border=\"1\" class=\"dataframe\">\n",
              "  <thead>\n",
              "    <tr style=\"text-align: right;\">\n",
              "      <th></th>\n",
              "      <th>name</th>\n",
              "      <th>platform</th>\n",
              "      <th>year_of_release</th>\n",
              "      <th>genre</th>\n",
              "      <th>na_sales</th>\n",
              "      <th>eu_sales</th>\n",
              "      <th>jp_sales</th>\n",
              "      <th>other_sales</th>\n",
              "      <th>critic_score</th>\n",
              "      <th>user_score</th>\n",
              "      <th>rating</th>\n",
              "    </tr>\n",
              "  </thead>\n",
              "  <tbody>\n",
              "    <tr>\n",
              "      <th>449</th>\n",
              "      <td>resident evil 6</td>\n",
              "      <td>ps3</td>\n",
              "      <td>2012</td>\n",
              "      <td>shooter</td>\n",
              "      <td>0.88</td>\n",
              "      <td>0.94</td>\n",
              "      <td>0.88</td>\n",
              "      <td>0.40</td>\n",
              "      <td>74.0</td>\n",
              "      <td>5.4</td>\n",
              "      <td>m</td>\n",
              "    </tr>\n",
              "    <tr>\n",
              "      <th>578</th>\n",
              "      <td>final fantasy xiii-2</td>\n",
              "      <td>ps3</td>\n",
              "      <td>2011</td>\n",
              "      <td>role-playing</td>\n",
              "      <td>0.78</td>\n",
              "      <td>0.73</td>\n",
              "      <td>0.89</td>\n",
              "      <td>0.23</td>\n",
              "      <td>79.0</td>\n",
              "      <td>6.6</td>\n",
              "      <td>t</td>\n",
              "    </tr>\n",
              "    <tr>\n",
              "      <th>593</th>\n",
              "      <td>style savvy</td>\n",
              "      <td>ds</td>\n",
              "      <td>2008</td>\n",
              "      <td>simulation</td>\n",
              "      <td>0.62</td>\n",
              "      <td>0.82</td>\n",
              "      <td>0.96</td>\n",
              "      <td>0.18</td>\n",
              "      <td>73.0</td>\n",
              "      <td>7.7</td>\n",
              "      <td>e</td>\n",
              "    </tr>\n",
              "    <tr>\n",
              "      <th>600</th>\n",
              "      <td>super mario all-stars: limited edition</td>\n",
              "      <td>wii</td>\n",
              "      <td>2010</td>\n",
              "      <td>platform</td>\n",
              "      <td>0.99</td>\n",
              "      <td>0.52</td>\n",
              "      <td>0.92</td>\n",
              "      <td>0.14</td>\n",
              "      <td>NaN</td>\n",
              "      <td>NaN</td>\n",
              "      <td>None</td>\n",
              "    </tr>\n",
              "    <tr>\n",
              "      <th>647</th>\n",
              "      <td>need for speed carbon: own the city</td>\n",
              "      <td>psp</td>\n",
              "      <td>2006</td>\n",
              "      <td>racing</td>\n",
              "      <td>0.87</td>\n",
              "      <td>0.97</td>\n",
              "      <td>0.00</td>\n",
              "      <td>0.58</td>\n",
              "      <td>73.0</td>\n",
              "      <td>7.9</td>\n",
              "      <td>e10+</td>\n",
              "    </tr>\n",
              "    <tr>\n",
              "      <th>...</th>\n",
              "      <td>...</td>\n",
              "      <td>...</td>\n",
              "      <td>...</td>\n",
              "      <td>...</td>\n",
              "      <td>...</td>\n",
              "      <td>...</td>\n",
              "      <td>...</td>\n",
              "      <td>...</td>\n",
              "      <td>...</td>\n",
              "      <td>...</td>\n",
              "      <td>...</td>\n",
              "    </tr>\n",
              "    <tr>\n",
              "      <th>5655</th>\n",
              "      <td>all-star baseball 2005</td>\n",
              "      <td>ps2</td>\n",
              "      <td>2004</td>\n",
              "      <td>sports</td>\n",
              "      <td>0.16</td>\n",
              "      <td>0.12</td>\n",
              "      <td>0.00</td>\n",
              "      <td>0.04</td>\n",
              "      <td>72.0</td>\n",
              "      <td>8.6</td>\n",
              "      <td>e</td>\n",
              "    </tr>\n",
              "    <tr>\n",
              "      <th>8918</th>\n",
              "      <td>all-star baseball 2005</td>\n",
              "      <td>xb</td>\n",
              "      <td>2004</td>\n",
              "      <td>sports</td>\n",
              "      <td>0.11</td>\n",
              "      <td>0.03</td>\n",
              "      <td>0.00</td>\n",
              "      <td>0.01</td>\n",
              "      <td>72.0</td>\n",
              "      <td>8.6</td>\n",
              "      <td>e</td>\n",
              "    </tr>\n",
              "    <tr>\n",
              "      <th>13195</th>\n",
              "      <td>tour de france 2011</td>\n",
              "      <td>x360</td>\n",
              "      <td>2010</td>\n",
              "      <td>racing</td>\n",
              "      <td>0.00</td>\n",
              "      <td>0.04</td>\n",
              "      <td>0.00</td>\n",
              "      <td>0.01</td>\n",
              "      <td>46.0</td>\n",
              "      <td>7.6</td>\n",
              "      <td>None</td>\n",
              "    </tr>\n",
              "    <tr>\n",
              "      <th>13929</th>\n",
              "      <td>sega rally 2006</td>\n",
              "      <td>ps2</td>\n",
              "      <td>2005</td>\n",
              "      <td>racing</td>\n",
              "      <td>0.00</td>\n",
              "      <td>0.00</td>\n",
              "      <td>0.04</td>\n",
              "      <td>0.00</td>\n",
              "      <td>NaN</td>\n",
              "      <td>NaN</td>\n",
              "      <td>None</td>\n",
              "    </tr>\n",
              "    <tr>\n",
              "      <th>16079</th>\n",
              "      <td>football manager 2007</td>\n",
              "      <td>x360</td>\n",
              "      <td>2006</td>\n",
              "      <td>sports</td>\n",
              "      <td>0.00</td>\n",
              "      <td>0.01</td>\n",
              "      <td>0.00</td>\n",
              "      <td>0.00</td>\n",
              "      <td>NaN</td>\n",
              "      <td>NaN</td>\n",
              "      <td>None</td>\n",
              "    </tr>\n",
              "  </tbody>\n",
              "</table>\n",
              "<p>15422 rows × 11 columns</p>\n",
              "</div>"
            ],
            "text/plain": [
              "                                         name platform  ...  user_score rating\n",
              "449                           resident evil 6      ps3  ...         5.4      m\n",
              "578                      final fantasy xiii-2      ps3  ...         6.6      t\n",
              "593                               style savvy       ds  ...         7.7      e\n",
              "600    super mario all-stars: limited edition      wii  ...         NaN   None\n",
              "647       need for speed carbon: own the city      psp  ...         7.9   e10+\n",
              "...                                       ...      ...  ...         ...    ...\n",
              "5655                   all-star baseball 2005      ps2  ...         8.6      e\n",
              "8918                   all-star baseball 2005       xb  ...         8.6      e\n",
              "13195                     tour de france 2011     x360  ...         7.6   None\n",
              "13929                         sega rally 2006      ps2  ...         NaN   None\n",
              "16079                   football manager 2007     x360  ...         NaN   None\n",
              "\n",
              "[15422 rows x 11 columns]"
            ]
          },
          "metadata": {
            "tags": []
          },
          "execution_count": 61
        }
      ]
    },
    {
      "cell_type": "code",
      "metadata": {
        "id": "l6808j8FYISl",
        "colab": {
          "base_uri": "https://localhost:8080/",
          "height": 658
        },
        "outputId": "95f82cb1-2d63-4e5a-ccc3-ac98581b0791"
      },
      "source": [
        "games.query('na_sales <= 0.5 and eu_sales <= 0.5 and jp_sales <= 0.5 and other_sales <= 0.5')\n",
        "# same for values below 1/2"
      ],
      "execution_count": 62,
      "outputs": [
        {
          "output_type": "execute_result",
          "data": {
            "text/html": [
              "<div>\n",
              "<style scoped>\n",
              "    .dataframe tbody tr th:only-of-type {\n",
              "        vertical-align: middle;\n",
              "    }\n",
              "\n",
              "    .dataframe tbody tr th {\n",
              "        vertical-align: top;\n",
              "    }\n",
              "\n",
              "    .dataframe thead th {\n",
              "        text-align: right;\n",
              "    }\n",
              "</style>\n",
              "<table border=\"1\" class=\"dataframe\">\n",
              "  <thead>\n",
              "    <tr style=\"text-align: right;\">\n",
              "      <th></th>\n",
              "      <th>name</th>\n",
              "      <th>platform</th>\n",
              "      <th>year_of_release</th>\n",
              "      <th>genre</th>\n",
              "      <th>na_sales</th>\n",
              "      <th>eu_sales</th>\n",
              "      <th>jp_sales</th>\n",
              "      <th>other_sales</th>\n",
              "      <th>critic_score</th>\n",
              "      <th>user_score</th>\n",
              "      <th>rating</th>\n",
              "    </tr>\n",
              "  </thead>\n",
              "  <tbody>\n",
              "    <tr>\n",
              "      <th>1358</th>\n",
              "      <td>metal gear rising: revengeance</td>\n",
              "      <td>ps3</td>\n",
              "      <td>2013</td>\n",
              "      <td>action</td>\n",
              "      <td>0.45</td>\n",
              "      <td>0.37</td>\n",
              "      <td>0.44</td>\n",
              "      <td>0.16</td>\n",
              "      <td>80.0</td>\n",
              "      <td>7.9</td>\n",
              "      <td>m</td>\n",
              "    </tr>\n",
              "    <tr>\n",
              "      <th>1381</th>\n",
              "      <td>ridge racer</td>\n",
              "      <td>psp</td>\n",
              "      <td>2004</td>\n",
              "      <td>racing</td>\n",
              "      <td>0.36</td>\n",
              "      <td>0.44</td>\n",
              "      <td>0.32</td>\n",
              "      <td>0.27</td>\n",
              "      <td>88.0</td>\n",
              "      <td>8.2</td>\n",
              "      <td>e</td>\n",
              "    </tr>\n",
              "    <tr>\n",
              "      <th>1399</th>\n",
              "      <td>bravely default: flying fairy</td>\n",
              "      <td>3ds</td>\n",
              "      <td>2012</td>\n",
              "      <td>role-playing</td>\n",
              "      <td>0.50</td>\n",
              "      <td>0.32</td>\n",
              "      <td>0.49</td>\n",
              "      <td>0.08</td>\n",
              "      <td>NaN</td>\n",
              "      <td>NaN</td>\n",
              "      <td>None</td>\n",
              "    </tr>\n",
              "    <tr>\n",
              "      <th>1550</th>\n",
              "      <td>dark souls ii</td>\n",
              "      <td>ps3</td>\n",
              "      <td>2014</td>\n",
              "      <td>role-playing</td>\n",
              "      <td>0.40</td>\n",
              "      <td>0.33</td>\n",
              "      <td>0.40</td>\n",
              "      <td>0.15</td>\n",
              "      <td>91.0</td>\n",
              "      <td>8.1</td>\n",
              "      <td>t</td>\n",
              "    </tr>\n",
              "    <tr>\n",
              "      <th>1551</th>\n",
              "      <td>kid icarus: uprising</td>\n",
              "      <td>3ds</td>\n",
              "      <td>2012</td>\n",
              "      <td>action</td>\n",
              "      <td>0.48</td>\n",
              "      <td>0.35</td>\n",
              "      <td>0.36</td>\n",
              "      <td>0.07</td>\n",
              "      <td>83.0</td>\n",
              "      <td>8.7</td>\n",
              "      <td>e10+</td>\n",
              "    </tr>\n",
              "    <tr>\n",
              "      <th>...</th>\n",
              "      <td>...</td>\n",
              "      <td>...</td>\n",
              "      <td>...</td>\n",
              "      <td>...</td>\n",
              "      <td>...</td>\n",
              "      <td>...</td>\n",
              "      <td>...</td>\n",
              "      <td>...</td>\n",
              "      <td>...</td>\n",
              "      <td>...</td>\n",
              "      <td>...</td>\n",
              "    </tr>\n",
              "    <tr>\n",
              "      <th>5655</th>\n",
              "      <td>all-star baseball 2005</td>\n",
              "      <td>ps2</td>\n",
              "      <td>2004</td>\n",
              "      <td>sports</td>\n",
              "      <td>0.16</td>\n",
              "      <td>0.12</td>\n",
              "      <td>0.00</td>\n",
              "      <td>0.04</td>\n",
              "      <td>72.0</td>\n",
              "      <td>8.6</td>\n",
              "      <td>e</td>\n",
              "    </tr>\n",
              "    <tr>\n",
              "      <th>8918</th>\n",
              "      <td>all-star baseball 2005</td>\n",
              "      <td>xb</td>\n",
              "      <td>2004</td>\n",
              "      <td>sports</td>\n",
              "      <td>0.11</td>\n",
              "      <td>0.03</td>\n",
              "      <td>0.00</td>\n",
              "      <td>0.01</td>\n",
              "      <td>72.0</td>\n",
              "      <td>8.6</td>\n",
              "      <td>e</td>\n",
              "    </tr>\n",
              "    <tr>\n",
              "      <th>13195</th>\n",
              "      <td>tour de france 2011</td>\n",
              "      <td>x360</td>\n",
              "      <td>2010</td>\n",
              "      <td>racing</td>\n",
              "      <td>0.00</td>\n",
              "      <td>0.04</td>\n",
              "      <td>0.00</td>\n",
              "      <td>0.01</td>\n",
              "      <td>46.0</td>\n",
              "      <td>7.6</td>\n",
              "      <td>None</td>\n",
              "    </tr>\n",
              "    <tr>\n",
              "      <th>13929</th>\n",
              "      <td>sega rally 2006</td>\n",
              "      <td>ps2</td>\n",
              "      <td>2005</td>\n",
              "      <td>racing</td>\n",
              "      <td>0.00</td>\n",
              "      <td>0.00</td>\n",
              "      <td>0.04</td>\n",
              "      <td>0.00</td>\n",
              "      <td>NaN</td>\n",
              "      <td>NaN</td>\n",
              "      <td>None</td>\n",
              "    </tr>\n",
              "    <tr>\n",
              "      <th>16079</th>\n",
              "      <td>football manager 2007</td>\n",
              "      <td>x360</td>\n",
              "      <td>2006</td>\n",
              "      <td>sports</td>\n",
              "      <td>0.00</td>\n",
              "      <td>0.01</td>\n",
              "      <td>0.00</td>\n",
              "      <td>0.00</td>\n",
              "      <td>NaN</td>\n",
              "      <td>NaN</td>\n",
              "      <td>None</td>\n",
              "    </tr>\n",
              "  </tbody>\n",
              "</table>\n",
              "<p>14015 rows × 11 columns</p>\n",
              "</div>"
            ],
            "text/plain": [
              "                                 name platform  ...  user_score rating\n",
              "1358   metal gear rising: revengeance      ps3  ...         7.9      m\n",
              "1381                      ridge racer      psp  ...         8.2      e\n",
              "1399    bravely default: flying fairy      3ds  ...         NaN   None\n",
              "1550                    dark souls ii      ps3  ...         8.1      t\n",
              "1551             kid icarus: uprising      3ds  ...         8.7   e10+\n",
              "...                               ...      ...  ...         ...    ...\n",
              "5655           all-star baseball 2005      ps2  ...         8.6      e\n",
              "8918           all-star baseball 2005       xb  ...         8.6      e\n",
              "13195             tour de france 2011     x360  ...         7.6   None\n",
              "13929                 sega rally 2006      ps2  ...         NaN   None\n",
              "16079           football manager 2007     x360  ...         NaN   None\n",
              "\n",
              "[14015 rows x 11 columns]"
            ]
          },
          "metadata": {
            "tags": []
          },
          "execution_count": 62
        }
      ]
    },
    {
      "cell_type": "code",
      "metadata": {
        "id": "IBF3N0GAaEiQ"
      },
      "source": [
        "games.drop(games.query('na_sales <= 0 and eu_sales <= 0 and jp_sales <= 0 and other_sales <= 0').index,inplace=True)\n",
        "# in my opinion these two should not have been in the set in the first place because they didnt got any sales in any of the region at all.\n",
        "# also these games are very old which probably wasnt succesfull games\n",
        "# dropped 2 rows"
      ],
      "execution_count": 63,
      "outputs": []
    },
    {
      "cell_type": "markdown",
      "metadata": {
        "id": "Kzhu5qcFY_RH"
      },
      "source": [
        "overall it seems that for most of the games figuers in sales columns are low and most of them below 0.5 (with all sales in the same time)\n",
        "\n",
        "with that been said & checked we can assume that  zeros in these columns are indicator to very very low sales (the table presents sales in millions) "
      ]
    },
    {
      "cell_type": "markdown",
      "metadata": {
        "id": "CCcebbDIcf14"
      },
      "source": [
        "## add total_sales column"
      ]
    },
    {
      "cell_type": "code",
      "metadata": {
        "id": "zec7XvzZcpJm"
      },
      "source": [
        "games['total_sales'] = games[['na_sales','eu_sales','jp_sales','other_sales']].sum(axis=1)"
      ],
      "execution_count": 64,
      "outputs": []
    },
    {
      "cell_type": "code",
      "metadata": {
        "id": "LuBbGbQWdEiy",
        "colab": {
          "base_uri": "https://localhost:8080/",
          "height": 384
        },
        "outputId": "498e9a49-66df-4b50-bef8-e2ff19d13ff5"
      },
      "source": [
        "games.tail()"
      ],
      "execution_count": 65,
      "outputs": [
        {
          "output_type": "execute_result",
          "data": {
            "text/html": [
              "<div>\n",
              "<style scoped>\n",
              "    .dataframe tbody tr th:only-of-type {\n",
              "        vertical-align: middle;\n",
              "    }\n",
              "\n",
              "    .dataframe tbody tr th {\n",
              "        vertical-align: top;\n",
              "    }\n",
              "\n",
              "    .dataframe thead th {\n",
              "        text-align: right;\n",
              "    }\n",
              "</style>\n",
              "<table border=\"1\" class=\"dataframe\">\n",
              "  <thead>\n",
              "    <tr style=\"text-align: right;\">\n",
              "      <th></th>\n",
              "      <th>name</th>\n",
              "      <th>platform</th>\n",
              "      <th>year_of_release</th>\n",
              "      <th>genre</th>\n",
              "      <th>na_sales</th>\n",
              "      <th>eu_sales</th>\n",
              "      <th>jp_sales</th>\n",
              "      <th>other_sales</th>\n",
              "      <th>critic_score</th>\n",
              "      <th>user_score</th>\n",
              "      <th>rating</th>\n",
              "      <th>total_sales</th>\n",
              "    </tr>\n",
              "  </thead>\n",
              "  <tbody>\n",
              "    <tr>\n",
              "      <th>5655</th>\n",
              "      <td>all-star baseball 2005</td>\n",
              "      <td>ps2</td>\n",
              "      <td>2004</td>\n",
              "      <td>sports</td>\n",
              "      <td>0.16</td>\n",
              "      <td>0.12</td>\n",
              "      <td>0.00</td>\n",
              "      <td>0.04</td>\n",
              "      <td>72.0</td>\n",
              "      <td>8.6</td>\n",
              "      <td>e</td>\n",
              "      <td>0.32</td>\n",
              "    </tr>\n",
              "    <tr>\n",
              "      <th>8918</th>\n",
              "      <td>all-star baseball 2005</td>\n",
              "      <td>xb</td>\n",
              "      <td>2004</td>\n",
              "      <td>sports</td>\n",
              "      <td>0.11</td>\n",
              "      <td>0.03</td>\n",
              "      <td>0.00</td>\n",
              "      <td>0.01</td>\n",
              "      <td>72.0</td>\n",
              "      <td>8.6</td>\n",
              "      <td>e</td>\n",
              "      <td>0.15</td>\n",
              "    </tr>\n",
              "    <tr>\n",
              "      <th>13195</th>\n",
              "      <td>tour de france 2011</td>\n",
              "      <td>x360</td>\n",
              "      <td>2010</td>\n",
              "      <td>racing</td>\n",
              "      <td>0.00</td>\n",
              "      <td>0.04</td>\n",
              "      <td>0.00</td>\n",
              "      <td>0.01</td>\n",
              "      <td>46.0</td>\n",
              "      <td>7.6</td>\n",
              "      <td>None</td>\n",
              "      <td>0.05</td>\n",
              "    </tr>\n",
              "    <tr>\n",
              "      <th>13929</th>\n",
              "      <td>sega rally 2006</td>\n",
              "      <td>ps2</td>\n",
              "      <td>2005</td>\n",
              "      <td>racing</td>\n",
              "      <td>0.00</td>\n",
              "      <td>0.00</td>\n",
              "      <td>0.04</td>\n",
              "      <td>0.00</td>\n",
              "      <td>NaN</td>\n",
              "      <td>NaN</td>\n",
              "      <td>None</td>\n",
              "      <td>0.04</td>\n",
              "    </tr>\n",
              "    <tr>\n",
              "      <th>16079</th>\n",
              "      <td>football manager 2007</td>\n",
              "      <td>x360</td>\n",
              "      <td>2006</td>\n",
              "      <td>sports</td>\n",
              "      <td>0.00</td>\n",
              "      <td>0.01</td>\n",
              "      <td>0.00</td>\n",
              "      <td>0.00</td>\n",
              "      <td>NaN</td>\n",
              "      <td>NaN</td>\n",
              "      <td>None</td>\n",
              "      <td>0.01</td>\n",
              "    </tr>\n",
              "  </tbody>\n",
              "</table>\n",
              "</div>"
            ],
            "text/plain": [
              "                         name platform  ...  rating total_sales\n",
              "5655   all-star baseball 2005      ps2  ...       e        0.32\n",
              "8918   all-star baseball 2005       xb  ...       e        0.15\n",
              "13195     tour de france 2011     x360  ...    None        0.05\n",
              "13929         sega rally 2006      ps2  ...    None        0.04\n",
              "16079   football manager 2007     x360  ...    None        0.01\n",
              "\n",
              "[5 rows x 12 columns]"
            ]
          },
          "metadata": {
            "tags": []
          },
          "execution_count": 65
        }
      ]
    },
    {
      "cell_type": "markdown",
      "metadata": {
        "id": "JaoXL_jadfsc"
      },
      "source": [
        "# Step 3. Analyze the data"
      ]
    },
    {
      "cell_type": "markdown",
      "metadata": {
        "id": "3pEZRrIqdjZ3"
      },
      "source": [
        "### - look at how many games were released in different years. Is the data for every period significant?"
      ]
    },
    {
      "cell_type": "code",
      "metadata": {
        "id": "ZWl6S3cUnKjT",
        "colab": {
          "base_uri": "https://localhost:8080/",
          "height": 1000
        },
        "outputId": "5b4179d9-d878-4c88-a13d-e40a676fd78a"
      },
      "source": [
        "per_year_release = games.groupby('year_of_release')['name'].agg('count').reset_index()\n",
        "per_year_release"
      ],
      "execution_count": 66,
      "outputs": [
        {
          "output_type": "execute_result",
          "data": {
            "text/html": [
              "<div>\n",
              "<style scoped>\n",
              "    .dataframe tbody tr th:only-of-type {\n",
              "        vertical-align: middle;\n",
              "    }\n",
              "\n",
              "    .dataframe tbody tr th {\n",
              "        vertical-align: top;\n",
              "    }\n",
              "\n",
              "    .dataframe thead th {\n",
              "        text-align: right;\n",
              "    }\n",
              "</style>\n",
              "<table border=\"1\" class=\"dataframe\">\n",
              "  <thead>\n",
              "    <tr style=\"text-align: right;\">\n",
              "      <th></th>\n",
              "      <th>year_of_release</th>\n",
              "      <th>name</th>\n",
              "    </tr>\n",
              "  </thead>\n",
              "  <tbody>\n",
              "    <tr>\n",
              "      <th>0</th>\n",
              "      <td>1980</td>\n",
              "      <td>14</td>\n",
              "    </tr>\n",
              "    <tr>\n",
              "      <th>1</th>\n",
              "      <td>1981</td>\n",
              "      <td>44</td>\n",
              "    </tr>\n",
              "    <tr>\n",
              "      <th>2</th>\n",
              "      <td>1982</td>\n",
              "      <td>37</td>\n",
              "    </tr>\n",
              "    <tr>\n",
              "      <th>3</th>\n",
              "      <td>1983</td>\n",
              "      <td>19</td>\n",
              "    </tr>\n",
              "    <tr>\n",
              "      <th>4</th>\n",
              "      <td>1984</td>\n",
              "      <td>16</td>\n",
              "    </tr>\n",
              "    <tr>\n",
              "      <th>5</th>\n",
              "      <td>1985</td>\n",
              "      <td>17</td>\n",
              "    </tr>\n",
              "    <tr>\n",
              "      <th>6</th>\n",
              "      <td>1986</td>\n",
              "      <td>24</td>\n",
              "    </tr>\n",
              "    <tr>\n",
              "      <th>7</th>\n",
              "      <td>1987</td>\n",
              "      <td>16</td>\n",
              "    </tr>\n",
              "    <tr>\n",
              "      <th>8</th>\n",
              "      <td>1988</td>\n",
              "      <td>14</td>\n",
              "    </tr>\n",
              "    <tr>\n",
              "      <th>9</th>\n",
              "      <td>1989</td>\n",
              "      <td>21</td>\n",
              "    </tr>\n",
              "    <tr>\n",
              "      <th>10</th>\n",
              "      <td>1990</td>\n",
              "      <td>15</td>\n",
              "    </tr>\n",
              "    <tr>\n",
              "      <th>11</th>\n",
              "      <td>1991</td>\n",
              "      <td>50</td>\n",
              "    </tr>\n",
              "    <tr>\n",
              "      <th>12</th>\n",
              "      <td>1992</td>\n",
              "      <td>52</td>\n",
              "    </tr>\n",
              "    <tr>\n",
              "      <th>13</th>\n",
              "      <td>1993</td>\n",
              "      <td>61</td>\n",
              "    </tr>\n",
              "    <tr>\n",
              "      <th>14</th>\n",
              "      <td>1994</td>\n",
              "      <td>149</td>\n",
              "    </tr>\n",
              "    <tr>\n",
              "      <th>15</th>\n",
              "      <td>1995</td>\n",
              "      <td>212</td>\n",
              "    </tr>\n",
              "    <tr>\n",
              "      <th>16</th>\n",
              "      <td>1996</td>\n",
              "      <td>275</td>\n",
              "    </tr>\n",
              "    <tr>\n",
              "      <th>17</th>\n",
              "      <td>1997</td>\n",
              "      <td>301</td>\n",
              "    </tr>\n",
              "    <tr>\n",
              "      <th>18</th>\n",
              "      <td>1998</td>\n",
              "      <td>401</td>\n",
              "    </tr>\n",
              "    <tr>\n",
              "      <th>19</th>\n",
              "      <td>1999</td>\n",
              "      <td>331</td>\n",
              "    </tr>\n",
              "    <tr>\n",
              "      <th>20</th>\n",
              "      <td>2000</td>\n",
              "      <td>353</td>\n",
              "    </tr>\n",
              "    <tr>\n",
              "      <th>21</th>\n",
              "      <td>2001</td>\n",
              "      <td>526</td>\n",
              "    </tr>\n",
              "    <tr>\n",
              "      <th>22</th>\n",
              "      <td>2002</td>\n",
              "      <td>829</td>\n",
              "    </tr>\n",
              "    <tr>\n",
              "      <th>23</th>\n",
              "      <td>2003</td>\n",
              "      <td>747</td>\n",
              "    </tr>\n",
              "    <tr>\n",
              "      <th>24</th>\n",
              "      <td>2004</td>\n",
              "      <td>785</td>\n",
              "    </tr>\n",
              "    <tr>\n",
              "      <th>25</th>\n",
              "      <td>2005</td>\n",
              "      <td>935</td>\n",
              "    </tr>\n",
              "    <tr>\n",
              "      <th>26</th>\n",
              "      <td>2006</td>\n",
              "      <td>1017</td>\n",
              "    </tr>\n",
              "    <tr>\n",
              "      <th>27</th>\n",
              "      <td>2007</td>\n",
              "      <td>1208</td>\n",
              "    </tr>\n",
              "    <tr>\n",
              "      <th>28</th>\n",
              "      <td>2008</td>\n",
              "      <td>1431</td>\n",
              "    </tr>\n",
              "    <tr>\n",
              "      <th>29</th>\n",
              "      <td>2009</td>\n",
              "      <td>1426</td>\n",
              "    </tr>\n",
              "    <tr>\n",
              "      <th>30</th>\n",
              "      <td>2010</td>\n",
              "      <td>1265</td>\n",
              "    </tr>\n",
              "    <tr>\n",
              "      <th>31</th>\n",
              "      <td>2011</td>\n",
              "      <td>1167</td>\n",
              "    </tr>\n",
              "    <tr>\n",
              "      <th>32</th>\n",
              "      <td>2012</td>\n",
              "      <td>672</td>\n",
              "    </tr>\n",
              "    <tr>\n",
              "      <th>33</th>\n",
              "      <td>2013</td>\n",
              "      <td>535</td>\n",
              "    </tr>\n",
              "    <tr>\n",
              "      <th>34</th>\n",
              "      <td>2014</td>\n",
              "      <td>551</td>\n",
              "    </tr>\n",
              "    <tr>\n",
              "      <th>35</th>\n",
              "      <td>2015</td>\n",
              "      <td>581</td>\n",
              "    </tr>\n",
              "    <tr>\n",
              "      <th>36</th>\n",
              "      <td>2016</td>\n",
              "      <td>475</td>\n",
              "    </tr>\n",
              "  </tbody>\n",
              "</table>\n",
              "</div>"
            ],
            "text/plain": [
              "    year_of_release  name\n",
              "0              1980    14\n",
              "1              1981    44\n",
              "2              1982    37\n",
              "3              1983    19\n",
              "4              1984    16\n",
              "5              1985    17\n",
              "6              1986    24\n",
              "7              1987    16\n",
              "8              1988    14\n",
              "9              1989    21\n",
              "10             1990    15\n",
              "11             1991    50\n",
              "12             1992    52\n",
              "13             1993    61\n",
              "14             1994   149\n",
              "15             1995   212\n",
              "16             1996   275\n",
              "17             1997   301\n",
              "18             1998   401\n",
              "19             1999   331\n",
              "20             2000   353\n",
              "21             2001   526\n",
              "22             2002   829\n",
              "23             2003   747\n",
              "24             2004   785\n",
              "25             2005   935\n",
              "26             2006  1017\n",
              "27             2007  1208\n",
              "28             2008  1431\n",
              "29             2009  1426\n",
              "30             2010  1265\n",
              "31             2011  1167\n",
              "32             2012   672\n",
              "33             2013   535\n",
              "34             2014   551\n",
              "35             2015   581\n",
              "36             2016   475"
            ]
          },
          "metadata": {
            "tags": []
          },
          "execution_count": 66
        }
      ]
    },
    {
      "cell_type": "code",
      "metadata": {
        "id": "GsgG3xAyjPXt",
        "colab": {
          "base_uri": "https://localhost:8080/",
          "height": 602
        },
        "outputId": "a7809276-cfa0-44f7-dcf2-a63ddfb4e814"
      },
      "source": [
        "fig, ax = plt.subplots(figsize=(17,10))\n",
        "ax.vlines(x=per_year_release['year_of_release'],ymin=0,ymax=per_year_release['name'],alpha=0.8,linewidth = 3)\n",
        "ax.scatter(x=per_year_release['year_of_release'],y=per_year_release['name'])\n",
        "ax.set_title('Number of game releases per year')\n",
        "ax.set_ylabel('Number of games')\n",
        "ax.set_xticks(per_year_release['year_of_release'])\n",
        "ax.set_xticklabels(per_year_release['year_of_release'],rotation= 90)\n",
        "# er_year_release.plot(figsize=(12,9))\n",
        "plt.show()"
      ],
      "execution_count": 67,
      "outputs": [
        {
          "output_type": "display_data",
          "data": {
            "image/png": "[encoded data removed]",
            "text/plain": [
              "<Figure size 1224x720 with 1 Axes>"
            ]
          },
          "metadata": {
            "tags": [],
            "needs_background": "light"
          }
        }
      ]
    },
    {
      "cell_type": "markdown",
      "metadata": {
        "id": "fqrhDrdL0sIR"
      },
      "source": [
        "big impact on 2008-09 with the amount of games releasd\n",
        "reason for that might be because of PS3 which was released few years before"
      ]
    },
    {
      "cell_type": "markdown",
      "metadata": {
        "id": "psi_S42i1q3T"
      },
      "source": [
        "### Look at how sales varied from platform to platform. \n",
        "### Choose the platforms with the greatest total sales and build a distribution based on data for each year. \n",
        "### Find platforms that used to be popular but now have zero sales. How long does it generally take for new platforms to appear and old ones to fade?"
      ]
    },
    {
      "cell_type": "code",
      "metadata": {
        "id": "LwiwhKuU1wes",
        "colab": {
          "base_uri": "https://localhost:8080/",
          "height": 196
        },
        "outputId": "73dddcc7-859a-4573-c37d-a26eed75de42"
      },
      "source": [
        "# comparing platforms total sales and \n",
        "per_platform = games[['platform','total_sales']].groupby('platform').sum().sort_values(by='total_sales').reset_index() # create new table\n",
        "per_platform['sales_std']  = (per_platform['total_sales'] - per_platform['total_sales'].mean()) / per_platform['total_sales'].std() # add new column with std terms for each platfor,\n",
        "per_platform['color'] = ['green' if x>0 else 'red' for x in per_platform['sales_std']] # color col to use further in plot\n",
        "per_platform.tail()"
      ],
      "execution_count": 68,
      "outputs": [
        {
          "output_type": "execute_result",
          "data": {
            "text/html": [
              "<div>\n",
              "<style scoped>\n",
              "    .dataframe tbody tr th:only-of-type {\n",
              "        vertical-align: middle;\n",
              "    }\n",
              "\n",
              "    .dataframe tbody tr th {\n",
              "        vertical-align: top;\n",
              "    }\n",
              "\n",
              "    .dataframe thead th {\n",
              "        text-align: right;\n",
              "    }\n",
              "</style>\n",
              "<table border=\"1\" class=\"dataframe\">\n",
              "  <thead>\n",
              "    <tr style=\"text-align: right;\">\n",
              "      <th></th>\n",
              "      <th>platform</th>\n",
              "      <th>total_sales</th>\n",
              "      <th>sales_std</th>\n",
              "      <th>color</th>\n",
              "    </tr>\n",
              "  </thead>\n",
              "  <tbody>\n",
              "    <tr>\n",
              "      <th>26</th>\n",
              "      <td>ds</td>\n",
              "      <td>804.28</td>\n",
              "      <td>1.493519</td>\n",
              "      <td>green</td>\n",
              "    </tr>\n",
              "    <tr>\n",
              "      <th>27</th>\n",
              "      <td>wii</td>\n",
              "      <td>903.31</td>\n",
              "      <td>1.779027</td>\n",
              "      <td>green</td>\n",
              "    </tr>\n",
              "    <tr>\n",
              "      <th>28</th>\n",
              "      <td>ps3</td>\n",
              "      <td>935.19</td>\n",
              "      <td>1.870938</td>\n",
              "      <td>green</td>\n",
              "    </tr>\n",
              "    <tr>\n",
              "      <th>29</th>\n",
              "      <td>x360</td>\n",
              "      <td>966.67</td>\n",
              "      <td>1.961696</td>\n",
              "      <td>green</td>\n",
              "    </tr>\n",
              "    <tr>\n",
              "      <th>30</th>\n",
              "      <td>ps2</td>\n",
              "      <td>1250.92</td>\n",
              "      <td>2.781200</td>\n",
              "      <td>green</td>\n",
              "    </tr>\n",
              "  </tbody>\n",
              "</table>\n",
              "</div>"
            ],
            "text/plain": [
              "   platform  total_sales  sales_std  color\n",
              "26       ds       804.28   1.493519  green\n",
              "27      wii       903.31   1.779027  green\n",
              "28      ps3       935.19   1.870938  green\n",
              "29     x360       966.67   1.961696  green\n",
              "30      ps2      1250.92   2.781200  green"
            ]
          },
          "metadata": {
            "tags": []
          },
          "execution_count": 68
        }
      ]
    },
    {
      "cell_type": "code",
      "metadata": {
        "id": "Yg6UEL6iXOPh",
        "colab": {
          "base_uri": "https://localhost:8080/",
          "height": 609
        },
        "outputId": "f1e9446a-6463-4c35-8a5c-17faa81a8029"
      },
      "source": [
        "plt.figure(figsize=(16,10),frameon=True,facecolor='white')\n",
        "plt.hlines(y=per_platform['platform'],xmin=0, xmax=per_platform['sales_std'],color=per_platform['color'],linewidth=10,linestyles='solid')"
      ],
      "execution_count": 69,
      "outputs": [
        {
          "output_type": "execute_result",
          "data": {
            "text/plain": [
              "<matplotlib.collections.LineCollection at 0x7f461a91a400>"
            ]
          },
          "metadata": {
            "tags": []
          },
          "execution_count": 69
        },
        {
          "output_type": "display_data",
          "data": {
            "image/png": "[encoded data removed]",
            "text/plain": [
              "<Figure size 1152x720 with 1 Axes>"
            ]
          },
          "metadata": {
            "tags": []
          }
        }
      ]
    },
    {
      "cell_type": "markdown",
      "metadata": {
        "id": "3PVsqauihTLy"
      },
      "source": [
        "distribution above for each platform and total sales\n",
        "top sales are for: PS2, X360 and PS3\n",
        " - - - - - - - \n"
      ]
    },
    {
      "cell_type": "code",
      "metadata": {
        "id": "W5XW4bnwsIWA"
      },
      "source": [
        "# now lets take PS2 total sales and breakdown by year but first lets see if any records appears before the release of ps2 (2000-1999) so games before will probably considered as outliners:\n",
        "games = games.drop(games[(games['platform'] == \"ps2\")  & (games['year_of_release'] <= 1997)].index)"
      ],
      "execution_count": 70,
      "outputs": []
    },
    {
      "cell_type": "markdown",
      "metadata": {
        "id": "9DRdaXWirK1R"
      },
      "source": [
        "the above incorrect records and will be deleted:"
      ]
    },
    {
      "cell_type": "code",
      "metadata": {
        "id": "TCMVA6GPp0mW"
      },
      "source": [
        "# remove outliners (typo) for x360 as well. platform released on 2005 so outliners are the games before 2003 or so\n",
        "games = games.drop(games[(games['platform'] == \"x360\")  & (games['year_of_release'] <= 2003)].index)"
      ],
      "execution_count": 71,
      "outputs": []
    },
    {
      "cell_type": "code",
      "metadata": {
        "id": "Oq7cXa_X8U3n"
      },
      "source": [
        "# same for ps3:\n",
        "games = games.drop(games[(games['platform'] == \"ps3\")  & (games['year_of_release'] <= 2005)].index)"
      ],
      "execution_count": 72,
      "outputs": []
    },
    {
      "cell_type": "code",
      "metadata": {
        "id": "qUuZPzGuJpT8"
      },
      "source": [
        "# same for wii - release on 2006:\n",
        "games = games.drop(games[(games['platform'] == \"wii\")  & (games['year_of_release'] <= 2004)].index)"
      ],
      "execution_count": 73,
      "outputs": []
    },
    {
      "cell_type": "code",
      "metadata": {
        "id": "QQX2Q96mJ9TM"
      },
      "source": [
        "# same for ds - release on 2004:\n",
        "games = games.drop(games[(games['platform'] == \"ds\")  & (games['year_of_release'] <= 2002)].index)"
      ],
      "execution_count": 74,
      "outputs": []
    },
    {
      "cell_type": "code",
      "metadata": {
        "id": "GLbHHSNiJ_o_"
      },
      "source": [
        "# same for ps - release on 1994:\n",
        "games = games.drop(games[(games['platform'] == \"ps\")  & (games['year_of_release'] <= 1992)].index)"
      ],
      "execution_count": 75,
      "outputs": []
    },
    {
      "cell_type": "code",
      "metadata": {
        "id": "y-e_XpRkjgZ8",
        "colab": {
          "base_uri": "https://localhost:8080/",
          "height": 77
        },
        "outputId": "09a36fdf-c756-498e-9480-60c30ffe1de9"
      },
      "source": [
        "# now we can groupby\n",
        "plat_year = games.query('platform == \"ps2\" | platform == \"x360\"| platform == \"ps3\"| platform == \"wii\"| platform == \"ds\"| platform == \"ps\"').groupby(['year_of_release','platform'])['total_sales'].sum().reset_index()\n",
        "plat_year.sample()"
      ],
      "execution_count": 76,
      "outputs": [
        {
          "output_type": "execute_result",
          "data": {
            "text/html": [
              "<div>\n",
              "<style scoped>\n",
              "    .dataframe tbody tr th:only-of-type {\n",
              "        vertical-align: middle;\n",
              "    }\n",
              "\n",
              "    .dataframe tbody tr th {\n",
              "        vertical-align: top;\n",
              "    }\n",
              "\n",
              "    .dataframe thead th {\n",
              "        text-align: right;\n",
              "    }\n",
              "</style>\n",
              "<table border=\"1\" class=\"dataframe\">\n",
              "  <thead>\n",
              "    <tr style=\"text-align: right;\">\n",
              "      <th></th>\n",
              "      <th>year_of_release</th>\n",
              "      <th>platform</th>\n",
              "      <th>total_sales</th>\n",
              "    </tr>\n",
              "  </thead>\n",
              "  <tbody>\n",
              "    <tr>\n",
              "      <th>39</th>\n",
              "      <td>2008</td>\n",
              "      <td>ps3</td>\n",
              "      <td>116.92</td>\n",
              "    </tr>\n",
              "  </tbody>\n",
              "</table>\n",
              "</div>"
            ],
            "text/plain": [
              "    year_of_release platform  total_sales\n",
              "39             2008      ps3       116.92"
            ]
          },
          "metadata": {
            "tags": []
          },
          "execution_count": 76
        }
      ]
    },
    {
      "cell_type": "code",
      "metadata": {
        "id": "CKVm-7x3ynUG",
        "colab": {
          "base_uri": "https://localhost:8080/",
          "height": 585
        },
        "outputId": "75727201-5bba-4687-c080-451bf36d87b7"
      },
      "source": [
        "# plot ps\n",
        "plat_year.pivot('year_of_release','platform','total_sales').plot(\n",
        "    title='Greatest total sells distribution',figsize=(16,9),linestyle='--',linewidth=1,marker='o')"
      ],
      "execution_count": 77,
      "outputs": [
        {
          "output_type": "execute_result",
          "data": {
            "text/plain": [
              "<matplotlib.axes._subplots.AxesSubplot at 0x7f461947aa58>"
            ]
          },
          "metadata": {
            "tags": []
          },
          "execution_count": 77
        },
        {
          "output_type": "display_data",
          "data": {
            "image/png": "[encoded data removed]",
            "text/plain": [
              "<Figure size 1152x648 with 1 Axes>"
            ]
          },
          "metadata": {
            "tags": [],
            "needs_background": "light"
          }
        }
      ]
    },
    {
      "cell_type": "markdown",
      "metadata": {
        "id": "BKiNRY5CE9Hk"
      },
      "source": [
        "when taking the 5 top selling platform we can assume that the average lifetime for a platfor is about 11-12 years when the peak of the console is after 5 year approx.\n",
        "when having a look into ps platforms only we noticed the when the old platform sales starts to decline a new platform released and sales start to rise"
      ]
    },
    {
      "cell_type": "markdown",
      "metadata": {
        "id": "963Ed8fjFgCg"
      },
      "source": [
        "### •\tDetermine what period you should take data for. To do so, look at your answers to the previous questions. The data should allow you to build a prognosis for 2017."
      ]
    },
    {
      "cell_type": "markdown",
      "metadata": {
        "id": "dfc6Epy6bd7-"
      },
      "source": [
        "As explained above - the period should be for the last 15 years or so to determine the trend for 2017 in terms of each platforms sales or at least expect\n",
        "trend can be seen at last 5 years in platforms sales so, although the whole lifespan of a platform might be 15 years the trend of rising/declining can be noticed from last 5 years of a platform\n",
        "I will take data from 2000 only to see any past trends as wll"
      ]
    },
    {
      "cell_type": "markdown",
      "metadata": {
        "id": "LpyuyWFRcsZx"
      },
      "source": [
        "### •\tWork only with the data that you've decided is relevant. Disregard the data for previous years"
      ]
    },
    {
      "cell_type": "code",
      "metadata": {
        "id": "7aFXVg7ac5Nz",
        "colab": {
          "base_uri": "https://localhost:8080/"
        },
        "outputId": "ba92866f-5d62-4c82-c225-d90e7bf3a74a"
      },
      "source": [
        "games_recent = games.query('year_of_release >= 2000').reset_index()\n",
        "games_recent = games_recent.drop(columns='index')\n",
        "len(games_recent)"
      ],
      "execution_count": 78,
      "outputs": [
        {
          "output_type": "execute_result",
          "data": {
            "text/plain": [
              "14481"
            ]
          },
          "metadata": {
            "tags": []
          },
          "execution_count": 78
        }
      ]
    },
    {
      "cell_type": "markdown",
      "metadata": {
        "id": "xXf6nJTidvod"
      },
      "source": [
        "### •\tWhich platforms are leading in sales? Which ones are growing or shrinking? Select several potentially profitable platforms."
      ]
    },
    {
      "cell_type": "code",
      "metadata": {
        "id": "MHdd8Yq6dyWD",
        "colab": {
          "base_uri": "https://localhost:8080/",
          "height": 246
        },
        "outputId": "ef16e71d-2ccc-41f6-cbfc-ae25360000e2"
      },
      "source": [
        "# will do a heat map comparing the change in total sales for each platform\n",
        "games_recent_pivot = pd.pivot_table(games_recent,index='year_of_release',columns='platform',values='total_sales',aggfunc='sum',fill_value=0)\n",
        "change_year_before = games_recent_pivot -games_recent_pivot.shift(1)\n",
        "change_year_before.head()"
      ],
      "execution_count": 79,
      "outputs": [
        {
          "output_type": "execute_result",
          "data": {
            "text/html": [
              "<div>\n",
              "<style scoped>\n",
              "    .dataframe tbody tr th:only-of-type {\n",
              "        vertical-align: middle;\n",
              "    }\n",
              "\n",
              "    .dataframe tbody tr th {\n",
              "        vertical-align: top;\n",
              "    }\n",
              "\n",
              "    .dataframe thead th {\n",
              "        text-align: right;\n",
              "    }\n",
              "</style>\n",
              "<table border=\"1\" class=\"dataframe\">\n",
              "  <thead>\n",
              "    <tr style=\"text-align: right;\">\n",
              "      <th>platform</th>\n",
              "      <th>2600</th>\n",
              "      <th>3ds</th>\n",
              "      <th>dc</th>\n",
              "      <th>ds</th>\n",
              "      <th>gb</th>\n",
              "      <th>gba</th>\n",
              "      <th>gc</th>\n",
              "      <th>gen</th>\n",
              "      <th>n64</th>\n",
              "      <th>pc</th>\n",
              "      <th>ps</th>\n",
              "      <th>ps2</th>\n",
              "      <th>ps3</th>\n",
              "      <th>ps4</th>\n",
              "      <th>psp</th>\n",
              "      <th>psv</th>\n",
              "      <th>sat</th>\n",
              "      <th>snes</th>\n",
              "      <th>wii</th>\n",
              "      <th>wiiu</th>\n",
              "      <th>ws</th>\n",
              "      <th>x360</th>\n",
              "      <th>xb</th>\n",
              "      <th>xone</th>\n",
              "    </tr>\n",
              "    <tr>\n",
              "      <th>year_of_release</th>\n",
              "      <th></th>\n",
              "      <th></th>\n",
              "      <th></th>\n",
              "      <th></th>\n",
              "      <th></th>\n",
              "      <th></th>\n",
              "      <th></th>\n",
              "      <th></th>\n",
              "      <th></th>\n",
              "      <th></th>\n",
              "      <th></th>\n",
              "      <th></th>\n",
              "      <th></th>\n",
              "      <th></th>\n",
              "      <th></th>\n",
              "      <th></th>\n",
              "      <th></th>\n",
              "      <th></th>\n",
              "      <th></th>\n",
              "      <th></th>\n",
              "      <th></th>\n",
              "      <th></th>\n",
              "      <th></th>\n",
              "      <th></th>\n",
              "    </tr>\n",
              "  </thead>\n",
              "  <tbody>\n",
              "    <tr>\n",
              "      <th>2000</th>\n",
              "      <td>NaN</td>\n",
              "      <td>NaN</td>\n",
              "      <td>NaN</td>\n",
              "      <td>NaN</td>\n",
              "      <td>NaN</td>\n",
              "      <td>NaN</td>\n",
              "      <td>NaN</td>\n",
              "      <td>NaN</td>\n",
              "      <td>NaN</td>\n",
              "      <td>NaN</td>\n",
              "      <td>NaN</td>\n",
              "      <td>NaN</td>\n",
              "      <td>NaN</td>\n",
              "      <td>NaN</td>\n",
              "      <td>NaN</td>\n",
              "      <td>NaN</td>\n",
              "      <td>NaN</td>\n",
              "      <td>NaN</td>\n",
              "      <td>NaN</td>\n",
              "      <td>NaN</td>\n",
              "      <td>NaN</td>\n",
              "      <td>NaN</td>\n",
              "      <td>NaN</td>\n",
              "      <td>NaN</td>\n",
              "    </tr>\n",
              "    <tr>\n",
              "      <th>2001</th>\n",
              "      <td>-0.93</td>\n",
              "      <td>-0.69</td>\n",
              "      <td>-1.00</td>\n",
              "      <td>0.00</td>\n",
              "      <td>-6.11</td>\n",
              "      <td>52.67</td>\n",
              "      <td>31.02</td>\n",
              "      <td>0.0</td>\n",
              "      <td>-29.78</td>\n",
              "      <td>0.90</td>\n",
              "      <td>-57.67</td>\n",
              "      <td>123.79</td>\n",
              "      <td>0.0</td>\n",
              "      <td>0.00</td>\n",
              "      <td>0.01</td>\n",
              "      <td>0.00</td>\n",
              "      <td>0.00</td>\n",
              "      <td>0.0</td>\n",
              "      <td>0.0</td>\n",
              "      <td>0.0</td>\n",
              "      <td>-0.14</td>\n",
              "      <td>0.00</td>\n",
              "      <td>26.85</td>\n",
              "      <td>0.00</td>\n",
              "    </tr>\n",
              "    <tr>\n",
              "      <th>2002</th>\n",
              "      <td>0.00</td>\n",
              "      <td>-0.56</td>\n",
              "      <td>-1.95</td>\n",
              "      <td>0.00</td>\n",
              "      <td>-9.24</td>\n",
              "      <td>13.49</td>\n",
              "      <td>18.65</td>\n",
              "      <td>0.0</td>\n",
              "      <td>-2.57</td>\n",
              "      <td>3.05</td>\n",
              "      <td>-29.01</td>\n",
              "      <td>44.71</td>\n",
              "      <td>0.0</td>\n",
              "      <td>0.37</td>\n",
              "      <td>0.03</td>\n",
              "      <td>0.00</td>\n",
              "      <td>0.04</td>\n",
              "      <td>0.0</td>\n",
              "      <td>0.0</td>\n",
              "      <td>1.8</td>\n",
              "      <td>-0.03</td>\n",
              "      <td>0.00</td>\n",
              "      <td>19.91</td>\n",
              "      <td>0.08</td>\n",
              "    </tr>\n",
              "    <tr>\n",
              "      <th>2003</th>\n",
              "      <td>0.00</td>\n",
              "      <td>-0.23</td>\n",
              "      <td>-0.78</td>\n",
              "      <td>0.50</td>\n",
              "      <td>0.00</td>\n",
              "      <td>-23.52</td>\n",
              "      <td>-0.61</td>\n",
              "      <td>0.0</td>\n",
              "      <td>0.00</td>\n",
              "      <td>0.31</td>\n",
              "      <td>-4.67</td>\n",
              "      <td>-19.86</td>\n",
              "      <td>0.0</td>\n",
              "      <td>-0.37</td>\n",
              "      <td>0.00</td>\n",
              "      <td>0.00</td>\n",
              "      <td>-0.04</td>\n",
              "      <td>0.0</td>\n",
              "      <td>0.0</td>\n",
              "      <td>-1.8</td>\n",
              "      <td>0.00</td>\n",
              "      <td>0.00</td>\n",
              "      <td>5.62</td>\n",
              "      <td>-0.08</td>\n",
              "    </tr>\n",
              "    <tr>\n",
              "      <th>2004</th>\n",
              "      <td>0.00</td>\n",
              "      <td>0.86</td>\n",
              "      <td>0.00</td>\n",
              "      <td>7.19</td>\n",
              "      <td>0.00</td>\n",
              "      <td>34.02</td>\n",
              "      <td>-20.15</td>\n",
              "      <td>0.0</td>\n",
              "      <td>0.33</td>\n",
              "      <td>2.28</td>\n",
              "      <td>-0.64</td>\n",
              "      <td>20.31</td>\n",
              "      <td>0.0</td>\n",
              "      <td>0.00</td>\n",
              "      <td>8.15</td>\n",
              "      <td>0.17</td>\n",
              "      <td>0.00</td>\n",
              "      <td>0.0</td>\n",
              "      <td>0.0</td>\n",
              "      <td>0.0</td>\n",
              "      <td>0.00</td>\n",
              "      <td>0.67</td>\n",
              "      <td>14.73</td>\n",
              "      <td>0.00</td>\n",
              "    </tr>\n",
              "  </tbody>\n",
              "</table>\n",
              "</div>"
            ],
            "text/plain": [
              "platform         2600   3ds    dc    ds    gb  ...  wiiu    ws  x360     xb  xone\n",
              "year_of_release                                ...                               \n",
              "2000              NaN   NaN   NaN   NaN   NaN  ...   NaN   NaN   NaN    NaN   NaN\n",
              "2001            -0.93 -0.69 -1.00  0.00 -6.11  ...   0.0 -0.14  0.00  26.85  0.00\n",
              "2002             0.00 -0.56 -1.95  0.00 -9.24  ...   1.8 -0.03  0.00  19.91  0.08\n",
              "2003             0.00 -0.23 -0.78  0.50  0.00  ...  -1.8  0.00  0.00   5.62 -0.08\n",
              "2004             0.00  0.86  0.00  7.19  0.00  ...   0.0  0.00  0.67  14.73  0.00\n",
              "\n",
              "[5 rows x 24 columns]"
            ]
          },
          "metadata": {
            "tags": []
          },
          "execution_count": 79
        }
      ]
    },
    {
      "cell_type": "code",
      "metadata": {
        "id": "AnZfX-nc41h3",
        "colab": {
          "base_uri": "https://localhost:8080/",
          "height": 552
        },
        "outputId": "c49c6665-a582-485a-cc08-dbf41f9608a0"
      },
      "source": [
        "plt.figure(figsize=(13,9),facecolor='white')\n",
        "sns.heatmap(change_year_before.T,cmap='RdBu_r')\n",
        "plt.yticks(rotation=0) \n",
        "plt.show()"
      ],
      "execution_count": 80,
      "outputs": [
        {
          "output_type": "display_data",
          "data": {
            "image/png": "[encoded data removed]",
            "text/plain": [
              "<Figure size 936x648 with 2 Axes>"
            ]
          },
          "metadata": {
            "tags": []
          }
        }
      ]
    },
    {
      "cell_type": "markdown",
      "metadata": {
        "id": "yhNaM3I4-COJ"
      },
      "source": [
        "in the above heat map we notice for the change of total sales per each platform from the beginning of 2000\n",
        "- ds is a good example for uprising and declining after. 2005 was year with a huge sale increase (peak of the platform) which got decreased with some changes in the years after when in 2015 no sales to be seen\n",
        "- xone is on a decrease from 2013 and we can assume that in 2017 the trend continues\n",
        "- ps4 as well in a decrease momentum although good sales rising was noticed in the years before 2016\n",
        "- 2600 platform doesnt seems to be existing anymore nowdays \n"
      ]
    },
    {
      "cell_type": "markdown",
      "metadata": {
        "id": "KjmaaD1b_q9q"
      },
      "source": [
        "\n",
        "### •\tBuild a box plot for the global sales of all games, broken down by platform. Are the differences in sales significant? What about average sales on various platforms? Describe your findings. "
      ]
    },
    {
      "cell_type": "code",
      "metadata": {
        "id": "rM5CPtdrBsoj",
        "colab": {
          "base_uri": "https://localhost:8080/",
          "height": 196
        },
        "outputId": "dc2107b4-9677-4c06-a96a-1fa961b9ab4f"
      },
      "source": [
        "# create new df with sales year and platform\n",
        "games_recent_year_sales = games_recent.groupby(['platform','year_of_release'])['total_sales'].sum().reset_index()\n",
        "games_recent_year_sales.head(5)"
      ],
      "execution_count": 81,
      "outputs": [
        {
          "output_type": "execute_result",
          "data": {
            "text/html": [
              "<div>\n",
              "<style scoped>\n",
              "    .dataframe tbody tr th:only-of-type {\n",
              "        vertical-align: middle;\n",
              "    }\n",
              "\n",
              "    .dataframe tbody tr th {\n",
              "        vertical-align: top;\n",
              "    }\n",
              "\n",
              "    .dataframe thead th {\n",
              "        text-align: right;\n",
              "    }\n",
              "</style>\n",
              "<table border=\"1\" class=\"dataframe\">\n",
              "  <thead>\n",
              "    <tr style=\"text-align: right;\">\n",
              "      <th></th>\n",
              "      <th>platform</th>\n",
              "      <th>year_of_release</th>\n",
              "      <th>total_sales</th>\n",
              "    </tr>\n",
              "  </thead>\n",
              "  <tbody>\n",
              "    <tr>\n",
              "      <th>0</th>\n",
              "      <td>2600</td>\n",
              "      <td>2000</td>\n",
              "      <td>0.93</td>\n",
              "    </tr>\n",
              "    <tr>\n",
              "      <th>1</th>\n",
              "      <td>3ds</td>\n",
              "      <td>2000</td>\n",
              "      <td>1.48</td>\n",
              "    </tr>\n",
              "    <tr>\n",
              "      <th>2</th>\n",
              "      <td>3ds</td>\n",
              "      <td>2001</td>\n",
              "      <td>0.79</td>\n",
              "    </tr>\n",
              "    <tr>\n",
              "      <th>3</th>\n",
              "      <td>3ds</td>\n",
              "      <td>2002</td>\n",
              "      <td>0.23</td>\n",
              "    </tr>\n",
              "    <tr>\n",
              "      <th>4</th>\n",
              "      <td>3ds</td>\n",
              "      <td>2004</td>\n",
              "      <td>0.86</td>\n",
              "    </tr>\n",
              "  </tbody>\n",
              "</table>\n",
              "</div>"
            ],
            "text/plain": [
              "  platform  year_of_release  total_sales\n",
              "0     2600             2000         0.93\n",
              "1      3ds             2000         1.48\n",
              "2      3ds             2001         0.79\n",
              "3      3ds             2002         0.23\n",
              "4      3ds             2004         0.86"
            ]
          },
          "metadata": {
            "tags": []
          },
          "execution_count": 81
        }
      ]
    },
    {
      "cell_type": "code",
      "metadata": {
        "id": "Bo50RjWDEPO9"
      },
      "source": [
        "# make order by sales:\n",
        "ordered_recent = games_recent_year_sales.groupby('platform')['total_sales'].sum().sort_values().reset_index()['platform']"
      ],
      "execution_count": 82,
      "outputs": []
    },
    {
      "cell_type": "code",
      "metadata": {
        "id": "wzEBMV4oC5Ty",
        "colab": {
          "base_uri": "https://localhost:8080/",
          "height": 548
        },
        "outputId": "9970a399-c3f7-436f-c89a-bd45475de572"
      },
      "source": [
        "# create boxplot:\n",
        "plt.figure(figsize=(19,10),facecolor='white')\n",
        "sns.boxplot(x='platform',y='total_sales',data=games_recent_year_sales,order=ordered_recent,showmeans=True)"
      ],
      "execution_count": 83,
      "outputs": [
        {
          "output_type": "execute_result",
          "data": {
            "text/plain": [
              "<matplotlib.axes._subplots.AxesSubplot at 0x7f460ec79f98>"
            ]
          },
          "metadata": {
            "tags": []
          },
          "execution_count": 83
        },
        {
          "output_type": "display_data",
          "data": {
            "image/png": "[encoded data removed]",
            "text/plain": [
              "<Figure size 1368x720 with 1 Axes>"
            ]
          },
          "metadata": {
            "tags": []
          }
        }
      ]
    },
    {
      "cell_type": "markdown",
      "metadata": {
        "id": "h6HJbuvfF3bN"
      },
      "source": [
        "sales differs from platform to another and in generations\n",
        "the main significant platforms are wii ds xbox ps2 /3 /4 /psp\n",
        "- we can notice that the ps2 has more sales than x360 but also has longer whiskers than mean that in x360 the data is more accurate/consistent\n",
        "wii has low buttum whisker and a long one in the top which means that the upper 25% has big inconsistent\n",
        "- ds has betther organized data with shorter whiskers in both ends\n",
        "skeweness is noted when the mean (green dot) is above or below the median line inside a boxplot\n",
        "- when the green dot above the line it means that we have positive skewness as noted in ps2 boxplot\n",
        "- outliers noted in pc as well in ps.\n",
        "- in ps the ouliers impacted heavily on the mean which is outside the box"
      ]
    },
    {
      "cell_type": "markdown",
      "metadata": {
        "id": "TUxkoHFHO87u"
      },
      "source": [
        "### •\tTake a look at how user and professional reviews affect sales for one popular platform (you choose). Build a scatter plot and calculate the correlation between reviews and sales. Draw conclusions."
      ]
    },
    {
      "cell_type": "code",
      "metadata": {
        "id": "0Ch7Dn4cPBb8",
        "colab": {
          "base_uri": "https://localhost:8080/",
          "height": 196
        },
        "outputId": "5e98b30c-28f0-406b-9674-4af8f4107205"
      },
      "source": [
        "# will have ps2 for this task:\n",
        "ps2_only = games.query('platform == \"ps2\"')[['name','critic_score','user_score','total_sales']]\n",
        "ps2_only.head()"
      ],
      "execution_count": 84,
      "outputs": [
        {
          "output_type": "execute_result",
          "data": {
            "text/html": [
              "<div>\n",
              "<style scoped>\n",
              "    .dataframe tbody tr th:only-of-type {\n",
              "        vertical-align: middle;\n",
              "    }\n",
              "\n",
              "    .dataframe tbody tr th {\n",
              "        vertical-align: top;\n",
              "    }\n",
              "\n",
              "    .dataframe thead th {\n",
              "        text-align: right;\n",
              "    }\n",
              "</style>\n",
              "<table border=\"1\" class=\"dataframe\">\n",
              "  <thead>\n",
              "    <tr style=\"text-align: right;\">\n",
              "      <th></th>\n",
              "      <th>name</th>\n",
              "      <th>critic_score</th>\n",
              "      <th>user_score</th>\n",
              "      <th>total_sales</th>\n",
              "    </tr>\n",
              "  </thead>\n",
              "  <tbody>\n",
              "    <tr>\n",
              "      <th>17</th>\n",
              "      <td>grand theft auto: san andreas</td>\n",
              "      <td>95.0</td>\n",
              "      <td>9.0</td>\n",
              "      <td>20.81</td>\n",
              "    </tr>\n",
              "    <tr>\n",
              "      <th>24</th>\n",
              "      <td>grand theft auto: vice city</td>\n",
              "      <td>95.0</td>\n",
              "      <td>8.7</td>\n",
              "      <td>16.15</td>\n",
              "    </tr>\n",
              "    <tr>\n",
              "      <th>28</th>\n",
              "      <td>gran turismo 3: a-spec</td>\n",
              "      <td>95.0</td>\n",
              "      <td>8.4</td>\n",
              "      <td>14.97</td>\n",
              "    </tr>\n",
              "    <tr>\n",
              "      <th>38</th>\n",
              "      <td>grand theft auto iii</td>\n",
              "      <td>97.0</td>\n",
              "      <td>8.5</td>\n",
              "      <td>13.10</td>\n",
              "    </tr>\n",
              "    <tr>\n",
              "      <th>48</th>\n",
              "      <td>gran turismo 4</td>\n",
              "      <td>89.0</td>\n",
              "      <td>8.5</td>\n",
              "      <td>11.65</td>\n",
              "    </tr>\n",
              "  </tbody>\n",
              "</table>\n",
              "</div>"
            ],
            "text/plain": [
              "                             name  critic_score  user_score  total_sales\n",
              "17  grand theft auto: san andreas          95.0         9.0        20.81\n",
              "24    grand theft auto: vice city          95.0         8.7        16.15\n",
              "28         gran turismo 3: a-spec          95.0         8.4        14.97\n",
              "38           grand theft auto iii          97.0         8.5        13.10\n",
              "48                 gran turismo 4          89.0         8.5        11.65"
            ]
          },
          "metadata": {
            "tags": []
          },
          "execution_count": 84
        }
      ]
    },
    {
      "cell_type": "code",
      "metadata": {
        "id": "EI94UoMyUHJv",
        "colab": {
          "base_uri": "https://localhost:8080/",
          "height": 550
        },
        "outputId": "1ddfdbab-5e59-4f31-b3ba-869a69978699"
      },
      "source": [
        "# scatter of critic score and total sales\n",
        "plt.figure(figsize=(19,10),facecolor='white')\n",
        "sns.scatterplot(x='critic_score',y='total_sales',data=ps2_only)"
      ],
      "execution_count": 85,
      "outputs": [
        {
          "output_type": "execute_result",
          "data": {
            "text/plain": [
              "<matplotlib.axes._subplots.AxesSubplot at 0x7f460e9f2b70>"
            ]
          },
          "metadata": {
            "tags": []
          },
          "execution_count": 85
        },
        {
          "output_type": "display_data",
          "data": {
            "image/png": "[encoded data removed]",
            "text/plain": [
              "<Figure size 1368x720 with 1 Axes>"
            ]
          },
          "metadata": {
            "tags": []
          }
        }
      ]
    },
    {
      "cell_type": "code",
      "metadata": {
        "id": "yyP66vunXjtl",
        "colab": {
          "base_uri": "https://localhost:8080/"
        },
        "outputId": "cdf2b383-0efa-4ad0-969c-7ad230134398"
      },
      "source": [
        "ps2_only['critic_score'].corr(ps2_only['total_sales'])"
      ],
      "execution_count": 86,
      "outputs": [
        {
          "output_type": "execute_result",
          "data": {
            "text/plain": [
              "0.3821885514390664"
            ]
          },
          "metadata": {
            "tags": []
          },
          "execution_count": 86
        }
      ]
    },
    {
      "cell_type": "markdown",
      "metadata": {
        "id": "sarHYHPhlGwy"
      },
      "source": [
        "in the scatter plot it is noticeable that as we go upper with the score scale the total sales may rise whereas in the correlation test we see a slight effect of 30% on each other\n"
      ]
    },
    {
      "cell_type": "code",
      "metadata": {
        "id": "phGwsoJcWQF9",
        "colab": {
          "base_uri": "https://localhost:8080/",
          "height": 551
        },
        "outputId": "0bb5d8ba-0b85-43ea-992d-d5a2d844b806"
      },
      "source": [
        "# scatter of user_score and total sales:\n",
        "plt.figure(figsize=(19,10),facecolor='white')\n",
        "sns.scatterplot(x='user_score',y='total_sales',data=ps2_only)"
      ],
      "execution_count": 87,
      "outputs": [
        {
          "output_type": "execute_result",
          "data": {
            "text/plain": [
              "<matplotlib.axes._subplots.AxesSubplot at 0x7f460e94ea90>"
            ]
          },
          "metadata": {
            "tags": []
          },
          "execution_count": 87
        },
        {
          "output_type": "display_data",
          "data": {
            "image/png": "[encoded data removed]",
            "text/plain": [
              "<Figure size 1368x720 with 1 Axes>"
            ]
          },
          "metadata": {
            "tags": []
          }
        }
      ]
    },
    {
      "cell_type": "code",
      "metadata": {
        "id": "AyNB-nVhkr9l",
        "colab": {
          "base_uri": "https://localhost:8080/"
        },
        "outputId": "1465c04a-5e46-49f9-e0c6-e5a89a3bf630"
      },
      "source": [
        "ps2_only['user_score'].corr(ps2_only['total_sales'])"
      ],
      "execution_count": 88,
      "outputs": [
        {
          "output_type": "execute_result",
          "data": {
            "text/plain": [
              "0.17882690642976587"
            ]
          },
          "metadata": {
            "tags": []
          },
          "execution_count": 88
        }
      ]
    },
    {
      "cell_type": "markdown",
      "metadata": {
        "id": "rkXVtWtJlXHj"
      },
      "source": [
        "very simmilar is here as well\n",
        "we to notice that the amount os sales in total is getting higher with the grade and pepoele tend to buy high reated games but in correletion test it appears that the impact is very low (about 18%)"
      ]
    },
    {
      "cell_type": "markdown",
      "metadata": {
        "id": "Z3sE_ziglqq_"
      },
      "source": [
        "### •\tCompare the sales of the same games on other platforms."
      ]
    },
    {
      "cell_type": "code",
      "metadata": {
        "id": "niFielW1lzPi",
        "colab": {
          "base_uri": "https://localhost:8080/"
        },
        "outputId": "ab273293-dedb-4fe3-e0b4-1ba39b9a47c6"
      },
      "source": [
        "# for this check will take the most common game:\n",
        "games['name'].value_counts().head(1)"
      ],
      "execution_count": 89,
      "outputs": [
        {
          "output_type": "execute_result",
          "data": {
            "text/plain": [
              "need for speed: most wanted    11\n",
              "Name: name, dtype: int64"
            ]
          },
          "metadata": {
            "tags": []
          },
          "execution_count": 89
        }
      ]
    },
    {
      "cell_type": "code",
      "metadata": {
        "id": "Dxj_dFxVnCOW"
      },
      "source": [
        "# will take the most common game accross platforms:\n",
        "nfs = games[games['name'] == 'need for speed: most wanted'][['name','platform','total_sales']].reset_index()\n",
        "nfs.drop(columns='index',inplace=True)"
      ],
      "execution_count": 90,
      "outputs": []
    },
    {
      "cell_type": "code",
      "metadata": {
        "id": "n8KQMn_zoBQE"
      },
      "source": [
        "nfs_gruouped = nfs.groupby('platform').sum().sort_values(by='total_sales').reset_index()"
      ],
      "execution_count": 91,
      "outputs": []
    },
    {
      "cell_type": "code",
      "metadata": {
        "id": "521sdM1kod7W",
        "colab": {
          "base_uri": "https://localhost:8080/",
          "height": 316
        },
        "outputId": "ea350225-adfa-4738-bc8e-633c55f2fcce"
      },
      "source": [
        "nfs_gruouped['as_%'] = nfs_gruouped['total_sales'] / nfs_gruouped['total_sales'].sum()\n",
        "nfs_gruouped"
      ],
      "execution_count": 92,
      "outputs": [
        {
          "output_type": "execute_result",
          "data": {
            "text/html": [
              "<div>\n",
              "<style scoped>\n",
              "    .dataframe tbody tr th:only-of-type {\n",
              "        vertical-align: middle;\n",
              "    }\n",
              "\n",
              "    .dataframe tbody tr th {\n",
              "        vertical-align: top;\n",
              "    }\n",
              "\n",
              "    .dataframe thead th {\n",
              "        text-align: right;\n",
              "    }\n",
              "</style>\n",
              "<table border=\"1\" class=\"dataframe\">\n",
              "  <thead>\n",
              "    <tr style=\"text-align: right;\">\n",
              "      <th></th>\n",
              "      <th>platform</th>\n",
              "      <th>total_sales</th>\n",
              "      <th>as_%</th>\n",
              "    </tr>\n",
              "  </thead>\n",
              "  <tbody>\n",
              "    <tr>\n",
              "      <th>0</th>\n",
              "      <td>gba</td>\n",
              "      <td>0.26</td>\n",
              "      <td>0.023723</td>\n",
              "    </tr>\n",
              "    <tr>\n",
              "      <th>1</th>\n",
              "      <td>ds</td>\n",
              "      <td>0.27</td>\n",
              "      <td>0.024635</td>\n",
              "    </tr>\n",
              "    <tr>\n",
              "      <th>2</th>\n",
              "      <td>wiiu</td>\n",
              "      <td>0.27</td>\n",
              "      <td>0.024635</td>\n",
              "    </tr>\n",
              "    <tr>\n",
              "      <th>3</th>\n",
              "      <td>pc</td>\n",
              "      <td>0.37</td>\n",
              "      <td>0.033759</td>\n",
              "    </tr>\n",
              "    <tr>\n",
              "      <th>4</th>\n",
              "      <td>gc</td>\n",
              "      <td>0.56</td>\n",
              "      <td>0.051095</td>\n",
              "    </tr>\n",
              "    <tr>\n",
              "      <th>5</th>\n",
              "      <td>psv</td>\n",
              "      <td>1.01</td>\n",
              "      <td>0.092153</td>\n",
              "    </tr>\n",
              "    <tr>\n",
              "      <th>6</th>\n",
              "      <td>xb</td>\n",
              "      <td>1.04</td>\n",
              "      <td>0.094891</td>\n",
              "    </tr>\n",
              "    <tr>\n",
              "      <th>7</th>\n",
              "      <td>x360</td>\n",
              "      <td>2.81</td>\n",
              "      <td>0.256387</td>\n",
              "    </tr>\n",
              "    <tr>\n",
              "      <th>8</th>\n",
              "      <td>ps2</td>\n",
              "      <td>4.37</td>\n",
              "      <td>0.398723</td>\n",
              "    </tr>\n",
              "  </tbody>\n",
              "</table>\n",
              "</div>"
            ],
            "text/plain": [
              "  platform  total_sales      as_%\n",
              "0      gba         0.26  0.023723\n",
              "1       ds         0.27  0.024635\n",
              "2     wiiu         0.27  0.024635\n",
              "3       pc         0.37  0.033759\n",
              "4       gc         0.56  0.051095\n",
              "5      psv         1.01  0.092153\n",
              "6       xb         1.04  0.094891\n",
              "7     x360         2.81  0.256387\n",
              "8      ps2         4.37  0.398723"
            ]
          },
          "metadata": {
            "tags": []
          },
          "execution_count": 92
        }
      ]
    },
    {
      "cell_type": "markdown",
      "metadata": {
        "id": "g6BsCXc9OXNy"
      },
      "source": [
        "the winning platfor of NFS is ps2 with almost 40% of total sales with this games\n",
        "the 2nd in line is x360 with about 25% of total sales"
      ]
    },
    {
      "cell_type": "markdown",
      "metadata": {
        "id": "P4bVtnnLTJBP"
      },
      "source": [
        "### •\tTake a look at the general distribution of games by genre. What can we say about the most profitable genres? Can you generalize about genres with high and low sales?"
      ]
    },
    {
      "cell_type": "code",
      "metadata": {
        "id": "oikKf2CfTPga",
        "colab": {
          "base_uri": "https://localhost:8080/"
        },
        "outputId": "df58d1b6-dbf0-436e-82dc-99384040efb6"
      },
      "source": [
        "# making new data by genre:\n",
        "games_by_genre = games.groupby('genre').sum()['total_sales'].sort_values()\n",
        "games_by_genre"
      ],
      "execution_count": 93,
      "outputs": [
        {
          "output_type": "execute_result",
          "data": {
            "text/plain": [
              "genre\n",
              "strategy         173.21\n",
              "adventure        233.21\n",
              "puzzle           240.36\n",
              "simulation       387.19\n",
              "fighting         446.52\n",
              "racing           722.73\n",
              "misc             785.73\n",
              "platform         812.91\n",
              "role-playing     921.92\n",
              "shooter         1046.61\n",
              "sports          1324.04\n",
              "action          1733.48\n",
              "Name: total_sales, dtype: float64"
            ]
          },
          "metadata": {
            "tags": []
          },
          "execution_count": 93
        }
      ]
    },
    {
      "cell_type": "code",
      "metadata": {
        "id": "o1-wZ5pyiSqR",
        "colab": {
          "base_uri": "https://localhost:8080/",
          "height": 567
        },
        "outputId": "c1f89a82-1f3f-4ca5-9945-6efc3cd2fee6"
      },
      "source": [
        "plt.figure(figsize=(16,9),facecolor='white')\n",
        "games_by_genre.plot(kind='bar',title='Sales by Genres',grid=True,color='indigo')\n",
        "plt.xticks(rotation='horizontal')\n",
        "plt.show()"
      ],
      "execution_count": 94,
      "outputs": [
        {
          "output_type": "display_data",
          "data": {
            "image/png": "[encoded data removed]",
            "text/plain": [
              "<Figure size 1152x648 with 1 Axes>"
            ]
          },
          "metadata": {
            "tags": []
          }
        }
      ]
    },
    {
      "cell_type": "markdown",
      "metadata": {
        "id": "mhdErZ5Ok-ir"
      },
      "source": [
        "We can generalize the genres by two maion categorize:\n",
        "1. quick responsive games\n",
        "2. slow responsive games\n",
        "The 1st include games like action, sports, shooting and e.g. this type of playing is more intense and has quick rounds of play for the plays.\n",
        "the 2nd type is with more longer session games like strategym puzzle and adventrues. this is more like a 'marthon' games that differ alot by they meaning from the first type"
      ]
    },
    {
      "cell_type": "markdown",
      "metadata": {
        "id": "xHN19MHrmuWc"
      },
      "source": [
        "# Step 4. Create a user profile for each region\n",
        "\n",
        "For each region (NA, EU, JP), dete"
      ]
    },
    {
      "cell_type": "code",
      "metadata": {
        "id": "S1HOVa7orHtB",
        "colab": {
          "base_uri": "https://localhost:8080/"
        },
        "outputId": "da2ff2ae-08a1-4290-9f16-6e9e6c231523"
      },
      "source": [
        "games.columns"
      ],
      "execution_count": 95,
      "outputs": [
        {
          "output_type": "execute_result",
          "data": {
            "text/plain": [
              "Index(['name', 'platform', 'year_of_release', 'genre', 'na_sales', 'eu_sales',\n",
              "       'jp_sales', 'other_sales', 'critic_score', 'user_score', 'rating',\n",
              "       'total_sales'],\n",
              "      dtype='object')"
            ]
          },
          "metadata": {
            "tags": []
          },
          "execution_count": 95
        }
      ]
    },
    {
      "cell_type": "markdown",
      "metadata": {
        "id": "Z_KG4ARQm-wL"
      },
      "source": [
        "## •\tThe top five platforms. Describe variations in their market shares from region to region.\n"
      ]
    },
    {
      "cell_type": "code",
      "metadata": {
        "id": "Q5aQG4qJuVRi"
      },
      "source": [
        "# making top 5 genres from each region by sales:\n",
        "platform_na = games.groupby('platform').sum()['na_sales'].sort_values(ascending=False)[0:5].reset_index()\n",
        "platform_eu = games.groupby('platform').sum()['eu_sales'].sort_values(ascending=False)[0:5].reset_index()\n",
        "platform_jp = games.groupby('platform').sum()['jp_sales'].sort_values(ascending=False)[0:5].reset_index()"
      ],
      "execution_count": 96,
      "outputs": []
    },
    {
      "cell_type": "code",
      "metadata": {
        "id": "NgzW3_pRv6Mm",
        "colab": {
          "base_uri": "https://localhost:8080/",
          "height": 286
        },
        "outputId": "03cdf47e-9d7e-41ca-af59-41120142df81"
      },
      "source": [
        "top_platform_sales = pd.concat([platform_eu,platform_jp,platform_na]).fillna(0).reset_index().drop(columns='index').groupby('platform').sum().reset_index()\n",
        "top_platform_sales"
      ],
      "execution_count": 97,
      "outputs": [
        {
          "output_type": "execute_result",
          "data": {
            "text/html": [
              "<div>\n",
              "<style scoped>\n",
              "    .dataframe tbody tr th:only-of-type {\n",
              "        vertical-align: middle;\n",
              "    }\n",
              "\n",
              "    .dataframe tbody tr th {\n",
              "        vertical-align: top;\n",
              "    }\n",
              "\n",
              "    .dataframe thead th {\n",
              "        text-align: right;\n",
              "    }\n",
              "</style>\n",
              "<table border=\"1\" class=\"dataframe\">\n",
              "  <thead>\n",
              "    <tr style=\"text-align: right;\">\n",
              "      <th></th>\n",
              "      <th>platform</th>\n",
              "      <th>eu_sales</th>\n",
              "      <th>jp_sales</th>\n",
              "      <th>na_sales</th>\n",
              "    </tr>\n",
              "  </thead>\n",
              "  <tbody>\n",
              "    <tr>\n",
              "      <th>0</th>\n",
              "      <td>3ds</td>\n",
              "      <td>0.00</td>\n",
              "      <td>100.64</td>\n",
              "      <td>0.00</td>\n",
              "    </tr>\n",
              "    <tr>\n",
              "      <th>1</th>\n",
              "      <td>ds</td>\n",
              "      <td>0.00</td>\n",
              "      <td>171.89</td>\n",
              "      <td>373.64</td>\n",
              "    </tr>\n",
              "    <tr>\n",
              "      <th>2</th>\n",
              "      <td>ps</td>\n",
              "      <td>211.05</td>\n",
              "      <td>139.62</td>\n",
              "      <td>0.00</td>\n",
              "    </tr>\n",
              "    <tr>\n",
              "      <th>3</th>\n",
              "      <td>ps2</td>\n",
              "      <td>336.90</td>\n",
              "      <td>135.13</td>\n",
              "      <td>580.15</td>\n",
              "    </tr>\n",
              "    <tr>\n",
              "      <th>4</th>\n",
              "      <td>ps3</td>\n",
              "      <td>324.77</td>\n",
              "      <td>0.00</td>\n",
              "      <td>387.20</td>\n",
              "    </tr>\n",
              "    <tr>\n",
              "      <th>5</th>\n",
              "      <td>snes</td>\n",
              "      <td>0.00</td>\n",
              "      <td>116.55</td>\n",
              "      <td>0.00</td>\n",
              "    </tr>\n",
              "    <tr>\n",
              "      <th>6</th>\n",
              "      <td>wii</td>\n",
              "      <td>260.39</td>\n",
              "      <td>0.00</td>\n",
              "      <td>490.62</td>\n",
              "    </tr>\n",
              "    <tr>\n",
              "      <th>7</th>\n",
              "      <td>x360</td>\n",
              "      <td>268.78</td>\n",
              "      <td>0.00</td>\n",
              "      <td>597.31</td>\n",
              "    </tr>\n",
              "  </tbody>\n",
              "</table>\n",
              "</div>"
            ],
            "text/plain": [
              "  platform  eu_sales  jp_sales  na_sales\n",
              "0      3ds      0.00    100.64      0.00\n",
              "1       ds      0.00    171.89    373.64\n",
              "2       ps    211.05    139.62      0.00\n",
              "3      ps2    336.90    135.13    580.15\n",
              "4      ps3    324.77      0.00    387.20\n",
              "5     snes      0.00    116.55      0.00\n",
              "6      wii    260.39      0.00    490.62\n",
              "7     x360    268.78      0.00    597.31"
            ]
          },
          "metadata": {
            "tags": []
          },
          "execution_count": 97
        }
      ]
    },
    {
      "cell_type": "code",
      "metadata": {
        "id": "hFXxH6o3Lhm7",
        "colab": {
          "base_uri": "https://localhost:8080/",
          "height": 542
        },
        "outputId": "85fbc65d-1448-4552-9364-1c55a92db2c5"
      },
      "source": [
        "# define variable\n",
        "plats = top_platform_sales.iloc[:,0]\n",
        "eu = top_platform_sales.iloc[:,1]\n",
        "jp = top_platform_sales.iloc[:,2]\n",
        "na = top_platform_sales.iloc[:,3]\n",
        "x = np.arange(len(top_platform_sales))\n",
        "\n",
        "# plotting stacked bars:\n",
        "plt.figure(figsize=(19,10),facecolor='white')\n",
        "graph_eu = plt.bar(x=x, height=eu,width=0.4,label='Europe')\n",
        "graph_jp = plt.bar(x=x, height=jp,width=0.4,bottom=eu,label='Japan')\n",
        "graph_na = plt.bar(x=x, height=na,width=0.4,bottom=jp+eu,label='North America')\n",
        "# labels + legend\n",
        "plt.xlabel('platform')\n",
        "plt.ylabel('sales')\n",
        "plt.xticks(x,plats)\n",
        "plt.title('Sales per region and platforms')\n",
        "plt.legend(loc='upper left',prop={'size':'15'})\n",
        "plt.show()\n"
      ],
      "execution_count": 98,
      "outputs": [
        {
          "output_type": "display_data",
          "data": {
            "image/png": "[encoded data removed]",
            "text/plain": [
              "<Figure size 1368x720 with 1 Axes>"
            ]
          },
          "metadata": {
            "tags": []
          }
        }
      ]
    },
    {
      "cell_type": "code",
      "metadata": {
        "id": "-hrCfpuHhJkE"
      },
      "source": [
        "pass"
      ],
      "execution_count": 99,
      "outputs": []
    },
    {
      "cell_type": "markdown",
      "metadata": {
        "id": "kMY41z-8d4xv"
      },
      "source": [
        "- visualization above shows the distribution of each top 5 platform in every region\n",
        "- platforms distribution varies\n",
        "- ps3,wii, x360 is not a top 5 platform in jp\n",
        "- snes, 3ds seems only succeded in jp whereas\n",
        "clearly the each platform should aim to specific market and give clients what they most want in terms of video games"
      ]
    },
    {
      "cell_type": "markdown",
      "metadata": {
        "id": "-abgFTZqq5UZ"
      },
      "source": [
        "## •\tThe top five genres. Explain the difference.\n"
      ]
    },
    {
      "cell_type": "code",
      "metadata": {
        "id": "XscP99WK9Nn-"
      },
      "source": [
        "# bulding for each region:\n",
        "genre_na = games.groupby('genre').sum()['na_sales'].sort_values(ascending=False)[0:5].reset_index()\n",
        "genre_eu = games.groupby('genre').sum()['eu_sales'].sort_values(ascending=False)[0:5].reset_index()\n",
        "genre_jp = games.groupby('genre').sum()['jp_sales'].sort_values(ascending=False)[0:5].reset_index()"
      ],
      "execution_count": 100,
      "outputs": []
    },
    {
      "cell_type": "code",
      "metadata": {
        "id": "ewQSj9ET_SNL"
      },
      "source": [
        "# concat all \n",
        "top_genre_sales = pd.concat([genre_eu,genre_jp,genre_na]).fillna(0).reset_index().drop(columns='index').groupby('genre').sum().reset_index()\n",
        "top_genre_sales = top_genre_sales.set_index('genre').T"
      ],
      "execution_count": 101,
      "outputs": []
    },
    {
      "cell_type": "code",
      "metadata": {
        "id": "tvF3_BXBAFbs",
        "colab": {
          "base_uri": "https://localhost:8080/",
          "height": 601
        },
        "outputId": "4b09c79c-817b-448c-c7cb-e636c3c5a171"
      },
      "source": [
        "top_genre_sales.plot(kind='bar',figsize=(18,10))"
      ],
      "execution_count": 102,
      "outputs": [
        {
          "output_type": "execute_result",
          "data": {
            "text/plain": [
              "<matplotlib.axes._subplots.AxesSubplot at 0x7f460e9d27b8>"
            ]
          },
          "metadata": {
            "tags": []
          },
          "execution_count": 102
        },
        {
          "output_type": "display_data",
          "data": {
            "image/png": "[encoded data removed]",
            "text/plain": [
              "<Figure size 1296x720 with 1 Axes>"
            ]
          },
          "metadata": {
            "tags": [],
            "needs_background": "light"
          }
        }
      ]
    },
    {
      "cell_type": "markdown",
      "metadata": {
        "id": "HtaA_S0QA9fm"
      },
      "source": [
        "- na is leading as top sales region\n",
        "- while sports and action genres are the leading genres in eu and na in jp it is the opposite and these genres are minor\n",
        "- leading genre in jp is role-playing while in na & eu this genre is nnot included in top 5 genres sales\n",
        "- look like to most similiarity is between eu and na while jp differes"
      ]
    },
    {
      "cell_type": "markdown",
      "metadata": {
        "id": "o8F8hfelq8Sl"
      },
      "source": [
        "## •\tDo ESRB ratings affect sales in individual regions?\n"
      ]
    },
    {
      "cell_type": "code",
      "metadata": {
        "id": "3LJg4NRfWgTg"
      },
      "source": [
        "# first nan rating values will be replaced with N/A:\n",
        "games['rating'] = games['rating'].fillna('na')"
      ],
      "execution_count": 103,
      "outputs": []
    },
    {
      "cell_type": "code",
      "metadata": {
        "id": "YNcg9oybXdsO",
        "colab": {
          "base_uri": "https://localhost:8080/"
        },
        "outputId": "6c2a7d81-bf50-417a-ca74-52c3966606de"
      },
      "source": [
        "games.info() # no nan values in this columns."
      ],
      "execution_count": 104,
      "outputs": [
        {
          "output_type": "stream",
          "text": [
            "<class 'pandas.core.frame.DataFrame'>\n",
            "Int64Index: 16497 entries, 0 to 16079\n",
            "Data columns (total 12 columns):\n",
            " #   Column           Non-Null Count  Dtype  \n",
            "---  ------           --------------  -----  \n",
            " 0   name             16497 non-null  object \n",
            " 1   platform         16497 non-null  object \n",
            " 2   year_of_release  16497 non-null  int64  \n",
            " 3   genre            16497 non-null  object \n",
            " 4   na_sales         16497 non-null  float64\n",
            " 5   eu_sales         16497 non-null  float64\n",
            " 6   jp_sales         16497 non-null  float64\n",
            " 7   other_sales      16497 non-null  float64\n",
            " 8   critic_score     8987 non-null   float64\n",
            " 9   user_score       8588 non-null   float64\n",
            " 10  rating           16497 non-null  object \n",
            " 11  total_sales      16497 non-null  float64\n",
            "dtypes: float64(7), int64(1), object(4)\n",
            "memory usage: 1.6+ MB\n"
          ],
          "name": "stdout"
        }
      ]
    },
    {
      "cell_type": "code",
      "metadata": {
        "id": "6Ol8JNZMX3T2"
      },
      "source": [
        "# pull needed info for each region seperatley:\n",
        "na_esrb = games[['na_sales','rating']].reset_index().drop(columns='index')\n",
        "eu_esrb = games[['eu_sales','rating']].reset_index().drop(columns='index')\n",
        "jp_esrb = games[['jp_sales','rating']].reset_index().drop(columns='index')"
      ],
      "execution_count": 105,
      "outputs": []
    },
    {
      "cell_type": "code",
      "metadata": {
        "id": "2ZllcUKcYTVK",
        "colab": {
          "base_uri": "https://localhost:8080/",
          "height": 226
        },
        "outputId": "20635913-af79-4a57-de63-db5d95c6270e"
      },
      "source": [
        "# concat\n",
        "esrb_sales = pd.concat([na_esrb,eu_esrb,jp_esrb]).fillna(0).reset_index().drop(columns='index').groupby('rating').sum().reset_index()\n",
        "esrb_sales"
      ],
      "execution_count": 106,
      "outputs": [
        {
          "output_type": "execute_result",
          "data": {
            "text/html": [
              "<div>\n",
              "<style scoped>\n",
              "    .dataframe tbody tr th:only-of-type {\n",
              "        vertical-align: middle;\n",
              "    }\n",
              "\n",
              "    .dataframe tbody tr th {\n",
              "        vertical-align: top;\n",
              "    }\n",
              "\n",
              "    .dataframe thead th {\n",
              "        text-align: right;\n",
              "    }\n",
              "</style>\n",
              "<table border=\"1\" class=\"dataframe\">\n",
              "  <thead>\n",
              "    <tr style=\"text-align: right;\">\n",
              "      <th></th>\n",
              "      <th>rating</th>\n",
              "      <th>na_sales</th>\n",
              "      <th>eu_sales</th>\n",
              "      <th>jp_sales</th>\n",
              "    </tr>\n",
              "  </thead>\n",
              "  <tbody>\n",
              "    <tr>\n",
              "      <th>0</th>\n",
              "      <td>e</td>\n",
              "      <td>1316.26</td>\n",
              "      <td>723.92</td>\n",
              "      <td>212.81</td>\n",
              "    </tr>\n",
              "    <tr>\n",
              "      <th>1</th>\n",
              "      <td>e10+</td>\n",
              "      <td>363.77</td>\n",
              "      <td>192.98</td>\n",
              "      <td>49.23</td>\n",
              "    </tr>\n",
              "    <tr>\n",
              "      <th>2</th>\n",
              "      <td>m</td>\n",
              "      <td>770.91</td>\n",
              "      <td>502.85</td>\n",
              "      <td>67.57</td>\n",
              "    </tr>\n",
              "    <tr>\n",
              "      <th>3</th>\n",
              "      <td>na</td>\n",
              "      <td>1115.14</td>\n",
              "      <td>541.28</td>\n",
              "      <td>796.56</td>\n",
              "    </tr>\n",
              "    <tr>\n",
              "      <th>4</th>\n",
              "      <td>rp</td>\n",
              "      <td>0.00</td>\n",
              "      <td>0.03</td>\n",
              "      <td>0.00</td>\n",
              "    </tr>\n",
              "    <tr>\n",
              "      <th>5</th>\n",
              "      <td>t</td>\n",
              "      <td>788.02</td>\n",
              "      <td>443.47</td>\n",
              "      <td>159.38</td>\n",
              "    </tr>\n",
              "  </tbody>\n",
              "</table>\n",
              "</div>"
            ],
            "text/plain": [
              "  rating  na_sales  eu_sales  jp_sales\n",
              "0      e   1316.26    723.92    212.81\n",
              "1   e10+    363.77    192.98     49.23\n",
              "2      m    770.91    502.85     67.57\n",
              "3     na   1115.14    541.28    796.56\n",
              "4     rp      0.00      0.03      0.00\n",
              "5      t    788.02    443.47    159.38"
            ]
          },
          "metadata": {
            "tags": []
          },
          "execution_count": 106
        }
      ]
    },
    {
      "cell_type": "code",
      "metadata": {
        "id": "pY_22g8vh0wV",
        "colab": {
          "base_uri": "https://localhost:8080/",
          "height": 542
        },
        "outputId": "7f9707bc-da7e-4f3a-b1a5-ff54eb0f537a"
      },
      "source": [
        "esrb_sales.sort_values(by='na_sales').plot(kind='bar',figsize=(19,10),title='Sales of every region by rating popularity')\n",
        "plt.xticks(np.arange(len(esrb_sales)),esrb_sales.iloc[:,0])\n",
        "plt.xticks(rotation='horizontal')\n",
        "plt.xlabel('Rating')\n",
        "plt.ylabel('Sales')\n",
        "plt.show()"
      ],
      "execution_count": 107,
      "outputs": [
        {
          "output_type": "display_data",
          "data": {
            "image/png": "[encoded data removed]",
            "text/plain": [
              "<Figure size 1368x720 with 1 Axes>"
            ]
          },
          "metadata": {
            "tags": [],
            "needs_background": "light"
          }
        }
      ]
    },
    {
      "cell_type": "code",
      "metadata": {
        "id": "K8Xm75TUrZ8Y"
      },
      "source": [
        "# although na has many sales we can not tell with data we have what is the relevant rating should be\n",
        "# we may need reach back to the team who made this data set in order to get the missing data\n",
        "# after a look into the sells bar chart with na we now drop na to find corr:\n",
        "esrb_sales = esrb_sales[esrb_sales['rating'] != 'na']"
      ],
      "execution_count": 108,
      "outputs": []
    },
    {
      "cell_type": "code",
      "metadata": {
        "id": "ieCbM_mTpDtu",
        "colab": {
          "base_uri": "https://localhost:8080/"
        },
        "outputId": "83af13c1-c688-4e59-ee14-2eb5ca34fc55"
      },
      "source": [
        "esrb_sales['rating_numeric'] = np.arange(len(esrb_sales))+1"
      ],
      "execution_count": 109,
      "outputs": [
        {
          "output_type": "stream",
          "text": [
            "/usr/local/lib/python3.6/dist-packages/ipykernel_launcher.py:1: SettingWithCopyWarning: \n",
            "A value is trying to be set on a copy of a slice from a DataFrame.\n",
            "Try using .loc[row_indexer,col_indexer] = value instead\n",
            "\n",
            "See the caveats in the documentation: https://pandas.pydata.org/pandas-docs/stable/user_guide/indexing.html#returning-a-view-versus-a-copy\n",
            "  \"\"\"Entry point for launching an IPython kernel.\n"
          ],
          "name": "stderr"
        }
      ]
    },
    {
      "cell_type": "code",
      "metadata": {
        "id": "QcGSkN0Apjig",
        "colab": {
          "base_uri": "https://localhost:8080/"
        },
        "outputId": "50b780b5-010a-4c73-c30c-69c5046e8354"
      },
      "source": [
        "# rating converted to numeric be like:\n",
        "print('numerical rating \\n\\n{}  '.format(esrb_sales[['rating','rating_numeric']].set_index('rating')))"
      ],
      "execution_count": 110,
      "outputs": [
        {
          "output_type": "stream",
          "text": [
            "numerical rating \n",
            "\n",
            "        rating_numeric\n",
            "rating                \n",
            "e                    1\n",
            "e10+                 2\n",
            "m                    3\n",
            "rp                   4\n",
            "t                    5  \n"
          ],
          "name": "stdout"
        }
      ]
    },
    {
      "cell_type": "code",
      "metadata": {
        "id": "8EZupcAlqlCV",
        "colab": {
          "base_uri": "https://localhost:8080/"
        },
        "outputId": "b93fcc85-2c52-42e6-a126-5d5cea5605b0"
      },
      "source": [
        "# now we can check corr:\n",
        "print('correlation within North American market between ESRB rating and sales: {}'.format(abs(esrb_sales['rating_numeric'].corr(esrb_sales['na_sales']))))\n",
        "print('correlation within Japan market between ESRB rating and sales: {}'.format(abs(esrb_sales['rating_numeric'].corr(esrb_sales['jp_sales']))))\n",
        "print('correlation within Europe market between ESRB rating and sales: {}'.format(abs(esrb_sales['rating_numeric'].corr(esrb_sales['eu_sales']))))"
      ],
      "execution_count": 111,
      "outputs": [
        {
          "output_type": "stream",
          "text": [
            "correlation within North American market between ESRB rating and sales: 0.4532259010313053\n",
            "correlation within Japan market between ESRB rating and sales: 0.28566104457812197\n",
            "correlation within Europe market between ESRB rating and sales: 0.4237486288330956\n"
          ],
          "name": "stdout"
        }
      ]
    },
    {
      "cell_type": "markdown",
      "metadata": {
        "id": "nD-YkohZo9Zu"
      },
      "source": [
        "- really hard to tell the impact of ESRB rating because of missing values at first since we might have missing very huge amount of relevant data with insightful information\n",
        "- based on what we received in the bar chart it seems that the bars was acting the different in each region which mean that in eu and na the distribution was almost the same and equal in some rating in jp the situation was different and rp rating was dominant in that area\n",
        "- another sighn that in the Japannease market the demand to kind of video games differs from eu&na\n",
        "- both na and eu the results remind each other about 40-40% \n",
        "- in our test the abs was applied beacause the figures of 1-5 are randon and could have been determend 5-1 was only made for this little experience"
      ]
    },
    {
      "cell_type": "markdown",
      "metadata": {
        "id": "H0F4Hq-ouVMH"
      },
      "source": [
        "# Step 5. Test the following hypotheses\n",
        "- assumption that the null hypothesis is correct\n",
        "- alpha = 0.01\n",
        "    \n",
        "  since alpha (significance level) is the probability of making a wrong decision I would prefer minimize the and pick low alpha (1%) and check the test with this probability"
      ]
    },
    {
      "cell_type": "code",
      "metadata": {
        "id": "lf3OkCV_utgT"
      },
      "source": [
        "alpha = 0.01"
      ],
      "execution_count": 112,
      "outputs": []
    },
    {
      "cell_type": "markdown",
      "metadata": {
        "id": "hlUeVm9juV8I"
      },
      "source": [
        "## Average user ratings of the Xbox One and PC platforms are the same.\n"
      ]
    },
    {
      "cell_type": "code",
      "metadata": {
        "id": "lXvCGg2C2DDF",
        "colab": {
          "base_uri": "https://localhost:8080/"
        },
        "outputId": "3f2bcdc0-6f10-42fb-9aae-3351fdea4e45"
      },
      "source": [
        "# data reminder\n",
        "games.platform.unique()"
      ],
      "execution_count": 113,
      "outputs": [
        {
          "output_type": "execute_result",
          "data": {
            "text/plain": [
              "array(['wii', 'nes', 'gb', 'ds', 'x360', 'ps3', 'ps2', 'snes', 'gba',\n",
              "       'ps4', '3ds', 'n64', 'ps', 'xb', 'pc', '2600', 'psp', 'xone',\n",
              "       'wiiu', 'gc', 'gen', 'dc', 'psv', 'sat', 'scd', 'ws', 'ng', 'tg16',\n",
              "       '3do', 'gg', 'pcfx'], dtype=object)"
            ]
          },
          "metadata": {
            "tags": []
          },
          "execution_count": 113
        }
      ]
    },
    {
      "cell_type": "markdown",
      "metadata": {
        "id": "wRHc8QHu2Jt9"
      },
      "source": [
        "creation of 2 relevant population:"
      ]
    },
    {
      "cell_type": "code",
      "metadata": {
        "id": "70v_5YVh2ZLX"
      },
      "source": [
        "# xbox one:\n",
        "xone = (games\n",
        " .query('platform == \"xone\"')\n",
        " .query('user_score.notnull()',engine='python')\n",
        " ['user_score']\n",
        "\n",
        " )"
      ],
      "execution_count": 114,
      "outputs": []
    },
    {
      "cell_type": "code",
      "metadata": {
        "id": "RFY0xdne4TbI"
      },
      "source": [
        "# pc:\n",
        "pc = (games\n",
        "    .query('platform == \"pc\"')\n",
        "    .query('user_score.notnull()',engine='python')\n",
        "    ['user_score']\n",
        ")"
      ],
      "execution_count": 115,
      "outputs": []
    },
    {
      "cell_type": "markdown",
      "metadata": {
        "id": "9ApIO5Wt5ALP"
      },
      "source": [
        "\n",
        "```\n",
        "H0: μ0 = μ1 \\ mean of rating of xone users is equal to mean of pc users\n",
        "\n",
        "H1: μ0 ≠ μ1 \\ mean of rating of xone users is not equal to mean of pc users\n",
        "```\n",
        "\n",
        "\n",
        "__if p-value is less than alpha we reject hypothesis__"
      ]
    },
    {
      "cell_type": "code",
      "metadata": {
        "id": "yd-LPJVW6Rgb",
        "colab": {
          "base_uri": "https://localhost:8080/"
        },
        "outputId": "1d134cb5-306d-4337-972f-2217e027c53a"
      },
      "source": [
        "result = st.ttest_ind(xone, pc)\n",
        "\n",
        "if result.pvalue < alpha:\n",
        "    print('Reject H0 hypothesis')\n",
        "else:\n",
        "    print('Can\\'t reject H0 hypothesis')\n",
        "\n",
        "print('p-value: {}'.format(result.pvalue))"
      ],
      "execution_count": 116,
      "outputs": [
        {
          "output_type": "stream",
          "text": [
            "Reject H0 hypothesis\n",
            "p-value: 2.135938985221249e-06\n"
          ],
          "name": "stdout"
        }
      ]
    },
    {
      "cell_type": "markdown",
      "metadata": {
        "id": "fspD8Niw7Tny"
      },
      "source": [
        "- - - - - - \n",
        "We reject null hypothesis mean that the mean of two platform user score are not the same\n",
        "\n",
        "means of the score differs between pc and xone which may indicate users for each platform evaluate games in different manners for each platform\n",
        "- - - - - "
      ]
    },
    {
      "cell_type": "markdown",
      "metadata": {
        "id": "2QlRWRk4ueNI"
      },
      "source": [
        "## Average user ratings for the Action and Sports genres are different."
      ]
    },
    {
      "cell_type": "code",
      "metadata": {
        "id": "Bh9B-8OJ734k"
      },
      "source": [
        "action =(\n",
        "    games\n",
        " .query('genre == \"action\"')\n",
        " .query('user_score.notnull()',engine='python')\n",
        " ['user_score']\n",
        ")"
      ],
      "execution_count": 117,
      "outputs": []
    },
    {
      "cell_type": "code",
      "metadata": {
        "id": "aOQk9EZDZLqv"
      },
      "source": [
        "sports = (\n",
        "    games\n",
        "    .query('genre == \"sports\"')\n",
        "    .query('user_score.notnull()',engine='python')\n",
        "    ['user_score']\n",
        ")"
      ],
      "execution_count": 118,
      "outputs": []
    },
    {
      "cell_type": "markdown",
      "metadata": {
        "id": "4Oop-17_Zi8j"
      },
      "source": [
        "\n",
        "```\n",
        "H0: μ0 = μ1 \\ users scores mean in action genres is equal to mean in sports genres\n",
        "\n",
        "H1: μ0 ≠ μ1 \\ users scores mean in action genres is not equal to mean in sports genres\n",
        "```\n",
        "\n",
        "\n",
        "__if p-value is less than alpha we reject hypothesis__"
      ]
    },
    {
      "cell_type": "code",
      "metadata": {
        "id": "VxpUirBraccS",
        "colab": {
          "base_uri": "https://localhost:8080/"
        },
        "outputId": "77c601c8-7cf0-4e8e-eb63-385440166556"
      },
      "source": [
        "result = st.ttest_ind(sports, action)\n",
        "\n",
        "if result.pvalue < alpha:\n",
        "    print('Reject H0 hypothesis')\n",
        "else:\n",
        "    print('Can\\'t reject H0 hypothesis')\n",
        "\n",
        "print('p-value: {}'.format(result.pvalue))"
      ],
      "execution_count": 119,
      "outputs": [
        {
          "output_type": "stream",
          "text": [
            "Can't reject H0 hypothesis\n",
            "p-value: 0.13472871321618837\n"
          ],
          "name": "stdout"
        }
      ]
    },
    {
      "cell_type": "markdown",
      "metadata": {
        "id": "hGNjIOwLaifD"
      },
      "source": [
        "Can't reject null hypothesis means that we can't reject the possibility of user scores mean between these 2 genres are different.\n",
        "this may indicate for possibilty that eventhough the genres are different the users may categorize the genres in the same possible way"
      ]
    },
    {
      "cell_type": "markdown",
      "metadata": {
        "id": "uXVguSJFvffX"
      },
      "source": [
        "# Step 6. Write a general conclusion\n",
        "\n",
        "\n",
        "---\n",
        "\n",
        "\n",
        "\n",
        "---\n",
        "\n"
      ]
    },
    {
      "cell_type": "markdown",
      "metadata": {
        "id": "UZ8ntpTSvhMz"
      },
      "source": [
        "\n",
        "\n",
        "- It is clearly seen that the markets may differ from each other on extreme way from the popularity of one console compared to another in other region\n",
        "- Jappanease market seems to have the main differences while the NA and EU do remind themselves in a few graphs we mentioned in the project\n",
        "- When testing top 5 platform total sales NA came in first place\n",
        "- When looking worldwide users prefer their games to be in quick session rather then having long session games\n",
        "- Eventhough many ratings where NaN values we still mangaged to check influence of user scores in t-tests receive quit large sammples from each group to each test when the gaussian theory approved to be existed in the minmum of n>30\n",
        "\n"
      ]
    }
  ]
}