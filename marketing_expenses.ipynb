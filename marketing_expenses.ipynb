{
  "nbformat": 4,
  "nbformat_minor": 0,
  "metadata": {
    "colab": {
      "name": "ba_projectorders-review2.ipynb",
      "provenance": [],
      "collapsed_sections": [],
      "toc_visible": true
    },
    "kernelspec": {
      "display_name": "Python 3",
      "language": "python",
      "name": "python3"
    },
    "language_info": {
      "codemirror_mode": {
        "name": "ipython",
        "version": 3
      },
      "file_extension": ".py",
      "mimetype": "text/x-python",
      "name": "python",
      "nbconvert_exporter": "python",
      "pygments_lexer": "ipython3",
      "version": "3.7.6"
    }
  },
  "cells": [
    {
      "cell_type": "markdown",
      "metadata": {
        "id": "QNNe-W0cn7eR"
      },
      "source": [
        "# <div class=\"alert alert-info\"> Afisha - OPTIMIZE MARKETING EXPENSES\n",
        "</div>"
      ]
    },
    {
      "cell_type": "markdown",
      "metadata": {
        "id": "0JeNbGBxn7eR"
      },
      "source": [
        "<div class=\"alert alert-info\"> The following analysis will be done to test the pros and cons from different point of views and when do we need to get the most right buissness decision.\n",
        "looking at the number as a whole is the most important part.\n",
        "As later in this analysis we will notice for example to differences between gross revenue to net revenue\n",
        "\n",
        "LTV provide us partial information and we should always take into our buissness decisions the costs as our main goal is that our product will be profitable - one of the main goals of a stakeholder as well\n",
        "</div>"
      ]
    },
    {
      "cell_type": "markdown",
      "metadata": {
        "id": "PBX5LvCXVRq7"
      },
      "source": [
        "# Step 1. Download the data and prepare it for analysis"
      ]
    },
    {
      "cell_type": "markdown",
      "metadata": {
        "id": "IEN3fFlGn7eT"
      },
      "source": [
        "<div class=\"alert alert-info\"> we will make a quick look into the data sets of each csv file seperatley \n",
        "\n",
        "main check is to avoid dupps if any arrives and overall look of the data. for each data set has its own title\n",
        "\n",
        "more logic tests will be in step 2 with the ref: \"# logic test\" in code cell\n",
        "</div>"
      ]
    },
    {
      "cell_type": "code",
      "metadata": {
        "id": "l0jWGigomUhd"
      },
      "source": [
        "import pandas as pd\n",
        "import numpy as np\n",
        "import matplotlib.pyplot as plt\n",
        "import matplotlib.dates\n",
        "from datetime import datetime\n",
        "import seaborn as sns\n",
        "%matplotlib inline"
      ],
      "execution_count": 1,
      "outputs": []
    },
    {
      "cell_type": "code",
      "metadata": {
        "id": "oy5XhzWNmjvf"
      },
      "source": [
        "# import datasets\n",
        "costs = pd.read_csv('/content/costs_us.csv', parse_dates=['dt'],dtype={'source_id':'category'})\n",
        "# costs = pd.read_csv('/datasets/costs_us.csv', parse_dates=['dt'],dtype={'source_id':'category'})\n",
        "orders = pd.read_csv('/content/orders_log_us.csv',parse_dates=['Buy Ts'])\n",
        "# orders = pd.read_csv('/datasets/orders_log_us.csv',parse_dates=['Buy Ts'])\n",
        "visits = pd.read_csv('/content/visits_log_us.csv',dtype={'Device':'category','Source Id':'category'},parse_dates=['End Ts','Start Ts'])\n",
        "# visits = pd.read_csv('/datasets/visits_log_us.csv',dtype={'Device':'category','Source Id':'category'},parse_dates=['End Ts','Start Ts'])"
      ],
      "execution_count": 2,
      "outputs": []
    },
    {
      "cell_type": "markdown",
      "metadata": {
        "id": "R6zPHYkunoYc"
      },
      "source": [
        "## costs"
      ]
    },
    {
      "cell_type": "code",
      "metadata": {
        "colab": {
          "base_uri": "https://localhost:8080/"
        },
        "id": "8Ij_CHwXGhnJ",
        "outputId": "a752db96-64e4-4124-ea40-55d014c08619"
      },
      "source": [
        "# start with costs\n",
        "costs.info()"
      ],
      "execution_count": 3,
      "outputs": [
        {
          "output_type": "stream",
          "text": [
            "<class 'pandas.core.frame.DataFrame'>\n",
            "RangeIndex: 2542 entries, 0 to 2541\n",
            "Data columns (total 3 columns):\n",
            " #   Column     Non-Null Count  Dtype         \n",
            "---  ------     --------------  -----         \n",
            " 0   source_id  2542 non-null   category      \n",
            " 1   dt         2542 non-null   datetime64[ns]\n",
            " 2   costs      2542 non-null   float64       \n",
            "dtypes: category(1), datetime64[ns](1), float64(1)\n",
            "memory usage: 42.7 KB\n"
          ],
          "name": "stdout"
        }
      ]
    },
    {
      "cell_type": "code",
      "metadata": {
        "id": "81J3CO1wvu4u"
      },
      "source": [
        "costs.drop_duplicates(inplace=True) # in case there is any dupps"
      ],
      "execution_count": 4,
      "outputs": []
    },
    {
      "cell_type": "code",
      "metadata": {
        "colab": {
          "base_uri": "https://localhost:8080/",
          "height": 286
        },
        "id": "pDATaQSOv3s_",
        "outputId": "58fecf1e-f92f-4fd9-ad69-152360ecd717"
      },
      "source": [
        "costs.describe()\n",
        "# max value 10 times higher than the 3rd quartile (75%)"
      ],
      "execution_count": 5,
      "outputs": [
        {
          "output_type": "execute_result",
          "data": {
            "text/html": [
              "<div>\n",
              "<style scoped>\n",
              "    .dataframe tbody tr th:only-of-type {\n",
              "        vertical-align: middle;\n",
              "    }\n",
              "\n",
              "    .dataframe tbody tr th {\n",
              "        vertical-align: top;\n",
              "    }\n",
              "\n",
              "    .dataframe thead th {\n",
              "        text-align: right;\n",
              "    }\n",
              "</style>\n",
              "<table border=\"1\" class=\"dataframe\">\n",
              "  <thead>\n",
              "    <tr style=\"text-align: right;\">\n",
              "      <th></th>\n",
              "      <th>costs</th>\n",
              "    </tr>\n",
              "  </thead>\n",
              "  <tbody>\n",
              "    <tr>\n",
              "      <th>count</th>\n",
              "      <td>2542.000000</td>\n",
              "    </tr>\n",
              "    <tr>\n",
              "      <th>mean</th>\n",
              "      <td>129.477427</td>\n",
              "    </tr>\n",
              "    <tr>\n",
              "      <th>std</th>\n",
              "      <td>156.296628</td>\n",
              "    </tr>\n",
              "    <tr>\n",
              "      <th>min</th>\n",
              "      <td>0.540000</td>\n",
              "    </tr>\n",
              "    <tr>\n",
              "      <th>25%</th>\n",
              "      <td>21.945000</td>\n",
              "    </tr>\n",
              "    <tr>\n",
              "      <th>50%</th>\n",
              "      <td>77.295000</td>\n",
              "    </tr>\n",
              "    <tr>\n",
              "      <th>75%</th>\n",
              "      <td>170.065000</td>\n",
              "    </tr>\n",
              "    <tr>\n",
              "      <th>max</th>\n",
              "      <td>1788.280000</td>\n",
              "    </tr>\n",
              "  </tbody>\n",
              "</table>\n",
              "</div>"
            ],
            "text/plain": [
              "             costs\n",
              "count  2542.000000\n",
              "mean    129.477427\n",
              "std     156.296628\n",
              "min       0.540000\n",
              "25%      21.945000\n",
              "50%      77.295000\n",
              "75%     170.065000\n",
              "max    1788.280000"
            ]
          },
          "metadata": {
            "tags": []
          },
          "execution_count": 5
        }
      ]
    },
    {
      "cell_type": "code",
      "metadata": {
        "colab": {
          "base_uri": "https://localhost:8080/"
        },
        "id": "q81MH8Vp59zx",
        "outputId": "5bf8410b-6658-4183-abc2-15452f8c42a2"
      },
      "source": [
        "costs['source_id'].sort_values().value_counts(normalize=True)\n",
        "# a look into distribution per source id"
      ],
      "execution_count": 6,
      "outputs": [
        {
          "output_type": "execute_result",
          "data": {
            "text/plain": [
              "5     0.143194\n",
              "9     0.142801\n",
              "4     0.142801\n",
              "3     0.142801\n",
              "2     0.142801\n",
              "10    0.142801\n",
              "1     0.142801\n",
              "Name: source_id, dtype: float64"
            ]
          },
          "metadata": {
            "tags": []
          },
          "execution_count": 6
        }
      ]
    },
    {
      "cell_type": "code",
      "metadata": {
        "colab": {
          "base_uri": "https://localhost:8080/",
          "height": 196
        },
        "id": "zqlnW54Tz0wq",
        "outputId": "7fc5b795-8a59-418e-ff6b-32f5a3d944f4"
      },
      "source": [
        "costs.head(5)"
      ],
      "execution_count": 7,
      "outputs": [
        {
          "output_type": "execute_result",
          "data": {
            "text/html": [
              "<div>\n",
              "<style scoped>\n",
              "    .dataframe tbody tr th:only-of-type {\n",
              "        vertical-align: middle;\n",
              "    }\n",
              "\n",
              "    .dataframe tbody tr th {\n",
              "        vertical-align: top;\n",
              "    }\n",
              "\n",
              "    .dataframe thead th {\n",
              "        text-align: right;\n",
              "    }\n",
              "</style>\n",
              "<table border=\"1\" class=\"dataframe\">\n",
              "  <thead>\n",
              "    <tr style=\"text-align: right;\">\n",
              "      <th></th>\n",
              "      <th>source_id</th>\n",
              "      <th>dt</th>\n",
              "      <th>costs</th>\n",
              "    </tr>\n",
              "  </thead>\n",
              "  <tbody>\n",
              "    <tr>\n",
              "      <th>0</th>\n",
              "      <td>1</td>\n",
              "      <td>2017-06-01</td>\n",
              "      <td>75.20</td>\n",
              "    </tr>\n",
              "    <tr>\n",
              "      <th>1</th>\n",
              "      <td>1</td>\n",
              "      <td>2017-06-02</td>\n",
              "      <td>62.25</td>\n",
              "    </tr>\n",
              "    <tr>\n",
              "      <th>2</th>\n",
              "      <td>1</td>\n",
              "      <td>2017-06-03</td>\n",
              "      <td>36.53</td>\n",
              "    </tr>\n",
              "    <tr>\n",
              "      <th>3</th>\n",
              "      <td>1</td>\n",
              "      <td>2017-06-04</td>\n",
              "      <td>55.00</td>\n",
              "    </tr>\n",
              "    <tr>\n",
              "      <th>4</th>\n",
              "      <td>1</td>\n",
              "      <td>2017-06-05</td>\n",
              "      <td>57.08</td>\n",
              "    </tr>\n",
              "  </tbody>\n",
              "</table>\n",
              "</div>"
            ],
            "text/plain": [
              "  source_id         dt  costs\n",
              "0         1 2017-06-01  75.20\n",
              "1         1 2017-06-02  62.25\n",
              "2         1 2017-06-03  36.53\n",
              "3         1 2017-06-04  55.00\n",
              "4         1 2017-06-05  57.08"
            ]
          },
          "metadata": {
            "tags": []
          },
          "execution_count": 7
        }
      ]
    },
    {
      "cell_type": "markdown",
      "metadata": {
        "id": "dsiQko2Yn1Be"
      },
      "source": [
        "## orders"
      ]
    },
    {
      "cell_type": "code",
      "metadata": {
        "colab": {
          "base_uri": "https://localhost:8080/"
        },
        "id": "W41e4e_wHDCf",
        "outputId": "59f24bf8-a726-4e95-a247-b6e678e47fd0"
      },
      "source": [
        "# orders data\n",
        "orders.info()\n",
        "# no nan values here"
      ],
      "execution_count": 8,
      "outputs": [
        {
          "output_type": "stream",
          "text": [
            "<class 'pandas.core.frame.DataFrame'>\n",
            "RangeIndex: 50415 entries, 0 to 50414\n",
            "Data columns (total 3 columns):\n",
            " #   Column   Non-Null Count  Dtype         \n",
            "---  ------   --------------  -----         \n",
            " 0   Buy Ts   50415 non-null  datetime64[ns]\n",
            " 1   Revenue  50415 non-null  float64       \n",
            " 2   Uid      50415 non-null  uint64        \n",
            "dtypes: datetime64[ns](1), float64(1), uint64(1)\n",
            "memory usage: 1.2 MB\n"
          ],
          "name": "stdout"
        }
      ]
    },
    {
      "cell_type": "code",
      "metadata": {
        "id": "x-7TP7to0BT6"
      },
      "source": [
        "# cols lower case\n",
        "orders.columns = [x.lower() for x in orders.columns]"
      ],
      "execution_count": 9,
      "outputs": []
    },
    {
      "cell_type": "code",
      "metadata": {
        "id": "SDvqulRU0vOU"
      },
      "source": [
        "# replace col with _ in cols name\n",
        "orders.columns = orders.columns.str.replace(\" \",\"_\") "
      ],
      "execution_count": 10,
      "outputs": []
    },
    {
      "cell_type": "code",
      "metadata": {
        "id": "BaxlXS-lwSus"
      },
      "source": [
        "orders.drop_duplicates(inplace=True)"
      ],
      "execution_count": 11,
      "outputs": []
    },
    {
      "cell_type": "code",
      "metadata": {
        "colab": {
          "base_uri": "https://localhost:8080/"
        },
        "id": "Bjpn1SzK1sZ3",
        "outputId": "4114c4c8-6164-4254-a3b3-a1e5d050fec3"
      },
      "source": [
        "orders.columns\n",
        "# look into cols names, keep consistancy between the tables"
      ],
      "execution_count": 12,
      "outputs": [
        {
          "output_type": "execute_result",
          "data": {
            "text/plain": [
              "Index(['buy_ts', 'revenue', 'uid'], dtype='object')"
            ]
          },
          "metadata": {
            "tags": []
          },
          "execution_count": 12
        }
      ]
    },
    {
      "cell_type": "code",
      "metadata": {
        "colab": {
          "base_uri": "https://localhost:8080/",
          "height": 196
        },
        "id": "fhnjGfYisxZx",
        "outputId": "f59f82d6-beeb-473f-a65e-75032ca50fe7"
      },
      "source": [
        "orders.head(5)\n",
        "# just a look:"
      ],
      "execution_count": 13,
      "outputs": [
        {
          "output_type": "execute_result",
          "data": {
            "text/html": [
              "<div>\n",
              "<style scoped>\n",
              "    .dataframe tbody tr th:only-of-type {\n",
              "        vertical-align: middle;\n",
              "    }\n",
              "\n",
              "    .dataframe tbody tr th {\n",
              "        vertical-align: top;\n",
              "    }\n",
              "\n",
              "    .dataframe thead th {\n",
              "        text-align: right;\n",
              "    }\n",
              "</style>\n",
              "<table border=\"1\" class=\"dataframe\">\n",
              "  <thead>\n",
              "    <tr style=\"text-align: right;\">\n",
              "      <th></th>\n",
              "      <th>buy_ts</th>\n",
              "      <th>revenue</th>\n",
              "      <th>uid</th>\n",
              "    </tr>\n",
              "  </thead>\n",
              "  <tbody>\n",
              "    <tr>\n",
              "      <th>0</th>\n",
              "      <td>2017-06-01 00:10:00</td>\n",
              "      <td>17.00</td>\n",
              "      <td>10329302124590727494</td>\n",
              "    </tr>\n",
              "    <tr>\n",
              "      <th>1</th>\n",
              "      <td>2017-06-01 00:25:00</td>\n",
              "      <td>0.55</td>\n",
              "      <td>11627257723692907447</td>\n",
              "    </tr>\n",
              "    <tr>\n",
              "      <th>2</th>\n",
              "      <td>2017-06-01 00:27:00</td>\n",
              "      <td>0.37</td>\n",
              "      <td>17903680561304213844</td>\n",
              "    </tr>\n",
              "    <tr>\n",
              "      <th>3</th>\n",
              "      <td>2017-06-01 00:29:00</td>\n",
              "      <td>0.55</td>\n",
              "      <td>16109239769442553005</td>\n",
              "    </tr>\n",
              "    <tr>\n",
              "      <th>4</th>\n",
              "      <td>2017-06-01 07:58:00</td>\n",
              "      <td>0.37</td>\n",
              "      <td>14200605875248379450</td>\n",
              "    </tr>\n",
              "  </tbody>\n",
              "</table>\n",
              "</div>"
            ],
            "text/plain": [
              "               buy_ts  revenue                   uid\n",
              "0 2017-06-01 00:10:00    17.00  10329302124590727494\n",
              "1 2017-06-01 00:25:00     0.55  11627257723692907447\n",
              "2 2017-06-01 00:27:00     0.37  17903680561304213844\n",
              "3 2017-06-01 00:29:00     0.55  16109239769442553005\n",
              "4 2017-06-01 07:58:00     0.37  14200605875248379450"
            ]
          },
          "metadata": {
            "tags": []
          },
          "execution_count": 13
        }
      ]
    },
    {
      "cell_type": "markdown",
      "metadata": {
        "id": "_SkWt8g1ogHU"
      },
      "source": [
        "## visits"
      ]
    },
    {
      "cell_type": "code",
      "metadata": {
        "colab": {
          "base_uri": "https://localhost:8080/"
        },
        "id": "U37PceHoIF3W",
        "outputId": "e13b3db0-09a1-41f6-db80-7e4d2e40d903"
      },
      "source": [
        "# visits\n",
        "visits.info()\n",
        "# we have on row with only device col so we will remove it "
      ],
      "execution_count": 14,
      "outputs": [
        {
          "output_type": "stream",
          "text": [
            "<class 'pandas.core.frame.DataFrame'>\n",
            "RangeIndex: 359400 entries, 0 to 359399\n",
            "Data columns (total 5 columns):\n",
            " #   Column     Non-Null Count   Dtype         \n",
            "---  ------     --------------   -----         \n",
            " 0   Device     359400 non-null  category      \n",
            " 1   End Ts     359400 non-null  datetime64[ns]\n",
            " 2   Source Id  359400 non-null  category      \n",
            " 3   Start Ts   359400 non-null  datetime64[ns]\n",
            " 4   Uid        359400 non-null  uint64        \n",
            "dtypes: category(2), datetime64[ns](2), uint64(1)\n",
            "memory usage: 8.9 MB\n"
          ],
          "name": "stdout"
        }
      ]
    },
    {
      "cell_type": "code",
      "metadata": {
        "id": "5UOyWJ0fzncF"
      },
      "source": [
        "visits.dropna(inplace=True) # drop row with na values"
      ],
      "execution_count": 15,
      "outputs": []
    },
    {
      "cell_type": "code",
      "metadata": {
        "id": "OU2igjsqkH9Y"
      },
      "source": [
        "visits['Uid'] = visits['Uid'].astype('uint64') # define uint64 type for Uid columns"
      ],
      "execution_count": 16,
      "outputs": []
    },
    {
      "cell_type": "code",
      "metadata": {
        "id": "QSjT7D2G11x1"
      },
      "source": [
        "visits.columns = [x.lower() for x in visits.columns] # same as before - lower case cols names"
      ],
      "execution_count": 17,
      "outputs": []
    },
    {
      "cell_type": "code",
      "metadata": {
        "id": "FUKhISa_2Brt"
      },
      "source": [
        "visits.columns = visits.columns.str.replace(\" \",\"_\") # replace \" \" with _"
      ],
      "execution_count": 18,
      "outputs": []
    },
    {
      "cell_type": "code",
      "metadata": {
        "id": "NXOXIAF22IMl"
      },
      "source": [
        "visits.drop_duplicates(inplace=True)"
      ],
      "execution_count": 19,
      "outputs": []
    },
    {
      "cell_type": "code",
      "metadata": {
        "colab": {
          "base_uri": "https://localhost:8080/"
        },
        "id": "63cmHeVQ2hIu",
        "outputId": "b43942bd-f926-494a-c619-dec70fe34f19"
      },
      "source": [
        "visits.columns"
      ],
      "execution_count": 20,
      "outputs": [
        {
          "output_type": "execute_result",
          "data": {
            "text/plain": [
              "Index(['device', 'end_ts', 'source_id', 'start_ts', 'uid'], dtype='object')"
            ]
          },
          "metadata": {
            "tags": []
          },
          "execution_count": 20
        }
      ]
    },
    {
      "cell_type": "code",
      "metadata": {
        "colab": {
          "base_uri": "https://localhost:8080/",
          "height": 107
        },
        "id": "BW0m_t1EmtsN",
        "outputId": "1d4a60d5-6f8e-4abe-9162-76e0545e1a37"
      },
      "source": [
        "# lets confirm logic data:\n",
        "visits[visits['end_ts'] < visits['start_ts']] \n",
        "# these 2 rows should be reverted to the responsible team so in the project I will delete these rows from data"
      ],
      "execution_count": 21,
      "outputs": [
        {
          "output_type": "execute_result",
          "data": {
            "text/html": [
              "<div>\n",
              "<style scoped>\n",
              "    .dataframe tbody tr th:only-of-type {\n",
              "        vertical-align: middle;\n",
              "    }\n",
              "\n",
              "    .dataframe tbody tr th {\n",
              "        vertical-align: top;\n",
              "    }\n",
              "\n",
              "    .dataframe thead th {\n",
              "        text-align: right;\n",
              "    }\n",
              "</style>\n",
              "<table border=\"1\" class=\"dataframe\">\n",
              "  <thead>\n",
              "    <tr style=\"text-align: right;\">\n",
              "      <th></th>\n",
              "      <th>device</th>\n",
              "      <th>end_ts</th>\n",
              "      <th>source_id</th>\n",
              "      <th>start_ts</th>\n",
              "      <th>uid</th>\n",
              "    </tr>\n",
              "  </thead>\n",
              "  <tbody>\n",
              "    <tr>\n",
              "      <th>4181</th>\n",
              "      <td>desktop</td>\n",
              "      <td>2018-03-25 03:18:00</td>\n",
              "      <td>3</td>\n",
              "      <td>2018-03-25 03:50:00</td>\n",
              "      <td>13092152539246794986</td>\n",
              "    </tr>\n",
              "    <tr>\n",
              "      <th>177972</th>\n",
              "      <td>desktop</td>\n",
              "      <td>2018-03-25 03:09:00</td>\n",
              "      <td>9</td>\n",
              "      <td>2018-03-25 03:55:00</td>\n",
              "      <td>4621202742905035453</td>\n",
              "    </tr>\n",
              "  </tbody>\n",
              "</table>\n",
              "</div>"
            ],
            "text/plain": [
              "         device              end_ts  ...            start_ts                   uid\n",
              "4181    desktop 2018-03-25 03:18:00  ... 2018-03-25 03:50:00  13092152539246794986\n",
              "177972  desktop 2018-03-25 03:09:00  ... 2018-03-25 03:55:00   4621202742905035453\n",
              "\n",
              "[2 rows x 5 columns]"
            ]
          },
          "metadata": {
            "tags": []
          },
          "execution_count": 21
        }
      ]
    },
    {
      "cell_type": "code",
      "metadata": {
        "id": "RIxi8Altnqme"
      },
      "source": [
        "visits = visits[visits['end_ts'] >= visits['start_ts']] "
      ],
      "execution_count": 22,
      "outputs": []
    },
    {
      "cell_type": "code",
      "metadata": {
        "colab": {
          "base_uri": "https://localhost:8080/"
        },
        "id": "usja6GzXnzui",
        "outputId": "264e7d48-b329-4af9-eb63-e011eba8a975"
      },
      "source": [
        "visits.shape[0]\n",
        "# ok"
      ],
      "execution_count": 23,
      "outputs": [
        {
          "output_type": "execute_result",
          "data": {
            "text/plain": [
              "359398"
            ]
          },
          "metadata": {
            "tags": []
          },
          "execution_count": 23
        }
      ]
    },
    {
      "cell_type": "code",
      "metadata": {
        "colab": {
          "base_uri": "https://localhost:8080/",
          "height": 313
        },
        "id": "5RnrwGTD2jbe",
        "outputId": "b7729693-c976-4815-c85c-a47866b89090"
      },
      "source": [
        "visits.describe(include=['datetime64[ns]','category']) # looks ok"
      ],
      "execution_count": 24,
      "outputs": [
        {
          "output_type": "stream",
          "text": [
            "/usr/local/lib/python3.6/dist-packages/ipykernel_launcher.py:1: FutureWarning: Treating datetime data as categorical rather than numeric in `.describe` is deprecated and will be removed in a future version of pandas. Specify `datetime_is_numeric=True` to silence this warning and adopt the future behavior now.\n",
            "  \"\"\"Entry point for launching an IPython kernel.\n",
            "/usr/local/lib/python3.6/dist-packages/ipykernel_launcher.py:1: FutureWarning: Treating datetime data as categorical rather than numeric in `.describe` is deprecated and will be removed in a future version of pandas. Specify `datetime_is_numeric=True` to silence this warning and adopt the future behavior now.\n",
            "  \"\"\"Entry point for launching an IPython kernel.\n"
          ],
          "name": "stderr"
        },
        {
          "output_type": "execute_result",
          "data": {
            "text/html": [
              "<div>\n",
              "<style scoped>\n",
              "    .dataframe tbody tr th:only-of-type {\n",
              "        vertical-align: middle;\n",
              "    }\n",
              "\n",
              "    .dataframe tbody tr th {\n",
              "        vertical-align: top;\n",
              "    }\n",
              "\n",
              "    .dataframe thead th {\n",
              "        text-align: right;\n",
              "    }\n",
              "</style>\n",
              "<table border=\"1\" class=\"dataframe\">\n",
              "  <thead>\n",
              "    <tr style=\"text-align: right;\">\n",
              "      <th></th>\n",
              "      <th>device</th>\n",
              "      <th>end_ts</th>\n",
              "      <th>source_id</th>\n",
              "      <th>start_ts</th>\n",
              "    </tr>\n",
              "  </thead>\n",
              "  <tbody>\n",
              "    <tr>\n",
              "      <th>count</th>\n",
              "      <td>359398</td>\n",
              "      <td>359398</td>\n",
              "      <td>359398</td>\n",
              "      <td>359398</td>\n",
              "    </tr>\n",
              "    <tr>\n",
              "      <th>unique</th>\n",
              "      <td>2</td>\n",
              "      <td>224759</td>\n",
              "      <td>9</td>\n",
              "      <td>224301</td>\n",
              "    </tr>\n",
              "    <tr>\n",
              "      <th>top</th>\n",
              "      <td>desktop</td>\n",
              "      <td>2017-11-24 16:51:00</td>\n",
              "      <td>4</td>\n",
              "      <td>2017-11-24 16:06:00</td>\n",
              "    </tr>\n",
              "    <tr>\n",
              "      <th>freq</th>\n",
              "      <td>262565</td>\n",
              "      <td>23</td>\n",
              "      <td>101794</td>\n",
              "      <td>19</td>\n",
              "    </tr>\n",
              "    <tr>\n",
              "      <th>first</th>\n",
              "      <td>NaN</td>\n",
              "      <td>2017-06-01 00:02:00</td>\n",
              "      <td>NaN</td>\n",
              "      <td>2017-06-01 00:01:00</td>\n",
              "    </tr>\n",
              "    <tr>\n",
              "      <th>last</th>\n",
              "      <td>NaN</td>\n",
              "      <td>2018-06-01 01:26:00</td>\n",
              "      <td>NaN</td>\n",
              "      <td>2018-05-31 23:59:00</td>\n",
              "    </tr>\n",
              "  </tbody>\n",
              "</table>\n",
              "</div>"
            ],
            "text/plain": [
              "         device               end_ts source_id             start_ts\n",
              "count    359398               359398    359398               359398\n",
              "unique        2               224759         9               224301\n",
              "top     desktop  2017-11-24 16:51:00         4  2017-11-24 16:06:00\n",
              "freq     262565                   23    101794                   19\n",
              "first       NaN  2017-06-01 00:02:00       NaN  2017-06-01 00:01:00\n",
              "last        NaN  2018-06-01 01:26:00       NaN  2018-05-31 23:59:00"
            ]
          },
          "metadata": {
            "tags": []
          },
          "execution_count": 24
        }
      ]
    },
    {
      "cell_type": "code",
      "metadata": {
        "colab": {
          "base_uri": "https://localhost:8080/",
          "height": 196
        },
        "id": "Wu59t_f2srRb",
        "outputId": "a9459a19-4927-4ed4-9ec1-779e994fd0ef"
      },
      "source": [
        "visits.head(5)"
      ],
      "execution_count": 25,
      "outputs": [
        {
          "output_type": "execute_result",
          "data": {
            "text/html": [
              "<div>\n",
              "<style scoped>\n",
              "    .dataframe tbody tr th:only-of-type {\n",
              "        vertical-align: middle;\n",
              "    }\n",
              "\n",
              "    .dataframe tbody tr th {\n",
              "        vertical-align: top;\n",
              "    }\n",
              "\n",
              "    .dataframe thead th {\n",
              "        text-align: right;\n",
              "    }\n",
              "</style>\n",
              "<table border=\"1\" class=\"dataframe\">\n",
              "  <thead>\n",
              "    <tr style=\"text-align: right;\">\n",
              "      <th></th>\n",
              "      <th>device</th>\n",
              "      <th>end_ts</th>\n",
              "      <th>source_id</th>\n",
              "      <th>start_ts</th>\n",
              "      <th>uid</th>\n",
              "    </tr>\n",
              "  </thead>\n",
              "  <tbody>\n",
              "    <tr>\n",
              "      <th>0</th>\n",
              "      <td>touch</td>\n",
              "      <td>2017-12-20 17:38:00</td>\n",
              "      <td>4</td>\n",
              "      <td>2017-12-20 17:20:00</td>\n",
              "      <td>16879256277535980062</td>\n",
              "    </tr>\n",
              "    <tr>\n",
              "      <th>1</th>\n",
              "      <td>desktop</td>\n",
              "      <td>2018-02-19 17:21:00</td>\n",
              "      <td>2</td>\n",
              "      <td>2018-02-19 16:53:00</td>\n",
              "      <td>104060357244891740</td>\n",
              "    </tr>\n",
              "    <tr>\n",
              "      <th>2</th>\n",
              "      <td>touch</td>\n",
              "      <td>2017-07-01 01:54:00</td>\n",
              "      <td>5</td>\n",
              "      <td>2017-07-01 01:54:00</td>\n",
              "      <td>7459035603376831527</td>\n",
              "    </tr>\n",
              "    <tr>\n",
              "      <th>3</th>\n",
              "      <td>desktop</td>\n",
              "      <td>2018-05-20 11:23:00</td>\n",
              "      <td>9</td>\n",
              "      <td>2018-05-20 10:59:00</td>\n",
              "      <td>16174680259334210214</td>\n",
              "    </tr>\n",
              "    <tr>\n",
              "      <th>4</th>\n",
              "      <td>desktop</td>\n",
              "      <td>2017-12-27 14:06:00</td>\n",
              "      <td>3</td>\n",
              "      <td>2017-12-27 14:06:00</td>\n",
              "      <td>9969694820036681168</td>\n",
              "    </tr>\n",
              "  </tbody>\n",
              "</table>\n",
              "</div>"
            ],
            "text/plain": [
              "    device              end_ts  ...            start_ts                   uid\n",
              "0    touch 2017-12-20 17:38:00  ... 2017-12-20 17:20:00  16879256277535980062\n",
              "1  desktop 2018-02-19 17:21:00  ... 2018-02-19 16:53:00    104060357244891740\n",
              "2    touch 2017-07-01 01:54:00  ... 2017-07-01 01:54:00   7459035603376831527\n",
              "3  desktop 2018-05-20 11:23:00  ... 2018-05-20 10:59:00  16174680259334210214\n",
              "4  desktop 2017-12-27 14:06:00  ... 2017-12-27 14:06:00   9969694820036681168\n",
              "\n",
              "[5 rows x 5 columns]"
            ]
          },
          "metadata": {
            "tags": []
          },
          "execution_count": 25
        }
      ]
    },
    {
      "cell_type": "markdown",
      "metadata": {
        "id": "D9Yy2lIRZaAm"
      },
      "source": [
        "# Step 2. Make reports and calculate metrics"
      ]
    },
    {
      "cell_type": "markdown",
      "metadata": {
        "id": "6YPHumpVpjDc"
      },
      "source": [
        "## Product"
      ]
    },
    {
      "cell_type": "code",
      "metadata": {
        "colab": {
          "base_uri": "https://localhost:8080/"
        },
        "id": "tB2IAe8Nt0r5",
        "outputId": "10fdab83-b24c-492f-bbbe-e499eff1dc87"
      },
      "source": [
        "# lets have a look at the time span of visits table:\n",
        "print('start: {}'.format(visits['start_ts'].min()))\n",
        "print('end date: {}'.format(visits['start_ts'].max()))"
      ],
      "execution_count": 26,
      "outputs": [
        {
          "output_type": "stream",
          "text": [
            "start: 2017-06-01 00:01:00\n",
            "end date: 2018-05-31 23:59:00\n"
          ],
          "name": "stdout"
        }
      ]
    },
    {
      "cell_type": "code",
      "metadata": {
        "colab": {
          "base_uri": "https://localhost:8080/",
          "height": 137
        },
        "id": "FR4zEtKtp5Fa",
        "outputId": "ddc644e3-c17a-463e-939d-35f07bc2028a"
      },
      "source": [
        "# now add new columns segregating the periods of time in each col and next use to groupby next:\n",
        "visits['session_month'] = visits['start_ts'].astype('datetime64[M]')\n",
        "visits['session_week'] = visits['start_ts'].astype('datetime64[W]')\n",
        "visits['session_date'] = visits['start_ts'].dt.date.astype('datetime64[ns]')\n",
        "visits.head(3)"
      ],
      "execution_count": 27,
      "outputs": [
        {
          "output_type": "execute_result",
          "data": {
            "text/html": [
              "<div>\n",
              "<style scoped>\n",
              "    .dataframe tbody tr th:only-of-type {\n",
              "        vertical-align: middle;\n",
              "    }\n",
              "\n",
              "    .dataframe tbody tr th {\n",
              "        vertical-align: top;\n",
              "    }\n",
              "\n",
              "    .dataframe thead th {\n",
              "        text-align: right;\n",
              "    }\n",
              "</style>\n",
              "<table border=\"1\" class=\"dataframe\">\n",
              "  <thead>\n",
              "    <tr style=\"text-align: right;\">\n",
              "      <th></th>\n",
              "      <th>device</th>\n",
              "      <th>end_ts</th>\n",
              "      <th>source_id</th>\n",
              "      <th>start_ts</th>\n",
              "      <th>uid</th>\n",
              "      <th>session_month</th>\n",
              "      <th>session_week</th>\n",
              "      <th>session_date</th>\n",
              "    </tr>\n",
              "  </thead>\n",
              "  <tbody>\n",
              "    <tr>\n",
              "      <th>0</th>\n",
              "      <td>touch</td>\n",
              "      <td>2017-12-20 17:38:00</td>\n",
              "      <td>4</td>\n",
              "      <td>2017-12-20 17:20:00</td>\n",
              "      <td>16879256277535980062</td>\n",
              "      <td>2017-12-01</td>\n",
              "      <td>2017-12-14</td>\n",
              "      <td>2017-12-20</td>\n",
              "    </tr>\n",
              "    <tr>\n",
              "      <th>1</th>\n",
              "      <td>desktop</td>\n",
              "      <td>2018-02-19 17:21:00</td>\n",
              "      <td>2</td>\n",
              "      <td>2018-02-19 16:53:00</td>\n",
              "      <td>104060357244891740</td>\n",
              "      <td>2018-02-01</td>\n",
              "      <td>2018-02-15</td>\n",
              "      <td>2018-02-19</td>\n",
              "    </tr>\n",
              "    <tr>\n",
              "      <th>2</th>\n",
              "      <td>touch</td>\n",
              "      <td>2017-07-01 01:54:00</td>\n",
              "      <td>5</td>\n",
              "      <td>2017-07-01 01:54:00</td>\n",
              "      <td>7459035603376831527</td>\n",
              "      <td>2017-07-01</td>\n",
              "      <td>2017-06-29</td>\n",
              "      <td>2017-07-01</td>\n",
              "    </tr>\n",
              "  </tbody>\n",
              "</table>\n",
              "</div>"
            ],
            "text/plain": [
              "    device              end_ts  ... session_week session_date\n",
              "0    touch 2017-12-20 17:38:00  ...   2017-12-14   2017-12-20\n",
              "1  desktop 2018-02-19 17:21:00  ...   2018-02-15   2018-02-19\n",
              "2    touch 2017-07-01 01:54:00  ...   2017-06-29   2017-07-01\n",
              "\n",
              "[3 rows x 8 columns]"
            ]
          },
          "metadata": {
            "tags": []
          },
          "execution_count": 27
        }
      ]
    },
    {
      "cell_type": "markdown",
      "metadata": {
        "id": "LVQPFd_wpnMd"
      },
      "source": [
        "### *o*\tHow many people use it every day, week, and month?\n"
      ]
    },
    {
      "cell_type": "markdown",
      "metadata": {
        "id": "7OjFtcW_azq9"
      },
      "source": [
        "#### dau"
      ]
    },
    {
      "cell_type": "code",
      "metadata": {
        "colab": {
          "base_uri": "https://localhost:8080/",
          "height": 196
        },
        "id": "xMI7H5qIqSmp",
        "outputId": "8118f4c7-4a87-45a0-915b-35195e80976d"
      },
      "source": [
        "# daily, weekly and monthly unique users:\n",
        "dau = visits.groupby('session_date').agg({'uid':'nunique'}).reset_index()[['session_date','uid']]\n",
        "dau.columns = ['session_date','unique_users']\n",
        "dau.head(5)"
      ],
      "execution_count": 28,
      "outputs": [
        {
          "output_type": "execute_result",
          "data": {
            "text/html": [
              "<div>\n",
              "<style scoped>\n",
              "    .dataframe tbody tr th:only-of-type {\n",
              "        vertical-align: middle;\n",
              "    }\n",
              "\n",
              "    .dataframe tbody tr th {\n",
              "        vertical-align: top;\n",
              "    }\n",
              "\n",
              "    .dataframe thead th {\n",
              "        text-align: right;\n",
              "    }\n",
              "</style>\n",
              "<table border=\"1\" class=\"dataframe\">\n",
              "  <thead>\n",
              "    <tr style=\"text-align: right;\">\n",
              "      <th></th>\n",
              "      <th>session_date</th>\n",
              "      <th>unique_users</th>\n",
              "    </tr>\n",
              "  </thead>\n",
              "  <tbody>\n",
              "    <tr>\n",
              "      <th>0</th>\n",
              "      <td>2017-06-01</td>\n",
              "      <td>605</td>\n",
              "    </tr>\n",
              "    <tr>\n",
              "      <th>1</th>\n",
              "      <td>2017-06-02</td>\n",
              "      <td>608</td>\n",
              "    </tr>\n",
              "    <tr>\n",
              "      <th>2</th>\n",
              "      <td>2017-06-03</td>\n",
              "      <td>445</td>\n",
              "    </tr>\n",
              "    <tr>\n",
              "      <th>3</th>\n",
              "      <td>2017-06-04</td>\n",
              "      <td>476</td>\n",
              "    </tr>\n",
              "    <tr>\n",
              "      <th>4</th>\n",
              "      <td>2017-06-05</td>\n",
              "      <td>820</td>\n",
              "    </tr>\n",
              "  </tbody>\n",
              "</table>\n",
              "</div>"
            ],
            "text/plain": [
              "  session_date  unique_users\n",
              "0   2017-06-01           605\n",
              "1   2017-06-02           608\n",
              "2   2017-06-03           445\n",
              "3   2017-06-04           476\n",
              "4   2017-06-05           820"
            ]
          },
          "metadata": {
            "tags": []
          },
          "execution_count": 28
        }
      ]
    },
    {
      "cell_type": "code",
      "metadata": {
        "colab": {
          "base_uri": "https://localhost:8080/",
          "height": 475
        },
        "id": "zOwgn1VBUJUM",
        "outputId": "282e5dac-b90b-4fa9-8136-cbe2d7e7e7ae"
      },
      "source": [
        "plt.figure(figsize=(19,9),facecolor='white')\n",
        "plt.plot(dau.session_date,dau.unique_users)\n",
        "plt.title('Daily Active Users - DAU',fontdict={'fontsize':20})\n",
        "plt.xlabel('Date')\n",
        "plt.ylabel('Unique users')\n",
        "plt.gcf().autofmt_xdate()"
      ],
      "execution_count": 29,
      "outputs": [
        {
          "output_type": "display_data",
          "data": {
            "image/png": "[encoded data removed]",
            "text/plain": [
              "<Figure size 1368x648 with 1 Axes>"
            ]
          },
          "metadata": {
            "tags": []
          }
        }
      ]
    },
    {
      "cell_type": "code",
      "metadata": {
        "colab": {
          "base_uri": "https://localhost:8080/",
          "height": 107
        },
        "id": "iP036alsZc1D",
        "outputId": "f455df16-976c-4c6e-ba45-b5e9a12f56d6"
      },
      "source": [
        "# looking at 2 big jumps on the grapgh:\n",
        "dau.nlargest(2,['unique_users'])"
      ],
      "execution_count": 30,
      "outputs": [
        {
          "output_type": "execute_result",
          "data": {
            "text/html": [
              "<div>\n",
              "<style scoped>\n",
              "    .dataframe tbody tr th:only-of-type {\n",
              "        vertical-align: middle;\n",
              "    }\n",
              "\n",
              "    .dataframe tbody tr th {\n",
              "        vertical-align: top;\n",
              "    }\n",
              "\n",
              "    .dataframe thead th {\n",
              "        text-align: right;\n",
              "    }\n",
              "</style>\n",
              "<table border=\"1\" class=\"dataframe\">\n",
              "  <thead>\n",
              "    <tr style=\"text-align: right;\">\n",
              "      <th></th>\n",
              "      <th>session_date</th>\n",
              "      <th>unique_users</th>\n",
              "    </tr>\n",
              "  </thead>\n",
              "  <tbody>\n",
              "    <tr>\n",
              "      <th>176</th>\n",
              "      <td>2017-11-24</td>\n",
              "      <td>3319</td>\n",
              "    </tr>\n",
              "    <tr>\n",
              "      <th>363</th>\n",
              "      <td>2018-05-31</td>\n",
              "      <td>1997</td>\n",
              "    </tr>\n",
              "  </tbody>\n",
              "</table>\n",
              "</div>"
            ],
            "text/plain": [
              "    session_date  unique_users\n",
              "176   2017-11-24          3319\n",
              "363   2018-05-31          1997"
            ]
          },
          "metadata": {
            "tags": []
          },
          "execution_count": 30
        }
      ]
    },
    {
      "cell_type": "code",
      "metadata": {
        "colab": {
          "base_uri": "https://localhost:8080/",
          "height": 77
        },
        "id": "UiXHIaSvaIsv",
        "outputId": "70dfbbe8-59fd-41fc-937b-c6c2ee20bb0d"
      },
      "source": [
        "# looking @ lowest point in the graph:\n",
        "dau.nsmallest(1,['unique_users'])"
      ],
      "execution_count": 31,
      "outputs": [
        {
          "output_type": "execute_result",
          "data": {
            "text/html": [
              "<div>\n",
              "<style scoped>\n",
              "    .dataframe tbody tr th:only-of-type {\n",
              "        vertical-align: middle;\n",
              "    }\n",
              "\n",
              "    .dataframe tbody tr th {\n",
              "        vertical-align: top;\n",
              "    }\n",
              "\n",
              "    .dataframe thead th {\n",
              "        text-align: right;\n",
              "    }\n",
              "</style>\n",
              "<table border=\"1\" class=\"dataframe\">\n",
              "  <thead>\n",
              "    <tr style=\"text-align: right;\">\n",
              "      <th></th>\n",
              "      <th>session_date</th>\n",
              "      <th>unique_users</th>\n",
              "    </tr>\n",
              "  </thead>\n",
              "  <tbody>\n",
              "    <tr>\n",
              "      <th>303</th>\n",
              "      <td>2018-03-31</td>\n",
              "      <td>1</td>\n",
              "    </tr>\n",
              "  </tbody>\n",
              "</table>\n",
              "</div>"
            ],
            "text/plain": [
              "    session_date  unique_users\n",
              "303   2018-03-31             1"
            ]
          },
          "metadata": {
            "tags": []
          },
          "execution_count": 31
        }
      ]
    },
    {
      "cell_type": "markdown",
      "metadata": {
        "id": "SH1CJ1OYXYwk"
      },
      "source": [
        "- dau we can see the users behaviour with daily changes\n",
        "\n",
        "- a slight increase over time till the middle of the year that after this we can see some stignition a dau is not changes drasticaly\n",
        "\n",
        "- also might be good to ignore the big 3 outliners - nlargest + nsmallest"
      ]
    },
    {
      "cell_type": "markdown",
      "metadata": {
        "id": "B0NmCTGHa5Yy"
      },
      "source": [
        "#### wau"
      ]
    },
    {
      "cell_type": "code",
      "metadata": {
        "colab": {
          "base_uri": "https://localhost:8080/",
          "height": 196
        },
        "id": "BiucliI0TdK5",
        "outputId": "63b249a7-047e-4a2e-ac6f-10ae5cf99118"
      },
      "source": [
        "wau = visits.groupby('session_week').agg({'uid':'nunique'}).reset_index()[['session_week','uid']]\n",
        "wau.columns = ['session_week','unique_weekly_users']\n",
        "wau.head(5)"
      ],
      "execution_count": 32,
      "outputs": [
        {
          "output_type": "execute_result",
          "data": {
            "text/html": [
              "<div>\n",
              "<style scoped>\n",
              "    .dataframe tbody tr th:only-of-type {\n",
              "        vertical-align: middle;\n",
              "    }\n",
              "\n",
              "    .dataframe tbody tr th {\n",
              "        vertical-align: top;\n",
              "    }\n",
              "\n",
              "    .dataframe thead th {\n",
              "        text-align: right;\n",
              "    }\n",
              "</style>\n",
              "<table border=\"1\" class=\"dataframe\">\n",
              "  <thead>\n",
              "    <tr style=\"text-align: right;\">\n",
              "      <th></th>\n",
              "      <th>session_week</th>\n",
              "      <th>unique_weekly_users</th>\n",
              "    </tr>\n",
              "  </thead>\n",
              "  <tbody>\n",
              "    <tr>\n",
              "      <th>0</th>\n",
              "      <td>2017-06-01</td>\n",
              "      <td>4082</td>\n",
              "    </tr>\n",
              "    <tr>\n",
              "      <th>1</th>\n",
              "      <td>2017-06-08</td>\n",
              "      <td>3311</td>\n",
              "    </tr>\n",
              "    <tr>\n",
              "      <th>2</th>\n",
              "      <td>2017-06-15</td>\n",
              "      <td>2844</td>\n",
              "    </tr>\n",
              "    <tr>\n",
              "      <th>3</th>\n",
              "      <td>2017-06-22</td>\n",
              "      <td>3079</td>\n",
              "    </tr>\n",
              "    <tr>\n",
              "      <th>4</th>\n",
              "      <td>2017-06-29</td>\n",
              "      <td>3055</td>\n",
              "    </tr>\n",
              "  </tbody>\n",
              "</table>\n",
              "</div>"
            ],
            "text/plain": [
              "  session_week  unique_weekly_users\n",
              "0   2017-06-01                 4082\n",
              "1   2017-06-08                 3311\n",
              "2   2017-06-15                 2844\n",
              "3   2017-06-22                 3079\n",
              "4   2017-06-29                 3055"
            ]
          },
          "metadata": {
            "tags": []
          },
          "execution_count": 32
        }
      ]
    },
    {
      "cell_type": "code",
      "metadata": {
        "colab": {
          "base_uri": "https://localhost:8080/",
          "height": 514
        },
        "id": "HVcAlpOvbIDX",
        "outputId": "ae413df0-2604-4642-b6a7-fdb38cee382f"
      },
      "source": [
        "plt.figure(figsize=(19,9),facecolor='white')\n",
        "plt.title('Weekly Active Users - WAU',fontdict={'fontsize':20})\n",
        "plt.xlabel('Date')\n",
        "plt.ylabel('Unique users')\n",
        "plt.plot(wau.session_week,wau.unique_weekly_users)"
      ],
      "execution_count": 33,
      "outputs": [
        {
          "output_type": "execute_result",
          "data": {
            "text/plain": [
              "[<matplotlib.lines.Line2D at 0x7f1f2dcb4978>]"
            ]
          },
          "metadata": {
            "tags": []
          },
          "execution_count": 33
        },
        {
          "output_type": "display_data",
          "data": {
            "image/png": "[encoded data removed]",
            "text/plain": [
              "<Figure size 1368x648 with 1 Axes>"
            ]
          },
          "metadata": {
            "tags": []
          }
        }
      ]
    },
    {
      "cell_type": "code",
      "metadata": {
        "colab": {
          "base_uri": "https://localhost:8080/",
          "height": 77
        },
        "id": "dUKYs7gkb7t1",
        "outputId": "c2998239-a1c5-476a-baaf-b8a12a0b3ed3"
      },
      "source": [
        "wau.nlargest(1,['unique_weekly_users']) # highest point"
      ],
      "execution_count": 34,
      "outputs": [
        {
          "output_type": "execute_result",
          "data": {
            "text/html": [
              "<div>\n",
              "<style scoped>\n",
              "    .dataframe tbody tr th:only-of-type {\n",
              "        vertical-align: middle;\n",
              "    }\n",
              "\n",
              "    .dataframe tbody tr th {\n",
              "        vertical-align: top;\n",
              "    }\n",
              "\n",
              "    .dataframe thead th {\n",
              "        text-align: right;\n",
              "    }\n",
              "</style>\n",
              "<table border=\"1\" class=\"dataframe\">\n",
              "  <thead>\n",
              "    <tr style=\"text-align: right;\">\n",
              "      <th></th>\n",
              "      <th>session_week</th>\n",
              "      <th>unique_weekly_users</th>\n",
              "    </tr>\n",
              "  </thead>\n",
              "  <tbody>\n",
              "    <tr>\n",
              "      <th>25</th>\n",
              "      <td>2017-11-23</td>\n",
              "      <td>10716</td>\n",
              "    </tr>\n",
              "  </tbody>\n",
              "</table>\n",
              "</div>"
            ],
            "text/plain": [
              "   session_week  unique_weekly_users\n",
              "25   2017-11-23                10716"
            ]
          },
          "metadata": {
            "tags": []
          },
          "execution_count": 34
        }
      ]
    },
    {
      "cell_type": "code",
      "metadata": {
        "colab": {
          "base_uri": "https://localhost:8080/",
          "height": 107
        },
        "id": "l4oA9sOtcRsC",
        "outputId": "24286c6e-8461-40dd-f5e9-4c71a95bd112"
      },
      "source": [
        "wau.nsmallest(2,'unique_weekly_users') # lowest 2 points"
      ],
      "execution_count": 35,
      "outputs": [
        {
          "output_type": "execute_result",
          "data": {
            "text/html": [
              "<div>\n",
              "<style scoped>\n",
              "    .dataframe tbody tr th:only-of-type {\n",
              "        vertical-align: middle;\n",
              "    }\n",
              "\n",
              "    .dataframe tbody tr th {\n",
              "        vertical-align: top;\n",
              "    }\n",
              "\n",
              "    .dataframe thead th {\n",
              "        text-align: right;\n",
              "    }\n",
              "</style>\n",
              "<table border=\"1\" class=\"dataframe\">\n",
              "  <thead>\n",
              "    <tr style=\"text-align: right;\">\n",
              "      <th></th>\n",
              "      <th>session_week</th>\n",
              "      <th>unique_weekly_users</th>\n",
              "    </tr>\n",
              "  </thead>\n",
              "  <tbody>\n",
              "    <tr>\n",
              "      <th>52</th>\n",
              "      <td>2018-05-31</td>\n",
              "      <td>1997</td>\n",
              "    </tr>\n",
              "    <tr>\n",
              "      <th>9</th>\n",
              "      <td>2017-08-03</td>\n",
              "      <td>2343</td>\n",
              "    </tr>\n",
              "  </tbody>\n",
              "</table>\n",
              "</div>"
            ],
            "text/plain": [
              "   session_week  unique_weekly_users\n",
              "52   2018-05-31                 1997\n",
              "9    2017-08-03                 2343"
            ]
          },
          "metadata": {
            "tags": []
          },
          "execution_count": 35
        }
      ]
    },
    {
      "cell_type": "markdown",
      "metadata": {
        "id": "9hajddjhcePI"
      },
      "source": [
        "- from a weekly point of few the variance is higher and as we can see the changes is with higher impact when the lowest point is in the final week of the period while the highest is in the end of Nov-17 whereas the biggest unique users in dau graph"
      ]
    },
    {
      "cell_type": "markdown",
      "metadata": {
        "id": "D5UBgweMdHHO"
      },
      "source": [
        "#### mau"
      ]
    },
    {
      "cell_type": "code",
      "metadata": {
        "colab": {
          "base_uri": "https://localhost:8080/",
          "height": 405
        },
        "id": "TCl4EcDpa4hg",
        "outputId": "854a6a80-b6fd-4ddd-a0f9-21dc5f3e3a9a"
      },
      "source": [
        "mau = visits.groupby('session_month').agg({'uid':'nunique'}).reset_index()[['session_month','uid']]\n",
        "mau.columns = ['month','unique_monthly_users']\n",
        "mau"
      ],
      "execution_count": 36,
      "outputs": [
        {
          "output_type": "execute_result",
          "data": {
            "text/html": [
              "<div>\n",
              "<style scoped>\n",
              "    .dataframe tbody tr th:only-of-type {\n",
              "        vertical-align: middle;\n",
              "    }\n",
              "\n",
              "    .dataframe tbody tr th {\n",
              "        vertical-align: top;\n",
              "    }\n",
              "\n",
              "    .dataframe thead th {\n",
              "        text-align: right;\n",
              "    }\n",
              "</style>\n",
              "<table border=\"1\" class=\"dataframe\">\n",
              "  <thead>\n",
              "    <tr style=\"text-align: right;\">\n",
              "      <th></th>\n",
              "      <th>month</th>\n",
              "      <th>unique_monthly_users</th>\n",
              "    </tr>\n",
              "  </thead>\n",
              "  <tbody>\n",
              "    <tr>\n",
              "      <th>0</th>\n",
              "      <td>2017-06-01</td>\n",
              "      <td>13259</td>\n",
              "    </tr>\n",
              "    <tr>\n",
              "      <th>1</th>\n",
              "      <td>2017-07-01</td>\n",
              "      <td>14183</td>\n",
              "    </tr>\n",
              "    <tr>\n",
              "      <th>2</th>\n",
              "      <td>2017-08-01</td>\n",
              "      <td>11631</td>\n",
              "    </tr>\n",
              "    <tr>\n",
              "      <th>3</th>\n",
              "      <td>2017-09-01</td>\n",
              "      <td>18975</td>\n",
              "    </tr>\n",
              "    <tr>\n",
              "      <th>4</th>\n",
              "      <td>2017-10-01</td>\n",
              "      <td>29692</td>\n",
              "    </tr>\n",
              "    <tr>\n",
              "      <th>5</th>\n",
              "      <td>2017-11-01</td>\n",
              "      <td>32797</td>\n",
              "    </tr>\n",
              "    <tr>\n",
              "      <th>6</th>\n",
              "      <td>2017-12-01</td>\n",
              "      <td>31557</td>\n",
              "    </tr>\n",
              "    <tr>\n",
              "      <th>7</th>\n",
              "      <td>2018-01-01</td>\n",
              "      <td>28716</td>\n",
              "    </tr>\n",
              "    <tr>\n",
              "      <th>8</th>\n",
              "      <td>2018-02-01</td>\n",
              "      <td>28749</td>\n",
              "    </tr>\n",
              "    <tr>\n",
              "      <th>9</th>\n",
              "      <td>2018-03-01</td>\n",
              "      <td>27473</td>\n",
              "    </tr>\n",
              "    <tr>\n",
              "      <th>10</th>\n",
              "      <td>2018-04-01</td>\n",
              "      <td>21008</td>\n",
              "    </tr>\n",
              "    <tr>\n",
              "      <th>11</th>\n",
              "      <td>2018-05-01</td>\n",
              "      <td>20701</td>\n",
              "    </tr>\n",
              "  </tbody>\n",
              "</table>\n",
              "</div>"
            ],
            "text/plain": [
              "        month  unique_monthly_users\n",
              "0  2017-06-01                 13259\n",
              "1  2017-07-01                 14183\n",
              "2  2017-08-01                 11631\n",
              "3  2017-09-01                 18975\n",
              "4  2017-10-01                 29692\n",
              "5  2017-11-01                 32797\n",
              "6  2017-12-01                 31557\n",
              "7  2018-01-01                 28716\n",
              "8  2018-02-01                 28749\n",
              "9  2018-03-01                 27473\n",
              "10 2018-04-01                 21008\n",
              "11 2018-05-01                 20701"
            ]
          },
          "metadata": {
            "tags": []
          },
          "execution_count": 36
        }
      ]
    },
    {
      "cell_type": "code",
      "metadata": {
        "colab": {
          "base_uri": "https://localhost:8080/",
          "height": 524
        },
        "id": "1H8SNVmedYZD",
        "outputId": "a52cd758-5f04-45c8-b9db-4610e85bd275"
      },
      "source": [
        "plt.figure(figsize=(19,9),facecolor='white')\n",
        "ax = plt.subplot()\n",
        "ax.bar(mau.month,mau.unique_monthly_users, width=5)\n",
        "ax.set_xticks(mau.month)\n",
        "ax.xaxis.set_major_formatter(matplotlib.dates.DateFormatter(\"\\n%Y-%m\"))\n",
        "ax.set_title(\"Monthly Active Users - MAU\",fontdict={'fontsize':20})\n",
        "ax.set_xlabel('Month')\n",
        "ax.set_ylabel('Unqique users')\n",
        "# plt.gcf().autofmt_xdate()"
      ],
      "execution_count": 37,
      "outputs": [
        {
          "output_type": "execute_result",
          "data": {
            "text/plain": [
              "Text(0, 0.5, 'Unqique users')"
            ]
          },
          "metadata": {
            "tags": []
          },
          "execution_count": 37
        },
        {
          "output_type": "display_data",
          "data": {
            "image/png": "[encoded data removed]",
            "text/plain": [
              "<Figure size 1368x648 with 1 Axes>"
            ]
          },
          "metadata": {
            "tags": []
          }
        }
      ]
    },
    {
      "cell_type": "markdown",
      "metadata": {
        "id": "3AWHsjqIliWe"
      },
      "source": [
        "- from a monthly point of few we can notice for increase of unique users \n",
        "- pick reached in Nov-17 when til the end of the period we see a decline"
      ]
    },
    {
      "cell_type": "markdown",
      "metadata": {
        "id": "-1paL2DspuRS"
      },
      "source": [
        "### o\tHow many sessions are there per day? (One user might have more than one session.)\n"
      ]
    },
    {
      "cell_type": "code",
      "metadata": {
        "colab": {
          "base_uri": "https://localhost:8080/"
        },
        "id": "L4RQPZRtrL1k",
        "outputId": "2d614f92-2063-4c02-dab0-74fbcce2e91f"
      },
      "source": [
        "# group by each day and count the start of session. next average value calculated\n",
        "session_per_day = int(visits.groupby('session_date').agg({'start_ts':'count'}).reset_index()['start_ts'].mean())\n",
        "print('average visits per day: {}'.format(session_per_day))"
      ],
      "execution_count": 38,
      "outputs": [
        {
          "output_type": "stream",
          "text": [
            "average visits per day: 987\n"
          ],
          "name": "stdout"
        }
      ]
    },
    {
      "cell_type": "markdown",
      "metadata": {
        "id": "mH9f0xPmpv5L"
      },
      "source": [
        "### o\tWhat is the length of each session?\n"
      ]
    },
    {
      "cell_type": "markdown",
      "metadata": {
        "id": "P83Ad1dzrhPZ"
      },
      "source": [
        "1. First we add new columns with len of each session in minutes\n",
        "\n",
        "2. Than get the average daily length session"
      ]
    },
    {
      "cell_type": "code",
      "metadata": {
        "colab": {
          "base_uri": "https://localhost:8080/",
          "height": 280
        },
        "id": "GcIUTs4nrs0x",
        "outputId": "0cb53072-c7bc-42dc-85fc-967610577d1a"
      },
      "source": [
        "# will have new column where we have our new data --->session length in minutes\n",
        "visits['session_len_min'] = visits['end_ts'] - visits['start_ts']\n",
        "visits.head(5)"
      ],
      "execution_count": 39,
      "outputs": [
        {
          "output_type": "execute_result",
          "data": {
            "text/html": [
              "<div>\n",
              "<style scoped>\n",
              "    .dataframe tbody tr th:only-of-type {\n",
              "        vertical-align: middle;\n",
              "    }\n",
              "\n",
              "    .dataframe tbody tr th {\n",
              "        vertical-align: top;\n",
              "    }\n",
              "\n",
              "    .dataframe thead th {\n",
              "        text-align: right;\n",
              "    }\n",
              "</style>\n",
              "<table border=\"1\" class=\"dataframe\">\n",
              "  <thead>\n",
              "    <tr style=\"text-align: right;\">\n",
              "      <th></th>\n",
              "      <th>device</th>\n",
              "      <th>end_ts</th>\n",
              "      <th>source_id</th>\n",
              "      <th>start_ts</th>\n",
              "      <th>uid</th>\n",
              "      <th>session_month</th>\n",
              "      <th>session_week</th>\n",
              "      <th>session_date</th>\n",
              "      <th>session_len_min</th>\n",
              "    </tr>\n",
              "  </thead>\n",
              "  <tbody>\n",
              "    <tr>\n",
              "      <th>0</th>\n",
              "      <td>touch</td>\n",
              "      <td>2017-12-20 17:38:00</td>\n",
              "      <td>4</td>\n",
              "      <td>2017-12-20 17:20:00</td>\n",
              "      <td>16879256277535980062</td>\n",
              "      <td>2017-12-01</td>\n",
              "      <td>2017-12-14</td>\n",
              "      <td>2017-12-20</td>\n",
              "      <td>0 days 00:18:00</td>\n",
              "    </tr>\n",
              "    <tr>\n",
              "      <th>1</th>\n",
              "      <td>desktop</td>\n",
              "      <td>2018-02-19 17:21:00</td>\n",
              "      <td>2</td>\n",
              "      <td>2018-02-19 16:53:00</td>\n",
              "      <td>104060357244891740</td>\n",
              "      <td>2018-02-01</td>\n",
              "      <td>2018-02-15</td>\n",
              "      <td>2018-02-19</td>\n",
              "      <td>0 days 00:28:00</td>\n",
              "    </tr>\n",
              "    <tr>\n",
              "      <th>2</th>\n",
              "      <td>touch</td>\n",
              "      <td>2017-07-01 01:54:00</td>\n",
              "      <td>5</td>\n",
              "      <td>2017-07-01 01:54:00</td>\n",
              "      <td>7459035603376831527</td>\n",
              "      <td>2017-07-01</td>\n",
              "      <td>2017-06-29</td>\n",
              "      <td>2017-07-01</td>\n",
              "      <td>0 days 00:00:00</td>\n",
              "    </tr>\n",
              "    <tr>\n",
              "      <th>3</th>\n",
              "      <td>desktop</td>\n",
              "      <td>2018-05-20 11:23:00</td>\n",
              "      <td>9</td>\n",
              "      <td>2018-05-20 10:59:00</td>\n",
              "      <td>16174680259334210214</td>\n",
              "      <td>2018-05-01</td>\n",
              "      <td>2018-05-17</td>\n",
              "      <td>2018-05-20</td>\n",
              "      <td>0 days 00:24:00</td>\n",
              "    </tr>\n",
              "    <tr>\n",
              "      <th>4</th>\n",
              "      <td>desktop</td>\n",
              "      <td>2017-12-27 14:06:00</td>\n",
              "      <td>3</td>\n",
              "      <td>2017-12-27 14:06:00</td>\n",
              "      <td>9969694820036681168</td>\n",
              "      <td>2017-12-01</td>\n",
              "      <td>2017-12-21</td>\n",
              "      <td>2017-12-27</td>\n",
              "      <td>0 days 00:00:00</td>\n",
              "    </tr>\n",
              "  </tbody>\n",
              "</table>\n",
              "</div>"
            ],
            "text/plain": [
              "    device              end_ts  ... session_date session_len_min\n",
              "0    touch 2017-12-20 17:38:00  ...   2017-12-20 0 days 00:18:00\n",
              "1  desktop 2018-02-19 17:21:00  ...   2018-02-19 0 days 00:28:00\n",
              "2    touch 2017-07-01 01:54:00  ...   2017-07-01 0 days 00:00:00\n",
              "3  desktop 2018-05-20 11:23:00  ...   2018-05-20 0 days 00:24:00\n",
              "4  desktop 2017-12-27 14:06:00  ...   2017-12-27 0 days 00:00:00\n",
              "\n",
              "[5 rows x 9 columns]"
            ]
          },
          "metadata": {
            "tags": []
          },
          "execution_count": 39
        }
      ]
    },
    {
      "cell_type": "code",
      "metadata": {
        "id": "I6Wc-CgPsrnf"
      },
      "source": [
        "# convert new columns from timedelda type to int:\n",
        "visits['session_len_min'] = visits['session_len_min'] / np.timedelta64(1,'m')\n",
        "visits['session_len_min'] = visits['session_len_min'].astype('int')"
      ],
      "execution_count": 40,
      "outputs": []
    },
    {
      "cell_type": "code",
      "metadata": {
        "colab": {
          "base_uri": "https://localhost:8080/"
        },
        "id": "LsalPdq0rx8W",
        "outputId": "c339df3c-62dc-41fa-af5b-f0fe82c599e3"
      },
      "source": [
        "daily_mean_len = visits.groupby('session_date')['session_len_min'].mean().mean()\n",
        "print('daily average length session of a user: {} minutes'.format(int(daily_mean_len)))"
      ],
      "execution_count": 41,
      "outputs": [
        {
          "output_type": "stream",
          "text": [
            "daily average length session of a user: 10 minutes\n"
          ],
          "name": "stdout"
        }
      ]
    },
    {
      "cell_type": "markdown",
      "metadata": {
        "id": "hYwtNt7Yt6sC"
      },
      "source": [
        "one more look to this freme of users length session but for those who's session = 0"
      ]
    },
    {
      "cell_type": "code",
      "metadata": {
        "colab": {
          "base_uri": "https://localhost:8080/",
          "height": 553
        },
        "id": "YfQ1s__mtg5K",
        "outputId": "9f6639af-d381-47ae-c52c-3d9dae1b74de"
      },
      "source": [
        "visits['session_len_min'].hist(bins=50,figsize=(13,9))"
      ],
      "execution_count": 42,
      "outputs": [
        {
          "output_type": "execute_result",
          "data": {
            "text/plain": [
              "<matplotlib.axes._subplots.AxesSubplot at 0x7f1f2eb1ad30>"
            ]
          },
          "metadata": {
            "tags": []
          },
          "execution_count": 42
        },
        {
          "output_type": "display_data",
          "data": {
            "image/png": "[encoded data removed]",
            "text/plain": [
              "<Figure size 936x648 with 1 Axes>"
            ]
          },
          "metadata": {
            "tags": [],
            "needs_background": "light"
          }
        }
      ]
    },
    {
      "cell_type": "code",
      "metadata": {
        "colab": {
          "base_uri": "https://localhost:8080/"
        },
        "id": "qW9sQeEXtjdX",
        "outputId": "f7e8d893-7b23-4488-b160-c913642dadd1"
      },
      "source": [
        "# lets dive into 0's only:\n",
        "visits[visits['session_len_min'] == 0]['session_len_min'].count()"
      ],
      "execution_count": 43,
      "outputs": [
        {
          "output_type": "execute_result",
          "data": {
            "text/plain": [
              "36662"
            ]
          },
          "metadata": {
            "tags": []
          },
          "execution_count": 43
        }
      ]
    },
    {
      "cell_type": "markdown",
      "metadata": {
        "id": "DhW0meQKtk0T"
      },
      "source": [
        "apprx 360k records when out of them about 36.5k \"empty\" entries with less than a minute monitored.\n",
        "probably it might be because of wrongly entered to the browser or any other logical reason "
      ]
    },
    {
      "cell_type": "markdown",
      "metadata": {
        "id": "vMXAZoUSqqLb"
      },
      "source": [
        "next I will plot a graph showing total time session for each day per device"
      ]
    },
    {
      "cell_type": "code",
      "metadata": {
        "id": "1_K9BJZQneH3"
      },
      "source": [
        "device_session_len = visits.groupby(['device','session_date']).agg({'session_len_min':'sum'}).reset_index() # grouping"
      ],
      "execution_count": 44,
      "outputs": []
    },
    {
      "cell_type": "code",
      "metadata": {
        "colab": {
          "base_uri": "https://localhost:8080/",
          "height": 196
        },
        "id": "Ocl-Rd9DpJJS",
        "outputId": "2d7c1b0a-6cf4-41aa-d886-1efc754f39dd"
      },
      "source": [
        "device_session_len.head(5)"
      ],
      "execution_count": 45,
      "outputs": [
        {
          "output_type": "execute_result",
          "data": {
            "text/html": [
              "<div>\n",
              "<style scoped>\n",
              "    .dataframe tbody tr th:only-of-type {\n",
              "        vertical-align: middle;\n",
              "    }\n",
              "\n",
              "    .dataframe tbody tr th {\n",
              "        vertical-align: top;\n",
              "    }\n",
              "\n",
              "    .dataframe thead th {\n",
              "        text-align: right;\n",
              "    }\n",
              "</style>\n",
              "<table border=\"1\" class=\"dataframe\">\n",
              "  <thead>\n",
              "    <tr style=\"text-align: right;\">\n",
              "      <th></th>\n",
              "      <th>device</th>\n",
              "      <th>session_date</th>\n",
              "      <th>session_len_min</th>\n",
              "    </tr>\n",
              "  </thead>\n",
              "  <tbody>\n",
              "    <tr>\n",
              "      <th>0</th>\n",
              "      <td>desktop</td>\n",
              "      <td>2017-06-01</td>\n",
              "      <td>6047.0</td>\n",
              "    </tr>\n",
              "    <tr>\n",
              "      <th>1</th>\n",
              "      <td>desktop</td>\n",
              "      <td>2017-06-02</td>\n",
              "      <td>5197.0</td>\n",
              "    </tr>\n",
              "    <tr>\n",
              "      <th>2</th>\n",
              "      <td>desktop</td>\n",
              "      <td>2017-06-03</td>\n",
              "      <td>3737.0</td>\n",
              "    </tr>\n",
              "    <tr>\n",
              "      <th>3</th>\n",
              "      <td>desktop</td>\n",
              "      <td>2017-06-04</td>\n",
              "      <td>3427.0</td>\n",
              "    </tr>\n",
              "    <tr>\n",
              "      <th>4</th>\n",
              "      <td>desktop</td>\n",
              "      <td>2017-06-05</td>\n",
              "      <td>7794.0</td>\n",
              "    </tr>\n",
              "  </tbody>\n",
              "</table>\n",
              "</div>"
            ],
            "text/plain": [
              "    device session_date  session_len_min\n",
              "0  desktop   2017-06-01           6047.0\n",
              "1  desktop   2017-06-02           5197.0\n",
              "2  desktop   2017-06-03           3737.0\n",
              "3  desktop   2017-06-04           3427.0\n",
              "4  desktop   2017-06-05           7794.0"
            ]
          },
          "metadata": {
            "tags": []
          },
          "execution_count": 45
        }
      ]
    },
    {
      "cell_type": "code",
      "metadata": {
        "colab": {
          "base_uri": "https://localhost:8080/",
          "height": 556
        },
        "id": "OMKyvAdVo8TU",
        "outputId": "10a223c9-fe2f-46fb-ae80-b0a488aa4613"
      },
      "source": [
        "device_session_len.pivot('session_date','device','session_len_min').plot(\n",
        "    title='Daily total time session length per device',figsize=(16,9),linestyle='-',linewidth=1,marker='')"
      ],
      "execution_count": 46,
      "outputs": [
        {
          "output_type": "execute_result",
          "data": {
            "text/plain": [
              "<matplotlib.axes._subplots.AxesSubplot at 0x7f1f2ea2de48>"
            ]
          },
          "metadata": {
            "tags": []
          },
          "execution_count": 46
        },
        {
          "output_type": "display_data",
          "data": {
            "image/png": "[encoded data removed]",
            "text/plain": [
              "<Figure size 1152x648 with 1 Axes>"
            ]
          },
          "metadata": {
            "tags": [],
            "needs_background": "light"
          }
        }
      ]
    },
    {
      "cell_type": "markdown",
      "metadata": {
        "id": "DuX0Iw_Xq4wW"
      },
      "source": [
        "- most of the traffic is from desktop\n",
        "- a nice look into the distribution for each device\n",
        "- user behaviour do not change much and a correlation is noticed between the 2 device by only a quick look at the plot result"
      ]
    },
    {
      "cell_type": "code",
      "metadata": {
        "id": "U4VsGLO_0P8w"
      },
      "source": [
        "# get the most frequnt source_id for each user and last entrance if user entered from many sources the same number of time:\n",
        "source_id_per_user = visits.pivot_table(index='uid',values='source_id',aggfunc=lambda x: x.mode().iat[-1]).reset_index()"
      ],
      "execution_count": 47,
      "outputs": []
    },
    {
      "cell_type": "code",
      "metadata": {
        "id": "9NRNUAcA0Q4F"
      },
      "source": [
        "source_id_per_user.columns = ['uid','main_source_id']"
      ],
      "execution_count": 48,
      "outputs": []
    },
    {
      "cell_type": "markdown",
      "metadata": {
        "id": "wZ666MGOn7e5"
      },
      "source": [
        "\n",
        " <div class=\"alert alert-info\"><b>Hi Andrey, please note that 'source_id_per_user' will not be used but in the next note</b>  </div>"
      ]
    },
    {
      "cell_type": "markdown",
      "metadata": {
        "id": "pmhFfqXZpxA1"
      },
      "source": [
        "### o\tHow often do users come back?\n"
      ]
    },
    {
      "cell_type": "markdown",
      "metadata": {
        "id": "9HriTvxHCmV3"
      },
      "source": [
        "here we check ther retention rates for monthly cohorts "
      ]
    },
    {
      "cell_type": "code",
      "metadata": {
        "id": "TJ-Sp2Fun7e6"
      },
      "source": [
        "# make new table with first visit by months terms only:\n",
        "first_visit_month = visits.groupby(\"uid\")['session_month'].min()"
      ],
      "execution_count": 49,
      "outputs": []
    },
    {
      "cell_type": "code",
      "metadata": {
        "id": "z1G9BWx_n7e6"
      },
      "source": [
        "# rename cols:\n",
        "first_visit_month.name = 'first_session_month'"
      ],
      "execution_count": 50,
      "outputs": []
    },
    {
      "cell_type": "code",
      "metadata": {
        "id": "VD_thSyfn7e6"
      },
      "source": [
        "# I duplicated the original visits table for this part I will use visits_\n",
        "visits_ = visits"
      ],
      "execution_count": 51,
      "outputs": []
    },
    {
      "cell_type": "code",
      "metadata": {
        "id": "uaI9CpN9n7e7"
      },
      "source": [
        "# joining visits_ with the first visit by month:\n",
        "visits_ = visits_.join(first_visit_month,on='uid')"
      ],
      "execution_count": 52,
      "outputs": []
    },
    {
      "cell_type": "code",
      "metadata": {
        "id": "PT8uTfhMn7e7"
      },
      "source": [
        "# create cohorts lifetime in months terms:\n",
        "visits_['cohort_lifetime'] = visits_['session_month'] - visits_['first_session_month'] # months passed from current to 1st session\n",
        "visits_['cohort_lifetime'] = visits_['cohort_lifetime'] / np.timedelta64(1,'M') # convert cohorts lifetimes into months\n",
        "visits_['cohort_lifetime'] = visits_['cohort_lifetime'].astype(int)  # set it by 'int' varaibales"
      ],
      "execution_count": 53,
      "outputs": []
    },
    {
      "cell_type": "code",
      "metadata": {
        "id": "geu_PEG3n7e7"
      },
      "source": [
        "# build a cohorts variable to use further in pivot\n",
        "cohorts = visits_.groupby(['first_session_month','cohort_lifetime']).agg({'uid':'nunique'}).reset_index() "
      ],
      "execution_count": 54,
      "outputs": []
    },
    {
      "cell_type": "code",
      "metadata": {
        "id": "XcMg-EUcn7e8"
      },
      "source": [
        "# comparison made from the 0 time passed period so we get only the users whos next visits was on the same month\n",
        "initial_uid_count = cohorts[cohorts['cohort_lifetime'] == 0][['first_session_month','uid']]"
      ],
      "execution_count": 55,
      "outputs": []
    },
    {
      "cell_type": "code",
      "metadata": {
        "id": "F4NCYyLMn7e8"
      },
      "source": [
        "# small col rename:\n",
        "initial_uid_count.rename(columns={'uid':'cohort_users_0'},inplace=True) "
      ],
      "execution_count": 56,
      "outputs": []
    },
    {
      "cell_type": "code",
      "metadata": {
        "id": "Zq2t3fwcn7e8"
      },
      "source": [
        "# merge into cohorts the ones whos cohorts time is 0\n",
        "cohorts = cohorts.merge(initial_uid_count,on='first_session_month')"
      ],
      "execution_count": 57,
      "outputs": []
    },
    {
      "cell_type": "code",
      "metadata": {
        "id": "UkuFfBwCn7e8"
      },
      "source": [
        "cohorts.rename(columns={'uid':'n_users_cohorts'},inplace=True)"
      ],
      "execution_count": 58,
      "outputs": []
    },
    {
      "cell_type": "code",
      "metadata": {
        "id": "Dc9WJo-Dn7e9"
      },
      "source": [
        "# get our retention rate:\n",
        "cohorts['retention'] = cohorts['n_users_cohorts']/cohorts['cohort_users_0']"
      ],
      "execution_count": 59,
      "outputs": []
    },
    {
      "cell_type": "code",
      "metadata": {
        "id": "tK9OnJEtn7e9"
      },
      "source": [
        "retention_pivot = cohorts.pivot_table(index='first_session_month',columns='cohort_lifetime',values='retention',aggfunc='sum')"
      ],
      "execution_count": 60,
      "outputs": []
    },
    {
      "cell_type": "code",
      "metadata": {
        "colab": {
          "base_uri": "https://localhost:8080/",
          "height": 774
        },
        "id": "qN3fIfLNn7e9",
        "outputId": "05654083-bb71-45cc-a658-480540d6b55c"
      },
      "source": [
        "sns.set(style='white')\n",
        "plt.figure(figsize=(13, 9))\n",
        "plt.title('Monthly User Retention')\n",
        "sns.heatmap(retention_pivot,\n",
        "            annot=True,\n",
        "            fmt='.1%',\n",
        "            linewidths=1,\n",
        "            linecolor='gray').set_yticklabels(retention_pivot.index.strftime('%Y-%m'))"
      ],
      "execution_count": 61,
      "outputs": [
        {
          "output_type": "execute_result",
          "data": {
            "text/plain": [
              "[Text(0, 0.5, '2017-06'),\n",
              " Text(0, 1.5, '2017-07'),\n",
              " Text(0, 2.5, '2017-08'),\n",
              " Text(0, 3.5, '2017-09'),\n",
              " Text(0, 4.5, '2017-10'),\n",
              " Text(0, 5.5, '2017-11'),\n",
              " Text(0, 6.5, '2017-12'),\n",
              " Text(0, 7.5, '2018-01'),\n",
              " Text(0, 8.5, '2018-02'),\n",
              " Text(0, 9.5, '2018-03'),\n",
              " Text(0, 10.5, '2018-04'),\n",
              " Text(0, 11.5, '2018-05')]"
            ]
          },
          "metadata": {
            "tags": []
          },
          "execution_count": 61
        },
        {
          "output_type": "display_data",
          "data": {
            "image/png": "[encoded data removed]",
            "text/plain": [
              "<Figure size 936x648 with 2 Axes>"
            ]
          },
          "metadata": {
            "tags": []
          }
        }
      ]
    },
    {
      "cell_type": "markdown",
      "metadata": {
        "id": "Em_aEVYsn7e-"
      },
      "source": [
        "- 0 life time is 100% too all month session since it is only divided buy it self and our retention rates start from the 1st cohorts\n",
        "- the highest retention was noted in September with 2 cohortsliftime which compared to rest of retentions this one seems to be high in relative manners \n",
        "- I decided to leave the empty cells blank and not fill with 0 to emphasize the other retention. easily we can notice that was zero was dominant in cohorts where we expected to see some retention buy actually retention was 0% - bad figures and should be checked by managers\n",
        "- on the 1st cohort when looking vertically we can assume that seasonality may take effect on this results while starting with 0 going up in the next months and then going down and so on\n",
        "- overall I think its fair to say that once time passed the users come back in low rates which can impact the Afisha preformances"
      ]
    },
    {
      "cell_type": "markdown",
      "metadata": {
        "id": "vw6prfrEDZ5X"
      },
      "source": [
        "## sales"
      ]
    },
    {
      "cell_type": "markdown",
      "metadata": {
        "id": "0tCd3dXGgCrS"
      },
      "source": [
        "### o\tWhen do people start buying? (In KPI analysis, we're usually interested in knowing the time that elapses between registration and conversion — when the user becomes a customer. \n",
        "For example, if registration and the first purchase occur on the same day, the user might fall into category Conversion 0d. If the first purchase happens the next day, it will be Conversion 1d. You can use any approach that lets you compare the conversions of different cohorts, so that you can determine which cohort, or marketing channel, is most effective.)\n"
      ]
    },
    {
      "cell_type": "code",
      "metadata": {
        "colab": {
          "base_uri": "https://localhost:8080/"
        },
        "id": "tgPfSOsHD1Ht",
        "outputId": "b9271573-1d59-4097-dced-b807c8454992"
      },
      "source": [
        "# logical test:\n",
        "orders[orders['revenue'] <= 0].count()"
      ],
      "execution_count": 62,
      "outputs": [
        {
          "output_type": "execute_result",
          "data": {
            "text/plain": [
              "buy_ts     51\n",
              "revenue    51\n",
              "uid        51\n",
              "dtype: int64"
            ]
          },
          "metadata": {
            "tags": []
          },
          "execution_count": 62
        }
      ]
    },
    {
      "cell_type": "markdown",
      "metadata": {
        "id": "sMMC4Qh_6pSF"
      },
      "source": [
        "- there are number of orders with no revenue (=0)\n",
        "- we can assume that the user made an order to something that was free/discount so the revenue is 0"
      ]
    },
    {
      "cell_type": "code",
      "metadata": {
        "colab": {
          "base_uri": "https://localhost:8080/"
        },
        "id": "GXFxzVqZE06-",
        "outputId": "be5378ec-537b-4506-9918-b7893c653935"
      },
      "source": [
        "# a look into uid col in orders \n",
        "orders['uid'].value_counts()\n",
        "# there are customers that made more than 1 oder"
      ],
      "execution_count": 63,
      "outputs": [
        {
          "output_type": "execute_result",
          "data": {
            "text/plain": [
              "3644482766749211722     239\n",
              "13888745432979765063    238\n",
              "11920452646463905188    227\n",
              "6731421022966725351     183\n",
              "5139615590553126732     150\n",
              "                       ... \n",
              "10123118655365033769      1\n",
              "17398492294358629398      1\n",
              "15974676665349104064      1\n",
              "16705253310465048548      1\n",
              "9505264890679494151       1\n",
              "Name: uid, Length: 36523, dtype: int64"
            ]
          },
          "metadata": {
            "tags": []
          },
          "execution_count": 63
        }
      ]
    },
    {
      "cell_type": "markdown",
      "metadata": {
        "id": "6EwfhF3QpeJX"
      },
      "source": [
        "__next I will find for each user his first purchase (from orders dataset) & first visit (visits data)__"
      ]
    },
    {
      "cell_type": "code",
      "metadata": {
        "id": "9UgkI6MFdmJ7"
      },
      "source": [
        "first_visit = visits.groupby('uid')['start_ts'].min() # first visit\n",
        "first_order = orders.groupby('uid')['buy_ts'].min() # first buy"
      ],
      "execution_count": 64,
      "outputs": []
    },
    {
      "cell_type": "code",
      "metadata": {
        "id": "t6Xr_c-1eSJx"
      },
      "source": [
        "# rename:\n",
        "first_visit.name = 'first_visit_ts'\n",
        "first_order.name = 'first_buy_ts'"
      ],
      "execution_count": 65,
      "outputs": []
    },
    {
      "cell_type": "code",
      "metadata": {
        "id": "Hhq8q2M1fYm1"
      },
      "source": [
        "first_visit_and_order = pd.concat([first_visit,first_order],axis=1,join='inner').reset_index()"
      ],
      "execution_count": 66,
      "outputs": []
    },
    {
      "cell_type": "code",
      "metadata": {
        "colab": {
          "base_uri": "https://localhost:8080/"
        },
        "id": "g0N85LPJjpIF",
        "outputId": "ae9a3870-58bc-41dd-93a3-b3d5d528987e"
      },
      "source": [
        "first_visit_and_order.info() # small check on new df"
      ],
      "execution_count": 67,
      "outputs": [
        {
          "output_type": "stream",
          "text": [
            "<class 'pandas.core.frame.DataFrame'>\n",
            "RangeIndex: 36523 entries, 0 to 36522\n",
            "Data columns (total 3 columns):\n",
            " #   Column          Non-Null Count  Dtype         \n",
            "---  ------          --------------  -----         \n",
            " 0   uid             36523 non-null  uint64        \n",
            " 1   first_visit_ts  36523 non-null  datetime64[ns]\n",
            " 2   first_buy_ts    36523 non-null  datetime64[ns]\n",
            "dtypes: datetime64[ns](2), uint64(1)\n",
            "memory usage: 856.1 KB\n"
          ],
          "name": "stdout"
        }
      ]
    },
    {
      "cell_type": "code",
      "metadata": {
        "colab": {
          "base_uri": "https://localhost:8080/",
          "height": 47
        },
        "id": "vp_ZgB8pjvne",
        "outputId": "5f68f8b1-5e55-4a65-e212-4ecbf53affca"
      },
      "source": [
        "# logical test:\n",
        "first_visit_and_order[first_visit_and_order['first_visit_ts'] > first_visit_and_order['first_buy_ts']]\n",
        "# ok here"
      ],
      "execution_count": 68,
      "outputs": [
        {
          "output_type": "execute_result",
          "data": {
            "text/html": [
              "<div>\n",
              "<style scoped>\n",
              "    .dataframe tbody tr th:only-of-type {\n",
              "        vertical-align: middle;\n",
              "    }\n",
              "\n",
              "    .dataframe tbody tr th {\n",
              "        vertical-align: top;\n",
              "    }\n",
              "\n",
              "    .dataframe thead th {\n",
              "        text-align: right;\n",
              "    }\n",
              "</style>\n",
              "<table border=\"1\" class=\"dataframe\">\n",
              "  <thead>\n",
              "    <tr style=\"text-align: right;\">\n",
              "      <th></th>\n",
              "      <th>uid</th>\n",
              "      <th>first_visit_ts</th>\n",
              "      <th>first_buy_ts</th>\n",
              "    </tr>\n",
              "  </thead>\n",
              "  <tbody>\n",
              "  </tbody>\n",
              "</table>\n",
              "</div>"
            ],
            "text/plain": [
              "Empty DataFrame\n",
              "Columns: [uid, first_visit_ts, first_buy_ts]\n",
              "Index: []"
            ]
          },
          "metadata": {
            "tags": []
          },
          "execution_count": 68
        }
      ]
    },
    {
      "cell_type": "code",
      "metadata": {
        "colab": {
          "base_uri": "https://localhost:8080/",
          "height": 77
        },
        "id": "D-p35YDXkw6d",
        "outputId": "ad7df4c5-59c8-43b9-ee3a-aee96b3271d0"
      },
      "source": [
        "first_visit_and_order.tail(1)"
      ],
      "execution_count": 69,
      "outputs": [
        {
          "output_type": "execute_result",
          "data": {
            "text/html": [
              "<div>\n",
              "<style scoped>\n",
              "    .dataframe tbody tr th:only-of-type {\n",
              "        vertical-align: middle;\n",
              "    }\n",
              "\n",
              "    .dataframe tbody tr th {\n",
              "        vertical-align: top;\n",
              "    }\n",
              "\n",
              "    .dataframe thead th {\n",
              "        text-align: right;\n",
              "    }\n",
              "</style>\n",
              "<table border=\"1\" class=\"dataframe\">\n",
              "  <thead>\n",
              "    <tr style=\"text-align: right;\">\n",
              "      <th></th>\n",
              "      <th>uid</th>\n",
              "      <th>first_visit_ts</th>\n",
              "      <th>first_buy_ts</th>\n",
              "    </tr>\n",
              "  </thead>\n",
              "  <tbody>\n",
              "    <tr>\n",
              "      <th>36522</th>\n",
              "      <td>18446167067214817906</td>\n",
              "      <td>2017-10-17 10:05:00</td>\n",
              "      <td>2017-10-17 10:16:00</td>\n",
              "    </tr>\n",
              "  </tbody>\n",
              "</table>\n",
              "</div>"
            ],
            "text/plain": [
              "                        uid      first_visit_ts        first_buy_ts\n",
              "36522  18446167067214817906 2017-10-17 10:05:00 2017-10-17 10:16:00"
            ]
          },
          "metadata": {
            "tags": []
          },
          "execution_count": 69
        }
      ]
    },
    {
      "cell_type": "code",
      "metadata": {
        "id": "NN6IkPdVkgVn"
      },
      "source": [
        "# convert into dates into dates without ts\n",
        "first_visit_and_order['first_visit_ts'] =  first_visit_and_order['first_visit_ts'].dt.date.astype('datetime64[ns]')\n",
        "first_visit_and_order['first_buy_ts'] =  first_visit_and_order['first_buy_ts'].dt.date.astype('datetime64[ns]')"
      ],
      "execution_count": 70,
      "outputs": []
    },
    {
      "cell_type": "code",
      "metadata": {
        "id": "iWPLKsNElzmg"
      },
      "source": [
        "# add new col with diff from first visit to first buy:\n",
        "first_visit_and_order['days_passed_to_buy'] = (first_visit_and_order['first_buy_ts'] - first_visit_and_order['first_visit_ts']) / np.timedelta64(1,'D')"
      ],
      "execution_count": 71,
      "outputs": []
    },
    {
      "cell_type": "code",
      "metadata": {
        "id": "7LzUHga1mLsX"
      },
      "source": [
        "# as int:\n",
        "first_visit_and_order['days_passed_to_buy'] = first_visit_and_order['days_passed_to_buy'].astype('int')"
      ],
      "execution_count": 72,
      "outputs": []
    },
    {
      "cell_type": "code",
      "metadata": {
        "id": "bXVbYp9Jup3c"
      },
      "source": [
        "# add the main source_id column so use conversion by source:\n",
        "first_visit_and_order = first_visit_and_order.merge(source_id_per_user,on='uid')"
      ],
      "execution_count": 73,
      "outputs": []
    },
    {
      "cell_type": "code",
      "metadata": {
        "colab": {
          "base_uri": "https://localhost:8080/"
        },
        "id": "vVOkhOGg3YL-",
        "outputId": "c71747a1-8863-4d51-bbb6-0e6f9fb26cbe"
      },
      "source": [
        "first_visit_and_order.info() # look ok - eventhough the 4th columns is not defined as category we can proceed with our taks"
      ],
      "execution_count": 74,
      "outputs": [
        {
          "output_type": "stream",
          "text": [
            "<class 'pandas.core.frame.DataFrame'>\n",
            "Int64Index: 36523 entries, 0 to 36522\n",
            "Data columns (total 5 columns):\n",
            " #   Column              Non-Null Count  Dtype         \n",
            "---  ------              --------------  -----         \n",
            " 0   uid                 36523 non-null  uint64        \n",
            " 1   first_visit_ts      36523 non-null  datetime64[ns]\n",
            " 2   first_buy_ts        36523 non-null  datetime64[ns]\n",
            " 3   days_passed_to_buy  36523 non-null  int64         \n",
            " 4   main_source_id      36523 non-null  object        \n",
            "dtypes: datetime64[ns](2), int64(1), object(1), uint64(1)\n",
            "memory usage: 1.7+ MB\n"
          ],
          "name": "stdout"
        }
      ]
    },
    {
      "cell_type": "code",
      "metadata": {
        "id": "g8EYk1ew4cwp"
      },
      "source": [
        "# pviot table to shouw mean days passed till first purchase and number of users\n",
        "conversion_rate_first_buy = first_visit_and_order.pivot_table(index='main_source_id',values='days_passed_to_buy',aggfunc=['mean','count']).reset_index()"
      ],
      "execution_count": 75,
      "outputs": []
    },
    {
      "cell_type": "code",
      "metadata": {
        "colab": {
          "base_uri": "https://localhost:8080/",
          "height": 286
        },
        "id": "dRZ-np7762uG",
        "outputId": "d68c8d20-06b8-445d-96f1-f28193c687a6"
      },
      "source": [
        "conversion_rate_first_buy.columns = ['main_source_id','mean_days_to_buy','n_users']\n",
        "conversion_rate_first_buy.sort_values(by='mean_days_to_buy')"
      ],
      "execution_count": 76,
      "outputs": [
        {
          "output_type": "execute_result",
          "data": {
            "text/html": [
              "<div>\n",
              "<style scoped>\n",
              "    .dataframe tbody tr th:only-of-type {\n",
              "        vertical-align: middle;\n",
              "    }\n",
              "\n",
              "    .dataframe tbody tr th {\n",
              "        vertical-align: top;\n",
              "    }\n",
              "\n",
              "    .dataframe thead th {\n",
              "        text-align: right;\n",
              "    }\n",
              "</style>\n",
              "<table border=\"1\" class=\"dataframe\">\n",
              "  <thead>\n",
              "    <tr style=\"text-align: right;\">\n",
              "      <th></th>\n",
              "      <th>main_source_id</th>\n",
              "      <th>mean_days_to_buy</th>\n",
              "      <th>n_users</th>\n",
              "    </tr>\n",
              "  </thead>\n",
              "  <tbody>\n",
              "    <tr>\n",
              "      <th>6</th>\n",
              "      <td>7</td>\n",
              "      <td>0.000000</td>\n",
              "      <td>1</td>\n",
              "    </tr>\n",
              "    <tr>\n",
              "      <th>1</th>\n",
              "      <td>10</td>\n",
              "      <td>9.884432</td>\n",
              "      <td>1047</td>\n",
              "    </tr>\n",
              "    <tr>\n",
              "      <th>0</th>\n",
              "      <td>1</td>\n",
              "      <td>11.371920</td>\n",
              "      <td>2557</td>\n",
              "    </tr>\n",
              "    <tr>\n",
              "      <th>3</th>\n",
              "      <td>3</td>\n",
              "      <td>14.303340</td>\n",
              "      <td>8413</td>\n",
              "    </tr>\n",
              "    <tr>\n",
              "      <th>5</th>\n",
              "      <td>5</td>\n",
              "      <td>15.300570</td>\n",
              "      <td>8068</td>\n",
              "    </tr>\n",
              "    <tr>\n",
              "      <th>4</th>\n",
              "      <td>4</td>\n",
              "      <td>17.702341</td>\n",
              "      <td>10764</td>\n",
              "    </tr>\n",
              "    <tr>\n",
              "      <th>2</th>\n",
              "      <td>2</td>\n",
              "      <td>21.917845</td>\n",
              "      <td>3676</td>\n",
              "    </tr>\n",
              "    <tr>\n",
              "      <th>7</th>\n",
              "      <td>9</td>\n",
              "      <td>31.429644</td>\n",
              "      <td>1997</td>\n",
              "    </tr>\n",
              "  </tbody>\n",
              "</table>\n",
              "</div>"
            ],
            "text/plain": [
              "  main_source_id  mean_days_to_buy  n_users\n",
              "6              7          0.000000        1\n",
              "1             10          9.884432     1047\n",
              "0              1         11.371920     2557\n",
              "3              3         14.303340     8413\n",
              "5              5         15.300570     8068\n",
              "4              4         17.702341    10764\n",
              "2              2         21.917845     3676\n",
              "7              9         31.429644     1997"
            ]
          },
          "metadata": {
            "tags": []
          },
          "execution_count": 76
        }
      ]
    },
    {
      "cell_type": "code",
      "metadata": {
        "colab": {
          "base_uri": "https://localhost:8080/",
          "height": 468
        },
        "id": "ae5ZUlSJn7fF",
        "outputId": "1526cbd9-a64d-4000-d091-eb34f34a29b2"
      },
      "source": [
        "fig = plt.figure(figsize=(19,9)) # Create matplotlib figure\n",
        "\n",
        "ax = fig.add_subplot(111) # Create matplotlib axes\n",
        "ax2 = ax.twinx() # Create another axes that shares the same x-axis as ax.\n",
        "\n",
        "width = 0.4\n",
        "\n",
        "conversion_rate_first_buy.set_index('main_source_id').mean_days_to_buy.plot(kind='bar', color='purple', ax=ax, width=width, position=1,label='mean_days_to_buy')\n",
        "conversion_rate_first_buy.set_index('main_source_id').n_users.plot(kind='bar', color='blue', ax=ax2, width=width, position=0,label='n_users')\n",
        "\n",
        "ax.set_ylabel('average days passed till buy')\n",
        "ax2.set_ylabel('users')\n",
        "ax.legend()\n",
        "ax2.legend(loc=0)\n",
        "plt.show()"
      ],
      "execution_count": 77,
      "outputs": [
        {
          "output_type": "display_data",
          "data": {
            "image/png": "[encoded data removed]",
            "text/plain": [
              "<Figure size 1368x648 with 2 Axes>"
            ]
          },
          "metadata": {
            "tags": []
          }
        }
      ]
    },
    {
      "cell_type": "markdown",
      "metadata": {
        "id": "di9BDJJD5i5I"
      },
      "source": [
        "- only one user came from souce #7 and made a purchase on the same date\n",
        "- most buyers came ffrom source #4 where is the mean days to purchase is about 17"
      ]
    },
    {
      "cell_type": "markdown",
      "metadata": {
        "id": "ame3mAaPDvPK"
      },
      "source": [
        "### o\tHow many orders do they make during a given period of time?\n"
      ]
    },
    {
      "cell_type": "code",
      "metadata": {
        "id": "1OnxfFgAaD4U"
      },
      "source": [
        "# source_id_per_user\n",
        "first_visit_and_order_days_passed = first_visit_and_order.groupby(['days_passed_to_buy','main_source_id'])['uid'].count().reset_index()\n",
        "# orders"
      ],
      "execution_count": 78,
      "outputs": []
    },
    {
      "cell_type": "code",
      "metadata": {
        "id": "M3dLUMQOdSNa"
      },
      "source": [
        "first_visit_and_order_days_passed.rename(columns={'uid':'purchase'},inplace=True)"
      ],
      "execution_count": 79,
      "outputs": []
    },
    {
      "cell_type": "code",
      "metadata": {
        "colab": {
          "base_uri": "https://localhost:8080/",
          "height": 660
        },
        "id": "Ky4v25iQdic4",
        "outputId": "22e5b95e-cdc3-4016-d887-17ebb45c4417"
      },
      "source": [
        "first_visit_and_order_days_passed.iloc[:15].pivot('days_passed_to_buy','main_source_id','purchase').plot(\n",
        "    title='Purchase distribution per source and days passed since registration 0d and 1d',figsize=(19,12),linestyle='--',linewidth=1,marker='x')\n",
        "plt.xlim((-1,2))"
      ],
      "execution_count": 80,
      "outputs": [
        {
          "output_type": "execute_result",
          "data": {
            "text/plain": [
              "(-1.0, 2.0)"
            ]
          },
          "metadata": {
            "tags": []
          },
          "execution_count": 80
        },
        {
          "output_type": "display_data",
          "data": {
            "image/png": "[encoded data removed]",
            "text/plain": [
              "<Figure size 1368x864 with 1 Axes>"
            ]
          },
          "metadata": {
            "tags": []
          }
        }
      ]
    },
    {
      "cell_type": "code",
      "metadata": {
        "colab": {
          "base_uri": "https://localhost:8080/",
          "height": 668
        },
        "id": "IkB6e5RPgkBf",
        "outputId": "3d667132-597a-4866-b6be-ca9b8decdf06"
      },
      "source": [
        "first_visit_and_order_days_passed.iloc[15:214].pivot('days_passed_to_buy','main_source_id','purchase').plot(\n",
        "    title='Purchase distribution per source and days passed since registration 2d- 30d',figsize=(19,12),linestyle='-',linewidth=1,marker='x')\n"
      ],
      "execution_count": 81,
      "outputs": [
        {
          "output_type": "execute_result",
          "data": {
            "text/plain": [
              "<matplotlib.axes._subplots.AxesSubplot at 0x7f1f2e76ea20>"
            ]
          },
          "metadata": {
            "tags": []
          },
          "execution_count": 81
        },
        {
          "output_type": "display_data",
          "data": {
            "image/png": "[encoded data removed]",
            "text/plain": [
              "<Figure size 1368x864 with 1 Axes>"
            ]
          },
          "metadata": {
            "tags": []
          }
        }
      ]
    },
    {
      "cell_type": "markdown",
      "metadata": {
        "id": "bMpZx596hoT6"
      },
      "source": [
        "I've splitted the visualization into 2 periods\n",
        "- in both the trends remain the same as source #4 (purple line) is on top for all time periods\n",
        "- #10 is at the buttom for most of the time periods except period 0d\n",
        "- as time passes the chance to make a purchase are getting lower which is the reason for declination for all the sources"
      ]
    },
    {
      "cell_type": "markdown",
      "metadata": {
        "id": "dRfseqTmDy2y"
      },
      "source": [
        "### o\tWhat is the average purchase size?\n"
      ]
    },
    {
      "cell_type": "markdown",
      "metadata": {
        "id": "BJoKKaGgll5f"
      },
      "source": [
        "make it average purchase size for every time period (purchases from registration till purchase)"
      ]
    },
    {
      "cell_type": "code",
      "metadata": {
        "id": "RVTVCHViimW6"
      },
      "source": [
        "# add revenue column from orders (first purchase revenue per user)\n",
        "first_order_revenue = orders.groupby('uid').agg({'revenue':'first'}).reset_index()"
      ],
      "execution_count": 82,
      "outputs": []
    },
    {
      "cell_type": "code",
      "metadata": {
        "id": "MTAPZVgPjo0M"
      },
      "source": [
        "first_visit_and_order = first_visit_and_order.merge(first_order_revenue,on='uid')"
      ],
      "execution_count": 83,
      "outputs": []
    },
    {
      "cell_type": "code",
      "metadata": {
        "id": "54lJAUzjlOoy"
      },
      "source": [
        "revenue_pivot = first_visit_and_order.groupby('days_passed_to_buy').agg({'revenue':'mean'}).reset_index()"
      ],
      "execution_count": 84,
      "outputs": []
    },
    {
      "cell_type": "code",
      "metadata": {
        "colab": {
          "base_uri": "https://localhost:8080/",
          "height": 550
        },
        "id": "HY1kGBiKmHv6",
        "outputId": "6bbbde3c-ea03-49e6-c1cf-d154f806ef1d"
      },
      "source": [
        "# scatter plot:\n",
        "plt.figure(figsize=(19,10),facecolor='white')\n",
        "sns.scatterplot(x='days_passed_to_buy',y='revenue',data=revenue_pivot)"
      ],
      "execution_count": 85,
      "outputs": [
        {
          "output_type": "execute_result",
          "data": {
            "text/plain": [
              "<matplotlib.axes._subplots.AxesSubplot at 0x7f1f2e618358>"
            ]
          },
          "metadata": {
            "tags": []
          },
          "execution_count": 85
        },
        {
          "output_type": "display_data",
          "data": {
            "image/png": "[encoded data removed]",
            "text/plain": [
              "<Figure size 1368x720 with 1 Axes>"
            ]
          },
          "metadata": {
            "tags": []
          }
        }
      ]
    },
    {
      "cell_type": "markdown",
      "metadata": {
        "id": "hEUQ5oYcFnwB"
      },
      "source": [
        "- average revenue when days pass remain the same with no big differences except few outliners\n",
        "- reminder that it is an average revenue - which is also indicator that the services offered stay the same through the year"
      ]
    },
    {
      "cell_type": "markdown",
      "metadata": {
        "id": "wNmKxMjUD0L3"
      },
      "source": [
        "\n",
        "### o\tHow much money do they bring? (LTV)\n"
      ]
    },
    {
      "cell_type": "markdown",
      "metadata": {
        "id": "P8wKvhtKwaE8"
      },
      "source": [
        "assumption - margin rate = 40%"
      ]
    },
    {
      "cell_type": "code",
      "metadata": {
        "id": "r0o6rS1BeGWP"
      },
      "source": [
        "margin_rate = 0.4"
      ],
      "execution_count": 86,
      "outputs": []
    },
    {
      "cell_type": "code",
      "metadata": {
        "id": "zYif-s9kwCGN"
      },
      "source": [
        "# month_order column:\n",
        "orders['month_buy'] = orders['buy_ts'].astype('datetime64[M]')"
      ],
      "execution_count": 87,
      "outputs": []
    },
    {
      "cell_type": "code",
      "metadata": {
        "id": "d_bAgeVpQicG"
      },
      "source": [
        "# first order month to user:\n",
        "first_order_month = orders.groupby('uid').agg({'month_buy':'min'}).reset_index()"
      ],
      "execution_count": 88,
      "outputs": []
    },
    {
      "cell_type": "code",
      "metadata": {
        "id": "pfdrGRsyYP9c"
      },
      "source": [
        "first_order_month.rename(columns={'month_buy':'first_month_buy'},inplace=True)"
      ],
      "execution_count": 89,
      "outputs": []
    },
    {
      "cell_type": "code",
      "metadata": {
        "id": "8gBk2tbCYeS2"
      },
      "source": [
        "# cohort define:\n",
        "cohort_sizes = first_order_month.groupby('first_month_buy').agg({'uid':'nunique'}).reset_index()\n",
        "cohort_sizes.columns = ['first_month_buy','n_buyers']"
      ],
      "execution_count": 90,
      "outputs": []
    },
    {
      "cell_type": "code",
      "metadata": {
        "id": "cgiTn1IuY2Ri"
      },
      "source": [
        "# orders add column of first month buy:\n",
        "orders = orders.merge(first_order_month,on='uid')"
      ],
      "execution_count": 91,
      "outputs": []
    },
    {
      "cell_type": "code",
      "metadata": {
        "id": "tdYXL8npZZSN"
      },
      "source": [
        "# group orders into cohorts\n",
        "cohorts = orders.groupby(['first_month_buy','month_buy']).agg({'revenue':'sum'}).reset_index()"
      ],
      "execution_count": 92,
      "outputs": []
    },
    {
      "cell_type": "code",
      "metadata": {
        "id": "xYxoO0RZa4iO"
      },
      "source": [
        "# merge cohorts & cohorts_sizes\n",
        "report = pd.merge(cohort_sizes,cohorts,on='first_month_buy') "
      ],
      "execution_count": 93,
      "outputs": []
    },
    {
      "cell_type": "code",
      "metadata": {
        "id": "SO3hgflpd6B6"
      },
      "source": [
        "# gross profit calculation:\n",
        "report['gp'] = report['revenue'] * margin_rate"
      ],
      "execution_count": 94,
      "outputs": []
    },
    {
      "cell_type": "code",
      "metadata": {
        "id": "aiHbhvC-eSTy"
      },
      "source": [
        "# age in month term:\n",
        "report['age'] = (report['month_buy'] - report['first_month_buy']) / np.timedelta64(1, 'M')\n",
        "report['age'] = report['age'].round().astype('int')"
      ],
      "execution_count": 95,
      "outputs": []
    },
    {
      "cell_type": "code",
      "metadata": {
        "id": "a4iDh59Vem9j"
      },
      "source": [
        "# now for life time value:\n",
        "report['ltv'] = report['gp'] / report['n_buyers']"
      ],
      "execution_count": 96,
      "outputs": []
    },
    {
      "cell_type": "code",
      "metadata": {
        "colab": {
          "base_uri": "https://localhost:8080/",
          "height": 465
        },
        "id": "O87wwsLuewNX",
        "outputId": "d7a7088c-eb32-4d8d-8b7d-3ec8f2293954"
      },
      "source": [
        "result = report.pivot_table(index='first_month_buy',columns='age',values='ltv',aggfunc='mean').cumsum(axis=1).round(2).fillna('')\n",
        "result"
      ],
      "execution_count": 97,
      "outputs": [
        {
          "output_type": "execute_result",
          "data": {
            "text/html": [
              "<div>\n",
              "<style scoped>\n",
              "    .dataframe tbody tr th:only-of-type {\n",
              "        vertical-align: middle;\n",
              "    }\n",
              "\n",
              "    .dataframe tbody tr th {\n",
              "        vertical-align: top;\n",
              "    }\n",
              "\n",
              "    .dataframe thead th {\n",
              "        text-align: right;\n",
              "    }\n",
              "</style>\n",
              "<table border=\"1\" class=\"dataframe\">\n",
              "  <thead>\n",
              "    <tr style=\"text-align: right;\">\n",
              "      <th>age</th>\n",
              "      <th>0</th>\n",
              "      <th>1</th>\n",
              "      <th>2</th>\n",
              "      <th>3</th>\n",
              "      <th>4</th>\n",
              "      <th>5</th>\n",
              "      <th>6</th>\n",
              "      <th>7</th>\n",
              "      <th>8</th>\n",
              "      <th>9</th>\n",
              "      <th>10</th>\n",
              "      <th>11</th>\n",
              "    </tr>\n",
              "    <tr>\n",
              "      <th>first_month_buy</th>\n",
              "      <th></th>\n",
              "      <th></th>\n",
              "      <th></th>\n",
              "      <th></th>\n",
              "      <th></th>\n",
              "      <th></th>\n",
              "      <th></th>\n",
              "      <th></th>\n",
              "      <th></th>\n",
              "      <th></th>\n",
              "      <th></th>\n",
              "      <th></th>\n",
              "    </tr>\n",
              "  </thead>\n",
              "  <tbody>\n",
              "    <tr>\n",
              "      <th>2017-06-01</th>\n",
              "      <td>1.89</td>\n",
              "      <td>2.08</td>\n",
              "      <td>2.26</td>\n",
              "      <td>2.64</td>\n",
              "      <td>3.05</td>\n",
              "      <td>3.34</td>\n",
              "      <td>3.72</td>\n",
              "      <td>3.96</td>\n",
              "      <td>4.18</td>\n",
              "      <td>4.42</td>\n",
              "      <td>4.65</td>\n",
              "      <td>4.75</td>\n",
              "    </tr>\n",
              "    <tr>\n",
              "      <th>2017-07-01</th>\n",
              "      <td>2.40</td>\n",
              "      <td>2.54</td>\n",
              "      <td>2.79</td>\n",
              "      <td>2.93</td>\n",
              "      <td>3</td>\n",
              "      <td>3.06</td>\n",
              "      <td>3.11</td>\n",
              "      <td>3.17</td>\n",
              "      <td>3.23</td>\n",
              "      <td>3.29</td>\n",
              "      <td>3.35</td>\n",
              "      <td></td>\n",
              "    </tr>\n",
              "    <tr>\n",
              "      <th>2017-08-01</th>\n",
              "      <td>2.11</td>\n",
              "      <td>2.3</td>\n",
              "      <td>2.48</td>\n",
              "      <td>2.64</td>\n",
              "      <td>2.84</td>\n",
              "      <td>2.95</td>\n",
              "      <td>3.03</td>\n",
              "      <td>3.2</td>\n",
              "      <td>3.31</td>\n",
              "      <td>3.39</td>\n",
              "      <td></td>\n",
              "      <td></td>\n",
              "    </tr>\n",
              "    <tr>\n",
              "      <th>2017-09-01</th>\n",
              "      <td>2.26</td>\n",
              "      <td>2.7</td>\n",
              "      <td>2.91</td>\n",
              "      <td>4.5</td>\n",
              "      <td>4.66</td>\n",
              "      <td>4.92</td>\n",
              "      <td>5.2</td>\n",
              "      <td>5.3</td>\n",
              "      <td>5.37</td>\n",
              "      <td></td>\n",
              "      <td></td>\n",
              "      <td></td>\n",
              "    </tr>\n",
              "    <tr>\n",
              "      <th>2017-10-01</th>\n",
              "      <td>2.00</td>\n",
              "      <td>2.22</td>\n",
              "      <td>2.29</td>\n",
              "      <td>2.36</td>\n",
              "      <td>2.42</td>\n",
              "      <td>2.46</td>\n",
              "      <td>2.5</td>\n",
              "      <td>2.54</td>\n",
              "      <td></td>\n",
              "      <td></td>\n",
              "      <td></td>\n",
              "      <td></td>\n",
              "    </tr>\n",
              "    <tr>\n",
              "      <th>2017-11-01</th>\n",
              "      <td>2.06</td>\n",
              "      <td>2.22</td>\n",
              "      <td>2.3</td>\n",
              "      <td>2.43</td>\n",
              "      <td>2.49</td>\n",
              "      <td>2.51</td>\n",
              "      <td>2.56</td>\n",
              "      <td></td>\n",
              "      <td></td>\n",
              "      <td></td>\n",
              "      <td></td>\n",
              "      <td></td>\n",
              "    </tr>\n",
              "    <tr>\n",
              "      <th>2017-12-01</th>\n",
              "      <td>1.90</td>\n",
              "      <td>2</td>\n",
              "      <td>2.37</td>\n",
              "      <td>2.8</td>\n",
              "      <td>2.92</td>\n",
              "      <td>3.06</td>\n",
              "      <td></td>\n",
              "      <td></td>\n",
              "      <td></td>\n",
              "      <td></td>\n",
              "      <td></td>\n",
              "      <td></td>\n",
              "    </tr>\n",
              "    <tr>\n",
              "      <th>2018-01-01</th>\n",
              "      <td>1.65</td>\n",
              "      <td>1.77</td>\n",
              "      <td>1.89</td>\n",
              "      <td>1.95</td>\n",
              "      <td>1.98</td>\n",
              "      <td></td>\n",
              "      <td></td>\n",
              "      <td></td>\n",
              "      <td></td>\n",
              "      <td></td>\n",
              "      <td></td>\n",
              "      <td></td>\n",
              "    </tr>\n",
              "    <tr>\n",
              "      <th>2018-02-01</th>\n",
              "      <td>1.66</td>\n",
              "      <td>1.77</td>\n",
              "      <td>1.81</td>\n",
              "      <td>1.84</td>\n",
              "      <td></td>\n",
              "      <td></td>\n",
              "      <td></td>\n",
              "      <td></td>\n",
              "      <td></td>\n",
              "      <td></td>\n",
              "      <td></td>\n",
              "      <td></td>\n",
              "    </tr>\n",
              "    <tr>\n",
              "      <th>2018-03-01</th>\n",
              "      <td>1.94</td>\n",
              "      <td>2.06</td>\n",
              "      <td>2.18</td>\n",
              "      <td></td>\n",
              "      <td></td>\n",
              "      <td></td>\n",
              "      <td></td>\n",
              "      <td></td>\n",
              "      <td></td>\n",
              "      <td></td>\n",
              "      <td></td>\n",
              "      <td></td>\n",
              "    </tr>\n",
              "    <tr>\n",
              "      <th>2018-04-01</th>\n",
              "      <td>1.86</td>\n",
              "      <td>2.08</td>\n",
              "      <td></td>\n",
              "      <td></td>\n",
              "      <td></td>\n",
              "      <td></td>\n",
              "      <td></td>\n",
              "      <td></td>\n",
              "      <td></td>\n",
              "      <td></td>\n",
              "      <td></td>\n",
              "      <td></td>\n",
              "    </tr>\n",
              "    <tr>\n",
              "      <th>2018-05-01</th>\n",
              "      <td>1.86</td>\n",
              "      <td></td>\n",
              "      <td></td>\n",
              "      <td></td>\n",
              "      <td></td>\n",
              "      <td></td>\n",
              "      <td></td>\n",
              "      <td></td>\n",
              "      <td></td>\n",
              "      <td></td>\n",
              "      <td></td>\n",
              "      <td></td>\n",
              "    </tr>\n",
              "    <tr>\n",
              "      <th>2018-06-01</th>\n",
              "      <td>1.37</td>\n",
              "      <td></td>\n",
              "      <td></td>\n",
              "      <td></td>\n",
              "      <td></td>\n",
              "      <td></td>\n",
              "      <td></td>\n",
              "      <td></td>\n",
              "      <td></td>\n",
              "      <td></td>\n",
              "      <td></td>\n",
              "      <td></td>\n",
              "    </tr>\n",
              "  </tbody>\n",
              "</table>\n",
              "</div>"
            ],
            "text/plain": [
              "age                0     1     2     3     4   ...    7     8     9     10    11\n",
              "first_month_buy                                ...                              \n",
              "2017-06-01       1.89  2.08  2.26  2.64  3.05  ...  3.96  4.18  4.42  4.65  4.75\n",
              "2017-07-01       2.40  2.54  2.79  2.93     3  ...  3.17  3.23  3.29  3.35      \n",
              "2017-08-01       2.11   2.3  2.48  2.64  2.84  ...   3.2  3.31  3.39            \n",
              "2017-09-01       2.26   2.7  2.91   4.5  4.66  ...   5.3  5.37                  \n",
              "2017-10-01       2.00  2.22  2.29  2.36  2.42  ...  2.54                        \n",
              "2017-11-01       2.06  2.22   2.3  2.43  2.49  ...                              \n",
              "2017-12-01       1.90     2  2.37   2.8  2.92  ...                              \n",
              "2018-01-01       1.65  1.77  1.89  1.95  1.98  ...                              \n",
              "2018-02-01       1.66  1.77  1.81  1.84        ...                              \n",
              "2018-03-01       1.94  2.06  2.18              ...                              \n",
              "2018-04-01       1.86  2.08                    ...                              \n",
              "2018-05-01       1.86                          ...                              \n",
              "2018-06-01       1.37                          ...                              \n",
              "\n",
              "[13 rows x 12 columns]"
            ]
          },
          "metadata": {
            "tags": []
          },
          "execution_count": 97
        }
      ]
    },
    {
      "cell_type": "markdown",
      "metadata": {
        "id": "K2qbDZlSrl1V"
      },
      "source": [
        "- pivot above showing us the when ltv starts to be profitable for us\n",
        "- from age 0 the gross profit is above 1 which means from age 0 we in good start position\n",
        "- profits change through time and ages. Septemper is with the highest score total - 5.37 although includes only 8 periods"
      ]
    },
    {
      "cell_type": "markdown",
      "metadata": {
        "id": "r65JEt3LuJfV"
      },
      "source": [
        "## marketing"
      ]
    },
    {
      "cell_type": "markdown",
      "metadata": {
        "id": "jF3ROhtJuwbM"
      },
      "source": [
        "### o\tHow much money was spent? Overall/per source/over time"
      ]
    },
    {
      "cell_type": "code",
      "metadata": {
        "colab": {
          "base_uri": "https://localhost:8080/",
          "height": 196
        },
        "id": "epR7O1UNuzlk",
        "outputId": "bcfb81a9-2eaa-45f3-d808-e2c4c3d356d8"
      },
      "source": [
        "# look into costs:\n",
        "costs.head(5)"
      ],
      "execution_count": 98,
      "outputs": [
        {
          "output_type": "execute_result",
          "data": {
            "text/html": [
              "<div>\n",
              "<style scoped>\n",
              "    .dataframe tbody tr th:only-of-type {\n",
              "        vertical-align: middle;\n",
              "    }\n",
              "\n",
              "    .dataframe tbody tr th {\n",
              "        vertical-align: top;\n",
              "    }\n",
              "\n",
              "    .dataframe thead th {\n",
              "        text-align: right;\n",
              "    }\n",
              "</style>\n",
              "<table border=\"1\" class=\"dataframe\">\n",
              "  <thead>\n",
              "    <tr style=\"text-align: right;\">\n",
              "      <th></th>\n",
              "      <th>source_id</th>\n",
              "      <th>dt</th>\n",
              "      <th>costs</th>\n",
              "    </tr>\n",
              "  </thead>\n",
              "  <tbody>\n",
              "    <tr>\n",
              "      <th>0</th>\n",
              "      <td>1</td>\n",
              "      <td>2017-06-01</td>\n",
              "      <td>75.20</td>\n",
              "    </tr>\n",
              "    <tr>\n",
              "      <th>1</th>\n",
              "      <td>1</td>\n",
              "      <td>2017-06-02</td>\n",
              "      <td>62.25</td>\n",
              "    </tr>\n",
              "    <tr>\n",
              "      <th>2</th>\n",
              "      <td>1</td>\n",
              "      <td>2017-06-03</td>\n",
              "      <td>36.53</td>\n",
              "    </tr>\n",
              "    <tr>\n",
              "      <th>3</th>\n",
              "      <td>1</td>\n",
              "      <td>2017-06-04</td>\n",
              "      <td>55.00</td>\n",
              "    </tr>\n",
              "    <tr>\n",
              "      <th>4</th>\n",
              "      <td>1</td>\n",
              "      <td>2017-06-05</td>\n",
              "      <td>57.08</td>\n",
              "    </tr>\n",
              "  </tbody>\n",
              "</table>\n",
              "</div>"
            ],
            "text/plain": [
              "  source_id         dt  costs\n",
              "0         1 2017-06-01  75.20\n",
              "1         1 2017-06-02  62.25\n",
              "2         1 2017-06-03  36.53\n",
              "3         1 2017-06-04  55.00\n",
              "4         1 2017-06-05  57.08"
            ]
          },
          "metadata": {
            "tags": []
          },
          "execution_count": 98
        }
      ]
    },
    {
      "cell_type": "code",
      "metadata": {
        "id": "X8kMl4TYvl6N"
      },
      "source": [
        "# month for costs:\n",
        "costs['month'] = costs['dt'].astype('datetime64[M]')"
      ],
      "execution_count": 99,
      "outputs": []
    },
    {
      "cell_type": "code",
      "metadata": {
        "id": "DD6knQpawGbZ"
      },
      "source": [
        "# lets look how much money spent every month:\n",
        "costs_per_month = costs.groupby('month').agg({'costs':'sum'}).reset_index()"
      ],
      "execution_count": 100,
      "outputs": []
    },
    {
      "cell_type": "code",
      "metadata": {
        "colab": {
          "base_uri": "https://localhost:8080/",
          "height": 437
        },
        "id": "B2JXdvJrxcLU",
        "outputId": "f0c7fd0e-52cc-45fc-b845-903006743078"
      },
      "source": [
        "# graph:\n",
        "fig , ax = plt.subplots(figsize=(22,9),facecolor='white')\n",
        "ax.vlines(x=costs_per_month['month'],ymin=0,ymax=costs_per_month['costs'],colors='grey',alpha=0.8,linewidth = 2)\n",
        "ax.scatter(x=costs_per_month['month'],y=costs_per_month['costs'],color='blue',alpha=0.8)\n",
        "ax.set_title('Monthly costs',fontdict={'size':20})\n",
        "ax.set_ylabel('Cost')\n",
        "ax.set_xticks(costs_per_month['month'])\n",
        "ax.set_xticklabels(costs_per_month['month'],rotation=0,fontdict={'size':12})\n",
        "ax.xaxis.set_major_formatter(matplotlib.dates.DateFormatter(\"\\n%Y-%m\"))\n",
        "for row in costs_per_month.itertuples():\n",
        "  ax.text(row.month,row.costs+800,s=round(row.costs),fontdict={'rotation':0,'size':14,'ha':'center'})"
      ],
      "execution_count": 101,
      "outputs": [
        {
          "output_type": "display_data",
          "data": {
            "image/png": "[encoded data removed]",
            "text/plain": [
              "<Figure size 1584x648 with 1 Axes>"
            ]
          },
          "metadata": {
            "tags": []
          }
        }
      ]
    },
    {
      "cell_type": "markdown",
      "metadata": {
        "id": "7RnNMjv22VMd"
      },
      "source": [
        "- monthly costs increase can be a good sign in case that the activity is flourishes. increase started in 2017-09 till 2017-12\n",
        "- costs declination can be a sign to either activity is going to shut or re-organization that impact the company in a good way"
      ]
    },
    {
      "cell_type": "markdown",
      "metadata": {
        "id": "fcDTVOKYu2G2"
      },
      "source": [
        "### cac + romi (roi)"
      ]
    },
    {
      "cell_type": "markdown",
      "metadata": {
        "id": "UUsHuCK4svVt"
      },
      "source": [
        "__continue calculation of cac & romi:__"
      ]
    },
    {
      "cell_type": "code",
      "metadata": {
        "id": "jn_N9CevlIfj"
      },
      "source": [
        "# total monthly costs:\n",
        "monthly_costs = costs.groupby('month').sum()"
      ],
      "execution_count": 102,
      "outputs": []
    },
    {
      "cell_type": "code",
      "metadata": {
        "id": "gsSmqlJnpztr"
      },
      "source": [
        "# assign monthly_costs yable to existing report table per month.\n",
        "# it is done in order to use the output variable in the appropriate way\n",
        "report = pd.merge(report, monthly_costs, left_on='first_month_buy', right_on='month')"
      ],
      "execution_count": 103,
      "outputs": []
    },
    {
      "cell_type": "code",
      "metadata": {
        "id": "YUFwwT-GqE7T"
      },
      "source": [
        "# customer acquisition cost per user\n",
        "report['cac'] = report['costs'] / report['n_buyers']  # cac"
      ],
      "execution_count": 104,
      "outputs": []
    },
    {
      "cell_type": "code",
      "metadata": {
        "id": "oNEyJtU2qWFW"
      },
      "source": [
        "# romi calculayion in order to get the return on investment per user\n",
        "report['romi'] = report['ltv'] / report['cac'] # romi"
      ],
      "execution_count": 105,
      "outputs": []
    },
    {
      "cell_type": "code",
      "metadata": {
        "id": "w7ozmnkeqr4P"
      },
      "source": [
        "# using pivot_table to sort new table with existing data:\n",
        "output = report.pivot_table(\n",
        "    index='first_month_buy', \n",
        "    columns='age', \n",
        "    values='romi', \n",
        "    aggfunc='mean').cumsum(axis=1).round(2)"
      ],
      "execution_count": 106,
      "outputs": []
    },
    {
      "cell_type": "code",
      "metadata": {
        "colab": {
          "base_uri": "https://localhost:8080/",
          "height": 435
        },
        "id": "CGwpJWowZuhP",
        "outputId": "11698900-9a45-45f8-a645-5b739147888a"
      },
      "source": [
        "output.fillna(\"\")"
      ],
      "execution_count": 107,
      "outputs": [
        {
          "output_type": "execute_result",
          "data": {
            "text/html": [
              "<div>\n",
              "<style scoped>\n",
              "    .dataframe tbody tr th:only-of-type {\n",
              "        vertical-align: middle;\n",
              "    }\n",
              "\n",
              "    .dataframe tbody tr th {\n",
              "        vertical-align: top;\n",
              "    }\n",
              "\n",
              "    .dataframe thead th {\n",
              "        text-align: right;\n",
              "    }\n",
              "</style>\n",
              "<table border=\"1\" class=\"dataframe\">\n",
              "  <thead>\n",
              "    <tr style=\"text-align: right;\">\n",
              "      <th>age</th>\n",
              "      <th>0</th>\n",
              "      <th>1</th>\n",
              "      <th>2</th>\n",
              "      <th>3</th>\n",
              "      <th>4</th>\n",
              "      <th>5</th>\n",
              "      <th>6</th>\n",
              "      <th>7</th>\n",
              "      <th>8</th>\n",
              "      <th>9</th>\n",
              "      <th>10</th>\n",
              "      <th>11</th>\n",
              "    </tr>\n",
              "    <tr>\n",
              "      <th>first_month_buy</th>\n",
              "      <th></th>\n",
              "      <th></th>\n",
              "      <th></th>\n",
              "      <th></th>\n",
              "      <th></th>\n",
              "      <th></th>\n",
              "      <th></th>\n",
              "      <th></th>\n",
              "      <th></th>\n",
              "      <th></th>\n",
              "      <th></th>\n",
              "      <th></th>\n",
              "    </tr>\n",
              "  </thead>\n",
              "  <tbody>\n",
              "    <tr>\n",
              "      <th>2017-06-01</th>\n",
              "      <td>0.21</td>\n",
              "      <td>0.23</td>\n",
              "      <td>0.25</td>\n",
              "      <td>0.3</td>\n",
              "      <td>0.34</td>\n",
              "      <td>0.38</td>\n",
              "      <td>0.42</td>\n",
              "      <td>0.44</td>\n",
              "      <td>0.47</td>\n",
              "      <td>0.5</td>\n",
              "      <td>0.52</td>\n",
              "      <td>0.53</td>\n",
              "    </tr>\n",
              "    <tr>\n",
              "      <th>2017-07-01</th>\n",
              "      <td>0.25</td>\n",
              "      <td>0.27</td>\n",
              "      <td>0.29</td>\n",
              "      <td>0.31</td>\n",
              "      <td>0.32</td>\n",
              "      <td>0.32</td>\n",
              "      <td>0.33</td>\n",
              "      <td>0.33</td>\n",
              "      <td>0.34</td>\n",
              "      <td>0.35</td>\n",
              "      <td>0.35</td>\n",
              "      <td></td>\n",
              "    </tr>\n",
              "    <tr>\n",
              "      <th>2017-08-01</th>\n",
              "      <td>0.20</td>\n",
              "      <td>0.21</td>\n",
              "      <td>0.23</td>\n",
              "      <td>0.24</td>\n",
              "      <td>0.26</td>\n",
              "      <td>0.27</td>\n",
              "      <td>0.28</td>\n",
              "      <td>0.3</td>\n",
              "      <td>0.31</td>\n",
              "      <td>0.31</td>\n",
              "      <td></td>\n",
              "      <td></td>\n",
              "    </tr>\n",
              "    <tr>\n",
              "      <th>2017-09-01</th>\n",
              "      <td>0.24</td>\n",
              "      <td>0.29</td>\n",
              "      <td>0.31</td>\n",
              "      <td>0.48</td>\n",
              "      <td>0.49</td>\n",
              "      <td>0.52</td>\n",
              "      <td>0.55</td>\n",
              "      <td>0.56</td>\n",
              "      <td>0.57</td>\n",
              "      <td></td>\n",
              "      <td></td>\n",
              "      <td></td>\n",
              "    </tr>\n",
              "    <tr>\n",
              "      <th>2017-10-01</th>\n",
              "      <td>0.24</td>\n",
              "      <td>0.26</td>\n",
              "      <td>0.27</td>\n",
              "      <td>0.28</td>\n",
              "      <td>0.29</td>\n",
              "      <td>0.29</td>\n",
              "      <td>0.3</td>\n",
              "      <td>0.3</td>\n",
              "      <td></td>\n",
              "      <td></td>\n",
              "      <td></td>\n",
              "      <td></td>\n",
              "    </tr>\n",
              "    <tr>\n",
              "      <th>2017-11-01</th>\n",
              "      <td>0.22</td>\n",
              "      <td>0.24</td>\n",
              "      <td>0.25</td>\n",
              "      <td>0.26</td>\n",
              "      <td>0.27</td>\n",
              "      <td>0.27</td>\n",
              "      <td>0.28</td>\n",
              "      <td></td>\n",
              "      <td></td>\n",
              "      <td></td>\n",
              "      <td></td>\n",
              "      <td></td>\n",
              "    </tr>\n",
              "    <tr>\n",
              "      <th>2017-12-01</th>\n",
              "      <td>0.22</td>\n",
              "      <td>0.23</td>\n",
              "      <td>0.27</td>\n",
              "      <td>0.32</td>\n",
              "      <td>0.33</td>\n",
              "      <td>0.35</td>\n",
              "      <td></td>\n",
              "      <td></td>\n",
              "      <td></td>\n",
              "      <td></td>\n",
              "      <td></td>\n",
              "      <td></td>\n",
              "    </tr>\n",
              "    <tr>\n",
              "      <th>2018-01-01</th>\n",
              "      <td>0.17</td>\n",
              "      <td>0.18</td>\n",
              "      <td>0.19</td>\n",
              "      <td>0.2</td>\n",
              "      <td>0.2</td>\n",
              "      <td></td>\n",
              "      <td></td>\n",
              "      <td></td>\n",
              "      <td></td>\n",
              "      <td></td>\n",
              "      <td></td>\n",
              "      <td></td>\n",
              "    </tr>\n",
              "    <tr>\n",
              "      <th>2018-02-01</th>\n",
              "      <td>0.19</td>\n",
              "      <td>0.2</td>\n",
              "      <td>0.2</td>\n",
              "      <td>0.2</td>\n",
              "      <td></td>\n",
              "      <td></td>\n",
              "      <td></td>\n",
              "      <td></td>\n",
              "      <td></td>\n",
              "      <td></td>\n",
              "      <td></td>\n",
              "      <td></td>\n",
              "    </tr>\n",
              "    <tr>\n",
              "      <th>2018-03-01</th>\n",
              "      <td>0.22</td>\n",
              "      <td>0.24</td>\n",
              "      <td>0.25</td>\n",
              "      <td></td>\n",
              "      <td></td>\n",
              "      <td></td>\n",
              "      <td></td>\n",
              "      <td></td>\n",
              "      <td></td>\n",
              "      <td></td>\n",
              "      <td></td>\n",
              "      <td></td>\n",
              "    </tr>\n",
              "    <tr>\n",
              "      <th>2018-04-01</th>\n",
              "      <td>0.19</td>\n",
              "      <td>0.21</td>\n",
              "      <td></td>\n",
              "      <td></td>\n",
              "      <td></td>\n",
              "      <td></td>\n",
              "      <td></td>\n",
              "      <td></td>\n",
              "      <td></td>\n",
              "      <td></td>\n",
              "      <td></td>\n",
              "      <td></td>\n",
              "    </tr>\n",
              "    <tr>\n",
              "      <th>2018-05-01</th>\n",
              "      <td>0.25</td>\n",
              "      <td></td>\n",
              "      <td></td>\n",
              "      <td></td>\n",
              "      <td></td>\n",
              "      <td></td>\n",
              "      <td></td>\n",
              "      <td></td>\n",
              "      <td></td>\n",
              "      <td></td>\n",
              "      <td></td>\n",
              "      <td></td>\n",
              "    </tr>\n",
              "  </tbody>\n",
              "</table>\n",
              "</div>"
            ],
            "text/plain": [
              "age                0     1     2     3     4   ...    7     8     9     10    11\n",
              "first_month_buy                                ...                              \n",
              "2017-06-01       0.21  0.23  0.25   0.3  0.34  ...  0.44  0.47   0.5  0.52  0.53\n",
              "2017-07-01       0.25  0.27  0.29  0.31  0.32  ...  0.33  0.34  0.35  0.35      \n",
              "2017-08-01       0.20  0.21  0.23  0.24  0.26  ...   0.3  0.31  0.31            \n",
              "2017-09-01       0.24  0.29  0.31  0.48  0.49  ...  0.56  0.57                  \n",
              "2017-10-01       0.24  0.26  0.27  0.28  0.29  ...   0.3                        \n",
              "2017-11-01       0.22  0.24  0.25  0.26  0.27  ...                              \n",
              "2017-12-01       0.22  0.23  0.27  0.32  0.33  ...                              \n",
              "2018-01-01       0.17  0.18  0.19   0.2   0.2  ...                              \n",
              "2018-02-01       0.19   0.2   0.2   0.2        ...                              \n",
              "2018-03-01       0.22  0.24  0.25              ...                              \n",
              "2018-04-01       0.19  0.21                    ...                              \n",
              "2018-05-01       0.25                          ...                              \n",
              "\n",
              "[12 rows x 12 columns]"
            ]
          },
          "metadata": {
            "tags": []
          },
          "execution_count": 107
        }
      ]
    },
    {
      "cell_type": "code",
      "metadata": {
        "colab": {
          "base_uri": "https://localhost:8080/",
          "height": 590
        },
        "id": "ESGZ2NfUn7fW",
        "outputId": "02c3acd4-145a-4bd3-efce-1eff00d2abf9"
      },
      "source": [
        "# heatmap:\n",
        "sns.set(style='white')\n",
        "plt.figure(figsize=(13, 9))\n",
        "plt.title('Cohorts: LTV')\n",
        "sns.heatmap(output, annot=True, fmt='.1%', linewidths=1, linecolor='gray',\n",
        "            cmap=\"YlGnBu\",\n",
        "            yticklabels=output.reset_index()['first_month_buy'].dt.strftime('%m-%Y'))"
      ],
      "execution_count": 108,
      "outputs": [
        {
          "output_type": "execute_result",
          "data": {
            "text/plain": [
              "<matplotlib.axes._subplots.AxesSubplot at 0x7f1f2ec02cc0>"
            ]
          },
          "metadata": {
            "tags": []
          },
          "execution_count": 108
        },
        {
          "output_type": "display_data",
          "data": {
            "image/png": "[encoded data removed]",
            "text/plain": [
              "<Figure size 936x648 with 2 Axes>"
            ]
          },
          "metadata": {
            "tags": []
          }
        }
      ]
    },
    {
      "cell_type": "markdown",
      "metadata": {
        "id": "bk7cIazhtYDz"
      },
      "source": [
        "- none of the cohorts paid off\n",
        "- unlike ltv result - when we take the costs in our calculation the picture looks different\n",
        "- return on ivnestment is the most crucial KPI in any buissness"
      ]
    },
    {
      "cell_type": "markdown",
      "metadata": {
        "id": "IZAntMkDn7fY"
      },
      "source": [
        "# Summary:\n",
        "- In this analysis we started from the very first going deeper and deeper with each section\n",
        "Our first intresting analysis was noticed when we created the graph showing us the distribution of users between desktop (pc) and touch (smartphones) where the trend was very simmiliar but the amounts of users was much higher with desktop rather than touch devices.\n",
        "- continue with visits table we calculated retentions rates. retention rates are number of users (in reletive manners) when we tried to see for users behavior and when its changing. users behavior might be affected by many reasons like: seasonality which impact our buissness as more external references while bad traffic sources may indicate to internal references. in our project the retention rate that was divided by cohorts was not with figures we might expect from a prosperous buissness and was with low rates\n",
        "- sales data gave us indications and was examined from sources point of view where we could easily notice for good sources with high traffic and also minor sources as well. sources 3 + 4 + 5 is the top 3 leaders & are considered as the main traffic sources\n",
        "- next we jumped into ltv, cac and romi metric while romi is on top of this metrics because this one is very intrested by the investors and big figures on this part can make firm grow bigger and investors happy. on the downside - unporffitable organization can be closed over time when not showing gains with time. in Afisha although we had good ltv rate we were pritty dissapointed to acknowledge that the romi is low and the buissness seems to be not profitable from cohort to cohort. in top was reached to 50% at best when our aim is at least 100% (breakeven point)"
      ]
    }
  ]
}